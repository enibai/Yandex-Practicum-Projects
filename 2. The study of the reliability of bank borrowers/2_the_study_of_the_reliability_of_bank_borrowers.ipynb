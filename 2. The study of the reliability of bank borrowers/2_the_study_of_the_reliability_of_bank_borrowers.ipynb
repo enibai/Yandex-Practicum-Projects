{
 "cells": [
  {
   "cell_type": "markdown",
   "id": "949afca7",
   "metadata": {},
   "source": [
    "# Исследование надёжности заёмщиков."
   ]
  },
  {
   "cell_type": "markdown",
   "id": "e6379cbf",
   "metadata": {
    "toc": true
   },
   "source": [
    "<h1>Оглавление:<span class=\"tocSkip\"></span></h1>\n",
    "<div class=\"toc\"><ul class=\"toc-item\"><li><ul class=\"toc-item\"><li><span><a href=\"#Описание-проекта:\" data-toc-modified-id=\"Описание-проекта:-0.1\"><span class=\"toc-item-num\">0.1&nbsp;&nbsp;</span>Описание проекта:</a></span></li><li><span><a href=\"#Описание-данных:\" data-toc-modified-id=\"Описание-данных:-0.2\"><span class=\"toc-item-num\">0.2&nbsp;&nbsp;</span>Описание данных:</a></span></li></ul></li><li><span><a href=\"#Шаг-1.-Импортирую-необходимые-библиотеки,-открываю-файл-с-данными-и-изучаю-общую-информацию.\" data-toc-modified-id=\"Шаг-1.-Импортирую-необходимые-библиотеки,-открываю-файл-с-данными-и-изучаю-общую-информацию.-1\"><span class=\"toc-item-num\">1&nbsp;&nbsp;</span>Шаг 1. Импортирую необходимые библиотеки, открываю файл с данными и изучаю общую информацию.</a></span><ul class=\"toc-item\"><li><span><a href=\"#Вывод:\" data-toc-modified-id=\"Вывод:-1.1\"><span class=\"toc-item-num\">1.1&nbsp;&nbsp;</span>Вывод:</a></span></li></ul></li><li><span><a href=\"#Шаг-2.-Предобработка-данных.\" data-toc-modified-id=\"Шаг-2.-Предобработка-данных.-2\"><span class=\"toc-item-num\">2&nbsp;&nbsp;</span>Шаг 2. Предобработка данных.</a></span><ul class=\"toc-item\"><li><span><a href=\"#Столбец-children-(количество-детей-в-семье).\" data-toc-modified-id=\"Столбец-children-(количество-детей-в-семье).-2.1\"><span class=\"toc-item-num\">2.1&nbsp;&nbsp;</span>Столбец <code>children</code> (количество детей в семье).</a></span></li><li><span><a href=\"#Столбец-days_employed-(общий-трудовой-стаж-в-днях).\" data-toc-modified-id=\"Столбец-days_employed-(общий-трудовой-стаж-в-днях).-2.2\"><span class=\"toc-item-num\">2.2&nbsp;&nbsp;</span>Столбец <code>days_employed</code> (общий трудовой стаж в днях).</a></span></li><li><span><a href=\"#Столбец-dob_years-(возраст-клиента-в-годах).\" data-toc-modified-id=\"Столбец-dob_years-(возраст-клиента-в-годах).-2.3\"><span class=\"toc-item-num\">2.3&nbsp;&nbsp;</span>Столбец <code>dob_years</code> (возраст клиента в годах).</a></span></li><li><span><a href=\"#Столбец-education-(уровень-образования-клиента).\" data-toc-modified-id=\"Столбец-education-(уровень-образования-клиента).-2.4\"><span class=\"toc-item-num\">2.4&nbsp;&nbsp;</span>Столбец <code>education</code> (уровень образования клиента).</a></span></li><li><span><a href=\"#Столбец-education_id-(идентификатор-уровня-образования).\" data-toc-modified-id=\"Столбец-education_id-(идентификатор-уровня-образования).-2.5\"><span class=\"toc-item-num\">2.5&nbsp;&nbsp;</span>Столбец <code>education_id</code> (идентификатор уровня образования).</a></span></li><li><span><a href=\"#Столбец-family_status-(семейное-положение).\" data-toc-modified-id=\"Столбец-family_status-(семейное-положение).-2.6\"><span class=\"toc-item-num\">2.6&nbsp;&nbsp;</span>Столбец <code>family_status</code> (семейное положение).</a></span></li><li><span><a href=\"#Столбец-family_status_id-(идентификатор-семейного-положения).\" data-toc-modified-id=\"Столбец-family_status_id-(идентификатор-семейного-положения).-2.7\"><span class=\"toc-item-num\">2.7&nbsp;&nbsp;</span>Столбец <code>family_status_id</code> (идентификатор семейного положения).</a></span></li><li><span><a href=\"#Столбец-gender-(пол-клиента).\" data-toc-modified-id=\"Столбец-gender-(пол-клиента).-2.8\"><span class=\"toc-item-num\">2.8&nbsp;&nbsp;</span>Столбец <code>gender</code> (пол клиента).</a></span></li><li><span><a href=\"#Столбец-income_type-(тип-занятости).\" data-toc-modified-id=\"Столбец-income_type-(тип-занятости).-2.9\"><span class=\"toc-item-num\">2.9&nbsp;&nbsp;</span>Столбец <code>income_type</code> (тип занятости).</a></span></li><li><span><a href=\"#Столбец-debt-(имел-ли-задолженность-по-возврату-кредитов).\" data-toc-modified-id=\"Столбец-debt-(имел-ли-задолженность-по-возврату-кредитов).-2.10\"><span class=\"toc-item-num\">2.10&nbsp;&nbsp;</span>Столбец <code>debt</code> (имел ли задолженность по возврату кредитов).</a></span></li><li><span><a href=\"#Столбец-total_income-(ежемесячный-доход).\" data-toc-modified-id=\"Столбец-total_income-(ежемесячный-доход).-2.11\"><span class=\"toc-item-num\">2.11&nbsp;&nbsp;</span>Столбец <code>total_income</code> (ежемесячный доход).</a></span></li><li><span><a href=\"#Столбец-purpose-(цель-получения-кредита).\" data-toc-modified-id=\"Столбец-purpose-(цель-получения-кредита).-2.12\"><span class=\"toc-item-num\">2.12&nbsp;&nbsp;</span>Столбец <code>purpose</code> (цель получения кредита).</a></span></li><li><span><a href=\"#Удаляю-явные-дубликаты.\" data-toc-modified-id=\"Удаляю-явные-дубликаты.-2.13\"><span class=\"toc-item-num\">2.13&nbsp;&nbsp;</span>Удаляю явные дубликаты.</a></span></li><li><span><a href=\"#Смотрю-итоговый-результат.\" data-toc-modified-id=\"Смотрю-итоговый-результат.-2.14\"><span class=\"toc-item-num\">2.14&nbsp;&nbsp;</span>Смотрю итоговый результат.</a></span></li><li><span><a href=\"#Вывод:\" data-toc-modified-id=\"Вывод:-2.15\"><span class=\"toc-item-num\">2.15&nbsp;&nbsp;</span>Вывод:</a></span></li></ul></li><li><span><a href=\"#Шаг-3.-Отвечаю-на-вопросы.\" data-toc-modified-id=\"Шаг-3.-Отвечаю-на-вопросы.-3\"><span class=\"toc-item-num\">3&nbsp;&nbsp;</span>Шаг 3. Отвечаю на вопросы.</a></span><ul class=\"toc-item\"><li><span><a href=\"#Есть-ли-зависимость-между-наличием-детей-и-возвратом-кредита-в-срок?\" data-toc-modified-id=\"Есть-ли-зависимость-между-наличием-детей-и-возвратом-кредита-в-срок?-3.1\"><span class=\"toc-item-num\">3.1&nbsp;&nbsp;</span>Есть ли зависимость между наличием детей и возвратом кредита в срок?</a></span></li><li><span><a href=\"#Есть-ли-зависимость-между-семейным-положением-и-возвратом-кредита-в-срок?\" data-toc-modified-id=\"Есть-ли-зависимость-между-семейным-положением-и-возвратом-кредита-в-срок?-3.2\"><span class=\"toc-item-num\">3.2&nbsp;&nbsp;</span>Есть ли зависимость между семейным положением и возвратом кредита в срок?</a></span></li><li><span><a href=\"#Есть-ли-зависимость-между-уровнем-дохода-и-возвратом-кредита-в-срок?\" data-toc-modified-id=\"Есть-ли-зависимость-между-уровнем-дохода-и-возвратом-кредита-в-срок?-3.3\"><span class=\"toc-item-num\">3.3&nbsp;&nbsp;</span>Есть ли зависимость между уровнем дохода и возвратом кредита в срок?</a></span></li><li><span><a href=\"#Есть-ли-зависимость-между-целями-кредита-и-возвратом-кредита-в-срок?\" data-toc-modified-id=\"Есть-ли-зависимость-между-целями-кредита-и-возвратом-кредита-в-срок?-3.4\"><span class=\"toc-item-num\">3.4&nbsp;&nbsp;</span>Есть ли зависимость между целями кредита и возвратом кредита в срок?</a></span></li></ul></li><li><span><a href=\"#Общий-вывод:\" data-toc-modified-id=\"Общий-вывод:-4\"><span class=\"toc-item-num\">4&nbsp;&nbsp;</span>Общий вывод:</a></span></li></ul></div>"
   ]
  },
  {
   "cell_type": "markdown",
   "id": "1ff5a470",
   "metadata": {},
   "source": [
    "### Описание проекта:\n",
    "Заказчик - кредитный отдел банка. Нужно разобраться, влияет ли семейное положение и количество детей клиента на факт погашения кредита в срок. Входные данные от банка - статистика о платёжеспособности клиентов.\n",
    "Результаты исследования будут учтены при построении модели кредитного скоринга - специальной системы, которая оценивает способность потенциального заёмщика вернуть кредит банку."
   ]
  },
  {
   "cell_type": "markdown",
   "id": "0afbfc91",
   "metadata": {},
   "source": [
    "### Описание данных:\n",
    "Датасет `data` содержит:\n",
    "- **`children`** - количество детей в семье;\n",
    "- **`days_employed`** - общий трудовой стаж в днях;\n",
    "- **`dob_years`** - возраст клиента в годах;\n",
    "- **`education`** - уровень образования клиента;\n",
    "- **`education_id`** - идентификатор уровня образования;\n",
    "- **`family_status`** - семейное положение;\n",
    "- **`family_status_id`** - идентификатор семейного положения;\n",
    "- **`gender`** - пол клиента;\n",
    "- **`income_type`** - тип занятости;\n",
    "- **`debt`** - имел ли задолженность по возврату кредитов;\n",
    "- **`total_income`** - ежемесячный доход;\n",
    "- **`purpose`** - цель получения кредита."
   ]
  },
  {
   "cell_type": "markdown",
   "id": "84127b56",
   "metadata": {},
   "source": [
    "## Шаг 1. Импортирую необходимые библиотеки, открываю файл с данными и изучаю общую информацию."
   ]
  },
  {
   "cell_type": "code",
   "execution_count": 1,
   "id": "6cb9a7a0",
   "metadata": {},
   "outputs": [],
   "source": [
    "import pandas as pd"
   ]
  },
  {
   "cell_type": "code",
   "execution_count": 2,
   "id": "82c3dad1",
   "metadata": {},
   "outputs": [],
   "source": [
    "df = pd.read_csv('/datasets/data.csv')"
   ]
  },
  {
   "cell_type": "code",
   "execution_count": 3,
   "id": "34e7f944",
   "metadata": {},
   "outputs": [],
   "source": [
    "def df_info(df):\n",
    "    display(df.head(3))\n",
    "    print('-' * 50)\n",
    "    df.info()\n",
    "    print('-' * 50)\n",
    "    display(df.describe(include = 'all'))\n",
    "    print('-' * 50)\n",
    "    print('Количество явных дубликатов:', df.duplicated().sum())"
   ]
  },
  {
   "cell_type": "code",
   "execution_count": 4,
   "id": "ae6f166f",
   "metadata": {},
   "outputs": [
    {
     "data": {
      "text/html": [
       "<div>\n",
       "<style scoped>\n",
       "    .dataframe tbody tr th:only-of-type {\n",
       "        vertical-align: middle;\n",
       "    }\n",
       "\n",
       "    .dataframe tbody tr th {\n",
       "        vertical-align: top;\n",
       "    }\n",
       "\n",
       "    .dataframe thead th {\n",
       "        text-align: right;\n",
       "    }\n",
       "</style>\n",
       "<table border=\"1\" class=\"dataframe\">\n",
       "  <thead>\n",
       "    <tr style=\"text-align: right;\">\n",
       "      <th></th>\n",
       "      <th>children</th>\n",
       "      <th>days_employed</th>\n",
       "      <th>dob_years</th>\n",
       "      <th>education</th>\n",
       "      <th>education_id</th>\n",
       "      <th>family_status</th>\n",
       "      <th>family_status_id</th>\n",
       "      <th>gender</th>\n",
       "      <th>income_type</th>\n",
       "      <th>debt</th>\n",
       "      <th>total_income</th>\n",
       "      <th>purpose</th>\n",
       "    </tr>\n",
       "  </thead>\n",
       "  <tbody>\n",
       "    <tr>\n",
       "      <th>0</th>\n",
       "      <td>1</td>\n",
       "      <td>-8437.673028</td>\n",
       "      <td>42</td>\n",
       "      <td>высшее</td>\n",
       "      <td>0</td>\n",
       "      <td>женат / замужем</td>\n",
       "      <td>0</td>\n",
       "      <td>F</td>\n",
       "      <td>сотрудник</td>\n",
       "      <td>0</td>\n",
       "      <td>253875.639453</td>\n",
       "      <td>покупка жилья</td>\n",
       "    </tr>\n",
       "    <tr>\n",
       "      <th>1</th>\n",
       "      <td>1</td>\n",
       "      <td>-4024.803754</td>\n",
       "      <td>36</td>\n",
       "      <td>среднее</td>\n",
       "      <td>1</td>\n",
       "      <td>женат / замужем</td>\n",
       "      <td>0</td>\n",
       "      <td>F</td>\n",
       "      <td>сотрудник</td>\n",
       "      <td>0</td>\n",
       "      <td>112080.014102</td>\n",
       "      <td>приобретение автомобиля</td>\n",
       "    </tr>\n",
       "    <tr>\n",
       "      <th>2</th>\n",
       "      <td>0</td>\n",
       "      <td>-5623.422610</td>\n",
       "      <td>33</td>\n",
       "      <td>Среднее</td>\n",
       "      <td>1</td>\n",
       "      <td>женат / замужем</td>\n",
       "      <td>0</td>\n",
       "      <td>M</td>\n",
       "      <td>сотрудник</td>\n",
       "      <td>0</td>\n",
       "      <td>145885.952297</td>\n",
       "      <td>покупка жилья</td>\n",
       "    </tr>\n",
       "  </tbody>\n",
       "</table>\n",
       "</div>"
      ],
      "text/plain": [
       "   children  days_employed  dob_years education  education_id  \\\n",
       "0         1   -8437.673028         42    высшее             0   \n",
       "1         1   -4024.803754         36   среднее             1   \n",
       "2         0   -5623.422610         33   Среднее             1   \n",
       "\n",
       "     family_status  family_status_id gender income_type  debt   total_income  \\\n",
       "0  женат / замужем                 0      F   сотрудник     0  253875.639453   \n",
       "1  женат / замужем                 0      F   сотрудник     0  112080.014102   \n",
       "2  женат / замужем                 0      M   сотрудник     0  145885.952297   \n",
       "\n",
       "                   purpose  \n",
       "0            покупка жилья  \n",
       "1  приобретение автомобиля  \n",
       "2            покупка жилья  "
      ]
     },
     "metadata": {},
     "output_type": "display_data"
    },
    {
     "name": "stdout",
     "output_type": "stream",
     "text": [
      "--------------------------------------------------\n",
      "<class 'pandas.core.frame.DataFrame'>\n",
      "RangeIndex: 21525 entries, 0 to 21524\n",
      "Data columns (total 12 columns):\n",
      " #   Column            Non-Null Count  Dtype  \n",
      "---  ------            --------------  -----  \n",
      " 0   children          21525 non-null  int64  \n",
      " 1   days_employed     19351 non-null  float64\n",
      " 2   dob_years         21525 non-null  int64  \n",
      " 3   education         21525 non-null  object \n",
      " 4   education_id      21525 non-null  int64  \n",
      " 5   family_status     21525 non-null  object \n",
      " 6   family_status_id  21525 non-null  int64  \n",
      " 7   gender            21525 non-null  object \n",
      " 8   income_type       21525 non-null  object \n",
      " 9   debt              21525 non-null  int64  \n",
      " 10  total_income      19351 non-null  float64\n",
      " 11  purpose           21525 non-null  object \n",
      "dtypes: float64(2), int64(5), object(5)\n",
      "memory usage: 2.0+ MB\n",
      "--------------------------------------------------\n"
     ]
    },
    {
     "data": {
      "text/html": [
       "<div>\n",
       "<style scoped>\n",
       "    .dataframe tbody tr th:only-of-type {\n",
       "        vertical-align: middle;\n",
       "    }\n",
       "\n",
       "    .dataframe tbody tr th {\n",
       "        vertical-align: top;\n",
       "    }\n",
       "\n",
       "    .dataframe thead th {\n",
       "        text-align: right;\n",
       "    }\n",
       "</style>\n",
       "<table border=\"1\" class=\"dataframe\">\n",
       "  <thead>\n",
       "    <tr style=\"text-align: right;\">\n",
       "      <th></th>\n",
       "      <th>children</th>\n",
       "      <th>days_employed</th>\n",
       "      <th>dob_years</th>\n",
       "      <th>education</th>\n",
       "      <th>education_id</th>\n",
       "      <th>family_status</th>\n",
       "      <th>family_status_id</th>\n",
       "      <th>gender</th>\n",
       "      <th>income_type</th>\n",
       "      <th>debt</th>\n",
       "      <th>total_income</th>\n",
       "      <th>purpose</th>\n",
       "    </tr>\n",
       "  </thead>\n",
       "  <tbody>\n",
       "    <tr>\n",
       "      <th>count</th>\n",
       "      <td>21525.000000</td>\n",
       "      <td>19351.000000</td>\n",
       "      <td>21525.000000</td>\n",
       "      <td>21525</td>\n",
       "      <td>21525.000000</td>\n",
       "      <td>21525</td>\n",
       "      <td>21525.000000</td>\n",
       "      <td>21525</td>\n",
       "      <td>21525</td>\n",
       "      <td>21525.000000</td>\n",
       "      <td>1.935100e+04</td>\n",
       "      <td>21525</td>\n",
       "    </tr>\n",
       "    <tr>\n",
       "      <th>unique</th>\n",
       "      <td>NaN</td>\n",
       "      <td>NaN</td>\n",
       "      <td>NaN</td>\n",
       "      <td>15</td>\n",
       "      <td>NaN</td>\n",
       "      <td>5</td>\n",
       "      <td>NaN</td>\n",
       "      <td>3</td>\n",
       "      <td>8</td>\n",
       "      <td>NaN</td>\n",
       "      <td>NaN</td>\n",
       "      <td>38</td>\n",
       "    </tr>\n",
       "    <tr>\n",
       "      <th>top</th>\n",
       "      <td>NaN</td>\n",
       "      <td>NaN</td>\n",
       "      <td>NaN</td>\n",
       "      <td>среднее</td>\n",
       "      <td>NaN</td>\n",
       "      <td>женат / замужем</td>\n",
       "      <td>NaN</td>\n",
       "      <td>F</td>\n",
       "      <td>сотрудник</td>\n",
       "      <td>NaN</td>\n",
       "      <td>NaN</td>\n",
       "      <td>свадьба</td>\n",
       "    </tr>\n",
       "    <tr>\n",
       "      <th>freq</th>\n",
       "      <td>NaN</td>\n",
       "      <td>NaN</td>\n",
       "      <td>NaN</td>\n",
       "      <td>13750</td>\n",
       "      <td>NaN</td>\n",
       "      <td>12380</td>\n",
       "      <td>NaN</td>\n",
       "      <td>14236</td>\n",
       "      <td>11119</td>\n",
       "      <td>NaN</td>\n",
       "      <td>NaN</td>\n",
       "      <td>797</td>\n",
       "    </tr>\n",
       "    <tr>\n",
       "      <th>mean</th>\n",
       "      <td>0.538908</td>\n",
       "      <td>63046.497661</td>\n",
       "      <td>43.293380</td>\n",
       "      <td>NaN</td>\n",
       "      <td>0.817236</td>\n",
       "      <td>NaN</td>\n",
       "      <td>0.972544</td>\n",
       "      <td>NaN</td>\n",
       "      <td>NaN</td>\n",
       "      <td>0.080883</td>\n",
       "      <td>1.674223e+05</td>\n",
       "      <td>NaN</td>\n",
       "    </tr>\n",
       "    <tr>\n",
       "      <th>std</th>\n",
       "      <td>1.381587</td>\n",
       "      <td>140827.311974</td>\n",
       "      <td>12.574584</td>\n",
       "      <td>NaN</td>\n",
       "      <td>0.548138</td>\n",
       "      <td>NaN</td>\n",
       "      <td>1.420324</td>\n",
       "      <td>NaN</td>\n",
       "      <td>NaN</td>\n",
       "      <td>0.272661</td>\n",
       "      <td>1.029716e+05</td>\n",
       "      <td>NaN</td>\n",
       "    </tr>\n",
       "    <tr>\n",
       "      <th>min</th>\n",
       "      <td>-1.000000</td>\n",
       "      <td>-18388.949901</td>\n",
       "      <td>0.000000</td>\n",
       "      <td>NaN</td>\n",
       "      <td>0.000000</td>\n",
       "      <td>NaN</td>\n",
       "      <td>0.000000</td>\n",
       "      <td>NaN</td>\n",
       "      <td>NaN</td>\n",
       "      <td>0.000000</td>\n",
       "      <td>2.066726e+04</td>\n",
       "      <td>NaN</td>\n",
       "    </tr>\n",
       "    <tr>\n",
       "      <th>25%</th>\n",
       "      <td>0.000000</td>\n",
       "      <td>-2747.423625</td>\n",
       "      <td>33.000000</td>\n",
       "      <td>NaN</td>\n",
       "      <td>1.000000</td>\n",
       "      <td>NaN</td>\n",
       "      <td>0.000000</td>\n",
       "      <td>NaN</td>\n",
       "      <td>NaN</td>\n",
       "      <td>0.000000</td>\n",
       "      <td>1.030532e+05</td>\n",
       "      <td>NaN</td>\n",
       "    </tr>\n",
       "    <tr>\n",
       "      <th>50%</th>\n",
       "      <td>0.000000</td>\n",
       "      <td>-1203.369529</td>\n",
       "      <td>42.000000</td>\n",
       "      <td>NaN</td>\n",
       "      <td>1.000000</td>\n",
       "      <td>NaN</td>\n",
       "      <td>0.000000</td>\n",
       "      <td>NaN</td>\n",
       "      <td>NaN</td>\n",
       "      <td>0.000000</td>\n",
       "      <td>1.450179e+05</td>\n",
       "      <td>NaN</td>\n",
       "    </tr>\n",
       "    <tr>\n",
       "      <th>75%</th>\n",
       "      <td>1.000000</td>\n",
       "      <td>-291.095954</td>\n",
       "      <td>53.000000</td>\n",
       "      <td>NaN</td>\n",
       "      <td>1.000000</td>\n",
       "      <td>NaN</td>\n",
       "      <td>1.000000</td>\n",
       "      <td>NaN</td>\n",
       "      <td>NaN</td>\n",
       "      <td>0.000000</td>\n",
       "      <td>2.034351e+05</td>\n",
       "      <td>NaN</td>\n",
       "    </tr>\n",
       "    <tr>\n",
       "      <th>max</th>\n",
       "      <td>20.000000</td>\n",
       "      <td>401755.400475</td>\n",
       "      <td>75.000000</td>\n",
       "      <td>NaN</td>\n",
       "      <td>4.000000</td>\n",
       "      <td>NaN</td>\n",
       "      <td>4.000000</td>\n",
       "      <td>NaN</td>\n",
       "      <td>NaN</td>\n",
       "      <td>1.000000</td>\n",
       "      <td>2.265604e+06</td>\n",
       "      <td>NaN</td>\n",
       "    </tr>\n",
       "  </tbody>\n",
       "</table>\n",
       "</div>"
      ],
      "text/plain": [
       "            children  days_employed     dob_years education  education_id  \\\n",
       "count   21525.000000   19351.000000  21525.000000     21525  21525.000000   \n",
       "unique           NaN            NaN           NaN        15           NaN   \n",
       "top              NaN            NaN           NaN   среднее           NaN   \n",
       "freq             NaN            NaN           NaN     13750           NaN   \n",
       "mean        0.538908   63046.497661     43.293380       NaN      0.817236   \n",
       "std         1.381587  140827.311974     12.574584       NaN      0.548138   \n",
       "min        -1.000000  -18388.949901      0.000000       NaN      0.000000   \n",
       "25%         0.000000   -2747.423625     33.000000       NaN      1.000000   \n",
       "50%         0.000000   -1203.369529     42.000000       NaN      1.000000   \n",
       "75%         1.000000    -291.095954     53.000000       NaN      1.000000   \n",
       "max        20.000000  401755.400475     75.000000       NaN      4.000000   \n",
       "\n",
       "          family_status  family_status_id gender income_type          debt  \\\n",
       "count             21525      21525.000000  21525       21525  21525.000000   \n",
       "unique                5               NaN      3           8           NaN   \n",
       "top     женат / замужем               NaN      F   сотрудник           NaN   \n",
       "freq              12380               NaN  14236       11119           NaN   \n",
       "mean                NaN          0.972544    NaN         NaN      0.080883   \n",
       "std                 NaN          1.420324    NaN         NaN      0.272661   \n",
       "min                 NaN          0.000000    NaN         NaN      0.000000   \n",
       "25%                 NaN          0.000000    NaN         NaN      0.000000   \n",
       "50%                 NaN          0.000000    NaN         NaN      0.000000   \n",
       "75%                 NaN          1.000000    NaN         NaN      0.000000   \n",
       "max                 NaN          4.000000    NaN         NaN      1.000000   \n",
       "\n",
       "        total_income  purpose  \n",
       "count   1.935100e+04    21525  \n",
       "unique           NaN       38  \n",
       "top              NaN  свадьба  \n",
       "freq             NaN      797  \n",
       "mean    1.674223e+05      NaN  \n",
       "std     1.029716e+05      NaN  \n",
       "min     2.066726e+04      NaN  \n",
       "25%     1.030532e+05      NaN  \n",
       "50%     1.450179e+05      NaN  \n",
       "75%     2.034351e+05      NaN  \n",
       "max     2.265604e+06      NaN  "
      ]
     },
     "metadata": {},
     "output_type": "display_data"
    },
    {
     "name": "stdout",
     "output_type": "stream",
     "text": [
      "--------------------------------------------------\n",
      "Количество явных дубликатов: 54\n"
     ]
    }
   ],
   "source": [
    "df_info(df)"
   ]
  },
  {
   "cell_type": "markdown",
   "id": "a6741eb7",
   "metadata": {},
   "source": [
    "### Вывод:\n",
    "Датасет содержит **21525** записей по **12** столбцам. Типы данных на первый взгляд соответствуют содержимому столбцов, разве что столбцы **`days_employed`** и **`total_income`** имеют вещественный тип данных, а не целочисленный. Названия столбцов внесены корректно, без стилистических нарушений. В следующих столбцах содержатся пропущенные значения:\n",
    "- **`days_employed`** - **2174** пропуска;\n",
    "- **`total_income`** - **2174** пропуска.\n",
    "\n",
    "В столбцах **`children`** и **`days_employed`** есть отрицательные и некорректные значения, в столбце **`dob_years`** есть некорректные значения, в столбце **`total_income`** есть слишком большие значения. В столбцах **`education`** и **`purpose`** встречаются неявные дубликаты. Также датасет содержит **54** явных дубликата. Данные изначально плохого качества и требуют предобработки."
   ]
  },
  {
   "cell_type": "markdown",
   "id": "fe730396",
   "metadata": {},
   "source": [
    "## Шаг 2. Предобработка данных. "
   ]
  },
  {
   "cell_type": "markdown",
   "id": "adb52cf5",
   "metadata": {},
   "source": [
    "Начинаю по порядку исправлять это безобразие."
   ]
  },
  {
   "cell_type": "markdown",
   "id": "7f0104ff",
   "metadata": {},
   "source": [
    "### Столбец `children` (количество детей в семье)."
   ]
  },
  {
   "cell_type": "markdown",
   "id": "bd46e7b1",
   "metadata": {},
   "source": [
    "Смотрю уникальные значения данного столбца и их колличество."
   ]
  },
  {
   "cell_type": "code",
   "execution_count": 5,
   "id": "76b13209",
   "metadata": {},
   "outputs": [
    {
     "data": {
      "text/plain": [
       " 0     14149\n",
       " 1      4818\n",
       " 2      2055\n",
       " 3       330\n",
       " 20       76\n",
       "-1        47\n",
       " 4        41\n",
       " 5         9\n",
       "Name: children, dtype: int64"
      ]
     },
     "execution_count": 5,
     "metadata": {},
     "output_type": "execute_result"
    }
   ],
   "source": [
    "df['children'].value_counts()"
   ]
  },
  {
   "cell_type": "markdown",
   "id": "c4cb6072",
   "metadata": {},
   "source": [
    "Несколько выбиваются значения **-1** и **20**. По поводу значения **-1**, либо анкету в банке заполняли циничные родители потерявшие ребенка, и данные так и внесли в систему, либо, что более вероятно, это техническая ошибка и подразумевалось значение **1**. А по поводу значения **20** сомнений больше, вполне возможно что кто-то имеет **20** детей, но это скорее единичный случай, а в нашем датасете **76** таких случаев. Часть детей конечно могут быть приемными, но приемных детей дают только тем семьям, которые могут их обеспечить, такие семьи как правило не берут кредиты. Сортирую датасет по заемщикам с **20** детьми, чтобы оценить показатели других столбцов и решить наверняка, что делать."
   ]
  },
  {
   "cell_type": "code",
   "execution_count": 6,
   "id": "b4d69cb2",
   "metadata": {},
   "outputs": [
    {
     "data": {
      "text/html": [
       "<div>\n",
       "<style scoped>\n",
       "    .dataframe tbody tr th:only-of-type {\n",
       "        vertical-align: middle;\n",
       "    }\n",
       "\n",
       "    .dataframe tbody tr th {\n",
       "        vertical-align: top;\n",
       "    }\n",
       "\n",
       "    .dataframe thead th {\n",
       "        text-align: right;\n",
       "    }\n",
       "</style>\n",
       "<table border=\"1\" class=\"dataframe\">\n",
       "  <thead>\n",
       "    <tr style=\"text-align: right;\">\n",
       "      <th></th>\n",
       "      <th>children</th>\n",
       "      <th>days_employed</th>\n",
       "      <th>dob_years</th>\n",
       "      <th>education</th>\n",
       "      <th>education_id</th>\n",
       "      <th>family_status</th>\n",
       "      <th>family_status_id</th>\n",
       "      <th>gender</th>\n",
       "      <th>income_type</th>\n",
       "      <th>debt</th>\n",
       "      <th>total_income</th>\n",
       "      <th>purpose</th>\n",
       "    </tr>\n",
       "  </thead>\n",
       "  <tbody>\n",
       "    <tr>\n",
       "      <th>606</th>\n",
       "      <td>20</td>\n",
       "      <td>-880.221113</td>\n",
       "      <td>21</td>\n",
       "      <td>среднее</td>\n",
       "      <td>1</td>\n",
       "      <td>женат / замужем</td>\n",
       "      <td>0</td>\n",
       "      <td>M</td>\n",
       "      <td>компаньон</td>\n",
       "      <td>0</td>\n",
       "      <td>145334.865002</td>\n",
       "      <td>покупка жилья</td>\n",
       "    </tr>\n",
       "    <tr>\n",
       "      <th>720</th>\n",
       "      <td>20</td>\n",
       "      <td>-855.595512</td>\n",
       "      <td>44</td>\n",
       "      <td>среднее</td>\n",
       "      <td>1</td>\n",
       "      <td>женат / замужем</td>\n",
       "      <td>0</td>\n",
       "      <td>F</td>\n",
       "      <td>компаньон</td>\n",
       "      <td>0</td>\n",
       "      <td>112998.738649</td>\n",
       "      <td>покупка недвижимости</td>\n",
       "    </tr>\n",
       "    <tr>\n",
       "      <th>1074</th>\n",
       "      <td>20</td>\n",
       "      <td>-3310.411598</td>\n",
       "      <td>56</td>\n",
       "      <td>среднее</td>\n",
       "      <td>1</td>\n",
       "      <td>женат / замужем</td>\n",
       "      <td>0</td>\n",
       "      <td>F</td>\n",
       "      <td>сотрудник</td>\n",
       "      <td>1</td>\n",
       "      <td>229518.537004</td>\n",
       "      <td>получение образования</td>\n",
       "    </tr>\n",
       "    <tr>\n",
       "      <th>2510</th>\n",
       "      <td>20</td>\n",
       "      <td>-2714.161249</td>\n",
       "      <td>59</td>\n",
       "      <td>высшее</td>\n",
       "      <td>0</td>\n",
       "      <td>вдовец / вдова</td>\n",
       "      <td>2</td>\n",
       "      <td>F</td>\n",
       "      <td>сотрудник</td>\n",
       "      <td>0</td>\n",
       "      <td>264474.835577</td>\n",
       "      <td>операции с коммерческой недвижимостью</td>\n",
       "    </tr>\n",
       "    <tr>\n",
       "      <th>2941</th>\n",
       "      <td>20</td>\n",
       "      <td>-2161.591519</td>\n",
       "      <td>0</td>\n",
       "      <td>среднее</td>\n",
       "      <td>1</td>\n",
       "      <td>женат / замужем</td>\n",
       "      <td>0</td>\n",
       "      <td>F</td>\n",
       "      <td>сотрудник</td>\n",
       "      <td>0</td>\n",
       "      <td>199739.941398</td>\n",
       "      <td>на покупку автомобиля</td>\n",
       "    </tr>\n",
       "    <tr>\n",
       "      <th>3302</th>\n",
       "      <td>20</td>\n",
       "      <td>NaN</td>\n",
       "      <td>35</td>\n",
       "      <td>среднее</td>\n",
       "      <td>1</td>\n",
       "      <td>Не женат / не замужем</td>\n",
       "      <td>4</td>\n",
       "      <td>F</td>\n",
       "      <td>госслужащий</td>\n",
       "      <td>0</td>\n",
       "      <td>NaN</td>\n",
       "      <td>профильное образование</td>\n",
       "    </tr>\n",
       "    <tr>\n",
       "      <th>3396</th>\n",
       "      <td>20</td>\n",
       "      <td>NaN</td>\n",
       "      <td>56</td>\n",
       "      <td>высшее</td>\n",
       "      <td>0</td>\n",
       "      <td>женат / замужем</td>\n",
       "      <td>0</td>\n",
       "      <td>F</td>\n",
       "      <td>компаньон</td>\n",
       "      <td>0</td>\n",
       "      <td>NaN</td>\n",
       "      <td>высшее образование</td>\n",
       "    </tr>\n",
       "    <tr>\n",
       "      <th>3671</th>\n",
       "      <td>20</td>\n",
       "      <td>-913.161503</td>\n",
       "      <td>23</td>\n",
       "      <td>среднее</td>\n",
       "      <td>1</td>\n",
       "      <td>Не женат / не замужем</td>\n",
       "      <td>4</td>\n",
       "      <td>F</td>\n",
       "      <td>сотрудник</td>\n",
       "      <td>0</td>\n",
       "      <td>101255.492076</td>\n",
       "      <td>на покупку подержанного автомобиля</td>\n",
       "    </tr>\n",
       "    <tr>\n",
       "      <th>3697</th>\n",
       "      <td>20</td>\n",
       "      <td>-2907.910616</td>\n",
       "      <td>40</td>\n",
       "      <td>среднее</td>\n",
       "      <td>1</td>\n",
       "      <td>гражданский брак</td>\n",
       "      <td>1</td>\n",
       "      <td>M</td>\n",
       "      <td>сотрудник</td>\n",
       "      <td>0</td>\n",
       "      <td>115380.694664</td>\n",
       "      <td>на покупку подержанного автомобиля</td>\n",
       "    </tr>\n",
       "    <tr>\n",
       "      <th>3735</th>\n",
       "      <td>20</td>\n",
       "      <td>-805.044438</td>\n",
       "      <td>26</td>\n",
       "      <td>высшее</td>\n",
       "      <td>0</td>\n",
       "      <td>Не женат / не замужем</td>\n",
       "      <td>4</td>\n",
       "      <td>M</td>\n",
       "      <td>сотрудник</td>\n",
       "      <td>0</td>\n",
       "      <td>137200.646181</td>\n",
       "      <td>ремонт жилью</td>\n",
       "    </tr>\n",
       "  </tbody>\n",
       "</table>\n",
       "</div>"
      ],
      "text/plain": [
       "      children  days_employed  dob_years education  education_id  \\\n",
       "606         20    -880.221113         21   среднее             1   \n",
       "720         20    -855.595512         44   среднее             1   \n",
       "1074        20   -3310.411598         56   среднее             1   \n",
       "2510        20   -2714.161249         59    высшее             0   \n",
       "2941        20   -2161.591519          0   среднее             1   \n",
       "3302        20            NaN         35   среднее             1   \n",
       "3396        20            NaN         56    высшее             0   \n",
       "3671        20    -913.161503         23   среднее             1   \n",
       "3697        20   -2907.910616         40   среднее             1   \n",
       "3735        20    -805.044438         26    высшее             0   \n",
       "\n",
       "              family_status  family_status_id gender  income_type  debt  \\\n",
       "606         женат / замужем                 0      M    компаньон     0   \n",
       "720         женат / замужем                 0      F    компаньон     0   \n",
       "1074        женат / замужем                 0      F    сотрудник     1   \n",
       "2510         вдовец / вдова                 2      F    сотрудник     0   \n",
       "2941        женат / замужем                 0      F    сотрудник     0   \n",
       "3302  Не женат / не замужем                 4      F  госслужащий     0   \n",
       "3396        женат / замужем                 0      F    компаньон     0   \n",
       "3671  Не женат / не замужем                 4      F    сотрудник     0   \n",
       "3697       гражданский брак                 1      M    сотрудник     0   \n",
       "3735  Не женат / не замужем                 4      M    сотрудник     0   \n",
       "\n",
       "       total_income                                purpose  \n",
       "606   145334.865002                          покупка жилья  \n",
       "720   112998.738649                   покупка недвижимости  \n",
       "1074  229518.537004                  получение образования  \n",
       "2510  264474.835577  операции с коммерческой недвижимостью  \n",
       "2941  199739.941398                  на покупку автомобиля  \n",
       "3302            NaN                 профильное образование  \n",
       "3396            NaN                     высшее образование  \n",
       "3671  101255.492076     на покупку подержанного автомобиля  \n",
       "3697  115380.694664     на покупку подержанного автомобиля  \n",
       "3735  137200.646181                           ремонт жилью  "
      ]
     },
     "execution_count": 6,
     "metadata": {},
     "output_type": "execute_result"
    }
   ],
   "source": [
    "df.query('children == 20').head(10)"
   ]
  },
  {
   "cell_type": "markdown",
   "id": "d5931c02",
   "metadata": {},
   "source": [
    "Мда, 23 летяя девушка с 20 детьми, вот так жизнь у человека сложилась... Это очевидно также техническая ошибка. Возможно при первом обращении в банк данные граждане имели **0** детей, а при повторном обращении, через несколько лет уже **2** детей. И замена значений произошла некорректно. Исправляю данное недоразумение."
   ]
  },
  {
   "cell_type": "code",
   "execution_count": 7,
   "id": "fd5dcd25",
   "metadata": {
    "scrolled": true
   },
   "outputs": [
    {
     "data": {
      "text/plain": [
       "0    14149\n",
       "1     4865\n",
       "2     2131\n",
       "3      330\n",
       "4       41\n",
       "5        9\n",
       "Name: children, dtype: int64"
      ]
     },
     "execution_count": 7,
     "metadata": {},
     "output_type": "execute_result"
    }
   ],
   "source": [
    "df['children'] = df['children'].replace(-1, 1)\n",
    "df['children'] = df['children'].replace(20, 2)\n",
    "df['children'].value_counts()"
   ]
  },
  {
   "cell_type": "markdown",
   "id": "6c23b69d",
   "metadata": {},
   "source": [
    "### Столбец `days_employed` (общий трудовой стаж в днях)."
   ]
  },
  {
   "cell_type": "code",
   "execution_count": 8,
   "id": "b2606680",
   "metadata": {},
   "outputs": [
    {
     "data": {
      "text/plain": [
       "count     19351.000000\n",
       "mean      63046.497661\n",
       "std      140827.311974\n",
       "min      -18388.949901\n",
       "25%       -2747.423625\n",
       "50%       -1203.369529\n",
       "75%        -291.095954\n",
       "max      401755.400475\n",
       "Name: days_employed, dtype: float64"
      ]
     },
     "execution_count": 8,
     "metadata": {},
     "output_type": "execute_result"
    }
   ],
   "source": [
    "df['days_employed'].describe()"
   ]
  },
  {
   "cell_type": "code",
   "execution_count": 9,
   "id": "0b44d76f",
   "metadata": {},
   "outputs": [
    {
     "data": {
      "text/plain": [
       "2174"
      ]
     },
     "execution_count": 9,
     "metadata": {},
     "output_type": "execute_result"
    }
   ],
   "source": [
    "df['days_employed'].isna().sum()"
   ]
  },
  {
   "cell_type": "markdown",
   "id": "301f7eb2",
   "metadata": {},
   "source": [
    "Я имею, выборку от имеющих отрицательный трудовой стаж, до тех, кто работал более **1100** лет. А также **2174** пропущенных значения. Крайне занятно. В столбце **`total_income`** имеется такое же количество пропусков. Проверяю, в одних ли они строках."
   ]
  },
  {
   "cell_type": "code",
   "execution_count": 10,
   "id": "2b124ec7",
   "metadata": {},
   "outputs": [
    {
     "data": {
      "text/plain": [
       "2174"
      ]
     },
     "execution_count": 10,
     "metadata": {},
     "output_type": "execute_result"
    }
   ],
   "source": [
    "df[(df['days_employed'].isna()) & (df['total_income'].isna())].shape[0]"
   ]
  },
  {
   "cell_type": "markdown",
   "id": "7140a775",
   "metadata": {},
   "source": [
    "Так и есть. Смотрю долю пропущенных значений для обоих столбцов."
   ]
  },
  {
   "cell_type": "code",
   "execution_count": 11,
   "id": "e57e8513",
   "metadata": {},
   "outputs": [
    {
     "data": {
      "text/plain": [
       "0.10099883855981417"
      ]
     },
     "execution_count": 11,
     "metadata": {},
     "output_type": "execute_result"
    }
   ],
   "source": [
    "df['days_employed'].isna().mean()"
   ]
  },
  {
   "cell_type": "markdown",
   "id": "b661b884",
   "metadata": {},
   "source": [
    "**10.1%** - это довольно много, в данном случае, удаление строк с пропущенными значениями может сильно повлиять на финальный результат исследования. Отталкиваясь от того, что запросить корректные и недостающие данные не представляется возможным. А так как цель исследования найти корреляцию между семейным положением и количеством детей клиента с фактом погашения кредита в срок, и напрямую не связана с трудовым стажем и ежемесячным доходом, лучшим решением будет заполнить пропуски в столбцах **`days_employed`** и **`total_income`** медианным значением. \n",
    "Приступаю к обработке столбца **`days_employed`**. Сначала, с помощью метода `abs()`, избавляюсь от отрицательных значений, а после, опираясь на тип занятости, заполняю недостающие значения, и в конце, с помощью метода `astype()`, меняю тип данных на целочисленный."
   ]
  },
  {
   "cell_type": "code",
   "execution_count": 12,
   "id": "2e66f662",
   "metadata": {},
   "outputs": [
    {
     "data": {
      "text/plain": [
       "0"
      ]
     },
     "execution_count": 12,
     "metadata": {},
     "output_type": "execute_result"
    }
   ],
   "source": [
    "df['days_employed'] = abs(df['days_employed'])\n",
    "df['days_employed'] = df['days_employed'].fillna(df.groupby('income_type')['days_employed'].transform('median'))\n",
    "df['days_employed'] = df['days_employed'].astype('int64')\n",
    "df['days_employed'].isna().sum()"
   ]
  },
  {
   "cell_type": "markdown",
   "id": "402cf677",
   "metadata": {},
   "source": [
    "Вуаля, бесполезные данные восстановлены. Судя по одинаковому количеству пропущенных значений, вероятно, произошел технический сбой при переносе данных из одного датасета в другой. Возможно из-за несовпадения типов данных этих столбцов."
   ]
  },
  {
   "cell_type": "markdown",
   "id": "0c07eb3f",
   "metadata": {},
   "source": [
    "### Столбец `dob_years` (возраст клиента в годах)."
   ]
  },
  {
   "cell_type": "markdown",
   "id": "25c72f98",
   "metadata": {},
   "source": [
    "Смотрю уникальные значения данного столбца."
   ]
  },
  {
   "cell_type": "code",
   "execution_count": 13,
   "id": "0a0a9e31",
   "metadata": {},
   "outputs": [
    {
     "data": {
      "text/plain": [
       "array([ 0, 19, 20, 21, 22, 23, 24, 25, 26, 27, 28, 29, 30, 31, 32, 33, 34,\n",
       "       35, 36, 37, 38, 39, 40, 41, 42, 43, 44, 45, 46, 47, 48, 49, 50, 51,\n",
       "       52, 53, 54, 55, 56, 57, 58, 59, 60, 61, 62, 63, 64, 65, 66, 67, 68,\n",
       "       69, 70, 71, 72, 73, 74, 75], dtype=int64)"
      ]
     },
     "execution_count": 13,
     "metadata": {},
     "output_type": "execute_result"
    }
   ],
   "source": [
    "df['dob_years'].sort_values().unique()"
   ]
  },
  {
   "cell_type": "markdown",
   "id": "51fff3ee",
   "metadata": {},
   "source": [
    "Возраст клиента **0** лет? Серьезно? Кредит на новую люльку? Эти банки настолько понизили возрастной порог?\n",
    "Сортирую датасет по младенцам, чтобы оценить значения других столбцов."
   ]
  },
  {
   "cell_type": "code",
   "execution_count": 14,
   "id": "a1e5188b",
   "metadata": {},
   "outputs": [
    {
     "data": {
      "text/html": [
       "<div>\n",
       "<style scoped>\n",
       "    .dataframe tbody tr th:only-of-type {\n",
       "        vertical-align: middle;\n",
       "    }\n",
       "\n",
       "    .dataframe tbody tr th {\n",
       "        vertical-align: top;\n",
       "    }\n",
       "\n",
       "    .dataframe thead th {\n",
       "        text-align: right;\n",
       "    }\n",
       "</style>\n",
       "<table border=\"1\" class=\"dataframe\">\n",
       "  <thead>\n",
       "    <tr style=\"text-align: right;\">\n",
       "      <th></th>\n",
       "      <th>children</th>\n",
       "      <th>days_employed</th>\n",
       "      <th>dob_years</th>\n",
       "      <th>education</th>\n",
       "      <th>education_id</th>\n",
       "      <th>family_status</th>\n",
       "      <th>family_status_id</th>\n",
       "      <th>gender</th>\n",
       "      <th>income_type</th>\n",
       "      <th>debt</th>\n",
       "      <th>total_income</th>\n",
       "      <th>purpose</th>\n",
       "    </tr>\n",
       "  </thead>\n",
       "  <tbody>\n",
       "    <tr>\n",
       "      <th>99</th>\n",
       "      <td>0</td>\n",
       "      <td>346541</td>\n",
       "      <td>0</td>\n",
       "      <td>Среднее</td>\n",
       "      <td>1</td>\n",
       "      <td>женат / замужем</td>\n",
       "      <td>0</td>\n",
       "      <td>F</td>\n",
       "      <td>пенсионер</td>\n",
       "      <td>0</td>\n",
       "      <td>71291.522491</td>\n",
       "      <td>автомобиль</td>\n",
       "    </tr>\n",
       "    <tr>\n",
       "      <th>149</th>\n",
       "      <td>0</td>\n",
       "      <td>2664</td>\n",
       "      <td>0</td>\n",
       "      <td>среднее</td>\n",
       "      <td>1</td>\n",
       "      <td>в разводе</td>\n",
       "      <td>3</td>\n",
       "      <td>F</td>\n",
       "      <td>сотрудник</td>\n",
       "      <td>0</td>\n",
       "      <td>70176.435951</td>\n",
       "      <td>операции с жильем</td>\n",
       "    </tr>\n",
       "    <tr>\n",
       "      <th>270</th>\n",
       "      <td>3</td>\n",
       "      <td>1872</td>\n",
       "      <td>0</td>\n",
       "      <td>среднее</td>\n",
       "      <td>1</td>\n",
       "      <td>женат / замужем</td>\n",
       "      <td>0</td>\n",
       "      <td>F</td>\n",
       "      <td>сотрудник</td>\n",
       "      <td>0</td>\n",
       "      <td>102166.458894</td>\n",
       "      <td>ремонт жилью</td>\n",
       "    </tr>\n",
       "    <tr>\n",
       "      <th>578</th>\n",
       "      <td>0</td>\n",
       "      <td>397856</td>\n",
       "      <td>0</td>\n",
       "      <td>среднее</td>\n",
       "      <td>1</td>\n",
       "      <td>женат / замужем</td>\n",
       "      <td>0</td>\n",
       "      <td>F</td>\n",
       "      <td>пенсионер</td>\n",
       "      <td>0</td>\n",
       "      <td>97620.687042</td>\n",
       "      <td>строительство собственной недвижимости</td>\n",
       "    </tr>\n",
       "    <tr>\n",
       "      <th>1040</th>\n",
       "      <td>0</td>\n",
       "      <td>1158</td>\n",
       "      <td>0</td>\n",
       "      <td>высшее</td>\n",
       "      <td>0</td>\n",
       "      <td>в разводе</td>\n",
       "      <td>3</td>\n",
       "      <td>F</td>\n",
       "      <td>компаньон</td>\n",
       "      <td>0</td>\n",
       "      <td>303994.134987</td>\n",
       "      <td>свой автомобиль</td>\n",
       "    </tr>\n",
       "    <tr>\n",
       "      <th>1149</th>\n",
       "      <td>0</td>\n",
       "      <td>934</td>\n",
       "      <td>0</td>\n",
       "      <td>среднее</td>\n",
       "      <td>1</td>\n",
       "      <td>женат / замужем</td>\n",
       "      <td>0</td>\n",
       "      <td>F</td>\n",
       "      <td>компаньон</td>\n",
       "      <td>0</td>\n",
       "      <td>201852.430096</td>\n",
       "      <td>покупка недвижимости</td>\n",
       "    </tr>\n",
       "    <tr>\n",
       "      <th>1175</th>\n",
       "      <td>0</td>\n",
       "      <td>370879</td>\n",
       "      <td>0</td>\n",
       "      <td>среднее</td>\n",
       "      <td>1</td>\n",
       "      <td>женат / замужем</td>\n",
       "      <td>0</td>\n",
       "      <td>F</td>\n",
       "      <td>пенсионер</td>\n",
       "      <td>0</td>\n",
       "      <td>313949.845188</td>\n",
       "      <td>получение дополнительного образования</td>\n",
       "    </tr>\n",
       "    <tr>\n",
       "      <th>1386</th>\n",
       "      <td>0</td>\n",
       "      <td>5043</td>\n",
       "      <td>0</td>\n",
       "      <td>высшее</td>\n",
       "      <td>0</td>\n",
       "      <td>женат / замужем</td>\n",
       "      <td>0</td>\n",
       "      <td>M</td>\n",
       "      <td>госслужащий</td>\n",
       "      <td>0</td>\n",
       "      <td>240523.618071</td>\n",
       "      <td>сделка с автомобилем</td>\n",
       "    </tr>\n",
       "    <tr>\n",
       "      <th>1890</th>\n",
       "      <td>0</td>\n",
       "      <td>1574</td>\n",
       "      <td>0</td>\n",
       "      <td>высшее</td>\n",
       "      <td>0</td>\n",
       "      <td>Не женат / не замужем</td>\n",
       "      <td>4</td>\n",
       "      <td>F</td>\n",
       "      <td>сотрудник</td>\n",
       "      <td>0</td>\n",
       "      <td>NaN</td>\n",
       "      <td>жилье</td>\n",
       "    </tr>\n",
       "    <tr>\n",
       "      <th>1898</th>\n",
       "      <td>0</td>\n",
       "      <td>370144</td>\n",
       "      <td>0</td>\n",
       "      <td>среднее</td>\n",
       "      <td>1</td>\n",
       "      <td>вдовец / вдова</td>\n",
       "      <td>2</td>\n",
       "      <td>F</td>\n",
       "      <td>пенсионер</td>\n",
       "      <td>0</td>\n",
       "      <td>127400.268338</td>\n",
       "      <td>на покупку автомобиля</td>\n",
       "    </tr>\n",
       "  </tbody>\n",
       "</table>\n",
       "</div>"
      ],
      "text/plain": [
       "      children  days_employed  dob_years education  education_id  \\\n",
       "99           0         346541          0   Среднее             1   \n",
       "149          0           2664          0   среднее             1   \n",
       "270          3           1872          0   среднее             1   \n",
       "578          0         397856          0   среднее             1   \n",
       "1040         0           1158          0    высшее             0   \n",
       "1149         0            934          0   среднее             1   \n",
       "1175         0         370879          0   среднее             1   \n",
       "1386         0           5043          0    высшее             0   \n",
       "1890         0           1574          0    высшее             0   \n",
       "1898         0         370144          0   среднее             1   \n",
       "\n",
       "              family_status  family_status_id gender  income_type  debt  \\\n",
       "99          женат / замужем                 0      F    пенсионер     0   \n",
       "149               в разводе                 3      F    сотрудник     0   \n",
       "270         женат / замужем                 0      F    сотрудник     0   \n",
       "578         женат / замужем                 0      F    пенсионер     0   \n",
       "1040              в разводе                 3      F    компаньон     0   \n",
       "1149        женат / замужем                 0      F    компаньон     0   \n",
       "1175        женат / замужем                 0      F    пенсионер     0   \n",
       "1386        женат / замужем                 0      M  госслужащий     0   \n",
       "1890  Не женат / не замужем                 4      F    сотрудник     0   \n",
       "1898         вдовец / вдова                 2      F    пенсионер     0   \n",
       "\n",
       "       total_income                                 purpose  \n",
       "99     71291.522491                              автомобиль  \n",
       "149    70176.435951                       операции с жильем  \n",
       "270   102166.458894                            ремонт жилью  \n",
       "578    97620.687042  строительство собственной недвижимости  \n",
       "1040  303994.134987                         свой автомобиль  \n",
       "1149  201852.430096                    покупка недвижимости  \n",
       "1175  313949.845188   получение дополнительного образования  \n",
       "1386  240523.618071                    сделка с автомобилем  \n",
       "1890            NaN                                   жилье  \n",
       "1898  127400.268338                   на покупку автомобиля  "
      ]
     },
     "execution_count": 14,
     "metadata": {},
     "output_type": "execute_result"
    }
   ],
   "source": [
    "df.query('dob_years == 0').head(10)"
   ]
  },
  {
   "cell_type": "markdown",
   "id": "9017cd72",
   "metadata": {},
   "source": [
    "Очевидно опять техническая ошибка, БД данного банка оставляет желать лучшего. Так как возраст клиентов напрямую не влияет на цель исследования, заменяю **0** на медианное значение."
   ]
  },
  {
   "cell_type": "code",
   "execution_count": 15,
   "id": "04ff8534",
   "metadata": {},
   "outputs": [
    {
     "data": {
      "text/plain": [
       "array([19, 20, 21, 22, 23, 24, 25, 26, 27, 28, 29, 30, 31, 32, 33, 34, 35,\n",
       "       36, 37, 38, 39, 40, 41, 42, 43, 44, 45, 46, 47, 48, 49, 50, 51, 52,\n",
       "       53, 54, 55, 56, 57, 58, 59, 60, 61, 62, 63, 64, 65, 66, 67, 68, 69,\n",
       "       70, 71, 72, 73, 74, 75], dtype=int64)"
      ]
     },
     "execution_count": 15,
     "metadata": {},
     "output_type": "execute_result"
    }
   ],
   "source": [
    "df['dob_years'] = df['dob_years'].replace(0, df.query('dob_years != 0')['dob_years'].median())\n",
    "df['dob_years'].sort_values().unique()"
   ]
  },
  {
   "cell_type": "markdown",
   "id": "240b00c1",
   "metadata": {},
   "source": [
    "Готово. Теперь кредиты строго с 18 лет!"
   ]
  },
  {
   "cell_type": "markdown",
   "id": "edf86b90",
   "metadata": {},
   "source": [
    "### Столбец `education` (уровень образования клиента)."
   ]
  },
  {
   "cell_type": "markdown",
   "id": "d6e27001",
   "metadata": {},
   "source": [
    "Смотрю уникальные значения данного столбца."
   ]
  },
  {
   "cell_type": "code",
   "execution_count": 16,
   "id": "02f3b57b",
   "metadata": {},
   "outputs": [
    {
     "data": {
      "text/plain": [
       "array(['ВЫСШЕЕ', 'Высшее', 'НАЧАЛЬНОЕ', 'НЕОКОНЧЕННОЕ ВЫСШЕЕ',\n",
       "       'Начальное', 'Неоконченное высшее', 'СРЕДНЕЕ', 'Среднее',\n",
       "       'УЧЕНАЯ СТЕПЕНЬ', 'Ученая степень', 'высшее', 'начальное',\n",
       "       'неоконченное высшее', 'среднее', 'ученая степень'], dtype=object)"
      ]
     },
     "execution_count": 16,
     "metadata": {},
     "output_type": "execute_result"
    }
   ],
   "source": [
    "df['education'].sort_values().unique()"
   ]
  },
  {
   "cell_type": "markdown",
   "id": "0a8acdd1",
   "metadata": {},
   "source": [
    "Здесь налицо неявные дубликаты, видимо значения вносились разными работниками банка, не имеющими общей стилистики. Привожу все значения столбцов со строками к нижнему регистру."
   ]
  },
  {
   "cell_type": "code",
   "execution_count": 17,
   "id": "42f464c8",
   "metadata": {
    "scrolled": true
   },
   "outputs": [
    {
     "data": {
      "text/plain": [
       "array(['высшее', 'начальное', 'неоконченное высшее', 'среднее',\n",
       "       'ученая степень'], dtype=object)"
      ]
     },
     "execution_count": 17,
     "metadata": {},
     "output_type": "execute_result"
    }
   ],
   "source": [
    "columns = ['education', 'family_status', 'gender', 'income_type', 'purpose']\n",
    "for column in columns:\n",
    "    df[column] = df[column].str.lower()\n",
    "    \n",
    "df['education'].sort_values().unique()"
   ]
  },
  {
   "cell_type": "markdown",
   "id": "d7582dfd",
   "metadata": {},
   "source": [
    "### Столбец `education_id` (идентификатор уровня образования)."
   ]
  },
  {
   "cell_type": "markdown",
   "id": "76ebec2d",
   "metadata": {},
   "source": [
    "Смотрю уникальные значения данного столбца."
   ]
  },
  {
   "cell_type": "code",
   "execution_count": 18,
   "id": "7031561b",
   "metadata": {},
   "outputs": [
    {
     "data": {
      "text/plain": [
       "array([0, 1, 2, 3, 4], dtype=int64)"
      ]
     },
     "execution_count": 18,
     "metadata": {},
     "output_type": "execute_result"
    }
   ],
   "source": [
    "df['education_id'].sort_values().unique()"
   ]
  },
  {
   "cell_type": "markdown",
   "id": "c0e92db0",
   "metadata": {},
   "source": [
    "Ого, неужели хоть один столбец в порядке? 5 уровней образования клиента и 5 идентификаторов уровня образования.\n",
    "Выясняю, какой идентификатор, какому уровню соответствует, для этого создаю новый датасет `education`."
   ]
  },
  {
   "cell_type": "code",
   "execution_count": 19,
   "id": "6d5a8952",
   "metadata": {},
   "outputs": [
    {
     "data": {
      "text/html": [
       "<div>\n",
       "<style scoped>\n",
       "    .dataframe tbody tr th:only-of-type {\n",
       "        vertical-align: middle;\n",
       "    }\n",
       "\n",
       "    .dataframe tbody tr th {\n",
       "        vertical-align: top;\n",
       "    }\n",
       "\n",
       "    .dataframe thead th {\n",
       "        text-align: right;\n",
       "    }\n",
       "</style>\n",
       "<table border=\"1\" class=\"dataframe\">\n",
       "  <thead>\n",
       "    <tr style=\"text-align: right;\">\n",
       "      <th></th>\n",
       "      <th>education</th>\n",
       "      <th>education_id</th>\n",
       "    </tr>\n",
       "  </thead>\n",
       "  <tbody>\n",
       "    <tr>\n",
       "      <th>0</th>\n",
       "      <td>высшее</td>\n",
       "      <td>0</td>\n",
       "    </tr>\n",
       "    <tr>\n",
       "      <th>1</th>\n",
       "      <td>среднее</td>\n",
       "      <td>1</td>\n",
       "    </tr>\n",
       "    <tr>\n",
       "      <th>2</th>\n",
       "      <td>неоконченное высшее</td>\n",
       "      <td>2</td>\n",
       "    </tr>\n",
       "    <tr>\n",
       "      <th>3</th>\n",
       "      <td>начальное</td>\n",
       "      <td>3</td>\n",
       "    </tr>\n",
       "    <tr>\n",
       "      <th>4</th>\n",
       "      <td>ученая степень</td>\n",
       "      <td>4</td>\n",
       "    </tr>\n",
       "  </tbody>\n",
       "</table>\n",
       "</div>"
      ],
      "text/plain": [
       "             education  education_id\n",
       "0               высшее             0\n",
       "1              среднее             1\n",
       "2  неоконченное высшее             2\n",
       "3            начальное             3\n",
       "4       ученая степень             4"
      ]
     },
     "execution_count": 19,
     "metadata": {},
     "output_type": "execute_result"
    }
   ],
   "source": [
    "education = df[['education', 'education_id']].drop_duplicates().reset_index(drop=True)\n",
    "education"
   ]
  },
  {
   "cell_type": "markdown",
   "id": "590b61d4",
   "metadata": {},
   "source": [
    "Неплохо, никаких аномалий. Теперь столбец **`education`** не нужен, и его можно смело удалить. А значения столбца **`education_id`** всегда можно получить по идентификатору в датасете `education`."
   ]
  },
  {
   "cell_type": "code",
   "execution_count": 20,
   "id": "d2cfb196",
   "metadata": {},
   "outputs": [],
   "source": [
    "df.drop('education', axis=1, inplace=True)"
   ]
  },
  {
   "cell_type": "markdown",
   "id": "6cb83815",
   "metadata": {},
   "source": [
    "### Столбец `family_status` (семейное положение)."
   ]
  },
  {
   "cell_type": "markdown",
   "id": "7856d0fa",
   "metadata": {},
   "source": [
    "Смотрю уникальные значения данного столбца."
   ]
  },
  {
   "cell_type": "code",
   "execution_count": 21,
   "id": "805e7436",
   "metadata": {},
   "outputs": [
    {
     "data": {
      "text/plain": [
       "array(['в разводе', 'вдовец / вдова', 'гражданский брак',\n",
       "       'женат / замужем', 'не женат / не замужем'], dtype=object)"
      ]
     },
     "execution_count": 21,
     "metadata": {},
     "output_type": "execute_result"
    }
   ],
   "source": [
    "df['family_status'].sort_values().unique()"
   ]
  },
  {
   "cell_type": "markdown",
   "id": "37018357",
   "metadata": {},
   "source": [
    "Неужели еще один столбец, где ничего не нужно редактировать?!"
   ]
  },
  {
   "cell_type": "markdown",
   "id": "4dd30549",
   "metadata": {},
   "source": [
    "### Столбец `family_status_id` (идентификатор семейного положения)."
   ]
  },
  {
   "cell_type": "markdown",
   "id": "3ab22014",
   "metadata": {},
   "source": [
    "Смотрю уникальные значения данного столбца."
   ]
  },
  {
   "cell_type": "code",
   "execution_count": 22,
   "id": "08ebd1f5",
   "metadata": {},
   "outputs": [
    {
     "data": {
      "text/plain": [
       "array([0, 1, 2, 3, 4], dtype=int64)"
      ]
     },
     "execution_count": 22,
     "metadata": {},
     "output_type": "execute_result"
    }
   ],
   "source": [
    "df['family_status_id'].sort_values().unique()"
   ]
  },
  {
   "cell_type": "markdown",
   "id": "fef84550",
   "metadata": {},
   "source": [
    "Здесь тоже все хорошо. Как и в столбце **`education_id`**, определяю, какой идентификатор, чему соответствует. Создаю датасет `family_status` с уникальными значениями столбцов **`family_status`** и **`family_status_id`**."
   ]
  },
  {
   "cell_type": "code",
   "execution_count": 23,
   "id": "9151aa8f",
   "metadata": {},
   "outputs": [
    {
     "data": {
      "text/html": [
       "<div>\n",
       "<style scoped>\n",
       "    .dataframe tbody tr th:only-of-type {\n",
       "        vertical-align: middle;\n",
       "    }\n",
       "\n",
       "    .dataframe tbody tr th {\n",
       "        vertical-align: top;\n",
       "    }\n",
       "\n",
       "    .dataframe thead th {\n",
       "        text-align: right;\n",
       "    }\n",
       "</style>\n",
       "<table border=\"1\" class=\"dataframe\">\n",
       "  <thead>\n",
       "    <tr style=\"text-align: right;\">\n",
       "      <th></th>\n",
       "      <th>family_status</th>\n",
       "      <th>family_status_id</th>\n",
       "    </tr>\n",
       "  </thead>\n",
       "  <tbody>\n",
       "    <tr>\n",
       "      <th>0</th>\n",
       "      <td>женат / замужем</td>\n",
       "      <td>0</td>\n",
       "    </tr>\n",
       "    <tr>\n",
       "      <th>1</th>\n",
       "      <td>гражданский брак</td>\n",
       "      <td>1</td>\n",
       "    </tr>\n",
       "    <tr>\n",
       "      <th>2</th>\n",
       "      <td>вдовец / вдова</td>\n",
       "      <td>2</td>\n",
       "    </tr>\n",
       "    <tr>\n",
       "      <th>3</th>\n",
       "      <td>в разводе</td>\n",
       "      <td>3</td>\n",
       "    </tr>\n",
       "    <tr>\n",
       "      <th>4</th>\n",
       "      <td>не женат / не замужем</td>\n",
       "      <td>4</td>\n",
       "    </tr>\n",
       "  </tbody>\n",
       "</table>\n",
       "</div>"
      ],
      "text/plain": [
       "           family_status  family_status_id\n",
       "0        женат / замужем                 0\n",
       "1       гражданский брак                 1\n",
       "2         вдовец / вдова                 2\n",
       "3              в разводе                 3\n",
       "4  не женат / не замужем                 4"
      ]
     },
     "execution_count": 23,
     "metadata": {},
     "output_type": "execute_result"
    }
   ],
   "source": [
    "family_status = df[['family_status', 'family_status_id']].drop_duplicates().reset_index(drop=True)\n",
    "family_status"
   ]
  },
  {
   "cell_type": "markdown",
   "id": "ca4b4ffd",
   "metadata": {},
   "source": [
    "Это не может не радовать, вот бы все столбцы были в таком порядке. Теперь столбец **`family_status`** также не нужен, и его можно удалить."
   ]
  },
  {
   "cell_type": "code",
   "execution_count": 24,
   "id": "81f90093",
   "metadata": {},
   "outputs": [],
   "source": [
    "df.drop('family_status', axis=1, inplace=True)"
   ]
  },
  {
   "cell_type": "markdown",
   "id": "eaf950c3",
   "metadata": {},
   "source": [
    "### Столбец `gender` (пол клиента)."
   ]
  },
  {
   "cell_type": "markdown",
   "id": "586d3ec5",
   "metadata": {},
   "source": [
    "Смотрю уникальные значения данного столбца и их колличество."
   ]
  },
  {
   "cell_type": "code",
   "execution_count": 25,
   "id": "98be58da",
   "metadata": {
    "scrolled": true
   },
   "outputs": [
    {
     "data": {
      "text/plain": [
       "f      14236\n",
       "m       7288\n",
       "xna        1\n",
       "Name: gender, dtype: int64"
      ]
     },
     "execution_count": 25,
     "metadata": {},
     "output_type": "execute_result"
    }
   ],
   "source": [
    "df['gender'].value_counts()"
   ]
  },
  {
   "cell_type": "code",
   "execution_count": 26,
   "id": "db495ecf",
   "metadata": {
    "scrolled": true
   },
   "outputs": [
    {
     "data": {
      "text/html": [
       "<div>\n",
       "<style scoped>\n",
       "    .dataframe tbody tr th:only-of-type {\n",
       "        vertical-align: middle;\n",
       "    }\n",
       "\n",
       "    .dataframe tbody tr th {\n",
       "        vertical-align: top;\n",
       "    }\n",
       "\n",
       "    .dataframe thead th {\n",
       "        text-align: right;\n",
       "    }\n",
       "</style>\n",
       "<table border=\"1\" class=\"dataframe\">\n",
       "  <thead>\n",
       "    <tr style=\"text-align: right;\">\n",
       "      <th></th>\n",
       "      <th>children</th>\n",
       "      <th>days_employed</th>\n",
       "      <th>dob_years</th>\n",
       "      <th>education_id</th>\n",
       "      <th>family_status_id</th>\n",
       "      <th>gender</th>\n",
       "      <th>income_type</th>\n",
       "      <th>debt</th>\n",
       "      <th>total_income</th>\n",
       "      <th>purpose</th>\n",
       "    </tr>\n",
       "  </thead>\n",
       "  <tbody>\n",
       "    <tr>\n",
       "      <th>10701</th>\n",
       "      <td>0</td>\n",
       "      <td>2358</td>\n",
       "      <td>24</td>\n",
       "      <td>2</td>\n",
       "      <td>1</td>\n",
       "      <td>xna</td>\n",
       "      <td>компаньон</td>\n",
       "      <td>0</td>\n",
       "      <td>203905.157261</td>\n",
       "      <td>покупка недвижимости</td>\n",
       "    </tr>\n",
       "  </tbody>\n",
       "</table>\n",
       "</div>"
      ],
      "text/plain": [
       "       children  days_employed  dob_years  education_id  family_status_id  \\\n",
       "10701         0           2358         24             2                 1   \n",
       "\n",
       "      gender income_type  debt   total_income               purpose  \n",
       "10701    xna   компаньон     0  203905.157261  покупка недвижимости  "
      ]
     },
     "execution_count": 26,
     "metadata": {},
     "output_type": "execute_result"
    }
   ],
   "source": [
    "df.query('gender == \"xna\"')"
   ]
  },
  {
   "cell_type": "markdown",
   "id": "4e9aa893",
   "metadata": {},
   "source": [
    "Насколько мне известно, официально, в России нет трансгендеров, а лица сменившие пол в любом случае значаться как **f** и **m**. Данную строку можно удалить и она не повлияет на исследование, но по этой же причине её можно и оставить. Выбираю второе, да будет **xna**!"
   ]
  },
  {
   "cell_type": "markdown",
   "id": "ed7c0356",
   "metadata": {},
   "source": [
    "### Столбец `income_type` (тип занятости)."
   ]
  },
  {
   "cell_type": "markdown",
   "id": "174bae48",
   "metadata": {},
   "source": [
    "Смотрю уникальные значения данного столбца."
   ]
  },
  {
   "cell_type": "code",
   "execution_count": 27,
   "id": "27e5b676",
   "metadata": {},
   "outputs": [
    {
     "data": {
      "text/plain": [
       "array(['безработный', 'в декрете', 'госслужащий', 'компаньон',\n",
       "       'пенсионер', 'предприниматель', 'сотрудник', 'студент'],\n",
       "      dtype=object)"
      ]
     },
     "execution_count": 27,
     "metadata": {},
     "output_type": "execute_result"
    }
   ],
   "source": [
    "df['income_type'].sort_values().unique()"
   ]
  },
  {
   "cell_type": "markdown",
   "id": "e44c89bb",
   "metadata": {},
   "source": [
    "Никаких дублей. Лайк."
   ]
  },
  {
   "cell_type": "markdown",
   "id": "b5e20b67",
   "metadata": {},
   "source": [
    "### Столбец `debt` (имел ли задолженность по возврату кредитов)."
   ]
  },
  {
   "cell_type": "markdown",
   "id": "e4d7dc50",
   "metadata": {},
   "source": [
    "Смотрю уникальные значения данного столбца и их колличество."
   ]
  },
  {
   "cell_type": "code",
   "execution_count": 28,
   "id": "b9b94f84",
   "metadata": {},
   "outputs": [
    {
     "data": {
      "text/plain": [
       "0    19784\n",
       "1     1741\n",
       "Name: debt, dtype: int64"
      ]
     },
     "execution_count": 28,
     "metadata": {},
     "output_type": "execute_result"
    }
   ],
   "source": [
    "df['debt'].value_counts()"
   ]
  },
  {
   "cell_type": "markdown",
   "id": "d651f19f",
   "metadata": {},
   "source": [
    "Обошлось без аномалий. Обозначений данных я не нашел, но исходя из количественных и логических размышлений, смею предположить что:   \n",
    "- **`0`** - не имел задолженностей; \n",
    "- **`1`** - имел."
   ]
  },
  {
   "cell_type": "markdown",
   "id": "ff375168",
   "metadata": {},
   "source": [
    "### Столбец `total_income` (ежемесячный доход)."
   ]
  },
  {
   "cell_type": "markdown",
   "id": "7e4d0f12",
   "metadata": {},
   "source": [
    "Как я решил, когда обрабатывал столбец **`days_employed`**, так как цель исследования напрямую не связана с ежемесячным доходом, лучшим решением будет заполнить пропуски медианным значением. А также меняю тип данных на целочисленный. Благо, в этот раз обошлось без отрицательных значений."
   ]
  },
  {
   "cell_type": "code",
   "execution_count": 29,
   "id": "008480c1",
   "metadata": {},
   "outputs": [
    {
     "data": {
      "text/plain": [
       "0"
      ]
     },
     "execution_count": 29,
     "metadata": {},
     "output_type": "execute_result"
    }
   ],
   "source": [
    "df['total_income'] = df['total_income'].fillna(df.groupby('income_type')['total_income'].transform('median'))\n",
    "df['total_income'] = df['total_income'].astype('int64')\n",
    "df['total_income'].isna().sum()"
   ]
  },
  {
   "cell_type": "markdown",
   "id": "17d0e6fb",
   "metadata": {},
   "source": [
    "На основании диапазонов, указанных ниже, создаю столбец **`total_income_category`** с категориями дохода:\n",
    "- **до 30000** - **`'E'`**;\n",
    "- **30001 - 50000** - **`'D'`**;\n",
    "- **50001 - 200000** - **`'C'`**;\n",
    "- **200001 - 1000000** - **`'B'`**;\n",
    "- **1000001 и выше** - **`'A'`**."
   ]
  },
  {
   "cell_type": "code",
   "execution_count": 30,
   "id": "a1472871",
   "metadata": {},
   "outputs": [
    {
     "data": {
      "text/plain": [
       "c    16086\n",
       "b     5042\n",
       "d      350\n",
       "a       25\n",
       "e       22\n",
       "Name: total_income_category, dtype: int64"
      ]
     },
     "execution_count": 30,
     "metadata": {},
     "output_type": "execute_result"
    }
   ],
   "source": [
    "def total_income_values(total_income):\n",
    "    try:\n",
    "        if total_income <= 30000:\n",
    "            return 'e'\n",
    "\n",
    "        elif 30001 <= total_income <= 50000:\n",
    "            return 'd'\n",
    "\n",
    "        elif 50001 <= total_income <= 200000:\n",
    "            return 'c'\n",
    "\n",
    "        elif 200001 <= total_income <= 1000000:\n",
    "            return 'b'\n",
    "        \n",
    "        elif 1000001 <= total_income:\n",
    "            return 'a'\n",
    "        \n",
    "        else:\n",
    "            return 'unknown'\n",
    "    except:\n",
    "        print('Что-то пошло не так, перепроверь код.')\n",
    "\n",
    "df['total_income_category'] = df['total_income'].apply(total_income_values)\n",
    "df['total_income_category'].value_counts()"
   ]
  },
  {
   "cell_type": "markdown",
   "id": "89fcfedd",
   "metadata": {},
   "source": [
    "Доходы конечно не среднероссийские. Но мне даже хочется верить, что это так, а не очередная ошибка в данных."
   ]
  },
  {
   "cell_type": "markdown",
   "id": "6925af42",
   "metadata": {},
   "source": [
    "### Столбец `purpose` (цель получения кредита)."
   ]
  },
  {
   "cell_type": "markdown",
   "id": "4c0cf9bb",
   "metadata": {},
   "source": [
    "Смотрю уникальные значения данного столбца."
   ]
  },
  {
   "cell_type": "code",
   "execution_count": 31,
   "id": "39d214b1",
   "metadata": {},
   "outputs": [
    {
     "data": {
      "text/plain": [
       "array(['автомобили', 'автомобиль', 'высшее образование',\n",
       "       'дополнительное образование', 'жилье',\n",
       "       'заняться высшим образованием', 'заняться образованием',\n",
       "       'на покупку автомобиля', 'на покупку подержанного автомобиля',\n",
       "       'на покупку своего автомобиля', 'на проведение свадьбы',\n",
       "       'недвижимость', 'образование', 'операции с жильем',\n",
       "       'операции с коммерческой недвижимостью',\n",
       "       'операции с недвижимостью', 'операции со своей недвижимостью',\n",
       "       'покупка жилой недвижимости', 'покупка жилья',\n",
       "       'покупка жилья для сдачи', 'покупка жилья для семьи',\n",
       "       'покупка коммерческой недвижимости', 'покупка недвижимости',\n",
       "       'покупка своего жилья', 'получение высшего образования',\n",
       "       'получение дополнительного образования', 'получение образования',\n",
       "       'приобретение автомобиля', 'профильное образование',\n",
       "       'ремонт жилью', 'свадьба', 'свой автомобиль',\n",
       "       'сделка с автомобилем', 'сделка с подержанным автомобилем',\n",
       "       'строительство жилой недвижимости', 'строительство недвижимости',\n",
       "       'строительство собственной недвижимости', 'сыграть свадьбу'],\n",
       "      dtype=object)"
      ]
     },
     "execution_count": 31,
     "metadata": {},
     "output_type": "execute_result"
    }
   ],
   "source": [
    "df['purpose'].sort_values().unique()"
   ]
  },
  {
   "cell_type": "markdown",
   "id": "1d9cc535",
   "metadata": {},
   "source": [
    "Вновь море неявных дубликатов. Избавляюсь от них функцией `purpose_values`. Создаю столбец **`purpose_category`**, куда записываю отсортированные значения. А столбец **`purpose`** за ненадобностью удаляю."
   ]
  },
  {
   "cell_type": "code",
   "execution_count": 32,
   "id": "528feaaa",
   "metadata": {},
   "outputs": [
    {
     "data": {
      "text/plain": [
       "операции с недвижимостью    10840\n",
       "операции с автомобилем       4315\n",
       "получение образования        4022\n",
       "проведение свадьбы           2348\n",
       "Name: purpose_category, dtype: int64"
      ]
     },
     "execution_count": 32,
     "metadata": {},
     "output_type": "execute_result"
    }
   ],
   "source": [
    "def purpose_values(purpose):\n",
    "    try:\n",
    "        if 'свадьб' in purpose:\n",
    "            return 'проведение свадьбы'\n",
    "\n",
    "        elif 'образован' in purpose:\n",
    "            return 'получение образования'\n",
    "\n",
    "        elif 'автомобил' in purpose:\n",
    "            return 'операции с автомобилем'\n",
    "        \n",
    "        elif 'жиль' in purpose or 'недвижимост' in purpose:\n",
    "            return 'операции с недвижимостью'\n",
    "\n",
    "        else:\n",
    "            return 'unknown'\n",
    "    except:\n",
    "        print('Что-то пошло не так, переповерь код.')\n",
    "\n",
    "df['purpose_category'] = df['purpose'].apply(purpose_values)\n",
    "df.drop('purpose', axis=1, inplace=True)\n",
    "df['purpose_category'].value_counts()"
   ]
  },
  {
   "cell_type": "markdown",
   "id": "72c50c38",
   "metadata": {},
   "source": [
    "Отлично, с этим уже можно работать."
   ]
  },
  {
   "cell_type": "markdown",
   "id": "5f53b181",
   "metadata": {},
   "source": [
    "### Удаляю явные дубликаты."
   ]
  },
  {
   "cell_type": "markdown",
   "id": "aa5478a4",
   "metadata": {},
   "source": [
    "Проверяю не добавилось ли явных дубликатов в датасете."
   ]
  },
  {
   "cell_type": "code",
   "execution_count": 33,
   "id": "d30bb06c",
   "metadata": {},
   "outputs": [
    {
     "name": "stdout",
     "output_type": "stream",
     "text": [
      "408\n",
      "Доля явных дубликатов составляет 1.9%\n"
     ]
    }
   ],
   "source": [
    "print(df.duplicated().sum())\n",
    "print(f'Доля явных дубликатов составляет {df.duplicated().sum() / df.shape[0]:.1%}')"
   ]
  },
  {
   "cell_type": "markdown",
   "id": "be10b050",
   "metadata": {},
   "source": [
    "До предобработки датасет содержал **54** явных дубликата, теперь их **408**."
   ]
  },
  {
   "cell_type": "code",
   "execution_count": 34,
   "id": "1248c4c4",
   "metadata": {},
   "outputs": [
    {
     "data": {
      "text/plain": [
       "0"
      ]
     },
     "execution_count": 34,
     "metadata": {},
     "output_type": "execute_result"
    }
   ],
   "source": [
    "df = df.drop_duplicates().reset_index(drop=True)\n",
    "df.duplicated().sum()"
   ]
  },
  {
   "cell_type": "markdown",
   "id": "79b6bffd",
   "metadata": {},
   "source": [
    "### Смотрю итоговый результат."
   ]
  },
  {
   "cell_type": "code",
   "execution_count": 35,
   "id": "a8874f38",
   "metadata": {},
   "outputs": [
    {
     "data": {
      "text/html": [
       "<div>\n",
       "<style scoped>\n",
       "    .dataframe tbody tr th:only-of-type {\n",
       "        vertical-align: middle;\n",
       "    }\n",
       "\n",
       "    .dataframe tbody tr th {\n",
       "        vertical-align: top;\n",
       "    }\n",
       "\n",
       "    .dataframe thead th {\n",
       "        text-align: right;\n",
       "    }\n",
       "</style>\n",
       "<table border=\"1\" class=\"dataframe\">\n",
       "  <thead>\n",
       "    <tr style=\"text-align: right;\">\n",
       "      <th></th>\n",
       "      <th>children</th>\n",
       "      <th>days_employed</th>\n",
       "      <th>dob_years</th>\n",
       "      <th>education_id</th>\n",
       "      <th>family_status_id</th>\n",
       "      <th>gender</th>\n",
       "      <th>income_type</th>\n",
       "      <th>debt</th>\n",
       "      <th>total_income</th>\n",
       "      <th>total_income_category</th>\n",
       "      <th>purpose_category</th>\n",
       "    </tr>\n",
       "  </thead>\n",
       "  <tbody>\n",
       "    <tr>\n",
       "      <th>0</th>\n",
       "      <td>1</td>\n",
       "      <td>8437</td>\n",
       "      <td>42</td>\n",
       "      <td>0</td>\n",
       "      <td>0</td>\n",
       "      <td>f</td>\n",
       "      <td>сотрудник</td>\n",
       "      <td>0</td>\n",
       "      <td>253875</td>\n",
       "      <td>b</td>\n",
       "      <td>операции с недвижимостью</td>\n",
       "    </tr>\n",
       "    <tr>\n",
       "      <th>1</th>\n",
       "      <td>1</td>\n",
       "      <td>4024</td>\n",
       "      <td>36</td>\n",
       "      <td>1</td>\n",
       "      <td>0</td>\n",
       "      <td>f</td>\n",
       "      <td>сотрудник</td>\n",
       "      <td>0</td>\n",
       "      <td>112080</td>\n",
       "      <td>c</td>\n",
       "      <td>операции с автомобилем</td>\n",
       "    </tr>\n",
       "    <tr>\n",
       "      <th>2</th>\n",
       "      <td>0</td>\n",
       "      <td>5623</td>\n",
       "      <td>33</td>\n",
       "      <td>1</td>\n",
       "      <td>0</td>\n",
       "      <td>m</td>\n",
       "      <td>сотрудник</td>\n",
       "      <td>0</td>\n",
       "      <td>145885</td>\n",
       "      <td>c</td>\n",
       "      <td>операции с недвижимостью</td>\n",
       "    </tr>\n",
       "  </tbody>\n",
       "</table>\n",
       "</div>"
      ],
      "text/plain": [
       "   children  days_employed  dob_years  education_id  family_status_id gender  \\\n",
       "0         1           8437         42             0                 0      f   \n",
       "1         1           4024         36             1                 0      f   \n",
       "2         0           5623         33             1                 0      m   \n",
       "\n",
       "  income_type  debt  total_income total_income_category  \\\n",
       "0   сотрудник     0        253875                     b   \n",
       "1   сотрудник     0        112080                     c   \n",
       "2   сотрудник     0        145885                     c   \n",
       "\n",
       "           purpose_category  \n",
       "0  операции с недвижимостью  \n",
       "1    операции с автомобилем  \n",
       "2  операции с недвижимостью  "
      ]
     },
     "metadata": {},
     "output_type": "display_data"
    },
    {
     "name": "stdout",
     "output_type": "stream",
     "text": [
      "--------------------------------------------------\n",
      "<class 'pandas.core.frame.DataFrame'>\n",
      "RangeIndex: 21117 entries, 0 to 21116\n",
      "Data columns (total 11 columns):\n",
      " #   Column                 Non-Null Count  Dtype \n",
      "---  ------                 --------------  ----- \n",
      " 0   children               21117 non-null  int64 \n",
      " 1   days_employed          21117 non-null  int64 \n",
      " 2   dob_years              21117 non-null  int64 \n",
      " 3   education_id           21117 non-null  int64 \n",
      " 4   family_status_id       21117 non-null  int64 \n",
      " 5   gender                 21117 non-null  object\n",
      " 6   income_type            21117 non-null  object\n",
      " 7   debt                   21117 non-null  int64 \n",
      " 8   total_income           21117 non-null  int64 \n",
      " 9   total_income_category  21117 non-null  object\n",
      " 10  purpose_category       21117 non-null  object\n",
      "dtypes: int64(7), object(4)\n",
      "memory usage: 1.8+ MB\n",
      "--------------------------------------------------\n"
     ]
    },
    {
     "data": {
      "text/html": [
       "<div>\n",
       "<style scoped>\n",
       "    .dataframe tbody tr th:only-of-type {\n",
       "        vertical-align: middle;\n",
       "    }\n",
       "\n",
       "    .dataframe tbody tr th {\n",
       "        vertical-align: top;\n",
       "    }\n",
       "\n",
       "    .dataframe thead th {\n",
       "        text-align: right;\n",
       "    }\n",
       "</style>\n",
       "<table border=\"1\" class=\"dataframe\">\n",
       "  <thead>\n",
       "    <tr style=\"text-align: right;\">\n",
       "      <th></th>\n",
       "      <th>children</th>\n",
       "      <th>days_employed</th>\n",
       "      <th>dob_years</th>\n",
       "      <th>education_id</th>\n",
       "      <th>family_status_id</th>\n",
       "      <th>gender</th>\n",
       "      <th>income_type</th>\n",
       "      <th>debt</th>\n",
       "      <th>total_income</th>\n",
       "      <th>total_income_category</th>\n",
       "      <th>purpose_category</th>\n",
       "    </tr>\n",
       "  </thead>\n",
       "  <tbody>\n",
       "    <tr>\n",
       "      <th>count</th>\n",
       "      <td>21117.000000</td>\n",
       "      <td>21117.000000</td>\n",
       "      <td>21117.000000</td>\n",
       "      <td>21117.000000</td>\n",
       "      <td>21117.000000</td>\n",
       "      <td>21117</td>\n",
       "      <td>21117</td>\n",
       "      <td>21117.000000</td>\n",
       "      <td>2.111700e+04</td>\n",
       "      <td>21117</td>\n",
       "      <td>21117</td>\n",
       "    </tr>\n",
       "    <tr>\n",
       "      <th>unique</th>\n",
       "      <td>NaN</td>\n",
       "      <td>NaN</td>\n",
       "      <td>NaN</td>\n",
       "      <td>NaN</td>\n",
       "      <td>NaN</td>\n",
       "      <td>3</td>\n",
       "      <td>8</td>\n",
       "      <td>NaN</td>\n",
       "      <td>NaN</td>\n",
       "      <td>5</td>\n",
       "      <td>4</td>\n",
       "    </tr>\n",
       "    <tr>\n",
       "      <th>top</th>\n",
       "      <td>NaN</td>\n",
       "      <td>NaN</td>\n",
       "      <td>NaN</td>\n",
       "      <td>NaN</td>\n",
       "      <td>NaN</td>\n",
       "      <td>f</td>\n",
       "      <td>сотрудник</td>\n",
       "      <td>NaN</td>\n",
       "      <td>NaN</td>\n",
       "      <td>c</td>\n",
       "      <td>операции с недвижимостью</td>\n",
       "    </tr>\n",
       "    <tr>\n",
       "      <th>freq</th>\n",
       "      <td>NaN</td>\n",
       "      <td>NaN</td>\n",
       "      <td>NaN</td>\n",
       "      <td>NaN</td>\n",
       "      <td>NaN</td>\n",
       "      <td>13922</td>\n",
       "      <td>10898</td>\n",
       "      <td>NaN</td>\n",
       "      <td>NaN</td>\n",
       "      <td>15678</td>\n",
       "      <td>10575</td>\n",
       "    </tr>\n",
       "    <tr>\n",
       "      <th>mean</th>\n",
       "      <td>0.483923</td>\n",
       "      <td>66433.166169</td>\n",
       "      <td>43.412038</td>\n",
       "      <td>0.815978</td>\n",
       "      <td>0.981389</td>\n",
       "      <td>NaN</td>\n",
       "      <td>NaN</td>\n",
       "      <td>0.082351</td>\n",
       "      <td>1.657240e+05</td>\n",
       "      <td>NaN</td>\n",
       "      <td>NaN</td>\n",
       "    </tr>\n",
       "    <tr>\n",
       "      <th>std</th>\n",
       "      <td>0.758165</td>\n",
       "      <td>138666.364793</td>\n",
       "      <td>12.213994</td>\n",
       "      <td>0.551518</td>\n",
       "      <td>1.424319</td>\n",
       "      <td>NaN</td>\n",
       "      <td>NaN</td>\n",
       "      <td>0.274905</td>\n",
       "      <td>9.889210e+04</td>\n",
       "      <td>NaN</td>\n",
       "      <td>NaN</td>\n",
       "    </tr>\n",
       "    <tr>\n",
       "      <th>min</th>\n",
       "      <td>0.000000</td>\n",
       "      <td>24.000000</td>\n",
       "      <td>19.000000</td>\n",
       "      <td>0.000000</td>\n",
       "      <td>0.000000</td>\n",
       "      <td>NaN</td>\n",
       "      <td>NaN</td>\n",
       "      <td>0.000000</td>\n",
       "      <td>2.066700e+04</td>\n",
       "      <td>NaN</td>\n",
       "      <td>NaN</td>\n",
       "    </tr>\n",
       "    <tr>\n",
       "      <th>25%</th>\n",
       "      <td>0.000000</td>\n",
       "      <td>1010.000000</td>\n",
       "      <td>33.000000</td>\n",
       "      <td>1.000000</td>\n",
       "      <td>0.000000</td>\n",
       "      <td>NaN</td>\n",
       "      <td>NaN</td>\n",
       "      <td>0.000000</td>\n",
       "      <td>1.068060e+05</td>\n",
       "      <td>NaN</td>\n",
       "      <td>NaN</td>\n",
       "    </tr>\n",
       "    <tr>\n",
       "      <th>50%</th>\n",
       "      <td>0.000000</td>\n",
       "      <td>2018.000000</td>\n",
       "      <td>43.000000</td>\n",
       "      <td>1.000000</td>\n",
       "      <td>0.000000</td>\n",
       "      <td>NaN</td>\n",
       "      <td>NaN</td>\n",
       "      <td>0.000000</td>\n",
       "      <td>1.425940e+05</td>\n",
       "      <td>NaN</td>\n",
       "      <td>NaN</td>\n",
       "    </tr>\n",
       "    <tr>\n",
       "      <th>75%</th>\n",
       "      <td>1.000000</td>\n",
       "      <td>5302.000000</td>\n",
       "      <td>53.000000</td>\n",
       "      <td>1.000000</td>\n",
       "      <td>1.000000</td>\n",
       "      <td>NaN</td>\n",
       "      <td>NaN</td>\n",
       "      <td>0.000000</td>\n",
       "      <td>1.969830e+05</td>\n",
       "      <td>NaN</td>\n",
       "      <td>NaN</td>\n",
       "    </tr>\n",
       "    <tr>\n",
       "      <th>max</th>\n",
       "      <td>5.000000</td>\n",
       "      <td>401755.000000</td>\n",
       "      <td>75.000000</td>\n",
       "      <td>4.000000</td>\n",
       "      <td>4.000000</td>\n",
       "      <td>NaN</td>\n",
       "      <td>NaN</td>\n",
       "      <td>1.000000</td>\n",
       "      <td>2.265604e+06</td>\n",
       "      <td>NaN</td>\n",
       "      <td>NaN</td>\n",
       "    </tr>\n",
       "  </tbody>\n",
       "</table>\n",
       "</div>"
      ],
      "text/plain": [
       "            children  days_employed     dob_years  education_id  \\\n",
       "count   21117.000000   21117.000000  21117.000000  21117.000000   \n",
       "unique           NaN            NaN           NaN           NaN   \n",
       "top              NaN            NaN           NaN           NaN   \n",
       "freq             NaN            NaN           NaN           NaN   \n",
       "mean        0.483923   66433.166169     43.412038      0.815978   \n",
       "std         0.758165  138666.364793     12.213994      0.551518   \n",
       "min         0.000000      24.000000     19.000000      0.000000   \n",
       "25%         0.000000    1010.000000     33.000000      1.000000   \n",
       "50%         0.000000    2018.000000     43.000000      1.000000   \n",
       "75%         1.000000    5302.000000     53.000000      1.000000   \n",
       "max         5.000000  401755.000000     75.000000      4.000000   \n",
       "\n",
       "        family_status_id gender income_type          debt  total_income  \\\n",
       "count       21117.000000  21117       21117  21117.000000  2.111700e+04   \n",
       "unique               NaN      3           8           NaN           NaN   \n",
       "top                  NaN      f   сотрудник           NaN           NaN   \n",
       "freq                 NaN  13922       10898           NaN           NaN   \n",
       "mean            0.981389    NaN         NaN      0.082351  1.657240e+05   \n",
       "std             1.424319    NaN         NaN      0.274905  9.889210e+04   \n",
       "min             0.000000    NaN         NaN      0.000000  2.066700e+04   \n",
       "25%             0.000000    NaN         NaN      0.000000  1.068060e+05   \n",
       "50%             0.000000    NaN         NaN      0.000000  1.425940e+05   \n",
       "75%             1.000000    NaN         NaN      0.000000  1.969830e+05   \n",
       "max             4.000000    NaN         NaN      1.000000  2.265604e+06   \n",
       "\n",
       "       total_income_category          purpose_category  \n",
       "count                  21117                     21117  \n",
       "unique                     5                         4  \n",
       "top                        c  операции с недвижимостью  \n",
       "freq                   15678                     10575  \n",
       "mean                     NaN                       NaN  \n",
       "std                      NaN                       NaN  \n",
       "min                      NaN                       NaN  \n",
       "25%                      NaN                       NaN  \n",
       "50%                      NaN                       NaN  \n",
       "75%                      NaN                       NaN  \n",
       "max                      NaN                       NaN  "
      ]
     },
     "metadata": {},
     "output_type": "display_data"
    },
    {
     "name": "stdout",
     "output_type": "stream",
     "text": [
      "--------------------------------------------------\n",
      "Количество явных дубликатов: 0\n"
     ]
    }
   ],
   "source": [
    "df_info(df)"
   ]
  },
  {
   "cell_type": "markdown",
   "id": "9206b9f2",
   "metadata": {},
   "source": [
    "### Вывод:\n",
    "Я заполнил пропуски, проверил данные на аномалии и исправил их, измененил некорректные типы данных, сформировал дополнительные датасеты-словари, произвел декомпозицию исходного датасета, категоризировал доход и цели кредита, а также удалил дубликаты."
   ]
  },
  {
   "cell_type": "markdown",
   "id": "03acbdc6",
   "metadata": {},
   "source": [
    "## Шаг 3. Отвечаю на вопросы. "
   ]
  },
  {
   "cell_type": "markdown",
   "id": "439b83e7",
   "metadata": {},
   "source": [
    "### Есть ли зависимость между наличием детей и возвратом кредита в срок?\n",
    "Для этого собираю данные из столбцов **`children`** и **`debt`** в датасете `children_credit` и считаю количество  должников (`sum_debt`), общее количество клиентов (`count_debt`) и долю должников от общего количества (`mean_debt`)."
   ]
  },
  {
   "cell_type": "code",
   "execution_count": 36,
   "id": "0dd048aa",
   "metadata": {},
   "outputs": [
    {
     "data": {
      "text/html": [
       "<div>\n",
       "<style scoped>\n",
       "    .dataframe tbody tr th:only-of-type {\n",
       "        vertical-align: middle;\n",
       "    }\n",
       "\n",
       "    .dataframe tbody tr th {\n",
       "        vertical-align: top;\n",
       "    }\n",
       "\n",
       "    .dataframe thead th {\n",
       "        text-align: right;\n",
       "    }\n",
       "</style>\n",
       "<table border=\"1\" class=\"dataframe\">\n",
       "  <thead>\n",
       "    <tr style=\"text-align: right;\">\n",
       "      <th></th>\n",
       "      <th>sum_debt</th>\n",
       "      <th>count_debt</th>\n",
       "      <th>mean_debt</th>\n",
       "    </tr>\n",
       "    <tr>\n",
       "      <th>children</th>\n",
       "      <th></th>\n",
       "      <th></th>\n",
       "      <th></th>\n",
       "    </tr>\n",
       "  </thead>\n",
       "  <tbody>\n",
       "    <tr>\n",
       "      <th>0</th>\n",
       "      <td>1061</td>\n",
       "      <td>13827</td>\n",
       "      <td>0.076734</td>\n",
       "    </tr>\n",
       "    <tr>\n",
       "      <th>1</th>\n",
       "      <td>445</td>\n",
       "      <td>4797</td>\n",
       "      <td>0.092766</td>\n",
       "    </tr>\n",
       "    <tr>\n",
       "      <th>2</th>\n",
       "      <td>202</td>\n",
       "      <td>2115</td>\n",
       "      <td>0.095508</td>\n",
       "    </tr>\n",
       "    <tr>\n",
       "      <th>3</th>\n",
       "      <td>27</td>\n",
       "      <td>329</td>\n",
       "      <td>0.082067</td>\n",
       "    </tr>\n",
       "    <tr>\n",
       "      <th>4</th>\n",
       "      <td>4</td>\n",
       "      <td>40</td>\n",
       "      <td>0.100000</td>\n",
       "    </tr>\n",
       "    <tr>\n",
       "      <th>5</th>\n",
       "      <td>0</td>\n",
       "      <td>9</td>\n",
       "      <td>0.000000</td>\n",
       "    </tr>\n",
       "  </tbody>\n",
       "</table>\n",
       "</div>"
      ],
      "text/plain": [
       "          sum_debt  count_debt  mean_debt\n",
       "children                                 \n",
       "0             1061       13827   0.076734\n",
       "1              445        4797   0.092766\n",
       "2              202        2115   0.095508\n",
       "3               27         329   0.082067\n",
       "4                4          40   0.100000\n",
       "5                0           9   0.000000"
      ]
     },
     "execution_count": 36,
     "metadata": {},
     "output_type": "execute_result"
    }
   ],
   "source": [
    "children_credit = df.pivot_table(index = 'children', values = 'debt', aggfunc = ['sum', 'count', 'mean'])\n",
    "children_credit.columns = ['sum_debt', 'count_debt', 'mean_debt']\n",
    "children_credit"
   ]
  },
  {
   "cell_type": "markdown",
   "id": "e5841198",
   "metadata": {},
   "source": [
    "Можно сделать вывод, что небольшая зависимость между наличием детей и возвратом кредита в срок есть, а вот количество детей особо не играет роли. Группы с **1**, **2** и **3** детьми имеют большую вероятность стать должниками, чем группа без детей. Группы с **4** и **5** детьми, за малым количеством мы в рассчет не берем."
   ]
  },
  {
   "cell_type": "markdown",
   "id": "eaf8df1f",
   "metadata": {},
   "source": [
    "### Есть ли зависимость между семейным положением и возвратом кредита в срок?\n",
    "Для этого собираю данные из столбцов **`family_status_id`** и **`debt`** в датасете `family_credit` и считаю количество  должников (`sum_debt`), общее количество клиентов (`count_debt`) и долю должников от общего количества (`mean_debt`)."
   ]
  },
  {
   "cell_type": "code",
   "execution_count": 37,
   "id": "694b3b1e",
   "metadata": {
    "scrolled": false
   },
   "outputs": [
    {
     "data": {
      "text/html": [
       "<div>\n",
       "<style scoped>\n",
       "    .dataframe tbody tr th:only-of-type {\n",
       "        vertical-align: middle;\n",
       "    }\n",
       "\n",
       "    .dataframe tbody tr th {\n",
       "        vertical-align: top;\n",
       "    }\n",
       "\n",
       "    .dataframe thead th {\n",
       "        text-align: right;\n",
       "    }\n",
       "</style>\n",
       "<table border=\"1\" class=\"dataframe\">\n",
       "  <thead>\n",
       "    <tr style=\"text-align: right;\">\n",
       "      <th></th>\n",
       "      <th>sum_debt</th>\n",
       "      <th>count_debt</th>\n",
       "      <th>mean_debt</th>\n",
       "    </tr>\n",
       "    <tr>\n",
       "      <th>family_status_id</th>\n",
       "      <th></th>\n",
       "      <th></th>\n",
       "      <th></th>\n",
       "    </tr>\n",
       "  </thead>\n",
       "  <tbody>\n",
       "    <tr>\n",
       "      <th>0</th>\n",
       "      <td>929</td>\n",
       "      <td>12074</td>\n",
       "      <td>0.076942</td>\n",
       "    </tr>\n",
       "    <tr>\n",
       "      <th>1</th>\n",
       "      <td>388</td>\n",
       "      <td>4123</td>\n",
       "      <td>0.094106</td>\n",
       "    </tr>\n",
       "    <tr>\n",
       "      <th>2</th>\n",
       "      <td>63</td>\n",
       "      <td>943</td>\n",
       "      <td>0.066808</td>\n",
       "    </tr>\n",
       "    <tr>\n",
       "      <th>3</th>\n",
       "      <td>85</td>\n",
       "      <td>1193</td>\n",
       "      <td>0.071249</td>\n",
       "    </tr>\n",
       "    <tr>\n",
       "      <th>4</th>\n",
       "      <td>274</td>\n",
       "      <td>2784</td>\n",
       "      <td>0.098420</td>\n",
       "    </tr>\n",
       "  </tbody>\n",
       "</table>\n",
       "</div>"
      ],
      "text/plain": [
       "                  sum_debt  count_debt  mean_debt\n",
       "family_status_id                                 \n",
       "0                      929       12074   0.076942\n",
       "1                      388        4123   0.094106\n",
       "2                       63         943   0.066808\n",
       "3                       85        1193   0.071249\n",
       "4                      274        2784   0.098420"
      ]
     },
     "execution_count": 37,
     "metadata": {},
     "output_type": "execute_result"
    }
   ],
   "source": [
    "family_credit = df.pivot_table(index = 'family_status_id', values = 'debt', aggfunc = ['sum', 'count', 'mean'])\n",
    "family_credit.columns = ['sum_debt', 'count_debt', 'mean_debt']\n",
    "family_credit"
   ]
  },
  {
   "cell_type": "markdown",
   "id": "7dbed893",
   "metadata": {},
   "source": [
    "Можно сделать вывод, что небольшая зависимость между семейным положением и возвратом кредита в срок есть. Заемщики, не состоящие в браке (**\"гражданский брак\"**, **\"не женат / не замужем\"**) наиболее склонны к задержке выплат, в то время как **\"вдовцы / водвы\"** меньше всех склонны к задолженностям по кредиту."
   ]
  },
  {
   "cell_type": "markdown",
   "id": "f8fd916f",
   "metadata": {},
   "source": [
    "### Есть ли зависимость между уровнем дохода и возвратом кредита в срок?\n",
    "Для этого собираю данные из столбцов **`total_income_category`** и **`debt`** в датасете `income_credit` и считаю количество  должников (`sum_debt`), общее количество клиентов (`count_debt`) и долю должников от общего количества (`mean_debt`)."
   ]
  },
  {
   "cell_type": "code",
   "execution_count": 38,
   "id": "c1d447ab",
   "metadata": {
    "scrolled": true
   },
   "outputs": [
    {
     "data": {
      "text/html": [
       "<div>\n",
       "<style scoped>\n",
       "    .dataframe tbody tr th:only-of-type {\n",
       "        vertical-align: middle;\n",
       "    }\n",
       "\n",
       "    .dataframe tbody tr th {\n",
       "        vertical-align: top;\n",
       "    }\n",
       "\n",
       "    .dataframe thead th {\n",
       "        text-align: right;\n",
       "    }\n",
       "</style>\n",
       "<table border=\"1\" class=\"dataframe\">\n",
       "  <thead>\n",
       "    <tr style=\"text-align: right;\">\n",
       "      <th></th>\n",
       "      <th>sum_debt</th>\n",
       "      <th>count_debt</th>\n",
       "      <th>mean_debt</th>\n",
       "    </tr>\n",
       "    <tr>\n",
       "      <th>total_income_category</th>\n",
       "      <th></th>\n",
       "      <th></th>\n",
       "      <th></th>\n",
       "    </tr>\n",
       "  </thead>\n",
       "  <tbody>\n",
       "    <tr>\n",
       "      <th>a</th>\n",
       "      <td>2</td>\n",
       "      <td>25</td>\n",
       "      <td>0.080000</td>\n",
       "    </tr>\n",
       "    <tr>\n",
       "      <th>b</th>\n",
       "      <td>356</td>\n",
       "      <td>5042</td>\n",
       "      <td>0.070607</td>\n",
       "    </tr>\n",
       "    <tr>\n",
       "      <th>c</th>\n",
       "      <td>1358</td>\n",
       "      <td>15678</td>\n",
       "      <td>0.086618</td>\n",
       "    </tr>\n",
       "    <tr>\n",
       "      <th>d</th>\n",
       "      <td>21</td>\n",
       "      <td>350</td>\n",
       "      <td>0.060000</td>\n",
       "    </tr>\n",
       "    <tr>\n",
       "      <th>e</th>\n",
       "      <td>2</td>\n",
       "      <td>22</td>\n",
       "      <td>0.090909</td>\n",
       "    </tr>\n",
       "  </tbody>\n",
       "</table>\n",
       "</div>"
      ],
      "text/plain": [
       "                       sum_debt  count_debt  mean_debt\n",
       "total_income_category                                 \n",
       "a                             2          25   0.080000\n",
       "b                           356        5042   0.070607\n",
       "c                          1358       15678   0.086618\n",
       "d                            21         350   0.060000\n",
       "e                             2          22   0.090909"
      ]
     },
     "execution_count": 38,
     "metadata": {},
     "output_type": "execute_result"
    }
   ],
   "source": [
    "income_credit = df.pivot_table(index = 'total_income_category', values = 'debt', aggfunc = ['sum', 'count', 'mean'])\n",
    "income_credit.columns = ['sum_debt', 'count_debt', 'mean_debt']\n",
    "income_credit"
   ]
  },
  {
   "cell_type": "markdown",
   "id": "c2e7f2a0",
   "metadata": {},
   "source": [
    "Количество заемщиков категорий **A** и **C**, на мой взгляд, недостаточно, для анализа. К тому же, в столбце с доходом изначально были сомнительно высокие показатели, не удивительно, что результат анализа тоже странный. Будь это основной целью исследования, следовало бы заменить все завышенные значения на медианные, опираясь на такие показатели как пол, возраст и занимаемая должность. Но имеем, что имеем.\n",
    "\n",
    "Можно сделать вывод, что небольшая зависимость между уровнем дохода и возвратом кредита в срок есть. Наибольшая вероятность стать должником у заемщиков, из категории **E** (с заработком **до 30000**). А наименьшая у заемщиков из категории **D** (с заработком **от 30001 до 50000**)."
   ]
  },
  {
   "cell_type": "markdown",
   "id": "1f225c49",
   "metadata": {},
   "source": [
    "### Есть ли зависимость между целями кредита и возвратом кредита в срок?\n",
    "Для этого собираю данные из столбцов **`purpose_category`** и **`debt`** в датасете `purpose_credit` и считаю количество  должников (`sum_debt`), общее количество клиентов (`count_debt`) и долю должников от общего количества (`mean_debt`)."
   ]
  },
  {
   "cell_type": "code",
   "execution_count": 39,
   "id": "97e5ce69",
   "metadata": {},
   "outputs": [
    {
     "data": {
      "text/html": [
       "<div>\n",
       "<style scoped>\n",
       "    .dataframe tbody tr th:only-of-type {\n",
       "        vertical-align: middle;\n",
       "    }\n",
       "\n",
       "    .dataframe tbody tr th {\n",
       "        vertical-align: top;\n",
       "    }\n",
       "\n",
       "    .dataframe thead th {\n",
       "        text-align: right;\n",
       "    }\n",
       "</style>\n",
       "<table border=\"1\" class=\"dataframe\">\n",
       "  <thead>\n",
       "    <tr style=\"text-align: right;\">\n",
       "      <th></th>\n",
       "      <th>sum_debt</th>\n",
       "      <th>count_debt</th>\n",
       "      <th>mean_debt</th>\n",
       "    </tr>\n",
       "    <tr>\n",
       "      <th>purpose_category</th>\n",
       "      <th></th>\n",
       "      <th></th>\n",
       "      <th></th>\n",
       "    </tr>\n",
       "  </thead>\n",
       "  <tbody>\n",
       "    <tr>\n",
       "      <th>операции с автомобилем</th>\n",
       "      <td>402</td>\n",
       "      <td>4272</td>\n",
       "      <td>0.094101</td>\n",
       "    </tr>\n",
       "    <tr>\n",
       "      <th>операции с недвижимостью</th>\n",
       "      <td>781</td>\n",
       "      <td>10575</td>\n",
       "      <td>0.073853</td>\n",
       "    </tr>\n",
       "    <tr>\n",
       "      <th>получение образования</th>\n",
       "      <td>370</td>\n",
       "      <td>3964</td>\n",
       "      <td>0.093340</td>\n",
       "    </tr>\n",
       "    <tr>\n",
       "      <th>проведение свадьбы</th>\n",
       "      <td>186</td>\n",
       "      <td>2306</td>\n",
       "      <td>0.080659</td>\n",
       "    </tr>\n",
       "  </tbody>\n",
       "</table>\n",
       "</div>"
      ],
      "text/plain": [
       "                          sum_debt  count_debt  mean_debt\n",
       "purpose_category                                         \n",
       "операции с автомобилем         402        4272   0.094101\n",
       "операции с недвижимостью       781       10575   0.073853\n",
       "получение образования          370        3964   0.093340\n",
       "проведение свадьбы             186        2306   0.080659"
      ]
     },
     "execution_count": 39,
     "metadata": {},
     "output_type": "execute_result"
    }
   ],
   "source": [
    "purpose_credit = df.pivot_table(index = 'purpose_category', values = 'debt', aggfunc = ['sum', 'count', 'mean'])\n",
    "purpose_credit.columns = ['sum_debt', 'count_debt', 'mean_debt']\n",
    "purpose_credit"
   ]
  },
  {
   "cell_type": "markdown",
   "id": "075e70d7",
   "metadata": {},
   "source": [
    " Можно сделать вывод, что небольшая зависимость между целями кредита и возвратом кредита в срок есть. Наибольшая вероятность стать должником у заемщиков, получающих кредит на **\"операции с автомобилем\"**."
   ]
  },
  {
   "cell_type": "markdown",
   "id": "0302c05e",
   "metadata": {},
   "source": [
    "## Общий вывод:"
   ]
  },
  {
   "cell_type": "markdown",
   "id": "10dc7c6a",
   "metadata": {},
   "source": [
    "Полученные от банка данные имели большое количество пропусков и аномалий, предположительно результат технических ошибок. Используя логику и функции я заполнил пропуски, и исправили аномалии данных, а также измененил некорректные типы данных. Сформировал дополнительные датасеты-словари, произвел декомпозицию исходного датасета, категоризировал доход и цели кредита а также удалил дубликаты. Данные стали пригодными для анализа, чем я и занялся. \n",
    "***\n",
    "Я собрал требуемые для анализа данные в сводные таблици и в результате, основываясь на полученных данных можно сделать вывод, что семейное положение и наличие детей в семье влияют на факт погашения кредита. Вероятность заемщика принадлежащего к группе **\"без детей\"** стать должником ниже, чем у заемщиков из групп **\"с детьми\"**, вероятность заемщика из группы **\"не женат / не замужем\"** выше, чем у заемщиков остальных групп. А заодно я выяснил что наибольшая вероятность стать должником есть у заемщиков, с заработком **до 30000**. А наименьшая у заемщиков с заработком **от 30001 до 50000**. И, также, наибольшая вероятность стать должником у заемщиков, получающих кредит на **\"операции с автомобилем\"**. "
   ]
  }
 ],
 "metadata": {
  "ExecuteTimeLog": [
   {
    "duration": 531,
    "start_time": "2022-04-25T11:15:53.171Z"
   },
   {
    "duration": 0,
    "start_time": "2022-04-25T11:15:53.705Z"
   },
   {
    "duration": 0,
    "start_time": "2022-04-25T11:15:53.706Z"
   },
   {
    "duration": 0,
    "start_time": "2022-04-25T11:15:53.707Z"
   },
   {
    "duration": 0,
    "start_time": "2022-04-25T11:15:53.708Z"
   },
   {
    "duration": 0,
    "start_time": "2022-04-25T11:15:53.709Z"
   },
   {
    "duration": 0,
    "start_time": "2022-04-25T11:15:53.710Z"
   },
   {
    "duration": 0,
    "start_time": "2022-04-25T11:15:53.711Z"
   },
   {
    "duration": 0,
    "start_time": "2022-04-25T11:15:53.712Z"
   },
   {
    "duration": 0,
    "start_time": "2022-04-25T11:15:53.713Z"
   },
   {
    "duration": 0,
    "start_time": "2022-04-25T11:15:53.714Z"
   },
   {
    "duration": 0,
    "start_time": "2022-04-25T11:15:53.715Z"
   },
   {
    "duration": 0,
    "start_time": "2022-04-25T11:15:53.716Z"
   },
   {
    "duration": 0,
    "start_time": "2022-04-25T11:15:53.717Z"
   },
   {
    "duration": 0,
    "start_time": "2022-04-25T11:15:53.718Z"
   },
   {
    "duration": 0,
    "start_time": "2022-04-25T11:15:53.719Z"
   },
   {
    "duration": 0,
    "start_time": "2022-04-25T11:15:53.720Z"
   },
   {
    "duration": 0,
    "start_time": "2022-04-25T11:15:53.721Z"
   },
   {
    "duration": 0,
    "start_time": "2022-04-25T11:15:53.722Z"
   },
   {
    "duration": 0,
    "start_time": "2022-04-25T11:15:53.723Z"
   },
   {
    "duration": 0,
    "start_time": "2022-04-25T11:15:53.724Z"
   },
   {
    "duration": 0,
    "start_time": "2022-04-25T11:15:53.724Z"
   },
   {
    "duration": 0,
    "start_time": "2022-04-25T11:15:53.725Z"
   },
   {
    "duration": 0,
    "start_time": "2022-04-25T11:15:53.726Z"
   },
   {
    "duration": 0,
    "start_time": "2022-04-25T11:15:53.727Z"
   },
   {
    "duration": 0,
    "start_time": "2022-04-25T11:15:53.728Z"
   },
   {
    "duration": 0,
    "start_time": "2022-04-25T11:15:53.729Z"
   },
   {
    "duration": 0,
    "start_time": "2022-04-25T11:15:53.730Z"
   },
   {
    "duration": 0,
    "start_time": "2022-04-25T11:15:53.731Z"
   },
   {
    "duration": 0,
    "start_time": "2022-04-25T11:15:53.732Z"
   },
   {
    "duration": 0,
    "start_time": "2022-04-25T11:15:53.732Z"
   },
   {
    "duration": 0,
    "start_time": "2022-04-25T11:15:53.733Z"
   },
   {
    "duration": 0,
    "start_time": "2022-04-25T11:15:53.734Z"
   },
   {
    "duration": 0,
    "start_time": "2022-04-25T11:15:53.735Z"
   },
   {
    "duration": 0,
    "start_time": "2022-04-25T11:15:53.736Z"
   },
   {
    "duration": 0,
    "start_time": "2022-04-25T11:15:53.737Z"
   },
   {
    "duration": 0,
    "start_time": "2022-04-25T11:15:53.738Z"
   },
   {
    "duration": 0,
    "start_time": "2022-04-25T11:15:53.739Z"
   },
   {
    "duration": 0,
    "start_time": "2022-04-25T11:15:53.740Z"
   },
   {
    "duration": 0,
    "start_time": "2022-04-25T11:15:53.741Z"
   },
   {
    "duration": 0,
    "start_time": "2022-04-25T11:15:53.742Z"
   },
   {
    "duration": 0,
    "start_time": "2022-04-25T11:15:53.743Z"
   },
   {
    "duration": 0,
    "start_time": "2022-04-25T11:15:53.744Z"
   },
   {
    "duration": 0,
    "start_time": "2022-04-25T11:15:53.745Z"
   },
   {
    "duration": 0,
    "start_time": "2022-04-25T11:15:53.746Z"
   },
   {
    "duration": 0,
    "start_time": "2022-04-25T11:15:53.808Z"
   },
   {
    "duration": 0,
    "start_time": "2022-04-25T11:15:53.809Z"
   },
   {
    "duration": 0,
    "start_time": "2022-04-25T11:15:53.810Z"
   },
   {
    "duration": 0,
    "start_time": "2022-04-25T11:15:53.811Z"
   },
   {
    "duration": 0,
    "start_time": "2022-04-25T11:15:53.812Z"
   },
   {
    "duration": 0,
    "start_time": "2022-04-25T11:15:53.813Z"
   },
   {
    "duration": 500,
    "start_time": "2022-04-25T11:16:15.790Z"
   },
   {
    "duration": 16,
    "start_time": "2022-04-25T11:16:16.292Z"
   },
   {
    "duration": 9,
    "start_time": "2022-04-25T11:16:16.310Z"
   },
   {
    "duration": 16,
    "start_time": "2022-04-25T11:16:16.321Z"
   },
   {
    "duration": 34,
    "start_time": "2022-04-25T11:16:16.338Z"
   },
   {
    "duration": 33,
    "start_time": "2022-04-25T11:16:16.374Z"
   },
   {
    "duration": 15,
    "start_time": "2022-04-25T11:16:16.409Z"
   },
   {
    "duration": 7,
    "start_time": "2022-04-25T11:16:16.425Z"
   },
   {
    "duration": 4,
    "start_time": "2022-04-25T11:16:16.434Z"
   },
   {
    "duration": 4,
    "start_time": "2022-04-25T11:16:16.441Z"
   },
   {
    "duration": 4,
    "start_time": "2022-04-25T11:16:16.447Z"
   },
   {
    "duration": 5,
    "start_time": "2022-04-25T11:16:16.453Z"
   },
   {
    "duration": 4,
    "start_time": "2022-04-25T11:16:16.459Z"
   },
   {
    "duration": 11,
    "start_time": "2022-04-25T11:16:16.507Z"
   },
   {
    "duration": 6,
    "start_time": "2022-04-25T11:16:16.519Z"
   },
   {
    "duration": 14,
    "start_time": "2022-04-25T11:16:16.526Z"
   },
   {
    "duration": 15,
    "start_time": "2022-04-25T11:16:16.542Z"
   },
   {
    "duration": 54,
    "start_time": "2022-04-25T11:16:16.558Z"
   },
   {
    "duration": 30,
    "start_time": "2022-04-25T11:16:16.614Z"
   },
   {
    "duration": 5,
    "start_time": "2022-04-25T11:16:16.645Z"
   },
   {
    "duration": 12,
    "start_time": "2022-04-25T11:16:16.651Z"
   },
   {
    "duration": 4,
    "start_time": "2022-04-25T11:16:16.665Z"
   },
   {
    "duration": 46,
    "start_time": "2022-04-25T11:16:16.670Z"
   },
   {
    "duration": 17,
    "start_time": "2022-04-25T11:16:16.717Z"
   },
   {
    "duration": 36,
    "start_time": "2022-04-25T11:16:16.735Z"
   },
   {
    "duration": 6,
    "start_time": "2022-04-25T11:16:16.772Z"
   },
   {
    "duration": 41,
    "start_time": "2022-04-25T11:16:16.779Z"
   },
   {
    "duration": 5,
    "start_time": "2022-04-25T11:16:16.823Z"
   },
   {
    "duration": 32,
    "start_time": "2022-04-25T11:16:16.829Z"
   },
   {
    "duration": 8,
    "start_time": "2022-04-25T11:16:16.863Z"
   },
   {
    "duration": 15,
    "start_time": "2022-04-25T11:16:16.872Z"
   },
   {
    "duration": 33,
    "start_time": "2022-04-25T11:16:16.889Z"
   },
   {
    "duration": 6,
    "start_time": "2022-04-25T11:16:16.924Z"
   },
   {
    "duration": 11,
    "start_time": "2022-04-25T11:16:16.931Z"
   },
   {
    "duration": 15,
    "start_time": "2022-04-25T11:16:16.943Z"
   },
   {
    "duration": 16,
    "start_time": "2022-04-25T11:16:16.960Z"
   },
   {
    "duration": 46,
    "start_time": "2022-04-25T11:16:16.978Z"
   },
   {
    "duration": 20,
    "start_time": "2022-04-25T11:16:17.026Z"
   },
   {
    "duration": 14,
    "start_time": "2022-04-25T11:16:17.048Z"
   },
   {
    "duration": 44,
    "start_time": "2022-04-25T11:16:17.063Z"
   },
   {
    "duration": 28,
    "start_time": "2022-04-25T11:16:17.109Z"
   },
   {
    "duration": 11,
    "start_time": "2022-04-25T11:16:17.139Z"
   },
   {
    "duration": 25,
    "start_time": "2022-04-25T11:16:17.152Z"
   },
   {
    "duration": 5,
    "start_time": "2022-04-25T11:16:17.179Z"
   },
   {
    "duration": 27,
    "start_time": "2022-04-25T11:16:17.185Z"
   },
   {
    "duration": 12,
    "start_time": "2022-04-25T11:16:17.214Z"
   },
   {
    "duration": 8,
    "start_time": "2022-04-25T11:16:17.228Z"
   },
   {
    "duration": 13,
    "start_time": "2022-04-25T11:16:17.238Z"
   },
   {
    "duration": 8,
    "start_time": "2022-04-25T11:16:17.253Z"
   },
   {
    "duration": 49,
    "start_time": "2022-04-25T11:16:17.263Z"
   },
   {
    "duration": 8,
    "start_time": "2022-04-25T11:16:17.314Z"
   },
   {
    "duration": 621,
    "start_time": "2022-04-25T11:21:04.614Z"
   },
   {
    "duration": 0,
    "start_time": "2022-04-25T11:21:05.239Z"
   },
   {
    "duration": 0,
    "start_time": "2022-04-25T11:21:05.240Z"
   },
   {
    "duration": 0,
    "start_time": "2022-04-25T11:21:05.241Z"
   },
   {
    "duration": 0,
    "start_time": "2022-04-25T11:21:05.243Z"
   },
   {
    "duration": 0,
    "start_time": "2022-04-25T11:21:05.244Z"
   },
   {
    "duration": 0,
    "start_time": "2022-04-25T11:21:05.246Z"
   },
   {
    "duration": 0,
    "start_time": "2022-04-25T11:21:05.247Z"
   },
   {
    "duration": 1,
    "start_time": "2022-04-25T11:21:05.248Z"
   },
   {
    "duration": 0,
    "start_time": "2022-04-25T11:21:05.250Z"
   },
   {
    "duration": 0,
    "start_time": "2022-04-25T11:21:05.252Z"
   },
   {
    "duration": 0,
    "start_time": "2022-04-25T11:21:05.253Z"
   },
   {
    "duration": 0,
    "start_time": "2022-04-25T11:21:05.255Z"
   },
   {
    "duration": 0,
    "start_time": "2022-04-25T11:21:05.256Z"
   },
   {
    "duration": 0,
    "start_time": "2022-04-25T11:21:05.257Z"
   },
   {
    "duration": 0,
    "start_time": "2022-04-25T11:21:05.258Z"
   },
   {
    "duration": 0,
    "start_time": "2022-04-25T11:21:05.260Z"
   },
   {
    "duration": 0,
    "start_time": "2022-04-25T11:21:05.262Z"
   },
   {
    "duration": 0,
    "start_time": "2022-04-25T11:21:05.263Z"
   },
   {
    "duration": 0,
    "start_time": "2022-04-25T11:21:05.264Z"
   },
   {
    "duration": 0,
    "start_time": "2022-04-25T11:21:05.266Z"
   },
   {
    "duration": 0,
    "start_time": "2022-04-25T11:21:05.308Z"
   },
   {
    "duration": 0,
    "start_time": "2022-04-25T11:21:05.310Z"
   },
   {
    "duration": 0,
    "start_time": "2022-04-25T11:21:05.311Z"
   },
   {
    "duration": 0,
    "start_time": "2022-04-25T11:21:05.312Z"
   },
   {
    "duration": 0,
    "start_time": "2022-04-25T11:21:05.314Z"
   },
   {
    "duration": 0,
    "start_time": "2022-04-25T11:21:05.315Z"
   },
   {
    "duration": 0,
    "start_time": "2022-04-25T11:21:05.317Z"
   },
   {
    "duration": 0,
    "start_time": "2022-04-25T11:21:05.319Z"
   },
   {
    "duration": 0,
    "start_time": "2022-04-25T11:21:05.320Z"
   },
   {
    "duration": 0,
    "start_time": "2022-04-25T11:21:05.322Z"
   },
   {
    "duration": 0,
    "start_time": "2022-04-25T11:21:05.323Z"
   },
   {
    "duration": 0,
    "start_time": "2022-04-25T11:21:05.324Z"
   },
   {
    "duration": 0,
    "start_time": "2022-04-25T11:21:05.326Z"
   },
   {
    "duration": 0,
    "start_time": "2022-04-25T11:21:05.327Z"
   },
   {
    "duration": 0,
    "start_time": "2022-04-25T11:21:05.329Z"
   },
   {
    "duration": 0,
    "start_time": "2022-04-25T11:21:05.330Z"
   },
   {
    "duration": 0,
    "start_time": "2022-04-25T11:21:05.331Z"
   },
   {
    "duration": 0,
    "start_time": "2022-04-25T11:21:05.333Z"
   },
   {
    "duration": 0,
    "start_time": "2022-04-25T11:21:05.334Z"
   },
   {
    "duration": 0,
    "start_time": "2022-04-25T11:21:05.336Z"
   },
   {
    "duration": 0,
    "start_time": "2022-04-25T11:21:05.337Z"
   },
   {
    "duration": 0,
    "start_time": "2022-04-25T11:21:05.338Z"
   },
   {
    "duration": 0,
    "start_time": "2022-04-25T11:21:05.339Z"
   },
   {
    "duration": 0,
    "start_time": "2022-04-25T11:21:05.340Z"
   },
   {
    "duration": 0,
    "start_time": "2022-04-25T11:21:05.341Z"
   },
   {
    "duration": 0,
    "start_time": "2022-04-25T11:21:05.342Z"
   },
   {
    "duration": 0,
    "start_time": "2022-04-25T11:21:05.343Z"
   },
   {
    "duration": 0,
    "start_time": "2022-04-25T11:21:05.344Z"
   },
   {
    "duration": 0,
    "start_time": "2022-04-25T11:21:05.407Z"
   },
   {
    "duration": 0,
    "start_time": "2022-04-25T11:21:05.408Z"
   },
   {
    "duration": 53,
    "start_time": "2022-04-25T12:04:38.642Z"
   },
   {
    "duration": 499,
    "start_time": "2022-04-25T12:07:04.154Z"
   },
   {
    "duration": 16,
    "start_time": "2022-04-25T12:07:04.656Z"
   },
   {
    "duration": 9,
    "start_time": "2022-04-25T12:07:04.673Z"
   },
   {
    "duration": 18,
    "start_time": "2022-04-25T12:07:04.684Z"
   },
   {
    "duration": 34,
    "start_time": "2022-04-25T12:07:04.703Z"
   },
   {
    "duration": 6,
    "start_time": "2022-04-25T12:07:04.739Z"
   },
   {
    "duration": 16,
    "start_time": "2022-04-25T12:07:04.774Z"
   },
   {
    "duration": 9,
    "start_time": "2022-04-25T12:07:04.792Z"
   },
   {
    "duration": 5,
    "start_time": "2022-04-25T12:07:04.803Z"
   },
   {
    "duration": 5,
    "start_time": "2022-04-25T12:07:04.811Z"
   },
   {
    "duration": 7,
    "start_time": "2022-04-25T12:07:04.818Z"
   },
   {
    "duration": 9,
    "start_time": "2022-04-25T12:07:04.827Z"
   },
   {
    "duration": 6,
    "start_time": "2022-04-25T12:07:04.874Z"
   },
   {
    "duration": 12,
    "start_time": "2022-04-25T12:07:04.882Z"
   },
   {
    "duration": 7,
    "start_time": "2022-04-25T12:07:04.896Z"
   },
   {
    "duration": 16,
    "start_time": "2022-04-25T12:07:04.905Z"
   },
   {
    "duration": 62,
    "start_time": "2022-04-25T12:07:04.923Z"
   },
   {
    "duration": 16,
    "start_time": "2022-04-25T12:07:04.987Z"
   },
   {
    "duration": 37,
    "start_time": "2022-04-25T12:07:05.004Z"
   },
   {
    "duration": 6,
    "start_time": "2022-04-25T12:07:05.043Z"
   },
   {
    "duration": 32,
    "start_time": "2022-04-25T12:07:05.051Z"
   },
   {
    "duration": 4,
    "start_time": "2022-04-25T12:07:05.085Z"
   },
   {
    "duration": 13,
    "start_time": "2022-04-25T12:07:05.091Z"
   },
   {
    "duration": 17,
    "start_time": "2022-04-25T12:07:05.105Z"
   },
   {
    "duration": 59,
    "start_time": "2022-04-25T12:07:05.123Z"
   },
   {
    "duration": 6,
    "start_time": "2022-04-25T12:07:05.184Z"
   },
   {
    "duration": 12,
    "start_time": "2022-04-25T12:07:05.192Z"
   },
   {
    "duration": 4,
    "start_time": "2022-04-25T12:07:05.209Z"
   },
   {
    "duration": 13,
    "start_time": "2022-04-25T12:07:05.215Z"
   },
   {
    "duration": 43,
    "start_time": "2022-04-25T12:07:05.230Z"
   },
   {
    "duration": 14,
    "start_time": "2022-04-25T12:07:05.275Z"
   },
   {
    "duration": 18,
    "start_time": "2022-04-25T12:07:05.291Z"
   },
   {
    "duration": 6,
    "start_time": "2022-04-25T12:07:05.311Z"
   },
   {
    "duration": 18,
    "start_time": "2022-04-25T12:07:05.319Z"
   },
   {
    "duration": 35,
    "start_time": "2022-04-25T12:07:05.339Z"
   },
   {
    "duration": 17,
    "start_time": "2022-04-25T12:07:05.376Z"
   },
   {
    "duration": 21,
    "start_time": "2022-04-25T12:07:05.395Z"
   },
   {
    "duration": 22,
    "start_time": "2022-04-25T12:07:05.418Z"
   },
   {
    "duration": 46,
    "start_time": "2022-04-25T12:07:05.442Z"
   },
   {
    "duration": 16,
    "start_time": "2022-04-25T12:07:05.490Z"
   },
   {
    "duration": 29,
    "start_time": "2022-04-25T12:07:05.508Z"
   },
   {
    "duration": 43,
    "start_time": "2022-04-25T12:07:05.539Z"
   },
   {
    "duration": 29,
    "start_time": "2022-04-25T12:07:05.583Z"
   },
   {
    "duration": 7,
    "start_time": "2022-04-25T12:07:05.614Z"
   },
   {
    "duration": 24,
    "start_time": "2022-04-25T12:07:05.622Z"
   },
   {
    "duration": 15,
    "start_time": "2022-04-25T12:07:05.648Z"
   },
   {
    "duration": 9,
    "start_time": "2022-04-25T12:07:05.665Z"
   },
   {
    "duration": 18,
    "start_time": "2022-04-25T12:07:05.675Z"
   },
   {
    "duration": 8,
    "start_time": "2022-04-25T12:07:05.695Z"
   },
   {
    "duration": 16,
    "start_time": "2022-04-25T12:07:05.705Z"
   },
   {
    "duration": 9,
    "start_time": "2022-04-25T12:07:05.723Z"
   },
   {
    "duration": 11,
    "start_time": "2022-04-25T12:10:04.839Z"
   },
   {
    "duration": 86,
    "start_time": "2022-04-25T12:14:19.682Z"
   },
   {
    "duration": 81,
    "start_time": "2022-04-25T12:16:56.121Z"
   },
   {
    "duration": 9,
    "start_time": "2022-04-25T12:18:17.624Z"
   },
   {
    "duration": 435,
    "start_time": "2022-04-25T12:19:08.729Z"
   },
   {
    "duration": 16,
    "start_time": "2022-04-25T12:19:09.166Z"
   },
   {
    "duration": 9,
    "start_time": "2022-04-25T12:19:09.183Z"
   },
   {
    "duration": 19,
    "start_time": "2022-04-25T12:19:09.194Z"
   },
   {
    "duration": 34,
    "start_time": "2022-04-25T12:19:09.214Z"
   },
   {
    "duration": 23,
    "start_time": "2022-04-25T12:19:09.250Z"
   },
   {
    "duration": 16,
    "start_time": "2022-04-25T12:19:09.275Z"
   },
   {
    "duration": 7,
    "start_time": "2022-04-25T12:19:09.293Z"
   },
   {
    "duration": 10,
    "start_time": "2022-04-25T12:19:09.302Z"
   },
   {
    "duration": 5,
    "start_time": "2022-04-25T12:19:09.316Z"
   },
   {
    "duration": 9,
    "start_time": "2022-04-25T12:19:09.322Z"
   },
   {
    "duration": 4,
    "start_time": "2022-04-25T12:19:09.333Z"
   },
   {
    "duration": 5,
    "start_time": "2022-04-25T12:19:09.373Z"
   },
   {
    "duration": 17,
    "start_time": "2022-04-25T12:19:09.379Z"
   },
   {
    "duration": 6,
    "start_time": "2022-04-25T12:19:09.398Z"
   },
   {
    "duration": 15,
    "start_time": "2022-04-25T12:19:09.405Z"
   },
   {
    "duration": 15,
    "start_time": "2022-04-25T12:19:09.422Z"
   },
   {
    "duration": 47,
    "start_time": "2022-04-25T12:19:09.439Z"
   },
   {
    "duration": 32,
    "start_time": "2022-04-25T12:19:09.488Z"
   },
   {
    "duration": 6,
    "start_time": "2022-04-25T12:19:09.522Z"
   },
   {
    "duration": 34,
    "start_time": "2022-04-25T12:19:09.529Z"
   },
   {
    "duration": 18,
    "start_time": "2022-04-25T12:19:09.565Z"
   },
   {
    "duration": 30,
    "start_time": "2022-04-25T12:19:09.584Z"
   },
   {
    "duration": 32,
    "start_time": "2022-04-25T12:19:09.616Z"
   },
   {
    "duration": 34,
    "start_time": "2022-04-25T12:19:09.649Z"
   },
   {
    "duration": 6,
    "start_time": "2022-04-25T12:19:09.684Z"
   },
   {
    "duration": 15,
    "start_time": "2022-04-25T12:19:09.691Z"
   },
   {
    "duration": 5,
    "start_time": "2022-04-25T12:19:09.709Z"
   },
   {
    "duration": 15,
    "start_time": "2022-04-25T12:19:09.716Z"
   },
   {
    "duration": 9,
    "start_time": "2022-04-25T12:19:09.733Z"
   },
   {
    "duration": 34,
    "start_time": "2022-04-25T12:19:09.744Z"
   },
   {
    "duration": 17,
    "start_time": "2022-04-25T12:19:09.780Z"
   },
   {
    "duration": 5,
    "start_time": "2022-04-25T12:19:09.799Z"
   },
   {
    "duration": 13,
    "start_time": "2022-04-25T12:19:09.806Z"
   },
   {
    "duration": 13,
    "start_time": "2022-04-25T12:19:09.821Z"
   },
   {
    "duration": 42,
    "start_time": "2022-04-25T12:19:09.835Z"
   },
   {
    "duration": 21,
    "start_time": "2022-04-25T12:19:09.879Z"
   },
   {
    "duration": 21,
    "start_time": "2022-04-25T12:19:09.902Z"
   },
   {
    "duration": 16,
    "start_time": "2022-04-25T12:19:09.925Z"
   },
   {
    "duration": 40,
    "start_time": "2022-04-25T12:19:09.943Z"
   },
   {
    "duration": 29,
    "start_time": "2022-04-25T12:19:09.984Z"
   },
   {
    "duration": 13,
    "start_time": "2022-04-25T12:19:10.015Z"
   },
   {
    "duration": 16,
    "start_time": "2022-04-25T12:19:10.030Z"
   },
   {
    "duration": 27,
    "start_time": "2022-04-25T12:19:10.048Z"
   },
   {
    "duration": 16,
    "start_time": "2022-04-25T12:19:10.077Z"
   },
   {
    "duration": 13,
    "start_time": "2022-04-25T12:19:10.095Z"
   },
   {
    "duration": 9,
    "start_time": "2022-04-25T12:19:10.110Z"
   },
   {
    "duration": 15,
    "start_time": "2022-04-25T12:19:10.121Z"
   },
   {
    "duration": 38,
    "start_time": "2022-04-25T12:19:10.138Z"
   },
   {
    "duration": 17,
    "start_time": "2022-04-25T12:19:10.177Z"
   },
   {
    "duration": 8,
    "start_time": "2022-04-25T12:19:10.195Z"
   },
   {
    "duration": 121,
    "start_time": "2022-04-25T12:20:57.237Z"
   },
   {
    "duration": 437,
    "start_time": "2022-04-25T12:22:06.218Z"
   },
   {
    "duration": 18,
    "start_time": "2022-04-25T12:22:06.657Z"
   },
   {
    "duration": 9,
    "start_time": "2022-04-25T12:22:06.676Z"
   },
   {
    "duration": 17,
    "start_time": "2022-04-25T12:22:06.687Z"
   },
   {
    "duration": 34,
    "start_time": "2022-04-25T12:22:06.706Z"
   },
   {
    "duration": 6,
    "start_time": "2022-04-25T12:22:06.742Z"
   },
   {
    "duration": 17,
    "start_time": "2022-04-25T12:22:06.773Z"
   },
   {
    "duration": 8,
    "start_time": "2022-04-25T12:22:06.791Z"
   },
   {
    "duration": 10,
    "start_time": "2022-04-25T12:22:06.800Z"
   },
   {
    "duration": 4,
    "start_time": "2022-04-25T12:22:06.813Z"
   },
   {
    "duration": 12,
    "start_time": "2022-04-25T12:22:06.818Z"
   },
   {
    "duration": 4,
    "start_time": "2022-04-25T12:22:06.832Z"
   },
   {
    "duration": 72,
    "start_time": "2022-04-25T12:22:06.838Z"
   },
   {
    "duration": 0,
    "start_time": "2022-04-25T12:22:06.913Z"
   },
   {
    "duration": 0,
    "start_time": "2022-04-25T12:22:06.914Z"
   },
   {
    "duration": 0,
    "start_time": "2022-04-25T12:22:06.915Z"
   },
   {
    "duration": 0,
    "start_time": "2022-04-25T12:22:06.916Z"
   },
   {
    "duration": 0,
    "start_time": "2022-04-25T12:22:06.917Z"
   },
   {
    "duration": 0,
    "start_time": "2022-04-25T12:22:06.918Z"
   },
   {
    "duration": 0,
    "start_time": "2022-04-25T12:22:06.919Z"
   },
   {
    "duration": 0,
    "start_time": "2022-04-25T12:22:06.921Z"
   },
   {
    "duration": 0,
    "start_time": "2022-04-25T12:22:06.922Z"
   },
   {
    "duration": 0,
    "start_time": "2022-04-25T12:22:06.923Z"
   },
   {
    "duration": 0,
    "start_time": "2022-04-25T12:22:06.924Z"
   },
   {
    "duration": 0,
    "start_time": "2022-04-25T12:22:06.925Z"
   },
   {
    "duration": 0,
    "start_time": "2022-04-25T12:22:06.926Z"
   },
   {
    "duration": 0,
    "start_time": "2022-04-25T12:22:06.927Z"
   },
   {
    "duration": 0,
    "start_time": "2022-04-25T12:22:06.928Z"
   },
   {
    "duration": 0,
    "start_time": "2022-04-25T12:22:06.929Z"
   },
   {
    "duration": 0,
    "start_time": "2022-04-25T12:22:06.930Z"
   },
   {
    "duration": 0,
    "start_time": "2022-04-25T12:22:06.931Z"
   },
   {
    "duration": 0,
    "start_time": "2022-04-25T12:22:06.932Z"
   },
   {
    "duration": 0,
    "start_time": "2022-04-25T12:22:06.933Z"
   },
   {
    "duration": 0,
    "start_time": "2022-04-25T12:22:06.934Z"
   },
   {
    "duration": 0,
    "start_time": "2022-04-25T12:22:06.935Z"
   },
   {
    "duration": 0,
    "start_time": "2022-04-25T12:22:06.936Z"
   },
   {
    "duration": 0,
    "start_time": "2022-04-25T12:22:06.937Z"
   },
   {
    "duration": 0,
    "start_time": "2022-04-25T12:22:06.938Z"
   },
   {
    "duration": 0,
    "start_time": "2022-04-25T12:22:06.939Z"
   },
   {
    "duration": 0,
    "start_time": "2022-04-25T12:22:06.940Z"
   },
   {
    "duration": 0,
    "start_time": "2022-04-25T12:22:06.941Z"
   },
   {
    "duration": 0,
    "start_time": "2022-04-25T12:22:06.942Z"
   },
   {
    "duration": 0,
    "start_time": "2022-04-25T12:22:06.943Z"
   },
   {
    "duration": 0,
    "start_time": "2022-04-25T12:22:06.944Z"
   },
   {
    "duration": 0,
    "start_time": "2022-04-25T12:22:06.946Z"
   },
   {
    "duration": 0,
    "start_time": "2022-04-25T12:22:06.946Z"
   },
   {
    "duration": 0,
    "start_time": "2022-04-25T12:22:06.947Z"
   },
   {
    "duration": 0,
    "start_time": "2022-04-25T12:22:06.973Z"
   },
   {
    "duration": 0,
    "start_time": "2022-04-25T12:22:06.975Z"
   },
   {
    "duration": 0,
    "start_time": "2022-04-25T12:22:06.976Z"
   },
   {
    "duration": 0,
    "start_time": "2022-04-25T12:22:06.977Z"
   },
   {
    "duration": 493,
    "start_time": "2022-04-25T12:22:54.657Z"
   },
   {
    "duration": 21,
    "start_time": "2022-04-25T12:22:55.152Z"
   },
   {
    "duration": 9,
    "start_time": "2022-04-25T12:22:55.174Z"
   },
   {
    "duration": 19,
    "start_time": "2022-04-25T12:22:55.186Z"
   },
   {
    "duration": 33,
    "start_time": "2022-04-25T12:22:55.207Z"
   },
   {
    "duration": 5,
    "start_time": "2022-04-25T12:22:55.241Z"
   },
   {
    "duration": 17,
    "start_time": "2022-04-25T12:22:55.274Z"
   },
   {
    "duration": 9,
    "start_time": "2022-04-25T12:22:55.293Z"
   },
   {
    "duration": 10,
    "start_time": "2022-04-25T12:22:55.304Z"
   },
   {
    "duration": 4,
    "start_time": "2022-04-25T12:22:55.317Z"
   },
   {
    "duration": 8,
    "start_time": "2022-04-25T12:22:55.323Z"
   },
   {
    "duration": 42,
    "start_time": "2022-04-25T12:22:55.333Z"
   },
   {
    "duration": 73,
    "start_time": "2022-04-25T12:22:55.377Z"
   },
   {
    "duration": 0,
    "start_time": "2022-04-25T12:22:55.453Z"
   },
   {
    "duration": 0,
    "start_time": "2022-04-25T12:22:55.454Z"
   },
   {
    "duration": 0,
    "start_time": "2022-04-25T12:22:55.456Z"
   },
   {
    "duration": 0,
    "start_time": "2022-04-25T12:22:55.473Z"
   },
   {
    "duration": 0,
    "start_time": "2022-04-25T12:22:55.475Z"
   },
   {
    "duration": 0,
    "start_time": "2022-04-25T12:22:55.476Z"
   },
   {
    "duration": 0,
    "start_time": "2022-04-25T12:22:55.478Z"
   },
   {
    "duration": 0,
    "start_time": "2022-04-25T12:22:55.479Z"
   },
   {
    "duration": 0,
    "start_time": "2022-04-25T12:22:55.481Z"
   },
   {
    "duration": 0,
    "start_time": "2022-04-25T12:22:55.482Z"
   },
   {
    "duration": 0,
    "start_time": "2022-04-25T12:22:55.483Z"
   },
   {
    "duration": 0,
    "start_time": "2022-04-25T12:22:55.485Z"
   },
   {
    "duration": 0,
    "start_time": "2022-04-25T12:22:55.486Z"
   },
   {
    "duration": 0,
    "start_time": "2022-04-25T12:22:55.488Z"
   },
   {
    "duration": 0,
    "start_time": "2022-04-25T12:22:55.489Z"
   },
   {
    "duration": 0,
    "start_time": "2022-04-25T12:22:55.491Z"
   },
   {
    "duration": 0,
    "start_time": "2022-04-25T12:22:55.492Z"
   },
   {
    "duration": 0,
    "start_time": "2022-04-25T12:22:55.493Z"
   },
   {
    "duration": 0,
    "start_time": "2022-04-25T12:22:55.495Z"
   },
   {
    "duration": 0,
    "start_time": "2022-04-25T12:22:55.496Z"
   },
   {
    "duration": 0,
    "start_time": "2022-04-25T12:22:55.497Z"
   },
   {
    "duration": 0,
    "start_time": "2022-04-25T12:22:55.499Z"
   },
   {
    "duration": 0,
    "start_time": "2022-04-25T12:22:55.501Z"
   },
   {
    "duration": 0,
    "start_time": "2022-04-25T12:22:55.502Z"
   },
   {
    "duration": 0,
    "start_time": "2022-04-25T12:22:55.504Z"
   },
   {
    "duration": 0,
    "start_time": "2022-04-25T12:22:55.505Z"
   },
   {
    "duration": 0,
    "start_time": "2022-04-25T12:22:55.506Z"
   },
   {
    "duration": 0,
    "start_time": "2022-04-25T12:22:55.508Z"
   },
   {
    "duration": 0,
    "start_time": "2022-04-25T12:22:55.509Z"
   },
   {
    "duration": 0,
    "start_time": "2022-04-25T12:22:55.510Z"
   },
   {
    "duration": 1,
    "start_time": "2022-04-25T12:22:55.572Z"
   },
   {
    "duration": 0,
    "start_time": "2022-04-25T12:22:55.574Z"
   },
   {
    "duration": 0,
    "start_time": "2022-04-25T12:22:55.576Z"
   },
   {
    "duration": 0,
    "start_time": "2022-04-25T12:22:55.578Z"
   },
   {
    "duration": 0,
    "start_time": "2022-04-25T12:22:55.579Z"
   },
   {
    "duration": 0,
    "start_time": "2022-04-25T12:22:55.581Z"
   },
   {
    "duration": 0,
    "start_time": "2022-04-25T12:22:55.582Z"
   },
   {
    "duration": 0,
    "start_time": "2022-04-25T12:22:55.584Z"
   },
   {
    "duration": 449,
    "start_time": "2022-04-25T12:24:24.024Z"
   },
   {
    "duration": 17,
    "start_time": "2022-04-25T12:24:24.475Z"
   },
   {
    "duration": 9,
    "start_time": "2022-04-25T12:24:24.494Z"
   },
   {
    "duration": 20,
    "start_time": "2022-04-25T12:24:24.506Z"
   },
   {
    "duration": 61,
    "start_time": "2022-04-25T12:24:24.527Z"
   },
   {
    "duration": 6,
    "start_time": "2022-04-25T12:24:24.590Z"
   },
   {
    "duration": 18,
    "start_time": "2022-04-25T12:24:24.597Z"
   },
   {
    "duration": 7,
    "start_time": "2022-04-25T12:24:24.617Z"
   },
   {
    "duration": 10,
    "start_time": "2022-04-25T12:24:24.626Z"
   },
   {
    "duration": 34,
    "start_time": "2022-04-25T12:24:24.639Z"
   },
   {
    "duration": 7,
    "start_time": "2022-04-25T12:24:24.675Z"
   },
   {
    "duration": 5,
    "start_time": "2022-04-25T12:24:24.684Z"
   },
   {
    "duration": 14,
    "start_time": "2022-04-25T12:24:24.690Z"
   },
   {
    "duration": 11,
    "start_time": "2022-04-25T12:24:24.706Z"
   },
   {
    "duration": 8,
    "start_time": "2022-04-25T12:24:24.719Z"
   },
   {
    "duration": 54,
    "start_time": "2022-04-25T12:24:24.729Z"
   },
   {
    "duration": 16,
    "start_time": "2022-04-25T12:24:24.785Z"
   },
   {
    "duration": 17,
    "start_time": "2022-04-25T12:24:24.803Z"
   },
   {
    "duration": 62,
    "start_time": "2022-04-25T12:24:24.822Z"
   },
   {
    "duration": 6,
    "start_time": "2022-04-25T12:24:24.886Z"
   },
   {
    "duration": 13,
    "start_time": "2022-04-25T12:24:24.894Z"
   },
   {
    "duration": 5,
    "start_time": "2022-04-25T12:24:24.909Z"
   },
   {
    "duration": 29,
    "start_time": "2022-04-25T12:24:24.916Z"
   },
   {
    "duration": 27,
    "start_time": "2022-04-25T12:24:24.947Z"
   },
   {
    "duration": 37,
    "start_time": "2022-04-25T12:24:24.976Z"
   },
   {
    "duration": 6,
    "start_time": "2022-04-25T12:24:25.015Z"
   },
   {
    "duration": 15,
    "start_time": "2022-04-25T12:24:25.023Z"
   },
   {
    "duration": 33,
    "start_time": "2022-04-25T12:24:25.042Z"
   },
   {
    "duration": 18,
    "start_time": "2022-04-25T12:24:25.077Z"
   },
   {
    "duration": 11,
    "start_time": "2022-04-25T12:24:25.097Z"
   },
   {
    "duration": 16,
    "start_time": "2022-04-25T12:24:25.110Z"
   },
   {
    "duration": 18,
    "start_time": "2022-04-25T12:24:25.128Z"
   },
   {
    "duration": 26,
    "start_time": "2022-04-25T12:24:25.148Z"
   },
   {
    "duration": 13,
    "start_time": "2022-04-25T12:24:25.176Z"
   },
   {
    "duration": 14,
    "start_time": "2022-04-25T12:24:25.190Z"
   },
   {
    "duration": 16,
    "start_time": "2022-04-25T12:24:25.206Z"
   },
   {
    "duration": 19,
    "start_time": "2022-04-25T12:24:25.224Z"
   },
   {
    "duration": 46,
    "start_time": "2022-04-25T12:24:25.245Z"
   },
   {
    "duration": 15,
    "start_time": "2022-04-25T12:24:25.293Z"
   },
   {
    "duration": 14,
    "start_time": "2022-04-25T12:24:25.310Z"
   },
   {
    "duration": 57,
    "start_time": "2022-04-25T12:24:25.326Z"
   },
   {
    "duration": 11,
    "start_time": "2022-04-25T12:24:25.385Z"
   },
   {
    "duration": 18,
    "start_time": "2022-04-25T12:24:25.398Z"
   },
   {
    "duration": 5,
    "start_time": "2022-04-25T12:24:25.417Z"
   },
   {
    "duration": 14,
    "start_time": "2022-04-25T12:24:25.424Z"
   },
   {
    "duration": 38,
    "start_time": "2022-04-25T12:24:25.439Z"
   },
   {
    "duration": 9,
    "start_time": "2022-04-25T12:24:25.479Z"
   },
   {
    "duration": 16,
    "start_time": "2022-04-25T12:24:25.490Z"
   },
   {
    "duration": 8,
    "start_time": "2022-04-25T12:24:25.507Z"
   },
   {
    "duration": 16,
    "start_time": "2022-04-25T12:24:25.517Z"
   },
   {
    "duration": 7,
    "start_time": "2022-04-25T12:24:25.535Z"
   },
   {
    "duration": 72,
    "start_time": "2022-04-25T15:48:44.668Z"
   },
   {
    "duration": 609,
    "start_time": "2022-04-25T15:48:52.175Z"
   },
   {
    "duration": 22,
    "start_time": "2022-04-25T15:48:52.786Z"
   },
   {
    "duration": 18,
    "start_time": "2022-04-25T15:48:52.809Z"
   },
   {
    "duration": 22,
    "start_time": "2022-04-25T15:48:52.830Z"
   },
   {
    "duration": 72,
    "start_time": "2022-04-25T15:48:52.854Z"
   },
   {
    "duration": 6,
    "start_time": "2022-04-25T15:48:52.929Z"
   },
   {
    "duration": 29,
    "start_time": "2022-04-25T15:48:52.937Z"
   },
   {
    "duration": 9,
    "start_time": "2022-04-25T15:48:52.969Z"
   },
   {
    "duration": 24,
    "start_time": "2022-04-25T15:48:52.981Z"
   },
   {
    "duration": 6,
    "start_time": "2022-04-25T15:48:53.026Z"
   },
   {
    "duration": 22,
    "start_time": "2022-04-25T15:48:53.035Z"
   },
   {
    "duration": 26,
    "start_time": "2022-04-25T15:48:53.060Z"
   },
   {
    "duration": 17,
    "start_time": "2022-04-25T15:48:53.088Z"
   },
   {
    "duration": 10,
    "start_time": "2022-04-25T15:48:53.125Z"
   },
   {
    "duration": 32,
    "start_time": "2022-04-25T15:48:53.138Z"
   },
   {
    "duration": 22,
    "start_time": "2022-04-25T15:48:53.173Z"
   },
   {
    "duration": 44,
    "start_time": "2022-04-25T15:48:53.198Z"
   },
   {
    "duration": 39,
    "start_time": "2022-04-25T15:48:53.244Z"
   },
   {
    "duration": 10,
    "start_time": "2022-04-25T15:48:53.285Z"
   },
   {
    "duration": 40,
    "start_time": "2022-04-25T15:48:53.297Z"
   },
   {
    "duration": 7,
    "start_time": "2022-04-25T15:48:53.340Z"
   },
   {
    "duration": 29,
    "start_time": "2022-04-25T15:48:53.349Z"
   },
   {
    "duration": 28,
    "start_time": "2022-04-25T15:48:53.380Z"
   },
   {
    "duration": 57,
    "start_time": "2022-04-25T15:48:53.410Z"
   },
   {
    "duration": 7,
    "start_time": "2022-04-25T15:48:53.469Z"
   },
   {
    "duration": 18,
    "start_time": "2022-04-25T15:48:53.478Z"
   },
   {
    "duration": 6,
    "start_time": "2022-04-25T15:48:53.525Z"
   },
   {
    "duration": 32,
    "start_time": "2022-04-25T15:48:53.536Z"
   },
   {
    "duration": 24,
    "start_time": "2022-04-25T15:48:53.570Z"
   },
   {
    "duration": 29,
    "start_time": "2022-04-25T15:48:53.596Z"
   },
   {
    "duration": 40,
    "start_time": "2022-04-25T15:48:53.627Z"
   },
   {
    "duration": 7,
    "start_time": "2022-04-25T15:48:53.669Z"
   },
   {
    "duration": 30,
    "start_time": "2022-04-25T15:48:53.678Z"
   },
   {
    "duration": 33,
    "start_time": "2022-04-25T15:48:53.710Z"
   },
   {
    "duration": 25,
    "start_time": "2022-04-25T15:48:53.745Z"
   },
   {
    "duration": 27,
    "start_time": "2022-04-25T15:48:53.773Z"
   },
   {
    "duration": 30,
    "start_time": "2022-04-25T15:48:53.802Z"
   },
   {
    "duration": 22,
    "start_time": "2022-04-25T15:48:53.834Z"
   },
   {
    "duration": 107,
    "start_time": "2022-04-25T15:48:53.858Z"
   },
   {
    "duration": 0,
    "start_time": "2022-04-25T15:48:53.967Z"
   },
   {
    "duration": 0,
    "start_time": "2022-04-25T15:48:53.968Z"
   },
   {
    "duration": 0,
    "start_time": "2022-04-25T15:48:53.970Z"
   },
   {
    "duration": 0,
    "start_time": "2022-04-25T15:48:53.971Z"
   },
   {
    "duration": 0,
    "start_time": "2022-04-25T15:48:53.972Z"
   },
   {
    "duration": 0,
    "start_time": "2022-04-25T15:48:53.973Z"
   },
   {
    "duration": 0,
    "start_time": "2022-04-25T15:48:53.974Z"
   },
   {
    "duration": 0,
    "start_time": "2022-04-25T15:48:53.975Z"
   },
   {
    "duration": 0,
    "start_time": "2022-04-25T15:48:53.976Z"
   },
   {
    "duration": 0,
    "start_time": "2022-04-25T15:48:53.978Z"
   },
   {
    "duration": 0,
    "start_time": "2022-04-25T15:48:53.979Z"
   },
   {
    "duration": 0,
    "start_time": "2022-04-25T15:48:53.980Z"
   },
   {
    "duration": 21,
    "start_time": "2022-04-25T15:52:23.348Z"
   },
   {
    "duration": 43,
    "start_time": "2022-04-25T15:52:31.236Z"
   },
   {
    "duration": 17,
    "start_time": "2022-04-25T15:52:31.691Z"
   },
   {
    "duration": 18,
    "start_time": "2022-04-25T15:52:32.859Z"
   },
   {
    "duration": 39,
    "start_time": "2022-04-25T15:52:33.074Z"
   },
   {
    "duration": 7,
    "start_time": "2022-04-25T15:52:33.683Z"
   },
   {
    "duration": 14,
    "start_time": "2022-04-25T15:52:34.090Z"
   },
   {
    "duration": 16,
    "start_time": "2022-04-25T15:52:35.187Z"
   },
   {
    "duration": 11,
    "start_time": "2022-04-25T15:52:35.603Z"
   },
   {
    "duration": 18,
    "start_time": "2022-04-25T15:52:36.619Z"
   },
   {
    "duration": 12,
    "start_time": "2022-04-25T15:52:36.819Z"
   },
   {
    "duration": 19,
    "start_time": "2022-04-25T15:52:37.987Z"
   },
   {
    "duration": 10,
    "start_time": "2022-04-25T15:52:38.244Z"
   },
   {
    "duration": 39,
    "start_time": "2022-04-25T15:58:07.434Z"
   },
   {
    "duration": 37,
    "start_time": "2022-04-25T16:04:19.807Z"
   },
   {
    "duration": 43,
    "start_time": "2022-04-25T16:06:46.766Z"
   },
   {
    "duration": 46,
    "start_time": "2022-04-25T16:08:46.373Z"
   },
   {
    "duration": 588,
    "start_time": "2022-04-25T16:13:08.043Z"
   },
   {
    "duration": 22,
    "start_time": "2022-04-25T16:13:08.633Z"
   },
   {
    "duration": 13,
    "start_time": "2022-04-25T16:13:08.658Z"
   },
   {
    "duration": 25,
    "start_time": "2022-04-25T16:13:08.674Z"
   },
   {
    "duration": 67,
    "start_time": "2022-04-25T16:13:08.701Z"
   },
   {
    "duration": 8,
    "start_time": "2022-04-25T16:13:08.770Z"
   },
   {
    "duration": 48,
    "start_time": "2022-04-25T16:13:08.780Z"
   },
   {
    "duration": 10,
    "start_time": "2022-04-25T16:13:08.830Z"
   },
   {
    "duration": 13,
    "start_time": "2022-04-25T16:13:08.843Z"
   },
   {
    "duration": 6,
    "start_time": "2022-04-25T16:13:08.860Z"
   },
   {
    "duration": 8,
    "start_time": "2022-04-25T16:13:08.869Z"
   },
   {
    "duration": 56,
    "start_time": "2022-04-25T16:13:08.879Z"
   },
   {
    "duration": 16,
    "start_time": "2022-04-25T16:13:08.938Z"
   },
   {
    "duration": 8,
    "start_time": "2022-04-25T16:13:08.957Z"
   },
   {
    "duration": 22,
    "start_time": "2022-04-25T16:13:08.967Z"
   },
   {
    "duration": 23,
    "start_time": "2022-04-25T16:13:09.025Z"
   },
   {
    "duration": 20,
    "start_time": "2022-04-25T16:13:09.050Z"
   },
   {
    "duration": 70,
    "start_time": "2022-04-25T16:13:09.073Z"
   },
   {
    "duration": 7,
    "start_time": "2022-04-25T16:13:09.146Z"
   },
   {
    "duration": 16,
    "start_time": "2022-04-25T16:13:09.155Z"
   },
   {
    "duration": 6,
    "start_time": "2022-04-25T16:13:09.173Z"
   },
   {
    "duration": 52,
    "start_time": "2022-04-25T16:13:09.181Z"
   },
   {
    "duration": 24,
    "start_time": "2022-04-25T16:13:09.235Z"
   },
   {
    "duration": 65,
    "start_time": "2022-04-25T16:13:09.261Z"
   },
   {
    "duration": 8,
    "start_time": "2022-04-25T16:13:09.328Z"
   },
   {
    "duration": 17,
    "start_time": "2022-04-25T16:13:09.338Z"
   },
   {
    "duration": 5,
    "start_time": "2022-04-25T16:13:09.358Z"
   },
   {
    "duration": 56,
    "start_time": "2022-04-25T16:13:09.368Z"
   },
   {
    "duration": 10,
    "start_time": "2022-04-25T16:13:09.426Z"
   },
   {
    "duration": 29,
    "start_time": "2022-04-25T16:13:09.439Z"
   },
   {
    "duration": 25,
    "start_time": "2022-04-25T16:13:09.470Z"
   },
   {
    "duration": 27,
    "start_time": "2022-04-25T16:13:09.498Z"
   },
   {
    "duration": 16,
    "start_time": "2022-04-25T16:13:09.528Z"
   },
   {
    "duration": 20,
    "start_time": "2022-04-25T16:13:09.547Z"
   },
   {
    "duration": 69,
    "start_time": "2022-04-25T16:13:09.570Z"
   },
   {
    "duration": 23,
    "start_time": "2022-04-25T16:13:09.642Z"
   },
   {
    "duration": 29,
    "start_time": "2022-04-25T16:13:09.668Z"
   },
   {
    "duration": 23,
    "start_time": "2022-04-25T16:13:09.724Z"
   },
   {
    "duration": 22,
    "start_time": "2022-04-25T16:13:09.749Z"
   },
   {
    "duration": 72,
    "start_time": "2022-04-25T16:13:09.773Z"
   },
   {
    "duration": 16,
    "start_time": "2022-04-25T16:13:09.847Z"
   },
   {
    "duration": 49,
    "start_time": "2022-04-25T16:13:09.865Z"
   },
   {
    "duration": 39,
    "start_time": "2022-04-25T16:13:09.916Z"
   },
   {
    "duration": 69,
    "start_time": "2022-04-25T16:13:09.957Z"
   },
   {
    "duration": 44,
    "start_time": "2022-04-25T16:13:10.028Z"
   },
   {
    "duration": 23,
    "start_time": "2022-04-25T16:16:58.964Z"
   },
   {
    "duration": 589,
    "start_time": "2022-04-25T16:34:47.728Z"
   },
   {
    "duration": 22,
    "start_time": "2022-04-25T16:34:48.320Z"
   },
   {
    "duration": 14,
    "start_time": "2022-04-25T16:34:48.345Z"
   },
   {
    "duration": 24,
    "start_time": "2022-04-25T16:34:48.362Z"
   },
   {
    "duration": 80,
    "start_time": "2022-04-25T16:34:48.388Z"
   },
   {
    "duration": 7,
    "start_time": "2022-04-25T16:34:48.470Z"
   },
   {
    "duration": 50,
    "start_time": "2022-04-25T16:34:48.480Z"
   },
   {
    "duration": 10,
    "start_time": "2022-04-25T16:34:48.532Z"
   },
   {
    "duration": 12,
    "start_time": "2022-04-25T16:34:48.544Z"
   },
   {
    "duration": 6,
    "start_time": "2022-04-25T16:34:48.560Z"
   },
   {
    "duration": 12,
    "start_time": "2022-04-25T16:34:48.568Z"
   },
   {
    "duration": 55,
    "start_time": "2022-04-25T16:34:48.582Z"
   },
   {
    "duration": 14,
    "start_time": "2022-04-25T16:34:48.639Z"
   },
   {
    "duration": 8,
    "start_time": "2022-04-25T16:34:48.656Z"
   },
   {
    "duration": 60,
    "start_time": "2022-04-25T16:34:48.666Z"
   },
   {
    "duration": 23,
    "start_time": "2022-04-25T16:34:48.729Z"
   },
   {
    "duration": 20,
    "start_time": "2022-04-25T16:34:48.755Z"
   },
   {
    "duration": 70,
    "start_time": "2022-04-25T16:34:48.777Z"
   },
   {
    "duration": 7,
    "start_time": "2022-04-25T16:34:48.850Z"
   },
   {
    "duration": 21,
    "start_time": "2022-04-25T16:34:48.859Z"
   },
   {
    "duration": 6,
    "start_time": "2022-04-25T16:34:48.882Z"
   },
   {
    "duration": 45,
    "start_time": "2022-04-25T16:34:48.890Z"
   },
   {
    "duration": 21,
    "start_time": "2022-04-25T16:34:48.937Z"
   },
   {
    "duration": 98,
    "start_time": "2022-04-25T16:34:48.960Z"
   },
   {
    "duration": 10,
    "start_time": "2022-04-25T16:34:49.061Z"
   },
   {
    "duration": 19,
    "start_time": "2022-04-25T16:34:49.074Z"
   },
   {
    "duration": 30,
    "start_time": "2022-04-25T16:34:49.096Z"
   },
   {
    "duration": 23,
    "start_time": "2022-04-25T16:34:49.131Z"
   },
   {
    "duration": 13,
    "start_time": "2022-04-25T16:34:49.157Z"
   },
   {
    "duration": 52,
    "start_time": "2022-04-25T16:34:49.172Z"
   },
   {
    "duration": 21,
    "start_time": "2022-04-25T16:34:49.227Z"
   },
   {
    "duration": 9,
    "start_time": "2022-04-25T16:34:49.250Z"
   },
   {
    "duration": 19,
    "start_time": "2022-04-25T16:34:49.262Z"
   },
   {
    "duration": 54,
    "start_time": "2022-04-25T16:34:49.283Z"
   },
   {
    "duration": 23,
    "start_time": "2022-04-25T16:34:49.339Z"
   },
   {
    "duration": 35,
    "start_time": "2022-04-25T16:34:49.364Z"
   },
   {
    "duration": 30,
    "start_time": "2022-04-25T16:34:49.425Z"
   },
   {
    "duration": 29,
    "start_time": "2022-04-25T16:34:49.457Z"
   },
   {
    "duration": 50,
    "start_time": "2022-04-25T16:34:49.488Z"
   },
   {
    "duration": 43,
    "start_time": "2022-04-25T16:34:49.540Z"
   },
   {
    "duration": 41,
    "start_time": "2022-04-25T16:34:49.585Z"
   },
   {
    "duration": 38,
    "start_time": "2022-04-25T16:34:49.629Z"
   },
   {
    "duration": 62,
    "start_time": "2022-04-25T16:34:49.669Z"
   },
   {
    "duration": 43,
    "start_time": "2022-04-25T16:34:49.734Z"
   },
   {
    "duration": 73,
    "start_time": "2022-04-25T16:34:49.780Z"
   },
   {
    "duration": 601,
    "start_time": "2022-04-25T16:36:29.244Z"
   },
   {
    "duration": 22,
    "start_time": "2022-04-25T16:36:29.848Z"
   },
   {
    "duration": 13,
    "start_time": "2022-04-25T16:36:29.873Z"
   },
   {
    "duration": 44,
    "start_time": "2022-04-25T16:36:29.889Z"
   },
   {
    "duration": 47,
    "start_time": "2022-04-25T16:36:29.935Z"
   },
   {
    "duration": 7,
    "start_time": "2022-04-25T16:36:29.985Z"
   },
   {
    "duration": 50,
    "start_time": "2022-04-25T16:36:29.994Z"
   },
   {
    "duration": 10,
    "start_time": "2022-04-25T16:36:30.046Z"
   },
   {
    "duration": 18,
    "start_time": "2022-04-25T16:36:30.059Z"
   },
   {
    "duration": 10,
    "start_time": "2022-04-25T16:36:30.080Z"
   },
   {
    "duration": 33,
    "start_time": "2022-04-25T16:36:30.093Z"
   },
   {
    "duration": 26,
    "start_time": "2022-04-25T16:36:30.129Z"
   },
   {
    "duration": 27,
    "start_time": "2022-04-25T16:36:30.157Z"
   },
   {
    "duration": 21,
    "start_time": "2022-04-25T16:36:30.186Z"
   },
   {
    "duration": 30,
    "start_time": "2022-04-25T16:36:30.210Z"
   },
   {
    "duration": 24,
    "start_time": "2022-04-25T16:36:30.243Z"
   },
   {
    "duration": 21,
    "start_time": "2022-04-25T16:36:30.269Z"
   },
   {
    "duration": 64,
    "start_time": "2022-04-25T16:36:30.292Z"
   },
   {
    "duration": 18,
    "start_time": "2022-04-25T16:36:30.358Z"
   },
   {
    "duration": 40,
    "start_time": "2022-04-25T16:36:30.379Z"
   },
   {
    "duration": 12,
    "start_time": "2022-04-25T16:36:30.421Z"
   },
   {
    "duration": 32,
    "start_time": "2022-04-25T16:36:30.435Z"
   },
   {
    "duration": 38,
    "start_time": "2022-04-25T16:36:30.469Z"
   },
   {
    "duration": 50,
    "start_time": "2022-04-25T16:36:30.509Z"
   },
   {
    "duration": 7,
    "start_time": "2022-04-25T16:36:30.562Z"
   },
   {
    "duration": 25,
    "start_time": "2022-04-25T16:36:30.571Z"
   },
   {
    "duration": 26,
    "start_time": "2022-04-25T16:36:30.598Z"
   },
   {
    "duration": 17,
    "start_time": "2022-04-25T16:36:30.629Z"
   },
   {
    "duration": 16,
    "start_time": "2022-04-25T16:36:30.648Z"
   },
   {
    "duration": 23,
    "start_time": "2022-04-25T16:36:30.666Z"
   },
   {
    "duration": 46,
    "start_time": "2022-04-25T16:36:30.691Z"
   },
   {
    "duration": 8,
    "start_time": "2022-04-25T16:36:30.740Z"
   },
   {
    "duration": 41,
    "start_time": "2022-04-25T16:36:30.750Z"
   },
   {
    "duration": 19,
    "start_time": "2022-04-25T16:36:30.794Z"
   },
   {
    "duration": 28,
    "start_time": "2022-04-25T16:36:30.815Z"
   },
   {
    "duration": 43,
    "start_time": "2022-04-25T16:36:30.846Z"
   },
   {
    "duration": 34,
    "start_time": "2022-04-25T16:36:30.891Z"
   },
   {
    "duration": 22,
    "start_time": "2022-04-25T16:36:30.928Z"
   },
   {
    "duration": 21,
    "start_time": "2022-04-25T16:36:30.952Z"
   },
   {
    "duration": 76,
    "start_time": "2022-04-25T16:36:30.975Z"
   },
   {
    "duration": 17,
    "start_time": "2022-04-25T16:36:31.053Z"
   },
   {
    "duration": 54,
    "start_time": "2022-04-25T16:36:31.073Z"
   },
   {
    "duration": 36,
    "start_time": "2022-04-25T16:36:31.129Z"
   },
   {
    "duration": 65,
    "start_time": "2022-04-25T16:36:31.168Z"
   },
   {
    "duration": 44,
    "start_time": "2022-04-25T16:36:31.235Z"
   },
   {
    "duration": 553,
    "start_time": "2022-04-26T06:53:20.802Z"
   },
   {
    "duration": 14,
    "start_time": "2022-04-26T06:53:21.357Z"
   },
   {
    "duration": 8,
    "start_time": "2022-04-26T06:53:21.373Z"
   },
   {
    "duration": 23,
    "start_time": "2022-04-26T06:53:21.383Z"
   },
   {
    "duration": 40,
    "start_time": "2022-04-26T06:53:21.408Z"
   },
   {
    "duration": 6,
    "start_time": "2022-04-26T06:53:21.450Z"
   },
   {
    "duration": 21,
    "start_time": "2022-04-26T06:53:21.457Z"
   },
   {
    "duration": 9,
    "start_time": "2022-04-26T06:53:21.500Z"
   },
   {
    "duration": 9,
    "start_time": "2022-04-26T06:53:21.511Z"
   },
   {
    "duration": 11,
    "start_time": "2022-04-26T06:53:21.523Z"
   },
   {
    "duration": 10,
    "start_time": "2022-04-26T06:53:21.536Z"
   },
   {
    "duration": 15,
    "start_time": "2022-04-26T06:53:21.548Z"
   },
   {
    "duration": 36,
    "start_time": "2022-04-26T06:53:21.565Z"
   },
   {
    "duration": 7,
    "start_time": "2022-04-26T06:53:21.602Z"
   },
   {
    "duration": 16,
    "start_time": "2022-04-26T06:53:21.610Z"
   },
   {
    "duration": 15,
    "start_time": "2022-04-26T06:53:21.627Z"
   },
   {
    "duration": 22,
    "start_time": "2022-04-26T06:53:21.644Z"
   },
   {
    "duration": 74,
    "start_time": "2022-04-26T06:53:21.668Z"
   },
   {
    "duration": 6,
    "start_time": "2022-04-26T06:53:21.744Z"
   },
   {
    "duration": 15,
    "start_time": "2022-04-26T06:53:21.752Z"
   },
   {
    "duration": 5,
    "start_time": "2022-04-26T06:53:21.769Z"
   },
   {
    "duration": 37,
    "start_time": "2022-04-26T06:53:21.775Z"
   },
   {
    "duration": 26,
    "start_time": "2022-04-26T06:53:21.814Z"
   },
   {
    "duration": 66,
    "start_time": "2022-04-26T06:53:21.842Z"
   },
   {
    "duration": 4,
    "start_time": "2022-04-26T06:53:21.910Z"
   },
   {
    "duration": 15,
    "start_time": "2022-04-26T06:53:21.916Z"
   },
   {
    "duration": 4,
    "start_time": "2022-04-26T06:53:21.932Z"
   },
   {
    "duration": 12,
    "start_time": "2022-04-26T06:53:21.939Z"
   },
   {
    "duration": 8,
    "start_time": "2022-04-26T06:53:21.953Z"
   },
   {
    "duration": 14,
    "start_time": "2022-04-26T06:53:21.963Z"
   },
   {
    "duration": 33,
    "start_time": "2022-04-26T06:53:21.978Z"
   },
   {
    "duration": 5,
    "start_time": "2022-04-26T06:53:22.012Z"
   },
   {
    "duration": 10,
    "start_time": "2022-04-26T06:53:22.018Z"
   },
   {
    "duration": 12,
    "start_time": "2022-04-26T06:53:22.029Z"
   },
   {
    "duration": 14,
    "start_time": "2022-04-26T06:53:22.042Z"
   },
   {
    "duration": 46,
    "start_time": "2022-04-26T06:53:22.058Z"
   },
   {
    "duration": 18,
    "start_time": "2022-04-26T06:53:22.106Z"
   },
   {
    "duration": 21,
    "start_time": "2022-04-26T06:53:22.126Z"
   },
   {
    "duration": 12,
    "start_time": "2022-04-26T06:53:22.149Z"
   },
   {
    "duration": 40,
    "start_time": "2022-04-26T06:53:22.162Z"
   },
   {
    "duration": 10,
    "start_time": "2022-04-26T06:53:22.203Z"
   },
   {
    "duration": 24,
    "start_time": "2022-04-26T06:53:22.214Z"
   },
   {
    "duration": 21,
    "start_time": "2022-04-26T06:53:22.239Z"
   },
   {
    "duration": 43,
    "start_time": "2022-04-26T06:53:22.261Z"
   },
   {
    "duration": 24,
    "start_time": "2022-04-26T06:53:22.306Z"
   },
   {
    "duration": 461,
    "start_time": "2022-04-26T06:55:06.100Z"
   },
   {
    "duration": 15,
    "start_time": "2022-04-26T06:55:06.563Z"
   },
   {
    "duration": 11,
    "start_time": "2022-04-26T06:55:06.579Z"
   },
   {
    "duration": 15,
    "start_time": "2022-04-26T06:55:06.592Z"
   },
   {
    "duration": 28,
    "start_time": "2022-04-26T06:55:06.608Z"
   },
   {
    "duration": 4,
    "start_time": "2022-04-26T06:55:06.638Z"
   },
   {
    "duration": 17,
    "start_time": "2022-04-26T06:55:06.643Z"
   },
   {
    "duration": 6,
    "start_time": "2022-04-26T06:55:06.662Z"
   },
   {
    "duration": 36,
    "start_time": "2022-04-26T06:55:06.669Z"
   },
   {
    "duration": 4,
    "start_time": "2022-04-26T06:55:06.708Z"
   },
   {
    "duration": 8,
    "start_time": "2022-04-26T06:55:06.713Z"
   },
   {
    "duration": 9,
    "start_time": "2022-04-26T06:55:06.723Z"
   },
   {
    "duration": 9,
    "start_time": "2022-04-26T06:55:06.734Z"
   },
   {
    "duration": 5,
    "start_time": "2022-04-26T06:55:06.745Z"
   },
   {
    "duration": 15,
    "start_time": "2022-04-26T06:55:06.751Z"
   },
   {
    "duration": 47,
    "start_time": "2022-04-26T06:55:06.767Z"
   },
   {
    "duration": 14,
    "start_time": "2022-04-26T06:55:06.816Z"
   },
   {
    "duration": 28,
    "start_time": "2022-04-26T06:55:06.831Z"
   },
   {
    "duration": 6,
    "start_time": "2022-04-26T06:55:06.860Z"
   },
   {
    "duration": 37,
    "start_time": "2022-04-26T06:55:06.867Z"
   },
   {
    "duration": 4,
    "start_time": "2022-04-26T06:55:06.905Z"
   },
   {
    "duration": 14,
    "start_time": "2022-04-26T06:55:06.911Z"
   },
   {
    "duration": 25,
    "start_time": "2022-04-26T06:55:06.926Z"
   },
   {
    "duration": 33,
    "start_time": "2022-04-26T06:55:06.953Z"
   },
   {
    "duration": 18,
    "start_time": "2022-04-26T06:55:06.987Z"
   },
   {
    "duration": 13,
    "start_time": "2022-04-26T06:55:07.007Z"
   },
   {
    "duration": 5,
    "start_time": "2022-04-26T06:55:07.021Z"
   },
   {
    "duration": 15,
    "start_time": "2022-04-26T06:55:07.030Z"
   },
   {
    "duration": 9,
    "start_time": "2022-04-26T06:55:07.046Z"
   },
   {
    "duration": 44,
    "start_time": "2022-04-26T06:55:07.057Z"
   },
   {
    "duration": 16,
    "start_time": "2022-04-26T06:55:07.103Z"
   },
   {
    "duration": 22,
    "start_time": "2022-04-26T06:55:07.121Z"
   },
   {
    "duration": 11,
    "start_time": "2022-04-26T06:55:07.145Z"
   },
   {
    "duration": 13,
    "start_time": "2022-04-26T06:55:07.158Z"
   },
   {
    "duration": 30,
    "start_time": "2022-04-26T06:55:07.173Z"
   },
   {
    "duration": 19,
    "start_time": "2022-04-26T06:55:07.205Z"
   },
   {
    "duration": 20,
    "start_time": "2022-04-26T06:55:07.226Z"
   },
   {
    "duration": 14,
    "start_time": "2022-04-26T06:55:07.248Z"
   },
   {
    "duration": 43,
    "start_time": "2022-04-26T06:55:07.264Z"
   },
   {
    "duration": 26,
    "start_time": "2022-04-26T06:55:07.309Z"
   },
   {
    "duration": 11,
    "start_time": "2022-04-26T06:55:07.337Z"
   },
   {
    "duration": 52,
    "start_time": "2022-04-26T06:55:07.350Z"
   },
   {
    "duration": 24,
    "start_time": "2022-04-26T06:55:07.404Z"
   },
   {
    "duration": 27,
    "start_time": "2022-04-26T06:55:07.430Z"
   },
   {
    "duration": 59,
    "start_time": "2022-04-26T06:55:07.459Z"
   }
  ],
  "kernelspec": {
   "display_name": "Python 3 (ipykernel)",
   "language": "python",
   "name": "python3"
  },
  "language_info": {
   "codemirror_mode": {
    "name": "ipython",
    "version": 3
   },
   "file_extension": ".py",
   "mimetype": "text/x-python",
   "name": "python",
   "nbconvert_exporter": "python",
   "pygments_lexer": "ipython3",
   "version": "3.9.7"
  },
  "toc": {
   "base_numbering": 1,
   "nav_menu": {},
   "number_sections": true,
   "sideBar": true,
   "skip_h1_title": true,
   "title_cell": "Оглавление:",
   "title_sidebar": "Оглавление:",
   "toc_cell": true,
   "toc_position": {
    "height": "calc(100% - 180px)",
    "left": "10px",
    "top": "150px",
    "width": "273.188px"
   },
   "toc_section_display": true,
   "toc_window_display": true
  }
 },
 "nbformat": 4,
 "nbformat_minor": 5
}
