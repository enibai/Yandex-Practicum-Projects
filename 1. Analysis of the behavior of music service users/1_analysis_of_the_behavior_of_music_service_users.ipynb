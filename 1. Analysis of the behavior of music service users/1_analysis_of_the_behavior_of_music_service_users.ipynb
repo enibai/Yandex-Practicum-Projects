{
 "cells": [
  {
   "cell_type": "markdown",
   "metadata": {
    "id": "E0vqbgi9ay0H"
   },
   "source": [
    "# Анализ поведения пользователей музыкального сервиса."
   ]
  },
  {
   "cell_type": "markdown",
   "metadata": {
    "toc": true
   },
   "source": [
    "<h1>Оглавление:<span class=\"tocSkip\"></span></h1>\n",
    "<div class=\"toc\"><ul class=\"toc-item\"><li><ul class=\"toc-item\"><li><span><a href=\"#Описание-проекта:\" data-toc-modified-id=\"Описание-проекта:-0.1\"><span class=\"toc-item-num\">0.1&nbsp;&nbsp;</span>Описание проекта:</a></span></li><li><span><a href=\"#Описание-данных:\" data-toc-modified-id=\"Описание-данных:-0.2\"><span class=\"toc-item-num\">0.2&nbsp;&nbsp;</span>Описание данных:</a></span></li></ul></li><li><span><a href=\"#Шаг-1.-Импортирую-необходимые-библиотеки,-открываю-файл-с-данными-и-изучаю-общую-информацию.\" data-toc-modified-id=\"Шаг-1.-Импортирую-необходимые-библиотеки,-открываю-файл-с-данными-и-изучаю-общую-информацию.-1\"><span class=\"toc-item-num\">1&nbsp;&nbsp;</span>Шаг 1. Импортирую необходимые библиотеки, открываю файл с данными и изучаю общую информацию.</a></span><ul class=\"toc-item\"><li><span><a href=\"#Вывод:\" data-toc-modified-id=\"Вывод:-1.1\"><span class=\"toc-item-num\">1.1&nbsp;&nbsp;</span>Вывод:</a></span></li></ul></li><li><span><a href=\"#Шаг-2.-Предобработка-данных.\" data-toc-modified-id=\"Шаг-2.-Предобработка-данных.-2\"><span class=\"toc-item-num\">2&nbsp;&nbsp;</span>Шаг 2. Предобработка данных.</a></span><ul class=\"toc-item\"><li><span><a href=\"#Исправляю-стиль-в-заголовках-столбцов.\" data-toc-modified-id=\"Исправляю-стиль-в-заголовках-столбцов.-2.1\"><span class=\"toc-item-num\">2.1&nbsp;&nbsp;</span>Исправляю стиль в заголовках столбцов.</a></span></li><li><span><a href=\"#Привожу-все-значения-столбцов-со-строками-к-нижнему-регистру.\" data-toc-modified-id=\"Привожу-все-значения-столбцов-со-строками-к-нижнему-регистру.-2.2\"><span class=\"toc-item-num\">2.2&nbsp;&nbsp;</span>Привожу все значения столбцов со строками к нижнему регистру.</a></span></li><li><span><a href=\"#Разбираюсь-с-пропущенными-значениями.\" data-toc-modified-id=\"Разбираюсь-с-пропущенными-значениями.-2.3\"><span class=\"toc-item-num\">2.3&nbsp;&nbsp;</span>Разбираюсь с пропущенными значениями.</a></span></li><li><span><a href=\"#Избавляюсь-от-неявных-дубликатов-в-столбце-genre.\" data-toc-modified-id=\"Избавляюсь-от-неявных-дубликатов-в-столбце-genre.-2.4\"><span class=\"toc-item-num\">2.4&nbsp;&nbsp;</span>Избавляюсь от неявных дубликатов в столбце <code>genre</code>.</a></span></li><li><span><a href=\"#Удаляю-явные-дубликаты.\" data-toc-modified-id=\"Удаляю-явные-дубликаты.-2.5\"><span class=\"toc-item-num\">2.5&nbsp;&nbsp;</span>Удаляю явные дубликаты.</a></span></li><li><span><a href=\"#Смотрю-итоговый-результат.\" data-toc-modified-id=\"Смотрю-итоговый-результат.-2.6\"><span class=\"toc-item-num\">2.6&nbsp;&nbsp;</span>Смотрю итоговый результат.</a></span></li><li><span><a href=\"#Вывод:\" data-toc-modified-id=\"Вывод:-2.7\"><span class=\"toc-item-num\">2.7&nbsp;&nbsp;</span>Вывод:</a></span></li></ul></li><li><span><a href=\"#Шаг-3.-Проверка-гипотез.\" data-toc-modified-id=\"Шаг-3.-Проверка-гипотез.-3\"><span class=\"toc-item-num\">3&nbsp;&nbsp;</span>Шаг 3. Проверка гипотез.</a></span><ul class=\"toc-item\"><li><span><a href=\"#Проверяю-гипотезу-о-том,-что-активность-пользователей-зависит-от-дня-недели,-и-это-по-разному-проявляется-в-Москве-и-Санкт-Петербурге.\" data-toc-modified-id=\"Проверяю-гипотезу-о-том,-что-активность-пользователей-зависит-от-дня-недели,-и-это-по-разному-проявляется-в-Москве-и-Санкт-Петербурге.-3.1\"><span class=\"toc-item-num\">3.1&nbsp;&nbsp;</span>Проверяю гипотезу о том, что активность пользователей зависит от дня недели, и это по-разному проявляется в Москве и Санкт-Петербурге.</a></span></li><li><span><a href=\"#Проверяю-гипотезу-о-том,-что-в-понедельник-утром-в-Москве-преобладают-одни-жанры,-а-в-Санкт-Петербурге---другие.-Так-же-и-вечером-пятницы-преобладают-разные-жанры,-в-зависимости-от-города.\" data-toc-modified-id=\"Проверяю-гипотезу-о-том,-что-в-понедельник-утром-в-Москве-преобладают-одни-жанры,-а-в-Санкт-Петербурге---другие.-Так-же-и-вечером-пятницы-преобладают-разные-жанры,-в-зависимости-от-города.-3.2\"><span class=\"toc-item-num\">3.2&nbsp;&nbsp;</span>Проверяю гипотезу о том, что в понедельник утром в Москве преобладают одни жанры, а в Санкт-Петербурге - другие. Так же и вечером пятницы преобладают разные жанры, в зависимости от города.</a></span></li><li><span><a href=\"#Проверяю-гипотезу-о-том,-что-Москва-и-Санкт-Петербург-предпочитают-разные-жанры-музыки.-В-Москве-чаще-слушают-поп-музыку,-в-Санкт-Петербурге---русский-рэп.\" data-toc-modified-id=\"Проверяю-гипотезу-о-том,-что-Москва-и-Санкт-Петербург-предпочитают-разные-жанры-музыки.-В-Москве-чаще-слушают-поп-музыку,-в-Санкт-Петербурге---русский-рэп.-3.3\"><span class=\"toc-item-num\">3.3&nbsp;&nbsp;</span>Проверяю гипотезу о том, что Москва и Санкт-Петербург предпочитают разные жанры музыки. В Москве чаще слушают поп-музыку, в Санкт-Петербурге - русский рэп.</a></span></li><li><span><a href=\"#Общий-вывод:\" data-toc-modified-id=\"Общий-вывод:-3.4\"><span class=\"toc-item-num\">3.4&nbsp;&nbsp;</span>Общий вывод:</a></span></li></ul></li></ul></div>"
   ]
  },
  {
   "cell_type": "markdown",
   "metadata": {
    "id": "VUC88oWjTJw2"
   },
   "source": [
    "### Описание проекта:\n",
    "Необходимо сравнить поведение пользователей музыкального сервиса из Москвы и Санкт-Петербурга. Цель исследования - проверка трех гипотез:\n",
    "- Активность пользователей зависит от дня недели. Причём в Москве и Санкт-Петербурге это проявляется по-разному.\n",
    "- В понедельник утром в Москве преобладают одни жанры, а в Санкт-Петербурге - другие. Так же и вечером пятницы преобладают разные жанры, в зависимости от города. \n",
    "- Москва и Санкт-Петербург предпочитают разные жанры музыки. В Москве чаще слушают поп-музыку, в Санкт-Петербурге - русский рэп.\n",
    "\n",
    "### Описание данных:\n",
    "Датасет `music` содержит:\n",
    "- **`user_id`** - идентификатор пользователя;\n",
    "- **`track`** - название трека;\n",
    "- **`artist`** - имя исполнителя;\n",
    "- **`genre`** - название жанра;\n",
    "- **`city`** - город пользователя;\n",
    "- **`time`** - время начала прослушивания;\n",
    "- **`day`** - день недели."
   ]
  },
  {
   "cell_type": "markdown",
   "metadata": {
    "id": "Ml1hmfXC_Zcs"
   },
   "source": [
    "## Шаг 1. Импортирую необходимые библиотеки, открываю файл с данными и изучаю общую информацию."
   ]
  },
  {
   "cell_type": "code",
   "execution_count": 1,
   "metadata": {
    "id": "AXN7PHPN_Zcs"
   },
   "outputs": [],
   "source": [
    "import pandas as pd"
   ]
  },
  {
   "cell_type": "code",
   "execution_count": 2,
   "metadata": {
    "id": "fFVu7vqh_Zct"
   },
   "outputs": [],
   "source": [
    "df = pd.read_csv('/datasets/music.csv')"
   ]
  },
  {
   "cell_type": "code",
   "execution_count": 3,
   "metadata": {
    "id": "oWTVX3gW_Zct"
   },
   "outputs": [],
   "source": [
    "def df_info(df):\n",
    "    display(df.head(3))\n",
    "    print('-' * 50)\n",
    "    df.info()\n",
    "    print('-' * 50)\n",
    "    display(df.describe(include = 'all'))\n",
    "    print('-' * 50)\n",
    "    print('Количество явных дубликатов:', df.duplicated().sum())"
   ]
  },
  {
   "cell_type": "code",
   "execution_count": 4,
   "metadata": {},
   "outputs": [
    {
     "data": {
      "text/html": [
       "<div>\n",
       "<style scoped>\n",
       "    .dataframe tbody tr th:only-of-type {\n",
       "        vertical-align: middle;\n",
       "    }\n",
       "\n",
       "    .dataframe tbody tr th {\n",
       "        vertical-align: top;\n",
       "    }\n",
       "\n",
       "    .dataframe thead th {\n",
       "        text-align: right;\n",
       "    }\n",
       "</style>\n",
       "<table border=\"1\" class=\"dataframe\">\n",
       "  <thead>\n",
       "    <tr style=\"text-align: right;\">\n",
       "      <th></th>\n",
       "      <th>userID</th>\n",
       "      <th>Track</th>\n",
       "      <th>artist</th>\n",
       "      <th>genre</th>\n",
       "      <th>City</th>\n",
       "      <th>time</th>\n",
       "      <th>Day</th>\n",
       "    </tr>\n",
       "  </thead>\n",
       "  <tbody>\n",
       "    <tr>\n",
       "      <th>0</th>\n",
       "      <td>FFB692EC</td>\n",
       "      <td>Kamigata To Boots</td>\n",
       "      <td>The Mass Missile</td>\n",
       "      <td>rock</td>\n",
       "      <td>Saint-Petersburg</td>\n",
       "      <td>20:28:33</td>\n",
       "      <td>Wednesday</td>\n",
       "    </tr>\n",
       "    <tr>\n",
       "      <th>1</th>\n",
       "      <td>55204538</td>\n",
       "      <td>Delayed Because of Accident</td>\n",
       "      <td>Andreas Rönnberg</td>\n",
       "      <td>rock</td>\n",
       "      <td>Moscow</td>\n",
       "      <td>14:07:09</td>\n",
       "      <td>Friday</td>\n",
       "    </tr>\n",
       "    <tr>\n",
       "      <th>2</th>\n",
       "      <td>20EC38</td>\n",
       "      <td>Funiculì funiculà</td>\n",
       "      <td>Mario Lanza</td>\n",
       "      <td>pop</td>\n",
       "      <td>Saint-Petersburg</td>\n",
       "      <td>20:58:07</td>\n",
       "      <td>Wednesday</td>\n",
       "    </tr>\n",
       "  </tbody>\n",
       "</table>\n",
       "</div>"
      ],
      "text/plain": [
       "     userID                        Track            artist genre  \\\n",
       "0  FFB692EC            Kamigata To Boots  The Mass Missile  rock   \n",
       "1  55204538  Delayed Because of Accident  Andreas Rönnberg  rock   \n",
       "2    20EC38            Funiculì funiculà       Mario Lanza   pop   \n",
       "\n",
       "             City        time        Day  \n",
       "0  Saint-Petersburg  20:28:33  Wednesday  \n",
       "1            Moscow  14:07:09     Friday  \n",
       "2  Saint-Petersburg  20:58:07  Wednesday  "
      ]
     },
     "metadata": {},
     "output_type": "display_data"
    },
    {
     "name": "stdout",
     "output_type": "stream",
     "text": [
      "--------------------------------------------------\n",
      "<class 'pandas.core.frame.DataFrame'>\n",
      "RangeIndex: 65079 entries, 0 to 65078\n",
      "Data columns (total 7 columns):\n",
      " #   Column    Non-Null Count  Dtype \n",
      "---  ------    --------------  ----- \n",
      " 0     userID  65079 non-null  object\n",
      " 1   Track     63848 non-null  object\n",
      " 2   artist    57876 non-null  object\n",
      " 3   genre     63881 non-null  object\n",
      " 4     City    65079 non-null  object\n",
      " 5   time      65079 non-null  object\n",
      " 6   Day       65079 non-null  object\n",
      "dtypes: object(7)\n",
      "memory usage: 3.5+ MB\n",
      "--------------------------------------------------\n"
     ]
    },
    {
     "data": {
      "text/html": [
       "<div>\n",
       "<style scoped>\n",
       "    .dataframe tbody tr th:only-of-type {\n",
       "        vertical-align: middle;\n",
       "    }\n",
       "\n",
       "    .dataframe tbody tr th {\n",
       "        vertical-align: top;\n",
       "    }\n",
       "\n",
       "    .dataframe thead th {\n",
       "        text-align: right;\n",
       "    }\n",
       "</style>\n",
       "<table border=\"1\" class=\"dataframe\">\n",
       "  <thead>\n",
       "    <tr style=\"text-align: right;\">\n",
       "      <th></th>\n",
       "      <th>userID</th>\n",
       "      <th>Track</th>\n",
       "      <th>artist</th>\n",
       "      <th>genre</th>\n",
       "      <th>City</th>\n",
       "      <th>time</th>\n",
       "      <th>Day</th>\n",
       "    </tr>\n",
       "  </thead>\n",
       "  <tbody>\n",
       "    <tr>\n",
       "      <th>count</th>\n",
       "      <td>65079</td>\n",
       "      <td>63848</td>\n",
       "      <td>57876</td>\n",
       "      <td>63881</td>\n",
       "      <td>65079</td>\n",
       "      <td>65079</td>\n",
       "      <td>65079</td>\n",
       "    </tr>\n",
       "    <tr>\n",
       "      <th>unique</th>\n",
       "      <td>41748</td>\n",
       "      <td>47245</td>\n",
       "      <td>43605</td>\n",
       "      <td>289</td>\n",
       "      <td>2</td>\n",
       "      <td>20392</td>\n",
       "      <td>3</td>\n",
       "    </tr>\n",
       "    <tr>\n",
       "      <th>top</th>\n",
       "      <td>A8AE9169</td>\n",
       "      <td>Intro</td>\n",
       "      <td>Sasha</td>\n",
       "      <td>pop</td>\n",
       "      <td>Moscow</td>\n",
       "      <td>08:14:07</td>\n",
       "      <td>Friday</td>\n",
       "    </tr>\n",
       "    <tr>\n",
       "      <th>freq</th>\n",
       "      <td>76</td>\n",
       "      <td>34</td>\n",
       "      <td>6</td>\n",
       "      <td>8850</td>\n",
       "      <td>45360</td>\n",
       "      <td>14</td>\n",
       "      <td>23149</td>\n",
       "    </tr>\n",
       "  </tbody>\n",
       "</table>\n",
       "</div>"
      ],
      "text/plain": [
       "          userID  Track artist  genre   City        time     Day\n",
       "count      65079  63848  57876  63881    65079     65079   65079\n",
       "unique     41748  47245  43605    289        2     20392       3\n",
       "top     A8AE9169  Intro  Sasha    pop   Moscow  08:14:07  Friday\n",
       "freq          76     34      6   8850    45360        14   23149"
      ]
     },
     "metadata": {},
     "output_type": "display_data"
    },
    {
     "name": "stdout",
     "output_type": "stream",
     "text": [
      "--------------------------------------------------\n",
      "Количество явных дубликатов: 3826\n"
     ]
    }
   ],
   "source": [
    "df_info(df)"
   ]
  },
  {
   "cell_type": "markdown",
   "metadata": {
    "id": "TaQ2Iwbr_Zct"
   },
   "source": [
    "### Вывод:\n",
    "Датасет содержит **65079** записей по **7** столбцам. Типы данных соответствуют содержимому столбцов. В названиях столбцов встречаются стилистические нарушения. В следующих столбцах содержатся пропущенные значения:\n",
    "- **`track`** - **1231** пропуск;\n",
    "- **`artist`** - **7203** пропуска;\n",
    "- **`genre`** - **1198** пропусков.\n",
    "\n",
    "Также датасет содержит **3826** явных дубликатов. Данные изначально плохого качества и требуют предобработки."
   ]
  },
  {
   "cell_type": "markdown",
   "metadata": {
    "id": "SjYF6Ub9_Zct"
   },
   "source": [
    "## Шаг 2. Предобработка данных.\n",
    "### Исправляю стиль в заголовках столбцов."
   ]
  },
  {
   "cell_type": "code",
   "execution_count": 5,
   "metadata": {
    "id": "oKOTdF_Q_Zct"
   },
   "outputs": [
    {
     "data": {
      "text/plain": [
       "Index(['user_id', 'track', 'artist', 'genre', 'city', 'time', 'day'], dtype='object')"
      ]
     },
     "execution_count": 5,
     "metadata": {},
     "output_type": "execute_result"
    }
   ],
   "source": [
    "df.columns = df.columns.str.lower()\n",
    "df = df.rename(columns = {'  userid':'user_id', '  city  ':'city'})\n",
    "df.columns"
   ]
  },
  {
   "cell_type": "markdown",
   "metadata": {},
   "source": [
    "### Привожу все значения столбцов со строками к нижнему регистру.\n",
    "Чтобы снизить вероятность неявных дубликатов."
   ]
  },
  {
   "cell_type": "code",
   "execution_count": 6,
   "metadata": {},
   "outputs": [],
   "source": [
    "columns = ['user_id', 'track', 'artist', 'genre', 'city', 'day']\n",
    "for column in columns:\n",
    "    df[column] = df[column].str.lower()"
   ]
  },
  {
   "cell_type": "markdown",
   "metadata": {},
   "source": [
    "### Разбираюсь с пропущенными значениями."
   ]
  },
  {
   "cell_type": "code",
   "execution_count": 7,
   "metadata": {
    "id": "RskX29qr_Zct"
   },
   "outputs": [
    {
     "data": {
      "text/plain": [
       "user_id       0\n",
       "track      1231\n",
       "artist     7203\n",
       "genre      1198\n",
       "city          0\n",
       "time          0\n",
       "day           0\n",
       "dtype: int64"
      ]
     },
     "execution_count": 7,
     "metadata": {},
     "output_type": "execute_result"
    }
   ],
   "source": [
    "df.isna().sum()"
   ]
  },
  {
   "cell_type": "markdown",
   "metadata": {
    "id": "qubhgnlO_Zct"
   },
   "source": [
    "Не все пропущенные значения влияют на исследование. Так в `track` и `artist` пропуски не важны для этой работы. Достаточно заменить их явными обозначениями. Но пропуски в `genre` могут помешать сравнению музыкальных вкусов в Москве и Санкт-Петербурге. Установить причину пропусков и восстановить данные не прндставляется возможным, поэтому также заполняю и эти пропуски явными обозначениями."
   ]
  },
  {
   "cell_type": "code",
   "execution_count": 8,
   "metadata": {
    "id": "KplB5qWs_Zct"
   },
   "outputs": [
    {
     "name": "stdout",
     "output_type": "stream",
     "text": [
      "904 неизвестных жанра у пользователей из Москвы.\n",
      "294 неизвестных жанра у пользователей из Санкт-Петербурга.\n"
     ]
    }
   ],
   "source": [
    "columns_to_replace = ['track', 'artist', 'genre']\n",
    "for column in columns_to_replace:\n",
    "    df[column] = df[column].fillna('unknown')\n",
    "\n",
    "print(df.query('genre == \"unknown\" & city == \"moscow\"')['user_id'].count(), 'неизвестных жанра у пользователей из Москвы.')\n",
    "print(df.query('genre == \"unknown\" & city == \"saint-petersburg\"')['user_id'].count(), 'неизвестных жанра у пользователей из Санкт-Петербурга.')"
   ]
  },
  {
   "cell_type": "markdown",
   "metadata": {},
   "source": [
    "**904** неизвестных жанра у пользователей из Москвы, **294** у пользователей из Санкт-Петербурга. Позже проверю насколько это повлияло на результаты исследования."
   ]
  },
  {
   "cell_type": "markdown",
   "metadata": {},
   "source": [
    "### Избавляюсь от неявных дубликатов в столбце `genre`. "
   ]
  },
  {
   "cell_type": "code",
   "execution_count": 9,
   "metadata": {
    "id": "JIUcqzZN_Zct",
    "scrolled": false
   },
   "outputs": [
    {
     "data": {
      "text/plain": [
       "array(['acid', 'acoustic', 'action', 'adult', 'africa', 'afrikaans',\n",
       "       'alternative', 'alternativepunk', 'ambient', 'americana',\n",
       "       'animated', 'anime', 'arabesk', 'arabic', 'arena',\n",
       "       'argentinetango', 'art', 'audiobook', 'author', 'avantgarde',\n",
       "       'axé', 'baile', 'balkan', 'beats', 'bigroom', 'black', 'bluegrass',\n",
       "       'blues', 'bollywood', 'bossa', 'brazilian', 'breakbeat', 'breaks',\n",
       "       'broadway', 'cantautori', 'cantopop', 'canzone', 'caribbean',\n",
       "       'caucasian', 'celtic', 'chamber', 'chanson', 'children', 'chill',\n",
       "       'chinese', 'choral', 'christian', 'christmas', 'classical',\n",
       "       'classicmetal', 'club', 'colombian', 'comedy', 'conjazz',\n",
       "       'contemporary', 'country', 'cuban', 'dance', 'dancehall',\n",
       "       'dancepop', 'dark', 'death', 'deep', 'deutschrock', 'deutschspr',\n",
       "       'dirty', 'disco', 'dnb', 'documentary', 'downbeat', 'downtempo',\n",
       "       'drum', 'dub', 'dubstep', 'eastern', 'easy', 'electronic',\n",
       "       'electropop', 'emo', 'entehno', 'epicmetal', 'estrada', 'ethnic',\n",
       "       'eurofolk', 'european', 'experimental', 'extrememetal', 'fado',\n",
       "       'fairytail', 'film', 'fitness', 'flamenco', 'folk', 'folklore',\n",
       "       'folkmetal', 'folkrock', 'folktronica', 'forró', 'frankreich',\n",
       "       'französisch', 'french', 'funk', 'future', 'gangsta', 'garage',\n",
       "       'german', 'ghazal', 'gitarre', 'glitch', 'gospel', 'gothic',\n",
       "       'grime', 'grunge', 'gypsy', 'handsup', \"hard'n'heavy\", 'hardcore',\n",
       "       'hardstyle', 'hardtechno', 'hip', 'hip-hop', 'hiphop',\n",
       "       'historisch', 'holiday', 'hop', 'horror', 'house', 'hymn', 'idm',\n",
       "       'independent', 'indian', 'indie', 'indipop', 'industrial',\n",
       "       'inspirational', 'instrumental', 'international', 'irish', 'jam',\n",
       "       'japanese', 'jazz', 'jewish', 'jpop', 'jungle', 'k-pop',\n",
       "       'karadeniz', 'karaoke', 'kayokyoku', 'korean', 'laiko', 'latin',\n",
       "       'latino', 'leftfield', 'local', 'lounge', 'loungeelectronic',\n",
       "       'lovers', 'malaysian', 'mandopop', 'marschmusik', 'meditative',\n",
       "       'mediterranean', 'melodic', 'metal', 'metalcore', 'mexican',\n",
       "       'middle', 'minimal', 'miscellaneous', 'modern', 'mood', 'mpb',\n",
       "       'muslim', 'native', 'neoklassik', 'neue', 'new', 'newage',\n",
       "       'newwave', 'nu', 'nujazz', 'numetal', 'oceania', 'old', 'opera',\n",
       "       'orchestral', 'other', 'piano', 'podcasts', 'pop', 'popdance',\n",
       "       'popelectronic', 'popeurodance', 'poprussian', 'post',\n",
       "       'posthardcore', 'postrock', 'power', 'progmetal', 'progressive',\n",
       "       'psychedelic', 'punjabi', 'punk', 'quebecois', 'ragga', 'ram',\n",
       "       'rancheras', 'rap', 'rave', 'reggae', 'reggaeton', 'regional',\n",
       "       'relax', 'religious', 'retro', 'rhythm', 'rnb', 'rnr', 'rock',\n",
       "       'rockabilly', 'rockalternative', 'rockindie', 'rockother',\n",
       "       'romance', 'roots', 'ruspop', 'rusrap', 'rusrock', 'russian',\n",
       "       'salsa', 'samba', 'scenic', 'schlager', 'self', 'sertanejo',\n",
       "       'shanson', 'shoegazing', 'showtunes', 'singer', 'ska', 'skarock',\n",
       "       'slow', 'smooth', 'soft', 'soul', 'soulful', 'sound', 'soundtrack',\n",
       "       'southern', 'specialty', 'speech', 'spiritual', 'sport',\n",
       "       'stonerrock', 'surf', 'swing', 'synthpop', 'synthrock',\n",
       "       'sängerportrait', 'tango', 'tanzorchester', 'taraftar', 'tatar',\n",
       "       'tech', 'techno', 'teen', 'thrash', 'top', 'traditional',\n",
       "       'tradjazz', 'trance', 'tribal', 'trip', 'triphop', 'tropical',\n",
       "       'türk', 'türkçe', 'ukrrock', 'unknown', 'urban', 'uzbek',\n",
       "       'variété', 'vi', 'videogame', 'vocal', 'western', 'world',\n",
       "       'worldbeat', 'ïîï', 'электроника'], dtype=object)"
      ]
     },
     "execution_count": 9,
     "metadata": {},
     "output_type": "execute_result"
    }
   ],
   "source": [
    "df['genre'].sort_values().unique()"
   ]
  },
  {
   "cell_type": "markdown",
   "metadata": {},
   "source": [
    "Я вижу три неявных дубликата:\n",
    "- hip;\n",
    "- hop;\n",
    "- hip-hop.\n",
    "\n",
    "Заменяю их на hiphop."
   ]
  },
  {
   "cell_type": "code",
   "execution_count": 10,
   "metadata": {},
   "outputs": [],
   "source": [
    "def replace_wrong_genres(wrong_genres, correct_genre):\n",
    "    for wrong_genre in wrong_genres:\n",
    "        df['genre'] = df['genre'].replace(wrong_genre, correct_genre)"
   ]
  },
  {
   "cell_type": "code",
   "execution_count": 11,
   "metadata": {},
   "outputs": [],
   "source": [
    "replace_wrong_genres(['hip', 'hop', 'hip-hop'], 'hiphop')"
   ]
  },
  {
   "cell_type": "markdown",
   "metadata": {},
   "source": [
    "### Удаляю явные дубликаты."
   ]
  },
  {
   "cell_type": "code",
   "execution_count": 12,
   "metadata": {
    "id": "exFHq6tt_Zct"
   },
   "outputs": [],
   "source": [
    "df = df.drop_duplicates().reset_index(drop = True)"
   ]
  },
  {
   "cell_type": "markdown",
   "metadata": {},
   "source": [
    "### Смотрю итоговый результат."
   ]
  },
  {
   "cell_type": "code",
   "execution_count": 13,
   "metadata": {},
   "outputs": [
    {
     "data": {
      "text/html": [
       "<div>\n",
       "<style scoped>\n",
       "    .dataframe tbody tr th:only-of-type {\n",
       "        vertical-align: middle;\n",
       "    }\n",
       "\n",
       "    .dataframe tbody tr th {\n",
       "        vertical-align: top;\n",
       "    }\n",
       "\n",
       "    .dataframe thead th {\n",
       "        text-align: right;\n",
       "    }\n",
       "</style>\n",
       "<table border=\"1\" class=\"dataframe\">\n",
       "  <thead>\n",
       "    <tr style=\"text-align: right;\">\n",
       "      <th></th>\n",
       "      <th>user_id</th>\n",
       "      <th>track</th>\n",
       "      <th>artist</th>\n",
       "      <th>genre</th>\n",
       "      <th>city</th>\n",
       "      <th>time</th>\n",
       "      <th>day</th>\n",
       "    </tr>\n",
       "  </thead>\n",
       "  <tbody>\n",
       "    <tr>\n",
       "      <th>0</th>\n",
       "      <td>ffb692ec</td>\n",
       "      <td>kamigata to boots</td>\n",
       "      <td>the mass missile</td>\n",
       "      <td>rock</td>\n",
       "      <td>saint-petersburg</td>\n",
       "      <td>20:28:33</td>\n",
       "      <td>wednesday</td>\n",
       "    </tr>\n",
       "    <tr>\n",
       "      <th>1</th>\n",
       "      <td>55204538</td>\n",
       "      <td>delayed because of accident</td>\n",
       "      <td>andreas rönnberg</td>\n",
       "      <td>rock</td>\n",
       "      <td>moscow</td>\n",
       "      <td>14:07:09</td>\n",
       "      <td>friday</td>\n",
       "    </tr>\n",
       "    <tr>\n",
       "      <th>2</th>\n",
       "      <td>20ec38</td>\n",
       "      <td>funiculì funiculà</td>\n",
       "      <td>mario lanza</td>\n",
       "      <td>pop</td>\n",
       "      <td>saint-petersburg</td>\n",
       "      <td>20:58:07</td>\n",
       "      <td>wednesday</td>\n",
       "    </tr>\n",
       "  </tbody>\n",
       "</table>\n",
       "</div>"
      ],
      "text/plain": [
       "    user_id                        track            artist genre  \\\n",
       "0  ffb692ec            kamigata to boots  the mass missile  rock   \n",
       "1  55204538  delayed because of accident  andreas rönnberg  rock   \n",
       "2    20ec38            funiculì funiculà       mario lanza   pop   \n",
       "\n",
       "               city      time        day  \n",
       "0  saint-petersburg  20:28:33  wednesday  \n",
       "1            moscow  14:07:09     friday  \n",
       "2  saint-petersburg  20:58:07  wednesday  "
      ]
     },
     "metadata": {},
     "output_type": "display_data"
    },
    {
     "name": "stdout",
     "output_type": "stream",
     "text": [
      "--------------------------------------------------\n",
      "<class 'pandas.core.frame.DataFrame'>\n",
      "RangeIndex: 61253 entries, 0 to 61252\n",
      "Data columns (total 7 columns):\n",
      " #   Column   Non-Null Count  Dtype \n",
      "---  ------   --------------  ----- \n",
      " 0   user_id  61253 non-null  object\n",
      " 1   track    61253 non-null  object\n",
      " 2   artist   61253 non-null  object\n",
      " 3   genre    61253 non-null  object\n",
      " 4   city     61253 non-null  object\n",
      " 5   time     61253 non-null  object\n",
      " 6   day      61253 non-null  object\n",
      "dtypes: object(7)\n",
      "memory usage: 3.3+ MB\n",
      "--------------------------------------------------\n"
     ]
    },
    {
     "data": {
      "text/html": [
       "<div>\n",
       "<style scoped>\n",
       "    .dataframe tbody tr th:only-of-type {\n",
       "        vertical-align: middle;\n",
       "    }\n",
       "\n",
       "    .dataframe tbody tr th {\n",
       "        vertical-align: top;\n",
       "    }\n",
       "\n",
       "    .dataframe thead th {\n",
       "        text-align: right;\n",
       "    }\n",
       "</style>\n",
       "<table border=\"1\" class=\"dataframe\">\n",
       "  <thead>\n",
       "    <tr style=\"text-align: right;\">\n",
       "      <th></th>\n",
       "      <th>user_id</th>\n",
       "      <th>track</th>\n",
       "      <th>artist</th>\n",
       "      <th>genre</th>\n",
       "      <th>city</th>\n",
       "      <th>time</th>\n",
       "      <th>day</th>\n",
       "    </tr>\n",
       "  </thead>\n",
       "  <tbody>\n",
       "    <tr>\n",
       "      <th>count</th>\n",
       "      <td>61253</td>\n",
       "      <td>61253</td>\n",
       "      <td>61253</td>\n",
       "      <td>61253</td>\n",
       "      <td>61253</td>\n",
       "      <td>61253</td>\n",
       "      <td>61253</td>\n",
       "    </tr>\n",
       "    <tr>\n",
       "      <th>unique</th>\n",
       "      <td>41748</td>\n",
       "      <td>46647</td>\n",
       "      <td>43567</td>\n",
       "      <td>287</td>\n",
       "      <td>2</td>\n",
       "      <td>20392</td>\n",
       "      <td>3</td>\n",
       "    </tr>\n",
       "    <tr>\n",
       "      <th>top</th>\n",
       "      <td>a8ae9169</td>\n",
       "      <td>unknown</td>\n",
       "      <td>unknown</td>\n",
       "      <td>pop</td>\n",
       "      <td>moscow</td>\n",
       "      <td>08:14:07</td>\n",
       "      <td>friday</td>\n",
       "    </tr>\n",
       "    <tr>\n",
       "      <th>freq</th>\n",
       "      <td>71</td>\n",
       "      <td>1159</td>\n",
       "      <td>6772</td>\n",
       "      <td>8323</td>\n",
       "      <td>42741</td>\n",
       "      <td>13</td>\n",
       "      <td>21840</td>\n",
       "    </tr>\n",
       "  </tbody>\n",
       "</table>\n",
       "</div>"
      ],
      "text/plain": [
       "         user_id    track   artist  genre    city      time     day\n",
       "count      61253    61253    61253  61253   61253     61253   61253\n",
       "unique     41748    46647    43567    287       2     20392       3\n",
       "top     a8ae9169  unknown  unknown    pop  moscow  08:14:07  friday\n",
       "freq          71     1159     6772   8323   42741        13   21840"
      ]
     },
     "metadata": {},
     "output_type": "display_data"
    },
    {
     "name": "stdout",
     "output_type": "stream",
     "text": [
      "--------------------------------------------------\n",
      "Количество явных дубликатов: 0\n"
     ]
    }
   ],
   "source": [
    "df_info(df)"
   ]
  },
  {
   "cell_type": "markdown",
   "metadata": {},
   "source": [
    "### Вывод:\n",
    "Я исправил стиль в заголовках столбцов. Привел все столбцы со строками к нижнему регистру, чтобы снизить вероятность неявных дубликатов. Заменил пропущенные значения в столбцах **`track`**, **`artist`** и **`genre`** на **unknown**. Избавился от неявных дубликатов в столбце **`genre`**. Удалил явные дубликаты.\n",
    "***\n",
    "Уникальных пользователей - **41748**. Самый активный пользователь - **A8AE9169**, за изучаемый период он прослушал **71** трек. Из **61253** треков, **46647** треков с уникальными названиями. Уникальных исполнителей - **43567**. Представлено **287** уникальных жанров, самый превалирующий жанр - **pop**, **8323** треков из **61253**. Сейчас самый плодотворный исполнитель **unknown**😀, а до предобработки это был - **Sasha**, представленный **6** треками. В датасете пользователи только из Москвы и Санкт-Петербурга, **70%** - **42741** пользователей из Москвы. Самое популярное время для начала прослушивания музыки - **08:14:07**, а самый популярный день недели из представленных трех - **Пятница**."
   ]
  },
  {
   "cell_type": "markdown",
   "metadata": {
    "id": "WttZHXH0SqKk"
   },
   "source": [
    "## Шаг 3. Проверка гипотез.\n",
    "### Проверяю гипотезу о том, что активность пользователей зависит от дня недели, и это по-разному проявляется в Москве и Санкт-Петербурге.\n",
    "Для этого просто собираю все данные в одну таблицу."
   ]
  },
  {
   "cell_type": "code",
   "execution_count": 14,
   "metadata": {
    "id": "Nz3GdQB1_Zcu"
   },
   "outputs": [],
   "source": [
    "def cnt_tracks(day, city):\n",
    "    cnt = df.query('day == @day & city == @city')['user_id'].count()\n",
    "    return cnt"
   ]
  },
  {
   "cell_type": "code",
   "execution_count": 15,
   "metadata": {},
   "outputs": [
    {
     "data": {
      "text/html": [
       "<div>\n",
       "<style scoped>\n",
       "    .dataframe tbody tr th:only-of-type {\n",
       "        vertical-align: middle;\n",
       "    }\n",
       "\n",
       "    .dataframe tbody tr th {\n",
       "        vertical-align: top;\n",
       "    }\n",
       "\n",
       "    .dataframe thead th {\n",
       "        text-align: right;\n",
       "    }\n",
       "</style>\n",
       "<table border=\"1\" class=\"dataframe\">\n",
       "  <thead>\n",
       "    <tr style=\"text-align: right;\">\n",
       "      <th></th>\n",
       "      <th>город</th>\n",
       "      <th>понедельник</th>\n",
       "      <th>среда</th>\n",
       "      <th>пятница</th>\n",
       "      <th>всего</th>\n",
       "    </tr>\n",
       "  </thead>\n",
       "  <tbody>\n",
       "    <tr>\n",
       "      <th>0</th>\n",
       "      <td>Москва</td>\n",
       "      <td>15740</td>\n",
       "      <td>11056</td>\n",
       "      <td>15945</td>\n",
       "      <td>42741</td>\n",
       "    </tr>\n",
       "    <tr>\n",
       "      <th>1</th>\n",
       "      <td>Санкт-Петербург</td>\n",
       "      <td>5614</td>\n",
       "      <td>7003</td>\n",
       "      <td>5895</td>\n",
       "      <td>18512</td>\n",
       "    </tr>\n",
       "    <tr>\n",
       "      <th>2</th>\n",
       "      <td>Оба города</td>\n",
       "      <td>21354</td>\n",
       "      <td>18059</td>\n",
       "      <td>21840</td>\n",
       "      <td>61253</td>\n",
       "    </tr>\n",
       "  </tbody>\n",
       "</table>\n",
       "</div>"
      ],
      "text/plain": [
       "             город  понедельник  среда  пятница  всего\n",
       "0           Москва        15740  11056    15945  42741\n",
       "1  Санкт-Петербург         5614   7003     5895  18512\n",
       "2       Оба города        21354  18059    21840  61253"
      ]
     },
     "execution_count": 15,
     "metadata": {},
     "output_type": "execute_result"
    }
   ],
   "source": [
    "pd.DataFrame(data=[[\n",
    "    'Москва', \n",
    "    cnt_tracks('monday', 'moscow'), \n",
    "    cnt_tracks('wednesday', 'moscow'), \n",
    "    cnt_tracks('friday', 'moscow'),\n",
    "    df.query('city == \"moscow\"')['genre'].count()\n",
    "], [\n",
    "    'Санкт-Петербург', \n",
    "    cnt_tracks('monday', 'saint-petersburg'), \n",
    "    cnt_tracks('wednesday', 'saint-petersburg'), \n",
    "    cnt_tracks('friday', 'saint-petersburg'),\n",
    "    df.query('city == \"saint-petersburg\"')['genre'].count()\n",
    "], [\n",
    "    'Оба города',\n",
    "    df.query('day == \"monday\"')['genre'].count(),\n",
    "    df.query('day == \"wednesday\"')['genre'].count(),\n",
    "    df.query('day == \"friday\"')['genre'].count(),\n",
    "    df['genre'].count()\n",
    "]], columns=['город', 'понедельник', 'среда', 'пятница', 'всего'])"
   ]
  },
  {
   "cell_type": "markdown",
   "metadata": {
    "id": "-EgPIHYu_Zcu"
   },
   "source": [
    "Разумеется в Москве и прослушиваний и пользователей больше, чем в Санкт-Петербурге. Тем не менее, данные показывают разницу в поведении пользователей:\n",
    "\n",
    "- В Москве пик прослушиваний приходится на понедельник и пятницу, а в среду заметен спад.\n",
    "- В Санкт-Петербурге, наоборот, больше слушают музыку по средам. Активность в понедельник и пятницу здесь почти в равной мере уступает среде.\n",
    "\n",
    "**Гипотеза подтвердилась.**"
   ]
  },
  {
   "cell_type": "markdown",
   "metadata": {
    "id": "atZAxtq4_Zcu"
   },
   "source": [
    "### Проверяю гипотезу о том, что в понедельник утром в Москве преобладают одни жанры, а в Санкт-Петербурге - другие. Так же и вечером пятницы преобладают разные жанры, в зависимости от города.\n",
    "Смотрю топ-10 жанров по городам, в понедельник утром (с 7:00 до 11:00) и в пятницу вечером (с 17:00 до 23:00)."
   ]
  },
  {
   "cell_type": "code",
   "execution_count": 16,
   "metadata": {
    "id": "qeaFfM_P_Zcu"
   },
   "outputs": [],
   "source": [
    "moscow_general = df.query('city == \"moscow\"')\n",
    "spb_general = df.query('city == \"saint-petersburg\"')"
   ]
  },
  {
   "cell_type": "code",
   "execution_count": 17,
   "metadata": {
    "id": "laJT9BYl_Zcu"
   },
   "outputs": [],
   "source": [
    "def genre_weekday(table, day, time1, time2):\n",
    "    cnt_genre = (table.query('day == @day & @time1 < time < @time2')\n",
    "                      .groupby('genre')['genre']\n",
    "                      .count()\n",
    "                      .sort_values(ascending = False))\n",
    "    return cnt_genre.head(10)"
   ]
  },
  {
   "cell_type": "code",
   "execution_count": 18,
   "metadata": {
    "id": "yz7itPUQ_Zcu"
   },
   "outputs": [
    {
     "data": {
      "text/plain": [
       "genre\n",
       "pop            781\n",
       "dance          549\n",
       "electronic     480\n",
       "rock           474\n",
       "hiphop         286\n",
       "ruspop         186\n",
       "world          181\n",
       "rusrap         175\n",
       "alternative    164\n",
       "unknown        161\n",
       "Name: genre, dtype: int64"
      ]
     },
     "execution_count": 18,
     "metadata": {},
     "output_type": "execute_result"
    }
   ],
   "source": [
    "genre_weekday(moscow_general, 'monday', '07:00', '11:00')"
   ]
  },
  {
   "cell_type": "code",
   "execution_count": 19,
   "metadata": {
    "id": "kwUcHPdy_Zcu"
   },
   "outputs": [
    {
     "data": {
      "text/plain": [
       "genre\n",
       "pop            218\n",
       "dance          182\n",
       "rock           162\n",
       "electronic     147\n",
       "hiphop          80\n",
       "ruspop          64\n",
       "alternative     58\n",
       "rusrap          55\n",
       "jazz            44\n",
       "classical       40\n",
       "Name: genre, dtype: int64"
      ]
     },
     "execution_count": 19,
     "metadata": {},
     "output_type": "execute_result"
    }
   ],
   "source": [
    "genre_weekday(spb_general, 'monday', '07:00', '11:00')"
   ]
  },
  {
   "cell_type": "code",
   "execution_count": 20,
   "metadata": {
    "id": "EzXVRE1o_Zcu"
   },
   "outputs": [
    {
     "data": {
      "text/plain": [
       "genre\n",
       "pop            713\n",
       "rock           517\n",
       "dance          495\n",
       "electronic     482\n",
       "hiphop         273\n",
       "world          208\n",
       "ruspop         170\n",
       "alternative    163\n",
       "classical      163\n",
       "rusrap         142\n",
       "Name: genre, dtype: int64"
      ]
     },
     "execution_count": 20,
     "metadata": {},
     "output_type": "execute_result"
    }
   ],
   "source": [
    "genre_weekday(moscow_general, 'friday', '17:00', '23:00')"
   ]
  },
  {
   "cell_type": "code",
   "execution_count": 21,
   "metadata": {
    "id": "JZaEKu5v_Zcu"
   },
   "outputs": [
    {
     "data": {
      "text/plain": [
       "genre\n",
       "pop            256\n",
       "electronic     216\n",
       "rock           216\n",
       "dance          210\n",
       "hiphop          97\n",
       "alternative     63\n",
       "jazz            61\n",
       "classical       60\n",
       "rusrap          59\n",
       "world           54\n",
       "Name: genre, dtype: int64"
      ]
     },
     "execution_count": 21,
     "metadata": {},
     "output_type": "execute_result"
    }
   ],
   "source": [
    "genre_weekday(spb_general, 'friday', '17:00', '23:00')"
   ]
  },
  {
   "cell_type": "markdown",
   "metadata": {
    "id": "wrCe4MNX_Zcu"
   },
   "source": [
    "**В понедельник, утром**:\n",
    "- В Москве и Санкт-Петербурге слушают похожую музыку. Единственное отличие - в Московский топ вошёл жанр `'world'`, а в Санкт-Петербургский - `'jazz'` и `'classical'`.\n",
    "- В Москве пропущенных значений оказалось так много, что значение `'unknown'` заняло десятое место среди самых популярных жанров. Значит, пропущенные значения занимают существенную долю в данных и угрожают достоверности исследования.\n",
    "\n",
    "**В пятницу, вечером**:\n",
    "- Картина не сильно изменилась. Некоторые жанры поднимаются немного выше, другие спускаются, но в целом топ-10 остаётся тем же самым.\n",
    "\n",
    "**Гипотеза подтвердилась лишь частично.**"
   ]
  },
  {
   "cell_type": "markdown",
   "metadata": {
    "id": "JolODAqr_Zcu"
   },
   "source": [
    "### Проверяю гипотезу о том, что Москва и Санкт-Петербург предпочитают разные жанры музыки. В Москве чаще слушают поп-музыку, в Санкт-Петербурге - русский рэп."
   ]
  },
  {
   "cell_type": "code",
   "execution_count": 22,
   "metadata": {},
   "outputs": [],
   "source": [
    "def genres(table):\n",
    "    genres = table.groupby('genre')['genre'].count()\n",
    "    genres = genres.sort_values(ascending = False)\n",
    "    return genres.head(10)"
   ]
  },
  {
   "cell_type": "code",
   "execution_count": 23,
   "metadata": {
    "id": "WhCSooF8_Zcv",
    "scrolled": true
   },
   "outputs": [
    {
     "data": {
      "text/plain": [
       "genre\n",
       "pop            5892\n",
       "dance          4435\n",
       "rock           3965\n",
       "electronic     3786\n",
       "hiphop         2096\n",
       "classical      1616\n",
       "world          1432\n",
       "alternative    1379\n",
       "ruspop         1372\n",
       "rusrap         1161\n",
       "Name: genre, dtype: int64"
      ]
     },
     "execution_count": 23,
     "metadata": {},
     "output_type": "execute_result"
    }
   ],
   "source": [
    "genres(moscow_general)"
   ]
  },
  {
   "cell_type": "code",
   "execution_count": 24,
   "metadata": {},
   "outputs": [
    {
     "data": {
      "text/plain": [
       "genre\n",
       "pop            2431\n",
       "dance          1932\n",
       "rock           1879\n",
       "electronic     1736\n",
       "hiphop          960\n",
       "alternative     649\n",
       "classical       646\n",
       "rusrap          564\n",
       "ruspop          538\n",
       "world           515\n",
       "Name: genre, dtype: int64"
      ]
     },
     "execution_count": 24,
     "metadata": {},
     "output_type": "execute_result"
    }
   ],
   "source": [
    "genres(spb_general)"
   ]
  },
  {
   "cell_type": "markdown",
   "metadata": {
    "id": "nVhnJEm__Zcv"
   },
   "source": [
    "- Топ-6 жанров идентичен в обоих городах. Остальные жанры также совпадают, но слегка в разной последовательности.\n",
    "- Поп-музыка - самый популярный жанр в Москве, как и предполагала гипотеза. Более того, в топ-10 жанров встречается близкий жанр - русская популярная музыка.\n",
    "- Вопреки ожиданиям, рэп одинаково популярен в Москве и Петербурге. \n",
    "\n",
    "**Гипотеза подтвердилась лишь частично.**"
   ]
  },
  {
   "cell_type": "markdown",
   "metadata": {},
   "source": [
    "### Общий вывод:\n",
    "Гипотеза о том, что активность пользователей зависит от дня недели. Причём в Москве и Санкт-Петербурге это проявляется по-разному, **подтвердилась**. Разумеется в Москве и прослушиваний и пользователей больше, чем в Санкт-Петербурге. Тем не менее, данные показывают разницу в поведении пользователей:\n",
    "- В Москве пик прослушиваний приходится на понедельник и пятницу, а в среду заметен спад.\n",
    "- В Санкт-Петербурге, наоборот, больше слушают музыку по средам. Активность в понедельник и пятницу здесь почти в равной мере уступает среде.\n",
    "***\n",
    "Гипотеза о том, что в понедельник утром в Москве преобладают одни жанры, а в Санкт-Петербурге - другие. Так же и вечером пятницы преобладают разные жанры, в зависимости от города, **подтвердилась лишь частично**.\n",
    "- В понедельник, утром:\n",
    "    - В Москве и Санкт-Петербурге слушают похожую музыку. Единственное отличие - в Московский топ вошёл жанр 'world', а в Санкт-Петербургский - 'jazz' и 'classical'.\n",
    "    - В Москве пропущенных значений оказалось так много, что значение 'unknown' заняло десятое место среди самых популярных жанров. Значит, пропущенные значения занимают существенную долю в данных и угрожают достоверности исследования.\n",
    "- В пятницу, вечером:\n",
    "    - Картина не сильно изменилась. Некоторые жанры поднимаются немного выше, другие спускаются, но в целом топ-10 остаётся тем же самым.\n",
    "***\n",
    "Гипотеза о том, что Москва и Санкт-Петербург предпочитают разные жанры музыки. В Москве чаще слушают поп-музыку, в Санкт-Петербурге - русский рэп, **подтвердилась лишь частично**.\n",
    "- Топ-6 жанров идентичен в обоих городах. Остальные жанры также совпадают, но слегка в разной последовательности.\n",
    "- Поп-музыка - самый популярный жанр в Москве, как и предполагала гипотеза. Более того, в топ-10 жанров встречается близкий жанр - русская популярная музыка.\n",
    "- Вопреки ожиданиям, рэп одинаково популярен в Москве и Петербурге."
   ]
  }
 ],
 "metadata": {
  "ExecuteTimeLog": [
   {
    "duration": 59,
    "start_time": "2022-03-28T10:29:59.932Z"
   },
   {
    "duration": 6,
    "start_time": "2022-03-28T10:31:02.034Z"
   },
   {
    "duration": 5,
    "start_time": "2022-03-28T10:31:23.643Z"
   },
   {
    "duration": 6,
    "start_time": "2022-03-28T10:32:57.377Z"
   },
   {
    "duration": 6,
    "start_time": "2022-03-28T10:33:16.174Z"
   },
   {
    "duration": 6,
    "start_time": "2022-03-28T10:34:55.898Z"
   },
   {
    "duration": 6,
    "start_time": "2022-03-28T10:35:05.222Z"
   },
   {
    "duration": 5,
    "start_time": "2022-03-28T10:35:20.458Z"
   },
   {
    "duration": 6,
    "start_time": "2022-03-28T10:37:22.991Z"
   },
   {
    "duration": 6,
    "start_time": "2022-03-28T10:37:27.569Z"
   },
   {
    "duration": 5,
    "start_time": "2022-03-28T10:37:58.717Z"
   },
   {
    "duration": 6,
    "start_time": "2022-03-28T10:38:35.180Z"
   },
   {
    "duration": 7,
    "start_time": "2022-03-28T10:42:11.496Z"
   },
   {
    "duration": 5,
    "start_time": "2022-03-28T10:44:31.440Z"
   },
   {
    "duration": 115,
    "start_time": "2022-03-28T10:45:03.281Z"
   },
   {
    "duration": 7,
    "start_time": "2022-03-28T10:45:08.843Z"
   },
   {
    "duration": 6,
    "start_time": "2022-03-28T10:53:18.120Z"
   },
   {
    "duration": 430,
    "start_time": "2022-03-28T11:54:52.559Z"
   },
   {
    "duration": 224,
    "start_time": "2022-03-28T11:54:57.231Z"
   },
   {
    "duration": 25,
    "start_time": "2022-03-28T11:55:01.232Z"
   },
   {
    "duration": 4,
    "start_time": "2022-03-28T12:01:18.191Z"
   },
   {
    "duration": 84,
    "start_time": "2022-03-28T12:01:47.426Z"
   },
   {
    "duration": 4,
    "start_time": "2022-03-28T12:01:59.364Z"
   },
   {
    "duration": 99,
    "start_time": "2022-03-28T12:02:03.928Z"
   },
   {
    "duration": 82,
    "start_time": "2022-03-28T12:20:56.272Z"
   },
   {
    "duration": 8,
    "start_time": "2022-03-28T12:20:59.959Z"
   },
   {
    "duration": 459,
    "start_time": "2022-03-28T12:21:06.771Z"
   },
   {
    "duration": 170,
    "start_time": "2022-03-28T12:21:08.787Z"
   },
   {
    "duration": 21,
    "start_time": "2022-03-28T12:21:09.896Z"
   },
   {
    "duration": 2,
    "start_time": "2022-03-28T12:21:12.428Z"
   },
   {
    "duration": 32,
    "start_time": "2022-03-28T12:22:07.244Z"
   },
   {
    "duration": 4,
    "start_time": "2022-03-28T12:22:30.538Z"
   },
   {
    "duration": 14,
    "start_time": "2022-03-28T12:22:34.163Z"
   },
   {
    "duration": 3,
    "start_time": "2022-03-28T12:22:45.820Z"
   },
   {
    "duration": 26,
    "start_time": "2022-03-28T12:23:43.477Z"
   },
   {
    "duration": 26,
    "start_time": "2022-03-28T12:23:50.743Z"
   },
   {
    "duration": 108,
    "start_time": "2022-03-28T12:23:57.493Z"
   },
   {
    "duration": 19,
    "start_time": "2022-03-28T12:24:07.009Z"
   },
   {
    "duration": 26,
    "start_time": "2022-03-28T12:24:16.978Z"
   },
   {
    "duration": 32,
    "start_time": "2022-03-28T12:26:00.089Z"
   },
   {
    "duration": 9,
    "start_time": "2022-03-28T12:27:56.434Z"
   },
   {
    "duration": 19,
    "start_time": "2022-03-28T12:28:03.997Z"
   },
   {
    "duration": 25,
    "start_time": "2022-03-28T12:28:07.059Z"
   },
   {
    "duration": 26,
    "start_time": "2022-03-28T12:28:11.091Z"
   },
   {
    "duration": 113,
    "start_time": "2022-03-28T12:29:00.560Z"
   },
   {
    "duration": 18,
    "start_time": "2022-03-28T12:29:12.889Z"
   },
   {
    "duration": 33,
    "start_time": "2022-03-28T12:29:15.451Z"
   },
   {
    "duration": 18,
    "start_time": "2022-03-28T12:29:41.811Z"
   },
   {
    "duration": 26,
    "start_time": "2022-03-28T12:29:47.655Z"
   },
   {
    "duration": 33,
    "start_time": "2022-03-28T12:31:12.594Z"
   },
   {
    "duration": 28,
    "start_time": "2022-03-28T12:31:15.984Z"
   },
   {
    "duration": 109,
    "start_time": "2022-03-28T12:31:51.235Z"
   },
   {
    "duration": 28,
    "start_time": "2022-03-28T12:33:33.957Z"
   },
   {
    "duration": 43,
    "start_time": "2022-03-28T12:33:37.112Z"
   },
   {
    "duration": 73,
    "start_time": "2022-03-28T12:35:00.113Z"
   },
   {
    "duration": 89,
    "start_time": "2022-03-28T12:37:03.210Z"
   },
   {
    "duration": 65,
    "start_time": "2022-03-28T12:37:13.006Z"
   },
   {
    "duration": 8,
    "start_time": "2022-03-28T12:40:49.668Z"
   },
   {
    "duration": 4,
    "start_time": "2022-03-28T12:52:55.399Z"
   },
   {
    "duration": 13,
    "start_time": "2022-03-28T12:54:10.307Z"
   },
   {
    "duration": 8,
    "start_time": "2022-03-28T12:54:36.026Z"
   },
   {
    "duration": 47,
    "start_time": "2022-03-28T13:14:42.486Z"
   },
   {
    "duration": 27,
    "start_time": "2022-03-28T13:19:48.490Z"
   },
   {
    "duration": 32,
    "start_time": "2022-03-28T13:24:42.559Z"
   },
   {
    "duration": 8,
    "start_time": "2022-03-28T13:42:10.885Z"
   },
   {
    "duration": 9,
    "start_time": "2022-03-28T13:43:02.954Z"
   },
   {
    "duration": 186,
    "start_time": "2022-03-28T16:05:11.838Z"
   },
   {
    "duration": 63,
    "start_time": "2022-03-28T16:05:36.808Z"
   },
   {
    "duration": 519,
    "start_time": "2022-03-28T16:05:54.304Z"
   },
   {
    "duration": 207,
    "start_time": "2022-03-28T16:05:55.760Z"
   },
   {
    "duration": 26,
    "start_time": "2022-03-28T16:05:57.016Z"
   },
   {
    "duration": 44,
    "start_time": "2022-03-28T16:05:58.264Z"
   },
   {
    "duration": 4,
    "start_time": "2022-03-28T16:06:01.032Z"
   },
   {
    "duration": 18,
    "start_time": "2022-03-28T16:06:02.777Z"
   },
   {
    "duration": 5,
    "start_time": "2022-03-28T16:06:03.936Z"
   },
   {
    "duration": 41,
    "start_time": "2022-03-28T16:06:05.287Z"
   },
   {
    "duration": 23,
    "start_time": "2022-03-28T16:06:07.041Z"
   },
   {
    "duration": 57,
    "start_time": "2022-03-28T16:06:08.192Z"
   },
   {
    "duration": 97,
    "start_time": "2022-03-28T16:06:10.232Z"
   },
   {
    "duration": 112,
    "start_time": "2022-03-28T16:06:11.927Z"
   },
   {
    "duration": 90,
    "start_time": "2022-03-28T16:06:13.279Z"
   },
   {
    "duration": 10,
    "start_time": "2022-03-28T16:06:15.321Z"
   },
   {
    "duration": 4,
    "start_time": "2022-03-28T16:06:16.640Z"
   },
   {
    "duration": 19,
    "start_time": "2022-03-28T16:06:17.783Z"
   },
   {
    "duration": 11,
    "start_time": "2022-03-28T16:06:18.992Z"
   },
   {
    "duration": 33,
    "start_time": "2022-03-28T16:06:23.023Z"
   },
   {
    "duration": 42,
    "start_time": "2022-03-28T16:06:24.917Z"
   },
   {
    "duration": 192,
    "start_time": "2022-03-28T16:06:28.552Z"
   },
   {
    "duration": 188,
    "start_time": "2022-03-28T16:08:30.440Z"
   },
   {
    "duration": 173,
    "start_time": "2022-03-28T16:09:00.127Z"
   },
   {
    "duration": 184,
    "start_time": "2022-03-28T16:09:19.528Z"
   },
   {
    "duration": 65,
    "start_time": "2022-03-28T16:09:43.335Z"
   },
   {
    "duration": 204,
    "start_time": "2022-03-28T16:11:30.119Z"
   },
   {
    "duration": 37,
    "start_time": "2022-03-28T16:12:18.605Z"
   },
   {
    "duration": 31,
    "start_time": "2022-03-28T16:12:53.039Z"
   },
   {
    "duration": 35,
    "start_time": "2022-03-28T16:13:19.510Z"
   },
   {
    "duration": 30,
    "start_time": "2022-03-28T16:14:07.614Z"
   },
   {
    "duration": 35,
    "start_time": "2022-03-28T16:14:25.653Z"
   },
   {
    "duration": 210,
    "start_time": "2022-03-28T16:15:53.149Z"
   },
   {
    "duration": 1165,
    "start_time": "2022-03-28T16:20:07.275Z"
   },
   {
    "duration": 372,
    "start_time": "2022-03-28T16:21:33.066Z"
   },
   {
    "duration": 18,
    "start_time": "2022-03-28T16:33:17.633Z"
   },
   {
    "duration": 4,
    "start_time": "2022-03-28T16:35:25.355Z"
   },
   {
    "duration": 15,
    "start_time": "2022-03-28T16:35:34.282Z"
   },
   {
    "duration": 5,
    "start_time": "2022-03-28T16:38:21.921Z"
   },
   {
    "duration": 21,
    "start_time": "2022-03-28T16:38:25.032Z"
   },
   {
    "duration": 18,
    "start_time": "2022-03-28T16:38:28.472Z"
   },
   {
    "duration": 4,
    "start_time": "2022-03-28T16:39:36.688Z"
   },
   {
    "duration": 13,
    "start_time": "2022-03-28T16:39:38.431Z"
   },
   {
    "duration": 5,
    "start_time": "2022-03-28T16:40:11.224Z"
   },
   {
    "duration": 13,
    "start_time": "2022-03-28T16:40:12.648Z"
   },
   {
    "duration": 5,
    "start_time": "2022-03-28T16:42:58.823Z"
   },
   {
    "duration": 22,
    "start_time": "2022-03-28T16:43:01.055Z"
   },
   {
    "duration": 3,
    "start_time": "2022-03-28T16:44:29.176Z"
   },
   {
    "duration": 21,
    "start_time": "2022-03-28T16:44:34.766Z"
   },
   {
    "duration": 17,
    "start_time": "2022-03-28T16:45:12.750Z"
   },
   {
    "duration": 5,
    "start_time": "2022-03-28T16:48:03.805Z"
   },
   {
    "duration": 17,
    "start_time": "2022-03-28T16:48:05.124Z"
   },
   {
    "duration": 36,
    "start_time": "2022-03-28T16:50:12.564Z"
   },
   {
    "duration": 5,
    "start_time": "2022-03-28T16:50:14.346Z"
   },
   {
    "duration": 16,
    "start_time": "2022-03-28T16:50:15.331Z"
   },
   {
    "duration": 466,
    "start_time": "2022-03-28T16:54:36.161Z"
   },
   {
    "duration": 190,
    "start_time": "2022-03-28T16:54:37.001Z"
   },
   {
    "duration": 18,
    "start_time": "2022-03-28T16:54:38.297Z"
   },
   {
    "duration": 31,
    "start_time": "2022-03-28T16:54:39.361Z"
   },
   {
    "duration": 4,
    "start_time": "2022-03-28T16:54:41.385Z"
   },
   {
    "duration": 14,
    "start_time": "2022-03-28T16:54:43.000Z"
   },
   {
    "duration": 4,
    "start_time": "2022-03-28T16:54:44.343Z"
   },
   {
    "duration": 25,
    "start_time": "2022-03-28T16:54:45.432Z"
   },
   {
    "duration": 23,
    "start_time": "2022-03-28T16:54:47.295Z"
   },
   {
    "duration": 26,
    "start_time": "2022-03-28T16:54:48.255Z"
   },
   {
    "duration": 71,
    "start_time": "2022-03-28T16:54:49.392Z"
   },
   {
    "duration": 96,
    "start_time": "2022-03-28T16:54:50.327Z"
   },
   {
    "duration": 64,
    "start_time": "2022-03-28T16:54:51.335Z"
   },
   {
    "duration": 8,
    "start_time": "2022-03-28T16:54:53.487Z"
   },
   {
    "duration": 3,
    "start_time": "2022-03-28T16:54:54.528Z"
   },
   {
    "duration": 10,
    "start_time": "2022-03-28T16:54:55.295Z"
   },
   {
    "duration": 7,
    "start_time": "2022-03-28T16:54:56.039Z"
   },
   {
    "duration": 25,
    "start_time": "2022-03-28T16:54:58.807Z"
   },
   {
    "duration": 34,
    "start_time": "2022-03-28T16:54:59.895Z"
   },
   {
    "duration": 4,
    "start_time": "2022-03-28T16:55:12.184Z"
   },
   {
    "duration": 117,
    "start_time": "2022-03-28T16:55:13.496Z"
   },
   {
    "duration": 4,
    "start_time": "2022-03-28T16:56:06.360Z"
   },
   {
    "duration": 14,
    "start_time": "2022-03-28T16:56:08.240Z"
   },
   {
    "duration": 4,
    "start_time": "2022-03-28T16:56:23.271Z"
   },
   {
    "duration": 14,
    "start_time": "2022-03-28T16:56:24.319Z"
   },
   {
    "duration": 3,
    "start_time": "2022-03-28T16:57:21.631Z"
   },
   {
    "duration": 12,
    "start_time": "2022-03-28T16:57:22.630Z"
   },
   {
    "duration": 3,
    "start_time": "2022-03-28T16:57:45.615Z"
   },
   {
    "duration": 11,
    "start_time": "2022-03-28T16:57:46.671Z"
   },
   {
    "duration": 3,
    "start_time": "2022-03-28T16:58:43.519Z"
   },
   {
    "duration": 15,
    "start_time": "2022-03-28T16:58:44.061Z"
   },
   {
    "duration": 15,
    "start_time": "2022-03-28T17:08:56.322Z"
   },
   {
    "duration": 9,
    "start_time": "2022-03-28T17:09:11.242Z"
   },
   {
    "duration": 14,
    "start_time": "2022-03-28T17:09:24.522Z"
   },
   {
    "duration": 14,
    "start_time": "2022-03-28T17:09:30.626Z"
   },
   {
    "duration": 12,
    "start_time": "2022-03-28T17:09:49.033Z"
   },
   {
    "duration": 10,
    "start_time": "2022-03-28T17:10:08.962Z"
   },
   {
    "duration": 3,
    "start_time": "2022-03-28T17:10:17.706Z"
   },
   {
    "duration": 9,
    "start_time": "2022-03-28T17:10:20.409Z"
   },
   {
    "duration": 9,
    "start_time": "2022-03-28T17:10:21.281Z"
   },
   {
    "duration": 4,
    "start_time": "2022-03-28T17:14:59.480Z"
   },
   {
    "duration": 9,
    "start_time": "2022-03-28T17:15:00.415Z"
   },
   {
    "duration": 11,
    "start_time": "2022-03-28T17:15:00.935Z"
   },
   {
    "duration": 20,
    "start_time": "2022-03-28T17:17:18.343Z"
   },
   {
    "duration": 20,
    "start_time": "2022-03-28T17:22:11.301Z"
   },
   {
    "duration": 17,
    "start_time": "2022-03-28T17:22:11.884Z"
   },
   {
    "duration": 18,
    "start_time": "2022-03-28T17:22:12.444Z"
   },
   {
    "duration": 17,
    "start_time": "2022-03-28T17:22:12.955Z"
   },
   {
    "duration": 19,
    "start_time": "2022-03-28T17:22:13.508Z"
   },
   {
    "duration": 20,
    "start_time": "2022-03-28T17:22:14.099Z"
   },
   {
    "duration": 10,
    "start_time": "2022-03-28T17:27:17.730Z"
   },
   {
    "duration": 9,
    "start_time": "2022-03-28T17:28:28.282Z"
   },
   {
    "duration": 24,
    "start_time": "2022-03-28T17:38:09.166Z"
   },
   {
    "duration": 15,
    "start_time": "2022-03-28T17:41:19.581Z"
   },
   {
    "duration": 7,
    "start_time": "2022-03-28T17:54:15.798Z"
   },
   {
    "duration": 23,
    "start_time": "2022-03-28T17:55:24.622Z"
   },
   {
    "duration": 11,
    "start_time": "2022-03-28T17:55:52.061Z"
   },
   {
    "duration": 33,
    "start_time": "2022-03-28T17:56:46.197Z"
   },
   {
    "duration": 112,
    "start_time": "2022-03-28T17:56:46.941Z"
   },
   {
    "duration": 11,
    "start_time": "2022-03-28T17:56:54.809Z"
   },
   {
    "duration": 22,
    "start_time": "2022-03-28T17:59:19.348Z"
   },
   {
    "duration": 8,
    "start_time": "2022-03-28T17:59:20.339Z"
   },
   {
    "duration": 4,
    "start_time": "2022-03-28T17:59:44.932Z"
   },
   {
    "duration": 21,
    "start_time": "2022-03-28T17:59:47.763Z"
   },
   {
    "duration": 8,
    "start_time": "2022-03-28T17:59:52.739Z"
   },
   {
    "duration": 10,
    "start_time": "2022-03-28T17:59:58.803Z"
   },
   {
    "duration": 15,
    "start_time": "2022-03-28T18:00:04.571Z"
   },
   {
    "duration": 21,
    "start_time": "2022-03-28T18:00:05.675Z"
   },
   {
    "duration": 14,
    "start_time": "2022-03-28T18:00:06.292Z"
   },
   {
    "duration": 9,
    "start_time": "2022-03-28T18:08:38.193Z"
   },
   {
    "duration": 6,
    "start_time": "2022-03-28T18:08:40.407Z"
   },
   {
    "duration": 9,
    "start_time": "2022-03-28T18:09:36.824Z"
   },
   {
    "duration": 5,
    "start_time": "2022-03-28T18:09:37.823Z"
   },
   {
    "duration": 9,
    "start_time": "2022-03-28T18:10:56.247Z"
   },
   {
    "duration": 8,
    "start_time": "2022-03-28T18:10:59.287Z"
   },
   {
    "duration": 2,
    "start_time": "2022-03-28T18:12:57.319Z"
   },
   {
    "duration": 171,
    "start_time": "2022-03-28T18:12:57.790Z"
   },
   {
    "duration": 12,
    "start_time": "2022-03-28T18:12:58.287Z"
   },
   {
    "duration": 33,
    "start_time": "2022-03-28T18:12:59.350Z"
   },
   {
    "duration": 566,
    "start_time": "2022-04-08T12:27:04.931Z"
   },
   {
    "duration": 239,
    "start_time": "2022-04-08T12:27:05.500Z"
   },
   {
    "duration": 31,
    "start_time": "2022-04-08T12:27:05.741Z"
   },
   {
    "duration": 54,
    "start_time": "2022-04-08T12:27:05.775Z"
   },
   {
    "duration": 4,
    "start_time": "2022-04-08T12:27:05.832Z"
   },
   {
    "duration": 12,
    "start_time": "2022-04-08T12:27:05.858Z"
   },
   {
    "duration": 5,
    "start_time": "2022-04-08T12:27:05.872Z"
   },
   {
    "duration": 30,
    "start_time": "2022-04-08T12:27:05.879Z"
   },
   {
    "duration": 18,
    "start_time": "2022-04-08T12:27:05.911Z"
   },
   {
    "duration": 42,
    "start_time": "2022-04-08T12:27:05.930Z"
   },
   {
    "duration": 68,
    "start_time": "2022-04-08T12:27:05.974Z"
   },
   {
    "duration": 90,
    "start_time": "2022-04-08T12:27:06.044Z"
   },
   {
    "duration": 68,
    "start_time": "2022-04-08T12:27:06.136Z"
   },
   {
    "duration": 7,
    "start_time": "2022-04-08T12:27:06.207Z"
   },
   {
    "duration": 11,
    "start_time": "2022-04-08T12:27:06.216Z"
   },
   {
    "duration": 13,
    "start_time": "2022-04-08T12:27:06.228Z"
   },
   {
    "duration": 18,
    "start_time": "2022-04-08T12:27:06.242Z"
   },
   {
    "duration": 25,
    "start_time": "2022-04-08T12:27:06.261Z"
   },
   {
    "duration": 29,
    "start_time": "2022-04-08T12:27:06.288Z"
   },
   {
    "duration": 3,
    "start_time": "2022-04-08T12:27:06.319Z"
   },
   {
    "duration": 46,
    "start_time": "2022-04-08T12:27:06.324Z"
   },
   {
    "duration": 16,
    "start_time": "2022-04-08T12:27:06.372Z"
   },
   {
    "duration": 15,
    "start_time": "2022-04-08T12:27:06.389Z"
   },
   {
    "duration": 15,
    "start_time": "2022-04-08T12:27:06.405Z"
   },
   {
    "duration": 46,
    "start_time": "2022-04-08T12:27:06.421Z"
   },
   {
    "duration": 14,
    "start_time": "2022-04-08T12:27:06.469Z"
   },
   {
    "duration": 8,
    "start_time": "2022-04-08T12:27:06.484Z"
   },
   {
    "duration": 15,
    "start_time": "2022-04-08T12:27:06.493Z"
   },
   {
    "duration": 9,
    "start_time": "2022-04-08T12:27:06.509Z"
   },
   {
    "duration": 14,
    "start_time": "2022-04-08T12:27:06.519Z"
   },
   {
    "duration": 35,
    "start_time": "2022-04-08T12:27:06.534Z"
   },
   {
    "duration": 11,
    "start_time": "2022-04-08T12:27:06.570Z"
   },
   {
    "duration": 15,
    "start_time": "2022-04-08T12:27:06.583Z"
   },
   {
    "duration": 11,
    "start_time": "2022-04-08T12:27:06.599Z"
   },
   {
    "duration": 8,
    "start_time": "2022-04-08T12:27:06.612Z"
   },
   {
    "duration": 38,
    "start_time": "2022-04-08T12:27:06.621Z"
   },
   {
    "duration": 8,
    "start_time": "2022-04-08T12:27:06.661Z"
   },
   {
    "duration": 5,
    "start_time": "2022-04-08T12:27:06.671Z"
   },
   {
    "duration": 428,
    "start_time": "2022-04-08T20:08:14.881Z"
   },
   {
    "duration": 169,
    "start_time": "2022-04-08T20:08:17.981Z"
   },
   {
    "duration": 15,
    "start_time": "2022-04-08T20:08:31.150Z"
   },
   {
    "duration": 30,
    "start_time": "2022-04-08T20:11:54.892Z"
   },
   {
    "duration": 4,
    "start_time": "2022-04-08T20:12:12.211Z"
   },
   {
    "duration": 10,
    "start_time": "2022-04-08T20:12:53.323Z"
   },
   {
    "duration": 3,
    "start_time": "2022-04-08T20:12:54.331Z"
   },
   {
    "duration": 24,
    "start_time": "2022-04-08T20:12:56.162Z"
   },
   {
    "duration": 26,
    "start_time": "2022-04-08T20:13:20.508Z"
   },
   {
    "duration": 18,
    "start_time": "2022-04-08T20:13:33.986Z"
   },
   {
    "duration": 27,
    "start_time": "2022-04-08T20:13:42.962Z"
   },
   {
    "duration": 60,
    "start_time": "2022-04-08T20:13:55.251Z"
   },
   {
    "duration": 76,
    "start_time": "2022-04-08T20:14:03.937Z"
   },
   {
    "duration": 60,
    "start_time": "2022-04-08T20:14:10.890Z"
   },
   {
    "duration": 38,
    "start_time": "2022-04-08T20:14:32.051Z"
   },
   {
    "duration": 3,
    "start_time": "2022-04-08T20:14:53.322Z"
   },
   {
    "duration": 10,
    "start_time": "2022-04-08T20:15:12.162Z"
   },
   {
    "duration": 39,
    "start_time": "2022-04-08T20:16:00.098Z"
   },
   {
    "duration": 23,
    "start_time": "2022-04-08T20:16:10.001Z"
   },
   {
    "duration": 30,
    "start_time": "2022-04-08T20:16:12.826Z"
   },
   {
    "duration": 4,
    "start_time": "2022-04-08T20:16:18.601Z"
   },
   {
    "duration": 16,
    "start_time": "2022-04-08T20:16:19.481Z"
   },
   {
    "duration": 15,
    "start_time": "2022-04-08T20:16:19.745Z"
   },
   {
    "duration": 15,
    "start_time": "2022-04-08T20:16:20.201Z"
   },
   {
    "duration": 14,
    "start_time": "2022-04-08T20:16:20.657Z"
   },
   {
    "duration": 18,
    "start_time": "2022-04-08T20:16:21.425Z"
   },
   {
    "duration": 15,
    "start_time": "2022-04-08T20:16:22.825Z"
   },
   {
    "duration": 9,
    "start_time": "2022-04-08T20:16:54.898Z"
   },
   {
    "duration": 11,
    "start_time": "2022-04-08T20:17:09.721Z"
   },
   {
    "duration": 10,
    "start_time": "2022-04-08T20:17:10.232Z"
   },
   {
    "duration": 3,
    "start_time": "2022-04-08T20:19:14.600Z"
   },
   {
    "duration": 170,
    "start_time": "2022-04-08T20:29:08.451Z"
   },
   {
    "duration": 155,
    "start_time": "2022-04-08T20:29:25.756Z"
   },
   {
    "duration": 404,
    "start_time": "2022-04-08T20:40:56.181Z"
   },
   {
    "duration": 147,
    "start_time": "2022-04-08T20:40:56.586Z"
   },
   {
    "duration": 17,
    "start_time": "2022-04-08T20:40:56.735Z"
   },
   {
    "duration": 29,
    "start_time": "2022-04-08T20:40:56.754Z"
   },
   {
    "duration": 17,
    "start_time": "2022-04-08T20:40:56.784Z"
   },
   {
    "duration": 10,
    "start_time": "2022-04-08T20:40:56.802Z"
   },
   {
    "duration": 5,
    "start_time": "2022-04-08T20:40:56.813Z"
   },
   {
    "duration": 28,
    "start_time": "2022-04-08T20:40:56.819Z"
   },
   {
    "duration": 19,
    "start_time": "2022-04-08T20:40:56.849Z"
   },
   {
    "duration": 45,
    "start_time": "2022-04-08T20:40:56.871Z"
   },
   {
    "duration": 61,
    "start_time": "2022-04-08T20:40:56.917Z"
   },
   {
    "duration": 79,
    "start_time": "2022-04-08T20:40:56.979Z"
   },
   {
    "duration": 68,
    "start_time": "2022-04-08T20:40:57.060Z"
   },
   {
    "duration": 38,
    "start_time": "2022-04-08T20:40:57.129Z"
   },
   {
    "duration": 3,
    "start_time": "2022-04-08T20:40:57.168Z"
   },
   {
    "duration": 26,
    "start_time": "2022-04-08T20:40:57.172Z"
   },
   {
    "duration": 47,
    "start_time": "2022-04-08T20:40:57.200Z"
   },
   {
    "duration": 22,
    "start_time": "2022-04-08T20:40:57.249Z"
   },
   {
    "duration": 37,
    "start_time": "2022-04-08T20:40:57.273Z"
   },
   {
    "duration": 15,
    "start_time": "2022-04-08T20:40:57.312Z"
   },
   {
    "duration": 58,
    "start_time": "2022-04-08T20:40:57.329Z"
   },
   {
    "duration": 34,
    "start_time": "2022-04-08T20:40:57.389Z"
   },
   {
    "duration": 22,
    "start_time": "2022-04-08T20:40:57.424Z"
   },
   {
    "duration": 28,
    "start_time": "2022-04-08T20:40:57.448Z"
   },
   {
    "duration": 21,
    "start_time": "2022-04-08T20:40:57.477Z"
   },
   {
    "duration": 23,
    "start_time": "2022-04-08T20:40:57.500Z"
   },
   {
    "duration": 20,
    "start_time": "2022-04-08T20:40:57.525Z"
   },
   {
    "duration": 23,
    "start_time": "2022-04-08T20:40:57.549Z"
   },
   {
    "duration": 27,
    "start_time": "2022-04-08T20:40:57.573Z"
   },
   {
    "duration": 16,
    "start_time": "2022-04-08T20:40:57.602Z"
   },
   {
    "duration": 40,
    "start_time": "2022-04-08T20:40:57.620Z"
   },
   {
    "duration": 29,
    "start_time": "2022-04-08T20:40:57.662Z"
   },
   {
    "duration": 32,
    "start_time": "2022-04-08T20:40:57.692Z"
   },
   {
    "duration": 21,
    "start_time": "2022-04-08T20:40:57.725Z"
   },
   {
    "duration": 23,
    "start_time": "2022-04-08T20:40:57.748Z"
   },
   {
    "duration": 25,
    "start_time": "2022-04-08T20:40:57.773Z"
   },
   {
    "duration": 30,
    "start_time": "2022-04-08T20:40:57.800Z"
   },
   {
    "duration": 20,
    "start_time": "2022-04-08T20:40:57.832Z"
   },
   {
    "duration": 407,
    "start_time": "2022-04-09T08:59:19.047Z"
   },
   {
    "duration": 172,
    "start_time": "2022-04-09T08:59:19.456Z"
   },
   {
    "duration": 18,
    "start_time": "2022-04-09T08:59:19.630Z"
   },
   {
    "duration": 32,
    "start_time": "2022-04-09T08:59:19.650Z"
   },
   {
    "duration": 4,
    "start_time": "2022-04-09T08:59:19.685Z"
   },
   {
    "duration": 16,
    "start_time": "2022-04-09T08:59:19.690Z"
   },
   {
    "duration": 23,
    "start_time": "2022-04-09T08:59:19.708Z"
   },
   {
    "duration": 27,
    "start_time": "2022-04-09T08:59:19.733Z"
   },
   {
    "duration": 22,
    "start_time": "2022-04-09T08:59:19.762Z"
   },
   {
    "duration": 47,
    "start_time": "2022-04-09T08:59:19.786Z"
   },
   {
    "duration": 69,
    "start_time": "2022-04-09T08:59:19.834Z"
   },
   {
    "duration": 97,
    "start_time": "2022-04-09T08:59:19.905Z"
   },
   {
    "duration": 74,
    "start_time": "2022-04-09T08:59:20.004Z"
   },
   {
    "duration": 51,
    "start_time": "2022-04-09T08:59:20.082Z"
   },
   {
    "duration": 3,
    "start_time": "2022-04-09T08:59:20.135Z"
   },
   {
    "duration": 13,
    "start_time": "2022-04-09T08:59:20.140Z"
   },
   {
    "duration": 40,
    "start_time": "2022-04-09T08:59:20.155Z"
   },
   {
    "duration": 44,
    "start_time": "2022-04-09T08:59:20.197Z"
   },
   {
    "duration": 31,
    "start_time": "2022-04-09T08:59:20.244Z"
   },
   {
    "duration": 3,
    "start_time": "2022-04-09T08:59:20.277Z"
   },
   {
    "duration": 20,
    "start_time": "2022-04-09T08:59:20.283Z"
   },
   {
    "duration": 17,
    "start_time": "2022-04-09T08:59:20.331Z"
   },
   {
    "duration": 16,
    "start_time": "2022-04-09T08:59:20.350Z"
   },
   {
    "duration": 15,
    "start_time": "2022-04-09T08:59:20.369Z"
   },
   {
    "duration": 52,
    "start_time": "2022-04-09T08:59:20.386Z"
   },
   {
    "duration": 17,
    "start_time": "2022-04-09T08:59:20.441Z"
   },
   {
    "duration": 9,
    "start_time": "2022-04-09T08:59:20.460Z"
   },
   {
    "duration": 14,
    "start_time": "2022-04-09T08:59:20.471Z"
   },
   {
    "duration": 45,
    "start_time": "2022-04-09T08:59:20.487Z"
   },
   {
    "duration": 4,
    "start_time": "2022-04-09T08:59:20.534Z"
   },
   {
    "duration": 21,
    "start_time": "2022-04-09T08:59:20.539Z"
   },
   {
    "duration": 13,
    "start_time": "2022-04-09T08:59:20.561Z"
   },
   {
    "duration": 19,
    "start_time": "2022-04-09T08:59:20.575Z"
   },
   {
    "duration": 39,
    "start_time": "2022-04-09T08:59:20.596Z"
   },
   {
    "duration": 11,
    "start_time": "2022-04-09T08:59:20.637Z"
   },
   {
    "duration": 8,
    "start_time": "2022-04-09T08:59:20.650Z"
   },
   {
    "duration": 16,
    "start_time": "2022-04-09T08:59:20.659Z"
   },
   {
    "duration": 7,
    "start_time": "2022-04-09T08:59:20.677Z"
   }
  ],
  "colab": {
   "collapsed_sections": [
    "E0vqbgi9ay0H",
    "VUC88oWjTJw2"
   ],
   "name": "yandex_music_project.ipynb",
   "provenance": []
  },
  "kernelspec": {
   "display_name": "Python 3 (ipykernel)",
   "language": "python",
   "name": "python3"
  },
  "language_info": {
   "codemirror_mode": {
    "name": "ipython",
    "version": 3
   },
   "file_extension": ".py",
   "mimetype": "text/x-python",
   "name": "python",
   "nbconvert_exporter": "python",
   "pygments_lexer": "ipython3",
   "version": "3.9.7"
  },
  "toc": {
   "base_numbering": 1,
   "nav_menu": {},
   "number_sections": true,
   "sideBar": true,
   "skip_h1_title": true,
   "title_cell": "Оглавление:",
   "title_sidebar": "Оглавление:",
   "toc_cell": true,
   "toc_position": {
    "height": "calc(100% - 180px)",
    "left": "10px",
    "top": "150px",
    "width": "273.188px"
   },
   "toc_section_display": true,
   "toc_window_display": true
  }
 },
 "nbformat": 4,
 "nbformat_minor": 1
}
