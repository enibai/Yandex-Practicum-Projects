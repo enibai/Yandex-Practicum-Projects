{
 "cells": [
  {
   "cell_type": "markdown",
   "id": "090aa393",
   "metadata": {},
   "source": [
    "# Анализ тарифных планов оператора мобильной связи."
   ]
  },
  {
   "cell_type": "markdown",
   "id": "144d45c6",
   "metadata": {
    "toc": true
   },
   "source": [
    "<h1>Оглавление:<span class=\"tocSkip\"></span></h1>\n",
    "<div class=\"toc\"><ul class=\"toc-item\"><li><ul class=\"toc-item\"><li><span><a href=\"#Описание-проекта:\" data-toc-modified-id=\"Описание-проекта:-0.1\"><span class=\"toc-item-num\">0.1&nbsp;&nbsp;</span>Описание проекта:</a></span></li><li><span><a href=\"#Описание-тарифов:\" data-toc-modified-id=\"Описание-тарифов:-0.2\"><span class=\"toc-item-num\">0.2&nbsp;&nbsp;</span>Описание тарифов:</a></span></li><li><span><a href=\"#Описание-данных:\" data-toc-modified-id=\"Описание-данных:-0.3\"><span class=\"toc-item-num\">0.3&nbsp;&nbsp;</span>Описание данных:</a></span></li></ul></li><li><span><a href=\"#Шаг-1.-Импортирую-необходимые-библиотеки,-открываю-файлы-с-данными-и-изучаю-общую-информацию.\" data-toc-modified-id=\"Шаг-1.-Импортирую-необходимые-библиотеки,-открываю-файлы-с-данными-и-изучаю-общую-информацию.-1\"><span class=\"toc-item-num\">1&nbsp;&nbsp;</span>Шаг 1. Импортирую необходимые библиотеки, открываю файлы с данными и изучаю общую информацию.</a></span><ul class=\"toc-item\"><li><span><a href=\"#Вывод:\" data-toc-modified-id=\"Вывод:-1.1\"><span class=\"toc-item-num\">1.1&nbsp;&nbsp;</span>Вывод:</a></span></li></ul></li><li><span><a href=\"#Шаг-2.-Подготовка-данных.\" data-toc-modified-id=\"Шаг-2.-Подготовка-данных.-2\"><span class=\"toc-item-num\">2&nbsp;&nbsp;</span>Шаг 2. Подготовка данных.</a></span><ul class=\"toc-item\"><li><span><a href=\"#Создаю-столбцы-с-месяцами.\" data-toc-modified-id=\"Создаю-столбцы-с-месяцами.-2.1\"><span class=\"toc-item-num\">2.1&nbsp;&nbsp;</span>Создаю столбцы с месяцами.</a></span></li><li><span><a href=\"#Округляю-звонки-в-большую-сторону-и-в-датасете-с-интернет-трафиком-перевожу-мб-в-гб.\" data-toc-modified-id=\"Округляю-звонки-в-большую-сторону-и-в-датасете-с-интернет-трафиком-перевожу-мб-в-гб.-2.2\"><span class=\"toc-item-num\">2.2&nbsp;&nbsp;</span>Округляю звонки в большую сторону и в датасете с интернет-трафиком перевожу мб в гб.</a></span></li><li><span><a href=\"#Считаю-для-каждого-пользователя-количество-сделанных-звонков-и-израсходованных-минут-разговора-по-месяцам.\" data-toc-modified-id=\"Считаю-для-каждого-пользователя-количество-сделанных-звонков-и-израсходованных-минут-разговора-по-месяцам.-2.3\"><span class=\"toc-item-num\">2.3&nbsp;&nbsp;</span>Считаю для каждого пользователя количество сделанных звонков и израсходованных минут разговора по месяцам.</a></span></li><li><span><a href=\"#Считаю-для-каждого-пользователя-количество-отправленных-сообщений-по-месяцам.\" data-toc-modified-id=\"Считаю-для-каждого-пользователя-количество-отправленных-сообщений-по-месяцам.-2.4\"><span class=\"toc-item-num\">2.4&nbsp;&nbsp;</span>Считаю для каждого пользователя количество отправленных сообщений по месяцам.</a></span></li><li><span><a href=\"#Считаю-для-каждого-пользователя-объем-израсходованного-интернет-трафика-по-месяцам.\" data-toc-modified-id=\"Считаю-для-каждого-пользователя-объем-израсходованного-интернет-трафика-по-месяцам.-2.5\"><span class=\"toc-item-num\">2.5&nbsp;&nbsp;</span>Считаю для каждого пользователя объем израсходованного интернет-трафика по месяцам.</a></span></li><li><span><a href=\"#Объединяю-данные-о-звонках,-сообщениях-и-интернет-трафике-в-одну-сводную-таблицу.\" data-toc-modified-id=\"Объединяю-данные-о-звонках,-сообщениях-и-интернет-трафике-в-одну-сводную-таблицу.-2.6\"><span class=\"toc-item-num\">2.6&nbsp;&nbsp;</span>Объединяю данные о звонках, сообщениях и интернет-трафике в одну сводную таблицу.</a></span></li><li><span><a href=\"#Считаю-помесячную-выручку-с-каждого-пользователя.\" data-toc-modified-id=\"Считаю-помесячную-выручку-с-каждого-пользователя.-2.7\"><span class=\"toc-item-num\">2.7&nbsp;&nbsp;</span>Считаю помесячную выручку с каждого пользователя.</a></span></li></ul></li><li><span><a href=\"#Шаг-3.-Анализ-данных.\" data-toc-modified-id=\"Шаг-3.-Анализ-данных.-3\"><span class=\"toc-item-num\">3&nbsp;&nbsp;</span>Шаг 3. Анализ данных.</a></span><ul class=\"toc-item\"><li><span><a href=\"#Считаю-для-столбцов-calls_duration,-gb_used,-messages_used-и-total_costs-среднее-значение,-медианное-значение,-дисперсию,-стандартное-отклонение-и-строю-гистограммы.\" data-toc-modified-id=\"Считаю-для-столбцов-calls_duration,-gb_used,-messages_used-и-total_costs-среднее-значение,-медианное-значение,-дисперсию,-стандартное-отклонение-и-строю-гистограммы.-3.1\"><span class=\"toc-item-num\">3.1&nbsp;&nbsp;</span>Считаю для столбцов <strong><code>calls_duration</code></strong>, <strong><code>gb_used</code></strong>, <strong><code>messages_used</code></strong> и <strong><code>total_costs</code></strong> среднее значение, медианное значение, дисперсию, стандартное отклонение и строю гистограммы.</a></span></li></ul></li><li><span><a href=\"#Шаг-4.-Проверка-гипотез.\" data-toc-modified-id=\"Шаг-4.-Проверка-гипотез.-4\"><span class=\"toc-item-num\">4&nbsp;&nbsp;</span>Шаг 4. Проверка гипотез.</a></span><ul class=\"toc-item\"><li><span><a href=\"#Первая-гипотеза:\" data-toc-modified-id=\"Первая-гипотеза:-4.1\"><span class=\"toc-item-num\">4.1&nbsp;&nbsp;</span>Первая гипотеза:</a></span></li><li><span><a href=\"#Вторая-гипотеза:\" data-toc-modified-id=\"Вторая-гипотеза:-4.2\"><span class=\"toc-item-num\">4.2&nbsp;&nbsp;</span>Вторая гипотеза:</a></span></li></ul></li><li><span><a href=\"#Общий-вывод.\" data-toc-modified-id=\"Общий-вывод.-5\"><span class=\"toc-item-num\">5&nbsp;&nbsp;</span>Общий вывод.</a></span><ul class=\"toc-item\"><li><span><a href=\"#Рекомендации:\" data-toc-modified-id=\"Рекомендации:-5.1\"><span class=\"toc-item-num\">5.1&nbsp;&nbsp;</span>Рекомендации:</a></span></li></ul></li></ul></div>"
   ]
  },
  {
   "cell_type": "markdown",
   "id": "ad91b320",
   "metadata": {},
   "source": [
    "### Описание проекта:\n",
    "Федеральный оператора мобильной связи предлагает клиентам два тарифных плана: «Смарт» и «Ультра». Чтобы скорректировать рекламный бюджет, коммерческий департамент хочет понять, какой тариф приносит больше денег.\n",
    "Нужно сделать предварительный анализ тарифов на небольшой выборке клиентов. В моем распоряжении данные 500 пользователей: кто они, откуда, каким тарифом пользуются, сколько звонков и сообщений каждый отправил за 2018 год. Нужно проанализировать поведение клиентов и сделать вывод - какой тариф лучше."
   ]
  },
  {
   "cell_type": "markdown",
   "id": "dba377c3",
   "metadata": {},
   "source": [
    "### Описание тарифов:\n",
    "**Тариф «Смарт»**\n",
    "1. Ежемесячная плата: 550 рублей\n",
    "2. Включено 500 минут разговора, 50 сообщений и 15 Гб интернет-трафика\n",
    "3. Стоимость услуг сверх тарифного пакета:\n",
    "  * минута разговора: 3 рубля\n",
    "  * сообщение: 3 рубля\n",
    "  * 1 Гб интернет-трафика: 200 рублей\n",
    "   \n",
    "**Тариф «Ультра»**\n",
    "1. Ежемесячная плата: 1950 рублей\n",
    "2. Включено 3000 минут разговора, 1000 сообщений и 30 Гб интернет-трафика\n",
    "3. Стоимость услуг сверх тарифного пакета:\n",
    "  * минута разговора: 1 рубль\n",
    "  * сообщение: 1 рубль\n",
    "  * 1 Гб интернет-трафика: 150 рублей\n",
    "\n",
    "**Примечание:**\n",
    "\n",
    "Данный оператор мобильной связи всегда округляет секунды до минут, а мегабайты - до гигабайт. Каждый звонок округляется отдельно: даже если он длился всего 1 секунду, будет засчитан как 1 минута.\n",
    "Для веб-трафика отдельные сессии не считаются. Вместо этого общая сумма за месяц округляется в бо́льшую сторону. Если абонент использует 1025 мегабайт в этом месяце, с него возьмут плату за 2 гигабайта."
   ]
  },
  {
   "cell_type": "markdown",
   "id": "3bb2c294",
   "metadata": {},
   "source": [
    "### Описание данных:\n",
    "Датасет `users` (информация о пользователях) содержит:\n",
    "- **`user_id`** - уникальный идентификатор пользователя;\n",
    "- **`first_name`** -— имя пользователя;\n",
    "- **`last_name`** - фамилия пользователя;\n",
    "- **`age`** - возраст пользователя (годы);\n",
    "- **`reg_date`** - дата подключения тарифа (день, месяц, год);\n",
    "- **`churn_date`** - дата прекращения пользования тарифом (если значение пропущено, то тариф ещё действовал на момент выгрузки данных);\n",
    "- **`city`** - город проживания пользователя;\n",
    "- **`tariff`** - название тарифного плана.\n",
    "\n",
    "Датасет `calls` (информация о звонках) содержит:\n",
    "- **`id`** - уникальный номер звонка;\n",
    "- **`call_date`** - дата звонка;\n",
    "- **`duration`** - длительность звонка в минутах;\n",
    "- **`user_id`** - идентификатор пользователя, сделавшего звонок.\n",
    "\n",
    "Датасет `messages` (информация о сообщениях) содержит:\n",
    "- **`id`** - уникальный номер сообщения;\n",
    "- **`message_date`** - дата сообщения;\n",
    "- **`user_id`** - идентификатор пользователя, отправившего сообщение.\n",
    "\n",
    "Датасет `internet` (информация об интернет-сессиях) содержит:\n",
    "- **`id`** - уникальный номер сессии;\n",
    "- **`mb_used`** - объём потраченного за сессию интернет-трафика (в мегабайтах);\n",
    "- **`session_date`** - дата интернет-сессии;\n",
    "- **`user_id`** - идентификатор пользователя.\n",
    "\n",
    "Датасет `tariffs` (информация о тарифах) содержит:\n",
    "- **`tariff_name`** - название тарифа;\n",
    "- **`rub_monthly_fee`** - ежемесячная абонентская плата в рублях;\n",
    "- **`minutes_included`** - количество минут разговора в месяц, включённых в абонентскую плату;\n",
    "- **`messages_included`** - количество сообщений в месяц, включённых в абонентскую плату;\n",
    "- **`mb_per_month_included`** - объём интернет-трафика, включённого в абонентскую плату (в мегабайтах);\n",
    "- **`rub_per_minute`** - стоимость минуты разговора сверх тарифного пакета (например, если в тарифе 100 минут разговора в месяц, то со 101 минуты будет взиматься плата);\n",
    "- **`rub_per_message`** - стоимость отправки сообщения сверх тарифного пакета;\n",
    "- **`rub_per_gb`** - стоимость дополнительного гигабайта интернет-трафика сверх тарифного пакета (1 гигабайт = 1024 мегабайта)."
   ]
  },
  {
   "cell_type": "markdown",
   "id": "1c2144bf",
   "metadata": {},
   "source": [
    "## Шаг 1. Импортирую необходимые библиотеки, открываю файлы с данными и изучаю общую информацию."
   ]
  },
  {
   "cell_type": "code",
   "execution_count": 1,
   "id": "32029079",
   "metadata": {},
   "outputs": [],
   "source": [
    "import pandas as pd\n",
    "import numpy as np\n",
    "import matplotlib.pyplot as plt\n",
    "import scipy.stats as st\n",
    "import warnings\n",
    "warnings.filterwarnings('ignore')"
   ]
  },
  {
   "cell_type": "code",
   "execution_count": 2,
   "id": "23ce6ab5",
   "metadata": {},
   "outputs": [],
   "source": [
    "calls, internet, messages, tariffs, users = (\n",
    "    pd.read_csv('/datasets/calls.csv', parse_dates = ['call_date']),\n",
    "    pd.read_csv('/datasets/internet.csv', parse_dates = ['session_date']),\n",
    "    pd.read_csv('/datasets/messages.csv', parse_dates = ['message_date']),\n",
    "    pd.read_csv('/datasets/tariffs.csv'),\n",
    "    pd.read_csv('/datasets/users.csv', parse_dates = ['reg_date'])\n",
    ")"
   ]
  },
  {
   "cell_type": "code",
   "execution_count": 3,
   "id": "2c1e5960",
   "metadata": {},
   "outputs": [],
   "source": [
    "def df_info(df):\n",
    "    display(df.head(3))\n",
    "    print('-' * 50)\n",
    "    df.info()\n",
    "    print('-' * 50)\n",
    "    display(df.describe(include = 'all'))\n",
    "    print('-' * 50)\n",
    "    print('Количество явных дубликатов:', df.duplicated().sum())"
   ]
  },
  {
   "cell_type": "code",
   "execution_count": 4,
   "id": "b6d52ae4",
   "metadata": {},
   "outputs": [
    {
     "data": {
      "text/html": [
       "<div>\n",
       "<style scoped>\n",
       "    .dataframe tbody tr th:only-of-type {\n",
       "        vertical-align: middle;\n",
       "    }\n",
       "\n",
       "    .dataframe tbody tr th {\n",
       "        vertical-align: top;\n",
       "    }\n",
       "\n",
       "    .dataframe thead th {\n",
       "        text-align: right;\n",
       "    }\n",
       "</style>\n",
       "<table border=\"1\" class=\"dataframe\">\n",
       "  <thead>\n",
       "    <tr style=\"text-align: right;\">\n",
       "      <th></th>\n",
       "      <th>id</th>\n",
       "      <th>call_date</th>\n",
       "      <th>duration</th>\n",
       "      <th>user_id</th>\n",
       "    </tr>\n",
       "  </thead>\n",
       "  <tbody>\n",
       "    <tr>\n",
       "      <th>0</th>\n",
       "      <td>1000_0</td>\n",
       "      <td>2018-07-25</td>\n",
       "      <td>0.00</td>\n",
       "      <td>1000</td>\n",
       "    </tr>\n",
       "    <tr>\n",
       "      <th>1</th>\n",
       "      <td>1000_1</td>\n",
       "      <td>2018-08-17</td>\n",
       "      <td>0.00</td>\n",
       "      <td>1000</td>\n",
       "    </tr>\n",
       "    <tr>\n",
       "      <th>2</th>\n",
       "      <td>1000_2</td>\n",
       "      <td>2018-06-11</td>\n",
       "      <td>2.85</td>\n",
       "      <td>1000</td>\n",
       "    </tr>\n",
       "  </tbody>\n",
       "</table>\n",
       "</div>"
      ],
      "text/plain": [
       "       id  call_date  duration  user_id\n",
       "0  1000_0 2018-07-25      0.00     1000\n",
       "1  1000_1 2018-08-17      0.00     1000\n",
       "2  1000_2 2018-06-11      2.85     1000"
      ]
     },
     "metadata": {},
     "output_type": "display_data"
    },
    {
     "name": "stdout",
     "output_type": "stream",
     "text": [
      "--------------------------------------------------\n",
      "<class 'pandas.core.frame.DataFrame'>\n",
      "RangeIndex: 202607 entries, 0 to 202606\n",
      "Data columns (total 4 columns):\n",
      " #   Column     Non-Null Count   Dtype         \n",
      "---  ------     --------------   -----         \n",
      " 0   id         202607 non-null  object        \n",
      " 1   call_date  202607 non-null  datetime64[ns]\n",
      " 2   duration   202607 non-null  float64       \n",
      " 3   user_id    202607 non-null  int64         \n",
      "dtypes: datetime64[ns](1), float64(1), int64(1), object(1)\n",
      "memory usage: 6.2+ MB\n",
      "--------------------------------------------------\n"
     ]
    },
    {
     "data": {
      "text/html": [
       "<div>\n",
       "<style scoped>\n",
       "    .dataframe tbody tr th:only-of-type {\n",
       "        vertical-align: middle;\n",
       "    }\n",
       "\n",
       "    .dataframe tbody tr th {\n",
       "        vertical-align: top;\n",
       "    }\n",
       "\n",
       "    .dataframe thead th {\n",
       "        text-align: right;\n",
       "    }\n",
       "</style>\n",
       "<table border=\"1\" class=\"dataframe\">\n",
       "  <thead>\n",
       "    <tr style=\"text-align: right;\">\n",
       "      <th></th>\n",
       "      <th>id</th>\n",
       "      <th>call_date</th>\n",
       "      <th>duration</th>\n",
       "      <th>user_id</th>\n",
       "    </tr>\n",
       "  </thead>\n",
       "  <tbody>\n",
       "    <tr>\n",
       "      <th>count</th>\n",
       "      <td>202607</td>\n",
       "      <td>202607</td>\n",
       "      <td>202607.000000</td>\n",
       "      <td>202607.000000</td>\n",
       "    </tr>\n",
       "    <tr>\n",
       "      <th>unique</th>\n",
       "      <td>202607</td>\n",
       "      <td>365</td>\n",
       "      <td>NaN</td>\n",
       "      <td>NaN</td>\n",
       "    </tr>\n",
       "    <tr>\n",
       "      <th>top</th>\n",
       "      <td>1000_0</td>\n",
       "      <td>2018-12-31 00:00:00</td>\n",
       "      <td>NaN</td>\n",
       "      <td>NaN</td>\n",
       "    </tr>\n",
       "    <tr>\n",
       "      <th>freq</th>\n",
       "      <td>1</td>\n",
       "      <td>1435</td>\n",
       "      <td>NaN</td>\n",
       "      <td>NaN</td>\n",
       "    </tr>\n",
       "    <tr>\n",
       "      <th>first</th>\n",
       "      <td>NaN</td>\n",
       "      <td>2018-01-01 00:00:00</td>\n",
       "      <td>NaN</td>\n",
       "      <td>NaN</td>\n",
       "    </tr>\n",
       "    <tr>\n",
       "      <th>last</th>\n",
       "      <td>NaN</td>\n",
       "      <td>2018-12-31 00:00:00</td>\n",
       "      <td>NaN</td>\n",
       "      <td>NaN</td>\n",
       "    </tr>\n",
       "    <tr>\n",
       "      <th>mean</th>\n",
       "      <td>NaN</td>\n",
       "      <td>NaN</td>\n",
       "      <td>6.755887</td>\n",
       "      <td>1253.940619</td>\n",
       "    </tr>\n",
       "    <tr>\n",
       "      <th>std</th>\n",
       "      <td>NaN</td>\n",
       "      <td>NaN</td>\n",
       "      <td>5.843365</td>\n",
       "      <td>144.722751</td>\n",
       "    </tr>\n",
       "    <tr>\n",
       "      <th>min</th>\n",
       "      <td>NaN</td>\n",
       "      <td>NaN</td>\n",
       "      <td>0.000000</td>\n",
       "      <td>1000.000000</td>\n",
       "    </tr>\n",
       "    <tr>\n",
       "      <th>25%</th>\n",
       "      <td>NaN</td>\n",
       "      <td>NaN</td>\n",
       "      <td>1.300000</td>\n",
       "      <td>1126.000000</td>\n",
       "    </tr>\n",
       "    <tr>\n",
       "      <th>50%</th>\n",
       "      <td>NaN</td>\n",
       "      <td>NaN</td>\n",
       "      <td>6.000000</td>\n",
       "      <td>1260.000000</td>\n",
       "    </tr>\n",
       "    <tr>\n",
       "      <th>75%</th>\n",
       "      <td>NaN</td>\n",
       "      <td>NaN</td>\n",
       "      <td>10.700000</td>\n",
       "      <td>1379.000000</td>\n",
       "    </tr>\n",
       "    <tr>\n",
       "      <th>max</th>\n",
       "      <td>NaN</td>\n",
       "      <td>NaN</td>\n",
       "      <td>38.000000</td>\n",
       "      <td>1499.000000</td>\n",
       "    </tr>\n",
       "  </tbody>\n",
       "</table>\n",
       "</div>"
      ],
      "text/plain": [
       "            id            call_date       duration        user_id\n",
       "count   202607               202607  202607.000000  202607.000000\n",
       "unique  202607                  365            NaN            NaN\n",
       "top     1000_0  2018-12-31 00:00:00            NaN            NaN\n",
       "freq         1                 1435            NaN            NaN\n",
       "first      NaN  2018-01-01 00:00:00            NaN            NaN\n",
       "last       NaN  2018-12-31 00:00:00            NaN            NaN\n",
       "mean       NaN                  NaN       6.755887    1253.940619\n",
       "std        NaN                  NaN       5.843365     144.722751\n",
       "min        NaN                  NaN       0.000000    1000.000000\n",
       "25%        NaN                  NaN       1.300000    1126.000000\n",
       "50%        NaN                  NaN       6.000000    1260.000000\n",
       "75%        NaN                  NaN      10.700000    1379.000000\n",
       "max        NaN                  NaN      38.000000    1499.000000"
      ]
     },
     "metadata": {},
     "output_type": "display_data"
    },
    {
     "name": "stdout",
     "output_type": "stream",
     "text": [
      "--------------------------------------------------\n",
      "Количество явных дубликатов: 0\n"
     ]
    }
   ],
   "source": [
    "df_info(calls)"
   ]
  },
  {
   "cell_type": "code",
   "execution_count": 5,
   "id": "27b26860",
   "metadata": {},
   "outputs": [
    {
     "data": {
      "text/html": [
       "<div>\n",
       "<style scoped>\n",
       "    .dataframe tbody tr th:only-of-type {\n",
       "        vertical-align: middle;\n",
       "    }\n",
       "\n",
       "    .dataframe tbody tr th {\n",
       "        vertical-align: top;\n",
       "    }\n",
       "\n",
       "    .dataframe thead th {\n",
       "        text-align: right;\n",
       "    }\n",
       "</style>\n",
       "<table border=\"1\" class=\"dataframe\">\n",
       "  <thead>\n",
       "    <tr style=\"text-align: right;\">\n",
       "      <th></th>\n",
       "      <th>Unnamed: 0</th>\n",
       "      <th>id</th>\n",
       "      <th>mb_used</th>\n",
       "      <th>session_date</th>\n",
       "      <th>user_id</th>\n",
       "    </tr>\n",
       "  </thead>\n",
       "  <tbody>\n",
       "    <tr>\n",
       "      <th>0</th>\n",
       "      <td>0</td>\n",
       "      <td>1000_0</td>\n",
       "      <td>112.95</td>\n",
       "      <td>2018-11-25</td>\n",
       "      <td>1000</td>\n",
       "    </tr>\n",
       "    <tr>\n",
       "      <th>1</th>\n",
       "      <td>1</td>\n",
       "      <td>1000_1</td>\n",
       "      <td>1052.81</td>\n",
       "      <td>2018-09-07</td>\n",
       "      <td>1000</td>\n",
       "    </tr>\n",
       "    <tr>\n",
       "      <th>2</th>\n",
       "      <td>2</td>\n",
       "      <td>1000_2</td>\n",
       "      <td>1197.26</td>\n",
       "      <td>2018-06-25</td>\n",
       "      <td>1000</td>\n",
       "    </tr>\n",
       "  </tbody>\n",
       "</table>\n",
       "</div>"
      ],
      "text/plain": [
       "   Unnamed: 0      id  mb_used session_date  user_id\n",
       "0           0  1000_0   112.95   2018-11-25     1000\n",
       "1           1  1000_1  1052.81   2018-09-07     1000\n",
       "2           2  1000_2  1197.26   2018-06-25     1000"
      ]
     },
     "metadata": {},
     "output_type": "display_data"
    },
    {
     "name": "stdout",
     "output_type": "stream",
     "text": [
      "--------------------------------------------------\n",
      "<class 'pandas.core.frame.DataFrame'>\n",
      "RangeIndex: 149396 entries, 0 to 149395\n",
      "Data columns (total 5 columns):\n",
      " #   Column        Non-Null Count   Dtype         \n",
      "---  ------        --------------   -----         \n",
      " 0   Unnamed: 0    149396 non-null  int64         \n",
      " 1   id            149396 non-null  object        \n",
      " 2   mb_used       149396 non-null  float64       \n",
      " 3   session_date  149396 non-null  datetime64[ns]\n",
      " 4   user_id       149396 non-null  int64         \n",
      "dtypes: datetime64[ns](1), float64(1), int64(2), object(1)\n",
      "memory usage: 5.7+ MB\n",
      "--------------------------------------------------\n"
     ]
    },
    {
     "data": {
      "text/html": [
       "<div>\n",
       "<style scoped>\n",
       "    .dataframe tbody tr th:only-of-type {\n",
       "        vertical-align: middle;\n",
       "    }\n",
       "\n",
       "    .dataframe tbody tr th {\n",
       "        vertical-align: top;\n",
       "    }\n",
       "\n",
       "    .dataframe thead th {\n",
       "        text-align: right;\n",
       "    }\n",
       "</style>\n",
       "<table border=\"1\" class=\"dataframe\">\n",
       "  <thead>\n",
       "    <tr style=\"text-align: right;\">\n",
       "      <th></th>\n",
       "      <th>Unnamed: 0</th>\n",
       "      <th>id</th>\n",
       "      <th>mb_used</th>\n",
       "      <th>session_date</th>\n",
       "      <th>user_id</th>\n",
       "    </tr>\n",
       "  </thead>\n",
       "  <tbody>\n",
       "    <tr>\n",
       "      <th>count</th>\n",
       "      <td>149396.000000</td>\n",
       "      <td>149396</td>\n",
       "      <td>149396.000000</td>\n",
       "      <td>149396</td>\n",
       "      <td>149396.000000</td>\n",
       "    </tr>\n",
       "    <tr>\n",
       "      <th>unique</th>\n",
       "      <td>NaN</td>\n",
       "      <td>149396</td>\n",
       "      <td>NaN</td>\n",
       "      <td>365</td>\n",
       "      <td>NaN</td>\n",
       "    </tr>\n",
       "    <tr>\n",
       "      <th>top</th>\n",
       "      <td>NaN</td>\n",
       "      <td>1000_0</td>\n",
       "      <td>NaN</td>\n",
       "      <td>2018-12-31 00:00:00</td>\n",
       "      <td>NaN</td>\n",
       "    </tr>\n",
       "    <tr>\n",
       "      <th>freq</th>\n",
       "      <td>NaN</td>\n",
       "      <td>1</td>\n",
       "      <td>NaN</td>\n",
       "      <td>1057</td>\n",
       "      <td>NaN</td>\n",
       "    </tr>\n",
       "    <tr>\n",
       "      <th>first</th>\n",
       "      <td>NaN</td>\n",
       "      <td>NaN</td>\n",
       "      <td>NaN</td>\n",
       "      <td>2018-01-01 00:00:00</td>\n",
       "      <td>NaN</td>\n",
       "    </tr>\n",
       "    <tr>\n",
       "      <th>last</th>\n",
       "      <td>NaN</td>\n",
       "      <td>NaN</td>\n",
       "      <td>NaN</td>\n",
       "      <td>2018-12-31 00:00:00</td>\n",
       "      <td>NaN</td>\n",
       "    </tr>\n",
       "    <tr>\n",
       "      <th>mean</th>\n",
       "      <td>74697.500000</td>\n",
       "      <td>NaN</td>\n",
       "      <td>370.192426</td>\n",
       "      <td>NaN</td>\n",
       "      <td>1252.099842</td>\n",
       "    </tr>\n",
       "    <tr>\n",
       "      <th>std</th>\n",
       "      <td>43127.054745</td>\n",
       "      <td>NaN</td>\n",
       "      <td>278.300951</td>\n",
       "      <td>NaN</td>\n",
       "      <td>144.050823</td>\n",
       "    </tr>\n",
       "    <tr>\n",
       "      <th>min</th>\n",
       "      <td>0.000000</td>\n",
       "      <td>NaN</td>\n",
       "      <td>0.000000</td>\n",
       "      <td>NaN</td>\n",
       "      <td>1000.000000</td>\n",
       "    </tr>\n",
       "    <tr>\n",
       "      <th>25%</th>\n",
       "      <td>37348.750000</td>\n",
       "      <td>NaN</td>\n",
       "      <td>138.187500</td>\n",
       "      <td>NaN</td>\n",
       "      <td>1130.000000</td>\n",
       "    </tr>\n",
       "    <tr>\n",
       "      <th>50%</th>\n",
       "      <td>74697.500000</td>\n",
       "      <td>NaN</td>\n",
       "      <td>348.015000</td>\n",
       "      <td>NaN</td>\n",
       "      <td>1251.000000</td>\n",
       "    </tr>\n",
       "    <tr>\n",
       "      <th>75%</th>\n",
       "      <td>112046.250000</td>\n",
       "      <td>NaN</td>\n",
       "      <td>559.552500</td>\n",
       "      <td>NaN</td>\n",
       "      <td>1380.000000</td>\n",
       "    </tr>\n",
       "    <tr>\n",
       "      <th>max</th>\n",
       "      <td>149395.000000</td>\n",
       "      <td>NaN</td>\n",
       "      <td>1724.830000</td>\n",
       "      <td>NaN</td>\n",
       "      <td>1499.000000</td>\n",
       "    </tr>\n",
       "  </tbody>\n",
       "</table>\n",
       "</div>"
      ],
      "text/plain": [
       "           Unnamed: 0      id        mb_used         session_date  \\\n",
       "count   149396.000000  149396  149396.000000               149396   \n",
       "unique            NaN  149396            NaN                  365   \n",
       "top               NaN  1000_0            NaN  2018-12-31 00:00:00   \n",
       "freq              NaN       1            NaN                 1057   \n",
       "first             NaN     NaN            NaN  2018-01-01 00:00:00   \n",
       "last              NaN     NaN            NaN  2018-12-31 00:00:00   \n",
       "mean     74697.500000     NaN     370.192426                  NaN   \n",
       "std      43127.054745     NaN     278.300951                  NaN   \n",
       "min          0.000000     NaN       0.000000                  NaN   \n",
       "25%      37348.750000     NaN     138.187500                  NaN   \n",
       "50%      74697.500000     NaN     348.015000                  NaN   \n",
       "75%     112046.250000     NaN     559.552500                  NaN   \n",
       "max     149395.000000     NaN    1724.830000                  NaN   \n",
       "\n",
       "              user_id  \n",
       "count   149396.000000  \n",
       "unique            NaN  \n",
       "top               NaN  \n",
       "freq              NaN  \n",
       "first             NaN  \n",
       "last              NaN  \n",
       "mean      1252.099842  \n",
       "std        144.050823  \n",
       "min       1000.000000  \n",
       "25%       1130.000000  \n",
       "50%       1251.000000  \n",
       "75%       1380.000000  \n",
       "max       1499.000000  "
      ]
     },
     "metadata": {},
     "output_type": "display_data"
    },
    {
     "name": "stdout",
     "output_type": "stream",
     "text": [
      "--------------------------------------------------\n",
      "Количество явных дубликатов: 0\n"
     ]
    }
   ],
   "source": [
    "df_info(internet)"
   ]
  },
  {
   "cell_type": "code",
   "execution_count": 6,
   "id": "75af45bb",
   "metadata": {},
   "outputs": [
    {
     "data": {
      "text/html": [
       "<div>\n",
       "<style scoped>\n",
       "    .dataframe tbody tr th:only-of-type {\n",
       "        vertical-align: middle;\n",
       "    }\n",
       "\n",
       "    .dataframe tbody tr th {\n",
       "        vertical-align: top;\n",
       "    }\n",
       "\n",
       "    .dataframe thead th {\n",
       "        text-align: right;\n",
       "    }\n",
       "</style>\n",
       "<table border=\"1\" class=\"dataframe\">\n",
       "  <thead>\n",
       "    <tr style=\"text-align: right;\">\n",
       "      <th></th>\n",
       "      <th>id</th>\n",
       "      <th>message_date</th>\n",
       "      <th>user_id</th>\n",
       "    </tr>\n",
       "  </thead>\n",
       "  <tbody>\n",
       "    <tr>\n",
       "      <th>0</th>\n",
       "      <td>1000_0</td>\n",
       "      <td>2018-06-27</td>\n",
       "      <td>1000</td>\n",
       "    </tr>\n",
       "    <tr>\n",
       "      <th>1</th>\n",
       "      <td>1000_1</td>\n",
       "      <td>2018-10-08</td>\n",
       "      <td>1000</td>\n",
       "    </tr>\n",
       "    <tr>\n",
       "      <th>2</th>\n",
       "      <td>1000_2</td>\n",
       "      <td>2018-08-04</td>\n",
       "      <td>1000</td>\n",
       "    </tr>\n",
       "  </tbody>\n",
       "</table>\n",
       "</div>"
      ],
      "text/plain": [
       "       id message_date  user_id\n",
       "0  1000_0   2018-06-27     1000\n",
       "1  1000_1   2018-10-08     1000\n",
       "2  1000_2   2018-08-04     1000"
      ]
     },
     "metadata": {},
     "output_type": "display_data"
    },
    {
     "name": "stdout",
     "output_type": "stream",
     "text": [
      "--------------------------------------------------\n",
      "<class 'pandas.core.frame.DataFrame'>\n",
      "RangeIndex: 123036 entries, 0 to 123035\n",
      "Data columns (total 3 columns):\n",
      " #   Column        Non-Null Count   Dtype         \n",
      "---  ------        --------------   -----         \n",
      " 0   id            123036 non-null  object        \n",
      " 1   message_date  123036 non-null  datetime64[ns]\n",
      " 2   user_id       123036 non-null  int64         \n",
      "dtypes: datetime64[ns](1), int64(1), object(1)\n",
      "memory usage: 2.8+ MB\n",
      "--------------------------------------------------\n"
     ]
    },
    {
     "data": {
      "text/html": [
       "<div>\n",
       "<style scoped>\n",
       "    .dataframe tbody tr th:only-of-type {\n",
       "        vertical-align: middle;\n",
       "    }\n",
       "\n",
       "    .dataframe tbody tr th {\n",
       "        vertical-align: top;\n",
       "    }\n",
       "\n",
       "    .dataframe thead th {\n",
       "        text-align: right;\n",
       "    }\n",
       "</style>\n",
       "<table border=\"1\" class=\"dataframe\">\n",
       "  <thead>\n",
       "    <tr style=\"text-align: right;\">\n",
       "      <th></th>\n",
       "      <th>id</th>\n",
       "      <th>message_date</th>\n",
       "      <th>user_id</th>\n",
       "    </tr>\n",
       "  </thead>\n",
       "  <tbody>\n",
       "    <tr>\n",
       "      <th>count</th>\n",
       "      <td>123036</td>\n",
       "      <td>123036</td>\n",
       "      <td>123036.000000</td>\n",
       "    </tr>\n",
       "    <tr>\n",
       "      <th>unique</th>\n",
       "      <td>123036</td>\n",
       "      <td>364</td>\n",
       "      <td>NaN</td>\n",
       "    </tr>\n",
       "    <tr>\n",
       "      <th>top</th>\n",
       "      <td>1000_0</td>\n",
       "      <td>2018-12-31 00:00:00</td>\n",
       "      <td>NaN</td>\n",
       "    </tr>\n",
       "    <tr>\n",
       "      <th>freq</th>\n",
       "      <td>1</td>\n",
       "      <td>859</td>\n",
       "      <td>NaN</td>\n",
       "    </tr>\n",
       "    <tr>\n",
       "      <th>first</th>\n",
       "      <td>NaN</td>\n",
       "      <td>2018-01-02 00:00:00</td>\n",
       "      <td>NaN</td>\n",
       "    </tr>\n",
       "    <tr>\n",
       "      <th>last</th>\n",
       "      <td>NaN</td>\n",
       "      <td>2018-12-31 00:00:00</td>\n",
       "      <td>NaN</td>\n",
       "    </tr>\n",
       "    <tr>\n",
       "      <th>mean</th>\n",
       "      <td>NaN</td>\n",
       "      <td>NaN</td>\n",
       "      <td>1256.989410</td>\n",
       "    </tr>\n",
       "    <tr>\n",
       "      <th>std</th>\n",
       "      <td>NaN</td>\n",
       "      <td>NaN</td>\n",
       "      <td>143.523967</td>\n",
       "    </tr>\n",
       "    <tr>\n",
       "      <th>min</th>\n",
       "      <td>NaN</td>\n",
       "      <td>NaN</td>\n",
       "      <td>1000.000000</td>\n",
       "    </tr>\n",
       "    <tr>\n",
       "      <th>25%</th>\n",
       "      <td>NaN</td>\n",
       "      <td>NaN</td>\n",
       "      <td>1134.000000</td>\n",
       "    </tr>\n",
       "    <tr>\n",
       "      <th>50%</th>\n",
       "      <td>NaN</td>\n",
       "      <td>NaN</td>\n",
       "      <td>1271.000000</td>\n",
       "    </tr>\n",
       "    <tr>\n",
       "      <th>75%</th>\n",
       "      <td>NaN</td>\n",
       "      <td>NaN</td>\n",
       "      <td>1381.000000</td>\n",
       "    </tr>\n",
       "    <tr>\n",
       "      <th>max</th>\n",
       "      <td>NaN</td>\n",
       "      <td>NaN</td>\n",
       "      <td>1499.000000</td>\n",
       "    </tr>\n",
       "  </tbody>\n",
       "</table>\n",
       "</div>"
      ],
      "text/plain": [
       "            id         message_date        user_id\n",
       "count   123036               123036  123036.000000\n",
       "unique  123036                  364            NaN\n",
       "top     1000_0  2018-12-31 00:00:00            NaN\n",
       "freq         1                  859            NaN\n",
       "first      NaN  2018-01-02 00:00:00            NaN\n",
       "last       NaN  2018-12-31 00:00:00            NaN\n",
       "mean       NaN                  NaN    1256.989410\n",
       "std        NaN                  NaN     143.523967\n",
       "min        NaN                  NaN    1000.000000\n",
       "25%        NaN                  NaN    1134.000000\n",
       "50%        NaN                  NaN    1271.000000\n",
       "75%        NaN                  NaN    1381.000000\n",
       "max        NaN                  NaN    1499.000000"
      ]
     },
     "metadata": {},
     "output_type": "display_data"
    },
    {
     "name": "stdout",
     "output_type": "stream",
     "text": [
      "--------------------------------------------------\n",
      "Количество явных дубликатов: 0\n"
     ]
    }
   ],
   "source": [
    "df_info(messages)"
   ]
  },
  {
   "cell_type": "code",
   "execution_count": 7,
   "id": "e3e700dc",
   "metadata": {},
   "outputs": [
    {
     "data": {
      "text/html": [
       "<div>\n",
       "<style scoped>\n",
       "    .dataframe tbody tr th:only-of-type {\n",
       "        vertical-align: middle;\n",
       "    }\n",
       "\n",
       "    .dataframe tbody tr th {\n",
       "        vertical-align: top;\n",
       "    }\n",
       "\n",
       "    .dataframe thead th {\n",
       "        text-align: right;\n",
       "    }\n",
       "</style>\n",
       "<table border=\"1\" class=\"dataframe\">\n",
       "  <thead>\n",
       "    <tr style=\"text-align: right;\">\n",
       "      <th></th>\n",
       "      <th>messages_included</th>\n",
       "      <th>mb_per_month_included</th>\n",
       "      <th>minutes_included</th>\n",
       "      <th>rub_monthly_fee</th>\n",
       "      <th>rub_per_gb</th>\n",
       "      <th>rub_per_message</th>\n",
       "      <th>rub_per_minute</th>\n",
       "      <th>tariff_name</th>\n",
       "    </tr>\n",
       "  </thead>\n",
       "  <tbody>\n",
       "    <tr>\n",
       "      <th>0</th>\n",
       "      <td>50</td>\n",
       "      <td>15360</td>\n",
       "      <td>500</td>\n",
       "      <td>550</td>\n",
       "      <td>200</td>\n",
       "      <td>3</td>\n",
       "      <td>3</td>\n",
       "      <td>smart</td>\n",
       "    </tr>\n",
       "    <tr>\n",
       "      <th>1</th>\n",
       "      <td>1000</td>\n",
       "      <td>30720</td>\n",
       "      <td>3000</td>\n",
       "      <td>1950</td>\n",
       "      <td>150</td>\n",
       "      <td>1</td>\n",
       "      <td>1</td>\n",
       "      <td>ultra</td>\n",
       "    </tr>\n",
       "  </tbody>\n",
       "</table>\n",
       "</div>"
      ],
      "text/plain": [
       "   messages_included  mb_per_month_included  minutes_included  \\\n",
       "0                 50                  15360               500   \n",
       "1               1000                  30720              3000   \n",
       "\n",
       "   rub_monthly_fee  rub_per_gb  rub_per_message  rub_per_minute tariff_name  \n",
       "0              550         200                3               3       smart  \n",
       "1             1950         150                1               1       ultra  "
      ]
     },
     "metadata": {},
     "output_type": "display_data"
    },
    {
     "name": "stdout",
     "output_type": "stream",
     "text": [
      "--------------------------------------------------\n",
      "<class 'pandas.core.frame.DataFrame'>\n",
      "RangeIndex: 2 entries, 0 to 1\n",
      "Data columns (total 8 columns):\n",
      " #   Column                 Non-Null Count  Dtype \n",
      "---  ------                 --------------  ----- \n",
      " 0   messages_included      2 non-null      int64 \n",
      " 1   mb_per_month_included  2 non-null      int64 \n",
      " 2   minutes_included       2 non-null      int64 \n",
      " 3   rub_monthly_fee        2 non-null      int64 \n",
      " 4   rub_per_gb             2 non-null      int64 \n",
      " 5   rub_per_message        2 non-null      int64 \n",
      " 6   rub_per_minute         2 non-null      int64 \n",
      " 7   tariff_name            2 non-null      object\n",
      "dtypes: int64(7), object(1)\n",
      "memory usage: 256.0+ bytes\n",
      "--------------------------------------------------\n"
     ]
    },
    {
     "data": {
      "text/html": [
       "<div>\n",
       "<style scoped>\n",
       "    .dataframe tbody tr th:only-of-type {\n",
       "        vertical-align: middle;\n",
       "    }\n",
       "\n",
       "    .dataframe tbody tr th {\n",
       "        vertical-align: top;\n",
       "    }\n",
       "\n",
       "    .dataframe thead th {\n",
       "        text-align: right;\n",
       "    }\n",
       "</style>\n",
       "<table border=\"1\" class=\"dataframe\">\n",
       "  <thead>\n",
       "    <tr style=\"text-align: right;\">\n",
       "      <th></th>\n",
       "      <th>messages_included</th>\n",
       "      <th>mb_per_month_included</th>\n",
       "      <th>minutes_included</th>\n",
       "      <th>rub_monthly_fee</th>\n",
       "      <th>rub_per_gb</th>\n",
       "      <th>rub_per_message</th>\n",
       "      <th>rub_per_minute</th>\n",
       "      <th>tariff_name</th>\n",
       "    </tr>\n",
       "  </thead>\n",
       "  <tbody>\n",
       "    <tr>\n",
       "      <th>count</th>\n",
       "      <td>2.000000</td>\n",
       "      <td>2.000000</td>\n",
       "      <td>2.000000</td>\n",
       "      <td>2.000000</td>\n",
       "      <td>2.000000</td>\n",
       "      <td>2.000000</td>\n",
       "      <td>2.000000</td>\n",
       "      <td>2</td>\n",
       "    </tr>\n",
       "    <tr>\n",
       "      <th>unique</th>\n",
       "      <td>NaN</td>\n",
       "      <td>NaN</td>\n",
       "      <td>NaN</td>\n",
       "      <td>NaN</td>\n",
       "      <td>NaN</td>\n",
       "      <td>NaN</td>\n",
       "      <td>NaN</td>\n",
       "      <td>2</td>\n",
       "    </tr>\n",
       "    <tr>\n",
       "      <th>top</th>\n",
       "      <td>NaN</td>\n",
       "      <td>NaN</td>\n",
       "      <td>NaN</td>\n",
       "      <td>NaN</td>\n",
       "      <td>NaN</td>\n",
       "      <td>NaN</td>\n",
       "      <td>NaN</td>\n",
       "      <td>smart</td>\n",
       "    </tr>\n",
       "    <tr>\n",
       "      <th>freq</th>\n",
       "      <td>NaN</td>\n",
       "      <td>NaN</td>\n",
       "      <td>NaN</td>\n",
       "      <td>NaN</td>\n",
       "      <td>NaN</td>\n",
       "      <td>NaN</td>\n",
       "      <td>NaN</td>\n",
       "      <td>1</td>\n",
       "    </tr>\n",
       "    <tr>\n",
       "      <th>mean</th>\n",
       "      <td>525.000000</td>\n",
       "      <td>23040.000000</td>\n",
       "      <td>1750.000000</td>\n",
       "      <td>1250.000000</td>\n",
       "      <td>175.000000</td>\n",
       "      <td>2.000000</td>\n",
       "      <td>2.000000</td>\n",
       "      <td>NaN</td>\n",
       "    </tr>\n",
       "    <tr>\n",
       "      <th>std</th>\n",
       "      <td>671.751442</td>\n",
       "      <td>10861.160159</td>\n",
       "      <td>1767.766953</td>\n",
       "      <td>989.949494</td>\n",
       "      <td>35.355339</td>\n",
       "      <td>1.414214</td>\n",
       "      <td>1.414214</td>\n",
       "      <td>NaN</td>\n",
       "    </tr>\n",
       "    <tr>\n",
       "      <th>min</th>\n",
       "      <td>50.000000</td>\n",
       "      <td>15360.000000</td>\n",
       "      <td>500.000000</td>\n",
       "      <td>550.000000</td>\n",
       "      <td>150.000000</td>\n",
       "      <td>1.000000</td>\n",
       "      <td>1.000000</td>\n",
       "      <td>NaN</td>\n",
       "    </tr>\n",
       "    <tr>\n",
       "      <th>25%</th>\n",
       "      <td>287.500000</td>\n",
       "      <td>19200.000000</td>\n",
       "      <td>1125.000000</td>\n",
       "      <td>900.000000</td>\n",
       "      <td>162.500000</td>\n",
       "      <td>1.500000</td>\n",
       "      <td>1.500000</td>\n",
       "      <td>NaN</td>\n",
       "    </tr>\n",
       "    <tr>\n",
       "      <th>50%</th>\n",
       "      <td>525.000000</td>\n",
       "      <td>23040.000000</td>\n",
       "      <td>1750.000000</td>\n",
       "      <td>1250.000000</td>\n",
       "      <td>175.000000</td>\n",
       "      <td>2.000000</td>\n",
       "      <td>2.000000</td>\n",
       "      <td>NaN</td>\n",
       "    </tr>\n",
       "    <tr>\n",
       "      <th>75%</th>\n",
       "      <td>762.500000</td>\n",
       "      <td>26880.000000</td>\n",
       "      <td>2375.000000</td>\n",
       "      <td>1600.000000</td>\n",
       "      <td>187.500000</td>\n",
       "      <td>2.500000</td>\n",
       "      <td>2.500000</td>\n",
       "      <td>NaN</td>\n",
       "    </tr>\n",
       "    <tr>\n",
       "      <th>max</th>\n",
       "      <td>1000.000000</td>\n",
       "      <td>30720.000000</td>\n",
       "      <td>3000.000000</td>\n",
       "      <td>1950.000000</td>\n",
       "      <td>200.000000</td>\n",
       "      <td>3.000000</td>\n",
       "      <td>3.000000</td>\n",
       "      <td>NaN</td>\n",
       "    </tr>\n",
       "  </tbody>\n",
       "</table>\n",
       "</div>"
      ],
      "text/plain": [
       "        messages_included  mb_per_month_included  minutes_included  \\\n",
       "count            2.000000               2.000000          2.000000   \n",
       "unique                NaN                    NaN               NaN   \n",
       "top                   NaN                    NaN               NaN   \n",
       "freq                  NaN                    NaN               NaN   \n",
       "mean           525.000000           23040.000000       1750.000000   \n",
       "std            671.751442           10861.160159       1767.766953   \n",
       "min             50.000000           15360.000000        500.000000   \n",
       "25%            287.500000           19200.000000       1125.000000   \n",
       "50%            525.000000           23040.000000       1750.000000   \n",
       "75%            762.500000           26880.000000       2375.000000   \n",
       "max           1000.000000           30720.000000       3000.000000   \n",
       "\n",
       "        rub_monthly_fee  rub_per_gb  rub_per_message  rub_per_minute  \\\n",
       "count          2.000000    2.000000         2.000000        2.000000   \n",
       "unique              NaN         NaN              NaN             NaN   \n",
       "top                 NaN         NaN              NaN             NaN   \n",
       "freq                NaN         NaN              NaN             NaN   \n",
       "mean        1250.000000  175.000000         2.000000        2.000000   \n",
       "std          989.949494   35.355339         1.414214        1.414214   \n",
       "min          550.000000  150.000000         1.000000        1.000000   \n",
       "25%          900.000000  162.500000         1.500000        1.500000   \n",
       "50%         1250.000000  175.000000         2.000000        2.000000   \n",
       "75%         1600.000000  187.500000         2.500000        2.500000   \n",
       "max         1950.000000  200.000000         3.000000        3.000000   \n",
       "\n",
       "       tariff_name  \n",
       "count            2  \n",
       "unique           2  \n",
       "top          smart  \n",
       "freq             1  \n",
       "mean           NaN  \n",
       "std            NaN  \n",
       "min            NaN  \n",
       "25%            NaN  \n",
       "50%            NaN  \n",
       "75%            NaN  \n",
       "max            NaN  "
      ]
     },
     "metadata": {},
     "output_type": "display_data"
    },
    {
     "name": "stdout",
     "output_type": "stream",
     "text": [
      "--------------------------------------------------\n",
      "Количество явных дубликатов: 0\n"
     ]
    }
   ],
   "source": [
    "df_info(tariffs)"
   ]
  },
  {
   "cell_type": "code",
   "execution_count": 8,
   "id": "ba854593",
   "metadata": {},
   "outputs": [
    {
     "data": {
      "text/html": [
       "<div>\n",
       "<style scoped>\n",
       "    .dataframe tbody tr th:only-of-type {\n",
       "        vertical-align: middle;\n",
       "    }\n",
       "\n",
       "    .dataframe tbody tr th {\n",
       "        vertical-align: top;\n",
       "    }\n",
       "\n",
       "    .dataframe thead th {\n",
       "        text-align: right;\n",
       "    }\n",
       "</style>\n",
       "<table border=\"1\" class=\"dataframe\">\n",
       "  <thead>\n",
       "    <tr style=\"text-align: right;\">\n",
       "      <th></th>\n",
       "      <th>user_id</th>\n",
       "      <th>age</th>\n",
       "      <th>churn_date</th>\n",
       "      <th>city</th>\n",
       "      <th>first_name</th>\n",
       "      <th>last_name</th>\n",
       "      <th>reg_date</th>\n",
       "      <th>tariff</th>\n",
       "    </tr>\n",
       "  </thead>\n",
       "  <tbody>\n",
       "    <tr>\n",
       "      <th>0</th>\n",
       "      <td>1000</td>\n",
       "      <td>52</td>\n",
       "      <td>NaT</td>\n",
       "      <td>Краснодар</td>\n",
       "      <td>Рафаил</td>\n",
       "      <td>Верещагин</td>\n",
       "      <td>2018-05-25</td>\n",
       "      <td>ultra</td>\n",
       "    </tr>\n",
       "    <tr>\n",
       "      <th>1</th>\n",
       "      <td>1001</td>\n",
       "      <td>41</td>\n",
       "      <td>NaT</td>\n",
       "      <td>Москва</td>\n",
       "      <td>Иван</td>\n",
       "      <td>Ежов</td>\n",
       "      <td>2018-11-01</td>\n",
       "      <td>smart</td>\n",
       "    </tr>\n",
       "    <tr>\n",
       "      <th>2</th>\n",
       "      <td>1002</td>\n",
       "      <td>59</td>\n",
       "      <td>NaT</td>\n",
       "      <td>Стерлитамак</td>\n",
       "      <td>Евгений</td>\n",
       "      <td>Абрамович</td>\n",
       "      <td>2018-06-17</td>\n",
       "      <td>smart</td>\n",
       "    </tr>\n",
       "  </tbody>\n",
       "</table>\n",
       "</div>"
      ],
      "text/plain": [
       "   user_id  age churn_date         city first_name  last_name   reg_date  \\\n",
       "0     1000   52        NaT    Краснодар     Рафаил  Верещагин 2018-05-25   \n",
       "1     1001   41        NaT       Москва       Иван       Ежов 2018-11-01   \n",
       "2     1002   59        NaT  Стерлитамак    Евгений  Абрамович 2018-06-17   \n",
       "\n",
       "  tariff  \n",
       "0  ultra  \n",
       "1  smart  \n",
       "2  smart  "
      ]
     },
     "metadata": {},
     "output_type": "display_data"
    },
    {
     "name": "stdout",
     "output_type": "stream",
     "text": [
      "--------------------------------------------------\n",
      "<class 'pandas.core.frame.DataFrame'>\n",
      "RangeIndex: 500 entries, 0 to 499\n",
      "Data columns (total 8 columns):\n",
      " #   Column      Non-Null Count  Dtype         \n",
      "---  ------      --------------  -----         \n",
      " 0   user_id     500 non-null    int64         \n",
      " 1   age         500 non-null    int64         \n",
      " 2   churn_date  38 non-null     datetime64[ns]\n",
      " 3   city        500 non-null    object        \n",
      " 4   first_name  500 non-null    object        \n",
      " 5   last_name   500 non-null    object        \n",
      " 6   reg_date    500 non-null    datetime64[ns]\n",
      " 7   tariff      500 non-null    object        \n",
      "dtypes: datetime64[ns](2), int64(2), object(4)\n",
      "memory usage: 31.4+ KB\n",
      "--------------------------------------------------\n"
     ]
    },
    {
     "data": {
      "text/html": [
       "<div>\n",
       "<style scoped>\n",
       "    .dataframe tbody tr th:only-of-type {\n",
       "        vertical-align: middle;\n",
       "    }\n",
       "\n",
       "    .dataframe tbody tr th {\n",
       "        vertical-align: top;\n",
       "    }\n",
       "\n",
       "    .dataframe thead th {\n",
       "        text-align: right;\n",
       "    }\n",
       "</style>\n",
       "<table border=\"1\" class=\"dataframe\">\n",
       "  <thead>\n",
       "    <tr style=\"text-align: right;\">\n",
       "      <th></th>\n",
       "      <th>user_id</th>\n",
       "      <th>age</th>\n",
       "      <th>churn_date</th>\n",
       "      <th>city</th>\n",
       "      <th>first_name</th>\n",
       "      <th>last_name</th>\n",
       "      <th>reg_date</th>\n",
       "      <th>tariff</th>\n",
       "    </tr>\n",
       "  </thead>\n",
       "  <tbody>\n",
       "    <tr>\n",
       "      <th>count</th>\n",
       "      <td>500.000000</td>\n",
       "      <td>500.00000</td>\n",
       "      <td>38</td>\n",
       "      <td>500</td>\n",
       "      <td>500</td>\n",
       "      <td>500</td>\n",
       "      <td>500</td>\n",
       "      <td>500</td>\n",
       "    </tr>\n",
       "    <tr>\n",
       "      <th>unique</th>\n",
       "      <td>NaN</td>\n",
       "      <td>NaN</td>\n",
       "      <td>33</td>\n",
       "      <td>76</td>\n",
       "      <td>246</td>\n",
       "      <td>419</td>\n",
       "      <td>270</td>\n",
       "      <td>2</td>\n",
       "    </tr>\n",
       "    <tr>\n",
       "      <th>top</th>\n",
       "      <td>NaN</td>\n",
       "      <td>NaN</td>\n",
       "      <td>2018-12-03 00:00:00</td>\n",
       "      <td>Москва</td>\n",
       "      <td>Радим</td>\n",
       "      <td>Андреенко</td>\n",
       "      <td>2018-05-28 00:00:00</td>\n",
       "      <td>smart</td>\n",
       "    </tr>\n",
       "    <tr>\n",
       "      <th>freq</th>\n",
       "      <td>NaN</td>\n",
       "      <td>NaN</td>\n",
       "      <td>2</td>\n",
       "      <td>99</td>\n",
       "      <td>6</td>\n",
       "      <td>5</td>\n",
       "      <td>8</td>\n",
       "      <td>351</td>\n",
       "    </tr>\n",
       "    <tr>\n",
       "      <th>first</th>\n",
       "      <td>NaN</td>\n",
       "      <td>NaN</td>\n",
       "      <td>2018-08-17 00:00:00</td>\n",
       "      <td>NaN</td>\n",
       "      <td>NaN</td>\n",
       "      <td>NaN</td>\n",
       "      <td>2018-01-01 00:00:00</td>\n",
       "      <td>NaN</td>\n",
       "    </tr>\n",
       "    <tr>\n",
       "      <th>last</th>\n",
       "      <td>NaN</td>\n",
       "      <td>NaN</td>\n",
       "      <td>2018-12-30 00:00:00</td>\n",
       "      <td>NaN</td>\n",
       "      <td>NaN</td>\n",
       "      <td>NaN</td>\n",
       "      <td>2018-12-31 00:00:00</td>\n",
       "      <td>NaN</td>\n",
       "    </tr>\n",
       "    <tr>\n",
       "      <th>mean</th>\n",
       "      <td>1249.500000</td>\n",
       "      <td>46.58800</td>\n",
       "      <td>NaN</td>\n",
       "      <td>NaN</td>\n",
       "      <td>NaN</td>\n",
       "      <td>NaN</td>\n",
       "      <td>NaN</td>\n",
       "      <td>NaN</td>\n",
       "    </tr>\n",
       "    <tr>\n",
       "      <th>std</th>\n",
       "      <td>144.481833</td>\n",
       "      <td>16.66763</td>\n",
       "      <td>NaN</td>\n",
       "      <td>NaN</td>\n",
       "      <td>NaN</td>\n",
       "      <td>NaN</td>\n",
       "      <td>NaN</td>\n",
       "      <td>NaN</td>\n",
       "    </tr>\n",
       "    <tr>\n",
       "      <th>min</th>\n",
       "      <td>1000.000000</td>\n",
       "      <td>18.00000</td>\n",
       "      <td>NaN</td>\n",
       "      <td>NaN</td>\n",
       "      <td>NaN</td>\n",
       "      <td>NaN</td>\n",
       "      <td>NaN</td>\n",
       "      <td>NaN</td>\n",
       "    </tr>\n",
       "    <tr>\n",
       "      <th>25%</th>\n",
       "      <td>1124.750000</td>\n",
       "      <td>32.00000</td>\n",
       "      <td>NaN</td>\n",
       "      <td>NaN</td>\n",
       "      <td>NaN</td>\n",
       "      <td>NaN</td>\n",
       "      <td>NaN</td>\n",
       "      <td>NaN</td>\n",
       "    </tr>\n",
       "    <tr>\n",
       "      <th>50%</th>\n",
       "      <td>1249.500000</td>\n",
       "      <td>46.00000</td>\n",
       "      <td>NaN</td>\n",
       "      <td>NaN</td>\n",
       "      <td>NaN</td>\n",
       "      <td>NaN</td>\n",
       "      <td>NaN</td>\n",
       "      <td>NaN</td>\n",
       "    </tr>\n",
       "    <tr>\n",
       "      <th>75%</th>\n",
       "      <td>1374.250000</td>\n",
       "      <td>62.00000</td>\n",
       "      <td>NaN</td>\n",
       "      <td>NaN</td>\n",
       "      <td>NaN</td>\n",
       "      <td>NaN</td>\n",
       "      <td>NaN</td>\n",
       "      <td>NaN</td>\n",
       "    </tr>\n",
       "    <tr>\n",
       "      <th>max</th>\n",
       "      <td>1499.000000</td>\n",
       "      <td>75.00000</td>\n",
       "      <td>NaN</td>\n",
       "      <td>NaN</td>\n",
       "      <td>NaN</td>\n",
       "      <td>NaN</td>\n",
       "      <td>NaN</td>\n",
       "      <td>NaN</td>\n",
       "    </tr>\n",
       "  </tbody>\n",
       "</table>\n",
       "</div>"
      ],
      "text/plain": [
       "            user_id        age           churn_date    city first_name  \\\n",
       "count    500.000000  500.00000                   38     500        500   \n",
       "unique          NaN        NaN                   33      76        246   \n",
       "top             NaN        NaN  2018-12-03 00:00:00  Москва      Радим   \n",
       "freq            NaN        NaN                    2      99          6   \n",
       "first           NaN        NaN  2018-08-17 00:00:00     NaN        NaN   \n",
       "last            NaN        NaN  2018-12-30 00:00:00     NaN        NaN   \n",
       "mean    1249.500000   46.58800                  NaN     NaN        NaN   \n",
       "std      144.481833   16.66763                  NaN     NaN        NaN   \n",
       "min     1000.000000   18.00000                  NaN     NaN        NaN   \n",
       "25%     1124.750000   32.00000                  NaN     NaN        NaN   \n",
       "50%     1249.500000   46.00000                  NaN     NaN        NaN   \n",
       "75%     1374.250000   62.00000                  NaN     NaN        NaN   \n",
       "max     1499.000000   75.00000                  NaN     NaN        NaN   \n",
       "\n",
       "        last_name             reg_date tariff  \n",
       "count         500                  500    500  \n",
       "unique        419                  270      2  \n",
       "top     Андреенко  2018-05-28 00:00:00  smart  \n",
       "freq            5                    8    351  \n",
       "first         NaN  2018-01-01 00:00:00    NaN  \n",
       "last          NaN  2018-12-31 00:00:00    NaN  \n",
       "mean          NaN                  NaN    NaN  \n",
       "std           NaN                  NaN    NaN  \n",
       "min           NaN                  NaN    NaN  \n",
       "25%           NaN                  NaN    NaN  \n",
       "50%           NaN                  NaN    NaN  \n",
       "75%           NaN                  NaN    NaN  \n",
       "max           NaN                  NaN    NaN  "
      ]
     },
     "metadata": {},
     "output_type": "display_data"
    },
    {
     "name": "stdout",
     "output_type": "stream",
     "text": [
      "--------------------------------------------------\n",
      "Количество явных дубликатов: 0\n"
     ]
    }
   ],
   "source": [
    "df_info(users)"
   ]
  },
  {
   "cell_type": "markdown",
   "id": "86524334",
   "metadata": {},
   "source": [
    "### Вывод:\n",
    "Как видно, столбец **`churn_date`** датасета `users` содержит **462** пропущенных значения, из описания известно, что если значение пропущено, то тариф ещё действовал на момент выгрузки данных, поэтому я оставляю пропуски как есть. \n",
    "В столбце **`duration`** датасета `calls` и столбце **`mb_used`** датасета `internet` присутствуют нулевые значения. По звонкам, вероятно, абонент не дозвонился или на том конце отклонили звонок. А по интернет трафику, возможно в этот день пользователь не пользовался интернетом из-за ненадобности или плохой сети. \n",
    "\n",
    "Названия столбцов внесены корректно (кроме internet['Unnamed: 0'], но т.к. он мне не пригодится, не трогаю его), типы данных соответствует содержимому столбцов. Данные изначально очень хорошего качества."
   ]
  },
  {
   "cell_type": "markdown",
   "id": "ac4e6060",
   "metadata": {},
   "source": [
    "## Шаг 2. Подготовка данных."
   ]
  },
  {
   "cell_type": "markdown",
   "id": "ccb64c1a",
   "metadata": {},
   "source": [
    "### Создаю столбцы с месяцами."
   ]
  },
  {
   "cell_type": "code",
   "execution_count": 9,
   "id": "abc43734",
   "metadata": {},
   "outputs": [],
   "source": [
    "calls['month'] = calls['call_date'].dt.month\n",
    "messages['month'] = messages[\"message_date\"].dt.month\n",
    "internet['month'] = internet['session_date'].dt.month"
   ]
  },
  {
   "cell_type": "markdown",
   "id": "1c9a3c81",
   "metadata": {},
   "source": [
    "Готово. Для дальнейшего анализа понадобится группировка по месяцам."
   ]
  },
  {
   "cell_type": "markdown",
   "id": "9cd1d6a0",
   "metadata": {},
   "source": [
    "### Округляю звонки в большую сторону и в датасете с интернет-трафиком перевожу мб в гб."
   ]
  },
  {
   "cell_type": "code",
   "execution_count": 10,
   "id": "45b404c6",
   "metadata": {},
   "outputs": [],
   "source": [
    "calls['duration'] = np.ceil(calls['duration'])\n",
    "internet['gb_used'] = (internet['mb_used'] / 1024)"
   ]
  },
  {
   "cell_type": "markdown",
   "id": "3a8fb51d",
   "metadata": {},
   "source": [
    "Готово. Это также понадобится для дальнейшего анализа."
   ]
  },
  {
   "cell_type": "markdown",
   "id": "e2f8438e",
   "metadata": {},
   "source": [
    "### Считаю для каждого пользователя количество сделанных звонков и израсходованных минут разговора по месяцам."
   ]
  },
  {
   "cell_type": "code",
   "execution_count": 11,
   "id": "1d5df23d",
   "metadata": {
    "scrolled": true
   },
   "outputs": [
    {
     "data": {
      "text/html": [
       "<div>\n",
       "<style scoped>\n",
       "    .dataframe tbody tr th:only-of-type {\n",
       "        vertical-align: middle;\n",
       "    }\n",
       "\n",
       "    .dataframe tbody tr th {\n",
       "        vertical-align: top;\n",
       "    }\n",
       "\n",
       "    .dataframe thead th {\n",
       "        text-align: right;\n",
       "    }\n",
       "</style>\n",
       "<table border=\"1\" class=\"dataframe\">\n",
       "  <thead>\n",
       "    <tr style=\"text-align: right;\">\n",
       "      <th></th>\n",
       "      <th></th>\n",
       "      <th>calls_duration</th>\n",
       "      <th>calls_used</th>\n",
       "    </tr>\n",
       "    <tr>\n",
       "      <th>user_id</th>\n",
       "      <th>month</th>\n",
       "      <th></th>\n",
       "      <th></th>\n",
       "    </tr>\n",
       "  </thead>\n",
       "  <tbody>\n",
       "    <tr>\n",
       "      <th rowspan=\"8\" valign=\"top\">1000</th>\n",
       "      <th>5</th>\n",
       "      <td>159.0</td>\n",
       "      <td>22</td>\n",
       "    </tr>\n",
       "    <tr>\n",
       "      <th>6</th>\n",
       "      <td>172.0</td>\n",
       "      <td>43</td>\n",
       "    </tr>\n",
       "    <tr>\n",
       "      <th>7</th>\n",
       "      <td>340.0</td>\n",
       "      <td>47</td>\n",
       "    </tr>\n",
       "    <tr>\n",
       "      <th>8</th>\n",
       "      <td>408.0</td>\n",
       "      <td>52</td>\n",
       "    </tr>\n",
       "    <tr>\n",
       "      <th>9</th>\n",
       "      <td>466.0</td>\n",
       "      <td>58</td>\n",
       "    </tr>\n",
       "    <tr>\n",
       "      <th>10</th>\n",
       "      <td>350.0</td>\n",
       "      <td>57</td>\n",
       "    </tr>\n",
       "    <tr>\n",
       "      <th>11</th>\n",
       "      <td>338.0</td>\n",
       "      <td>43</td>\n",
       "    </tr>\n",
       "    <tr>\n",
       "      <th>12</th>\n",
       "      <td>333.0</td>\n",
       "      <td>46</td>\n",
       "    </tr>\n",
       "    <tr>\n",
       "      <th rowspan=\"2\" valign=\"top\">1001</th>\n",
       "      <th>11</th>\n",
       "      <td>430.0</td>\n",
       "      <td>59</td>\n",
       "    </tr>\n",
       "    <tr>\n",
       "      <th>12</th>\n",
       "      <td>414.0</td>\n",
       "      <td>63</td>\n",
       "    </tr>\n",
       "  </tbody>\n",
       "</table>\n",
       "</div>"
      ],
      "text/plain": [
       "               calls_duration  calls_used\n",
       "user_id month                            \n",
       "1000    5               159.0          22\n",
       "        6               172.0          43\n",
       "        7               340.0          47\n",
       "        8               408.0          52\n",
       "        9               466.0          58\n",
       "        10              350.0          57\n",
       "        11              338.0          43\n",
       "        12              333.0          46\n",
       "1001    11              430.0          59\n",
       "        12              414.0          63"
      ]
     },
     "execution_count": 11,
     "metadata": {},
     "output_type": "execute_result"
    }
   ],
   "source": [
    "calls_pivot = calls.pivot_table(index=['user_id', 'month'], values='duration', aggfunc=['sum', 'count'])\n",
    "calls_pivot.reset_index()\n",
    "calls_pivot.columns = ['calls_duration', 'calls_used']\n",
    "calls_pivot.head(10)"
   ]
  },
  {
   "cell_type": "markdown",
   "id": "9cf0e7a1",
   "metadata": {},
   "source": [
    "### Считаю для каждого пользователя количество отправленных сообщений по месяцам."
   ]
  },
  {
   "cell_type": "code",
   "execution_count": 12,
   "id": "dbb58720",
   "metadata": {
    "scrolled": true
   },
   "outputs": [
    {
     "data": {
      "text/html": [
       "<div>\n",
       "<style scoped>\n",
       "    .dataframe tbody tr th:only-of-type {\n",
       "        vertical-align: middle;\n",
       "    }\n",
       "\n",
       "    .dataframe tbody tr th {\n",
       "        vertical-align: top;\n",
       "    }\n",
       "\n",
       "    .dataframe thead th {\n",
       "        text-align: right;\n",
       "    }\n",
       "</style>\n",
       "<table border=\"1\" class=\"dataframe\">\n",
       "  <thead>\n",
       "    <tr style=\"text-align: right;\">\n",
       "      <th></th>\n",
       "      <th></th>\n",
       "      <th>messages_used</th>\n",
       "    </tr>\n",
       "    <tr>\n",
       "      <th>user_id</th>\n",
       "      <th>month</th>\n",
       "      <th></th>\n",
       "    </tr>\n",
       "  </thead>\n",
       "  <tbody>\n",
       "    <tr>\n",
       "      <th rowspan=\"8\" valign=\"top\">1000</th>\n",
       "      <th>5</th>\n",
       "      <td>22</td>\n",
       "    </tr>\n",
       "    <tr>\n",
       "      <th>6</th>\n",
       "      <td>60</td>\n",
       "    </tr>\n",
       "    <tr>\n",
       "      <th>7</th>\n",
       "      <td>75</td>\n",
       "    </tr>\n",
       "    <tr>\n",
       "      <th>8</th>\n",
       "      <td>81</td>\n",
       "    </tr>\n",
       "    <tr>\n",
       "      <th>9</th>\n",
       "      <td>57</td>\n",
       "    </tr>\n",
       "    <tr>\n",
       "      <th>10</th>\n",
       "      <td>73</td>\n",
       "    </tr>\n",
       "    <tr>\n",
       "      <th>11</th>\n",
       "      <td>58</td>\n",
       "    </tr>\n",
       "    <tr>\n",
       "      <th>12</th>\n",
       "      <td>70</td>\n",
       "    </tr>\n",
       "    <tr>\n",
       "      <th rowspan=\"2\" valign=\"top\">1002</th>\n",
       "      <th>6</th>\n",
       "      <td>4</td>\n",
       "    </tr>\n",
       "    <tr>\n",
       "      <th>7</th>\n",
       "      <td>11</td>\n",
       "    </tr>\n",
       "  </tbody>\n",
       "</table>\n",
       "</div>"
      ],
      "text/plain": [
       "               messages_used\n",
       "user_id month               \n",
       "1000    5                 22\n",
       "        6                 60\n",
       "        7                 75\n",
       "        8                 81\n",
       "        9                 57\n",
       "        10                73\n",
       "        11                58\n",
       "        12                70\n",
       "1002    6                  4\n",
       "        7                 11"
      ]
     },
     "execution_count": 12,
     "metadata": {},
     "output_type": "execute_result"
    }
   ],
   "source": [
    "messages_pivot = messages.pivot_table(index=['user_id', 'month'], values='id', aggfunc='count')\n",
    "messages_pivot.reset_index()\n",
    "messages_pivot.columns=['messages_used']\n",
    "messages_pivot.head(10)"
   ]
  },
  {
   "cell_type": "markdown",
   "id": "50271cbf",
   "metadata": {},
   "source": [
    "### Считаю для каждого пользователя объем израсходованного интернет-трафика по месяцам.\n",
    "И так как общая сумма гигабайт за месяц округляется в большую сторону, я их также округляю."
   ]
  },
  {
   "cell_type": "code",
   "execution_count": 13,
   "id": "ea5d9f60",
   "metadata": {
    "scrolled": true
   },
   "outputs": [
    {
     "data": {
      "text/html": [
       "<div>\n",
       "<style scoped>\n",
       "    .dataframe tbody tr th:only-of-type {\n",
       "        vertical-align: middle;\n",
       "    }\n",
       "\n",
       "    .dataframe tbody tr th {\n",
       "        vertical-align: top;\n",
       "    }\n",
       "\n",
       "    .dataframe thead th {\n",
       "        text-align: right;\n",
       "    }\n",
       "</style>\n",
       "<table border=\"1\" class=\"dataframe\">\n",
       "  <thead>\n",
       "    <tr style=\"text-align: right;\">\n",
       "      <th></th>\n",
       "      <th></th>\n",
       "      <th>gb_used</th>\n",
       "    </tr>\n",
       "    <tr>\n",
       "      <th>user_id</th>\n",
       "      <th>month</th>\n",
       "      <th></th>\n",
       "    </tr>\n",
       "  </thead>\n",
       "  <tbody>\n",
       "    <tr>\n",
       "      <th rowspan=\"8\" valign=\"top\">1000</th>\n",
       "      <th>5</th>\n",
       "      <td>3.0</td>\n",
       "    </tr>\n",
       "    <tr>\n",
       "      <th>6</th>\n",
       "      <td>23.0</td>\n",
       "    </tr>\n",
       "    <tr>\n",
       "      <th>7</th>\n",
       "      <td>14.0</td>\n",
       "    </tr>\n",
       "    <tr>\n",
       "      <th>8</th>\n",
       "      <td>14.0</td>\n",
       "    </tr>\n",
       "    <tr>\n",
       "      <th>9</th>\n",
       "      <td>15.0</td>\n",
       "    </tr>\n",
       "    <tr>\n",
       "      <th>10</th>\n",
       "      <td>15.0</td>\n",
       "    </tr>\n",
       "    <tr>\n",
       "      <th>11</th>\n",
       "      <td>15.0</td>\n",
       "    </tr>\n",
       "    <tr>\n",
       "      <th>12</th>\n",
       "      <td>10.0</td>\n",
       "    </tr>\n",
       "    <tr>\n",
       "      <th rowspan=\"2\" valign=\"top\">1001</th>\n",
       "      <th>11</th>\n",
       "      <td>18.0</td>\n",
       "    </tr>\n",
       "    <tr>\n",
       "      <th>12</th>\n",
       "      <td>14.0</td>\n",
       "    </tr>\n",
       "  </tbody>\n",
       "</table>\n",
       "</div>"
      ],
      "text/plain": [
       "               gb_used\n",
       "user_id month         \n",
       "1000    5          3.0\n",
       "        6         23.0\n",
       "        7         14.0\n",
       "        8         14.0\n",
       "        9         15.0\n",
       "        10        15.0\n",
       "        11        15.0\n",
       "        12        10.0\n",
       "1001    11        18.0\n",
       "        12        14.0"
      ]
     },
     "execution_count": 13,
     "metadata": {},
     "output_type": "execute_result"
    }
   ],
   "source": [
    "internet_pivot = internet.pivot_table(index=['user_id', 'month'], values='gb_used', aggfunc=['sum'])\n",
    "internet_pivot.columns = ['gb_used']\n",
    "internet_pivot.reset_index()\n",
    "internet_pivot['gb_used'] = np.ceil(internet_pivot['gb_used'])\n",
    "internet_pivot.head(10)"
   ]
  },
  {
   "cell_type": "markdown",
   "id": "4e81a141",
   "metadata": {},
   "source": [
    "### Объединяю данные о звонках, сообщениях и интернет-трафике в одну сводную таблицу.\n",
    "Также добавляю город и название тарифа."
   ]
  },
  {
   "cell_type": "code",
   "execution_count": 14,
   "id": "9377d70e",
   "metadata": {
    "scrolled": true
   },
   "outputs": [
    {
     "data": {
      "text/html": [
       "<div>\n",
       "<style scoped>\n",
       "    .dataframe tbody tr th:only-of-type {\n",
       "        vertical-align: middle;\n",
       "    }\n",
       "\n",
       "    .dataframe tbody tr th {\n",
       "        vertical-align: top;\n",
       "    }\n",
       "\n",
       "    .dataframe thead th {\n",
       "        text-align: right;\n",
       "    }\n",
       "</style>\n",
       "<table border=\"1\" class=\"dataframe\">\n",
       "  <thead>\n",
       "    <tr style=\"text-align: right;\">\n",
       "      <th></th>\n",
       "      <th>user_id</th>\n",
       "      <th>month</th>\n",
       "      <th>calls_duration</th>\n",
       "      <th>calls_used</th>\n",
       "      <th>gb_used</th>\n",
       "      <th>messages_used</th>\n",
       "      <th>tariff</th>\n",
       "      <th>city</th>\n",
       "    </tr>\n",
       "  </thead>\n",
       "  <tbody>\n",
       "    <tr>\n",
       "      <th>0</th>\n",
       "      <td>1000</td>\n",
       "      <td>5</td>\n",
       "      <td>159.0</td>\n",
       "      <td>22.0</td>\n",
       "      <td>3.0</td>\n",
       "      <td>22.0</td>\n",
       "      <td>ultra</td>\n",
       "      <td>Краснодар</td>\n",
       "    </tr>\n",
       "    <tr>\n",
       "      <th>1</th>\n",
       "      <td>1000</td>\n",
       "      <td>6</td>\n",
       "      <td>172.0</td>\n",
       "      <td>43.0</td>\n",
       "      <td>23.0</td>\n",
       "      <td>60.0</td>\n",
       "      <td>ultra</td>\n",
       "      <td>Краснодар</td>\n",
       "    </tr>\n",
       "    <tr>\n",
       "      <th>2</th>\n",
       "      <td>1000</td>\n",
       "      <td>7</td>\n",
       "      <td>340.0</td>\n",
       "      <td>47.0</td>\n",
       "      <td>14.0</td>\n",
       "      <td>75.0</td>\n",
       "      <td>ultra</td>\n",
       "      <td>Краснодар</td>\n",
       "    </tr>\n",
       "    <tr>\n",
       "      <th>3</th>\n",
       "      <td>1000</td>\n",
       "      <td>8</td>\n",
       "      <td>408.0</td>\n",
       "      <td>52.0</td>\n",
       "      <td>14.0</td>\n",
       "      <td>81.0</td>\n",
       "      <td>ultra</td>\n",
       "      <td>Краснодар</td>\n",
       "    </tr>\n",
       "    <tr>\n",
       "      <th>4</th>\n",
       "      <td>1000</td>\n",
       "      <td>9</td>\n",
       "      <td>466.0</td>\n",
       "      <td>58.0</td>\n",
       "      <td>15.0</td>\n",
       "      <td>57.0</td>\n",
       "      <td>ultra</td>\n",
       "      <td>Краснодар</td>\n",
       "    </tr>\n",
       "    <tr>\n",
       "      <th>5</th>\n",
       "      <td>1000</td>\n",
       "      <td>10</td>\n",
       "      <td>350.0</td>\n",
       "      <td>57.0</td>\n",
       "      <td>15.0</td>\n",
       "      <td>73.0</td>\n",
       "      <td>ultra</td>\n",
       "      <td>Краснодар</td>\n",
       "    </tr>\n",
       "    <tr>\n",
       "      <th>6</th>\n",
       "      <td>1000</td>\n",
       "      <td>11</td>\n",
       "      <td>338.0</td>\n",
       "      <td>43.0</td>\n",
       "      <td>15.0</td>\n",
       "      <td>58.0</td>\n",
       "      <td>ultra</td>\n",
       "      <td>Краснодар</td>\n",
       "    </tr>\n",
       "    <tr>\n",
       "      <th>7</th>\n",
       "      <td>1000</td>\n",
       "      <td>12</td>\n",
       "      <td>333.0</td>\n",
       "      <td>46.0</td>\n",
       "      <td>10.0</td>\n",
       "      <td>70.0</td>\n",
       "      <td>ultra</td>\n",
       "      <td>Краснодар</td>\n",
       "    </tr>\n",
       "    <tr>\n",
       "      <th>8</th>\n",
       "      <td>1001</td>\n",
       "      <td>11</td>\n",
       "      <td>430.0</td>\n",
       "      <td>59.0</td>\n",
       "      <td>18.0</td>\n",
       "      <td>NaN</td>\n",
       "      <td>smart</td>\n",
       "      <td>Москва</td>\n",
       "    </tr>\n",
       "    <tr>\n",
       "      <th>9</th>\n",
       "      <td>1001</td>\n",
       "      <td>12</td>\n",
       "      <td>414.0</td>\n",
       "      <td>63.0</td>\n",
       "      <td>14.0</td>\n",
       "      <td>NaN</td>\n",
       "      <td>smart</td>\n",
       "      <td>Москва</td>\n",
       "    </tr>\n",
       "  </tbody>\n",
       "</table>\n",
       "</div>"
      ],
      "text/plain": [
       "   user_id  month  calls_duration  calls_used  gb_used  messages_used tariff  \\\n",
       "0     1000      5           159.0        22.0      3.0           22.0  ultra   \n",
       "1     1000      6           172.0        43.0     23.0           60.0  ultra   \n",
       "2     1000      7           340.0        47.0     14.0           75.0  ultra   \n",
       "3     1000      8           408.0        52.0     14.0           81.0  ultra   \n",
       "4     1000      9           466.0        58.0     15.0           57.0  ultra   \n",
       "5     1000     10           350.0        57.0     15.0           73.0  ultra   \n",
       "6     1000     11           338.0        43.0     15.0           58.0  ultra   \n",
       "7     1000     12           333.0        46.0     10.0           70.0  ultra   \n",
       "8     1001     11           430.0        59.0     18.0            NaN  smart   \n",
       "9     1001     12           414.0        63.0     14.0            NaN  smart   \n",
       "\n",
       "        city  \n",
       "0  Краснодар  \n",
       "1  Краснодар  \n",
       "2  Краснодар  \n",
       "3  Краснодар  \n",
       "4  Краснодар  \n",
       "5  Краснодар  \n",
       "6  Краснодар  \n",
       "7  Краснодар  \n",
       "8     Москва  \n",
       "9     Москва  "
      ]
     },
     "execution_count": 14,
     "metadata": {},
     "output_type": "execute_result"
    }
   ],
   "source": [
    "calls_and_internet = calls_pivot.merge(internet_pivot, on=['user_id', 'month'], how='outer')\n",
    "calls_internet_messages = calls_and_internet.merge(messages_pivot, on=['user_id', 'month'], how='outer')\n",
    "all_services = calls_internet_messages.pivot_table(index=['user_id', 'month'])\n",
    "all_services = all_services.reset_index()\n",
    "all_services = all_services.merge(users[['user_id','tariff']], on = 'user_id')\n",
    "all_services = all_services.merge(users[['user_id','city']], on = 'user_id')\n",
    "all_services.head(10)"
   ]
  },
  {
   "cell_type": "markdown",
   "id": "0e36a389",
   "metadata": {},
   "source": [
    "### Считаю помесячную выручку с каждого пользователя.\n",
    "Для этого вычитаю бесплатный лимит из суммарного количества звонков, сообщений и интернет-трафика, остаток умножаю на значение из тарифного плана и прибавляю абонентскую плату, соответствующую тарифному плану. Пишу функцию `total_costs_func`, которая все это сделает и добавит результат в столбец **`total_costs`**."
   ]
  },
  {
   "cell_type": "code",
   "execution_count": 15,
   "id": "b46abeb3",
   "metadata": {},
   "outputs": [
    {
     "data": {
      "text/html": [
       "<div>\n",
       "<style scoped>\n",
       "    .dataframe tbody tr th:only-of-type {\n",
       "        vertical-align: middle;\n",
       "    }\n",
       "\n",
       "    .dataframe tbody tr th {\n",
       "        vertical-align: top;\n",
       "    }\n",
       "\n",
       "    .dataframe thead th {\n",
       "        text-align: right;\n",
       "    }\n",
       "</style>\n",
       "<table border=\"1\" class=\"dataframe\">\n",
       "  <thead>\n",
       "    <tr style=\"text-align: right;\">\n",
       "      <th></th>\n",
       "      <th>user_id</th>\n",
       "      <th>month</th>\n",
       "      <th>calls_duration</th>\n",
       "      <th>calls_used</th>\n",
       "      <th>gb_used</th>\n",
       "      <th>messages_used</th>\n",
       "      <th>tariff</th>\n",
       "      <th>city</th>\n",
       "      <th>total_costs</th>\n",
       "    </tr>\n",
       "  </thead>\n",
       "  <tbody>\n",
       "    <tr>\n",
       "      <th>0</th>\n",
       "      <td>1000</td>\n",
       "      <td>5</td>\n",
       "      <td>159.0</td>\n",
       "      <td>22.0</td>\n",
       "      <td>3.0</td>\n",
       "      <td>22.0</td>\n",
       "      <td>ultra</td>\n",
       "      <td>Краснодар</td>\n",
       "      <td>1950.0</td>\n",
       "    </tr>\n",
       "    <tr>\n",
       "      <th>1</th>\n",
       "      <td>1000</td>\n",
       "      <td>6</td>\n",
       "      <td>172.0</td>\n",
       "      <td>43.0</td>\n",
       "      <td>23.0</td>\n",
       "      <td>60.0</td>\n",
       "      <td>ultra</td>\n",
       "      <td>Краснодар</td>\n",
       "      <td>1950.0</td>\n",
       "    </tr>\n",
       "    <tr>\n",
       "      <th>2</th>\n",
       "      <td>1000</td>\n",
       "      <td>7</td>\n",
       "      <td>340.0</td>\n",
       "      <td>47.0</td>\n",
       "      <td>14.0</td>\n",
       "      <td>75.0</td>\n",
       "      <td>ultra</td>\n",
       "      <td>Краснодар</td>\n",
       "      <td>1950.0</td>\n",
       "    </tr>\n",
       "    <tr>\n",
       "      <th>3</th>\n",
       "      <td>1000</td>\n",
       "      <td>8</td>\n",
       "      <td>408.0</td>\n",
       "      <td>52.0</td>\n",
       "      <td>14.0</td>\n",
       "      <td>81.0</td>\n",
       "      <td>ultra</td>\n",
       "      <td>Краснодар</td>\n",
       "      <td>1950.0</td>\n",
       "    </tr>\n",
       "    <tr>\n",
       "      <th>4</th>\n",
       "      <td>1000</td>\n",
       "      <td>9</td>\n",
       "      <td>466.0</td>\n",
       "      <td>58.0</td>\n",
       "      <td>15.0</td>\n",
       "      <td>57.0</td>\n",
       "      <td>ultra</td>\n",
       "      <td>Краснодар</td>\n",
       "      <td>1950.0</td>\n",
       "    </tr>\n",
       "    <tr>\n",
       "      <th>5</th>\n",
       "      <td>1000</td>\n",
       "      <td>10</td>\n",
       "      <td>350.0</td>\n",
       "      <td>57.0</td>\n",
       "      <td>15.0</td>\n",
       "      <td>73.0</td>\n",
       "      <td>ultra</td>\n",
       "      <td>Краснодар</td>\n",
       "      <td>1950.0</td>\n",
       "    </tr>\n",
       "    <tr>\n",
       "      <th>6</th>\n",
       "      <td>1000</td>\n",
       "      <td>11</td>\n",
       "      <td>338.0</td>\n",
       "      <td>43.0</td>\n",
       "      <td>15.0</td>\n",
       "      <td>58.0</td>\n",
       "      <td>ultra</td>\n",
       "      <td>Краснодар</td>\n",
       "      <td>1950.0</td>\n",
       "    </tr>\n",
       "    <tr>\n",
       "      <th>7</th>\n",
       "      <td>1000</td>\n",
       "      <td>12</td>\n",
       "      <td>333.0</td>\n",
       "      <td>46.0</td>\n",
       "      <td>10.0</td>\n",
       "      <td>70.0</td>\n",
       "      <td>ultra</td>\n",
       "      <td>Краснодар</td>\n",
       "      <td>1950.0</td>\n",
       "    </tr>\n",
       "    <tr>\n",
       "      <th>8</th>\n",
       "      <td>1001</td>\n",
       "      <td>11</td>\n",
       "      <td>430.0</td>\n",
       "      <td>59.0</td>\n",
       "      <td>18.0</td>\n",
       "      <td>NaN</td>\n",
       "      <td>smart</td>\n",
       "      <td>Москва</td>\n",
       "      <td>1150.0</td>\n",
       "    </tr>\n",
       "    <tr>\n",
       "      <th>9</th>\n",
       "      <td>1001</td>\n",
       "      <td>12</td>\n",
       "      <td>414.0</td>\n",
       "      <td>63.0</td>\n",
       "      <td>14.0</td>\n",
       "      <td>NaN</td>\n",
       "      <td>smart</td>\n",
       "      <td>Москва</td>\n",
       "      <td>550.0</td>\n",
       "    </tr>\n",
       "  </tbody>\n",
       "</table>\n",
       "</div>"
      ],
      "text/plain": [
       "   user_id  month  calls_duration  calls_used  gb_used  messages_used tariff  \\\n",
       "0     1000      5           159.0        22.0      3.0           22.0  ultra   \n",
       "1     1000      6           172.0        43.0     23.0           60.0  ultra   \n",
       "2     1000      7           340.0        47.0     14.0           75.0  ultra   \n",
       "3     1000      8           408.0        52.0     14.0           81.0  ultra   \n",
       "4     1000      9           466.0        58.0     15.0           57.0  ultra   \n",
       "5     1000     10           350.0        57.0     15.0           73.0  ultra   \n",
       "6     1000     11           338.0        43.0     15.0           58.0  ultra   \n",
       "7     1000     12           333.0        46.0     10.0           70.0  ultra   \n",
       "8     1001     11           430.0        59.0     18.0            NaN  smart   \n",
       "9     1001     12           414.0        63.0     14.0            NaN  smart   \n",
       "\n",
       "        city  total_costs  \n",
       "0  Краснодар       1950.0  \n",
       "1  Краснодар       1950.0  \n",
       "2  Краснодар       1950.0  \n",
       "3  Краснодар       1950.0  \n",
       "4  Краснодар       1950.0  \n",
       "5  Краснодар       1950.0  \n",
       "6  Краснодар       1950.0  \n",
       "7  Краснодар       1950.0  \n",
       "8     Москва       1150.0  \n",
       "9     Москва        550.0  "
      ]
     },
     "execution_count": 15,
     "metadata": {},
     "output_type": "execute_result"
    }
   ],
   "source": [
    "def total_costs_func(row):\n",
    "    \n",
    "    if row['tariff'] == 'smart':\n",
    "        \n",
    "        if row['messages_used'] > tariffs.loc[0]['messages_included']:\n",
    "            messages_extra = (row['messages_used'] - tariffs.loc[0]['messages_included']) * tariffs.loc[0]['rub_per_message']\n",
    "        else:\n",
    "            messages_extra = 0\n",
    "            \n",
    "        if row['calls_used'] > tariffs.loc[0]['minutes_included']:\n",
    "            calls_extra = (row['calls_used'] - tariffs.loc[0]['minutes_included']) * tariffs.loc[0]['rub_per_minute']\n",
    "        else:\n",
    "            calls_extra = 0\n",
    "            \n",
    "        if row['gb_used'] > (tariffs.loc[0]['mb_per_month_included'] / 1024):\n",
    "            gb_extra = (row['gb_used'] - (tariffs.loc[0]['mb_per_month_included'] / 1024)) * tariffs.loc[0]['rub_per_gb']\n",
    "        else:\n",
    "            gb_extra = 0\n",
    "            \n",
    "        total_cost = messages_extra + calls_extra + gb_extra + tariffs.loc[0]['rub_monthly_fee']\n",
    "        \n",
    "    if row['tariff'] == 'ultra':\n",
    "        \n",
    "        if row['messages_used'] > tariffs.loc[1]['messages_included']:\n",
    "            messages_extra = (row['messages_used'] - tariffs.loc[1]['messages_included']) * tariffs.loc[1]['rub_per_message']\n",
    "        else:\n",
    "            messages_extra = 0\n",
    "            \n",
    "        if row['calls_used'] > tariffs.loc[1]['minutes_included']:\n",
    "            calls_extra = (row['calls_used'] - tariffs.loc[1]['minutes_included']) * tariffs.loc[1]['rub_per_minute']\n",
    "        else:\n",
    "            calls_extra = 0\n",
    "            \n",
    "        if row['gb_used'] > (tariffs.loc[1]['mb_per_month_included'] / 1024):\n",
    "            gb_extra = (row['gb_used'] - (tariffs.loc[1]['mb_per_month_included'] / 1024)) * tariffs.loc[1]['rub_per_gb']\n",
    "        else:\n",
    "            gb_extra = 0\n",
    "            \n",
    "        total_cost = messages_extra + calls_extra + gb_extra + tariffs.loc[1]['rub_monthly_fee']\n",
    "        \n",
    "    return total_cost\n",
    " \n",
    "all_services['total_costs'] = all_services.apply(total_costs_func, axis=1)\n",
    "all_services.head(10)"
   ]
  },
  {
   "cell_type": "markdown",
   "id": "12fa0148",
   "metadata": {
    "scrolled": true
   },
   "source": [
    "Отлично, можно приступать к анализу."
   ]
  },
  {
   "cell_type": "markdown",
   "id": "afe8b628",
   "metadata": {},
   "source": [
    "## Шаг 3. Анализ данных."
   ]
  },
  {
   "cell_type": "markdown",
   "id": "b2c0b92e",
   "metadata": {},
   "source": [
    "### Считаю для столбцов **`calls_duration`**, **`gb_used`**, **`messages_used`** и **`total_costs`** среднее значение, медианное значение, дисперсию, стандартное отклонение и строю гистограммы."
   ]
  },
  {
   "cell_type": "code",
   "execution_count": 16,
   "id": "a944762e",
   "metadata": {
    "scrolled": false
   },
   "outputs": [
    {
     "data": {
      "text/html": [
       "<div>\n",
       "<style scoped>\n",
       "    .dataframe tbody tr th:only-of-type {\n",
       "        vertical-align: middle;\n",
       "    }\n",
       "\n",
       "    .dataframe tbody tr th {\n",
       "        vertical-align: top;\n",
       "    }\n",
       "\n",
       "    .dataframe thead tr th {\n",
       "        text-align: left;\n",
       "    }\n",
       "\n",
       "    .dataframe thead tr:last-of-type th {\n",
       "        text-align: right;\n",
       "    }\n",
       "</style>\n",
       "<table border=\"1\" class=\"dataframe\">\n",
       "  <thead>\n",
       "    <tr>\n",
       "      <th></th>\n",
       "      <th colspan=\"4\" halign=\"left\">median</th>\n",
       "      <th colspan=\"4\" halign=\"left\">mean</th>\n",
       "      <th colspan=\"4\" halign=\"left\">var</th>\n",
       "      <th colspan=\"4\" halign=\"left\">std</th>\n",
       "    </tr>\n",
       "    <tr>\n",
       "      <th></th>\n",
       "      <th>calls_duration</th>\n",
       "      <th>gb_used</th>\n",
       "      <th>messages_used</th>\n",
       "      <th>total_costs</th>\n",
       "      <th>calls_duration</th>\n",
       "      <th>gb_used</th>\n",
       "      <th>messages_used</th>\n",
       "      <th>total_costs</th>\n",
       "      <th>calls_duration</th>\n",
       "      <th>gb_used</th>\n",
       "      <th>messages_used</th>\n",
       "      <th>total_costs</th>\n",
       "      <th>calls_duration</th>\n",
       "      <th>gb_used</th>\n",
       "      <th>messages_used</th>\n",
       "      <th>total_costs</th>\n",
       "    </tr>\n",
       "    <tr>\n",
       "      <th>tariff</th>\n",
       "      <th></th>\n",
       "      <th></th>\n",
       "      <th></th>\n",
       "      <th></th>\n",
       "      <th></th>\n",
       "      <th></th>\n",
       "      <th></th>\n",
       "      <th></th>\n",
       "      <th></th>\n",
       "      <th></th>\n",
       "      <th></th>\n",
       "      <th></th>\n",
       "      <th></th>\n",
       "      <th></th>\n",
       "      <th></th>\n",
       "      <th></th>\n",
       "    </tr>\n",
       "  </thead>\n",
       "  <tbody>\n",
       "    <tr>\n",
       "      <th>smart</th>\n",
       "      <td>423.0</td>\n",
       "      <td>17.0</td>\n",
       "      <td>34.0</td>\n",
       "      <td>950.0</td>\n",
       "      <td>419.062978</td>\n",
       "      <td>16.336176</td>\n",
       "      <td>38.716441</td>\n",
       "      <td>1165.156572</td>\n",
       "      <td>35844.189551</td>\n",
       "      <td>32.923756</td>\n",
       "      <td>717.594201</td>\n",
       "      <td>548424.313445</td>\n",
       "      <td>189.325618</td>\n",
       "      <td>5.737923</td>\n",
       "      <td>26.787949</td>\n",
       "      <td>740.556759</td>\n",
       "    </tr>\n",
       "    <tr>\n",
       "      <th>ultra</th>\n",
       "      <td>528.0</td>\n",
       "      <td>19.0</td>\n",
       "      <td>51.0</td>\n",
       "      <td>1950.0</td>\n",
       "      <td>545.451104</td>\n",
       "      <td>19.694359</td>\n",
       "      <td>61.161006</td>\n",
       "      <td>2070.152284</td>\n",
       "      <td>94203.418396</td>\n",
       "      <td>94.146734</td>\n",
       "      <td>2109.659183</td>\n",
       "      <td>141516.745079</td>\n",
       "      <td>306.925754</td>\n",
       "      <td>9.702924</td>\n",
       "      <td>45.931026</td>\n",
       "      <td>376.187114</td>\n",
       "    </tr>\n",
       "  </tbody>\n",
       "</table>\n",
       "</div>"
      ],
      "text/plain": [
       "               median                                             mean  \\\n",
       "       calls_duration gb_used messages_used total_costs calls_duration   \n",
       "tariff                                                                   \n",
       "smart           423.0    17.0          34.0       950.0     419.062978   \n",
       "ultra           528.0    19.0          51.0      1950.0     545.451104   \n",
       "\n",
       "                                                        var             \\\n",
       "          gb_used messages_used  total_costs calls_duration    gb_used   \n",
       "tariff                                                                   \n",
       "smart   16.336176     38.716441  1165.156572   35844.189551  32.923756   \n",
       "ultra   19.694359     61.161006  2070.152284   94203.418396  94.146734   \n",
       "\n",
       "                                               std                          \\\n",
       "       messages_used    total_costs calls_duration   gb_used messages_used   \n",
       "tariff                                                                       \n",
       "smart     717.594201  548424.313445     189.325618  5.737923     26.787949   \n",
       "ultra    2109.659183  141516.745079     306.925754  9.702924     45.931026   \n",
       "\n",
       "                    \n",
       "       total_costs  \n",
       "tariff              \n",
       "smart   740.556759  \n",
       "ultra   376.187114  "
      ]
     },
     "execution_count": 16,
     "metadata": {},
     "output_type": "execute_result"
    }
   ],
   "source": [
    "all_services.pivot_table(index = 'tariff', values = [\n",
    "    'calls_duration', \n",
    "    'gb_used', \n",
    "    'messages_used', \n",
    "    'total_costs'\n",
    "], aggfunc = [\n",
    "    'median', \n",
    "    'mean', \n",
    "    'var', \n",
    "    'std'\n",
    "])"
   ]
  },
  {
   "cell_type": "markdown",
   "id": "c3fd8ca3",
   "metadata": {},
   "source": [
    "В среднем пользователи тарифа «Смарт» превышают лимит в основном по объему интернет трафика, а пользователи тарифа «Ультра» лимит не превышают. Тариф «Ультра» в среднем и по медиане приносит примерно на 1000р больше чем тариф «Смарт», несмотря на то, что у тарифа «Смарт» очень большое стандартное отклонение цены (741р), что также говорит о большом разбросе в оплате пользователями."
   ]
  },
  {
   "cell_type": "code",
   "execution_count": 17,
   "id": "a42a2bfa",
   "metadata": {},
   "outputs": [
    {
     "data": {
      "image/png": "[encoded data removed]",
      "text/plain": [
       "<Figure size 720x360 with 1 Axes>"
      ]
     },
     "metadata": {
      "needs_background": "light"
     },
     "output_type": "display_data"
    },
    {
     "data": {
      "image/png": "[encoded data removed]",
      "text/plain": [
       "<Figure size 720x360 with 1 Axes>"
      ]
     },
     "metadata": {
      "needs_background": "light"
     },
     "output_type": "display_data"
    },
    {
     "data": {
      "image/png": "[encoded data removed]",
      "text/plain": [
       "<Figure size 720x360 with 1 Axes>"
      ]
     },
     "metadata": {
      "needs_background": "light"
     },
     "output_type": "display_data"
    },
    {
     "data": {
      "image/png": "[encoded data removed]",
      "text/plain": [
       "<Figure size 720x360 with 1 Axes>"
      ]
     },
     "metadata": {
      "needs_background": "light"
     },
     "output_type": "display_data"
    }
   ],
   "source": [
    "columns=['calls_duration','gb_used','messages_used','total_costs']\n",
    "for column in columns:\n",
    "        all_services.query('tariff == \"smart\"')[column].plot(kind = 'hist', bins = 30, title = column, grid=True, label = 'smart', figsize = (10, 5), legend=True)\n",
    "        all_services.query('tariff == \"ultra\"')[column].plot(kind = 'hist', bins = 30, title = column, grid=True, label = 'ultra', figsize = (10, 5), legend=True, alpha = 0.7)\n",
    "        plt.show()"
   ]
  },
  {
   "cell_type": "markdown",
   "id": "eab8cba5",
   "metadata": {},
   "source": [
    "Как видно пользователи тарифа «Ультра» практически не выходят за рамки тарифа, в то время как более половины пользователей тарифа «Смарт» существенно превышают лимит своего тарифного плана. Почти половине пользователей тарифа «Смарт» не хватает лимита в 500 минут, а вот 3000 минут тарифа «Ультра» всегда хватает с головой. С сообщениями и интернет трафиком дела обстоят примерно так же, только даже среди пользователей тарифа «Ультра», находятся те, кому не хватает лимита в 30 гб, их немного и это единственное за что переплачивают в данном тарифе."
   ]
  },
  {
   "cell_type": "markdown",
   "id": "3105a79e",
   "metadata": {},
   "source": [
    "## Шаг 4. Проверка гипотез.\n",
    "### Первая гипотеза: \n",
    "**H0: Средняя выручка с пользователей тарифов «Ультра» и «Смарт» равны;**\n",
    "\n",
    "**H1: Средняя выручка с пользователей тарифов «Ультра» и «Смарт» различается.**\n",
    "\n",
    "Сравниваю средние выручки двух генеральных совокупностей. Если p-value меньше порогового значения alpha, то отвергаю нулевую гипотезу в пользу альтернативной. Если p-value больше порогового значения alpha, то наоборот."
   ]
  },
  {
   "cell_type": "code",
   "execution_count": 18,
   "id": "5ab1e748",
   "metadata": {},
   "outputs": [],
   "source": [
    "smart_all_services = all_services.query('tariff == \"smart\"')\n",
    "ultra_all_services = all_services.query('tariff == \"ultra\"')"
   ]
  },
  {
   "cell_type": "code",
   "execution_count": 19,
   "id": "836361e5",
   "metadata": {
    "scrolled": true
   },
   "outputs": [
    {
     "name": "stdout",
     "output_type": "stream",
     "text": [
      "Средняя выручка с пользователей тарифов «Ультра»: 2070.15\n",
      "Средняя выручка с пользователей тарифов «Смарт»: 1165.16\n",
      "---------------------------------------------------------\n",
      "p-значение: 1.7908299298705238e-242\n",
      "Отвергаю нулевую гипотезу.\n"
     ]
    }
   ],
   "source": [
    "alpha = .05\n",
    "results = st.ttest_ind(smart_all_services['total_costs'], ultra_all_services['total_costs'])\n",
    "print('Средняя выручка с пользователей тарифов «Ультра»:', round(ultra_all_services['total_costs'].mean(), 2))\n",
    "print('Средняя выручка с пользователей тарифов «Смарт»:', round(smart_all_services['total_costs'].mean(), 2))\n",
    "print('-' * 57)\n",
    "print('p-значение:', results.pvalue)\n",
    "\n",
    "if results.pvalue < alpha:\n",
    "    print('Отвергаю нулевую гипотезу.')\n",
    "else:\n",
    "    print('Не получилось отвергнуть нулевую гипотезу.')"
   ]
  },
  {
   "cell_type": "markdown",
   "id": "1ad084b3",
   "metadata": {},
   "source": [
    "Как видно, средняя выручка от разных тарифов различается."
   ]
  },
  {
   "cell_type": "markdown",
   "id": "666a6736",
   "metadata": {},
   "source": [
    "### Вторая гипотеза: \n",
    "**H0: Средняя выручка с пользователей из Москвы равна выручке с пользователей из других регионов;**\n",
    "\n",
    "**H1: Средняя выручка с пользователей из Москвы отличается от выручки с пользователей из других регионов.**"
   ]
  },
  {
   "cell_type": "code",
   "execution_count": 20,
   "id": "8248c169",
   "metadata": {},
   "outputs": [],
   "source": [
    "moscow_all_services = all_services.query('city == \"Москва\"')\n",
    "others_all_services = all_services.query('city != \"Москва\"')"
   ]
  },
  {
   "cell_type": "code",
   "execution_count": 21,
   "id": "6273a735",
   "metadata": {},
   "outputs": [
    {
     "name": "stdout",
     "output_type": "stream",
     "text": [
      "Дисперсия первой совокупности: 559772.9865129491\n",
      "Дисперсия второй совокупности: 606207.729628442\n"
     ]
    }
   ],
   "source": [
    "print('Дисперсия первой совокупности:', np.var(moscow_all_services['total_costs']))\n",
    "print('Дисперсия второй совокупности:', np.var(others_all_services['total_costs']))"
   ]
  },
  {
   "cell_type": "code",
   "execution_count": 22,
   "id": "6c835da3",
   "metadata": {},
   "outputs": [
    {
     "name": "stdout",
     "output_type": "stream",
     "text": [
      "Средняя выручка с пользователей из Москвы: 1471.94\n",
      "Средняя выручка с пользователей из других регионов: 1435.6\n",
      "----------------------------------------------------------\n",
      "p-значение: 0.2843727016644021\n",
      "Не получилось отвергнуть нулевую гипотезу.\n"
     ]
    }
   ],
   "source": [
    "alpha = .05\n",
    "results = st.ttest_ind(moscow_all_services['total_costs'], others_all_services['total_costs'], equal_var=False)\n",
    "print('Средняя выручка с пользователей из Москвы:', round(moscow_all_services['total_costs'].mean(), 2))\n",
    "print('Средняя выручка с пользователей из других регионов:', round(others_all_services['total_costs'].mean(), 2))\n",
    "print('-' * 58)\n",
    "print('p-значение:', results.pvalue)\n",
    "\n",
    "if results.pvalue < alpha:\n",
    "    print('Отвергаю нулевую гипотезу.')\n",
    "else:\n",
    "    print('Не получилось отвергнуть нулевую гипотезу.')"
   ]
  },
  {
   "cell_type": "markdown",
   "id": "eac824f1",
   "metadata": {},
   "source": [
    "Полученное значение p-value говорит о том, что вероятность получить такое или большее различие случайно примерно 28%. Это слишком большая вероятность, чтобы делать вывод о значимом различии между средней выручкой пользователей из Москвы и пользователей из других регионов."
   ]
  },
  {
   "cell_type": "markdown",
   "id": "fa43f3cf",
   "metadata": {},
   "source": [
    "## Общий вывод."
   ]
  },
  {
   "cell_type": "markdown",
   "id": "4ceeb391",
   "metadata": {},
   "source": [
    "Полученные от оператора мобильной связи данные, очень хорошего качества, без аномалий и артефактов. Я посчитал по месяцам все ресурсы используемые каждым пользователем, объединил все в одну сводную таблицу и посчитал помесячную выручку с каждого пользователя. После чего приступил к анализу. \n",
    "\n",
    "Посчитал для звонков, интернет трафика, сообщений и полной суммы трат пользователя по месяцам, среднее значение, медианное значение, дисперсию и стандартное отклонение, а также построил гистограммы. \n",
    "Выяснилось что пользователи тарифа **«Ультра»** практически не выходят за рамки тарифа, в то время как более половины пользователей тарифа **«Смарт»** существенно превышают лимит своего тарифного плана. Почти половине пользователей тарифа **«Смарт»** не хватает лимита в 500 минут, а вот 3000 минут тарифа **«Ультра»** всегда хватает с головой. С сообщениями и интернет трафиком дела обстоят примерно так же, только даже среди пользователей тарифа **«Ультра»**, находятся те, кому не хватает лимита в 30 гб, их немного и это единственное за что переплачивают в данном тарифе. В основном, пользователи тарифа **«Смарт»** превышают лимит по объему интернет трафика, а пользователи тарифа **«Ультра»** лимит не превышают. \n",
    "\n",
    "Тариф **«Ультра»** в среднем и по медиане приносит примерно на 1000р больше чем тариф **«Смарт»**, несмотря на то, что у тарифа **«Смарт»** очень большое стандартное отклонение цены (741р), что также говорит о большом разбросе в оплате пользователями.\n",
    "Также в ходе анализа я проверил две гипотезы и дополнительно опроверг, что средняя выручка пользователей разных тарифов равна, а так же с большой вероятностью можно сказать, что средняя выручка пользователей из Москвы равна выручке пользователей из других городов.\n",
    "### Рекомендации:\n",
    "В среднем тариф **«Ультра»** приносит большую выручку, чем тариф **«Смарт»** Я рекомендую скорректировать рекламный бюджет в его пользу."
   ]
  }
 ],
 "metadata": {
  "ExecuteTimeLog": [
   {
    "duration": 104,
    "start_time": "2022-05-14T03:48:42.761Z"
   },
   {
    "duration": 0,
    "start_time": "2022-05-14T03:48:42.867Z"
   },
   {
    "duration": 0,
    "start_time": "2022-05-14T03:48:42.869Z"
   },
   {
    "duration": 0,
    "start_time": "2022-05-14T03:48:42.870Z"
   },
   {
    "duration": 0,
    "start_time": "2022-05-14T03:48:42.872Z"
   },
   {
    "duration": 0,
    "start_time": "2022-05-14T03:48:42.874Z"
   },
   {
    "duration": 0,
    "start_time": "2022-05-14T03:48:42.875Z"
   },
   {
    "duration": 0,
    "start_time": "2022-05-14T03:48:42.876Z"
   },
   {
    "duration": 0,
    "start_time": "2022-05-14T03:48:42.878Z"
   },
   {
    "duration": 0,
    "start_time": "2022-05-14T03:48:42.879Z"
   },
   {
    "duration": 0,
    "start_time": "2022-05-14T03:48:42.880Z"
   },
   {
    "duration": 0,
    "start_time": "2022-05-14T03:48:42.881Z"
   },
   {
    "duration": 0,
    "start_time": "2022-05-14T03:48:42.883Z"
   },
   {
    "duration": 0,
    "start_time": "2022-05-14T03:48:42.884Z"
   },
   {
    "duration": 0,
    "start_time": "2022-05-14T03:48:42.886Z"
   },
   {
    "duration": 0,
    "start_time": "2022-05-14T03:48:42.888Z"
   },
   {
    "duration": 0,
    "start_time": "2022-05-14T03:48:42.889Z"
   },
   {
    "duration": 100,
    "start_time": "2022-05-14T03:48:47.688Z"
   },
   {
    "duration": 2041,
    "start_time": "2022-05-14T03:51:27.266Z"
   },
   {
    "duration": 98,
    "start_time": "2022-05-14T03:51:29.310Z"
   },
   {
    "duration": 135,
    "start_time": "2022-05-14T03:51:29.410Z"
   },
   {
    "duration": 5,
    "start_time": "2022-05-14T03:51:29.552Z"
   },
   {
    "duration": 128,
    "start_time": "2022-05-14T03:51:29.560Z"
   },
   {
    "duration": 77,
    "start_time": "2022-05-14T03:51:29.691Z"
   },
   {
    "duration": 15,
    "start_time": "2022-05-14T03:51:29.770Z"
   },
   {
    "duration": 96,
    "start_time": "2022-05-14T03:51:29.788Z"
   },
   {
    "duration": 39,
    "start_time": "2022-05-14T03:51:29.886Z"
   },
   {
    "duration": 58,
    "start_time": "2022-05-14T03:51:29.929Z"
   },
   {
    "duration": 76,
    "start_time": "2022-05-14T03:51:29.990Z"
   },
   {
    "duration": 139,
    "start_time": "2022-05-14T03:51:30.069Z"
   },
   {
    "duration": 75,
    "start_time": "2022-05-14T03:51:30.211Z"
   },
   {
    "duration": 1562,
    "start_time": "2022-05-14T03:51:30.289Z"
   },
   {
    "duration": 15,
    "start_time": "2022-05-14T03:51:31.854Z"
   },
   {
    "duration": 20,
    "start_time": "2022-05-14T03:51:31.871Z"
   },
   {
    "duration": 20,
    "start_time": "2022-05-14T04:06:48.593Z"
   },
   {
    "duration": 12,
    "start_time": "2022-05-14T04:07:01.414Z"
   },
   {
    "duration": 27,
    "start_time": "2022-05-14T04:09:53.565Z"
   },
   {
    "duration": 148,
    "start_time": "2022-05-14T04:18:33.946Z"
   },
   {
    "duration": 96,
    "start_time": "2022-05-14T04:19:43.009Z"
   },
   {
    "duration": 83,
    "start_time": "2022-05-14T08:47:52.108Z"
   },
   {
    "duration": 73,
    "start_time": "2022-05-14T08:47:58.432Z"
   },
   {
    "duration": 82,
    "start_time": "2022-05-14T08:48:05.209Z"
   },
   {
    "duration": 101,
    "start_time": "2022-05-14T08:48:45.002Z"
   },
   {
    "duration": 1523,
    "start_time": "2022-05-14T09:02:32.842Z"
   },
   {
    "duration": 64,
    "start_time": "2022-05-14T09:02:34.367Z"
   },
   {
    "duration": 85,
    "start_time": "2022-05-14T09:02:34.432Z"
   },
   {
    "duration": 3,
    "start_time": "2022-05-14T09:02:34.519Z"
   },
   {
    "duration": 85,
    "start_time": "2022-05-14T09:02:34.523Z"
   },
   {
    "duration": 47,
    "start_time": "2022-05-14T09:02:34.610Z"
   },
   {
    "duration": 17,
    "start_time": "2022-05-14T09:02:34.658Z"
   },
   {
    "duration": 13,
    "start_time": "2022-05-14T09:02:34.676Z"
   },
   {
    "duration": 53,
    "start_time": "2022-05-14T09:02:34.690Z"
   },
   {
    "duration": 47,
    "start_time": "2022-05-14T09:02:34.745Z"
   },
   {
    "duration": 30,
    "start_time": "2022-05-14T09:02:34.793Z"
   },
   {
    "duration": 51,
    "start_time": "2022-05-14T09:02:34.825Z"
   },
   {
    "duration": 68,
    "start_time": "2022-05-14T09:02:34.878Z"
   },
   {
    "duration": 46,
    "start_time": "2022-05-14T09:02:34.948Z"
   },
   {
    "duration": 866,
    "start_time": "2022-05-14T09:02:34.995Z"
   },
   {
    "duration": 15,
    "start_time": "2022-05-14T09:02:35.862Z"
   },
   {
    "duration": 11,
    "start_time": "2022-05-14T09:02:35.879Z"
   },
   {
    "duration": 9,
    "start_time": "2022-05-14T09:03:10.087Z"
   },
   {
    "duration": 6,
    "start_time": "2022-05-14T09:03:26.085Z"
   },
   {
    "duration": 10,
    "start_time": "2022-05-14T09:03:28.669Z"
   },
   {
    "duration": 1398,
    "start_time": "2022-05-14T09:03:37.271Z"
   },
   {
    "duration": 68,
    "start_time": "2022-05-14T09:03:38.671Z"
   },
   {
    "duration": 82,
    "start_time": "2022-05-14T09:03:38.740Z"
   },
   {
    "duration": 3,
    "start_time": "2022-05-14T09:03:38.824Z"
   },
   {
    "duration": 90,
    "start_time": "2022-05-14T09:03:38.829Z"
   },
   {
    "duration": 70,
    "start_time": "2022-05-14T09:03:38.921Z"
   },
   {
    "duration": 10,
    "start_time": "2022-05-14T09:03:38.992Z"
   },
   {
    "duration": 10,
    "start_time": "2022-05-14T09:03:39.003Z"
   },
   {
    "duration": 10,
    "start_time": "2022-05-14T09:03:39.014Z"
   },
   {
    "duration": 94,
    "start_time": "2022-05-14T09:03:39.026Z"
   },
   {
    "duration": 28,
    "start_time": "2022-05-14T09:03:39.121Z"
   },
   {
    "duration": 46,
    "start_time": "2022-05-14T09:03:39.150Z"
   },
   {
    "duration": 36,
    "start_time": "2022-05-14T09:03:39.198Z"
   },
   {
    "duration": 95,
    "start_time": "2022-05-14T09:03:39.236Z"
   },
   {
    "duration": 42,
    "start_time": "2022-05-14T09:03:39.332Z"
   },
   {
    "duration": 888,
    "start_time": "2022-05-14T09:03:39.375Z"
   },
   {
    "duration": 14,
    "start_time": "2022-05-14T09:03:40.264Z"
   },
   {
    "duration": 14,
    "start_time": "2022-05-14T09:03:40.279Z"
   },
   {
    "duration": 1317,
    "start_time": "2022-05-14T09:05:09.729Z"
   },
   {
    "duration": 65,
    "start_time": "2022-05-14T09:05:11.048Z"
   },
   {
    "duration": 85,
    "start_time": "2022-05-14T09:05:11.114Z"
   },
   {
    "duration": 3,
    "start_time": "2022-05-14T09:05:11.201Z"
   },
   {
    "duration": 84,
    "start_time": "2022-05-14T09:05:11.205Z"
   },
   {
    "duration": 46,
    "start_time": "2022-05-14T09:05:11.291Z"
   },
   {
    "duration": 9,
    "start_time": "2022-05-14T09:05:11.338Z"
   },
   {
    "duration": 24,
    "start_time": "2022-05-14T09:05:11.348Z"
   },
   {
    "duration": 8,
    "start_time": "2022-05-14T09:05:11.374Z"
   },
   {
    "duration": 56,
    "start_time": "2022-05-14T09:05:11.385Z"
   },
   {
    "duration": 44,
    "start_time": "2022-05-14T09:05:11.443Z"
   },
   {
    "duration": 28,
    "start_time": "2022-05-14T09:05:11.489Z"
   },
   {
    "duration": 35,
    "start_time": "2022-05-14T09:05:11.519Z"
   },
   {
    "duration": 82,
    "start_time": "2022-05-14T09:05:11.555Z"
   },
   {
    "duration": 46,
    "start_time": "2022-05-14T09:05:11.639Z"
   },
   {
    "duration": 866,
    "start_time": "2022-05-14T09:05:11.686Z"
   },
   {
    "duration": 17,
    "start_time": "2022-05-14T09:05:12.554Z"
   },
   {
    "duration": 11,
    "start_time": "2022-05-14T09:05:12.572Z"
   },
   {
    "duration": 95,
    "start_time": "2022-05-14T09:19:52.969Z"
   },
   {
    "duration": 8,
    "start_time": "2022-05-14T09:21:18.648Z"
   },
   {
    "duration": 5,
    "start_time": "2022-05-14T09:22:00.346Z"
   },
   {
    "duration": 745,
    "start_time": "2022-05-14T09:22:35.785Z"
   },
   {
    "duration": 6,
    "start_time": "2022-05-14T09:24:08.455Z"
   },
   {
    "duration": 6,
    "start_time": "2022-05-14T09:24:16.575Z"
   },
   {
    "duration": 101,
    "start_time": "2022-05-14T09:24:47.136Z"
   },
   {
    "duration": 687,
    "start_time": "2022-05-14T09:25:09.376Z"
   },
   {
    "duration": 5,
    "start_time": "2022-05-14T09:25:51.822Z"
   },
   {
    "duration": 746,
    "start_time": "2022-05-14T09:26:09.279Z"
   },
   {
    "duration": 6,
    "start_time": "2022-05-14T09:26:42.750Z"
   },
   {
    "duration": 20,
    "start_time": "2022-05-14T09:27:23.087Z"
   },
   {
    "duration": 757,
    "start_time": "2022-05-14T09:28:04.159Z"
   },
   {
    "duration": 20,
    "start_time": "2022-05-14T09:28:34.750Z"
   },
   {
    "duration": 20,
    "start_time": "2022-05-14T09:28:42.270Z"
   },
   {
    "duration": 806,
    "start_time": "2022-05-14T09:28:52.550Z"
   },
   {
    "duration": 822,
    "start_time": "2022-05-14T09:29:28.350Z"
   },
   {
    "duration": 19,
    "start_time": "2022-05-14T09:29:48.557Z"
   },
   {
    "duration": 19,
    "start_time": "2022-05-14T09:29:59.527Z"
   },
   {
    "duration": 20,
    "start_time": "2022-05-14T09:30:21.877Z"
   },
   {
    "duration": 22,
    "start_time": "2022-05-14T09:30:30.582Z"
   },
   {
    "duration": 815,
    "start_time": "2022-05-14T09:30:59.102Z"
   },
   {
    "duration": 1424,
    "start_time": "2022-05-14T09:32:07.132Z"
   },
   {
    "duration": 1458,
    "start_time": "2022-05-14T09:32:16.356Z"
   },
   {
    "duration": 5,
    "start_time": "2022-05-14T09:32:23.621Z"
   },
   {
    "duration": 760,
    "start_time": "2022-05-14T09:32:23.693Z"
   },
   {
    "duration": 5,
    "start_time": "2022-05-14T09:33:58.684Z"
   },
   {
    "duration": 921,
    "start_time": "2022-05-14T09:34:21.300Z"
   },
   {
    "duration": 4,
    "start_time": "2022-05-14T09:34:31.620Z"
   },
   {
    "duration": 938,
    "start_time": "2022-05-14T09:34:56.765Z"
   },
   {
    "duration": 4,
    "start_time": "2022-05-14T09:35:25.619Z"
   },
   {
    "duration": 936,
    "start_time": "2022-05-14T09:35:39.235Z"
   },
   {
    "duration": 4,
    "start_time": "2022-05-14T09:35:59.739Z"
   },
   {
    "duration": 4,
    "start_time": "2022-05-14T09:36:23.404Z"
   },
   {
    "duration": 977,
    "start_time": "2022-05-14T09:36:34.627Z"
   },
   {
    "duration": 4,
    "start_time": "2022-05-14T09:37:02.370Z"
   },
   {
    "duration": 5,
    "start_time": "2022-05-14T09:38:13.020Z"
   },
   {
    "duration": 375,
    "start_time": "2022-05-14T09:38:25.059Z"
   },
   {
    "duration": 5,
    "start_time": "2022-05-14T09:38:37.969Z"
   },
   {
    "duration": 5,
    "start_time": "2022-05-14T09:38:45.826Z"
   },
   {
    "duration": 464,
    "start_time": "2022-05-14T09:38:57.810Z"
   },
   {
    "duration": 465,
    "start_time": "2022-05-14T09:39:14.770Z"
   },
   {
    "duration": 576,
    "start_time": "2022-05-14T09:39:39.038Z"
   },
   {
    "duration": 4,
    "start_time": "2022-05-14T09:39:57.881Z"
   },
   {
    "duration": 4,
    "start_time": "2022-05-14T09:40:48.857Z"
   },
   {
    "duration": 4,
    "start_time": "2022-05-14T09:41:17.313Z"
   },
   {
    "duration": 4,
    "start_time": "2022-05-14T09:41:36.497Z"
   },
   {
    "duration": 1670,
    "start_time": "2022-05-14T09:42:40.921Z"
   },
   {
    "duration": 34,
    "start_time": "2022-05-14T09:52:11.564Z"
   },
   {
    "duration": 26,
    "start_time": "2022-05-14T09:52:36.002Z"
   },
   {
    "duration": 29,
    "start_time": "2022-05-14T09:52:45.109Z"
   },
   {
    "duration": 32,
    "start_time": "2022-05-14T09:52:58.756Z"
   },
   {
    "duration": 37,
    "start_time": "2022-05-14T09:53:02.044Z"
   },
   {
    "duration": 31,
    "start_time": "2022-05-14T09:53:34.861Z"
   },
   {
    "duration": 26,
    "start_time": "2022-05-14T09:53:58.620Z"
   },
   {
    "duration": 29,
    "start_time": "2022-05-14T09:54:06.988Z"
   },
   {
    "duration": 36,
    "start_time": "2022-05-14T09:54:11.812Z"
   },
   {
    "duration": 23,
    "start_time": "2022-05-14T09:55:16.300Z"
   },
   {
    "duration": 24,
    "start_time": "2022-05-14T09:55:43.475Z"
   },
   {
    "duration": 23,
    "start_time": "2022-05-14T09:56:07.445Z"
   },
   {
    "duration": 24,
    "start_time": "2022-05-14T09:56:37.706Z"
   },
   {
    "duration": 22,
    "start_time": "2022-05-14T09:57:07.995Z"
   },
   {
    "duration": 29,
    "start_time": "2022-05-14T09:57:14.290Z"
   },
   {
    "duration": 23,
    "start_time": "2022-05-14T09:58:05.075Z"
   },
   {
    "duration": 27,
    "start_time": "2022-05-14T09:58:18.042Z"
   },
   {
    "duration": 26,
    "start_time": "2022-05-14T09:58:49.546Z"
   },
   {
    "duration": 34,
    "start_time": "2022-05-14T09:58:53.482Z"
   },
   {
    "duration": 27,
    "start_time": "2022-05-14T10:00:01.226Z"
   },
   {
    "duration": 30,
    "start_time": "2022-05-14T10:00:25.457Z"
   },
   {
    "duration": 31,
    "start_time": "2022-05-14T10:01:12.657Z"
   },
   {
    "duration": 30,
    "start_time": "2022-05-14T10:01:27.489Z"
   },
   {
    "duration": 29,
    "start_time": "2022-05-14T10:03:35.777Z"
   },
   {
    "duration": 45,
    "start_time": "2022-05-14T10:04:06.721Z"
   },
   {
    "duration": 30,
    "start_time": "2022-05-14T10:04:35.904Z"
   },
   {
    "duration": 31,
    "start_time": "2022-05-14T10:05:02.816Z"
   },
   {
    "duration": 29,
    "start_time": "2022-05-14T10:09:51.285Z"
   },
   {
    "duration": 36,
    "start_time": "2022-05-14T10:10:00.973Z"
   },
   {
    "duration": 49,
    "start_time": "2022-05-14T10:10:19.654Z"
   },
   {
    "duration": 38,
    "start_time": "2022-05-14T10:10:33.757Z"
   },
   {
    "duration": 1656,
    "start_time": "2022-05-14T10:12:42.118Z"
   },
   {
    "duration": 1423,
    "start_time": "2022-05-14T10:13:07.438Z"
   },
   {
    "duration": 1380,
    "start_time": "2022-05-14T10:13:45.477Z"
   },
   {
    "duration": 64,
    "start_time": "2022-05-14T10:13:46.859Z"
   },
   {
    "duration": 87,
    "start_time": "2022-05-14T10:13:46.925Z"
   },
   {
    "duration": 3,
    "start_time": "2022-05-14T10:13:47.014Z"
   },
   {
    "duration": 90,
    "start_time": "2022-05-14T10:13:47.018Z"
   },
   {
    "duration": 47,
    "start_time": "2022-05-14T10:13:47.110Z"
   },
   {
    "duration": 16,
    "start_time": "2022-05-14T10:13:47.159Z"
   },
   {
    "duration": 57,
    "start_time": "2022-05-14T10:13:47.177Z"
   },
   {
    "duration": 44,
    "start_time": "2022-05-14T10:13:47.236Z"
   },
   {
    "duration": 31,
    "start_time": "2022-05-14T10:13:47.282Z"
   },
   {
    "duration": 37,
    "start_time": "2022-05-14T10:13:47.315Z"
   },
   {
    "duration": 1431,
    "start_time": "2022-05-14T10:13:47.370Z"
   },
   {
    "duration": 35,
    "start_time": "2022-05-14T10:13:48.802Z"
   },
   {
    "duration": 893,
    "start_time": "2022-05-14T10:13:48.838Z"
   },
   {
    "duration": 9,
    "start_time": "2022-05-14T10:13:49.733Z"
   },
   {
    "duration": 9,
    "start_time": "2022-05-14T10:13:49.744Z"
   },
   {
    "duration": 46,
    "start_time": "2022-05-14T10:18:52.166Z"
   },
   {
    "duration": 57,
    "start_time": "2022-05-14T10:19:30.853Z"
   },
   {
    "duration": 47,
    "start_time": "2022-05-14T10:19:54.940Z"
   },
   {
    "duration": 2501,
    "start_time": "2022-05-14T10:21:02.913Z"
   },
   {
    "duration": 66,
    "start_time": "2022-05-14T10:21:05.415Z"
   },
   {
    "duration": 80,
    "start_time": "2022-05-14T10:21:05.483Z"
   },
   {
    "duration": 3,
    "start_time": "2022-05-14T10:21:05.572Z"
   },
   {
    "duration": 78,
    "start_time": "2022-05-14T10:21:05.577Z"
   },
   {
    "duration": 59,
    "start_time": "2022-05-14T10:21:05.657Z"
   },
   {
    "duration": 8,
    "start_time": "2022-05-14T10:21:05.717Z"
   },
   {
    "duration": 69,
    "start_time": "2022-05-14T10:21:05.726Z"
   },
   {
    "duration": 28,
    "start_time": "2022-05-14T10:21:05.796Z"
   },
   {
    "duration": 45,
    "start_time": "2022-05-14T10:21:05.827Z"
   },
   {
    "duration": 36,
    "start_time": "2022-05-14T10:21:05.874Z"
   },
   {
    "duration": 1409,
    "start_time": "2022-05-14T10:21:05.912Z"
   },
   {
    "duration": 34,
    "start_time": "2022-05-14T10:21:07.323Z"
   },
   {
    "duration": 893,
    "start_time": "2022-05-14T10:21:07.359Z"
   },
   {
    "duration": 21,
    "start_time": "2022-05-14T10:21:08.253Z"
   },
   {
    "duration": 12,
    "start_time": "2022-05-14T10:21:08.276Z"
   },
   {
    "duration": 55,
    "start_time": "2022-05-14T10:27:22.360Z"
   },
   {
    "duration": 54,
    "start_time": "2022-05-14T10:31:07.966Z"
   },
   {
    "duration": 51,
    "start_time": "2022-05-14T10:33:46.989Z"
   },
   {
    "duration": 1487,
    "start_time": "2022-05-14T10:34:43.268Z"
   },
   {
    "duration": 1543,
    "start_time": "2022-05-14T10:39:51.471Z"
   },
   {
    "duration": 66,
    "start_time": "2022-05-14T10:39:53.016Z"
   },
   {
    "duration": 89,
    "start_time": "2022-05-14T10:39:53.084Z"
   },
   {
    "duration": 4,
    "start_time": "2022-05-14T10:39:53.175Z"
   },
   {
    "duration": 95,
    "start_time": "2022-05-14T10:39:53.180Z"
   },
   {
    "duration": 47,
    "start_time": "2022-05-14T10:39:53.277Z"
   },
   {
    "duration": 9,
    "start_time": "2022-05-14T10:39:53.326Z"
   },
   {
    "duration": 8,
    "start_time": "2022-05-14T10:39:53.337Z"
   },
   {
    "duration": 31,
    "start_time": "2022-05-14T10:39:53.347Z"
   },
   {
    "duration": 63,
    "start_time": "2022-05-14T10:39:53.380Z"
   },
   {
    "duration": 45,
    "start_time": "2022-05-14T10:39:53.444Z"
   },
   {
    "duration": 32,
    "start_time": "2022-05-14T10:39:53.490Z"
   },
   {
    "duration": 51,
    "start_time": "2022-05-14T10:39:53.524Z"
   },
   {
    "duration": 1578,
    "start_time": "2022-05-14T10:39:53.577Z"
   },
   {
    "duration": 42,
    "start_time": "2022-05-14T10:39:55.156Z"
   },
   {
    "duration": 893,
    "start_time": "2022-05-14T10:39:55.200Z"
   },
   {
    "duration": 9,
    "start_time": "2022-05-14T10:39:56.094Z"
   },
   {
    "duration": 10,
    "start_time": "2022-05-14T10:39:56.105Z"
   },
   {
    "duration": 27,
    "start_time": "2022-05-14T10:45:14.799Z"
   },
   {
    "duration": 8,
    "start_time": "2022-05-14T10:48:56.172Z"
   },
   {
    "duration": 1349,
    "start_time": "2022-05-14T10:53:15.930Z"
   },
   {
    "duration": 64,
    "start_time": "2022-05-14T10:53:17.281Z"
   },
   {
    "duration": 85,
    "start_time": "2022-05-14T10:53:17.346Z"
   },
   {
    "duration": 3,
    "start_time": "2022-05-14T10:53:17.433Z"
   },
   {
    "duration": 89,
    "start_time": "2022-05-14T10:53:17.438Z"
   },
   {
    "duration": 55,
    "start_time": "2022-05-14T10:53:17.528Z"
   },
   {
    "duration": 8,
    "start_time": "2022-05-14T10:53:17.584Z"
   },
   {
    "duration": 63,
    "start_time": "2022-05-14T10:53:17.594Z"
   },
   {
    "duration": 31,
    "start_time": "2022-05-14T10:53:17.671Z"
   },
   {
    "duration": 31,
    "start_time": "2022-05-14T10:53:17.704Z"
   },
   {
    "duration": 56,
    "start_time": "2022-05-14T10:53:17.736Z"
   },
   {
    "duration": 7,
    "start_time": "2022-05-14T10:53:17.793Z"
   },
   {
    "duration": 1400,
    "start_time": "2022-05-14T10:53:17.801Z"
   },
   {
    "duration": 33,
    "start_time": "2022-05-14T10:53:19.202Z"
   },
   {
    "duration": 911,
    "start_time": "2022-05-14T10:53:19.236Z"
   },
   {
    "duration": 10,
    "start_time": "2022-05-14T10:53:20.149Z"
   },
   {
    "duration": 11,
    "start_time": "2022-05-14T10:53:20.171Z"
   },
   {
    "duration": 1514,
    "start_time": "2022-05-14T10:55:02.469Z"
   },
   {
    "duration": 66,
    "start_time": "2022-05-14T10:55:03.985Z"
   },
   {
    "duration": 78,
    "start_time": "2022-05-14T10:55:04.052Z"
   },
   {
    "duration": 3,
    "start_time": "2022-05-14T10:55:04.132Z"
   },
   {
    "duration": 92,
    "start_time": "2022-05-14T10:55:04.137Z"
   },
   {
    "duration": 56,
    "start_time": "2022-05-14T10:55:04.231Z"
   },
   {
    "duration": 9,
    "start_time": "2022-05-14T10:55:04.288Z"
   },
   {
    "duration": 72,
    "start_time": "2022-05-14T10:55:04.299Z"
   },
   {
    "duration": 29,
    "start_time": "2022-05-14T10:55:04.373Z"
   },
   {
    "duration": 30,
    "start_time": "2022-05-14T10:55:04.405Z"
   },
   {
    "duration": 59,
    "start_time": "2022-05-14T10:55:04.437Z"
   },
   {
    "duration": 7,
    "start_time": "2022-05-14T10:55:04.498Z"
   },
   {
    "duration": 1384,
    "start_time": "2022-05-14T10:55:04.506Z"
   },
   {
    "duration": 33,
    "start_time": "2022-05-14T10:55:05.892Z"
   },
   {
    "duration": 891,
    "start_time": "2022-05-14T10:55:05.927Z"
   },
   {
    "duration": 9,
    "start_time": "2022-05-14T10:55:06.820Z"
   },
   {
    "duration": 13,
    "start_time": "2022-05-14T10:55:06.830Z"
   },
   {
    "duration": 1366,
    "start_time": "2022-05-14T10:56:53.904Z"
   },
   {
    "duration": 63,
    "start_time": "2022-05-14T10:56:55.272Z"
   },
   {
    "duration": 94,
    "start_time": "2022-05-14T10:56:55.337Z"
   },
   {
    "duration": 3,
    "start_time": "2022-05-14T10:56:55.433Z"
   },
   {
    "duration": 89,
    "start_time": "2022-05-14T10:56:55.438Z"
   },
   {
    "duration": 56,
    "start_time": "2022-05-14T10:56:55.528Z"
   },
   {
    "duration": 8,
    "start_time": "2022-05-14T10:56:55.586Z"
   },
   {
    "duration": 56,
    "start_time": "2022-05-14T10:56:55.596Z"
   },
   {
    "duration": 42,
    "start_time": "2022-05-14T10:56:55.654Z"
   },
   {
    "duration": 30,
    "start_time": "2022-05-14T10:56:55.699Z"
   },
   {
    "duration": 57,
    "start_time": "2022-05-14T10:56:55.730Z"
   },
   {
    "duration": 7,
    "start_time": "2022-05-14T10:56:55.788Z"
   },
   {
    "duration": 1681,
    "start_time": "2022-05-14T10:56:55.797Z"
   },
   {
    "duration": 35,
    "start_time": "2022-05-14T10:56:57.480Z"
   },
   {
    "duration": 892,
    "start_time": "2022-05-14T10:56:57.517Z"
   },
   {
    "duration": 9,
    "start_time": "2022-05-14T10:56:58.411Z"
   },
   {
    "duration": 10,
    "start_time": "2022-05-14T10:56:58.422Z"
   },
   {
    "duration": 1654,
    "start_time": "2022-05-14T10:58:00.670Z"
   },
   {
    "duration": 1494,
    "start_time": "2022-05-14T11:06:38.877Z"
   },
   {
    "duration": 68,
    "start_time": "2022-05-14T11:06:40.373Z"
   },
   {
    "duration": 99,
    "start_time": "2022-05-14T11:06:40.443Z"
   },
   {
    "duration": 4,
    "start_time": "2022-05-14T11:06:40.544Z"
   },
   {
    "duration": 91,
    "start_time": "2022-05-14T11:06:40.549Z"
   },
   {
    "duration": 56,
    "start_time": "2022-05-14T11:06:40.642Z"
   },
   {
    "duration": 9,
    "start_time": "2022-05-14T11:06:40.699Z"
   },
   {
    "duration": 74,
    "start_time": "2022-05-14T11:06:40.709Z"
   },
   {
    "duration": 28,
    "start_time": "2022-05-14T11:06:40.785Z"
   },
   {
    "duration": 31,
    "start_time": "2022-05-14T11:06:40.815Z"
   },
   {
    "duration": 57,
    "start_time": "2022-05-14T11:06:40.847Z"
   },
   {
    "duration": 1715,
    "start_time": "2022-05-14T11:06:40.906Z"
   },
   {
    "duration": 48,
    "start_time": "2022-05-14T11:06:42.623Z"
   },
   {
    "duration": 909,
    "start_time": "2022-05-14T11:06:42.673Z"
   },
   {
    "duration": 12,
    "start_time": "2022-05-14T11:06:43.583Z"
   },
   {
    "duration": 11,
    "start_time": "2022-05-14T11:06:43.597Z"
   },
   {
    "duration": 2884,
    "start_time": "2022-05-14T12:32:15.545Z"
   },
   {
    "duration": 111,
    "start_time": "2022-05-14T12:32:18.432Z"
   },
   {
    "duration": 181,
    "start_time": "2022-05-14T12:32:18.545Z"
   },
   {
    "duration": 6,
    "start_time": "2022-05-14T12:32:18.728Z"
   },
   {
    "duration": 186,
    "start_time": "2022-05-14T12:32:18.738Z"
   },
   {
    "duration": 98,
    "start_time": "2022-05-14T12:32:18.927Z"
   },
   {
    "duration": 14,
    "start_time": "2022-05-14T12:32:19.027Z"
   },
   {
    "duration": 92,
    "start_time": "2022-05-14T12:32:19.047Z"
   },
   {
    "duration": 40,
    "start_time": "2022-05-14T12:32:19.141Z"
   },
   {
    "duration": 70,
    "start_time": "2022-05-14T12:32:19.184Z"
   },
   {
    "duration": 74,
    "start_time": "2022-05-14T12:32:19.257Z"
   },
   {
    "duration": 3847,
    "start_time": "2022-05-14T12:32:19.333Z"
   },
   {
    "duration": 75,
    "start_time": "2022-05-14T12:32:23.182Z"
   },
   {
    "duration": 1600,
    "start_time": "2022-05-14T12:32:23.261Z"
   },
   {
    "duration": 16,
    "start_time": "2022-05-14T12:32:24.864Z"
   },
   {
    "duration": 44,
    "start_time": "2022-05-14T12:32:24.882Z"
   },
   {
    "duration": 27,
    "start_time": "2022-05-14T12:32:35.005Z"
   },
   {
    "duration": 6,
    "start_time": "2022-05-14T12:32:54.423Z"
   },
   {
    "duration": 21,
    "start_time": "2022-05-14T12:33:04.371Z"
   },
   {
    "duration": 6,
    "start_time": "2022-05-14T12:33:12.987Z"
   },
   {
    "duration": 6,
    "start_time": "2022-05-14T12:34:08.526Z"
   },
   {
    "duration": 18,
    "start_time": "2022-05-14T12:34:18.060Z"
   },
   {
    "duration": 8,
    "start_time": "2022-05-14T12:34:24.853Z"
   },
   {
    "duration": 18,
    "start_time": "2022-05-14T12:34:54.916Z"
   },
   {
    "duration": 5,
    "start_time": "2022-05-14T12:35:07.950Z"
   },
   {
    "duration": 106,
    "start_time": "2022-05-14T12:35:30.759Z"
   },
   {
    "duration": 5,
    "start_time": "2022-05-14T12:37:59.052Z"
   },
   {
    "duration": 7,
    "start_time": "2022-05-14T12:38:49.703Z"
   },
   {
    "duration": 8,
    "start_time": "2022-05-14T12:39:05.816Z"
   },
   {
    "duration": 8,
    "start_time": "2022-05-14T12:39:14.500Z"
   },
   {
    "duration": 28,
    "start_time": "2022-05-14T12:43:25.015Z"
   },
   {
    "duration": 9,
    "start_time": "2022-05-14T12:43:34.017Z"
   },
   {
    "duration": 130,
    "start_time": "2022-05-14T12:44:49.700Z"
   },
   {
    "duration": 1605,
    "start_time": "2022-05-14T17:19:22.519Z"
   },
   {
    "duration": 69,
    "start_time": "2022-05-14T17:19:24.126Z"
   },
   {
    "duration": 96,
    "start_time": "2022-05-14T17:19:24.196Z"
   },
   {
    "duration": 3,
    "start_time": "2022-05-14T17:19:24.295Z"
   },
   {
    "duration": 89,
    "start_time": "2022-05-14T17:19:24.299Z"
   },
   {
    "duration": 48,
    "start_time": "2022-05-14T17:19:24.389Z"
   },
   {
    "duration": 7,
    "start_time": "2022-05-14T17:19:24.439Z"
   },
   {
    "duration": 75,
    "start_time": "2022-05-14T17:19:24.448Z"
   },
   {
    "duration": 28,
    "start_time": "2022-05-14T17:19:24.525Z"
   },
   {
    "duration": 44,
    "start_time": "2022-05-14T17:19:24.555Z"
   },
   {
    "duration": 36,
    "start_time": "2022-05-14T17:19:24.601Z"
   },
   {
    "duration": 5,
    "start_time": "2022-05-14T17:19:24.638Z"
   },
   {
    "duration": 1672,
    "start_time": "2022-05-14T17:19:24.644Z"
   },
   {
    "duration": 37,
    "start_time": "2022-05-14T17:19:26.318Z"
   },
   {
    "duration": 966,
    "start_time": "2022-05-14T17:19:26.356Z"
   },
   {
    "duration": 10,
    "start_time": "2022-05-14T17:19:27.324Z"
   },
   {
    "duration": 13,
    "start_time": "2022-05-14T17:19:27.336Z"
   },
   {
    "duration": 93,
    "start_time": "2022-05-14T17:21:44.896Z"
   },
   {
    "duration": 79,
    "start_time": "2022-05-14T17:25:57.867Z"
   },
   {
    "duration": 1407,
    "start_time": "2022-05-14T17:27:55.392Z"
   },
   {
    "duration": 65,
    "start_time": "2022-05-14T17:27:56.801Z"
   },
   {
    "duration": 84,
    "start_time": "2022-05-14T17:27:56.868Z"
   },
   {
    "duration": 3,
    "start_time": "2022-05-14T17:27:56.955Z"
   },
   {
    "duration": 93,
    "start_time": "2022-05-14T17:27:56.959Z"
   },
   {
    "duration": 53,
    "start_time": "2022-05-14T17:27:57.053Z"
   },
   {
    "duration": 8,
    "start_time": "2022-05-14T17:27:57.108Z"
   },
   {
    "duration": 71,
    "start_time": "2022-05-14T17:27:57.118Z"
   },
   {
    "duration": 29,
    "start_time": "2022-05-14T17:27:57.191Z"
   },
   {
    "duration": 31,
    "start_time": "2022-05-14T17:27:57.223Z"
   },
   {
    "duration": 58,
    "start_time": "2022-05-14T17:27:57.255Z"
   },
   {
    "duration": 5,
    "start_time": "2022-05-14T17:27:57.314Z"
   },
   {
    "duration": 1723,
    "start_time": "2022-05-14T17:27:57.321Z"
   },
   {
    "duration": 46,
    "start_time": "2022-05-14T17:27:59.045Z"
   },
   {
    "duration": 952,
    "start_time": "2022-05-14T17:27:59.093Z"
   },
   {
    "duration": 11,
    "start_time": "2022-05-14T17:28:00.047Z"
   },
   {
    "duration": 14,
    "start_time": "2022-05-14T17:28:00.060Z"
   }
  ],
  "kernelspec": {
   "display_name": "Python 3 (ipykernel)",
   "language": "python",
   "name": "python3"
  },
  "language_info": {
   "codemirror_mode": {
    "name": "ipython",
    "version": 3
   },
   "file_extension": ".py",
   "mimetype": "text/x-python",
   "name": "python",
   "nbconvert_exporter": "python",
   "pygments_lexer": "ipython3",
   "version": "3.9.7"
  },
  "toc": {
   "base_numbering": 1,
   "nav_menu": {},
   "number_sections": true,
   "sideBar": true,
   "skip_h1_title": true,
   "title_cell": "Оглавление:",
   "title_sidebar": "Оглавление:",
   "toc_cell": true,
   "toc_position": {
    "height": "calc(100% - 180px)",
    "left": "10px",
    "top": "150px",
    "width": "273.188px"
   },
   "toc_section_display": true,
   "toc_window_display": true
  }
 },
 "nbformat": 4,
 "nbformat_minor": 5
}
