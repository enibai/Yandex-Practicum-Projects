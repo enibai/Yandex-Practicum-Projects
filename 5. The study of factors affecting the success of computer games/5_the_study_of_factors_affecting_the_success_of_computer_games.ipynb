{
 "cells": [
  {
   "cell_type": "markdown",
   "metadata": {},
   "source": [
    "# Исследование факторов, вляющих на успешность  компьютерных игр."
   ]
  },
  {
   "cell_type": "markdown",
   "metadata": {
    "toc": true
   },
   "source": [
    "<h1>Оглавление:<span class=\"tocSkip\"></span></h1>\n",
    "<div class=\"toc\"><ul class=\"toc-item\"><li><ul class=\"toc-item\"><li><span><a href=\"#Описание-проекта:\" data-toc-modified-id=\"Описание-проекта:-0.1\"><span class=\"toc-item-num\">0.1&nbsp;&nbsp;</span>Описание проекта:</a></span></li><li><span><a href=\"#Описание-данных:\" data-toc-modified-id=\"Описание-данных:-0.2\"><span class=\"toc-item-num\">0.2&nbsp;&nbsp;</span>Описание данных:</a></span></li></ul></li><li><span><a href=\"#Шаг-1.-Импортирую-необходимые-библиотеки,-открываю-файл-с-данными-и-изучаю-общую-информацию.\" data-toc-modified-id=\"Шаг-1.-Импортирую-необходимые-библиотеки,-открываю-файл-с-данными-и-изучаю-общую-информацию.-1\"><span class=\"toc-item-num\">1&nbsp;&nbsp;</span>Шаг 1. Импортирую необходимые библиотеки, открываю файл с данными и изучаю общую информацию.</a></span><ul class=\"toc-item\"><li><span><a href=\"#Вывод:\" data-toc-modified-id=\"Вывод:-1.1\"><span class=\"toc-item-num\">1.1&nbsp;&nbsp;</span>Вывод:</a></span></li></ul></li><li><span><a href=\"#Шаг-2.-Предобработка-данных.\" data-toc-modified-id=\"Шаг-2.-Предобработка-данных.-2\"><span class=\"toc-item-num\">2&nbsp;&nbsp;</span>Шаг 2. Предобработка данных.</a></span><ul class=\"toc-item\"><li><span><a href=\"#Исправляю-стиль-в-заголовках-столбцов.\" data-toc-modified-id=\"Исправляю-стиль-в-заголовках-столбцов.-2.1\"><span class=\"toc-item-num\">2.1&nbsp;&nbsp;</span>Исправляю стиль в заголовках столбцов.</a></span></li><li><span><a href=\"#Привожу-все-столбцы-со-строками-к-нижнему-регистру.\" data-toc-modified-id=\"Привожу-все-столбцы-со-строками-к-нижнему-регистру.-2.2\"><span class=\"toc-item-num\">2.2&nbsp;&nbsp;</span>Привожу все столбцы со строками к нижнему регистру.</a></span></li><li><span><a href=\"#Смотрю-пропуски-в-столбце-name.\" data-toc-modified-id=\"Смотрю-пропуски-в-столбце-name.-2.3\"><span class=\"toc-item-num\">2.3&nbsp;&nbsp;</span>Смотрю пропуски в столбце <strong><code>name</code></strong>.</a></span></li><li><span><a href=\"#Смотрю-пропуски-в-столбце-year_of_release.\" data-toc-modified-id=\"Смотрю-пропуски-в-столбце-year_of_release.-2.4\"><span class=\"toc-item-num\">2.4&nbsp;&nbsp;</span>Смотрю пропуски в столбце <strong><code>year_of_release</code></strong>.</a></span></li><li><span><a href=\"#Смотрю-количество-и-долю-пропущенных-значений-столбца-critic_score.\" data-toc-modified-id=\"Смотрю-количество-и-долю-пропущенных-значений-столбца-critic_score.-2.5\"><span class=\"toc-item-num\">2.5&nbsp;&nbsp;</span>Смотрю количество и долю пропущенных значений столбца <strong><code>critic_score</code></strong>.</a></span></li><li><span><a href=\"#Разбираюсь-со-значениями-tbd-в-столбце-user_score.\" data-toc-modified-id=\"Разбираюсь-со-значениями-tbd-в-столбце-user_score.-2.6\"><span class=\"toc-item-num\">2.6&nbsp;&nbsp;</span>Разбираюсь со значениями <code>tbd</code> в столбце <strong><code>user_score</code></strong>.</a></span></li><li><span><a href=\"#Смотрю-количество-и-долю-пропущенных-значений-столбца-rating.\" data-toc-modified-id=\"Смотрю-количество-и-долю-пропущенных-значений-столбца-rating.-2.7\"><span class=\"toc-item-num\">2.7&nbsp;&nbsp;</span>Смотрю количество и долю пропущенных значений столбца <strong><code>rating</code></strong>.</a></span></li><li><span><a href=\"#Считаю-суммарные-продажи-во-всех-регионах-и-записываю-их-в-столбец-total_sales.\" data-toc-modified-id=\"Считаю-суммарные-продажи-во-всех-регионах-и-записываю-их-в-столбец-total_sales.-2.8\"><span class=\"toc-item-num\">2.8&nbsp;&nbsp;</span>Считаю суммарные продажи во всех регионах и записываю их в столбец <strong><code>total_sales</code></strong>.</a></span></li><li><span><a href=\"#Проверяю-наличие-явных-дубликатов.\" data-toc-modified-id=\"Проверяю-наличие-явных-дубликатов.-2.9\"><span class=\"toc-item-num\">2.9&nbsp;&nbsp;</span>Проверяю наличие явных дубликатов.</a></span></li></ul></li><li><span><a href=\"#Шаг-3.-Исследовательский-анализ-данных.\" data-toc-modified-id=\"Шаг-3.-Исследовательский-анализ-данных.-3\"><span class=\"toc-item-num\">3&nbsp;&nbsp;</span>Шаг 3. Исследовательский анализ данных.</a></span><ul class=\"toc-item\"><li><span><a href=\"#Смотрю,-сколько-игр-выпускалось-в-разные-годы.-Важны-ли-данные-за-все-периоды?\" data-toc-modified-id=\"Смотрю,-сколько-игр-выпускалось-в-разные-годы.-Важны-ли-данные-за-все-периоды?-3.1\"><span class=\"toc-item-num\">3.1&nbsp;&nbsp;</span>Смотрю, сколько игр выпускалось в разные годы. Важны ли данные за все периоды?</a></span></li><li><span><a href=\"#Выбираю-платформы-с-наибольшими-суммарными-продажами-и-строю-распределение-по-годам.\" data-toc-modified-id=\"Выбираю-платформы-с-наибольшими-суммарными-продажами-и-строю-распределение-по-годам.-3.2\"><span class=\"toc-item-num\">3.2&nbsp;&nbsp;</span>Выбираю платформы с наибольшими суммарными продажами и строю распределение по годам.</a></span></li><li><span><a href=\"#Смотрю,-как-менялись-продажи-по-самым-популярным-платформам.--За-какой-характерный-срок-появляются-новые-и-исчезают-старые-платформы.\" data-toc-modified-id=\"Смотрю,-как-менялись-продажи-по-самым-популярным-платформам.--За-какой-характерный-срок-появляются-новые-и-исчезают-старые-платформы.-3.3\"><span class=\"toc-item-num\">3.3&nbsp;&nbsp;</span>Смотрю, как менялись продажи по самым популярным платформам.  За какой характерный срок появляются новые и исчезают старые платформы.</a></span></li><li><span><a href=\"#Смотрю,-какие-платформы-за-актуальный-период-лидируют-по-продажам,-растут-или-падают.-Выбираю-несколько-потенциально-прибыльных-платформ.\" data-toc-modified-id=\"Смотрю,-какие-платформы-за-актуальный-период-лидируют-по-продажам,-растут-или-падают.-Выбираю-несколько-потенциально-прибыльных-платформ.-3.4\"><span class=\"toc-item-num\">3.4&nbsp;&nbsp;</span>Смотрю, какие платформы за актуальный период лидируют по продажам, растут или падают. Выбираю несколько потенциально прибыльных платформ.</a></span></li><li><span><a href=\"#Строю-график-«ящик-с-усами»-по-глобальным-продажам-игр-в-разбивке-по-платформам.\" data-toc-modified-id=\"Строю-график-«ящик-с-усами»-по-глобальным-продажам-игр-в-разбивке-по-платформам.-3.5\"><span class=\"toc-item-num\">3.5&nbsp;&nbsp;</span>Строю график «ящик с усами» по глобальным продажам игр в разбивке по платформам.</a></span></li><li><span><a href=\"#Смотрю,-как-влияют-на-продажи-внутри-одной-популярной-платформы-отзывы-пользователей-и-критиков.\" data-toc-modified-id=\"Смотрю,-как-влияют-на-продажи-внутри-одной-популярной-платформы-отзывы-пользователей-и-критиков.-3.6\"><span class=\"toc-item-num\">3.6&nbsp;&nbsp;</span>Смотрю, как влияют на продажи внутри одной популярной платформы отзывы пользователей и критиков.</a></span></li><li><span><a href=\"#Соотношу-выводы-с-продажами-игр-на-остальных-платформах-из-топ-5.\" data-toc-modified-id=\"Соотношу-выводы-с-продажами-игр-на-остальных-платформах-из-топ-5.-3.7\"><span class=\"toc-item-num\">3.7&nbsp;&nbsp;</span>Соотношу выводы с продажами игр на остальных платформах из топ-5.</a></span></li><li><span><a href=\"#Смотрю-на-общее-распределение-игр-по-жанрам.\" data-toc-modified-id=\"Смотрю-на-общее-распределение-игр-по-жанрам.-3.8\"><span class=\"toc-item-num\">3.8&nbsp;&nbsp;</span>Смотрю на общее распределение игр по жанрам.</a></span></li></ul></li><li><span><a href=\"#Шаг-4.-Составляю-портрет-пользователя-для-каждого-региона.\" data-toc-modified-id=\"Шаг-4.-Составляю-портрет-пользователя-для-каждого-региона.-4\"><span class=\"toc-item-num\">4&nbsp;&nbsp;</span>Шаг 4. Составляю портрет пользователя для каждого региона.</a></span><ul class=\"toc-item\"><li><span><a href=\"#Составим-портрет-пользователя-из-Северной-Америки.\" data-toc-modified-id=\"Составим-портрет-пользователя-из-Северной-Америки.-4.1\"><span class=\"toc-item-num\">4.1&nbsp;&nbsp;</span>Составим портрет пользователя из Северной Америки.</a></span></li><li><span><a href=\"#Составляю-портрет-пользователя-из-Европы.\" data-toc-modified-id=\"Составляю-портрет-пользователя-из-Европы.-4.2\"><span class=\"toc-item-num\">4.2&nbsp;&nbsp;</span>Составляю портрет пользователя из Европы.</a></span></li><li><span><a href=\"#Составляю-портрет-пользователя-из-Японии.\" data-toc-modified-id=\"Составляю-портрет-пользователя-из-Японии.-4.3\"><span class=\"toc-item-num\">4.3&nbsp;&nbsp;</span>Составляю портрет пользователя из Японии.</a></span></li><li><span><a href=\"#Смотрю-влияет-ли-рейтинг-ESRB-на-продажи-в-отдельном-регионе.\" data-toc-modified-id=\"Смотрю-влияет-ли-рейтинг-ESRB-на-продажи-в-отдельном-регионе.-4.4\"><span class=\"toc-item-num\">4.4&nbsp;&nbsp;</span>Смотрю влияет ли рейтинг ESRB на продажи в отдельном регионе.</a></span></li></ul></li><li><span><a href=\"#Шаг-5.-Проверка-гипотез.\" data-toc-modified-id=\"Шаг-5.-Проверка-гипотез.-5\"><span class=\"toc-item-num\">5&nbsp;&nbsp;</span>Шаг 5. Проверка гипотез.</a></span><ul class=\"toc-item\"><li><span><a href=\"#Гипотеза-1.\" data-toc-modified-id=\"Гипотеза-1.-5.1\"><span class=\"toc-item-num\">5.1&nbsp;&nbsp;</span>Гипотеза 1.</a></span></li><li><span><a href=\"#Гипотеза-2.\" data-toc-modified-id=\"Гипотеза-2.-5.2\"><span class=\"toc-item-num\">5.2&nbsp;&nbsp;</span>Гипотеза 2.</a></span></li></ul></li><li><span><a href=\"#Общий-вывод:\" data-toc-modified-id=\"Общий-вывод:-6\"><span class=\"toc-item-num\">6&nbsp;&nbsp;</span>Общий вывод:</a></span></li></ul></div>"
   ]
  },
  {
   "cell_type": "markdown",
   "metadata": {},
   "source": [
    "### Описание проекта:\n",
    "Для всемирного интернет-магазина компьютерных игр нужно выявить определяющие успешность игры закономерности. Это позволит сделать ставку на потенциально популярный продукт и спланировать рекламные кампании. Из открытых источников доступны исторические данные о продажах игр, оценки пользователей и экспертов, жанры и платформы. Данные до 2016 года. Интернет-магазин планирует кампанию на 2017-й. \n",
    "\n",
    "В наборе данных попадается аббревиатура ESRB (Entertainment Software Rating Board) - это ассоциация, определяющая возрастной рейтинг компьютерных игр. ESRB оценивает игровой контент и присваивает ему подходящую возрастную категорию, например, «Для взрослых», «Для детей младшего возраста» или «Для подростков».\n",
    "### Описание данных:\n",
    "Датасет `games` содержит:\n",
    "- **`name`** - название игры;\n",
    "- **`platform`** - платформа;\n",
    "- **`year_of_release`** - год выпуска;\n",
    "- **`genre`** - жанр игры;\n",
    "- **`na_sales`** - продажи в Северной Америке (миллионы проданных копий);\n",
    "- **`eu_sales`** - продажи в Европе (миллионы проданных копий);\n",
    "- **`jp_sales`** - продажи в Японии (миллионы проданных копий);\n",
    "- **`other_sales`** - продажи в других странах (миллионы проданных копий);\n",
    "- **`critic_score`** - оценка критиков (максимум 100);\n",
    "- **`user_score`** - оценка пользователей (максимум 10);\n",
    "- **`rating`** - рейтинг от организации ESRB (англ. Entertainment Software Rating Board). Эта ассоциация определяет рейтинг компьютерных игр и присваивает им подходящую возрастную категорию.\n",
    "\n",
    "Данные за 2016 год могут быть неполными.\n",
    "## Шаг 1. Импортирую необходимые библиотеки, открываю файл с данными и изучаю общую информацию."
   ]
  },
  {
   "cell_type": "code",
   "execution_count": 1,
   "metadata": {},
   "outputs": [],
   "source": [
    "import pandas as pd\n",
    "import numpy as np\n",
    "import matplotlib.pyplot as plt\n",
    "import seaborn as sns\n",
    "import scipy.stats as st"
   ]
  },
  {
   "cell_type": "code",
   "execution_count": 2,
   "metadata": {},
   "outputs": [],
   "source": [
    "df = pd.read_csv('/datasets/games.csv')"
   ]
  },
  {
   "cell_type": "code",
   "execution_count": 3,
   "metadata": {},
   "outputs": [],
   "source": [
    "def df_info(df):\n",
    "    display(df.head(3))\n",
    "    print('-' * 50)\n",
    "    df.info()\n",
    "    print('-' * 50)\n",
    "    display(df.describe(include = 'all'))\n",
    "    print('-' * 50)\n",
    "    print('Количество явных дубликатов:', df.duplicated().sum())"
   ]
  },
  {
   "cell_type": "code",
   "execution_count": 4,
   "metadata": {},
   "outputs": [
    {
     "data": {
      "text/html": [
       "<div>\n",
       "<style scoped>\n",
       "    .dataframe tbody tr th:only-of-type {\n",
       "        vertical-align: middle;\n",
       "    }\n",
       "\n",
       "    .dataframe tbody tr th {\n",
       "        vertical-align: top;\n",
       "    }\n",
       "\n",
       "    .dataframe thead th {\n",
       "        text-align: right;\n",
       "    }\n",
       "</style>\n",
       "<table border=\"1\" class=\"dataframe\">\n",
       "  <thead>\n",
       "    <tr style=\"text-align: right;\">\n",
       "      <th></th>\n",
       "      <th>Name</th>\n",
       "      <th>Platform</th>\n",
       "      <th>Year_of_Release</th>\n",
       "      <th>Genre</th>\n",
       "      <th>NA_sales</th>\n",
       "      <th>EU_sales</th>\n",
       "      <th>JP_sales</th>\n",
       "      <th>Other_sales</th>\n",
       "      <th>Critic_Score</th>\n",
       "      <th>User_Score</th>\n",
       "      <th>Rating</th>\n",
       "    </tr>\n",
       "  </thead>\n",
       "  <tbody>\n",
       "    <tr>\n",
       "      <th>0</th>\n",
       "      <td>Wii Sports</td>\n",
       "      <td>Wii</td>\n",
       "      <td>2006.0</td>\n",
       "      <td>Sports</td>\n",
       "      <td>41.36</td>\n",
       "      <td>28.96</td>\n",
       "      <td>3.77</td>\n",
       "      <td>8.45</td>\n",
       "      <td>76.0</td>\n",
       "      <td>8</td>\n",
       "      <td>E</td>\n",
       "    </tr>\n",
       "    <tr>\n",
       "      <th>1</th>\n",
       "      <td>Super Mario Bros.</td>\n",
       "      <td>NES</td>\n",
       "      <td>1985.0</td>\n",
       "      <td>Platform</td>\n",
       "      <td>29.08</td>\n",
       "      <td>3.58</td>\n",
       "      <td>6.81</td>\n",
       "      <td>0.77</td>\n",
       "      <td>NaN</td>\n",
       "      <td>NaN</td>\n",
       "      <td>NaN</td>\n",
       "    </tr>\n",
       "    <tr>\n",
       "      <th>2</th>\n",
       "      <td>Mario Kart Wii</td>\n",
       "      <td>Wii</td>\n",
       "      <td>2008.0</td>\n",
       "      <td>Racing</td>\n",
       "      <td>15.68</td>\n",
       "      <td>12.76</td>\n",
       "      <td>3.79</td>\n",
       "      <td>3.29</td>\n",
       "      <td>82.0</td>\n",
       "      <td>8.3</td>\n",
       "      <td>E</td>\n",
       "    </tr>\n",
       "  </tbody>\n",
       "</table>\n",
       "</div>"
      ],
      "text/plain": [
       "                Name Platform  Year_of_Release     Genre  NA_sales  EU_sales  \\\n",
       "0         Wii Sports      Wii           2006.0    Sports     41.36     28.96   \n",
       "1  Super Mario Bros.      NES           1985.0  Platform     29.08      3.58   \n",
       "2     Mario Kart Wii      Wii           2008.0    Racing     15.68     12.76   \n",
       "\n",
       "   JP_sales  Other_sales  Critic_Score User_Score Rating  \n",
       "0      3.77         8.45          76.0          8      E  \n",
       "1      6.81         0.77           NaN        NaN    NaN  \n",
       "2      3.79         3.29          82.0        8.3      E  "
      ]
     },
     "metadata": {},
     "output_type": "display_data"
    },
    {
     "name": "stdout",
     "output_type": "stream",
     "text": [
      "--------------------------------------------------\n",
      "<class 'pandas.core.frame.DataFrame'>\n",
      "RangeIndex: 16715 entries, 0 to 16714\n",
      "Data columns (total 11 columns):\n",
      " #   Column           Non-Null Count  Dtype  \n",
      "---  ------           --------------  -----  \n",
      " 0   Name             16713 non-null  object \n",
      " 1   Platform         16715 non-null  object \n",
      " 2   Year_of_Release  16446 non-null  float64\n",
      " 3   Genre            16713 non-null  object \n",
      " 4   NA_sales         16715 non-null  float64\n",
      " 5   EU_sales         16715 non-null  float64\n",
      " 6   JP_sales         16715 non-null  float64\n",
      " 7   Other_sales      16715 non-null  float64\n",
      " 8   Critic_Score     8137 non-null   float64\n",
      " 9   User_Score       10014 non-null  object \n",
      " 10  Rating           9949 non-null   object \n",
      "dtypes: float64(6), object(5)\n",
      "memory usage: 1.4+ MB\n",
      "--------------------------------------------------\n"
     ]
    },
    {
     "data": {
      "text/html": [
       "<div>\n",
       "<style scoped>\n",
       "    .dataframe tbody tr th:only-of-type {\n",
       "        vertical-align: middle;\n",
       "    }\n",
       "\n",
       "    .dataframe tbody tr th {\n",
       "        vertical-align: top;\n",
       "    }\n",
       "\n",
       "    .dataframe thead th {\n",
       "        text-align: right;\n",
       "    }\n",
       "</style>\n",
       "<table border=\"1\" class=\"dataframe\">\n",
       "  <thead>\n",
       "    <tr style=\"text-align: right;\">\n",
       "      <th></th>\n",
       "      <th>Name</th>\n",
       "      <th>Platform</th>\n",
       "      <th>Year_of_Release</th>\n",
       "      <th>Genre</th>\n",
       "      <th>NA_sales</th>\n",
       "      <th>EU_sales</th>\n",
       "      <th>JP_sales</th>\n",
       "      <th>Other_sales</th>\n",
       "      <th>Critic_Score</th>\n",
       "      <th>User_Score</th>\n",
       "      <th>Rating</th>\n",
       "    </tr>\n",
       "  </thead>\n",
       "  <tbody>\n",
       "    <tr>\n",
       "      <th>count</th>\n",
       "      <td>16713</td>\n",
       "      <td>16715</td>\n",
       "      <td>16446.000000</td>\n",
       "      <td>16713</td>\n",
       "      <td>16715.000000</td>\n",
       "      <td>16715.000000</td>\n",
       "      <td>16715.000000</td>\n",
       "      <td>16715.000000</td>\n",
       "      <td>8137.000000</td>\n",
       "      <td>10014</td>\n",
       "      <td>9949</td>\n",
       "    </tr>\n",
       "    <tr>\n",
       "      <th>unique</th>\n",
       "      <td>11559</td>\n",
       "      <td>31</td>\n",
       "      <td>NaN</td>\n",
       "      <td>12</td>\n",
       "      <td>NaN</td>\n",
       "      <td>NaN</td>\n",
       "      <td>NaN</td>\n",
       "      <td>NaN</td>\n",
       "      <td>NaN</td>\n",
       "      <td>96</td>\n",
       "      <td>8</td>\n",
       "    </tr>\n",
       "    <tr>\n",
       "      <th>top</th>\n",
       "      <td>Need for Speed: Most Wanted</td>\n",
       "      <td>PS2</td>\n",
       "      <td>NaN</td>\n",
       "      <td>Action</td>\n",
       "      <td>NaN</td>\n",
       "      <td>NaN</td>\n",
       "      <td>NaN</td>\n",
       "      <td>NaN</td>\n",
       "      <td>NaN</td>\n",
       "      <td>tbd</td>\n",
       "      <td>E</td>\n",
       "    </tr>\n",
       "    <tr>\n",
       "      <th>freq</th>\n",
       "      <td>12</td>\n",
       "      <td>2161</td>\n",
       "      <td>NaN</td>\n",
       "      <td>3369</td>\n",
       "      <td>NaN</td>\n",
       "      <td>NaN</td>\n",
       "      <td>NaN</td>\n",
       "      <td>NaN</td>\n",
       "      <td>NaN</td>\n",
       "      <td>2424</td>\n",
       "      <td>3990</td>\n",
       "    </tr>\n",
       "    <tr>\n",
       "      <th>mean</th>\n",
       "      <td>NaN</td>\n",
       "      <td>NaN</td>\n",
       "      <td>2006.484616</td>\n",
       "      <td>NaN</td>\n",
       "      <td>0.263377</td>\n",
       "      <td>0.145060</td>\n",
       "      <td>0.077617</td>\n",
       "      <td>0.047342</td>\n",
       "      <td>68.967679</td>\n",
       "      <td>NaN</td>\n",
       "      <td>NaN</td>\n",
       "    </tr>\n",
       "    <tr>\n",
       "      <th>std</th>\n",
       "      <td>NaN</td>\n",
       "      <td>NaN</td>\n",
       "      <td>5.877050</td>\n",
       "      <td>NaN</td>\n",
       "      <td>0.813604</td>\n",
       "      <td>0.503339</td>\n",
       "      <td>0.308853</td>\n",
       "      <td>0.186731</td>\n",
       "      <td>13.938165</td>\n",
       "      <td>NaN</td>\n",
       "      <td>NaN</td>\n",
       "    </tr>\n",
       "    <tr>\n",
       "      <th>min</th>\n",
       "      <td>NaN</td>\n",
       "      <td>NaN</td>\n",
       "      <td>1980.000000</td>\n",
       "      <td>NaN</td>\n",
       "      <td>0.000000</td>\n",
       "      <td>0.000000</td>\n",
       "      <td>0.000000</td>\n",
       "      <td>0.000000</td>\n",
       "      <td>13.000000</td>\n",
       "      <td>NaN</td>\n",
       "      <td>NaN</td>\n",
       "    </tr>\n",
       "    <tr>\n",
       "      <th>25%</th>\n",
       "      <td>NaN</td>\n",
       "      <td>NaN</td>\n",
       "      <td>2003.000000</td>\n",
       "      <td>NaN</td>\n",
       "      <td>0.000000</td>\n",
       "      <td>0.000000</td>\n",
       "      <td>0.000000</td>\n",
       "      <td>0.000000</td>\n",
       "      <td>60.000000</td>\n",
       "      <td>NaN</td>\n",
       "      <td>NaN</td>\n",
       "    </tr>\n",
       "    <tr>\n",
       "      <th>50%</th>\n",
       "      <td>NaN</td>\n",
       "      <td>NaN</td>\n",
       "      <td>2007.000000</td>\n",
       "      <td>NaN</td>\n",
       "      <td>0.080000</td>\n",
       "      <td>0.020000</td>\n",
       "      <td>0.000000</td>\n",
       "      <td>0.010000</td>\n",
       "      <td>71.000000</td>\n",
       "      <td>NaN</td>\n",
       "      <td>NaN</td>\n",
       "    </tr>\n",
       "    <tr>\n",
       "      <th>75%</th>\n",
       "      <td>NaN</td>\n",
       "      <td>NaN</td>\n",
       "      <td>2010.000000</td>\n",
       "      <td>NaN</td>\n",
       "      <td>0.240000</td>\n",
       "      <td>0.110000</td>\n",
       "      <td>0.040000</td>\n",
       "      <td>0.030000</td>\n",
       "      <td>79.000000</td>\n",
       "      <td>NaN</td>\n",
       "      <td>NaN</td>\n",
       "    </tr>\n",
       "    <tr>\n",
       "      <th>max</th>\n",
       "      <td>NaN</td>\n",
       "      <td>NaN</td>\n",
       "      <td>2016.000000</td>\n",
       "      <td>NaN</td>\n",
       "      <td>41.360000</td>\n",
       "      <td>28.960000</td>\n",
       "      <td>10.220000</td>\n",
       "      <td>10.570000</td>\n",
       "      <td>98.000000</td>\n",
       "      <td>NaN</td>\n",
       "      <td>NaN</td>\n",
       "    </tr>\n",
       "  </tbody>\n",
       "</table>\n",
       "</div>"
      ],
      "text/plain": [
       "                               Name Platform  Year_of_Release   Genre  \\\n",
       "count                         16713    16715     16446.000000   16713   \n",
       "unique                        11559       31              NaN      12   \n",
       "top     Need for Speed: Most Wanted      PS2              NaN  Action   \n",
       "freq                             12     2161              NaN    3369   \n",
       "mean                            NaN      NaN      2006.484616     NaN   \n",
       "std                             NaN      NaN         5.877050     NaN   \n",
       "min                             NaN      NaN      1980.000000     NaN   \n",
       "25%                             NaN      NaN      2003.000000     NaN   \n",
       "50%                             NaN      NaN      2007.000000     NaN   \n",
       "75%                             NaN      NaN      2010.000000     NaN   \n",
       "max                             NaN      NaN      2016.000000     NaN   \n",
       "\n",
       "            NA_sales      EU_sales      JP_sales   Other_sales  Critic_Score  \\\n",
       "count   16715.000000  16715.000000  16715.000000  16715.000000   8137.000000   \n",
       "unique           NaN           NaN           NaN           NaN           NaN   \n",
       "top              NaN           NaN           NaN           NaN           NaN   \n",
       "freq             NaN           NaN           NaN           NaN           NaN   \n",
       "mean        0.263377      0.145060      0.077617      0.047342     68.967679   \n",
       "std         0.813604      0.503339      0.308853      0.186731     13.938165   \n",
       "min         0.000000      0.000000      0.000000      0.000000     13.000000   \n",
       "25%         0.000000      0.000000      0.000000      0.000000     60.000000   \n",
       "50%         0.080000      0.020000      0.000000      0.010000     71.000000   \n",
       "75%         0.240000      0.110000      0.040000      0.030000     79.000000   \n",
       "max        41.360000     28.960000     10.220000     10.570000     98.000000   \n",
       "\n",
       "       User_Score Rating  \n",
       "count       10014   9949  \n",
       "unique         96      8  \n",
       "top           tbd      E  \n",
       "freq         2424   3990  \n",
       "mean          NaN    NaN  \n",
       "std           NaN    NaN  \n",
       "min           NaN    NaN  \n",
       "25%           NaN    NaN  \n",
       "50%           NaN    NaN  \n",
       "75%           NaN    NaN  \n",
       "max           NaN    NaN  "
      ]
     },
     "metadata": {},
     "output_type": "display_data"
    },
    {
     "name": "stdout",
     "output_type": "stream",
     "text": [
      "--------------------------------------------------\n",
      "Количество явных дубликатов: 0\n"
     ]
    }
   ],
   "source": [
    "df_info(df)"
   ]
  },
  {
   "cell_type": "markdown",
   "metadata": {},
   "source": [
    "### Вывод:\n",
    "Датасет содержит **16715** записей по **10** столбцам. Нужно изменить тип данных столбца **`Year_of_Release`** на целочисленный, а столбца **`User_Score`** на вещественный. Типы данных остальных столбцов соответствуют содержимому столбцов. Имеются пропуски в столбцах **`Name`**, **`Year_of_Release`**, **`Genre`**, **`Critic_Score`**, **`User_Score`** и **`Rating`**. Столбец **`User_Score`** имеет значения `tbd`, с ними тоже необходимо разобраться. Также в названиях столбцов встречаются стилистические нарушения. Явных дубликатов нет.\n",
    "***\n",
    "Я имею список игр выпущенных с **1980** по **2016**. Самая многоплатформенная игра - **Need for Speed: Most Wanted**, больше всего игр для **PS2**, самый частый жанр - **Action**, самый превалирующий рейтинг - **E** (для всех). \n",
    "## Шаг 2. Предобработка данных.\n",
    "### Исправляю стиль в заголовках столбцов."
   ]
  },
  {
   "cell_type": "code",
   "execution_count": 5,
   "metadata": {},
   "outputs": [
    {
     "data": {
      "text/plain": [
       "Index(['name', 'platform', 'year_of_release', 'genre', 'na_sales', 'eu_sales',\n",
       "       'jp_sales', 'other_sales', 'critic_score', 'user_score', 'rating'],\n",
       "      dtype='object')"
      ]
     },
     "execution_count": 5,
     "metadata": {},
     "output_type": "execute_result"
    }
   ],
   "source": [
    "df.columns = df.columns.str.lower()\n",
    "df.columns"
   ]
  },
  {
   "cell_type": "markdown",
   "metadata": {},
   "source": [
    "### Привожу все столбцы со строками к нижнему регистру.\n",
    "Чтобы снизить вероятность неявных дубликатов."
   ]
  },
  {
   "cell_type": "code",
   "execution_count": 6,
   "metadata": {},
   "outputs": [],
   "source": [
    "columns = ['name','platform','genre','rating']\n",
    "for column in columns:\n",
    "    df[column] = df[column].str.lower()"
   ]
  },
  {
   "cell_type": "markdown",
   "metadata": {},
   "source": [
    "### Смотрю пропуски в столбце **`name`**."
   ]
  },
  {
   "cell_type": "code",
   "execution_count": 7,
   "metadata": {},
   "outputs": [
    {
     "data": {
      "text/html": [
       "<div>\n",
       "<style scoped>\n",
       "    .dataframe tbody tr th:only-of-type {\n",
       "        vertical-align: middle;\n",
       "    }\n",
       "\n",
       "    .dataframe tbody tr th {\n",
       "        vertical-align: top;\n",
       "    }\n",
       "\n",
       "    .dataframe thead th {\n",
       "        text-align: right;\n",
       "    }\n",
       "</style>\n",
       "<table border=\"1\" class=\"dataframe\">\n",
       "  <thead>\n",
       "    <tr style=\"text-align: right;\">\n",
       "      <th></th>\n",
       "      <th>name</th>\n",
       "      <th>platform</th>\n",
       "      <th>year_of_release</th>\n",
       "      <th>genre</th>\n",
       "      <th>na_sales</th>\n",
       "      <th>eu_sales</th>\n",
       "      <th>jp_sales</th>\n",
       "      <th>other_sales</th>\n",
       "      <th>critic_score</th>\n",
       "      <th>user_score</th>\n",
       "      <th>rating</th>\n",
       "    </tr>\n",
       "  </thead>\n",
       "  <tbody>\n",
       "    <tr>\n",
       "      <th>659</th>\n",
       "      <td>NaN</td>\n",
       "      <td>gen</td>\n",
       "      <td>1993.0</td>\n",
       "      <td>NaN</td>\n",
       "      <td>1.78</td>\n",
       "      <td>0.53</td>\n",
       "      <td>0.00</td>\n",
       "      <td>0.08</td>\n",
       "      <td>NaN</td>\n",
       "      <td>NaN</td>\n",
       "      <td>NaN</td>\n",
       "    </tr>\n",
       "    <tr>\n",
       "      <th>14244</th>\n",
       "      <td>NaN</td>\n",
       "      <td>gen</td>\n",
       "      <td>1993.0</td>\n",
       "      <td>NaN</td>\n",
       "      <td>0.00</td>\n",
       "      <td>0.00</td>\n",
       "      <td>0.03</td>\n",
       "      <td>0.00</td>\n",
       "      <td>NaN</td>\n",
       "      <td>NaN</td>\n",
       "      <td>NaN</td>\n",
       "    </tr>\n",
       "  </tbody>\n",
       "</table>\n",
       "</div>"
      ],
      "text/plain": [
       "      name platform  year_of_release genre  na_sales  eu_sales  jp_sales  \\\n",
       "659    NaN      gen           1993.0   NaN      1.78      0.53      0.00   \n",
       "14244  NaN      gen           1993.0   NaN      0.00      0.00      0.03   \n",
       "\n",
       "       other_sales  critic_score user_score rating  \n",
       "659           0.08           NaN        NaN    NaN  \n",
       "14244         0.00           NaN        NaN    NaN  "
      ]
     },
     "execution_count": 7,
     "metadata": {},
     "output_type": "execute_result"
    }
   ],
   "source": [
    "df[df['name'].isna()]"
   ]
  },
  {
   "cell_type": "markdown",
   "metadata": {},
   "source": [
    "Данные строки можно смело удалить, т.к. пропущены почти все ключевые значения и восстановить их не представляется возможным. Вероятно произошла техническая ошибка при формировании датасета."
   ]
  },
  {
   "cell_type": "code",
   "execution_count": 8,
   "metadata": {},
   "outputs": [
    {
     "data": {
      "text/plain": [
       "0"
      ]
     },
     "execution_count": 8,
     "metadata": {},
     "output_type": "execute_result"
    }
   ],
   "source": [
    "df = df.dropna(subset = ['name'])\n",
    "df['name'].isna().sum()"
   ]
  },
  {
   "cell_type": "markdown",
   "metadata": {},
   "source": [
    "### Смотрю пропуски в столбце **`year_of_release`**."
   ]
  },
  {
   "cell_type": "code",
   "execution_count": 9,
   "metadata": {},
   "outputs": [
    {
     "data": {
      "text/html": [
       "<div>\n",
       "<style scoped>\n",
       "    .dataframe tbody tr th:only-of-type {\n",
       "        vertical-align: middle;\n",
       "    }\n",
       "\n",
       "    .dataframe tbody tr th {\n",
       "        vertical-align: top;\n",
       "    }\n",
       "\n",
       "    .dataframe thead th {\n",
       "        text-align: right;\n",
       "    }\n",
       "</style>\n",
       "<table border=\"1\" class=\"dataframe\">\n",
       "  <thead>\n",
       "    <tr style=\"text-align: right;\">\n",
       "      <th></th>\n",
       "      <th>name</th>\n",
       "      <th>platform</th>\n",
       "      <th>year_of_release</th>\n",
       "      <th>genre</th>\n",
       "      <th>na_sales</th>\n",
       "      <th>eu_sales</th>\n",
       "      <th>jp_sales</th>\n",
       "      <th>other_sales</th>\n",
       "      <th>critic_score</th>\n",
       "      <th>user_score</th>\n",
       "      <th>rating</th>\n",
       "    </tr>\n",
       "  </thead>\n",
       "  <tbody>\n",
       "    <tr>\n",
       "      <th>183</th>\n",
       "      <td>madden nfl 2004</td>\n",
       "      <td>ps2</td>\n",
       "      <td>NaN</td>\n",
       "      <td>sports</td>\n",
       "      <td>4.26</td>\n",
       "      <td>0.26</td>\n",
       "      <td>0.01</td>\n",
       "      <td>0.71</td>\n",
       "      <td>94.0</td>\n",
       "      <td>8.5</td>\n",
       "      <td>e</td>\n",
       "    </tr>\n",
       "    <tr>\n",
       "      <th>377</th>\n",
       "      <td>fifa soccer 2004</td>\n",
       "      <td>ps2</td>\n",
       "      <td>NaN</td>\n",
       "      <td>sports</td>\n",
       "      <td>0.59</td>\n",
       "      <td>2.36</td>\n",
       "      <td>0.04</td>\n",
       "      <td>0.51</td>\n",
       "      <td>84.0</td>\n",
       "      <td>6.4</td>\n",
       "      <td>e</td>\n",
       "    </tr>\n",
       "    <tr>\n",
       "      <th>456</th>\n",
       "      <td>lego batman: the videogame</td>\n",
       "      <td>wii</td>\n",
       "      <td>NaN</td>\n",
       "      <td>action</td>\n",
       "      <td>1.80</td>\n",
       "      <td>0.97</td>\n",
       "      <td>0.00</td>\n",
       "      <td>0.29</td>\n",
       "      <td>74.0</td>\n",
       "      <td>7.9</td>\n",
       "      <td>e10+</td>\n",
       "    </tr>\n",
       "    <tr>\n",
       "      <th>475</th>\n",
       "      <td>wwe smackdown vs. raw 2006</td>\n",
       "      <td>ps2</td>\n",
       "      <td>NaN</td>\n",
       "      <td>fighting</td>\n",
       "      <td>1.57</td>\n",
       "      <td>1.02</td>\n",
       "      <td>0.00</td>\n",
       "      <td>0.41</td>\n",
       "      <td>NaN</td>\n",
       "      <td>NaN</td>\n",
       "      <td>NaN</td>\n",
       "    </tr>\n",
       "    <tr>\n",
       "      <th>609</th>\n",
       "      <td>space invaders</td>\n",
       "      <td>2600</td>\n",
       "      <td>NaN</td>\n",
       "      <td>shooter</td>\n",
       "      <td>2.36</td>\n",
       "      <td>0.14</td>\n",
       "      <td>0.00</td>\n",
       "      <td>0.03</td>\n",
       "      <td>NaN</td>\n",
       "      <td>NaN</td>\n",
       "      <td>NaN</td>\n",
       "    </tr>\n",
       "    <tr>\n",
       "      <th>...</th>\n",
       "      <td>...</td>\n",
       "      <td>...</td>\n",
       "      <td>...</td>\n",
       "      <td>...</td>\n",
       "      <td>...</td>\n",
       "      <td>...</td>\n",
       "      <td>...</td>\n",
       "      <td>...</td>\n",
       "      <td>...</td>\n",
       "      <td>...</td>\n",
       "      <td>...</td>\n",
       "    </tr>\n",
       "    <tr>\n",
       "      <th>16373</th>\n",
       "      <td>pdc world championship darts 2008</td>\n",
       "      <td>psp</td>\n",
       "      <td>NaN</td>\n",
       "      <td>sports</td>\n",
       "      <td>0.01</td>\n",
       "      <td>0.00</td>\n",
       "      <td>0.00</td>\n",
       "      <td>0.00</td>\n",
       "      <td>43.0</td>\n",
       "      <td>tbd</td>\n",
       "      <td>e10+</td>\n",
       "    </tr>\n",
       "    <tr>\n",
       "      <th>16405</th>\n",
       "      <td>freaky flyers</td>\n",
       "      <td>gc</td>\n",
       "      <td>NaN</td>\n",
       "      <td>racing</td>\n",
       "      <td>0.01</td>\n",
       "      <td>0.00</td>\n",
       "      <td>0.00</td>\n",
       "      <td>0.00</td>\n",
       "      <td>69.0</td>\n",
       "      <td>6.5</td>\n",
       "      <td>t</td>\n",
       "    </tr>\n",
       "    <tr>\n",
       "      <th>16448</th>\n",
       "      <td>inversion</td>\n",
       "      <td>pc</td>\n",
       "      <td>NaN</td>\n",
       "      <td>shooter</td>\n",
       "      <td>0.01</td>\n",
       "      <td>0.00</td>\n",
       "      <td>0.00</td>\n",
       "      <td>0.00</td>\n",
       "      <td>59.0</td>\n",
       "      <td>6.7</td>\n",
       "      <td>m</td>\n",
       "    </tr>\n",
       "    <tr>\n",
       "      <th>16458</th>\n",
       "      <td>hakuouki: shinsengumi kitan</td>\n",
       "      <td>ps3</td>\n",
       "      <td>NaN</td>\n",
       "      <td>adventure</td>\n",
       "      <td>0.01</td>\n",
       "      <td>0.00</td>\n",
       "      <td>0.00</td>\n",
       "      <td>0.00</td>\n",
       "      <td>NaN</td>\n",
       "      <td>NaN</td>\n",
       "      <td>NaN</td>\n",
       "    </tr>\n",
       "    <tr>\n",
       "      <th>16522</th>\n",
       "      <td>virtua quest</td>\n",
       "      <td>gc</td>\n",
       "      <td>NaN</td>\n",
       "      <td>role-playing</td>\n",
       "      <td>0.01</td>\n",
       "      <td>0.00</td>\n",
       "      <td>0.00</td>\n",
       "      <td>0.00</td>\n",
       "      <td>55.0</td>\n",
       "      <td>5.5</td>\n",
       "      <td>t</td>\n",
       "    </tr>\n",
       "  </tbody>\n",
       "</table>\n",
       "<p>269 rows × 11 columns</p>\n",
       "</div>"
      ],
      "text/plain": [
       "                                    name platform  year_of_release  \\\n",
       "183                      madden nfl 2004      ps2              NaN   \n",
       "377                     fifa soccer 2004      ps2              NaN   \n",
       "456           lego batman: the videogame      wii              NaN   \n",
       "475           wwe smackdown vs. raw 2006      ps2              NaN   \n",
       "609                       space invaders     2600              NaN   \n",
       "...                                  ...      ...              ...   \n",
       "16373  pdc world championship darts 2008      psp              NaN   \n",
       "16405                      freaky flyers       gc              NaN   \n",
       "16448                          inversion       pc              NaN   \n",
       "16458        hakuouki: shinsengumi kitan      ps3              NaN   \n",
       "16522                       virtua quest       gc              NaN   \n",
       "\n",
       "              genre  na_sales  eu_sales  jp_sales  other_sales  critic_score  \\\n",
       "183          sports      4.26      0.26      0.01         0.71          94.0   \n",
       "377          sports      0.59      2.36      0.04         0.51          84.0   \n",
       "456          action      1.80      0.97      0.00         0.29          74.0   \n",
       "475        fighting      1.57      1.02      0.00         0.41           NaN   \n",
       "609         shooter      2.36      0.14      0.00         0.03           NaN   \n",
       "...             ...       ...       ...       ...          ...           ...   \n",
       "16373        sports      0.01      0.00      0.00         0.00          43.0   \n",
       "16405        racing      0.01      0.00      0.00         0.00          69.0   \n",
       "16448       shooter      0.01      0.00      0.00         0.00          59.0   \n",
       "16458     adventure      0.01      0.00      0.00         0.00           NaN   \n",
       "16522  role-playing      0.01      0.00      0.00         0.00          55.0   \n",
       "\n",
       "      user_score rating  \n",
       "183          8.5      e  \n",
       "377          6.4      e  \n",
       "456          7.9   e10+  \n",
       "475          NaN    NaN  \n",
       "609          NaN    NaN  \n",
       "...          ...    ...  \n",
       "16373        tbd   e10+  \n",
       "16405        6.5      t  \n",
       "16448        6.7      m  \n",
       "16458        NaN    NaN  \n",
       "16522        5.5      t  \n",
       "\n",
       "[269 rows x 11 columns]"
      ]
     },
     "execution_count": 9,
     "metadata": {},
     "output_type": "execute_result"
    }
   ],
   "source": [
    "df[df['year_of_release'].isna()]"
   ]
  },
  {
   "cell_type": "markdown",
   "metadata": {},
   "source": [
    "**269** строк. Смотрю, какую долю составляют эти значения."
   ]
  },
  {
   "cell_type": "code",
   "execution_count": 10,
   "metadata": {},
   "outputs": [
    {
     "data": {
      "text/plain": [
       "1.61"
      ]
     },
     "execution_count": 10,
     "metadata": {},
     "output_type": "execute_result"
    }
   ],
   "source": [
    "round(df['year_of_release'].isna().mean() * 100, 2)"
   ]
  },
  {
   "cell_type": "markdown",
   "metadata": {},
   "source": [
    "**1.6%** не много. Их также удаляю. К тому же в некоторых строках отсутствуют и другие значения. Сразу изменяю тип данных столбца **`year_of_release`** на целочисленный. "
   ]
  },
  {
   "cell_type": "code",
   "execution_count": 11,
   "metadata": {},
   "outputs": [
    {
     "data": {
      "text/plain": [
       "0"
      ]
     },
     "execution_count": 11,
     "metadata": {},
     "output_type": "execute_result"
    }
   ],
   "source": [
    "df = df.dropna(subset = ['year_of_release'])\n",
    "df['year_of_release'] = df['year_of_release'].astype('int64')\n",
    "df['year_of_release'].isna().sum()"
   ]
  },
  {
   "cell_type": "markdown",
   "metadata": {},
   "source": [
    "### Смотрю количество и долю пропущенных значений столбца **`critic_score`**."
   ]
  },
  {
   "cell_type": "code",
   "execution_count": 12,
   "metadata": {},
   "outputs": [
    {
     "data": {
      "text/plain": [
       "(8461, 51.45)"
      ]
     },
     "execution_count": 12,
     "metadata": {},
     "output_type": "execute_result"
    }
   ],
   "source": [
    "df['critic_score'].isna().sum(), round(df['critic_score'].isna().mean() * 100, 2)"
   ]
  },
  {
   "cell_type": "markdown",
   "metadata": {},
   "source": [
    "**8461** значение, **51%** от всей выборки. Упущения критиков я восполнять не буду, оставляю пропуски на их совести.😅\n",
    "### Разбираюсь со значениями `tbd` в столбце **`user_score`**.\n",
    "В данном столбце встречается значение `tbd`(от англ. [to be determined or decided or declared](https://translated.turbopages.org/proxy_u/en-ru.ru.aaa3bd59-6283ef79-cbfa172b-74722d776562/https/en.wikipedia.org/wiki/To_be_announced)), что означает, что оценка еще только будет определена. А пока она не определена, логично заменить значение **tbd** на **NaN**. \n",
    "\n",
    "Меняю тип данных столбца на вещественный. И смотрю количество и долю пропущенных значений."
   ]
  },
  {
   "cell_type": "code",
   "execution_count": 13,
   "metadata": {},
   "outputs": [
    {
     "data": {
      "text/plain": [
       "(8981, 54.62)"
      ]
     },
     "execution_count": 13,
     "metadata": {},
     "output_type": "execute_result"
    }
   ],
   "source": [
    "df.loc[df['user_score'] =='tbd','user_score'] = np.nan\n",
    "df['user_score'] = df['user_score'].astype(float)\n",
    "df['user_score'].isna().sum(), round(df['user_score'].isna().mean() * 100, 2)"
   ]
  },
  {
   "cell_type": "markdown",
   "metadata": {},
   "source": [
    "Готово. Пропуски, возникшие вероятно из-за какой-то технический ошибки, я как и в случае с **`critic_score`** оставляю.\n",
    "### Смотрю количество и долю пропущенных значений столбца **`rating`**."
   ]
  },
  {
   "cell_type": "code",
   "execution_count": 14,
   "metadata": {},
   "outputs": [
    {
     "data": {
      "text/plain": [
       "(6676, 40.6)"
      ]
     },
     "execution_count": 14,
     "metadata": {},
     "output_type": "execute_result"
    }
   ],
   "source": [
    "df['rating'].isna().sum(), round(df['rating'].isna().mean() * 100, 2)"
   ]
  },
  {
   "cell_type": "markdown",
   "metadata": {},
   "source": [
    "**6676** значений, почти **41%** от всей выборки. Вероятно старые игры просто не попали под обязательную возрастную категоризацию, а новые могут ожидать присвоения рейтинга, но в таком случае в графе должно быть значение `rp` (от англ. [rating pending](https://ru.wikipedia.org/wiki/Entertainment_Software_Rating_Board)), что означает - \"рейтинг ожидается\". Также не стоит исключать технические ошибки при создании датасета. Заменяю все пропуски на **rp**, ведь пропуски в данном столбце могут повлиять на анализ других столбцов."
   ]
  },
  {
   "cell_type": "code",
   "execution_count": 15,
   "metadata": {},
   "outputs": [
    {
     "data": {
      "text/plain": [
       "0"
      ]
     },
     "execution_count": 15,
     "metadata": {},
     "output_type": "execute_result"
    }
   ],
   "source": [
    "df['rating'] = df['rating'].fillna('rp')\n",
    "df['rating'].isna().sum()"
   ]
  },
  {
   "cell_type": "markdown",
   "metadata": {},
   "source": [
    "Готово.\n",
    "### Считаю суммарные продажи во всех регионах и записываю их в столбец **`total_sales`**."
   ]
  },
  {
   "cell_type": "code",
   "execution_count": 16,
   "metadata": {},
   "outputs": [],
   "source": [
    "df['total_sales'] = df[['na_sales','eu_sales','jp_sales', 'other_sales']].sum(axis = 1)"
   ]
  },
  {
   "cell_type": "markdown",
   "metadata": {},
   "source": [
    "Готово.\n",
    "### Проверяю наличие явных дубликатов."
   ]
  },
  {
   "cell_type": "code",
   "execution_count": 17,
   "metadata": {},
   "outputs": [
    {
     "data": {
      "text/plain": [
       "0"
      ]
     },
     "execution_count": 17,
     "metadata": {},
     "output_type": "execute_result"
    }
   ],
   "source": [
    "df.duplicated().sum()"
   ]
  },
  {
   "cell_type": "markdown",
   "metadata": {},
   "source": [
    "Отлично, их нет.\n",
    "## Шаг 3. Исследовательский анализ данных.\n",
    "### Смотрю, сколько игр выпускалось в разные годы. Важны ли данные за все периоды?\n",
    "Для этого строю столбчатую диаграмму."
   ]
  },
  {
   "cell_type": "code",
   "execution_count": 18,
   "metadata": {},
   "outputs": [
    {
     "data": {
      "image/png": "[encoded data removed]",
      "text/plain": [
       "<Figure size 1080x360 with 1 Axes>"
      ]
     },
     "metadata": {
      "needs_background": "light"
     },
     "output_type": "display_data"
    }
   ],
   "source": [
    "years = df.groupby('year_of_release').agg({'name':'count'})\n",
    "years.columns = ['games']\n",
    "years.plot(\n",
    "    y = 'games', \n",
    "    kind = 'bar', \n",
    "    figsize = (15, 5), \n",
    "    grid = True, \n",
    "    title = 'Количество выпущенных игр в разные годы',\n",
    "    ylabel = 'Количество выпущенных игр',\n",
    "    xlabel = 'Год'\n",
    ")\n",
    "plt.show()"
   ]
  },
  {
   "cell_type": "markdown",
   "metadata": {},
   "source": [
    "До **1994** года ирг выпускалось мало, поэтому этот период не так важен, потом произошел скачок с пиком в **2008-2009** годах, и снова спад, связанный вероятно с распространением у населения смартфонов и как следствие развитие мобильного гейминга. Больше всего игр выпускалось в период **с 2005 по 2011 год**. \n",
    "### Выбираю платформы с наибольшими суммарными продажами и строю распределение по годам. "
   ]
  },
  {
   "cell_type": "code",
   "execution_count": 19,
   "metadata": {},
   "outputs": [
    {
     "data": {
      "image/png": "[encoded data removed]",
      "text/plain": [
       "<Figure size 1080x360 with 1 Axes>"
      ]
     },
     "metadata": {
      "needs_background": "light"
     },
     "output_type": "display_data"
    }
   ],
   "source": [
    "top_platforms = df.groupby('platform').agg({'total_sales':'sum'}).sort_values(by = 'total_sales', ascending = False)\n",
    "top_platforms.plot(\n",
    "    y = 'total_sales', \n",
    "    kind = 'bar', \n",
    "    figsize = (15, 5), \n",
    "    grid = True, \n",
    "    title = 'Платформы с наибольшими суммарными продажами', \n",
    "    ylabel = 'Суммарные продажи',\n",
    "    xlabel = 'Платформы'\n",
    ")\n",
    "plt.show()"
   ]
  },
  {
   "cell_type": "markdown",
   "metadata": {},
   "source": [
    "Таким образом, можно выделить **6** платформ с наибольшими продажами."
   ]
  },
  {
   "cell_type": "code",
   "execution_count": 20,
   "metadata": {},
   "outputs": [
    {
     "data": {
      "text/html": [
       "<div>\n",
       "<style scoped>\n",
       "    .dataframe tbody tr th:only-of-type {\n",
       "        vertical-align: middle;\n",
       "    }\n",
       "\n",
       "    .dataframe tbody tr th {\n",
       "        vertical-align: top;\n",
       "    }\n",
       "\n",
       "    .dataframe thead th {\n",
       "        text-align: right;\n",
       "    }\n",
       "</style>\n",
       "<table border=\"1\" class=\"dataframe\">\n",
       "  <thead>\n",
       "    <tr style=\"text-align: right;\">\n",
       "      <th></th>\n",
       "      <th>total_sales</th>\n",
       "    </tr>\n",
       "    <tr>\n",
       "      <th>platform</th>\n",
       "      <th></th>\n",
       "    </tr>\n",
       "  </thead>\n",
       "  <tbody>\n",
       "    <tr>\n",
       "      <th>ps2</th>\n",
       "      <td>1233.56</td>\n",
       "    </tr>\n",
       "    <tr>\n",
       "      <th>x360</th>\n",
       "      <td>961.24</td>\n",
       "    </tr>\n",
       "    <tr>\n",
       "      <th>ps3</th>\n",
       "      <td>931.34</td>\n",
       "    </tr>\n",
       "    <tr>\n",
       "      <th>wii</th>\n",
       "      <td>891.18</td>\n",
       "    </tr>\n",
       "    <tr>\n",
       "      <th>ds</th>\n",
       "      <td>802.78</td>\n",
       "    </tr>\n",
       "    <tr>\n",
       "      <th>ps</th>\n",
       "      <td>727.58</td>\n",
       "    </tr>\n",
       "  </tbody>\n",
       "</table>\n",
       "</div>"
      ],
      "text/plain": [
       "          total_sales\n",
       "platform             \n",
       "ps2           1233.56\n",
       "x360           961.24\n",
       "ps3            931.34\n",
       "wii            891.18\n",
       "ds             802.78\n",
       "ps             727.58"
      ]
     },
     "execution_count": 20,
     "metadata": {},
     "output_type": "execute_result"
    }
   ],
   "source": [
    "top_platforms.head(6)"
   ]
  },
  {
   "cell_type": "markdown",
   "metadata": {},
   "source": [
    "### Смотрю, как менялись продажи по самым популярным платформам.  За какой характерный срок появляются новые и исчезают старые платформы.\n",
    "Для большей наглядности беру топ-10 платформ."
   ]
  },
  {
   "cell_type": "code",
   "execution_count": 21,
   "metadata": {
    "scrolled": false
   },
   "outputs": [
    {
     "data": {
      "image/png": "[encoded data removed]",
      "text/plain": [
       "<Figure size 1080x360 with 1 Axes>"
      ]
     },
     "metadata": {
      "needs_background": "light"
     },
     "output_type": "display_data"
    }
   ],
   "source": [
    "def sales_on_top_platforms(platform):\n",
    "    condition = df[(df['platform'] == platform) & (df['year_of_release'] >= 1994)]\n",
    "    condition_pivot = condition.pivot_table(\n",
    "        index = 'year_of_release', \n",
    "        values = 'total_sales', \n",
    "        aggfunc = 'sum'\n",
    "    ).sort_values(\n",
    "        'year_of_release', \n",
    "        ascending = False\n",
    "    )\n",
    "    return condition_pivot\n",
    "\n",
    "plt.figure(figsize = (15, 5))\n",
    "plt.title('Продажи по самым популярным платформам')\n",
    "plt.xlabel('Год')\n",
    "plt.ylabel('Продажи')\n",
    "\n",
    "for platform in list(top_platforms.head(10).index.tolist()):\n",
    "    sns.lineplot(\n",
    "        data = sales_on_top_platforms(platform)['total_sales'], \n",
    "        label = platform\n",
    "    )\n",
    "    plt.legend()"
   ]
  },
  {
   "cell_type": "markdown",
   "metadata": {},
   "source": [
    "Как видно, в среднем платформы существуют около **10 лет**. Логично, что пик популярности платформы примерно в середине ее жизни. Начиная с **2004**, платформы появляютя по **1-2** в год. Думаю можно назвать актуальным периодом последние **3** года, то есть **с 2013 по 2016 год**.\n",
    "### Смотрю, какие платформы за актуальный период лидируют по продажам, растут или падают. Выбираю несколько потенциально прибыльных платформ."
   ]
  },
  {
   "cell_type": "code",
   "execution_count": 22,
   "metadata": {},
   "outputs": [],
   "source": [
    "actual_df = df.query('2013 <= year_of_release <= 2016') \n",
    "actual_df_pivot = actual_df.pivot_table(\n",
    "    index = ['year_of_release', 'platform'], \n",
    "    values = 'total_sales', \n",
    "    aggfunc = 'sum'\n",
    ")"
   ]
  },
  {
   "cell_type": "code",
   "execution_count": 23,
   "metadata": {
    "scrolled": true
   },
   "outputs": [
    {
     "data": {
      "image/png": "[encoded data removed]",
      "text/plain": [
       "<Figure size 1080x360 with 1 Axes>"
      ]
     },
     "metadata": {
      "needs_background": "light"
     },
     "output_type": "display_data"
    }
   ],
   "source": [
    "platform_index = actual_df_pivot.index.to_list()\n",
    "\n",
    "actual_df_pivot['year'] = [year for year, platform in platform_index]\n",
    "actual_df_pivot.index = [platform for year, platform in platform_index]\n",
    "\n",
    "fig, ax = plt.subplots(figsize = (15, 5))\n",
    "plt.title('Распределение популярных платформ за актуальный период')\n",
    "plt.xlabel('Год')\n",
    "plt.ylabel('Продажи')\n",
    "for platform in actual_df_pivot.index:\n",
    "    ax.plot(actual_df_pivot.loc[platform]['year'],\n",
    "            actual_df_pivot.loc[platform]['total_sales'])\n",
    "ax.legend(actual_df_pivot.index.unique(),\n",
    "          prop = {'size':10})\n",
    "plt.show()"
   ]
  },
  {
   "cell_type": "markdown",
   "metadata": {},
   "source": [
    "Как видно, практически у всех платформ снизились показатели продаж. Только платформы **x360** и **ps4** в начале актуального периода показывали рост, но после **2015** года также снизили показатели продаж, вероятно из-за анонса **ps4pro**.\n",
    "### Строю график «ящик с усами» по глобальным продажам игр в разбивке по платформам."
   ]
  },
  {
   "cell_type": "code",
   "execution_count": 24,
   "metadata": {
    "scrolled": true
   },
   "outputs": [
    {
     "data": {
      "image/png": "[encoded data removed]",
      "text/plain": [
       "<Figure size 1080x360 with 1 Axes>"
      ]
     },
     "metadata": {
      "needs_background": "light"
     },
     "output_type": "display_data"
    }
   ],
   "source": [
    "fig, ax = plt.subplots(figsize = (15, 5))\n",
    "sns.boxplot(\n",
    "    x = 'platform',\n",
    "    y = 'total_sales',\n",
    "    data = actual_df,\n",
    "    ax=ax\n",
    ")\n",
    "plt.title('Продажам игр по платформам')\n",
    "plt.xlabel('Платформы')\n",
    "plt.ylabel('Продажи')\n",
    "plt.show()"
   ]
  },
  {
   "cell_type": "code",
   "execution_count": 25,
   "metadata": {},
   "outputs": [
    {
     "data": {
      "image/png": "[encoded data removed]",
      "text/plain": [
       "<Figure size 1080x360 with 1 Axes>"
      ]
     },
     "metadata": {
      "needs_background": "light"
     },
     "output_type": "display_data"
    }
   ],
   "source": [
    "q_1 = actual_df['total_sales'].quantile(0.25)\n",
    "q_3 = actual_df['total_sales'].quantile(0.75)\n",
    "limitation = q_3 + 2 * q_1\n",
    "\n",
    "fig, ax = plt.subplots(figsize = (15, 5))\n",
    "sns.boxplot(\n",
    "    x = 'platform',\n",
    "    y = 'total_sales',\n",
    "    data = actual_df.query('total_sales <= @limitation'),\n",
    "    ax=ax\n",
    ")\n",
    "plt.title('Продажам игр по платформам')\n",
    "plt.xlabel('Платформы')\n",
    "plt.ylabel('Продажи')\n",
    "plt.show()"
   ]
  },
  {
   "cell_type": "markdown",
   "metadata": {},
   "source": [
    "Видно довольно большие выбросы. Но покупка миллионами пользователей какой-то игры, вряд ли случайна, эти пользователи платили собственные деньги и значит действовали осознанно. Значит высокие продажи игры обусловлены удачным сюжетом, отличной графикой, быстрым движком и огромным рекламным бюджетом. Самыми продаваемыми платформами можно назвать **ps4** и **x360**. Практически у всех платформ большая часть значений больше медианного. Разница между средним значением и медианой указывает на то, что существует несколько игр с экстремальными значениями, которые увеличивают среднее значение. Наиболее равномерно распределены значения у платформ **xone** и **ds**.\n",
    "### Смотрю, как влияют на продажи внутри одной популярной платформы отзывы пользователей и критиков. \n",
    "Для начала, выделяю платформы с наибольшими суммарными продажами за актуальный период, т.к. некоторые платформы, популярные за весь период, в актуальный период, перестали быть актуальными."
   ]
  },
  {
   "cell_type": "code",
   "execution_count": 26,
   "metadata": {
    "scrolled": false
   },
   "outputs": [
    {
     "data": {
      "image/png": "[encoded data removed]",
      "text/plain": [
       "<Figure size 1080x360 with 1 Axes>"
      ]
     },
     "metadata": {
      "needs_background": "light"
     },
     "output_type": "display_data"
    }
   ],
   "source": [
    "top_actual_platforms = actual_df.groupby('platform').agg({'total_sales':'sum'}).sort_values(by = 'total_sales', ascending = False)\n",
    "top_actual_platforms.plot(\n",
    "    y = 'total_sales', \n",
    "    kind = 'bar', \n",
    "    figsize = (15, 5), \n",
    "    grid = True, \n",
    "    title = 'Платформы с наибольшими суммарными продажами за актуальный период', \n",
    "    ylabel = 'Суммарные продажи',\n",
    "    xlabel = 'Платформы'\n",
    ")\n",
    "plt.show()"
   ]
  },
  {
   "cell_type": "markdown",
   "metadata": {},
   "source": [
    "Беру **ps4**, сортирую датасет, считаю корреляцию между отзывами и продажами и строю диаграмму рассеяния. Сначала отзывы пользователей."
   ]
  },
  {
   "cell_type": "code",
   "execution_count": 27,
   "metadata": {
    "scrolled": false
   },
   "outputs": [
    {
     "name": "stdout",
     "output_type": "stream",
     "text": [
      "Корреляция между отзывами пользователей и продажами платформы -0.03195711020455646\n"
     ]
    },
    {
     "data": {
      "image/png": "[encoded data removed]",
      "text/plain": [
       "<Figure size 1080x360 with 1 Axes>"
      ]
     },
     "metadata": {
      "needs_background": "light"
     },
     "output_type": "display_data"
    }
   ],
   "source": [
    "ps4 = actual_df[actual_df['platform'] == 'ps4']\n",
    "print('Корреляция между отзывами пользователей и продажами платформы', ps4['user_score'].corr(ps4['total_sales']))\n",
    "\n",
    "plt.figure(figsize = (15, 5))\n",
    "sns.scatterplot(\n",
    "    x = 'user_score',\n",
    "    y = 'total_sales', \n",
    "    data = ps4\n",
    ")\n",
    "plt.title('Корреляция между отзывами пользователей и продажами платформы ps4')\n",
    "plt.xlabel('Отзывы пользователей')\n",
    "plt.ylabel('Продажи')\n",
    "plt.show()"
   ]
  },
  {
   "cell_type": "markdown",
   "metadata": {},
   "source": [
    "Есть очень слабая обратная корреляция между отзывами пользователей и продажами платформы **ps4** - **3%**.\n",
    "\n",
    "Смотрю как обстоят дела с отзывами критиков."
   ]
  },
  {
   "cell_type": "code",
   "execution_count": 28,
   "metadata": {
    "scrolled": false
   },
   "outputs": [
    {
     "name": "stdout",
     "output_type": "stream",
     "text": [
      "Корреляция между отзывами критиков и продажами платформы 0.40656790206178145\n"
     ]
    },
    {
     "data": {
      "image/png": "[encoded data removed]",
      "text/plain": [
       "<Figure size 1080x360 with 1 Axes>"
      ]
     },
     "metadata": {
      "needs_background": "light"
     },
     "output_type": "display_data"
    }
   ],
   "source": [
    "print('Корреляция между отзывами критиков и продажами платформы', ps4['critic_score'].corr(ps4['total_sales']))\n",
    "\n",
    "plt.figure(figsize = (15, 5))\n",
    "sns.scatterplot(\n",
    "    x = 'critic_score', \n",
    "    y = 'total_sales', \n",
    "    data = ps4\n",
    ")\n",
    "plt.title('Корреляция между отзывами критиков и продажами платформы x360')\n",
    "plt.xlabel('Отзывы критиков')\n",
    "plt.ylabel('Продажи')\n",
    "plt.show()"
   ]
  },
  {
   "cell_type": "markdown",
   "metadata": {},
   "source": [
    "Существует слабая корреляция между отзывами критиков и продажами платформы **ps4** - **41%**, это значительно больше, чем корреляция между отзывами пользователей и продажами платформы, что довольно логично.\n",
    "### Соотношу выводы с продажами игр на остальных платформах из топ-5."
   ]
  },
  {
   "cell_type": "code",
   "execution_count": 29,
   "metadata": {
    "scrolled": false
   },
   "outputs": [
    {
     "data": {
      "image/png": "[encoded data removed]",
      "text/plain": [
       "<Figure size 1080x360 with 2 Axes>"
      ]
     },
     "metadata": {
      "needs_background": "light"
     },
     "output_type": "display_data"
    },
    {
     "name": "stdout",
     "output_type": "stream",
     "text": [
      "Корреляция между отзывами критиков и продажами платформы ps3 слабая: 0.3342853393371919\n",
      "Корреляция между отзывами пользователей и продажами платформы ps3 очень слабая: 0.0023944027357566838\n"
     ]
    },
    {
     "data": {
      "image/png": "[encoded data removed]",
      "text/plain": [
       "<Figure size 1080x360 with 2 Axes>"
      ]
     },
     "metadata": {
      "needs_background": "light"
     },
     "output_type": "display_data"
    },
    {
     "name": "stdout",
     "output_type": "stream",
     "text": [
      "Корреляция между отзывами критиков и продажами платформы xone слабая: 0.4169983280084016\n",
      "Корреляция между отзывами пользователей и продажами платформы xone обратная, очень слабая: -0.0689250532827942\n"
     ]
    },
    {
     "data": {
      "image/png": "[encoded data removed]",
      "text/plain": [
       "<Figure size 1080x360 with 2 Axes>"
      ]
     },
     "metadata": {
      "needs_background": "light"
     },
     "output_type": "display_data"
    },
    {
     "name": "stdout",
     "output_type": "stream",
     "text": [
      "Корреляция между отзывами критиков и продажами платформы 3ds слабая: 0.35705661422881046\n",
      "Корреляция между отзывами пользователей и продажами платформы 3ds очень слабая: 0.2415041177356301\n"
     ]
    },
    {
     "data": {
      "image/png": "[encoded data removed]",
      "text/plain": [
       "<Figure size 1080x360 with 2 Axes>"
      ]
     },
     "metadata": {
      "needs_background": "light"
     },
     "output_type": "display_data"
    },
    {
     "name": "stdout",
     "output_type": "stream",
     "text": [
      "Корреляция между отзывами критиков и продажами платформы x360 слабая: 0.3503445460228664\n",
      "Корреляция между отзывами пользователей и продажами платформы x360 обратная, очень слабая: -0.011742185147181351\n"
     ]
    }
   ],
   "source": [
    "def platform_corr(platform):\n",
    "    platform_df = actual_df[actual_df['platform'] == platform]\n",
    "    fig, ax = plt.subplots(1, 2, figsize = (15, 5))\n",
    "    sns.scatterplot(\n",
    "        x = 'user_score', \n",
    "        y = 'total_sales', \n",
    "        data = platform_df, \n",
    "        ax = ax[0]\n",
    "    )\n",
    "    sns.scatterplot(\n",
    "        x = 'critic_score', \n",
    "        y = 'total_sales', \n",
    "        data = platform_df, \n",
    "        ax = ax[1]\n",
    "    )\n",
    "    fig.suptitle(platform)\n",
    "    ax[0].set(xlabel = 'Отзывы пользователей')\n",
    "    ax[1].set(xlabel = 'Отзывы критиков')\n",
    "    ax[0].set(ylabel = 'Продажи')\n",
    "    ax[1].set(ylabel = 'Продажи')\n",
    "    plt.show()\n",
    "    \n",
    "    user_corr = platform_df['user_score'].corr(platform_df['total_sales'])\n",
    "    critic_corr = platform_df['critic_score'].corr(platform_df['total_sales'])\n",
    "    \n",
    "    values = [critic_corr, user_corr]\n",
    "    name_values = ['критиков', 'пользователей']\n",
    "    \n",
    "    for i in range(len(values)):\n",
    "        if -0.3 <= values[i] < 0:\n",
    "            print('Корреляция между отзывами', name_values[i], 'и продажами платформы', platform, 'обратная, очень слабая:', values[i]) \n",
    "        if 0 <= values[i] < 0.3:\n",
    "            print('Корреляция между отзывами', name_values[i], 'и продажами платформы', platform, 'очень слабая:', values[i])    \n",
    "        if 0.3 <= values[i] < 0.5:\n",
    "            print('Корреляция между отзывами', name_values[i], 'и продажами платформы', platform, 'слабая:', values[i])\n",
    "        if 0.5 <= values[i] < 0.7:\n",
    "            print('Корреляция между отзывами', name_values[i], 'и продажами платформы', platform, 'средняя:', values[i])\n",
    "        if 0.7 <= values[i] < 0.9:\n",
    "            print('Корреляция между отзывами', name_values[i], 'и продажами платформы', platform, 'высокая:', values[i])\n",
    "        if 0.9 <= values[i]:\n",
    "            print('Корреляция между отзывами', name_values[i], 'и продажами платформы', platform, 'очень высокая:', xvalues[i])\n",
    "\n",
    "for platform in 'ps3', 'xone', '3ds', 'x360':\n",
    "    platform_corr(platform)"
   ]
  },
  {
   "cell_type": "markdown",
   "metadata": {},
   "source": [
    "Заодно считаю медиану, среднее, дисперсию и стандартное отклонение у платформ по оценкам пользователей и критиков."
   ]
  },
  {
   "cell_type": "code",
   "execution_count": 30,
   "metadata": {},
   "outputs": [
    {
     "data": {
      "text/html": [
       "<div>\n",
       "<style scoped>\n",
       "    .dataframe tbody tr th:only-of-type {\n",
       "        vertical-align: middle;\n",
       "    }\n",
       "\n",
       "    .dataframe tbody tr th {\n",
       "        vertical-align: top;\n",
       "    }\n",
       "\n",
       "    .dataframe thead tr th {\n",
       "        text-align: left;\n",
       "    }\n",
       "\n",
       "    .dataframe thead tr:last-of-type th {\n",
       "        text-align: right;\n",
       "    }\n",
       "</style>\n",
       "<table border=\"1\" class=\"dataframe\">\n",
       "  <thead>\n",
       "    <tr>\n",
       "      <th></th>\n",
       "      <th colspan=\"2\" halign=\"left\">median</th>\n",
       "      <th colspan=\"2\" halign=\"left\">mean</th>\n",
       "      <th colspan=\"2\" halign=\"left\">var</th>\n",
       "      <th colspan=\"2\" halign=\"left\">std</th>\n",
       "    </tr>\n",
       "    <tr>\n",
       "      <th></th>\n",
       "      <th>critic_score</th>\n",
       "      <th>user_score</th>\n",
       "      <th>critic_score</th>\n",
       "      <th>user_score</th>\n",
       "      <th>critic_score</th>\n",
       "      <th>user_score</th>\n",
       "      <th>critic_score</th>\n",
       "      <th>user_score</th>\n",
       "    </tr>\n",
       "    <tr>\n",
       "      <th>platform</th>\n",
       "      <th></th>\n",
       "      <th></th>\n",
       "      <th></th>\n",
       "      <th></th>\n",
       "      <th></th>\n",
       "      <th></th>\n",
       "      <th></th>\n",
       "      <th></th>\n",
       "    </tr>\n",
       "  </thead>\n",
       "  <tbody>\n",
       "    <tr>\n",
       "      <th>3ds</th>\n",
       "      <td>69.0</td>\n",
       "      <td>7.30</td>\n",
       "      <td>68.338028</td>\n",
       "      <td>6.976250</td>\n",
       "      <td>171.426962</td>\n",
       "      <td>2.368163</td>\n",
       "      <td>13.093012</td>\n",
       "      <td>1.538884</td>\n",
       "    </tr>\n",
       "    <tr>\n",
       "      <th>ds</th>\n",
       "      <td>NaN</td>\n",
       "      <td>4.80</td>\n",
       "      <td>NaN</td>\n",
       "      <td>4.800000</td>\n",
       "      <td>NaN</td>\n",
       "      <td>NaN</td>\n",
       "      <td>NaN</td>\n",
       "      <td>NaN</td>\n",
       "    </tr>\n",
       "    <tr>\n",
       "      <th>pc</th>\n",
       "      <td>77.0</td>\n",
       "      <td>6.80</td>\n",
       "      <td>75.550336</td>\n",
       "      <td>6.269677</td>\n",
       "      <td>110.438328</td>\n",
       "      <td>3.035893</td>\n",
       "      <td>10.508964</td>\n",
       "      <td>1.742381</td>\n",
       "    </tr>\n",
       "    <tr>\n",
       "      <th>ps3</th>\n",
       "      <td>73.0</td>\n",
       "      <td>6.90</td>\n",
       "      <td>70.198347</td>\n",
       "      <td>6.348387</td>\n",
       "      <td>205.326997</td>\n",
       "      <td>3.229430</td>\n",
       "      <td>14.329236</td>\n",
       "      <td>1.797061</td>\n",
       "    </tr>\n",
       "    <tr>\n",
       "      <th>ps4</th>\n",
       "      <td>73.0</td>\n",
       "      <td>7.00</td>\n",
       "      <td>72.091270</td>\n",
       "      <td>6.748249</td>\n",
       "      <td>155.900003</td>\n",
       "      <td>2.130085</td>\n",
       "      <td>12.485992</td>\n",
       "      <td>1.459481</td>\n",
       "    </tr>\n",
       "    <tr>\n",
       "      <th>psp</th>\n",
       "      <td>74.0</td>\n",
       "      <td>5.85</td>\n",
       "      <td>74.000000</td>\n",
       "      <td>5.850000</td>\n",
       "      <td>NaN</td>\n",
       "      <td>12.005000</td>\n",
       "      <td>NaN</td>\n",
       "      <td>3.464823</td>\n",
       "    </tr>\n",
       "    <tr>\n",
       "      <th>psv</th>\n",
       "      <td>72.0</td>\n",
       "      <td>7.80</td>\n",
       "      <td>71.636364</td>\n",
       "      <td>7.527273</td>\n",
       "      <td>84.287081</td>\n",
       "      <td>1.748738</td>\n",
       "      <td>9.180800</td>\n",
       "      <td>1.322399</td>\n",
       "    </tr>\n",
       "    <tr>\n",
       "      <th>wii</th>\n",
       "      <td>NaN</td>\n",
       "      <td>4.30</td>\n",
       "      <td>NaN</td>\n",
       "      <td>5.257143</td>\n",
       "      <td>NaN</td>\n",
       "      <td>3.592857</td>\n",
       "      <td>NaN</td>\n",
       "      <td>1.895483</td>\n",
       "    </tr>\n",
       "    <tr>\n",
       "      <th>wiiu</th>\n",
       "      <td>73.5</td>\n",
       "      <td>7.30</td>\n",
       "      <td>71.642857</td>\n",
       "      <td>7.017500</td>\n",
       "      <td>190.174948</td>\n",
       "      <td>1.977411</td>\n",
       "      <td>13.790393</td>\n",
       "      <td>1.406205</td>\n",
       "    </tr>\n",
       "    <tr>\n",
       "      <th>x360</th>\n",
       "      <td>74.0</td>\n",
       "      <td>6.20</td>\n",
       "      <td>69.234568</td>\n",
       "      <td>5.993007</td>\n",
       "      <td>240.681790</td>\n",
       "      <td>2.604599</td>\n",
       "      <td>15.513922</td>\n",
       "      <td>1.613877</td>\n",
       "    </tr>\n",
       "    <tr>\n",
       "      <th>xone</th>\n",
       "      <td>76.0</td>\n",
       "      <td>6.80</td>\n",
       "      <td>73.325444</td>\n",
       "      <td>6.521429</td>\n",
       "      <td>167.792265</td>\n",
       "      <td>1.906997</td>\n",
       "      <td>12.953465</td>\n",
       "      <td>1.380941</td>\n",
       "    </tr>\n",
       "  </tbody>\n",
       "</table>\n",
       "</div>"
      ],
      "text/plain": [
       "               median                    mean                     var  \\\n",
       "         critic_score user_score critic_score user_score critic_score   \n",
       "platform                                                                \n",
       "3ds              69.0       7.30    68.338028   6.976250   171.426962   \n",
       "ds                NaN       4.80          NaN   4.800000          NaN   \n",
       "pc               77.0       6.80    75.550336   6.269677   110.438328   \n",
       "ps3              73.0       6.90    70.198347   6.348387   205.326997   \n",
       "ps4              73.0       7.00    72.091270   6.748249   155.900003   \n",
       "psp              74.0       5.85    74.000000   5.850000          NaN   \n",
       "psv              72.0       7.80    71.636364   7.527273    84.287081   \n",
       "wii               NaN       4.30          NaN   5.257143          NaN   \n",
       "wiiu             73.5       7.30    71.642857   7.017500   190.174948   \n",
       "x360             74.0       6.20    69.234568   5.993007   240.681790   \n",
       "xone             76.0       6.80    73.325444   6.521429   167.792265   \n",
       "\n",
       "                             std             \n",
       "         user_score critic_score user_score  \n",
       "platform                                     \n",
       "3ds        2.368163    13.093012   1.538884  \n",
       "ds              NaN          NaN        NaN  \n",
       "pc         3.035893    10.508964   1.742381  \n",
       "ps3        3.229430    14.329236   1.797061  \n",
       "ps4        2.130085    12.485992   1.459481  \n",
       "psp       12.005000          NaN   3.464823  \n",
       "psv        1.748738     9.180800   1.322399  \n",
       "wii        3.592857          NaN   1.895483  \n",
       "wiiu       1.977411    13.790393   1.406205  \n",
       "x360       2.604599    15.513922   1.613877  \n",
       "xone       1.906997    12.953465   1.380941  "
      ]
     },
     "execution_count": 30,
     "metadata": {},
     "output_type": "execute_result"
    }
   ],
   "source": [
    "actual_df.pivot_table(\n",
    "    index = 'platform', \n",
    "    values = [\n",
    "    'user_score', \n",
    "    'critic_score'\n",
    "], aggfunc = [\n",
    "    'median', \n",
    "    'mean', \n",
    "    'var', \n",
    "    'std'\n",
    "])"
   ]
  },
  {
   "cell_type": "markdown",
   "metadata": {},
   "source": [
    "Практически во всех случаях схожая ситуация, Отзывы пользователей очень слабо влияют на продажи. Отзывы критиков влияют слабо, но во всех случаях значительно больше чем отзывы пользователей.\n",
    "### Смотрю на общее распределение игр по жанрам. \n",
    "Вывожу жанры, их количество, медианное значение продаж, сумму продаж и сортирую по сумме продаж по убыванию."
   ]
  },
  {
   "cell_type": "code",
   "execution_count": 31,
   "metadata": {},
   "outputs": [
    {
     "data": {
      "text/html": [
       "<div>\n",
       "<style scoped>\n",
       "    .dataframe tbody tr th:only-of-type {\n",
       "        vertical-align: middle;\n",
       "    }\n",
       "\n",
       "    .dataframe tbody tr th {\n",
       "        vertical-align: top;\n",
       "    }\n",
       "\n",
       "    .dataframe thead th {\n",
       "        text-align: right;\n",
       "    }\n",
       "</style>\n",
       "<table border=\"1\" class=\"dataframe\">\n",
       "  <thead>\n",
       "    <tr style=\"text-align: right;\">\n",
       "      <th></th>\n",
       "      <th>count</th>\n",
       "      <th>median</th>\n",
       "      <th>total_sales</th>\n",
       "    </tr>\n",
       "    <tr>\n",
       "      <th>genre</th>\n",
       "      <th></th>\n",
       "      <th></th>\n",
       "      <th></th>\n",
       "    </tr>\n",
       "  </thead>\n",
       "  <tbody>\n",
       "    <tr>\n",
       "      <th>action</th>\n",
       "      <td>766</td>\n",
       "      <td>0.110</td>\n",
       "      <td>321.87</td>\n",
       "    </tr>\n",
       "    <tr>\n",
       "      <th>shooter</th>\n",
       "      <td>187</td>\n",
       "      <td>0.450</td>\n",
       "      <td>232.98</td>\n",
       "    </tr>\n",
       "    <tr>\n",
       "      <th>sports</th>\n",
       "      <td>214</td>\n",
       "      <td>0.240</td>\n",
       "      <td>150.65</td>\n",
       "    </tr>\n",
       "    <tr>\n",
       "      <th>role-playing</th>\n",
       "      <td>292</td>\n",
       "      <td>0.125</td>\n",
       "      <td>145.89</td>\n",
       "    </tr>\n",
       "    <tr>\n",
       "      <th>misc</th>\n",
       "      <td>155</td>\n",
       "      <td>0.100</td>\n",
       "      <td>62.82</td>\n",
       "    </tr>\n",
       "    <tr>\n",
       "      <th>platform</th>\n",
       "      <td>74</td>\n",
       "      <td>0.225</td>\n",
       "      <td>42.63</td>\n",
       "    </tr>\n",
       "    <tr>\n",
       "      <th>racing</th>\n",
       "      <td>85</td>\n",
       "      <td>0.120</td>\n",
       "      <td>39.89</td>\n",
       "    </tr>\n",
       "    <tr>\n",
       "      <th>fighting</th>\n",
       "      <td>80</td>\n",
       "      <td>0.125</td>\n",
       "      <td>35.31</td>\n",
       "    </tr>\n",
       "    <tr>\n",
       "      <th>adventure</th>\n",
       "      <td>245</td>\n",
       "      <td>0.030</td>\n",
       "      <td>23.64</td>\n",
       "    </tr>\n",
       "    <tr>\n",
       "      <th>simulation</th>\n",
       "      <td>62</td>\n",
       "      <td>0.100</td>\n",
       "      <td>21.76</td>\n",
       "    </tr>\n",
       "    <tr>\n",
       "      <th>strategy</th>\n",
       "      <td>56</td>\n",
       "      <td>0.080</td>\n",
       "      <td>10.08</td>\n",
       "    </tr>\n",
       "    <tr>\n",
       "      <th>puzzle</th>\n",
       "      <td>17</td>\n",
       "      <td>0.060</td>\n",
       "      <td>3.17</td>\n",
       "    </tr>\n",
       "  </tbody>\n",
       "</table>\n",
       "</div>"
      ],
      "text/plain": [
       "              count  median  total_sales\n",
       "genre                                   \n",
       "action          766   0.110       321.87\n",
       "shooter         187   0.450       232.98\n",
       "sports          214   0.240       150.65\n",
       "role-playing    292   0.125       145.89\n",
       "misc            155   0.100        62.82\n",
       "platform         74   0.225        42.63\n",
       "racing           85   0.120        39.89\n",
       "fighting         80   0.125        35.31\n",
       "adventure       245   0.030        23.64\n",
       "simulation       62   0.100        21.76\n",
       "strategy         56   0.080        10.08\n",
       "puzzle           17   0.060         3.17"
      ]
     },
     "execution_count": 31,
     "metadata": {},
     "output_type": "execute_result"
    }
   ],
   "source": [
    "genre_pivot = actual_df.groupby('genre').agg({'name':'count','total_sales':['median','sum']})\n",
    "genre_pivot.columns = ['count', 'median','total_sales']\n",
    "genre_pivot = genre_pivot.sort_values(by = 'total_sales', ascending = False)\n",
    "genre_pivot"
   ]
  },
  {
   "cell_type": "markdown",
   "metadata": {},
   "source": [
    "Как видно, максимальные продажи показывает жанр **action**, продажи игр этого жанра в **45** раз превосходят **puzzle**. Однако количество игр определенного жанра не означает высоких продаж, яркие тому пример жанры **adventure** и **platform**, строю диаграмму размаха."
   ]
  },
  {
   "cell_type": "code",
   "execution_count": 32,
   "metadata": {
    "scrolled": true
   },
   "outputs": [
    {
     "data": {
      "image/png": "[encoded data removed]",
      "text/plain": [
       "<Figure size 1080x360 with 1 Axes>"
      ]
     },
     "metadata": {
      "needs_background": "light"
     },
     "output_type": "display_data"
    }
   ],
   "source": [
    "fig, ax = plt.subplots(figsize = (15, 5))\n",
    "sns.boxplot(\n",
    "    x = 'genre',\n",
    "    y = 'total_sales',\n",
    "    data = actual_df,\n",
    "    ax=ax\n",
    ")\n",
    "plt.title('Распределение игр по жанрам')\n",
    "plt.xlabel('Жанры')\n",
    "plt.ylabel('Продажи')\n",
    "plt.show()"
   ]
  },
  {
   "cell_type": "code",
   "execution_count": 33,
   "metadata": {},
   "outputs": [
    {
     "data": {
      "image/png": "[encoded data removed]",
      "text/plain": [
       "<Figure size 1080x360 with 1 Axes>"
      ]
     },
     "metadata": {
      "needs_background": "light"
     },
     "output_type": "display_data"
    }
   ],
   "source": [
    "q_1 = actual_df['total_sales'].quantile(0.25)\n",
    "q_3 = actual_df['total_sales'].quantile(0.75)\n",
    "limitation = q_3 + 2 * q_1\n",
    "\n",
    "fig, ax = plt.subplots(figsize = (15, 5))\n",
    "sns.boxplot(\n",
    "    x = 'genre',\n",
    "    y = 'total_sales',\n",
    "    data = actual_df.query('total_sales <= @limitation'),\n",
    "    ax=ax\n",
    ")\n",
    "plt.title('Распределение игр по жанрам')\n",
    "plt.xlabel('Жанры')\n",
    "plt.ylabel('Продажи')\n",
    "plt.show()"
   ]
  },
  {
   "cell_type": "markdown",
   "metadata": {},
   "source": [
    "Как видно, самыми популярными жанрами являются **shooter** и **sports**, а самыми непопулярными **puzzle** и **adventure**.\n",
    "## Шаг 4. Составляю портрет пользователя для каждого региона.\n",
    "Пишу функцию `user_portrait`, для создания сводных таблиц и диаграмм."
   ]
  },
  {
   "cell_type": "code",
   "execution_count": 37,
   "metadata": {},
   "outputs": [],
   "source": [
    "def user_portrait(row):\n",
    "    fig, axes = plt.subplots(1, 3, figsize = (15, 5))\n",
    "    for pivot, ax in zip(list(['platform','genre','rating']), axes.flatten()[:3]):\n",
    "        df_pivot = actual_df.pivot_table(\n",
    "            index = pivot, \n",
    "            values = row, \n",
    "            aggfunc = 'sum'\n",
    "        ).sort_values(\n",
    "            by = row, \n",
    "            ascending = False\n",
    "        ).reset_index().rename_axis(None, axis = 1)\n",
    "        df_pivot[pivot] = df_pivot[pivot].where(df_pivot[row].isin(df_pivot[row].head(5)), 'other')\n",
    "        df_pivot = df_pivot.pivot_table(\n",
    "            index = pivot, \n",
    "            values = row, \n",
    "            aggfunc = 'sum'\n",
    "        ).sort_values(\n",
    "            by = row, \n",
    "            ascending = False\n",
    "        ).reset_index().rename_axis(None, axis = 1)\n",
    "        print(df_pivot)\n",
    "        print('\\n')\n",
    "        df_pivot.plot(\n",
    "            kind = 'pie',\n",
    "            labels = df_pivot[pivot],\n",
    "            y = row, \n",
    "            colors = sns.color_palette('Set2')[0:6],\n",
    "            autopct='%.0f%%',\n",
    "            ax = ax\n",
    "        )\n",
    "        fig.suptitle('Топ 5 платформ, жанров и рейтингов за актуальный период')\n",
    "        \n",
    "plt.show()\n",
    "sns.set()"
   ]
  },
  {
   "cell_type": "markdown",
   "metadata": {},
   "source": [
    "### Составим портрет пользователя из Северной Америки."
   ]
  },
  {
   "cell_type": "code",
   "execution_count": 38,
   "metadata": {
    "scrolled": false
   },
   "outputs": [
    {
     "name": "stdout",
     "output_type": "stream",
     "text": [
      "  platform  na_sales\n",
      "0      ps4    108.74\n",
      "1     xone     93.12\n",
      "2     x360     81.66\n",
      "3      ps3     63.50\n",
      "4    other     52.49\n",
      "5      3ds     38.20\n",
      "\n",
      "\n",
      "          genre  na_sales\n",
      "0        action    126.05\n",
      "1       shooter    109.74\n",
      "2        sports     65.27\n",
      "3         other     62.76\n",
      "4  role-playing     46.40\n",
      "5          misc     27.49\n",
      "\n",
      "\n",
      "  rating  na_sales\n",
      "0      m    165.21\n",
      "1     rp     89.42\n",
      "2      e     79.05\n",
      "3   e10+     54.24\n",
      "4      t     49.79\n",
      "\n",
      "\n"
     ]
    },
    {
     "data": {
      "image/png": "[encoded data removed]",
      "text/plain": [
       "<Figure size 1080x360 with 3 Axes>"
      ]
     },
     "metadata": {},
     "output_type": "display_data"
    }
   ],
   "source": [
    "user_portrait('na_sales')"
   ]
  },
  {
   "cell_type": "markdown",
   "metadata": {},
   "source": [
    "В Северной Америке,  период с 2013 по 2016 года, самыми популярными стали:\n",
    "* Платформы: `ps4`, `xone`, `x360`, `ps3`, `3ds`;\n",
    "* Жанры: `action`, `shooter`, `sports`, `role-playing`, `misc`(причем `action`и `shooter` намного впереди других жанров);\n",
    "* Возрастные рейтинги: `m`, `e`, `e10+`, `t` (а тут уже `m` лидирует с большим отрывом).\n",
    "\n",
    "То есть, типичный пользователь из Северной Америки с большей вероятностью предпочтет `action` с рейтингом `m` (для взрослых) на `ps4`.\n",
    "### Составляю портрет пользователя из Европы."
   ]
  },
  {
   "cell_type": "code",
   "execution_count": 39,
   "metadata": {
    "scrolled": false
   },
   "outputs": [
    {
     "name": "stdout",
     "output_type": "stream",
     "text": [
      "  platform  eu_sales\n",
      "0      ps4    141.09\n",
      "1      ps3     67.81\n",
      "2    other     58.26\n",
      "3     xone     51.59\n",
      "4     x360     42.52\n",
      "5      3ds     30.96\n",
      "\n",
      "\n",
      "          genre  eu_sales\n",
      "0        action    118.13\n",
      "1       shooter     87.86\n",
      "2         other     68.56\n",
      "3        sports     60.52\n",
      "4  role-playing     36.97\n",
      "5        racing     20.19\n",
      "\n",
      "\n",
      "  rating  eu_sales\n",
      "0      m    145.32\n",
      "1      e     83.36\n",
      "2     rp     78.91\n",
      "3   e10+     42.69\n",
      "4      t     41.95\n",
      "\n",
      "\n"
     ]
    },
    {
     "data": {
      "image/png": "[encoded data removed]",
      "text/plain": [
       "<Figure size 1080x360 with 3 Axes>"
      ]
     },
     "metadata": {},
     "output_type": "display_data"
    }
   ],
   "source": [
    "user_portrait('eu_sales')"
   ]
  },
  {
   "cell_type": "markdown",
   "metadata": {},
   "source": [
    "В Европе, за период с 2013 по 2016 года, самыми популярными стали:\n",
    "* Платформы: `ps4`, `ps3`, `xone`, `x360`, `3ds`(`ps4` минимум в два раза опережает остальные платформы);\n",
    "* Жанры: `action`, `shooter`, `sports`, `role-playing`, `racing`;\n",
    "* Возрастные рейтинги: `m`, `e`, `e10+`, `t`.\n",
    "\n",
    "То есть, типичный пользователь из Европы, так же как и пользователь из Северной Америки, с большей вероятностью предпочтет `action` с рейтингом `m` (для взрослых) на `ps4`.\n",
    "### Составляю портрет пользователя из Японии.\n",
    "Они то точно должны отличаться."
   ]
  },
  {
   "cell_type": "code",
   "execution_count": 40,
   "metadata": {
    "scrolled": false
   },
   "outputs": [
    {
     "name": "stdout",
     "output_type": "stream",
     "text": [
      "  platform  jp_sales\n",
      "0      3ds     67.81\n",
      "1      ps3     23.35\n",
      "2      psv     18.59\n",
      "3      ps4     15.96\n",
      "4     wiiu     10.88\n",
      "5    other      4.19\n",
      "\n",
      "\n",
      "          genre  jp_sales\n",
      "0  role-playing     51.04\n",
      "1        action     40.49\n",
      "2         other     25.79\n",
      "3          misc      9.20\n",
      "4      fighting      7.65\n",
      "5       shooter      6.61\n",
      "\n",
      "\n",
      "  rating  jp_sales\n",
      "0     rp     85.05\n",
      "1      t     20.59\n",
      "2      e     15.14\n",
      "3      m     14.11\n",
      "4   e10+      5.89\n",
      "\n",
      "\n"
     ]
    },
    {
     "data": {
      "image/png": "[encoded data removed]",
      "text/plain": [
       "<Figure size 1080x360 with 3 Axes>"
      ]
     },
     "metadata": {},
     "output_type": "display_data"
    }
   ],
   "source": [
    "user_portrait('jp_sales')"
   ]
  },
  {
   "cell_type": "markdown",
   "metadata": {},
   "source": [
    "В Японии, за период с 2013 по 2016 года, самыми популярными стали:\n",
    "* Платформы: `3ds`, `ps3`, `psv`, `ps4`, `wiiu` (с огромным отрывам лидирует `3ds`);\n",
    "* Жанры: `role-playing`, `action`, `misc`, `fighting`, `shooter` (практически ничего не изменилось);\n",
    "* Возрастные рейтинги: `t`, `e`, `m`, `e10+` (лидирует `t` (для подростков)).\n",
    "\n",
    "То есть, типичный пользователь из Японии, с большей вероятностью предпочтет `role-playing` с рейтингом `t` (для подростков) на `3ds`. \n",
    "\n",
    "###  Смотрю влияет ли рейтинг ESRB на продажи в отдельном регионе."
   ]
  },
  {
   "cell_type": "code",
   "execution_count": 41,
   "metadata": {
    "scrolled": true
   },
   "outputs": [
    {
     "data": {
      "text/html": [
       "<div>\n",
       "<style scoped>\n",
       "    .dataframe tbody tr th:only-of-type {\n",
       "        vertical-align: middle;\n",
       "    }\n",
       "\n",
       "    .dataframe tbody tr th {\n",
       "        vertical-align: top;\n",
       "    }\n",
       "\n",
       "    .dataframe thead tr th {\n",
       "        text-align: left;\n",
       "    }\n",
       "\n",
       "    .dataframe thead tr:last-of-type th {\n",
       "        text-align: right;\n",
       "    }\n",
       "</style>\n",
       "<table border=\"1\" class=\"dataframe\">\n",
       "  <thead>\n",
       "    <tr>\n",
       "      <th></th>\n",
       "      <th colspan=\"3\" halign=\"left\">sum</th>\n",
       "    </tr>\n",
       "    <tr>\n",
       "      <th></th>\n",
       "      <th>eu_sales</th>\n",
       "      <th>jp_sales</th>\n",
       "      <th>na_sales</th>\n",
       "    </tr>\n",
       "    <tr>\n",
       "      <th>rating</th>\n",
       "      <th></th>\n",
       "      <th></th>\n",
       "      <th></th>\n",
       "    </tr>\n",
       "  </thead>\n",
       "  <tbody>\n",
       "    <tr>\n",
       "      <th>e</th>\n",
       "      <td>83.36</td>\n",
       "      <td>15.14</td>\n",
       "      <td>79.05</td>\n",
       "    </tr>\n",
       "    <tr>\n",
       "      <th>e10+</th>\n",
       "      <td>42.69</td>\n",
       "      <td>5.89</td>\n",
       "      <td>54.24</td>\n",
       "    </tr>\n",
       "    <tr>\n",
       "      <th>m</th>\n",
       "      <td>145.32</td>\n",
       "      <td>14.11</td>\n",
       "      <td>165.21</td>\n",
       "    </tr>\n",
       "    <tr>\n",
       "      <th>rp</th>\n",
       "      <td>78.91</td>\n",
       "      <td>85.05</td>\n",
       "      <td>89.42</td>\n",
       "    </tr>\n",
       "    <tr>\n",
       "      <th>t</th>\n",
       "      <td>41.95</td>\n",
       "      <td>20.59</td>\n",
       "      <td>49.79</td>\n",
       "    </tr>\n",
       "  </tbody>\n",
       "</table>\n",
       "</div>"
      ],
      "text/plain": [
       "            sum                  \n",
       "       eu_sales jp_sales na_sales\n",
       "rating                           \n",
       "e         83.36    15.14    79.05\n",
       "e10+      42.69     5.89    54.24\n",
       "m        145.32    14.11   165.21\n",
       "rp        78.91    85.05    89.42\n",
       "t         41.95    20.59    49.79"
      ]
     },
     "execution_count": 41,
     "metadata": {},
     "output_type": "execute_result"
    }
   ],
   "source": [
    "actual_df.pivot_table(index = ['rating'], values = ['na_sales','jp_sales','eu_sales'], aggfunc = ['sum'])"
   ]
  },
  {
   "cell_type": "markdown",
   "metadata": {},
   "source": [
    "Как видно, влияет, рейтинги популярные в Европе и Северной Америке, в Японии имеют значительно меньшую популярность. Игры без рейтинга при этом распределены равномерно.\n",
    "## Шаг 5. Проверка гипотез.\n",
    "### Гипотеза 1. \n",
    "**H0: Средние пользовательские рейтинги платформ Xbox One и PC одинаковые;**\n",
    "\n",
    "**H1: Средние пользовательские рейтинги платформ Xbox One и PC разные.**\n",
    "\n",
    "Сортирую датасет по нужным платформам, избавляюсь от пропусков в них и сравниваю средние двух генеральных совокупностей. Если p-value меньше порогового значения alpha, то отвергаю нулевую гипотезу в пользу альтернативной. Если p-value больше порогового значения alpha, то наоборот."
   ]
  },
  {
   "cell_type": "code",
   "execution_count": 42,
   "metadata": {},
   "outputs": [
    {
     "name": "stdout",
     "output_type": "stream",
     "text": [
      "p-значение: 0.14759594013430463\n",
      "Не получилось отвергнуть нулевую гипотезу.\n",
      "Cредний рейтинг пользователя для \"xone\": 6.52142857142857\n",
      "Cредний рейтинг пользователя для \"pc\": 6.269677419354836\n"
     ]
    }
   ],
   "source": [
    "xone = actual_df[(actual_df['platform'] == 'xone')]['user_score']\n",
    "pc = actual_df[(actual_df['platform'] == 'pc')]['user_score']\n",
    "\n",
    "alpha = .05\n",
    "\n",
    "results = st.ttest_ind(xone.dropna(), pc.dropna(), equal_var = False)\n",
    "\n",
    "print('p-значение:', results.pvalue)\n",
    "\n",
    "\n",
    "if (results.pvalue < alpha):\n",
    "    print('Отвергаю нулевую гипотезу.')\n",
    "else:\n",
    "    print('Не получилось отвергнуть нулевую гипотезу.')\n",
    "    \n",
    "print('Cредний рейтинг пользователя для \"xone\":', xone.mean())\n",
    "print('Cредний рейтинг пользователя для \"pc\":', pc.mean())"
   ]
  },
  {
   "cell_type": "markdown",
   "metadata": {},
   "source": [
    "Значение p-value равно чуть меньше **15%**. Таким образом, не получилось опровергнуть нулевую гипотезу. То есть, с вероятностью в **15%** можно получить различность рейтингов двух платформ.\n",
    "### Гипотеза 2. \n",
    "**H0: Средние пользовательские рейтинги жанров Action и Sports одинаковые;**\n",
    "\n",
    "**H1: Средние пользовательские рейтинги жанров Action и Sports разные.**\n",
    "\n",
    "Все по той же схеме, только сортирую датасет по жанрам."
   ]
  },
  {
   "cell_type": "code",
   "execution_count": 43,
   "metadata": {
    "scrolled": true
   },
   "outputs": [
    {
     "name": "stdout",
     "output_type": "stream",
     "text": [
      "p-значение: 1.4460039700704315e-20\n",
      "Отвергаю нулевую гипотезу.\n",
      "Cредний рейтинг пользователя для \"action\": 6.837532133676097\n",
      "Cредний рейтинг пользователя для \"sports\": 5.238124999999999\n"
     ]
    }
   ],
   "source": [
    "action = actual_df[(actual_df['genre'] == 'action')]['user_score']\n",
    "sports = actual_df[(actual_df['genre'] == 'sports')]['user_score']\n",
    "\n",
    "alpha = .05\n",
    "\n",
    "results = st.ttest_ind(action.dropna(), sports.dropna(), equal_var = False)\n",
    "\n",
    "print('p-значение:', results.pvalue)\n",
    "\n",
    "\n",
    "if (results.pvalue < alpha):\n",
    "    print('Отвергаю нулевую гипотезу.')\n",
    "else:\n",
    "    print('Не получилось отвергнуть нулевую гипотезу.')\n",
    "\n",
    "print('Cредний рейтинг пользователя для \"action\":', action.mean())\n",
    "print('Cредний рейтинг пользователя для \"sports\":', sports.mean())"
   ]
  },
  {
   "cell_type": "markdown",
   "metadata": {},
   "source": [
    "Тест показал, что нулевая гипотеза не подтвердилась. Можно сделать вывод, что средние пользовательские рейтинги жанров Action и Sports разные.\n",
    "## Общий вывод:\n",
    "Полученные данные местами имели некорректные типы данных и большое количество пропусков, данные я привёл к нужным типам, некоторые пропуски удалил, некоторые заменил, но основную часть оставил. Также я заменил значения **tbd** в столбце **`user_score`** на **NaN**. После чего добавил столбец **`total_sales`** с общим числом продаж, и приступил к анализу.\n",
    "***\n",
    "Выяснилось, что до **1994** года ирг выпускалось мало, потом произошел скачок с пиком в **2008-2009** годах, и снова спад, связанный вероятно с распространением у населения смартфонов и как следствие развитие мобильного гейминга. Больше всего игр выпускалось в период с **2005** по **2011** год. В среднем платформы существуют около **10** лет, пик популярности платформы примерно в середине ее жизни. Начиная с **2004**, платформы появляютя по **1-2** в год. Я назвал актуальным периодом последние **3** года, то есть с **2013** по **2016** год. В это время практически у всех платформ снизились показатели продаж. Только платформы `x360` и `ps4` в начале актуального периода показывали рост, но после **2015** года также снизили показатели продаж, вероятно из-за анонса `ps4pro`. Платформами с наибольшими суммарными продажами за актуальный период стали: `ps4`, `ps3`, `xone`, `3ds` и `x360`. Удалось выяснить, что практически во всех случаях отзывы пользователей очень слабо влияют на продажи. Отзывы критиков влияют слабо, но во всех случаях значительно больше чем отзывы пользователей. Cамым продаваемым является жанр `action`, а самыми популярными жанрами являются `shooter` и `sports`.\n",
    "***\n",
    "Затем я составил портрет пользователя для каждого региона. Оказалось что типичный пользователь из Европы, так же как и типичный пользователь из Северной Америки, с большей вероятностью предпочтет `action` с рейтингом `m` (для взрослых) на `ps4`. А вот типичный пользователь из Японии, с большей вероятностью предпочтет `role-playing` с рейтингом `t` (для подростков) на `3ds`.\n",
    "***\n",
    "Так же в ходе анализа я проверил две гипотезы и не смог опровегрнуть гипотезу, что средние пользовательские рейтинги платформ `xone` и `pc` одинаковые. И опроверг гипотезу, что cредние пользовательские рейтинги жанров `action` и `sports` одинаковые.\n",
    "***\n",
    "**Исходя из полученных данных, можно выявить следующие определяющие успешность игры закономерности, лучше всего продаются игры в жанре `action`, с рейтингом `m` (для взрослых) и `e` (для всех), для платформ `ps4`, `ps3` и `xone`. В качестве региона лучше использовать Европу и Северную Америку. И лучше чтобы у игры были хорошие отзывы критиков.**"
   ]
  }
 ],
 "metadata": {
  "ExecuteTimeLog": [
   {
    "duration": 68,
    "start_time": "2022-05-16T07:28:40.249Z"
   },
   {
    "duration": 504,
    "start_time": "2022-05-16T07:29:08.503Z"
   },
   {
    "duration": 41,
    "start_time": "2022-05-16T07:29:10.578Z"
   },
   {
    "duration": 20,
    "start_time": "2022-05-16T07:44:48.843Z"
   },
   {
    "duration": 37,
    "start_time": "2022-05-16T07:46:46.140Z"
   },
   {
    "duration": 22,
    "start_time": "2022-05-16T07:47:47.807Z"
   },
   {
    "duration": 5,
    "start_time": "2022-05-16T08:32:49.902Z"
   },
   {
    "duration": 63,
    "start_time": "2022-05-16T08:39:57.049Z"
   },
   {
    "duration": 120,
    "start_time": "2022-05-16T08:39:57.115Z"
   },
   {
    "duration": 67,
    "start_time": "2022-05-16T08:40:14.393Z"
   },
   {
    "duration": 51,
    "start_time": "2022-05-16T17:33:07.391Z"
   },
   {
    "duration": 480,
    "start_time": "2022-05-16T17:33:12.613Z"
   },
   {
    "duration": 41,
    "start_time": "2022-05-16T17:33:15.540Z"
   },
   {
    "duration": 13,
    "start_time": "2022-05-16T17:33:25.869Z"
   },
   {
    "duration": 3,
    "start_time": "2022-05-16T17:59:12.318Z"
   },
   {
    "duration": 4,
    "start_time": "2022-05-16T17:59:14.523Z"
   },
   {
    "duration": 5,
    "start_time": "2022-05-16T17:59:34.970Z"
   },
   {
    "duration": 13,
    "start_time": "2022-05-16T18:01:11.192Z"
   },
   {
    "duration": 6,
    "start_time": "2022-05-16T18:03:51.463Z"
   },
   {
    "duration": 1573,
    "start_time": "2022-05-16T18:04:26.528Z"
   },
   {
    "duration": 13,
    "start_time": "2022-05-16T18:04:33.321Z"
   },
   {
    "duration": 11,
    "start_time": "2022-05-16T18:05:13.791Z"
   },
   {
    "duration": 23,
    "start_time": "2022-05-16T18:07:31.542Z"
   },
   {
    "duration": 98,
    "start_time": "2022-05-16T18:12:32.624Z"
   },
   {
    "duration": 14,
    "start_time": "2022-05-16T18:15:34.996Z"
   },
   {
    "duration": 13,
    "start_time": "2022-05-16T18:24:03.530Z"
   },
   {
    "duration": 10,
    "start_time": "2022-05-16T18:24:52.641Z"
   },
   {
    "duration": 11,
    "start_time": "2022-05-16T18:25:01.423Z"
   },
   {
    "duration": 14,
    "start_time": "2022-05-16T18:36:40.091Z"
   },
   {
    "duration": 20,
    "start_time": "2022-05-16T18:39:39.202Z"
   },
   {
    "duration": 9,
    "start_time": "2022-05-16T18:45:04.786Z"
   },
   {
    "duration": 20,
    "start_time": "2022-05-16T18:45:16.131Z"
   },
   {
    "duration": 24,
    "start_time": "2022-05-16T18:45:21.807Z"
   },
   {
    "duration": 24,
    "start_time": "2022-05-16T18:45:59.722Z"
   },
   {
    "duration": 25,
    "start_time": "2022-05-16T18:46:32.617Z"
   },
   {
    "duration": 27,
    "start_time": "2022-05-16T18:49:50.873Z"
   },
   {
    "duration": 11,
    "start_time": "2022-05-16T18:50:36.504Z"
   },
   {
    "duration": 441,
    "start_time": "2022-05-16T18:51:04.319Z"
   },
   {
    "duration": 1906,
    "start_time": "2022-05-16T18:51:04.762Z"
   },
   {
    "duration": 0,
    "start_time": "2022-05-16T18:51:06.669Z"
   },
   {
    "duration": 0,
    "start_time": "2022-05-16T18:51:06.670Z"
   },
   {
    "duration": 0,
    "start_time": "2022-05-16T18:51:06.671Z"
   },
   {
    "duration": 0,
    "start_time": "2022-05-16T18:51:06.672Z"
   },
   {
    "duration": 0,
    "start_time": "2022-05-16T18:51:06.673Z"
   },
   {
    "duration": 0,
    "start_time": "2022-05-16T18:51:06.674Z"
   },
   {
    "duration": 0,
    "start_time": "2022-05-16T18:51:06.675Z"
   },
   {
    "duration": 0,
    "start_time": "2022-05-16T18:51:06.676Z"
   },
   {
    "duration": 0,
    "start_time": "2022-05-16T18:51:06.677Z"
   },
   {
    "duration": 0,
    "start_time": "2022-05-16T18:51:06.678Z"
   },
   {
    "duration": 459,
    "start_time": "2022-05-16T18:51:39.999Z"
   },
   {
    "duration": 13,
    "start_time": "2022-05-16T18:51:40.460Z"
   },
   {
    "duration": 33,
    "start_time": "2022-05-16T18:51:40.475Z"
   },
   {
    "duration": 4,
    "start_time": "2022-05-16T18:51:40.510Z"
   },
   {
    "duration": 23,
    "start_time": "2022-05-16T18:51:40.515Z"
   },
   {
    "duration": 13,
    "start_time": "2022-05-16T18:51:40.539Z"
   },
   {
    "duration": 21,
    "start_time": "2022-05-16T18:51:40.553Z"
   },
   {
    "duration": 87,
    "start_time": "2022-05-16T18:51:40.575Z"
   },
   {
    "duration": 0,
    "start_time": "2022-05-16T18:51:40.664Z"
   },
   {
    "duration": 0,
    "start_time": "2022-05-16T18:51:40.666Z"
   },
   {
    "duration": 0,
    "start_time": "2022-05-16T18:51:40.667Z"
   },
   {
    "duration": 22,
    "start_time": "2022-05-16T20:35:45.810Z"
   },
   {
    "duration": 51,
    "start_time": "2022-05-16T20:52:17.363Z"
   },
   {
    "duration": 5,
    "start_time": "2022-05-16T20:59:58.519Z"
   },
   {
    "duration": 2231,
    "start_time": "2022-05-16T21:02:02.621Z"
   },
   {
    "duration": 1528,
    "start_time": "2022-05-16T21:02:18.493Z"
   },
   {
    "duration": 1571,
    "start_time": "2022-05-16T21:02:31.757Z"
   },
   {
    "duration": 1854,
    "start_time": "2022-05-16T21:02:49.229Z"
   },
   {
    "duration": 1566,
    "start_time": "2022-05-16T21:03:45.085Z"
   },
   {
    "duration": 7,
    "start_time": "2022-05-16T21:04:36.021Z"
   },
   {
    "duration": 7,
    "start_time": "2022-05-16T21:04:45.396Z"
   },
   {
    "duration": 4,
    "start_time": "2022-05-16T21:04:55.795Z"
   },
   {
    "duration": 7,
    "start_time": "2022-05-16T21:05:17.844Z"
   },
   {
    "duration": 10,
    "start_time": "2022-05-16T21:05:30.436Z"
   },
   {
    "duration": 8,
    "start_time": "2022-05-16T21:06:59.003Z"
   },
   {
    "duration": 8,
    "start_time": "2022-05-16T21:09:59.762Z"
   },
   {
    "duration": 10,
    "start_time": "2022-05-16T21:10:14.346Z"
   },
   {
    "duration": 10,
    "start_time": "2022-05-16T21:10:26.081Z"
   },
   {
    "duration": 2379,
    "start_time": "2022-05-16T21:10:37.249Z"
   },
   {
    "duration": 2308,
    "start_time": "2022-05-16T21:11:50.938Z"
   },
   {
    "duration": 1679,
    "start_time": "2022-05-16T21:11:56.849Z"
   },
   {
    "duration": 17,
    "start_time": "2022-05-16T21:12:36.984Z"
   },
   {
    "duration": 47,
    "start_time": "2022-05-16T21:12:53.033Z"
   },
   {
    "duration": 5,
    "start_time": "2022-05-16T21:13:00.128Z"
   },
   {
    "duration": 24,
    "start_time": "2022-05-16T21:13:03.432Z"
   },
   {
    "duration": 14,
    "start_time": "2022-05-16T21:13:06.016Z"
   },
   {
    "duration": 12,
    "start_time": "2022-05-16T21:13:08.551Z"
   },
   {
    "duration": 22,
    "start_time": "2022-05-16T21:13:11.129Z"
   },
   {
    "duration": 140,
    "start_time": "2022-05-16T21:13:18.361Z"
   },
   {
    "duration": 17,
    "start_time": "2022-05-16T21:13:23.761Z"
   },
   {
    "duration": 4,
    "start_time": "2022-05-16T21:14:03.136Z"
   },
   {
    "duration": 17,
    "start_time": "2022-05-16T21:14:06.976Z"
   },
   {
    "duration": 474,
    "start_time": "2022-05-16T21:14:21.805Z"
   },
   {
    "duration": 14,
    "start_time": "2022-05-16T21:14:22.281Z"
   },
   {
    "duration": 32,
    "start_time": "2022-05-16T21:14:22.296Z"
   },
   {
    "duration": 4,
    "start_time": "2022-05-16T21:14:22.330Z"
   },
   {
    "duration": 26,
    "start_time": "2022-05-16T21:14:22.336Z"
   },
   {
    "duration": 13,
    "start_time": "2022-05-16T21:14:22.364Z"
   },
   {
    "duration": 31,
    "start_time": "2022-05-16T21:14:22.379Z"
   },
   {
    "duration": 21,
    "start_time": "2022-05-16T21:14:22.412Z"
   },
   {
    "duration": 4,
    "start_time": "2022-05-16T21:14:22.435Z"
   },
   {
    "duration": 16,
    "start_time": "2022-05-16T21:14:22.442Z"
   },
   {
    "duration": 54,
    "start_time": "2022-05-16T21:14:22.460Z"
   },
   {
    "duration": 73,
    "start_time": "2022-05-16T21:14:22.515Z"
   },
   {
    "duration": 22,
    "start_time": "2022-05-16T21:14:46.253Z"
   },
   {
    "duration": 8,
    "start_time": "2022-05-16T21:15:34.469Z"
   },
   {
    "duration": 16,
    "start_time": "2022-05-16T21:15:50.757Z"
   },
   {
    "duration": 21,
    "start_time": "2022-05-16T21:15:55.237Z"
   },
   {
    "duration": 9,
    "start_time": "2022-05-16T21:16:07.156Z"
   },
   {
    "duration": 4,
    "start_time": "2022-05-16T21:16:14.349Z"
   },
   {
    "duration": 22,
    "start_time": "2022-05-16T21:16:19.917Z"
   },
   {
    "duration": 92,
    "start_time": "2022-05-16T21:19:38.554Z"
   },
   {
    "duration": 4,
    "start_time": "2022-05-16T21:19:46.714Z"
   },
   {
    "duration": 21,
    "start_time": "2022-05-16T21:19:51.811Z"
   },
   {
    "duration": 4,
    "start_time": "2022-05-16T21:20:48.162Z"
   },
   {
    "duration": 9,
    "start_time": "2022-05-16T21:22:52.633Z"
   },
   {
    "duration": 4,
    "start_time": "2022-05-16T21:23:37.841Z"
   },
   {
    "duration": 4,
    "start_time": "2022-05-16T21:25:44.000Z"
   },
   {
    "duration": 4,
    "start_time": "2022-05-16T21:31:47.117Z"
   },
   {
    "duration": 21,
    "start_time": "2022-05-16T21:31:50.519Z"
   },
   {
    "duration": 4,
    "start_time": "2022-05-16T21:34:41.420Z"
   },
   {
    "duration": 91,
    "start_time": "2022-05-16T21:36:51.202Z"
   },
   {
    "duration": 10,
    "start_time": "2022-05-16T21:36:58.738Z"
   },
   {
    "duration": 9,
    "start_time": "2022-05-16T21:37:06.874Z"
   },
   {
    "duration": 10,
    "start_time": "2022-05-16T21:38:01.906Z"
   },
   {
    "duration": 10,
    "start_time": "2022-05-16T21:38:19.194Z"
   },
   {
    "duration": 139,
    "start_time": "2022-05-16T21:38:28.994Z"
   },
   {
    "duration": 95,
    "start_time": "2022-05-16T21:38:37.202Z"
   },
   {
    "duration": 22,
    "start_time": "2022-05-16T21:38:42.834Z"
   },
   {
    "duration": 157,
    "start_time": "2022-05-16T21:40:03.465Z"
   },
   {
    "duration": 96,
    "start_time": "2022-05-16T21:40:15.705Z"
   },
   {
    "duration": 89,
    "start_time": "2022-05-16T21:40:38.130Z"
   },
   {
    "duration": 4,
    "start_time": "2022-05-16T21:41:43.744Z"
   },
   {
    "duration": 1371,
    "start_time": "2022-05-16T21:41:56.488Z"
   },
   {
    "duration": 14,
    "start_time": "2022-05-16T21:42:11.489Z"
   },
   {
    "duration": 118,
    "start_time": "2022-05-16T21:42:43.544Z"
   },
   {
    "duration": 4,
    "start_time": "2022-05-16T21:42:57.336Z"
   },
   {
    "duration": 4,
    "start_time": "2022-05-16T21:43:13.592Z"
   },
   {
    "duration": 4,
    "start_time": "2022-05-16T21:43:36.647Z"
   },
   {
    "duration": 4,
    "start_time": "2022-05-16T21:43:49.448Z"
   },
   {
    "duration": 4,
    "start_time": "2022-05-16T21:44:03.663Z"
   },
   {
    "duration": 1313,
    "start_time": "2022-05-16T21:44:11.800Z"
   },
   {
    "duration": 11,
    "start_time": "2022-05-16T21:44:27.271Z"
   },
   {
    "duration": 8,
    "start_time": "2022-05-16T21:46:11.174Z"
   },
   {
    "duration": 772,
    "start_time": "2022-05-16T21:46:17.607Z"
   },
   {
    "duration": 22,
    "start_time": "2022-05-16T21:46:28.935Z"
   },
   {
    "duration": 22,
    "start_time": "2022-05-16T21:46:44.550Z"
   },
   {
    "duration": 363,
    "start_time": "2022-05-16T21:46:57.135Z"
   },
   {
    "duration": 22,
    "start_time": "2022-05-16T21:47:06.150Z"
   },
   {
    "duration": 22,
    "start_time": "2022-05-16T21:47:20.150Z"
   },
   {
    "duration": 22,
    "start_time": "2022-05-16T21:49:07.637Z"
   },
   {
    "duration": 22,
    "start_time": "2022-05-16T21:49:19.813Z"
   },
   {
    "duration": 601,
    "start_time": "2022-05-17T06:59:10.605Z"
   },
   {
    "duration": 7,
    "start_time": "2022-05-17T06:59:15.619Z"
   },
   {
    "duration": 31,
    "start_time": "2022-05-17T06:59:17.706Z"
   },
   {
    "duration": 19,
    "start_time": "2022-05-17T06:59:20.464Z"
   },
   {
    "duration": 17,
    "start_time": "2022-05-17T06:59:22.666Z"
   },
   {
    "duration": 31,
    "start_time": "2022-05-17T06:59:26.073Z"
   },
   {
    "duration": 98,
    "start_time": "2022-05-17T07:00:32.480Z"
   },
   {
    "duration": 2271,
    "start_time": "2022-05-17T07:00:59.782Z"
   },
   {
    "duration": 2199,
    "start_time": "2022-05-17T07:03:48.289Z"
   },
   {
    "duration": 0,
    "start_time": "2022-05-17T07:03:50.491Z"
   },
   {
    "duration": 2157,
    "start_time": "2022-05-17T07:05:11.277Z"
   },
   {
    "duration": 0,
    "start_time": "2022-05-17T07:05:13.437Z"
   },
   {
    "duration": 0,
    "start_time": "2022-05-17T07:05:13.438Z"
   },
   {
    "duration": 46,
    "start_time": "2022-05-17T07:05:47.830Z"
   },
   {
    "duration": 0,
    "start_time": "2022-05-17T07:05:47.879Z"
   },
   {
    "duration": 46,
    "start_time": "2022-05-17T07:06:24.112Z"
   },
   {
    "duration": 2669,
    "start_time": "2022-05-17T07:06:53.566Z"
   },
   {
    "duration": 2584,
    "start_time": "2022-05-17T07:08:53.751Z"
   },
   {
    "duration": 0,
    "start_time": "2022-05-17T07:08:56.337Z"
   },
   {
    "duration": 2742,
    "start_time": "2022-05-17T07:09:42.210Z"
   },
   {
    "duration": 32,
    "start_time": "2022-05-17T07:11:52.673Z"
   },
   {
    "duration": 22,
    "start_time": "2022-05-17T07:11:52.726Z"
   },
   {
    "duration": 180,
    "start_time": "2022-05-17T07:13:07.369Z"
   },
   {
    "duration": 139,
    "start_time": "2022-05-17T07:13:21.821Z"
   },
   {
    "duration": 8,
    "start_time": "2022-05-17T07:14:17.276Z"
   },
   {
    "duration": 6,
    "start_time": "2022-05-17T07:14:28.526Z"
   },
   {
    "duration": 8,
    "start_time": "2022-05-17T07:16:06.112Z"
   },
   {
    "duration": 23,
    "start_time": "2022-05-17T07:16:06.158Z"
   },
   {
    "duration": 7,
    "start_time": "2022-05-17T07:16:22.791Z"
   },
   {
    "duration": 22,
    "start_time": "2022-05-17T07:16:22.842Z"
   },
   {
    "duration": 7,
    "start_time": "2022-05-17T07:18:14.484Z"
   },
   {
    "duration": 14,
    "start_time": "2022-05-17T07:18:27.655Z"
   },
   {
    "duration": 15,
    "start_time": "2022-05-17T07:18:48.843Z"
   },
   {
    "duration": 16,
    "start_time": "2022-05-17T07:19:48.845Z"
   },
   {
    "duration": 15,
    "start_time": "2022-05-17T07:20:04.595Z"
   },
   {
    "duration": 2247,
    "start_time": "2022-05-17T07:21:06.529Z"
   },
   {
    "duration": 0,
    "start_time": "2022-05-17T07:21:08.778Z"
   },
   {
    "duration": 2216,
    "start_time": "2022-05-17T07:21:28.437Z"
   },
   {
    "duration": 0,
    "start_time": "2022-05-17T07:21:30.656Z"
   },
   {
    "duration": 2161,
    "start_time": "2022-05-17T07:21:57.955Z"
   },
   {
    "duration": 0,
    "start_time": "2022-05-17T07:22:00.119Z"
   },
   {
    "duration": 16,
    "start_time": "2022-05-17T07:22:34.927Z"
   },
   {
    "duration": 41,
    "start_time": "2022-05-17T07:22:47.754Z"
   },
   {
    "duration": 6,
    "start_time": "2022-05-17T07:23:35.506Z"
   },
   {
    "duration": 6,
    "start_time": "2022-05-17T07:25:12.383Z"
   },
   {
    "duration": 25,
    "start_time": "2022-05-17T07:25:18.007Z"
   },
   {
    "duration": 7,
    "start_time": "2022-05-17T07:27:53.447Z"
   },
   {
    "duration": 20,
    "start_time": "2022-05-17T07:27:53.495Z"
   },
   {
    "duration": 5,
    "start_time": "2022-05-17T07:28:08.306Z"
   },
   {
    "duration": 17,
    "start_time": "2022-05-17T07:31:21.801Z"
   },
   {
    "duration": 6,
    "start_time": "2022-05-17T07:31:21.842Z"
   },
   {
    "duration": 18,
    "start_time": "2022-05-17T07:31:40.811Z"
   },
   {
    "duration": 4154,
    "start_time": "2022-05-17T07:34:03.643Z"
   },
   {
    "duration": 19,
    "start_time": "2022-05-17T07:34:07.800Z"
   },
   {
    "duration": 4583,
    "start_time": "2022-05-17T07:36:18.020Z"
   },
   {
    "duration": 21,
    "start_time": "2022-05-17T07:36:22.606Z"
   },
   {
    "duration": 30,
    "start_time": "2022-05-17T07:36:22.629Z"
   },
   {
    "duration": 4400,
    "start_time": "2022-05-17T07:37:19.084Z"
   },
   {
    "duration": 20,
    "start_time": "2022-05-17T07:37:23.487Z"
   },
   {
    "duration": 4225,
    "start_time": "2022-05-17T07:38:12.038Z"
   },
   {
    "duration": 17,
    "start_time": "2022-05-17T07:38:16.266Z"
   },
   {
    "duration": 24,
    "start_time": "2022-05-17T07:38:16.286Z"
   },
   {
    "duration": 6,
    "start_time": "2022-05-17T07:39:23.556Z"
   },
   {
    "duration": 19,
    "start_time": "2022-05-17T07:39:34.623Z"
   },
   {
    "duration": 5,
    "start_time": "2022-05-17T07:39:34.665Z"
   },
   {
    "duration": 19,
    "start_time": "2022-05-17T07:40:34.010Z"
   },
   {
    "duration": 4407,
    "start_time": "2022-05-17T07:40:59.963Z"
   },
   {
    "duration": 22,
    "start_time": "2022-05-17T07:41:04.397Z"
   },
   {
    "duration": 20,
    "start_time": "2022-05-17T07:41:04.447Z"
   },
   {
    "duration": 6316,
    "start_time": "2022-05-17T07:43:13.999Z"
   },
   {
    "duration": 29,
    "start_time": "2022-05-17T07:43:20.359Z"
   },
   {
    "duration": 4426,
    "start_time": "2022-05-17T07:45:47.720Z"
   },
   {
    "duration": 22,
    "start_time": "2022-05-17T07:45:52.148Z"
   },
   {
    "duration": 22,
    "start_time": "2022-05-17T07:46:21.362Z"
   },
   {
    "duration": 4515,
    "start_time": "2022-05-17T07:46:28.671Z"
   },
   {
    "duration": 4355,
    "start_time": "2022-05-17T07:47:31.071Z"
   },
   {
    "duration": 22,
    "start_time": "2022-05-17T07:47:35.428Z"
   },
   {
    "duration": 22,
    "start_time": "2022-05-17T07:47:35.453Z"
   },
   {
    "duration": 4636,
    "start_time": "2022-05-17T07:47:56.318Z"
   },
   {
    "duration": 23,
    "start_time": "2022-05-17T07:48:00.958Z"
   },
   {
    "duration": 83,
    "start_time": "2022-05-17T07:48:48.505Z"
   },
   {
    "duration": 4317,
    "start_time": "2022-05-17T07:49:43.515Z"
   },
   {
    "duration": 40,
    "start_time": "2022-05-17T07:52:58.103Z"
   },
   {
    "duration": 4390,
    "start_time": "2022-05-17T07:53:08.213Z"
   },
   {
    "duration": 21,
    "start_time": "2022-05-17T07:53:12.606Z"
   },
   {
    "duration": 6525,
    "start_time": "2022-05-17T07:56:47.499Z"
   },
   {
    "duration": 66,
    "start_time": "2022-05-17T07:56:54.027Z"
   },
   {
    "duration": 4386,
    "start_time": "2022-05-17T07:58:49.643Z"
   },
   {
    "duration": 29,
    "start_time": "2022-05-17T07:58:54.032Z"
   },
   {
    "duration": 4363,
    "start_time": "2022-05-17T08:01:01.723Z"
   },
   {
    "duration": 23,
    "start_time": "2022-05-17T08:01:06.089Z"
   },
   {
    "duration": 44,
    "start_time": "2022-05-17T08:01:06.114Z"
   },
   {
    "duration": 4904,
    "start_time": "2022-05-17T08:01:51.256Z"
   },
   {
    "duration": 24,
    "start_time": "2022-05-17T08:01:56.162Z"
   },
   {
    "duration": 23,
    "start_time": "2022-05-17T08:01:56.188Z"
   },
   {
    "duration": 5214,
    "start_time": "2022-05-17T08:02:03.302Z"
   },
   {
    "duration": 32,
    "start_time": "2022-05-17T08:02:08.519Z"
   },
   {
    "duration": 21,
    "start_time": "2022-05-17T08:02:08.555Z"
   },
   {
    "duration": 25,
    "start_time": "2022-05-17T08:02:14.448Z"
   },
   {
    "duration": 6720,
    "start_time": "2022-05-17T08:02:51.226Z"
   },
   {
    "duration": 34,
    "start_time": "2022-05-17T08:02:57.949Z"
   },
   {
    "duration": 200,
    "start_time": "2022-05-17T08:04:50.828Z"
   },
   {
    "duration": 0,
    "start_time": "2022-05-17T08:04:51.032Z"
   },
   {
    "duration": 1,
    "start_time": "2022-05-17T08:04:51.034Z"
   },
   {
    "duration": 181,
    "start_time": "2022-05-17T08:05:03.098Z"
   },
   {
    "duration": 0,
    "start_time": "2022-05-17T08:05:03.281Z"
   },
   {
    "duration": 185,
    "start_time": "2022-05-17T08:05:15.932Z"
   },
   {
    "duration": 3006,
    "start_time": "2022-05-17T08:05:28.932Z"
   },
   {
    "duration": 26,
    "start_time": "2022-05-17T08:05:36.401Z"
   },
   {
    "duration": 218,
    "start_time": "2022-05-17T08:05:36.447Z"
   },
   {
    "duration": 25,
    "start_time": "2022-05-17T08:05:54.401Z"
   },
   {
    "duration": 4762,
    "start_time": "2022-05-17T08:06:39.799Z"
   },
   {
    "duration": 23,
    "start_time": "2022-05-17T08:06:44.563Z"
   },
   {
    "duration": 4500,
    "start_time": "2022-05-17T08:07:13.012Z"
   },
   {
    "duration": 31,
    "start_time": "2022-05-17T08:07:17.515Z"
   },
   {
    "duration": 23,
    "start_time": "2022-05-17T08:07:17.549Z"
   },
   {
    "duration": 176,
    "start_time": "2022-05-17T08:12:57.567Z"
   },
   {
    "duration": 179,
    "start_time": "2022-05-17T08:13:50.042Z"
   },
   {
    "duration": 0,
    "start_time": "2022-05-17T08:13:50.225Z"
   },
   {
    "duration": 177,
    "start_time": "2022-05-17T08:14:10.760Z"
   },
   {
    "duration": 18,
    "start_time": "2022-05-17T08:15:40.633Z"
   },
   {
    "duration": 176,
    "start_time": "2022-05-17T08:18:09.887Z"
   },
   {
    "duration": 6,
    "start_time": "2022-05-17T08:18:17.264Z"
   },
   {
    "duration": 7,
    "start_time": "2022-05-17T08:18:24.240Z"
   },
   {
    "duration": 5,
    "start_time": "2022-05-17T08:18:24.295Z"
   },
   {
    "duration": 7,
    "start_time": "2022-05-17T08:19:29.577Z"
   },
   {
    "duration": 6,
    "start_time": "2022-05-17T08:20:53.657Z"
   },
   {
    "duration": 4403,
    "start_time": "2022-05-17T08:21:15.446Z"
   },
   {
    "duration": 5,
    "start_time": "2022-05-17T08:21:19.979Z"
   },
   {
    "duration": 20,
    "start_time": "2022-05-17T08:21:20.033Z"
   },
   {
    "duration": 2838,
    "start_time": "2022-05-17T08:21:32.971Z"
   },
   {
    "duration": 236,
    "start_time": "2022-05-17T08:58:41.532Z"
   },
   {
    "duration": 170,
    "start_time": "2022-05-17T08:59:07.240Z"
   },
   {
    "duration": 0,
    "start_time": "2022-05-17T08:59:07.412Z"
   },
   {
    "duration": 204,
    "start_time": "2022-05-17T08:59:16.486Z"
   },
   {
    "duration": 3020,
    "start_time": "2022-05-17T08:59:30.017Z"
   },
   {
    "duration": 0,
    "start_time": "2022-05-17T08:59:33.039Z"
   },
   {
    "duration": 21,
    "start_time": "2022-05-17T08:59:33.098Z"
   },
   {
    "duration": 25,
    "start_time": "2022-05-17T09:01:01.471Z"
   },
   {
    "duration": 2959,
    "start_time": "2022-05-17T09:01:36.415Z"
   },
   {
    "duration": 0,
    "start_time": "2022-05-17T09:01:39.377Z"
   },
   {
    "duration": 18,
    "start_time": "2022-05-17T09:03:08.975Z"
   },
   {
    "duration": 19,
    "start_time": "2022-05-17T09:04:10.538Z"
   },
   {
    "duration": 2915,
    "start_time": "2022-05-17T09:05:45.556Z"
   },
   {
    "duration": 176,
    "start_time": "2022-05-17T09:06:54.026Z"
   },
   {
    "duration": 178,
    "start_time": "2022-05-17T09:06:58.058Z"
   },
   {
    "duration": 184,
    "start_time": "2022-05-17T09:07:20.542Z"
   },
   {
    "duration": 229,
    "start_time": "2022-05-17T09:07:27.329Z"
   },
   {
    "duration": 0,
    "start_time": "2022-05-17T09:07:27.560Z"
   },
   {
    "duration": 178,
    "start_time": "2022-05-17T09:07:50.903Z"
   },
   {
    "duration": 201,
    "start_time": "2022-05-17T09:08:43.678Z"
   },
   {
    "duration": 71,
    "start_time": "2022-05-17T09:09:27.545Z"
   },
   {
    "duration": 99,
    "start_time": "2022-05-17T09:09:40.329Z"
   },
   {
    "duration": 72,
    "start_time": "2022-05-17T09:11:25.423Z"
   },
   {
    "duration": 68,
    "start_time": "2022-05-17T09:11:54.346Z"
   },
   {
    "duration": 6,
    "start_time": "2022-05-17T09:11:59.578Z"
   },
   {
    "duration": 26,
    "start_time": "2022-05-17T09:13:33.643Z"
   },
   {
    "duration": 6,
    "start_time": "2022-05-17T09:13:33.693Z"
   },
   {
    "duration": 26,
    "start_time": "2022-05-17T09:14:01.459Z"
   },
   {
    "duration": 21,
    "start_time": "2022-05-17T09:14:43.488Z"
   },
   {
    "duration": 6,
    "start_time": "2022-05-17T09:14:43.535Z"
   },
   {
    "duration": 7,
    "start_time": "2022-05-17T09:15:22.957Z"
   },
   {
    "duration": 25,
    "start_time": "2022-05-17T09:15:23.012Z"
   },
   {
    "duration": 19,
    "start_time": "2022-05-17T09:15:56.902Z"
   },
   {
    "duration": 5,
    "start_time": "2022-05-17T09:15:56.945Z"
   },
   {
    "duration": 12,
    "start_time": "2022-05-17T09:32:58.092Z"
   },
   {
    "duration": 15,
    "start_time": "2022-05-17T09:33:05.232Z"
   },
   {
    "duration": 13,
    "start_time": "2022-05-17T09:33:16.373Z"
   },
   {
    "duration": 13,
    "start_time": "2022-05-17T09:33:19.561Z"
   },
   {
    "duration": 116,
    "start_time": "2022-05-17T09:33:31.687Z"
   },
   {
    "duration": 8,
    "start_time": "2022-05-17T09:33:37.045Z"
   },
   {
    "duration": 33,
    "start_time": "2022-05-17T09:33:40.358Z"
   },
   {
    "duration": 21,
    "start_time": "2022-05-17T09:33:43.505Z"
   },
   {
    "duration": 16,
    "start_time": "2022-05-17T09:33:49.279Z"
   },
   {
    "duration": 30,
    "start_time": "2022-05-17T09:33:52.500Z"
   },
   {
    "duration": 6,
    "start_time": "2022-05-17T09:35:40.871Z"
   },
   {
    "duration": 436,
    "start_time": "2022-05-17T09:35:50.402Z"
   },
   {
    "duration": 245,
    "start_time": "2022-05-17T09:36:44.933Z"
   },
   {
    "duration": 224,
    "start_time": "2022-05-17T09:36:51.785Z"
   },
   {
    "duration": 213,
    "start_time": "2022-05-17T09:37:06.544Z"
   },
   {
    "duration": 2426,
    "start_time": "2022-05-17T09:37:49.536Z"
   },
   {
    "duration": 2266,
    "start_time": "2022-05-17T09:38:17.787Z"
   },
   {
    "duration": 29,
    "start_time": "2022-05-17T09:39:34.929Z"
   },
   {
    "duration": 46,
    "start_time": "2022-05-17T09:40:05.429Z"
   },
   {
    "duration": 29,
    "start_time": "2022-05-17T09:40:18.987Z"
   },
   {
    "duration": 31,
    "start_time": "2022-05-17T09:41:28.416Z"
   },
   {
    "duration": 29,
    "start_time": "2022-05-17T09:42:24.308Z"
   },
   {
    "duration": 22,
    "start_time": "2022-05-17T09:52:33.882Z"
   },
   {
    "duration": 195,
    "start_time": "2022-05-17T09:52:33.935Z"
   },
   {
    "duration": 3362,
    "start_time": "2022-05-17T09:53:01.118Z"
   },
   {
    "duration": 4036,
    "start_time": "2022-05-17T09:53:12.263Z"
   },
   {
    "duration": 0,
    "start_time": "2022-05-17T09:53:16.302Z"
   },
   {
    "duration": 13,
    "start_time": "2022-05-17T09:53:30.622Z"
   },
   {
    "duration": 187,
    "start_time": "2022-05-17T09:53:30.667Z"
   },
   {
    "duration": 41,
    "start_time": "2022-05-17T09:53:50.609Z"
   },
   {
    "duration": 191,
    "start_time": "2022-05-17T09:53:50.654Z"
   },
   {
    "duration": 0,
    "start_time": "2022-05-17T09:53:50.849Z"
   },
   {
    "duration": 2319,
    "start_time": "2022-05-17T09:54:28.481Z"
   },
   {
    "duration": 2372,
    "start_time": "2022-05-17T09:55:14.997Z"
   },
   {
    "duration": 27,
    "start_time": "2022-05-17T09:55:25.090Z"
   },
   {
    "duration": 27,
    "start_time": "2022-05-17T09:55:29.481Z"
   },
   {
    "duration": 18,
    "start_time": "2022-05-17T09:56:00.201Z"
   },
   {
    "duration": 19,
    "start_time": "2022-05-17T09:56:27.750Z"
   },
   {
    "duration": 36,
    "start_time": "2022-05-17T09:56:35.638Z"
   },
   {
    "duration": 29,
    "start_time": "2022-05-17T09:56:48.076Z"
   },
   {
    "duration": 12,
    "start_time": "2022-05-17T09:58:53.020Z"
   },
   {
    "duration": 11,
    "start_time": "2022-05-17T09:59:05.094Z"
   },
   {
    "duration": 11,
    "start_time": "2022-05-17T09:59:29.268Z"
   },
   {
    "duration": 15,
    "start_time": "2022-05-17T10:00:30.097Z"
   },
   {
    "duration": 16,
    "start_time": "2022-05-17T10:00:37.643Z"
   },
   {
    "duration": 268,
    "start_time": "2022-05-17T10:00:37.719Z"
   },
   {
    "duration": 0,
    "start_time": "2022-05-17T10:00:37.990Z"
   },
   {
    "duration": 16,
    "start_time": "2022-05-17T10:01:06.454Z"
   },
   {
    "duration": 14,
    "start_time": "2022-05-17T10:03:57.485Z"
   },
   {
    "duration": 174,
    "start_time": "2022-05-17T10:03:57.594Z"
   },
   {
    "duration": 11,
    "start_time": "2022-05-17T10:04:29.336Z"
   },
   {
    "duration": 15,
    "start_time": "2022-05-17T10:04:44.024Z"
   },
   {
    "duration": 9,
    "start_time": "2022-05-17T10:05:05.383Z"
   },
   {
    "duration": 13,
    "start_time": "2022-05-17T10:05:12.024Z"
   },
   {
    "duration": 318,
    "start_time": "2022-05-17T10:05:12.150Z"
   },
   {
    "duration": 6,
    "start_time": "2022-05-17T10:08:09.623Z"
   },
   {
    "duration": 5,
    "start_time": "2022-05-17T10:08:15.138Z"
   },
   {
    "duration": 13,
    "start_time": "2022-05-17T10:08:42.482Z"
   },
   {
    "duration": 6,
    "start_time": "2022-05-17T10:08:48.658Z"
   },
   {
    "duration": 12,
    "start_time": "2022-05-17T10:15:37.288Z"
   },
   {
    "duration": 12,
    "start_time": "2022-05-17T10:16:13.711Z"
   },
   {
    "duration": 12,
    "start_time": "2022-05-17T10:17:28.885Z"
   },
   {
    "duration": 13,
    "start_time": "2022-05-17T10:19:46.371Z"
   },
   {
    "duration": 15,
    "start_time": "2022-05-17T10:20:00.138Z"
   },
   {
    "duration": 7,
    "start_time": "2022-05-17T10:20:17.438Z"
   },
   {
    "duration": 27,
    "start_time": "2022-05-17T10:20:17.513Z"
   },
   {
    "duration": 8,
    "start_time": "2022-05-17T10:20:24.591Z"
   },
   {
    "duration": 8,
    "start_time": "2022-05-17T10:20:40.357Z"
   },
   {
    "duration": 9,
    "start_time": "2022-05-17T10:20:50.839Z"
   },
   {
    "duration": 33,
    "start_time": "2022-05-17T10:20:50.968Z"
   },
   {
    "duration": 9,
    "start_time": "2022-05-17T10:22:09.874Z"
   },
   {
    "duration": 11,
    "start_time": "2022-05-17T10:22:21.531Z"
   },
   {
    "duration": 10,
    "start_time": "2022-05-17T10:23:11.570Z"
   },
   {
    "duration": 10,
    "start_time": "2022-05-17T10:23:24.127Z"
   },
   {
    "duration": 10,
    "start_time": "2022-05-17T10:23:36.876Z"
   },
   {
    "duration": 215,
    "start_time": "2022-05-17T10:25:41.316Z"
   },
   {
    "duration": 11,
    "start_time": "2022-05-17T10:25:54.363Z"
   },
   {
    "duration": 9,
    "start_time": "2022-05-17T10:26:05.759Z"
   },
   {
    "duration": 9,
    "start_time": "2022-05-17T10:32:23.473Z"
   },
   {
    "duration": 10,
    "start_time": "2022-05-17T10:33:22.245Z"
   },
   {
    "duration": 11,
    "start_time": "2022-05-17T10:33:22.341Z"
   },
   {
    "duration": 10,
    "start_time": "2022-05-17T10:42:39.464Z"
   },
   {
    "duration": 13,
    "start_time": "2022-05-17T10:44:45.393Z"
   },
   {
    "duration": 15,
    "start_time": "2022-05-17T10:47:09.845Z"
   },
   {
    "duration": 11,
    "start_time": "2022-05-17T10:47:51.798Z"
   },
   {
    "duration": 183,
    "start_time": "2022-05-17T10:49:17.700Z"
   },
   {
    "duration": 0,
    "start_time": "2022-05-17T10:49:17.886Z"
   },
   {
    "duration": 0,
    "start_time": "2022-05-17T10:49:17.889Z"
   },
   {
    "duration": 224,
    "start_time": "2022-05-17T10:50:46.334Z"
   },
   {
    "duration": 225,
    "start_time": "2022-05-17T10:50:53.240Z"
   },
   {
    "duration": 12,
    "start_time": "2022-05-17T10:51:03.962Z"
   },
   {
    "duration": 6,
    "start_time": "2022-05-17T10:51:51.382Z"
   },
   {
    "duration": 6,
    "start_time": "2022-05-17T10:52:31.805Z"
   },
   {
    "duration": 13,
    "start_time": "2022-05-17T10:54:59.370Z"
   },
   {
    "duration": 14,
    "start_time": "2022-05-17T10:55:17.684Z"
   },
   {
    "duration": 6,
    "start_time": "2022-05-17T10:58:08.360Z"
   },
   {
    "duration": 10,
    "start_time": "2022-05-17T11:43:21.311Z"
   },
   {
    "duration": 6,
    "start_time": "2022-05-17T11:43:21.353Z"
   },
   {
    "duration": 10,
    "start_time": "2022-05-17T11:44:08.970Z"
   },
   {
    "duration": 7,
    "start_time": "2022-05-17T11:44:09.054Z"
   },
   {
    "duration": 175,
    "start_time": "2022-05-17T11:44:15.838Z"
   },
   {
    "duration": 5,
    "start_time": "2022-05-17T11:44:22.680Z"
   },
   {
    "duration": 5,
    "start_time": "2022-05-17T11:48:40.983Z"
   },
   {
    "duration": 31,
    "start_time": "2022-05-17T11:51:08.220Z"
   },
   {
    "duration": 13,
    "start_time": "2022-05-17T11:51:40.799Z"
   },
   {
    "duration": 12,
    "start_time": "2022-05-17T11:54:00.193Z"
   },
   {
    "duration": 189,
    "start_time": "2022-05-17T12:10:40.419Z"
   },
   {
    "duration": 10,
    "start_time": "2022-05-17T12:10:57.965Z"
   },
   {
    "duration": 12,
    "start_time": "2022-05-17T12:11:37.507Z"
   },
   {
    "duration": 224,
    "start_time": "2022-05-17T12:11:37.529Z"
   },
   {
    "duration": 15,
    "start_time": "2022-05-17T12:13:21.141Z"
   },
   {
    "duration": 16,
    "start_time": "2022-05-17T12:13:41.988Z"
   },
   {
    "duration": 12,
    "start_time": "2022-05-17T12:14:40.300Z"
   },
   {
    "duration": 6,
    "start_time": "2022-05-17T12:14:47.705Z"
   },
   {
    "duration": 6,
    "start_time": "2022-05-17T12:14:56.423Z"
   },
   {
    "duration": 9,
    "start_time": "2022-05-17T12:18:41.680Z"
   },
   {
    "duration": 12,
    "start_time": "2022-05-17T12:22:06.669Z"
   },
   {
    "duration": 9,
    "start_time": "2022-05-17T12:23:00.141Z"
   },
   {
    "duration": 630,
    "start_time": "2022-05-17T12:25:05.190Z"
   },
   {
    "duration": 31,
    "start_time": "2022-05-17T12:25:05.824Z"
   },
   {
    "duration": 41,
    "start_time": "2022-05-17T12:25:05.858Z"
   },
   {
    "duration": 6,
    "start_time": "2022-05-17T12:25:05.902Z"
   },
   {
    "duration": 32,
    "start_time": "2022-05-17T12:25:05.945Z"
   },
   {
    "duration": 21,
    "start_time": "2022-05-17T12:25:05.979Z"
   },
   {
    "duration": 48,
    "start_time": "2022-05-17T12:25:06.004Z"
   },
   {
    "duration": 31,
    "start_time": "2022-05-17T12:25:06.054Z"
   },
   {
    "duration": 11,
    "start_time": "2022-05-17T12:25:06.088Z"
   },
   {
    "duration": 135,
    "start_time": "2022-05-17T12:25:06.102Z"
   },
   {
    "duration": 0,
    "start_time": "2022-05-17T12:25:06.245Z"
   },
   {
    "duration": 0,
    "start_time": "2022-05-17T12:25:06.246Z"
   },
   {
    "duration": 0,
    "start_time": "2022-05-17T12:25:06.248Z"
   },
   {
    "duration": 26,
    "start_time": "2022-05-17T12:26:00.078Z"
   },
   {
    "duration": 4,
    "start_time": "2022-05-17T12:31:53.430Z"
   },
   {
    "duration": 12,
    "start_time": "2022-05-17T12:32:03.853Z"
   },
   {
    "duration": 6,
    "start_time": "2022-05-17T12:32:06.461Z"
   },
   {
    "duration": 10,
    "start_time": "2022-05-17T12:32:16.634Z"
   },
   {
    "duration": 5,
    "start_time": "2022-05-17T12:32:19.118Z"
   },
   {
    "duration": 215,
    "start_time": "2022-05-17T12:49:31.374Z"
   },
   {
    "duration": 13,
    "start_time": "2022-05-17T12:49:37.241Z"
   },
   {
    "duration": 23,
    "start_time": "2022-05-17T12:49:37.280Z"
   },
   {
    "duration": 13,
    "start_time": "2022-05-17T12:52:15.093Z"
   },
   {
    "duration": 25,
    "start_time": "2022-05-17T12:52:15.140Z"
   },
   {
    "duration": 2473,
    "start_time": "2022-05-17T13:28:34.521Z"
   },
   {
    "duration": 10,
    "start_time": "2022-05-17T13:29:52.258Z"
   },
   {
    "duration": 14,
    "start_time": "2022-05-17T13:30:17.930Z"
   },
   {
    "duration": 9,
    "start_time": "2022-05-17T13:30:34.571Z"
   },
   {
    "duration": 5,
    "start_time": "2022-05-17T13:30:40.367Z"
   },
   {
    "duration": 9,
    "start_time": "2022-05-17T13:30:46.527Z"
   },
   {
    "duration": 5,
    "start_time": "2022-05-17T13:30:48.166Z"
   },
   {
    "duration": 0,
    "start_time": "2022-05-17T13:31:01.953Z"
   },
   {
    "duration": 0,
    "start_time": "2022-05-17T13:31:01.956Z"
   },
   {
    "duration": 0,
    "start_time": "2022-05-17T13:31:01.958Z"
   },
   {
    "duration": 0,
    "start_time": "2022-05-17T13:31:01.960Z"
   },
   {
    "duration": 0,
    "start_time": "2022-05-17T13:31:01.962Z"
   },
   {
    "duration": 0,
    "start_time": "2022-05-17T13:31:01.965Z"
   },
   {
    "duration": 0,
    "start_time": "2022-05-17T13:31:01.967Z"
   },
   {
    "duration": 0,
    "start_time": "2022-05-17T13:31:01.969Z"
   },
   {
    "duration": 0,
    "start_time": "2022-05-17T13:31:01.971Z"
   },
   {
    "duration": 0,
    "start_time": "2022-05-17T13:31:01.974Z"
   },
   {
    "duration": 0,
    "start_time": "2022-05-17T13:31:01.976Z"
   },
   {
    "duration": 0,
    "start_time": "2022-05-17T13:31:01.978Z"
   },
   {
    "duration": 0,
    "start_time": "2022-05-17T13:31:01.980Z"
   },
   {
    "duration": 0,
    "start_time": "2022-05-17T13:31:02.046Z"
   },
   {
    "duration": 694,
    "start_time": "2022-05-17T13:31:32.225Z"
   },
   {
    "duration": 25,
    "start_time": "2022-05-17T13:31:32.921Z"
   },
   {
    "duration": 40,
    "start_time": "2022-05-17T13:31:32.951Z"
   },
   {
    "duration": 6,
    "start_time": "2022-05-17T13:31:32.994Z"
   },
   {
    "duration": 62,
    "start_time": "2022-05-17T13:31:33.002Z"
   },
   {
    "duration": 20,
    "start_time": "2022-05-17T13:31:33.067Z"
   },
   {
    "duration": 22,
    "start_time": "2022-05-17T13:31:33.089Z"
   },
   {
    "duration": 70,
    "start_time": "2022-05-17T13:31:33.114Z"
   },
   {
    "duration": 12,
    "start_time": "2022-05-17T13:31:33.187Z"
   },
   {
    "duration": 13,
    "start_time": "2022-05-17T13:31:33.202Z"
   },
   {
    "duration": 174,
    "start_time": "2022-05-17T13:31:33.245Z"
   },
   {
    "duration": 0,
    "start_time": "2022-05-17T13:31:33.423Z"
   },
   {
    "duration": 0,
    "start_time": "2022-05-17T13:31:33.424Z"
   },
   {
    "duration": 0,
    "start_time": "2022-05-17T13:31:33.426Z"
   },
   {
    "duration": 6344,
    "start_time": "2022-05-17T13:35:58.981Z"
   },
   {
    "duration": 4948,
    "start_time": "2022-05-17T13:36:34.987Z"
   },
   {
    "duration": 0,
    "start_time": "2022-05-17T13:36:39.939Z"
   },
   {
    "duration": 31,
    "start_time": "2022-05-17T13:36:45.966Z"
   },
   {
    "duration": 11,
    "start_time": "2022-05-17T13:37:25.483Z"
   },
   {
    "duration": 17,
    "start_time": "2022-05-17T13:37:59.561Z"
   },
   {
    "duration": 13,
    "start_time": "2022-05-17T13:38:20.800Z"
   },
   {
    "duration": 24,
    "start_time": "2022-05-17T13:38:20.843Z"
   },
   {
    "duration": 18,
    "start_time": "2022-05-17T13:38:26.416Z"
   },
   {
    "duration": 25,
    "start_time": "2022-05-17T13:38:26.484Z"
   },
   {
    "duration": 638,
    "start_time": "2022-05-17T13:38:39.613Z"
   },
   {
    "duration": 20,
    "start_time": "2022-05-17T13:38:40.254Z"
   },
   {
    "duration": 43,
    "start_time": "2022-05-17T13:38:40.277Z"
   },
   {
    "duration": 23,
    "start_time": "2022-05-17T13:38:40.322Z"
   },
   {
    "duration": 32,
    "start_time": "2022-05-17T13:38:40.348Z"
   },
   {
    "duration": 29,
    "start_time": "2022-05-17T13:38:40.382Z"
   },
   {
    "duration": 40,
    "start_time": "2022-05-17T13:38:40.413Z"
   },
   {
    "duration": 31,
    "start_time": "2022-05-17T13:38:40.455Z"
   },
   {
    "duration": 9,
    "start_time": "2022-05-17T13:38:40.488Z"
   },
   {
    "duration": 9,
    "start_time": "2022-05-17T13:38:40.499Z"
   },
   {
    "duration": 172,
    "start_time": "2022-05-17T13:38:40.545Z"
   },
   {
    "duration": 0,
    "start_time": "2022-05-17T13:38:40.720Z"
   },
   {
    "duration": 0,
    "start_time": "2022-05-17T13:38:40.721Z"
   },
   {
    "duration": 0,
    "start_time": "2022-05-17T13:38:40.724Z"
   },
   {
    "duration": 3166,
    "start_time": "2022-05-17T13:43:32.900Z"
   },
   {
    "duration": 3211,
    "start_time": "2022-05-17T13:44:25.996Z"
   },
   {
    "duration": 4041,
    "start_time": "2022-05-17T13:44:59.846Z"
   },
   {
    "duration": 0,
    "start_time": "2022-05-17T13:45:03.889Z"
   },
   {
    "duration": 592,
    "start_time": "2022-05-17T15:00:58.542Z"
   },
   {
    "duration": 28,
    "start_time": "2022-05-17T15:00:59.137Z"
   },
   {
    "duration": 38,
    "start_time": "2022-05-17T15:00:59.168Z"
   },
   {
    "duration": 6,
    "start_time": "2022-05-17T15:00:59.208Z"
   },
   {
    "duration": 64,
    "start_time": "2022-05-17T15:00:59.216Z"
   },
   {
    "duration": 24,
    "start_time": "2022-05-17T15:00:59.282Z"
   },
   {
    "duration": 19,
    "start_time": "2022-05-17T15:00:59.308Z"
   },
   {
    "duration": 52,
    "start_time": "2022-05-17T15:00:59.329Z"
   },
   {
    "duration": 9,
    "start_time": "2022-05-17T15:00:59.383Z"
   },
   {
    "duration": 17,
    "start_time": "2022-05-17T15:00:59.394Z"
   },
   {
    "duration": 3359,
    "start_time": "2022-05-17T15:00:59.413Z"
   },
   {
    "duration": 0,
    "start_time": "2022-05-17T15:01:02.774Z"
   },
   {
    "duration": 0,
    "start_time": "2022-05-17T15:01:02.776Z"
   },
   {
    "duration": 0,
    "start_time": "2022-05-17T15:01:02.777Z"
   },
   {
    "duration": 44,
    "start_time": "2022-05-17T15:49:27.254Z"
   },
   {
    "duration": 8,
    "start_time": "2022-05-17T15:53:08.699Z"
   },
   {
    "duration": 5,
    "start_time": "2022-05-17T15:53:11.467Z"
   },
   {
    "duration": 37,
    "start_time": "2022-05-17T15:53:17.324Z"
   },
   {
    "duration": 14,
    "start_time": "2022-05-17T15:54:38.778Z"
   },
   {
    "duration": 19,
    "start_time": "2022-05-17T15:55:41.730Z"
   },
   {
    "duration": 32,
    "start_time": "2022-05-17T15:57:28.081Z"
   },
   {
    "duration": 44,
    "start_time": "2022-05-17T15:57:55.851Z"
   },
   {
    "duration": 506,
    "start_time": "2022-05-17T15:58:37.024Z"
   },
   {
    "duration": 35,
    "start_time": "2022-05-17T15:58:51.906Z"
   },
   {
    "duration": 5,
    "start_time": "2022-05-17T15:59:26.376Z"
   },
   {
    "duration": 6,
    "start_time": "2022-05-17T16:00:16.119Z"
   },
   {
    "duration": 9,
    "start_time": "2022-05-17T16:05:41.333Z"
   },
   {
    "duration": 203,
    "start_time": "2022-05-17T16:05:58.559Z"
   },
   {
    "duration": 16,
    "start_time": "2022-05-17T16:07:04.861Z"
   },
   {
    "duration": 24,
    "start_time": "2022-05-17T16:07:31.821Z"
   },
   {
    "duration": 17,
    "start_time": "2022-05-17T16:08:11.397Z"
   },
   {
    "duration": 22,
    "start_time": "2022-05-17T16:09:01.981Z"
   },
   {
    "duration": 58,
    "start_time": "2022-05-17T16:09:15.644Z"
   },
   {
    "duration": 51,
    "start_time": "2022-05-17T16:09:55.349Z"
   },
   {
    "duration": 27,
    "start_time": "2022-05-17T16:11:01.740Z"
   },
   {
    "duration": 55,
    "start_time": "2022-05-17T16:11:12.011Z"
   },
   {
    "duration": 50,
    "start_time": "2022-05-17T16:11:23.348Z"
   },
   {
    "duration": 61617,
    "start_time": "2022-05-17T16:12:47.522Z"
   },
   {
    "duration": 7,
    "start_time": "2022-05-17T16:14:04.593Z"
   },
   {
    "duration": 2480,
    "start_time": "2022-05-17T16:14:13.350Z"
   },
   {
    "duration": 892,
    "start_time": "2022-05-17T16:14:40.002Z"
   },
   {
    "duration": 650,
    "start_time": "2022-05-17T16:14:49.159Z"
   },
   {
    "duration": 36,
    "start_time": "2022-05-17T16:14:49.812Z"
   },
   {
    "duration": 55,
    "start_time": "2022-05-17T16:14:49.850Z"
   },
   {
    "duration": 7,
    "start_time": "2022-05-17T16:14:49.908Z"
   },
   {
    "duration": 53,
    "start_time": "2022-05-17T16:14:49.918Z"
   },
   {
    "duration": 19,
    "start_time": "2022-05-17T16:14:49.974Z"
   },
   {
    "duration": 20,
    "start_time": "2022-05-17T16:14:49.995Z"
   },
   {
    "duration": 36,
    "start_time": "2022-05-17T16:14:50.048Z"
   },
   {
    "duration": 18,
    "start_time": "2022-05-17T16:14:50.087Z"
   },
   {
    "duration": 12,
    "start_time": "2022-05-17T16:14:50.107Z"
   },
   {
    "duration": 147,
    "start_time": "2022-05-17T16:14:50.121Z"
   },
   {
    "duration": 0,
    "start_time": "2022-05-17T16:14:50.272Z"
   },
   {
    "duration": 0,
    "start_time": "2022-05-17T16:14:50.274Z"
   },
   {
    "duration": 0,
    "start_time": "2022-05-17T16:14:50.277Z"
   },
   {
    "duration": 3316,
    "start_time": "2022-05-17T16:18:27.595Z"
   },
   {
    "duration": 6,
    "start_time": "2022-05-17T16:20:19.061Z"
   },
   {
    "duration": 166,
    "start_time": "2022-05-17T16:25:35.441Z"
   },
   {
    "duration": 7,
    "start_time": "2022-05-17T16:26:02.904Z"
   },
   {
    "duration": 47,
    "start_time": "2022-05-17T16:26:09.704Z"
   },
   {
    "duration": 48,
    "start_time": "2022-05-17T16:27:56.922Z"
   },
   {
    "duration": 19,
    "start_time": "2022-05-17T16:28:53.391Z"
   },
   {
    "duration": 1688,
    "start_time": "2022-05-19T21:33:45.375Z"
   },
   {
    "duration": 231,
    "start_time": "2022-05-19T21:33:58.148Z"
   },
   {
    "duration": 22,
    "start_time": "2022-05-19T21:34:24.982Z"
   },
   {
    "duration": 31,
    "start_time": "2022-05-19T21:34:34.407Z"
   },
   {
    "duration": 51,
    "start_time": "2022-05-19T21:34:43.150Z"
   },
   {
    "duration": 6,
    "start_time": "2022-05-19T21:35:08.552Z"
   },
   {
    "duration": 36,
    "start_time": "2022-05-19T21:35:39.271Z"
   },
   {
    "duration": 72,
    "start_time": "2022-05-19T21:35:50.262Z"
   },
   {
    "duration": 19,
    "start_time": "2022-05-19T21:36:04.166Z"
   },
   {
    "duration": 11,
    "start_time": "2022-05-19T21:36:28.862Z"
   },
   {
    "duration": 22,
    "start_time": "2022-05-19T21:36:54.766Z"
   },
   {
    "duration": 5,
    "start_time": "2022-05-19T21:37:17.326Z"
   },
   {
    "duration": 15,
    "start_time": "2022-05-19T21:37:39.110Z"
   },
   {
    "duration": 5,
    "start_time": "2022-05-19T21:38:05.270Z"
   },
   {
    "duration": 6,
    "start_time": "2022-05-19T21:38:27.349Z"
   },
   {
    "duration": 36,
    "start_time": "2022-05-19T21:38:40.966Z"
   },
   {
    "duration": 8,
    "start_time": "2022-05-19T21:38:57.446Z"
   },
   {
    "duration": 6,
    "start_time": "2022-05-19T21:39:20.205Z"
   },
   {
    "duration": 4798,
    "start_time": "2022-05-19T21:39:45.853Z"
   },
   {
    "duration": 25,
    "start_time": "2022-05-19T21:40:00.058Z"
   },
   {
    "duration": 18,
    "start_time": "2022-05-19T21:40:22.981Z"
   },
   {
    "duration": 776,
    "start_time": "2022-05-19T21:40:51.137Z"
   },
   {
    "duration": 336,
    "start_time": "2022-05-19T21:41:23.084Z"
   },
   {
    "duration": 11,
    "start_time": "2022-05-19T21:41:58.684Z"
   },
   {
    "duration": 375,
    "start_time": "2022-05-19T21:42:48.094Z"
   },
   {
    "duration": 37,
    "start_time": "2022-05-19T21:43:24.604Z"
   },
   {
    "duration": 30,
    "start_time": "2022-05-19T21:43:40.476Z"
   },
   {
    "duration": 405,
    "start_time": "2022-05-19T21:43:53.294Z"
   },
   {
    "duration": 215,
    "start_time": "2022-05-19T21:44:31.351Z"
   },
   {
    "duration": 22,
    "start_time": "2022-05-19T21:49:12.851Z"
   },
   {
    "duration": 66,
    "start_time": "2022-05-20T08:13:37.178Z"
   },
   {
    "duration": 16,
    "start_time": "2022-05-20T08:14:00.391Z"
   },
   {
    "duration": 7,
    "start_time": "2022-05-20T08:14:52.706Z"
   },
   {
    "duration": 0,
    "start_time": "2022-05-20T08:15:42.762Z"
   },
   {
    "duration": 0,
    "start_time": "2022-05-20T08:15:42.764Z"
   },
   {
    "duration": 0,
    "start_time": "2022-05-20T08:15:42.765Z"
   },
   {
    "duration": 0,
    "start_time": "2022-05-20T08:15:42.767Z"
   },
   {
    "duration": 0,
    "start_time": "2022-05-20T08:15:42.769Z"
   },
   {
    "duration": 0,
    "start_time": "2022-05-20T08:15:42.770Z"
   },
   {
    "duration": 0,
    "start_time": "2022-05-20T08:15:42.794Z"
   },
   {
    "duration": 0,
    "start_time": "2022-05-20T08:15:42.795Z"
   },
   {
    "duration": 0,
    "start_time": "2022-05-20T08:15:42.796Z"
   },
   {
    "duration": 0,
    "start_time": "2022-05-20T08:15:42.797Z"
   },
   {
    "duration": 0,
    "start_time": "2022-05-20T08:15:42.798Z"
   },
   {
    "duration": 0,
    "start_time": "2022-05-20T08:15:42.799Z"
   },
   {
    "duration": 0,
    "start_time": "2022-05-20T08:15:42.800Z"
   },
   {
    "duration": 0,
    "start_time": "2022-05-20T08:15:42.801Z"
   },
   {
    "duration": 0,
    "start_time": "2022-05-20T08:15:42.802Z"
   },
   {
    "duration": 0,
    "start_time": "2022-05-20T08:15:42.803Z"
   },
   {
    "duration": 0,
    "start_time": "2022-05-20T08:15:42.804Z"
   },
   {
    "duration": 0,
    "start_time": "2022-05-20T08:15:42.805Z"
   },
   {
    "duration": 0,
    "start_time": "2022-05-20T08:15:42.806Z"
   },
   {
    "duration": 0,
    "start_time": "2022-05-20T08:15:42.807Z"
   },
   {
    "duration": 0,
    "start_time": "2022-05-20T08:15:42.808Z"
   },
   {
    "duration": 0,
    "start_time": "2022-05-20T08:15:42.809Z"
   },
   {
    "duration": 0,
    "start_time": "2022-05-20T08:15:42.811Z"
   },
   {
    "duration": 0,
    "start_time": "2022-05-20T08:15:42.812Z"
   },
   {
    "duration": 0,
    "start_time": "2022-05-20T08:15:42.813Z"
   },
   {
    "duration": 0,
    "start_time": "2022-05-20T08:15:42.814Z"
   },
   {
    "duration": 0,
    "start_time": "2022-05-20T08:16:35.147Z"
   },
   {
    "duration": 0,
    "start_time": "2022-05-20T08:16:35.148Z"
   },
   {
    "duration": 0,
    "start_time": "2022-05-20T08:16:35.149Z"
   },
   {
    "duration": 0,
    "start_time": "2022-05-20T08:16:35.151Z"
   },
   {
    "duration": 0,
    "start_time": "2022-05-20T08:16:35.152Z"
   },
   {
    "duration": 0,
    "start_time": "2022-05-20T08:16:35.153Z"
   },
   {
    "duration": 0,
    "start_time": "2022-05-20T08:16:35.155Z"
   },
   {
    "duration": 0,
    "start_time": "2022-05-20T08:16:35.156Z"
   },
   {
    "duration": 0,
    "start_time": "2022-05-20T08:16:35.158Z"
   },
   {
    "duration": 0,
    "start_time": "2022-05-20T08:16:35.159Z"
   },
   {
    "duration": 0,
    "start_time": "2022-05-20T08:16:35.160Z"
   },
   {
    "duration": 0,
    "start_time": "2022-05-20T08:16:35.161Z"
   },
   {
    "duration": 0,
    "start_time": "2022-05-20T08:16:35.162Z"
   },
   {
    "duration": 0,
    "start_time": "2022-05-20T08:16:35.163Z"
   },
   {
    "duration": 0,
    "start_time": "2022-05-20T08:16:35.165Z"
   },
   {
    "duration": 0,
    "start_time": "2022-05-20T08:16:35.166Z"
   },
   {
    "duration": 0,
    "start_time": "2022-05-20T08:16:35.167Z"
   },
   {
    "duration": 0,
    "start_time": "2022-05-20T08:16:35.169Z"
   },
   {
    "duration": 0,
    "start_time": "2022-05-20T08:16:35.170Z"
   },
   {
    "duration": 0,
    "start_time": "2022-05-20T08:16:35.171Z"
   },
   {
    "duration": 0,
    "start_time": "2022-05-20T08:16:35.172Z"
   },
   {
    "duration": 0,
    "start_time": "2022-05-20T08:16:35.196Z"
   },
   {
    "duration": 0,
    "start_time": "2022-05-20T08:16:35.197Z"
   },
   {
    "duration": 0,
    "start_time": "2022-05-20T08:16:35.198Z"
   },
   {
    "duration": 0,
    "start_time": "2022-05-20T08:16:35.199Z"
   },
   {
    "duration": 0,
    "start_time": "2022-05-20T08:16:35.200Z"
   },
   {
    "duration": 57,
    "start_time": "2022-05-20T08:16:48.429Z"
   },
   {
    "duration": 19,
    "start_time": "2022-05-20T08:16:52.444Z"
   },
   {
    "duration": 36,
    "start_time": "2022-05-20T08:16:54.794Z"
   },
   {
    "duration": 32,
    "start_time": "2022-05-20T08:16:58.007Z"
   },
   {
    "duration": 7,
    "start_time": "2022-05-20T08:17:01.625Z"
   },
   {
    "duration": 29,
    "start_time": "2022-05-20T08:17:04.303Z"
   },
   {
    "duration": 17,
    "start_time": "2022-05-20T08:17:10.217Z"
   },
   {
    "duration": 11,
    "start_time": "2022-05-20T08:17:13.366Z"
   },
   {
    "duration": 34,
    "start_time": "2022-05-20T08:17:16.288Z"
   },
   {
    "duration": 7,
    "start_time": "2022-05-20T08:17:19.523Z"
   },
   {
    "duration": 24,
    "start_time": "2022-05-20T08:17:26.882Z"
   },
   {
    "duration": 5,
    "start_time": "2022-05-20T08:17:32.178Z"
   },
   {
    "duration": 6,
    "start_time": "2022-05-20T08:17:36.428Z"
   },
   {
    "duration": 9,
    "start_time": "2022-05-20T08:17:41.022Z"
   },
   {
    "duration": 6,
    "start_time": "2022-05-20T08:17:46.382Z"
   },
   {
    "duration": 5288,
    "start_time": "2022-05-20T08:17:50.132Z"
   },
   {
    "duration": 16,
    "start_time": "2022-05-20T08:17:55.422Z"
   },
   {
    "duration": 502,
    "start_time": "2022-05-20T08:18:01.819Z"
   },
   {
    "duration": 402,
    "start_time": "2022-05-20T08:18:11.902Z"
   },
   {
    "duration": 8,
    "start_time": "2022-05-20T08:18:18.875Z"
   },
   {
    "duration": 371,
    "start_time": "2022-05-20T08:18:23.399Z"
   },
   {
    "duration": 26,
    "start_time": "2022-05-20T08:18:27.576Z"
   },
   {
    "duration": 44,
    "start_time": "2022-05-20T08:18:31.383Z"
   },
   {
    "duration": 381,
    "start_time": "2022-05-20T08:18:34.539Z"
   },
   {
    "duration": 220,
    "start_time": "2022-05-20T08:18:37.934Z"
   },
   {
    "duration": 21,
    "start_time": "2022-05-20T08:18:43.945Z"
   },
   {
    "duration": 366,
    "start_time": "2022-05-20T08:26:03.285Z"
   },
   {
    "duration": 370,
    "start_time": "2022-05-20T08:26:24.153Z"
   },
   {
    "duration": 25,
    "start_time": "2022-05-20T08:26:24.525Z"
   },
   {
    "duration": 267,
    "start_time": "2022-05-20T08:41:13.928Z"
   },
   {
    "duration": 355,
    "start_time": "2022-05-20T08:41:52.022Z"
   },
   {
    "duration": 354,
    "start_time": "2022-05-20T08:44:03.557Z"
   },
   {
    "duration": 370,
    "start_time": "2022-05-20T08:44:17.532Z"
   },
   {
    "duration": 161,
    "start_time": "2022-05-20T08:45:48.527Z"
   },
   {
    "duration": 475,
    "start_time": "2022-05-20T08:46:10.357Z"
   },
   {
    "duration": 349,
    "start_time": "2022-05-20T08:47:53.826Z"
   },
   {
    "duration": 390,
    "start_time": "2022-05-20T08:51:00.942Z"
   },
   {
    "duration": 436,
    "start_time": "2022-05-20T08:51:10.159Z"
   },
   {
    "duration": 349,
    "start_time": "2022-05-20T08:51:32.706Z"
   },
   {
    "duration": 9,
    "start_time": "2022-05-20T08:52:37.590Z"
   },
   {
    "duration": 23,
    "start_time": "2022-05-20T08:52:37.692Z"
   },
   {
    "duration": 342,
    "start_time": "2022-05-20T08:53:31.116Z"
   },
   {
    "duration": 548,
    "start_time": "2022-05-20T08:57:54.153Z"
   },
   {
    "duration": 342,
    "start_time": "2022-05-20T08:58:17.949Z"
   },
   {
    "duration": 467,
    "start_time": "2022-05-20T08:59:34.545Z"
   },
   {
    "duration": 358,
    "start_time": "2022-05-20T08:59:46.139Z"
   },
   {
    "duration": 354,
    "start_time": "2022-05-20T09:07:55.884Z"
   },
   {
    "duration": 359,
    "start_time": "2022-05-20T09:08:08.494Z"
   },
   {
    "duration": 1702,
    "start_time": "2022-05-20T09:16:14.331Z"
   },
   {
    "duration": 488,
    "start_time": "2022-05-20T09:17:14.335Z"
   },
   {
    "duration": 18,
    "start_time": "2022-05-20T09:42:59.962Z"
   },
   {
    "duration": 18,
    "start_time": "2022-05-20T09:44:04.312Z"
   },
   {
    "duration": 14,
    "start_time": "2022-05-20T09:44:08.748Z"
   },
   {
    "duration": 30,
    "start_time": "2022-05-20T09:44:08.860Z"
   },
   {
    "duration": 17,
    "start_time": "2022-05-20T09:44:36.806Z"
   },
   {
    "duration": 27,
    "start_time": "2022-05-20T09:44:36.857Z"
   },
   {
    "duration": 274,
    "start_time": "2022-05-20T09:44:36.901Z"
   },
   {
    "duration": 14,
    "start_time": "2022-05-20T09:47:53.925Z"
   },
   {
    "duration": 29,
    "start_time": "2022-05-20T09:47:54.046Z"
   },
   {
    "duration": 212,
    "start_time": "2022-05-20T09:48:10.988Z"
   },
   {
    "duration": 25,
    "start_time": "2022-05-20T09:48:11.202Z"
   },
   {
    "duration": 282,
    "start_time": "2022-05-20T09:48:11.228Z"
   },
   {
    "duration": 14,
    "start_time": "2022-05-20T09:49:18.189Z"
   },
   {
    "duration": 12,
    "start_time": "2022-05-20T09:51:34.521Z"
   },
   {
    "duration": 196,
    "start_time": "2022-05-20T09:51:34.561Z"
   },
   {
    "duration": 35,
    "start_time": "2022-05-20T09:51:34.760Z"
   },
   {
    "duration": 28,
    "start_time": "2022-05-20T09:52:20.710Z"
   },
   {
    "duration": 196,
    "start_time": "2022-05-20T09:52:31.352Z"
   },
   {
    "duration": 25,
    "start_time": "2022-05-20T09:53:27.836Z"
   },
   {
    "duration": 651,
    "start_time": "2022-05-20T09:53:33.884Z"
   },
   {
    "duration": 195,
    "start_time": "2022-05-20T09:53:45.930Z"
   },
   {
    "duration": 24,
    "start_time": "2022-05-20T09:53:46.126Z"
   },
   {
    "duration": 543,
    "start_time": "2022-05-20T12:07:26.921Z"
   },
   {
    "duration": 401,
    "start_time": "2022-05-20T12:08:52.328Z"
   },
   {
    "duration": 12,
    "start_time": "2022-05-20T12:08:52.732Z"
   },
   {
    "duration": 532,
    "start_time": "2022-05-20T12:09:12.737Z"
   },
   {
    "duration": 393,
    "start_time": "2022-05-20T12:10:27.211Z"
   },
   {
    "duration": 540,
    "start_time": "2022-05-20T12:11:06.428Z"
   },
   {
    "duration": 557,
    "start_time": "2022-05-20T12:11:30.469Z"
   },
   {
    "duration": 14,
    "start_time": "2022-05-20T12:11:31.028Z"
   },
   {
    "duration": 1596,
    "start_time": "2022-05-21T09:58:43.722Z"
   },
   {
    "duration": 19,
    "start_time": "2022-05-21T09:58:45.321Z"
   },
   {
    "duration": 53,
    "start_time": "2022-05-21T09:58:45.342Z"
   },
   {
    "duration": 53,
    "start_time": "2022-05-21T09:58:45.397Z"
   },
   {
    "duration": 6,
    "start_time": "2022-05-21T09:58:45.454Z"
   },
   {
    "duration": 31,
    "start_time": "2022-05-21T09:58:45.462Z"
   },
   {
    "duration": 14,
    "start_time": "2022-05-21T09:58:45.495Z"
   },
   {
    "duration": 11,
    "start_time": "2022-05-21T09:58:45.511Z"
   },
   {
    "duration": 46,
    "start_time": "2022-05-21T09:58:45.524Z"
   },
   {
    "duration": 7,
    "start_time": "2022-05-21T09:58:45.573Z"
   },
   {
    "duration": 17,
    "start_time": "2022-05-21T09:58:45.581Z"
   },
   {
    "duration": 7,
    "start_time": "2022-05-21T09:58:45.601Z"
   },
   {
    "duration": 7,
    "start_time": "2022-05-21T09:58:45.610Z"
   },
   {
    "duration": 40,
    "start_time": "2022-05-21T09:58:45.619Z"
   },
   {
    "duration": 6,
    "start_time": "2022-05-21T09:58:45.660Z"
   },
   {
    "duration": 5337,
    "start_time": "2022-05-21T09:58:45.668Z"
   },
   {
    "duration": 22,
    "start_time": "2022-05-21T09:58:51.007Z"
   },
   {
    "duration": 549,
    "start_time": "2022-05-21T09:58:51.031Z"
   },
   {
    "duration": 378,
    "start_time": "2022-05-21T09:58:51.581Z"
   },
   {
    "duration": 7,
    "start_time": "2022-05-21T09:58:51.961Z"
   },
   {
    "duration": 431,
    "start_time": "2022-05-21T09:58:51.969Z"
   },
   {
    "duration": 13,
    "start_time": "2022-05-21T09:58:52.401Z"
   },
   {
    "duration": 232,
    "start_time": "2022-05-21T09:58:52.416Z"
   },
   {
    "duration": 29,
    "start_time": "2022-05-21T09:58:52.651Z"
   },
   {
    "duration": 298,
    "start_time": "2022-05-21T09:58:52.682Z"
   },
   {
    "duration": 5,
    "start_time": "2022-05-21T09:58:52.982Z"
   },
   {
    "duration": 0,
    "start_time": "2022-05-21T09:58:52.988Z"
   },
   {
    "duration": 0,
    "start_time": "2022-05-21T09:58:52.989Z"
   },
   {
    "duration": 236,
    "start_time": "2022-05-21T10:03:05.970Z"
   },
   {
    "duration": 5370,
    "start_time": "2022-05-21T10:03:21.789Z"
   },
   {
    "duration": 23,
    "start_time": "2022-05-21T10:08:39.921Z"
   },
   {
    "duration": 394,
    "start_time": "2022-05-21T10:09:41.980Z"
   },
   {
    "duration": 123,
    "start_time": "2022-05-21T10:10:35.581Z"
   },
   {
    "duration": 265,
    "start_time": "2022-05-21T10:10:42.028Z"
   },
   {
    "duration": 1193,
    "start_time": "2022-05-21T10:16:43.769Z"
   },
   {
    "duration": 14,
    "start_time": "2022-05-21T10:16:44.964Z"
   },
   {
    "duration": 31,
    "start_time": "2022-05-21T10:16:44.980Z"
   },
   {
    "duration": 49,
    "start_time": "2022-05-21T10:16:45.013Z"
   },
   {
    "duration": 5,
    "start_time": "2022-05-21T10:16:45.064Z"
   },
   {
    "duration": 28,
    "start_time": "2022-05-21T10:16:45.070Z"
   },
   {
    "duration": 17,
    "start_time": "2022-05-21T10:16:45.100Z"
   },
   {
    "duration": 40,
    "start_time": "2022-05-21T10:16:45.119Z"
   },
   {
    "duration": 33,
    "start_time": "2022-05-21T10:16:45.161Z"
   },
   {
    "duration": 10,
    "start_time": "2022-05-21T10:16:45.198Z"
   },
   {
    "duration": 19,
    "start_time": "2022-05-21T10:16:45.210Z"
   },
   {
    "duration": 21,
    "start_time": "2022-05-21T10:16:45.231Z"
   },
   {
    "duration": 6,
    "start_time": "2022-05-21T10:16:45.254Z"
   },
   {
    "duration": 10,
    "start_time": "2022-05-21T10:16:45.262Z"
   },
   {
    "duration": 7,
    "start_time": "2022-05-21T10:16:45.273Z"
   },
   {
    "duration": 4907,
    "start_time": "2022-05-21T10:16:45.282Z"
   },
   {
    "duration": 15,
    "start_time": "2022-05-21T10:16:50.191Z"
   },
   {
    "duration": 521,
    "start_time": "2022-05-21T10:16:50.208Z"
   },
   {
    "duration": 377,
    "start_time": "2022-05-21T10:16:50.730Z"
   },
   {
    "duration": 7,
    "start_time": "2022-05-21T10:16:51.109Z"
   },
   {
    "duration": 415,
    "start_time": "2022-05-21T10:16:51.117Z"
   },
   {
    "duration": 255,
    "start_time": "2022-05-21T10:16:51.534Z"
   },
   {
    "duration": 191,
    "start_time": "2022-05-21T10:16:51.791Z"
   },
   {
    "duration": 22,
    "start_time": "2022-05-21T10:16:51.984Z"
   },
   {
    "duration": 22,
    "start_time": "2022-05-21T10:16:52.008Z"
   },
   {
    "duration": 411,
    "start_time": "2022-05-21T10:16:52.031Z"
   },
   {
    "duration": 355,
    "start_time": "2022-05-21T10:16:52.444Z"
   },
   {
    "duration": 202,
    "start_time": "2022-05-21T10:16:52.802Z"
   },
   {
    "duration": 18,
    "start_time": "2022-05-21T10:16:53.005Z"
   },
   {
    "duration": 27,
    "start_time": "2022-05-21T10:18:16.412Z"
   },
   {
    "duration": 353,
    "start_time": "2022-05-21T10:18:27.112Z"
   },
   {
    "duration": 329,
    "start_time": "2022-05-21T10:18:42.872Z"
   },
   {
    "duration": 340,
    "start_time": "2022-05-21T10:19:39.384Z"
   },
   {
    "duration": 345,
    "start_time": "2022-05-21T10:20:20.919Z"
   },
   {
    "duration": 414,
    "start_time": "2022-05-21T10:20:31.564Z"
   },
   {
    "duration": 288,
    "start_time": "2022-05-21T10:20:37.864Z"
   },
   {
    "duration": 288,
    "start_time": "2022-05-21T10:21:33.272Z"
   },
   {
    "duration": 267,
    "start_time": "2022-05-21T10:21:46.767Z"
   },
   {
    "duration": 182,
    "start_time": "2022-05-21T10:26:21.813Z"
   },
   {
    "duration": 285,
    "start_time": "2022-05-21T10:27:19.317Z"
   },
   {
    "duration": 282,
    "start_time": "2022-05-21T10:29:29.571Z"
   },
   {
    "duration": 383,
    "start_time": "2022-05-21T10:32:14.418Z"
   },
   {
    "duration": 297,
    "start_time": "2022-05-21T10:32:56.669Z"
   },
   {
    "duration": 13,
    "start_time": "2022-05-21T10:35:45.313Z"
   },
   {
    "duration": 304,
    "start_time": "2022-05-21T10:38:46.063Z"
   },
   {
    "duration": 270,
    "start_time": "2022-05-21T10:41:48.807Z"
   },
   {
    "duration": 272,
    "start_time": "2022-05-21T10:45:52.205Z"
   },
   {
    "duration": 286,
    "start_time": "2022-05-21T10:47:23.596Z"
   },
   {
    "duration": 293,
    "start_time": "2022-05-21T10:48:48.907Z"
   },
   {
    "duration": 457,
    "start_time": "2022-05-21T12:41:02.641Z"
   },
   {
    "duration": 307,
    "start_time": "2022-05-21T12:41:45.832Z"
   },
   {
    "duration": 317,
    "start_time": "2022-05-21T12:42:26.816Z"
   },
   {
    "duration": 63,
    "start_time": "2022-05-21T12:42:47.712Z"
   },
   {
    "duration": 262,
    "start_time": "2022-05-21T12:43:02.893Z"
   },
   {
    "duration": 287,
    "start_time": "2022-05-21T12:43:12.743Z"
   },
   {
    "duration": 266,
    "start_time": "2022-05-21T12:43:52.699Z"
   },
   {
    "duration": 287,
    "start_time": "2022-05-21T12:44:11.207Z"
   },
   {
    "duration": 334,
    "start_time": "2022-05-21T12:46:15.186Z"
   },
   {
    "duration": 320,
    "start_time": "2022-05-21T12:46:32.253Z"
   },
   {
    "duration": 459,
    "start_time": "2022-05-21T12:49:00.832Z"
   },
   {
    "duration": 46,
    "start_time": "2022-05-21T12:49:39.349Z"
   },
   {
    "duration": 312,
    "start_time": "2022-05-21T12:50:26.581Z"
   },
   {
    "duration": 310,
    "start_time": "2022-05-21T12:50:41.317Z"
   },
   {
    "duration": 352,
    "start_time": "2022-05-21T12:50:48.326Z"
   },
   {
    "duration": 376,
    "start_time": "2022-05-21T12:51:07.710Z"
   },
   {
    "duration": 320,
    "start_time": "2022-05-21T12:52:48.651Z"
   },
   {
    "duration": 553,
    "start_time": "2022-05-21T12:57:03.345Z"
   },
   {
    "duration": 312,
    "start_time": "2022-05-21T13:03:14.298Z"
   },
   {
    "duration": 295,
    "start_time": "2022-05-21T13:10:41.085Z"
   },
   {
    "duration": 157,
    "start_time": "2022-05-21T13:16:26.305Z"
   },
   {
    "duration": 165,
    "start_time": "2022-05-21T13:17:06.523Z"
   },
   {
    "duration": 276,
    "start_time": "2022-05-21T13:17:27.262Z"
   },
   {
    "duration": 165,
    "start_time": "2022-05-21T13:19:25.432Z"
   },
   {
    "duration": 177,
    "start_time": "2022-05-21T13:19:45.280Z"
   },
   {
    "duration": 490,
    "start_time": "2022-05-21T13:20:07.952Z"
   },
   {
    "duration": 280,
    "start_time": "2022-05-21T13:24:49.776Z"
   },
   {
    "duration": 271,
    "start_time": "2022-05-21T13:28:18.723Z"
   },
   {
    "duration": 279,
    "start_time": "2022-05-21T13:28:26.765Z"
   },
   {
    "duration": 437,
    "start_time": "2022-05-21T13:29:17.891Z"
   },
   {
    "duration": 299,
    "start_time": "2022-05-21T13:29:28.979Z"
   },
   {
    "duration": 23,
    "start_time": "2022-05-21T13:34:36.507Z"
   },
   {
    "duration": 27,
    "start_time": "2022-05-21T13:34:55.679Z"
   },
   {
    "duration": 21,
    "start_time": "2022-05-21T13:36:18.183Z"
   },
   {
    "duration": 393,
    "start_time": "2022-05-21T13:36:23.197Z"
   },
   {
    "duration": 576,
    "start_time": "2022-05-21T13:36:27.752Z"
   },
   {
    "duration": 370,
    "start_time": "2022-05-21T13:36:35.726Z"
   },
   {
    "duration": 20,
    "start_time": "2022-05-21T13:36:39.958Z"
   },
   {
    "duration": 638,
    "start_time": "2022-05-21T13:37:49.005Z"
   },
   {
    "duration": 398,
    "start_time": "2022-05-21T13:38:32.062Z"
   },
   {
    "duration": 20,
    "start_time": "2022-05-21T13:38:56.581Z"
   },
   {
    "duration": 393,
    "start_time": "2022-05-21T13:38:59.388Z"
   },
   {
    "duration": 393,
    "start_time": "2022-05-21T13:39:33.304Z"
   },
   {
    "duration": 428,
    "start_time": "2022-05-21T13:39:46.109Z"
   },
   {
    "duration": 258,
    "start_time": "2022-05-21T13:41:29.219Z"
   },
   {
    "duration": 401,
    "start_time": "2022-05-21T13:56:33.509Z"
   },
   {
    "duration": 396,
    "start_time": "2022-05-21T13:56:45.843Z"
   },
   {
    "duration": 702,
    "start_time": "2022-05-21T13:57:15.044Z"
   },
   {
    "duration": 311,
    "start_time": "2022-05-21T13:57:33.150Z"
   },
   {
    "duration": 350,
    "start_time": "2022-05-21T13:57:44.523Z"
   },
   {
    "duration": 1504,
    "start_time": "2022-05-22T11:04:29.746Z"
   },
   {
    "duration": 14,
    "start_time": "2022-05-22T11:04:31.252Z"
   },
   {
    "duration": 57,
    "start_time": "2022-05-22T11:04:31.268Z"
   },
   {
    "duration": 39,
    "start_time": "2022-05-22T11:04:31.327Z"
   },
   {
    "duration": 24,
    "start_time": "2022-05-22T11:04:31.367Z"
   },
   {
    "duration": 67,
    "start_time": "2022-05-22T11:04:31.393Z"
   },
   {
    "duration": 47,
    "start_time": "2022-05-22T11:04:31.463Z"
   },
   {
    "duration": 61,
    "start_time": "2022-05-22T11:04:31.511Z"
   },
   {
    "duration": 102,
    "start_time": "2022-05-22T11:04:31.574Z"
   },
   {
    "duration": 36,
    "start_time": "2022-05-22T11:04:31.679Z"
   },
   {
    "duration": 54,
    "start_time": "2022-05-22T11:04:31.726Z"
   },
   {
    "duration": 37,
    "start_time": "2022-05-22T11:04:31.782Z"
   },
   {
    "duration": 34,
    "start_time": "2022-05-22T11:04:31.822Z"
   },
   {
    "duration": 45,
    "start_time": "2022-05-22T11:04:31.859Z"
   },
   {
    "duration": 29,
    "start_time": "2022-05-22T11:04:31.906Z"
   },
   {
    "duration": 4867,
    "start_time": "2022-05-22T11:04:31.937Z"
   },
   {
    "duration": 20,
    "start_time": "2022-05-22T11:04:36.806Z"
   },
   {
    "duration": 448,
    "start_time": "2022-05-22T11:04:36.828Z"
   },
   {
    "duration": 444,
    "start_time": "2022-05-22T11:04:37.279Z"
   },
   {
    "duration": 9,
    "start_time": "2022-05-22T11:04:37.725Z"
   },
   {
    "duration": 507,
    "start_time": "2022-05-22T11:04:37.735Z"
   },
   {
    "duration": 28,
    "start_time": "2022-05-22T11:04:38.244Z"
   },
   {
    "duration": 379,
    "start_time": "2022-05-22T11:04:38.274Z"
   },
   {
    "duration": 262,
    "start_time": "2022-05-22T11:04:38.654Z"
   },
   {
    "duration": 195,
    "start_time": "2022-05-22T11:04:38.917Z"
   },
   {
    "duration": 24,
    "start_time": "2022-05-22T11:04:39.114Z"
   },
   {
    "duration": 26,
    "start_time": "2022-05-22T11:05:49.681Z"
   },
   {
    "duration": 9,
    "start_time": "2022-05-22T11:28:20.710Z"
   },
   {
    "duration": 233,
    "start_time": "2022-05-22T11:29:33.204Z"
   },
   {
    "duration": 7,
    "start_time": "2022-05-22T12:18:08.378Z"
   },
   {
    "duration": 161,
    "start_time": "2022-05-22T12:19:26.865Z"
   },
   {
    "duration": 166,
    "start_time": "2022-05-22T12:26:46.906Z"
   },
   {
    "duration": 139,
    "start_time": "2022-05-22T12:27:40.569Z"
   },
   {
    "duration": 196,
    "start_time": "2022-05-22T12:28:27.231Z"
   },
   {
    "duration": 159,
    "start_time": "2022-05-22T12:29:09.525Z"
   },
   {
    "duration": 164,
    "start_time": "2022-05-22T12:29:31.869Z"
   },
   {
    "duration": 179,
    "start_time": "2022-05-22T12:30:18.382Z"
   },
   {
    "duration": 6,
    "start_time": "2022-05-22T12:42:58.368Z"
   },
   {
    "duration": 445,
    "start_time": "2022-05-22T13:05:27.174Z"
   },
   {
    "duration": 2905,
    "start_time": "2022-05-22T13:06:16.862Z"
   },
   {
    "duration": 1871,
    "start_time": "2022-05-22T13:08:26.669Z"
   },
   {
    "duration": 16,
    "start_time": "2022-05-22T13:11:37.558Z"
   },
   {
    "duration": 15,
    "start_time": "2022-05-22T13:11:59.827Z"
   },
   {
    "duration": 10,
    "start_time": "2022-05-22T13:12:10.270Z"
   },
   {
    "duration": 17,
    "start_time": "2022-05-22T13:12:22.063Z"
   },
   {
    "duration": 18,
    "start_time": "2022-05-22T13:12:37.963Z"
   },
   {
    "duration": 9,
    "start_time": "2022-05-22T13:12:51.257Z"
   },
   {
    "duration": 10,
    "start_time": "2022-05-22T13:12:54.861Z"
   },
   {
    "duration": 20,
    "start_time": "2022-05-22T13:13:08.303Z"
   },
   {
    "duration": 21,
    "start_time": "2022-05-22T13:13:17.957Z"
   },
   {
    "duration": 13,
    "start_time": "2022-05-22T13:13:45.226Z"
   },
   {
    "duration": 54,
    "start_time": "2022-05-22T13:14:38.960Z"
   },
   {
    "duration": 40,
    "start_time": "2022-05-22T13:14:57.230Z"
   },
   {
    "duration": 44,
    "start_time": "2022-05-22T13:15:30.702Z"
   },
   {
    "duration": 1611,
    "start_time": "2022-05-22T13:15:37.331Z"
   },
   {
    "duration": 318,
    "start_time": "2022-05-22T13:19:12.430Z"
   },
   {
    "duration": 1699,
    "start_time": "2022-05-22T13:19:19.893Z"
   },
   {
    "duration": 1693,
    "start_time": "2022-05-22T13:22:08.965Z"
   },
   {
    "duration": 1493,
    "start_time": "2022-05-22T13:24:24.052Z"
   },
   {
    "duration": 1357,
    "start_time": "2022-05-22T13:25:23.400Z"
   },
   {
    "duration": 1512,
    "start_time": "2022-05-22T13:27:13.964Z"
   },
   {
    "duration": 1389,
    "start_time": "2022-05-22T13:28:43.156Z"
   },
   {
    "duration": 1607,
    "start_time": "2022-05-22T13:30:07.693Z"
   },
   {
    "duration": 1381,
    "start_time": "2022-05-22T13:30:31.758Z"
   },
   {
    "duration": 1510,
    "start_time": "2022-05-22T13:31:59.197Z"
   },
   {
    "duration": 1311,
    "start_time": "2022-05-22T13:33:40.628Z"
   },
   {
    "duration": 1529,
    "start_time": "2022-05-23T12:50:03.876Z"
   },
   {
    "duration": 16,
    "start_time": "2022-05-23T12:50:05.407Z"
   },
   {
    "duration": 45,
    "start_time": "2022-05-23T12:50:05.425Z"
   },
   {
    "duration": 31,
    "start_time": "2022-05-23T12:50:05.472Z"
   },
   {
    "duration": 4,
    "start_time": "2022-05-23T12:50:05.505Z"
   },
   {
    "duration": 28,
    "start_time": "2022-05-23T12:50:05.523Z"
   },
   {
    "duration": 16,
    "start_time": "2022-05-23T12:50:05.553Z"
   },
   {
    "duration": 15,
    "start_time": "2022-05-23T12:50:05.571Z"
   },
   {
    "duration": 37,
    "start_time": "2022-05-23T12:50:05.588Z"
   },
   {
    "duration": 17,
    "start_time": "2022-05-23T12:50:05.629Z"
   },
   {
    "duration": 28,
    "start_time": "2022-05-23T12:50:05.648Z"
   },
   {
    "duration": 7,
    "start_time": "2022-05-23T12:50:05.677Z"
   },
   {
    "duration": 6,
    "start_time": "2022-05-23T12:50:05.686Z"
   },
   {
    "duration": 13,
    "start_time": "2022-05-23T12:50:05.695Z"
   },
   {
    "duration": 8,
    "start_time": "2022-05-23T12:50:05.724Z"
   },
   {
    "duration": 5073,
    "start_time": "2022-05-23T12:50:05.734Z"
   },
   {
    "duration": 25,
    "start_time": "2022-05-23T12:50:10.809Z"
   },
   {
    "duration": 471,
    "start_time": "2022-05-23T12:50:10.836Z"
   },
   {
    "duration": 366,
    "start_time": "2022-05-23T12:50:11.309Z"
   },
   {
    "duration": 8,
    "start_time": "2022-05-23T12:50:11.677Z"
   },
   {
    "duration": 576,
    "start_time": "2022-05-23T12:50:11.687Z"
   },
   {
    "duration": 21,
    "start_time": "2022-05-23T12:50:12.266Z"
   },
   {
    "duration": 452,
    "start_time": "2022-05-23T12:50:12.289Z"
   },
   {
    "duration": 297,
    "start_time": "2022-05-23T12:50:12.744Z"
   },
   {
    "duration": 10,
    "start_time": "2022-05-23T12:50:13.043Z"
   },
   {
    "duration": 259,
    "start_time": "2022-05-23T12:50:13.055Z"
   },
   {
    "duration": 12,
    "start_time": "2022-05-23T12:50:13.316Z"
   },
   {
    "duration": 184,
    "start_time": "2022-05-23T12:50:13.331Z"
   },
   {
    "duration": 1341,
    "start_time": "2022-05-23T12:50:13.517Z"
   },
   {
    "duration": 121,
    "start_time": "2022-05-23T12:50:14.860Z"
   },
   {
    "duration": 0,
    "start_time": "2022-05-23T12:50:14.983Z"
   },
   {
    "duration": 0,
    "start_time": "2022-05-23T12:50:14.985Z"
   },
   {
    "duration": 0,
    "start_time": "2022-05-23T12:50:14.986Z"
   },
   {
    "duration": 0,
    "start_time": "2022-05-23T12:50:14.987Z"
   },
   {
    "duration": 0,
    "start_time": "2022-05-23T12:50:14.988Z"
   },
   {
    "duration": 0,
    "start_time": "2022-05-23T12:50:14.989Z"
   },
   {
    "duration": 1474,
    "start_time": "2022-05-23T12:56:50.381Z"
   },
   {
    "duration": 1565,
    "start_time": "2022-05-23T12:56:51.858Z"
   },
   {
    "duration": 42,
    "start_time": "2022-05-23T13:11:13.467Z"
   },
   {
    "duration": 33,
    "start_time": "2022-05-23T13:11:28.637Z"
   },
   {
    "duration": 327,
    "start_time": "2022-05-23T13:12:14.808Z"
   },
   {
    "duration": 302,
    "start_time": "2022-05-23T13:12:52.029Z"
   },
   {
    "duration": 1533,
    "start_time": "2022-05-23T13:13:18.606Z"
   },
   {
    "duration": 60,
    "start_time": "2022-05-23T13:19:47.207Z"
   },
   {
    "duration": 47,
    "start_time": "2022-05-23T13:23:36.072Z"
   },
   {
    "duration": 9,
    "start_time": "2022-05-23T13:25:33.635Z"
   },
   {
    "duration": 1525,
    "start_time": "2022-05-23T13:25:49.385Z"
   },
   {
    "duration": 325,
    "start_time": "2022-05-23T13:27:33.693Z"
   },
   {
    "duration": 1848,
    "start_time": "2022-05-23T13:29:01.498Z"
   },
   {
    "duration": 49,
    "start_time": "2022-05-23T13:30:15.281Z"
   },
   {
    "duration": 1614,
    "start_time": "2022-05-23T13:30:55.266Z"
   },
   {
    "duration": 1867,
    "start_time": "2022-05-23T13:30:56.882Z"
   },
   {
    "duration": 305,
    "start_time": "2022-05-23T13:33:03.400Z"
   },
   {
    "duration": 0,
    "start_time": "2022-05-23T13:33:03.707Z"
   },
   {
    "duration": 295,
    "start_time": "2022-05-23T13:33:23.722Z"
   },
   {
    "duration": 1601,
    "start_time": "2022-05-23T13:41:40.934Z"
   },
   {
    "duration": 1732,
    "start_time": "2022-05-23T13:42:04.668Z"
   },
   {
    "duration": 1583,
    "start_time": "2022-05-23T13:43:14.326Z"
   },
   {
    "duration": 38,
    "start_time": "2022-05-23T13:43:36.514Z"
   },
   {
    "duration": 1414,
    "start_time": "2022-05-23T13:43:36.577Z"
   },
   {
    "duration": 1690,
    "start_time": "2022-05-23T13:53:06.467Z"
   },
   {
    "duration": 332,
    "start_time": "2022-05-23T13:53:38.074Z"
   },
   {
    "duration": 1346,
    "start_time": "2022-05-23T13:54:44.199Z"
   },
   {
    "duration": 75,
    "start_time": "2022-05-23T13:57:12.935Z"
   },
   {
    "duration": 80,
    "start_time": "2022-05-23T13:57:23.215Z"
   },
   {
    "duration": 59,
    "start_time": "2022-05-23T17:11:46.003Z"
   },
   {
    "duration": 8,
    "start_time": "2022-05-23T17:13:31.696Z"
   },
   {
    "duration": 1525,
    "start_time": "2022-05-23T17:14:00.326Z"
   },
   {
    "duration": 19,
    "start_time": "2022-05-23T17:14:01.854Z"
   },
   {
    "duration": 39,
    "start_time": "2022-05-23T17:14:01.875Z"
   },
   {
    "duration": 50,
    "start_time": "2022-05-23T17:14:01.916Z"
   },
   {
    "duration": 6,
    "start_time": "2022-05-23T17:14:01.968Z"
   },
   {
    "duration": 32,
    "start_time": "2022-05-23T17:14:01.975Z"
   },
   {
    "duration": 14,
    "start_time": "2022-05-23T17:14:02.009Z"
   },
   {
    "duration": 14,
    "start_time": "2022-05-23T17:14:02.025Z"
   },
   {
    "duration": 43,
    "start_time": "2022-05-23T17:14:02.041Z"
   },
   {
    "duration": 9,
    "start_time": "2022-05-23T17:14:02.087Z"
   },
   {
    "duration": 20,
    "start_time": "2022-05-23T17:14:02.098Z"
   },
   {
    "duration": 10,
    "start_time": "2022-05-23T17:14:02.119Z"
   },
   {
    "duration": 12,
    "start_time": "2022-05-23T17:14:02.131Z"
   },
   {
    "duration": 23,
    "start_time": "2022-05-23T17:14:02.145Z"
   },
   {
    "duration": 6,
    "start_time": "2022-05-23T17:14:02.170Z"
   },
   {
    "duration": 4932,
    "start_time": "2022-05-23T17:14:02.178Z"
   },
   {
    "duration": 18,
    "start_time": "2022-05-23T17:14:07.112Z"
   },
   {
    "duration": 483,
    "start_time": "2022-05-23T17:14:07.131Z"
   },
   {
    "duration": 328,
    "start_time": "2022-05-23T17:14:07.616Z"
   },
   {
    "duration": 7,
    "start_time": "2022-05-23T17:14:07.946Z"
   },
   {
    "duration": 533,
    "start_time": "2022-05-23T17:14:07.954Z"
   },
   {
    "duration": 20,
    "start_time": "2022-05-23T17:14:08.489Z"
   },
   {
    "duration": 406,
    "start_time": "2022-05-23T17:14:08.511Z"
   },
   {
    "duration": 335,
    "start_time": "2022-05-23T17:14:08.919Z"
   },
   {
    "duration": 13,
    "start_time": "2022-05-23T17:14:09.256Z"
   },
   {
    "duration": 170,
    "start_time": "2022-05-23T17:14:09.271Z"
   },
   {
    "duration": 8,
    "start_time": "2022-05-23T17:14:09.442Z"
   },
   {
    "duration": 249,
    "start_time": "2022-05-23T17:14:09.464Z"
   },
   {
    "duration": 1349,
    "start_time": "2022-05-23T17:14:09.715Z"
   },
   {
    "duration": 44,
    "start_time": "2022-05-23T17:14:11.066Z"
   },
   {
    "duration": 92,
    "start_time": "2022-05-23T17:14:11.112Z"
   },
   {
    "duration": 88,
    "start_time": "2022-05-23T17:14:11.206Z"
   },
   {
    "duration": 16,
    "start_time": "2022-05-23T17:14:11.296Z"
   },
   {
    "duration": 260,
    "start_time": "2022-05-23T17:14:11.313Z"
   },
   {
    "duration": 0,
    "start_time": "2022-05-23T17:14:11.574Z"
   },
   {
    "duration": 0,
    "start_time": "2022-05-23T17:14:11.576Z"
   },
   {
    "duration": 45,
    "start_time": "2022-05-23T17:14:43.843Z"
   },
   {
    "duration": 24,
    "start_time": "2022-05-23T17:25:33.809Z"
   },
   {
    "duration": 51,
    "start_time": "2022-05-23T17:25:42.845Z"
   },
   {
    "duration": 17,
    "start_time": "2022-05-23T17:32:34.415Z"
   },
   {
    "duration": 219,
    "start_time": "2022-05-23T17:38:25.425Z"
   },
   {
    "duration": 211,
    "start_time": "2022-05-23T17:38:41.644Z"
   },
   {
    "duration": 212,
    "start_time": "2022-05-23T17:39:58.368Z"
   },
   {
    "duration": 508,
    "start_time": "2022-05-23T17:52:59.675Z"
   },
   {
    "duration": 157,
    "start_time": "2022-05-23T17:55:02.145Z"
   },
   {
    "duration": 176,
    "start_time": "2022-05-23T17:55:15.753Z"
   },
   {
    "duration": 177,
    "start_time": "2022-05-23T17:55:45.713Z"
   },
   {
    "duration": 29,
    "start_time": "2022-05-23T17:57:35.256Z"
   },
   {
    "duration": 13,
    "start_time": "2022-05-23T18:17:21.890Z"
   },
   {
    "duration": 10,
    "start_time": "2022-05-23T18:19:40.887Z"
   },
   {
    "duration": 452,
    "start_time": "2022-05-23T18:21:19.696Z"
   },
   {
    "duration": 449,
    "start_time": "2022-05-23T18:21:53.660Z"
   },
   {
    "duration": 8,
    "start_time": "2022-05-23T20:40:18.179Z"
   },
   {
    "duration": 371,
    "start_time": "2022-05-23T20:40:22.626Z"
   },
   {
    "duration": 422,
    "start_time": "2022-05-23T20:41:56.482Z"
   },
   {
    "duration": 508,
    "start_time": "2022-05-23T20:42:17.953Z"
   },
   {
    "duration": 435,
    "start_time": "2022-05-23T20:42:59.353Z"
   },
   {
    "duration": 409,
    "start_time": "2022-05-23T20:43:27.762Z"
   },
   {
    "duration": 8,
    "start_time": "2022-05-23T20:45:16.393Z"
   },
   {
    "duration": 373,
    "start_time": "2022-05-23T20:45:19.193Z"
   },
   {
    "duration": 372,
    "start_time": "2022-05-23T20:45:26.537Z"
   },
   {
    "duration": 8,
    "start_time": "2022-05-23T20:46:25.104Z"
   },
   {
    "duration": 407,
    "start_time": "2022-05-23T20:46:27.264Z"
   },
   {
    "duration": 8,
    "start_time": "2022-05-23T20:57:42.011Z"
   },
   {
    "duration": 489,
    "start_time": "2022-05-23T20:57:46.211Z"
   },
   {
    "duration": 8,
    "start_time": "2022-05-23T20:57:56.714Z"
   },
   {
    "duration": 363,
    "start_time": "2022-05-23T20:58:00.162Z"
   },
   {
    "duration": 8,
    "start_time": "2022-05-23T20:58:16.402Z"
   },
   {
    "duration": 410,
    "start_time": "2022-05-23T20:58:20.306Z"
   },
   {
    "duration": 8,
    "start_time": "2022-05-23T20:58:45.418Z"
   },
   {
    "duration": 382,
    "start_time": "2022-05-23T20:58:48.490Z"
   },
   {
    "duration": 7,
    "start_time": "2022-05-23T20:59:10.027Z"
   },
   {
    "duration": 396,
    "start_time": "2022-05-23T20:59:12.681Z"
   },
   {
    "duration": 7,
    "start_time": "2022-05-23T21:01:41.466Z"
   },
   {
    "duration": 379,
    "start_time": "2022-05-23T21:01:46.336Z"
   },
   {
    "duration": 215,
    "start_time": "2022-05-23T21:02:26.792Z"
   },
   {
    "duration": 279,
    "start_time": "2022-05-23T21:02:38.849Z"
   },
   {
    "duration": 136,
    "start_time": "2022-05-23T21:04:48.800Z"
   },
   {
    "duration": 385,
    "start_time": "2022-05-23T21:04:51.519Z"
   },
   {
    "duration": 370,
    "start_time": "2022-05-23T21:04:56.319Z"
   },
   {
    "duration": 9,
    "start_time": "2022-05-23T21:06:10.870Z"
   },
   {
    "duration": 8,
    "start_time": "2022-05-23T21:06:15.439Z"
   },
   {
    "duration": 380,
    "start_time": "2022-05-23T21:06:18.286Z"
   },
   {
    "duration": 1166,
    "start_time": "2022-05-23T21:07:10.811Z"
   },
   {
    "duration": 14,
    "start_time": "2022-05-23T21:07:11.980Z"
   },
   {
    "duration": 28,
    "start_time": "2022-05-23T21:07:11.995Z"
   },
   {
    "duration": 48,
    "start_time": "2022-05-23T21:07:12.025Z"
   },
   {
    "duration": 5,
    "start_time": "2022-05-23T21:07:12.074Z"
   },
   {
    "duration": 24,
    "start_time": "2022-05-23T21:07:12.080Z"
   },
   {
    "duration": 12,
    "start_time": "2022-05-23T21:07:12.105Z"
   },
   {
    "duration": 10,
    "start_time": "2022-05-23T21:07:12.119Z"
   },
   {
    "duration": 43,
    "start_time": "2022-05-23T21:07:12.131Z"
   },
   {
    "duration": 5,
    "start_time": "2022-05-23T21:07:12.176Z"
   },
   {
    "duration": 17,
    "start_time": "2022-05-23T21:07:12.182Z"
   },
   {
    "duration": 7,
    "start_time": "2022-05-23T21:07:12.201Z"
   },
   {
    "duration": 7,
    "start_time": "2022-05-23T21:07:12.210Z"
   },
   {
    "duration": 10,
    "start_time": "2022-05-23T21:07:12.218Z"
   },
   {
    "duration": 7,
    "start_time": "2022-05-23T21:07:12.229Z"
   },
   {
    "duration": 4673,
    "start_time": "2022-05-23T21:07:12.265Z"
   },
   {
    "duration": 25,
    "start_time": "2022-05-23T21:07:16.939Z"
   },
   {
    "duration": 464,
    "start_time": "2022-05-23T21:07:16.966Z"
   },
   {
    "duration": 317,
    "start_time": "2022-05-23T21:07:17.432Z"
   },
   {
    "duration": 15,
    "start_time": "2022-05-23T21:07:17.751Z"
   },
   {
    "duration": 483,
    "start_time": "2022-05-23T21:07:17.768Z"
   },
   {
    "duration": 378,
    "start_time": "2022-05-23T21:07:18.252Z"
   },
   {
    "duration": 289,
    "start_time": "2022-05-23T21:07:18.632Z"
   },
   {
    "duration": 11,
    "start_time": "2022-05-23T21:07:18.923Z"
   },
   {
    "duration": 191,
    "start_time": "2022-05-23T21:07:18.936Z"
   },
   {
    "duration": 9,
    "start_time": "2022-05-23T21:07:19.128Z"
   },
   {
    "duration": 268,
    "start_time": "2022-05-23T21:07:19.138Z"
   },
   {
    "duration": 1290,
    "start_time": "2022-05-23T21:07:19.409Z"
   },
   {
    "duration": 41,
    "start_time": "2022-05-23T21:07:20.701Z"
   },
   {
    "duration": 33,
    "start_time": "2022-05-23T21:07:20.744Z"
   },
   {
    "duration": 114,
    "start_time": "2022-05-23T21:07:20.779Z"
   },
   {
    "duration": 0,
    "start_time": "2022-05-23T21:07:20.894Z"
   },
   {
    "duration": 0,
    "start_time": "2022-05-23T21:07:20.895Z"
   },
   {
    "duration": 0,
    "start_time": "2022-05-23T21:07:20.896Z"
   },
   {
    "duration": 0,
    "start_time": "2022-05-23T21:07:20.897Z"
   },
   {
    "duration": 0,
    "start_time": "2022-05-23T21:07:20.898Z"
   },
   {
    "duration": 0,
    "start_time": "2022-05-23T21:07:20.899Z"
   },
   {
    "duration": 0,
    "start_time": "2022-05-23T21:07:20.900Z"
   },
   {
    "duration": 0,
    "start_time": "2022-05-23T21:07:20.901Z"
   },
   {
    "duration": 203,
    "start_time": "2022-05-23T21:08:05.893Z"
   },
   {
    "duration": 1205,
    "start_time": "2022-05-23T21:08:17.333Z"
   },
   {
    "duration": 14,
    "start_time": "2022-05-23T21:08:18.540Z"
   },
   {
    "duration": 31,
    "start_time": "2022-05-23T21:08:18.556Z"
   },
   {
    "duration": 33,
    "start_time": "2022-05-23T21:08:18.590Z"
   },
   {
    "duration": 5,
    "start_time": "2022-05-23T21:08:18.624Z"
   },
   {
    "duration": 43,
    "start_time": "2022-05-23T21:08:18.630Z"
   },
   {
    "duration": 12,
    "start_time": "2022-05-23T21:08:18.675Z"
   },
   {
    "duration": 12,
    "start_time": "2022-05-23T21:08:18.689Z"
   },
   {
    "duration": 22,
    "start_time": "2022-05-23T21:08:18.702Z"
   },
   {
    "duration": 5,
    "start_time": "2022-05-23T21:08:18.726Z"
   },
   {
    "duration": 41,
    "start_time": "2022-05-23T21:08:18.732Z"
   },
   {
    "duration": 6,
    "start_time": "2022-05-23T21:08:18.774Z"
   },
   {
    "duration": 5,
    "start_time": "2022-05-23T21:08:18.781Z"
   },
   {
    "duration": 7,
    "start_time": "2022-05-23T21:08:18.788Z"
   },
   {
    "duration": 5,
    "start_time": "2022-05-23T21:08:18.797Z"
   },
   {
    "duration": 4860,
    "start_time": "2022-05-23T21:08:18.804Z"
   },
   {
    "duration": 17,
    "start_time": "2022-05-23T21:08:23.666Z"
   },
   {
    "duration": 448,
    "start_time": "2022-05-23T21:08:23.685Z"
   },
   {
    "duration": 323,
    "start_time": "2022-05-23T21:08:24.134Z"
   },
   {
    "duration": 9,
    "start_time": "2022-05-23T21:08:24.458Z"
   },
   {
    "duration": 506,
    "start_time": "2022-05-23T21:08:24.469Z"
   },
   {
    "duration": 385,
    "start_time": "2022-05-23T21:08:24.977Z"
   },
   {
    "duration": 258,
    "start_time": "2022-05-23T21:08:25.364Z"
   },
   {
    "duration": 8,
    "start_time": "2022-05-23T21:08:25.624Z"
   },
   {
    "duration": 171,
    "start_time": "2022-05-23T21:08:25.634Z"
   },
   {
    "duration": 9,
    "start_time": "2022-05-23T21:08:25.806Z"
   },
   {
    "duration": 283,
    "start_time": "2022-05-23T21:08:25.817Z"
   },
   {
    "duration": 1285,
    "start_time": "2022-05-23T21:08:26.103Z"
   },
   {
    "duration": 49,
    "start_time": "2022-05-23T21:08:27.389Z"
   },
   {
    "duration": 37,
    "start_time": "2022-05-23T21:08:27.439Z"
   },
   {
    "duration": 213,
    "start_time": "2022-05-23T21:08:27.478Z"
   },
   {
    "duration": 198,
    "start_time": "2022-05-23T21:08:27.692Z"
   },
   {
    "duration": 7,
    "start_time": "2022-05-23T21:08:27.892Z"
   },
   {
    "duration": 418,
    "start_time": "2022-05-23T21:08:27.901Z"
   },
   {
    "duration": 783,
    "start_time": "2022-05-23T21:08:28.320Z"
   },
   {
    "duration": 410,
    "start_time": "2022-05-23T21:08:29.105Z"
   },
   {
    "duration": 382,
    "start_time": "2022-05-23T21:08:29.517Z"
   },
   {
    "duration": 418,
    "start_time": "2022-05-23T21:08:29.901Z"
   },
   {
    "duration": 407,
    "start_time": "2022-05-23T21:08:30.320Z"
   },
   {
    "duration": 8,
    "start_time": "2022-05-23T21:13:21.252Z"
   },
   {
    "duration": 393,
    "start_time": "2022-05-23T21:13:24.106Z"
   },
   {
    "duration": 477,
    "start_time": "2022-05-23T21:13:29.194Z"
   },
   {
    "duration": 7,
    "start_time": "2022-05-23T21:15:43.082Z"
   },
   {
    "duration": 380,
    "start_time": "2022-05-23T21:15:45.866Z"
   },
   {
    "duration": 370,
    "start_time": "2022-05-23T21:15:49.673Z"
   },
   {
    "duration": 43,
    "start_time": "2022-05-23T21:16:45.221Z"
   },
   {
    "duration": 1663,
    "start_time": "2022-05-23T21:17:33.288Z"
   },
   {
    "duration": 210,
    "start_time": "2022-05-23T21:18:02.256Z"
   },
   {
    "duration": 469,
    "start_time": "2022-05-23T21:19:55.239Z"
   },
   {
    "duration": 334,
    "start_time": "2022-05-23T21:20:27.974Z"
   },
   {
    "duration": 418,
    "start_time": "2022-05-23T21:20:48.591Z"
   },
   {
    "duration": 1663,
    "start_time": "2022-05-24T07:03:47.063Z"
   },
   {
    "duration": 17,
    "start_time": "2022-05-24T07:03:48.728Z"
   },
   {
    "duration": 35,
    "start_time": "2022-05-24T07:03:48.746Z"
   },
   {
    "duration": 40,
    "start_time": "2022-05-24T07:03:48.784Z"
   },
   {
    "duration": 6,
    "start_time": "2022-05-24T07:03:48.842Z"
   },
   {
    "duration": 34,
    "start_time": "2022-05-24T07:03:48.851Z"
   },
   {
    "duration": 18,
    "start_time": "2022-05-24T07:03:48.887Z"
   },
   {
    "duration": 35,
    "start_time": "2022-05-24T07:03:48.907Z"
   },
   {
    "duration": 27,
    "start_time": "2022-05-24T07:03:48.944Z"
   },
   {
    "duration": 9,
    "start_time": "2022-05-24T07:03:48.974Z"
   },
   {
    "duration": 26,
    "start_time": "2022-05-24T07:03:48.985Z"
   },
   {
    "duration": 29,
    "start_time": "2022-05-24T07:03:49.013Z"
   },
   {
    "duration": 6,
    "start_time": "2022-05-24T07:03:49.045Z"
   },
   {
    "duration": 16,
    "start_time": "2022-05-24T07:03:49.053Z"
   },
   {
    "duration": 16,
    "start_time": "2022-05-24T07:03:49.072Z"
   },
   {
    "duration": 5226,
    "start_time": "2022-05-24T07:03:49.090Z"
   },
   {
    "duration": 16,
    "start_time": "2022-05-24T07:03:54.317Z"
   },
   {
    "duration": 492,
    "start_time": "2022-05-24T07:03:54.334Z"
   },
   {
    "duration": 366,
    "start_time": "2022-05-24T07:03:54.828Z"
   },
   {
    "duration": 8,
    "start_time": "2022-05-24T07:03:55.196Z"
   },
   {
    "duration": 540,
    "start_time": "2022-05-24T07:03:55.205Z"
   },
   {
    "duration": 433,
    "start_time": "2022-05-24T07:03:55.746Z"
   },
   {
    "duration": 297,
    "start_time": "2022-05-24T07:03:56.181Z"
   },
   {
    "duration": 8,
    "start_time": "2022-05-24T07:03:56.480Z"
   },
   {
    "duration": 276,
    "start_time": "2022-05-24T07:03:56.490Z"
   },
   {
    "duration": 10,
    "start_time": "2022-05-24T07:03:56.768Z"
   },
   {
    "duration": 256,
    "start_time": "2022-05-24T07:03:56.780Z"
   },
   {
    "duration": 1558,
    "start_time": "2022-05-24T07:03:57.043Z"
   },
   {
    "duration": 59,
    "start_time": "2022-05-24T07:03:58.603Z"
   },
   {
    "duration": 19,
    "start_time": "2022-05-24T07:03:58.664Z"
   },
   {
    "duration": 245,
    "start_time": "2022-05-24T07:03:58.684Z"
   },
   {
    "duration": 228,
    "start_time": "2022-05-24T07:03:58.931Z"
   },
   {
    "duration": 10,
    "start_time": "2022-05-24T07:03:59.161Z"
   },
   {
    "duration": 487,
    "start_time": "2022-05-24T07:03:59.173Z"
   },
   {
    "duration": 584,
    "start_time": "2022-05-24T07:03:59.662Z"
   },
   {
    "duration": 484,
    "start_time": "2022-05-24T07:04:00.249Z"
   },
   {
    "duration": 501,
    "start_time": "2022-05-24T07:04:00.735Z"
   },
   {
    "duration": 495,
    "start_time": "2022-05-24T07:04:01.238Z"
   },
   {
    "duration": 491,
    "start_time": "2022-05-24T07:04:01.735Z"
   },
   {
    "duration": 7,
    "start_time": "2022-05-24T07:16:53.628Z"
   },
   {
    "duration": 241,
    "start_time": "2022-05-24T07:17:20.800Z"
   },
   {
    "duration": 8,
    "start_time": "2022-05-24T07:17:34.175Z"
   },
   {
    "duration": 1807,
    "start_time": "2022-05-24T07:23:53.543Z"
   },
   {
    "duration": 1883,
    "start_time": "2022-05-24T07:27:39.491Z"
   },
   {
    "duration": 1649,
    "start_time": "2022-05-24T07:32:42.849Z"
   },
   {
    "duration": 1732,
    "start_time": "2022-05-24T07:51:57.322Z"
   },
   {
    "duration": 710,
    "start_time": "2022-05-24T07:57:56.657Z"
   },
   {
    "duration": 1611,
    "start_time": "2022-05-24T08:01:13.460Z"
   },
   {
    "duration": 1879,
    "start_time": "2022-05-24T08:11:14.437Z"
   },
   {
    "duration": 1792,
    "start_time": "2022-05-24T08:11:33.093Z"
   },
   {
    "duration": 9,
    "start_time": "2022-05-24T08:12:21.874Z"
   },
   {
    "duration": 202,
    "start_time": "2022-05-24T08:12:24.156Z"
   },
   {
    "duration": 8,
    "start_time": "2022-05-24T08:12:38.265Z"
   },
   {
    "duration": 227,
    "start_time": "2022-05-24T08:12:41.298Z"
   },
   {
    "duration": 53,
    "start_time": "2022-05-24T08:24:34.144Z"
   },
   {
    "duration": 53,
    "start_time": "2022-05-24T08:25:00.205Z"
   },
   {
    "duration": 88,
    "start_time": "2022-05-24T08:30:03.106Z"
   },
   {
    "duration": 33,
    "start_time": "2022-05-24T08:30:09.945Z"
   },
   {
    "duration": 0,
    "start_time": "2022-05-24T08:30:09.979Z"
   },
   {
    "duration": 21,
    "start_time": "2022-05-24T08:30:30.752Z"
   },
   {
    "duration": 21,
    "start_time": "2022-05-24T08:33:43.053Z"
   },
   {
    "duration": 18,
    "start_time": "2022-05-24T08:35:14.212Z"
   },
   {
    "duration": 5,
    "start_time": "2022-05-24T08:35:52.836Z"
   },
   {
    "duration": 18,
    "start_time": "2022-05-24T08:35:59.306Z"
   },
   {
    "duration": 270,
    "start_time": "2022-05-24T08:37:59.338Z"
   },
   {
    "duration": 244,
    "start_time": "2022-05-24T08:38:16.260Z"
   },
   {
    "duration": 26,
    "start_time": "2022-05-24T08:39:59.809Z"
   },
   {
    "duration": 18,
    "start_time": "2022-05-24T08:40:03.559Z"
   },
   {
    "duration": 15,
    "start_time": "2022-05-24T08:42:20.670Z"
   },
   {
    "duration": 38,
    "start_time": "2022-05-24T08:42:37.624Z"
   },
   {
    "duration": 12,
    "start_time": "2022-05-24T08:42:49.546Z"
   },
   {
    "duration": 250,
    "start_time": "2022-05-24T08:43:03.186Z"
   },
   {
    "duration": 348,
    "start_time": "2022-05-24T08:44:08.749Z"
   },
   {
    "duration": 18,
    "start_time": "2022-05-24T08:45:59.424Z"
   },
   {
    "duration": 232,
    "start_time": "2022-05-24T08:45:59.450Z"
   },
   {
    "duration": 248,
    "start_time": "2022-05-24T08:46:03.080Z"
   },
   {
    "duration": 14,
    "start_time": "2022-05-24T08:46:26.908Z"
   },
   {
    "duration": 12,
    "start_time": "2022-05-24T08:46:30.565Z"
   },
   {
    "duration": 235,
    "start_time": "2022-05-24T08:46:33.177Z"
   },
   {
    "duration": 21,
    "start_time": "2022-05-24T08:46:55.830Z"
   },
   {
    "duration": 22,
    "start_time": "2022-05-24T08:47:13.674Z"
   },
   {
    "duration": 854,
    "start_time": "2022-05-24T09:02:08.894Z"
   },
   {
    "duration": 8,
    "start_time": "2022-05-24T09:19:21.896Z"
   },
   {
    "duration": 417,
    "start_time": "2022-05-24T09:19:30.269Z"
   },
   {
    "duration": 42,
    "start_time": "2022-05-24T09:33:23.706Z"
   },
   {
    "duration": 339,
    "start_time": "2022-05-24T09:33:31.567Z"
   },
   {
    "duration": 7,
    "start_time": "2022-05-24T09:34:25.299Z"
   },
   {
    "duration": 374,
    "start_time": "2022-05-24T09:34:34.098Z"
   },
   {
    "duration": 1773,
    "start_time": "2022-05-24T09:35:49.928Z"
   },
   {
    "duration": 1747,
    "start_time": "2022-05-24T09:36:09.929Z"
   },
   {
    "duration": 368,
    "start_time": "2022-05-24T09:39:06.057Z"
   },
   {
    "duration": 354,
    "start_time": "2022-05-24T09:39:54.882Z"
   },
   {
    "duration": 0,
    "start_time": "2022-05-24T09:39:55.242Z"
   },
   {
    "duration": 1853,
    "start_time": "2022-05-24T09:41:58.388Z"
   },
   {
    "duration": 343,
    "start_time": "2022-05-24T09:42:50.450Z"
   },
   {
    "duration": 504,
    "start_time": "2022-05-24T09:43:21.357Z"
   },
   {
    "duration": 1657,
    "start_time": "2022-05-24T09:46:11.548Z"
   },
   {
    "duration": 1786,
    "start_time": "2022-05-24T09:46:50.376Z"
   },
   {
    "duration": 1914,
    "start_time": "2022-05-24T09:48:26.159Z"
   },
   {
    "duration": 1976,
    "start_time": "2022-05-24T09:49:58.771Z"
   },
   {
    "duration": 361,
    "start_time": "2022-05-24T09:53:52.587Z"
   },
   {
    "duration": 0,
    "start_time": "2022-05-24T09:53:52.949Z"
   },
   {
    "duration": 1876,
    "start_time": "2022-05-24T09:54:58.667Z"
   },
   {
    "duration": 1853,
    "start_time": "2022-05-24T09:56:14.511Z"
   },
   {
    "duration": 1428,
    "start_time": "2022-05-24T09:57:26.437Z"
   },
   {
    "duration": 16,
    "start_time": "2022-05-24T09:57:27.868Z"
   },
   {
    "duration": 30,
    "start_time": "2022-05-24T09:57:27.886Z"
   },
   {
    "duration": 45,
    "start_time": "2022-05-24T09:57:27.918Z"
   },
   {
    "duration": 4,
    "start_time": "2022-05-24T09:57:27.965Z"
   },
   {
    "duration": 26,
    "start_time": "2022-05-24T09:57:27.971Z"
   },
   {
    "duration": 14,
    "start_time": "2022-05-24T09:57:27.998Z"
   },
   {
    "duration": 36,
    "start_time": "2022-05-24T09:57:28.014Z"
   },
   {
    "duration": 21,
    "start_time": "2022-05-24T09:57:28.052Z"
   },
   {
    "duration": 5,
    "start_time": "2022-05-24T09:57:28.075Z"
   },
   {
    "duration": 28,
    "start_time": "2022-05-24T09:57:28.082Z"
   },
   {
    "duration": 32,
    "start_time": "2022-05-24T09:57:28.112Z"
   },
   {
    "duration": 11,
    "start_time": "2022-05-24T09:57:28.145Z"
   },
   {
    "duration": 15,
    "start_time": "2022-05-24T09:57:28.157Z"
   },
   {
    "duration": 6,
    "start_time": "2022-05-24T09:57:28.174Z"
   },
   {
    "duration": 4872,
    "start_time": "2022-05-24T09:57:28.183Z"
   },
   {
    "duration": 19,
    "start_time": "2022-05-24T09:57:33.056Z"
   },
   {
    "duration": 544,
    "start_time": "2022-05-24T09:57:33.077Z"
   },
   {
    "duration": 364,
    "start_time": "2022-05-24T09:57:33.623Z"
   },
   {
    "duration": 7,
    "start_time": "2022-05-24T09:57:33.988Z"
   },
   {
    "duration": 535,
    "start_time": "2022-05-24T09:57:33.997Z"
   },
   {
    "duration": 468,
    "start_time": "2022-05-24T09:57:34.534Z"
   },
   {
    "duration": 346,
    "start_time": "2022-05-24T09:57:35.004Z"
   },
   {
    "duration": 9,
    "start_time": "2022-05-24T09:57:35.352Z"
   },
   {
    "duration": 179,
    "start_time": "2022-05-24T09:57:35.363Z"
   },
   {
    "duration": 8,
    "start_time": "2022-05-24T09:57:35.544Z"
   },
   {
    "duration": 282,
    "start_time": "2022-05-24T09:57:35.553Z"
   },
   {
    "duration": 1601,
    "start_time": "2022-05-24T09:57:35.840Z"
   },
   {
    "duration": 46,
    "start_time": "2022-05-24T09:57:37.443Z"
   },
   {
    "duration": 18,
    "start_time": "2022-05-24T09:57:37.491Z"
   },
   {
    "duration": 272,
    "start_time": "2022-05-24T09:57:37.510Z"
   },
   {
    "duration": 212,
    "start_time": "2022-05-24T09:57:37.784Z"
   },
   {
    "duration": 11,
    "start_time": "2022-05-24T09:57:37.998Z"
   },
   {
    "duration": 55,
    "start_time": "2022-05-24T09:57:38.011Z"
   },
   {
    "duration": 433,
    "start_time": "2022-05-24T09:57:38.068Z"
   },
   {
    "duration": 554,
    "start_time": "2022-05-24T09:57:38.503Z"
   },
   {
    "duration": 491,
    "start_time": "2022-05-24T09:57:39.059Z"
   },
   {
    "duration": 727,
    "start_time": "2022-05-24T09:57:39.552Z"
   },
   {
    "duration": 448,
    "start_time": "2022-05-24T09:57:40.280Z"
   },
   {
    "duration": 416,
    "start_time": "2022-05-24T09:57:40.729Z"
   },
   {
    "duration": 141,
    "start_time": "2022-05-24T10:02:11.028Z"
   },
   {
    "duration": 36,
    "start_time": "2022-05-24T10:03:23.282Z"
   },
   {
    "duration": 30,
    "start_time": "2022-05-24T10:03:33.592Z"
   },
   {
    "duration": 38,
    "start_time": "2022-05-24T10:03:41.374Z"
   },
   {
    "duration": 20,
    "start_time": "2022-05-24T10:05:05.017Z"
   },
   {
    "duration": 12,
    "start_time": "2022-05-24T10:06:03.916Z"
   },
   {
    "duration": 34,
    "start_time": "2022-05-24T10:07:41.440Z"
   },
   {
    "duration": 4,
    "start_time": "2022-05-24T10:07:46.441Z"
   },
   {
    "duration": 4,
    "start_time": "2022-05-24T10:08:02.956Z"
   },
   {
    "duration": 5,
    "start_time": "2022-05-24T10:09:30.668Z"
   },
   {
    "duration": 22,
    "start_time": "2022-05-24T10:09:39.084Z"
   },
   {
    "duration": 12,
    "start_time": "2022-05-24T10:10:00.970Z"
   },
   {
    "duration": 13,
    "start_time": "2022-05-24T10:10:13.019Z"
   },
   {
    "duration": 38,
    "start_time": "2022-05-24T10:10:43.663Z"
   },
   {
    "duration": 52,
    "start_time": "2022-05-24T10:10:50.380Z"
   },
   {
    "duration": 14,
    "start_time": "2022-05-24T10:10:54.183Z"
   },
   {
    "duration": 13,
    "start_time": "2022-05-24T10:11:08.764Z"
   },
   {
    "duration": 15,
    "start_time": "2022-05-24T10:11:16.804Z"
   },
   {
    "duration": 14,
    "start_time": "2022-05-24T10:11:24.367Z"
   },
   {
    "duration": 31,
    "start_time": "2022-05-24T10:11:42.754Z"
   },
   {
    "duration": 48,
    "start_time": "2022-05-24T10:19:40.170Z"
   },
   {
    "duration": 54,
    "start_time": "2022-05-24T10:20:17.930Z"
   },
   {
    "duration": 9,
    "start_time": "2022-05-24T10:29:16.027Z"
   },
   {
    "duration": 430,
    "start_time": "2022-05-24T10:29:30.120Z"
   },
   {
    "duration": 11,
    "start_time": "2022-05-24T10:30:03.699Z"
   },
   {
    "duration": 139,
    "start_time": "2022-05-24T10:30:11.231Z"
   },
   {
    "duration": 421,
    "start_time": "2022-05-24T10:30:18.090Z"
   },
   {
    "duration": 12,
    "start_time": "2022-05-24T10:32:39.187Z"
   },
   {
    "duration": 495,
    "start_time": "2022-05-24T10:32:52.108Z"
   },
   {
    "duration": 452,
    "start_time": "2022-05-24T10:33:05.124Z"
   },
   {
    "duration": 9,
    "start_time": "2022-05-24T10:34:22.066Z"
   },
   {
    "duration": 513,
    "start_time": "2022-05-24T10:34:26.768Z"
   },
   {
    "duration": 12,
    "start_time": "2022-05-24T10:34:47.002Z"
   },
   {
    "duration": 9,
    "start_time": "2022-05-24T10:36:33.144Z"
   },
   {
    "duration": 464,
    "start_time": "2022-05-24T10:36:37.518Z"
   },
   {
    "duration": 554,
    "start_time": "2022-05-24T10:36:44.394Z"
   },
   {
    "duration": 9,
    "start_time": "2022-05-24T10:38:53.615Z"
   },
   {
    "duration": 431,
    "start_time": "2022-05-24T10:38:57.911Z"
   },
   {
    "duration": 479,
    "start_time": "2022-05-24T10:38:58.344Z"
   },
   {
    "duration": 465,
    "start_time": "2022-05-24T10:39:01.864Z"
   },
   {
    "duration": 8,
    "start_time": "2022-05-24T10:42:41.990Z"
   },
   {
    "duration": 419,
    "start_time": "2022-05-24T10:43:58.104Z"
   },
   {
    "duration": 438,
    "start_time": "2022-05-24T10:50:19.346Z"
   },
   {
    "duration": 577,
    "start_time": "2022-05-24T10:50:39.517Z"
   },
   {
    "duration": 419,
    "start_time": "2022-05-24T10:51:06.003Z"
   },
   {
    "duration": 433,
    "start_time": "2022-05-24T10:51:30.613Z"
   },
   {
    "duration": 435,
    "start_time": "2022-05-24T10:51:48.784Z"
   },
   {
    "duration": 466,
    "start_time": "2022-05-24T10:54:29.562Z"
   },
   {
    "duration": 454,
    "start_time": "2022-05-24T10:54:30.031Z"
   },
   {
    "duration": 2377,
    "start_time": "2022-05-24T12:06:45.754Z"
   },
   {
    "duration": 26,
    "start_time": "2022-05-24T12:06:48.134Z"
   },
   {
    "duration": 32,
    "start_time": "2022-05-24T12:06:48.165Z"
   },
   {
    "duration": 60,
    "start_time": "2022-05-24T12:06:48.199Z"
   },
   {
    "duration": 6,
    "start_time": "2022-05-24T12:06:48.260Z"
   },
   {
    "duration": 27,
    "start_time": "2022-05-24T12:06:48.268Z"
   },
   {
    "duration": 15,
    "start_time": "2022-05-24T12:06:48.297Z"
   },
   {
    "duration": 47,
    "start_time": "2022-05-24T12:06:48.314Z"
   },
   {
    "duration": 25,
    "start_time": "2022-05-24T12:06:48.363Z"
   },
   {
    "duration": 4,
    "start_time": "2022-05-24T12:06:48.390Z"
   },
   {
    "duration": 19,
    "start_time": "2022-05-24T12:06:48.395Z"
   },
   {
    "duration": 6,
    "start_time": "2022-05-24T12:06:48.416Z"
   },
   {
    "duration": 18,
    "start_time": "2022-05-24T12:06:48.449Z"
   },
   {
    "duration": 10,
    "start_time": "2022-05-24T12:06:48.469Z"
   },
   {
    "duration": 6,
    "start_time": "2022-05-24T12:06:48.481Z"
   },
   {
    "duration": 5685,
    "start_time": "2022-05-24T12:06:48.489Z"
   },
   {
    "duration": 20,
    "start_time": "2022-05-24T12:06:54.176Z"
   },
   {
    "duration": 536,
    "start_time": "2022-05-24T12:06:54.198Z"
   },
   {
    "duration": 396,
    "start_time": "2022-05-24T12:06:54.741Z"
   },
   {
    "duration": 12,
    "start_time": "2022-05-24T12:06:55.139Z"
   },
   {
    "duration": 619,
    "start_time": "2022-05-24T12:06:55.153Z"
   },
   {
    "duration": 486,
    "start_time": "2022-05-24T12:06:55.774Z"
   },
   {
    "duration": 318,
    "start_time": "2022-05-24T12:06:56.262Z"
   },
   {
    "duration": 9,
    "start_time": "2022-05-24T12:06:56.582Z"
   },
   {
    "duration": 200,
    "start_time": "2022-05-24T12:06:56.593Z"
   },
   {
    "duration": 9,
    "start_time": "2022-05-24T12:06:56.795Z"
   },
   {
    "duration": 388,
    "start_time": "2022-05-24T12:06:56.806Z"
   },
   {
    "duration": 1606,
    "start_time": "2022-05-24T12:06:57.197Z"
   },
   {
    "duration": 65,
    "start_time": "2022-05-24T12:06:58.804Z"
   },
   {
    "duration": 20,
    "start_time": "2022-05-24T12:06:58.871Z"
   },
   {
    "duration": 266,
    "start_time": "2022-05-24T12:06:58.893Z"
   },
   {
    "duration": 10,
    "start_time": "2022-05-24T12:06:59.161Z"
   },
   {
    "duration": 472,
    "start_time": "2022-05-24T12:06:59.173Z"
   },
   {
    "duration": 515,
    "start_time": "2022-05-24T12:06:59.647Z"
   },
   {
    "duration": 642,
    "start_time": "2022-05-24T12:07:00.164Z"
   },
   {
    "duration": 502,
    "start_time": "2022-05-24T12:07:00.808Z"
   },
   {
    "duration": 507,
    "start_time": "2022-05-24T12:07:01.312Z"
   },
   {
    "duration": 494,
    "start_time": "2022-05-24T12:07:01.821Z"
   },
   {
    "duration": 110,
    "start_time": "2022-05-24T12:28:36.285Z"
   },
   {
    "duration": 20,
    "start_time": "2022-05-24T12:28:47.895Z"
   },
   {
    "duration": 20,
    "start_time": "2022-05-24T12:30:25.445Z"
   },
   {
    "duration": 20,
    "start_time": "2022-05-24T12:30:39.056Z"
   },
   {
    "duration": 18,
    "start_time": "2022-05-24T12:34:05.617Z"
   },
   {
    "duration": 11,
    "start_time": "2022-05-24T12:50:16.341Z"
   },
   {
    "duration": 1402,
    "start_time": "2022-05-24T12:51:30.712Z"
   },
   {
    "duration": 18,
    "start_time": "2022-05-24T12:51:32.117Z"
   },
   {
    "duration": 48,
    "start_time": "2022-05-24T12:51:32.137Z"
   },
   {
    "duration": 34,
    "start_time": "2022-05-24T12:51:32.188Z"
   },
   {
    "duration": 4,
    "start_time": "2022-05-24T12:51:32.225Z"
   },
   {
    "duration": 32,
    "start_time": "2022-05-24T12:51:32.231Z"
   },
   {
    "duration": 19,
    "start_time": "2022-05-24T12:51:32.267Z"
   },
   {
    "duration": 22,
    "start_time": "2022-05-24T12:51:32.288Z"
   },
   {
    "duration": 42,
    "start_time": "2022-05-24T12:51:32.312Z"
   },
   {
    "duration": 8,
    "start_time": "2022-05-24T12:51:32.355Z"
   },
   {
    "duration": 31,
    "start_time": "2022-05-24T12:51:32.365Z"
   },
   {
    "duration": 6,
    "start_time": "2022-05-24T12:51:32.398Z"
   },
   {
    "duration": 9,
    "start_time": "2022-05-24T12:51:32.407Z"
   },
   {
    "duration": 27,
    "start_time": "2022-05-24T12:51:32.420Z"
   },
   {
    "duration": 10,
    "start_time": "2022-05-24T12:51:32.449Z"
   },
   {
    "duration": 4960,
    "start_time": "2022-05-24T12:51:32.461Z"
   },
   {
    "duration": 23,
    "start_time": "2022-05-24T12:51:37.423Z"
   },
   {
    "duration": 454,
    "start_time": "2022-05-24T12:51:37.447Z"
   },
   {
    "duration": 315,
    "start_time": "2022-05-24T12:51:37.903Z"
   },
   {
    "duration": 21,
    "start_time": "2022-05-24T12:51:38.220Z"
   },
   {
    "duration": 518,
    "start_time": "2022-05-24T12:51:38.243Z"
   },
   {
    "duration": 395,
    "start_time": "2022-05-24T12:51:38.763Z"
   },
   {
    "duration": 302,
    "start_time": "2022-05-24T12:51:39.160Z"
   },
   {
    "duration": 8,
    "start_time": "2022-05-24T12:51:39.464Z"
   },
   {
    "duration": 311,
    "start_time": "2022-05-24T12:51:39.474Z"
   },
   {
    "duration": 66,
    "start_time": "2022-05-24T12:51:39.786Z"
   },
   {
    "duration": 450,
    "start_time": "2022-05-24T12:51:39.854Z"
   },
   {
    "duration": 1330,
    "start_time": "2022-05-24T12:51:40.305Z"
   },
   {
    "duration": 48,
    "start_time": "2022-05-24T12:51:41.641Z"
   },
   {
    "duration": 20,
    "start_time": "2022-05-24T12:51:41.691Z"
   },
   {
    "duration": 269,
    "start_time": "2022-05-24T12:51:41.713Z"
   },
   {
    "duration": 8,
    "start_time": "2022-05-24T12:51:41.984Z"
   },
   {
    "duration": 433,
    "start_time": "2022-05-24T12:51:41.994Z"
   },
   {
    "duration": 434,
    "start_time": "2022-05-24T12:51:42.428Z"
   },
   {
    "duration": 538,
    "start_time": "2022-05-24T12:51:42.864Z"
   },
   {
    "duration": 416,
    "start_time": "2022-05-24T12:51:43.404Z"
   },
   {
    "duration": 442,
    "start_time": "2022-05-24T12:51:43.822Z"
   },
   {
    "duration": 409,
    "start_time": "2022-05-24T12:51:44.266Z"
   },
   {
    "duration": 17,
    "start_time": "2022-05-24T12:51:44.677Z"
   },
   {
    "duration": 20,
    "start_time": "2022-05-24T12:51:44.696Z"
   },
   {
    "duration": 19,
    "start_time": "2022-05-24T12:52:27.451Z"
   },
   {
    "duration": 18,
    "start_time": "2022-05-24T12:52:31.029Z"
   },
   {
    "duration": 19,
    "start_time": "2022-05-24T12:53:34.749Z"
   },
   {
    "duration": 8,
    "start_time": "2022-05-24T12:58:18.926Z"
   },
   {
    "duration": 8,
    "start_time": "2022-05-24T12:58:34.473Z"
   },
   {
    "duration": 6,
    "start_time": "2022-05-24T12:59:10.005Z"
   },
   {
    "duration": 9,
    "start_time": "2022-05-24T13:00:39.328Z"
   },
   {
    "duration": 62,
    "start_time": "2022-05-24T13:02:12.321Z"
   },
   {
    "duration": 6,
    "start_time": "2022-05-24T13:02:48.806Z"
   },
   {
    "duration": 8,
    "start_time": "2022-05-24T13:02:54.978Z"
   },
   {
    "duration": 12,
    "start_time": "2022-05-24T13:04:50.516Z"
   },
   {
    "duration": 6,
    "start_time": "2022-05-24T13:05:39.168Z"
   },
   {
    "duration": 39,
    "start_time": "2022-05-24T13:07:03.838Z"
   },
   {
    "duration": 8,
    "start_time": "2022-05-24T13:07:03.897Z"
   },
   {
    "duration": 1318,
    "start_time": "2022-05-24T13:15:41.322Z"
   },
   {
    "duration": 15,
    "start_time": "2022-05-24T13:15:42.642Z"
   },
   {
    "duration": 32,
    "start_time": "2022-05-24T13:15:42.658Z"
   },
   {
    "duration": 55,
    "start_time": "2022-05-24T13:15:42.692Z"
   },
   {
    "duration": 6,
    "start_time": "2022-05-24T13:15:42.749Z"
   },
   {
    "duration": 23,
    "start_time": "2022-05-24T13:15:42.756Z"
   },
   {
    "duration": 14,
    "start_time": "2022-05-24T13:15:42.781Z"
   },
   {
    "duration": 14,
    "start_time": "2022-05-24T13:15:42.796Z"
   },
   {
    "duration": 48,
    "start_time": "2022-05-24T13:15:42.812Z"
   },
   {
    "duration": 6,
    "start_time": "2022-05-24T13:15:42.863Z"
   },
   {
    "duration": 18,
    "start_time": "2022-05-24T13:15:42.870Z"
   },
   {
    "duration": 10,
    "start_time": "2022-05-24T13:15:42.889Z"
   },
   {
    "duration": 9,
    "start_time": "2022-05-24T13:15:42.901Z"
   },
   {
    "duration": 34,
    "start_time": "2022-05-24T13:15:42.911Z"
   },
   {
    "duration": 5,
    "start_time": "2022-05-24T13:15:42.947Z"
   },
   {
    "duration": 4860,
    "start_time": "2022-05-24T13:15:42.954Z"
   },
   {
    "duration": 27,
    "start_time": "2022-05-24T13:15:47.816Z"
   },
   {
    "duration": 456,
    "start_time": "2022-05-24T13:15:47.845Z"
   },
   {
    "duration": 320,
    "start_time": "2022-05-24T13:15:48.303Z"
   },
   {
    "duration": 7,
    "start_time": "2022-05-24T13:15:48.625Z"
   },
   {
    "duration": 522,
    "start_time": "2022-05-24T13:15:48.642Z"
   },
   {
    "duration": 394,
    "start_time": "2022-05-24T13:15:49.166Z"
   },
   {
    "duration": 282,
    "start_time": "2022-05-24T13:15:49.561Z"
   },
   {
    "duration": 10,
    "start_time": "2022-05-24T13:15:49.844Z"
   },
   {
    "duration": 216,
    "start_time": "2022-05-24T13:15:49.856Z"
   },
   {
    "duration": 9,
    "start_time": "2022-05-24T13:15:50.074Z"
   },
   {
    "duration": 290,
    "start_time": "2022-05-24T13:15:50.085Z"
   },
   {
    "duration": 1405,
    "start_time": "2022-05-24T13:15:50.380Z"
   },
   {
    "duration": 55,
    "start_time": "2022-05-24T13:15:51.787Z"
   },
   {
    "duration": 17,
    "start_time": "2022-05-24T13:15:51.844Z"
   },
   {
    "duration": 241,
    "start_time": "2022-05-24T13:15:51.862Z"
   },
   {
    "duration": 8,
    "start_time": "2022-05-24T13:15:52.106Z"
   },
   {
    "duration": 456,
    "start_time": "2022-05-24T13:15:52.116Z"
   },
   {
    "duration": 428,
    "start_time": "2022-05-24T13:15:52.575Z"
   },
   {
    "duration": 585,
    "start_time": "2022-05-24T13:15:53.005Z"
   },
   {
    "duration": 431,
    "start_time": "2022-05-24T13:15:53.591Z"
   },
   {
    "duration": 445,
    "start_time": "2022-05-24T13:15:54.023Z"
   },
   {
    "duration": 474,
    "start_time": "2022-05-24T13:15:54.469Z"
   },
   {
    "duration": 19,
    "start_time": "2022-05-24T13:15:54.944Z"
   },
   {
    "duration": 8,
    "start_time": "2022-05-24T13:15:54.965Z"
   },
   {
    "duration": 9,
    "start_time": "2022-05-24T13:15:54.975Z"
   },
   {
    "duration": 11,
    "start_time": "2022-05-24T13:15:54.986Z"
   },
   {
    "duration": 8,
    "start_time": "2022-05-24T13:15:54.999Z"
   },
   {
    "duration": 1372,
    "start_time": "2022-05-24T13:19:12.931Z"
   },
   {
    "duration": 19,
    "start_time": "2022-05-24T13:19:14.305Z"
   },
   {
    "duration": 51,
    "start_time": "2022-05-24T13:19:14.327Z"
   },
   {
    "duration": 43,
    "start_time": "2022-05-24T13:19:14.381Z"
   },
   {
    "duration": 5,
    "start_time": "2022-05-24T13:19:14.441Z"
   },
   {
    "duration": 32,
    "start_time": "2022-05-24T13:19:14.448Z"
   },
   {
    "duration": 28,
    "start_time": "2022-05-24T13:19:14.482Z"
   },
   {
    "duration": 25,
    "start_time": "2022-05-24T13:19:14.512Z"
   },
   {
    "duration": 25,
    "start_time": "2022-05-24T13:19:14.539Z"
   },
   {
    "duration": 5,
    "start_time": "2022-05-24T13:19:14.565Z"
   },
   {
    "duration": 20,
    "start_time": "2022-05-24T13:19:14.572Z"
   },
   {
    "duration": 7,
    "start_time": "2022-05-24T13:19:14.593Z"
   },
   {
    "duration": 8,
    "start_time": "2022-05-24T13:19:14.602Z"
   },
   {
    "duration": 9,
    "start_time": "2022-05-24T13:19:14.641Z"
   },
   {
    "duration": 10,
    "start_time": "2022-05-24T13:19:14.653Z"
   },
   {
    "duration": 5807,
    "start_time": "2022-05-24T13:19:14.666Z"
   },
   {
    "duration": 15,
    "start_time": "2022-05-24T13:19:20.475Z"
   },
   {
    "duration": 481,
    "start_time": "2022-05-24T13:19:20.492Z"
   },
   {
    "duration": 359,
    "start_time": "2022-05-24T13:19:20.975Z"
   },
   {
    "duration": 9,
    "start_time": "2022-05-24T13:19:21.336Z"
   },
   {
    "duration": 646,
    "start_time": "2022-05-24T13:19:21.347Z"
   },
   {
    "duration": 509,
    "start_time": "2022-05-24T13:19:21.995Z"
   },
   {
    "duration": 334,
    "start_time": "2022-05-24T13:19:22.507Z"
   },
   {
    "duration": 8,
    "start_time": "2022-05-24T13:19:22.843Z"
   },
   {
    "duration": 184,
    "start_time": "2022-05-24T13:19:22.853Z"
   },
   {
    "duration": 9,
    "start_time": "2022-05-24T13:19:23.041Z"
   },
   {
    "duration": 348,
    "start_time": "2022-05-24T13:19:23.053Z"
   },
   {
    "duration": 1470,
    "start_time": "2022-05-24T13:19:23.403Z"
   },
   {
    "duration": 49,
    "start_time": "2022-05-24T13:19:24.874Z"
   },
   {
    "duration": 34,
    "start_time": "2022-05-24T13:19:24.925Z"
   },
   {
    "duration": 275,
    "start_time": "2022-05-24T13:19:24.960Z"
   },
   {
    "duration": 11,
    "start_time": "2022-05-24T13:19:25.237Z"
   },
   {
    "duration": 525,
    "start_time": "2022-05-24T13:19:25.250Z"
   },
   {
    "duration": 499,
    "start_time": "2022-05-24T13:19:25.777Z"
   },
   {
    "duration": 627,
    "start_time": "2022-05-24T13:19:26.278Z"
   },
   {
    "duration": 504,
    "start_time": "2022-05-24T13:19:26.907Z"
   },
   {
    "duration": 488,
    "start_time": "2022-05-24T13:19:27.413Z"
   },
   {
    "duration": 457,
    "start_time": "2022-05-24T13:19:27.902Z"
   },
   {
    "duration": 20,
    "start_time": "2022-05-24T13:19:28.361Z"
   },
   {
    "duration": 7,
    "start_time": "2022-05-24T13:19:28.383Z"
   },
   {
    "duration": 6,
    "start_time": "2022-05-24T13:19:28.394Z"
   },
   {
    "duration": 11,
    "start_time": "2022-05-24T13:19:28.401Z"
   },
   {
    "duration": 33,
    "start_time": "2022-05-24T13:19:28.414Z"
   },
   {
    "duration": 1681,
    "start_time": "2022-05-24T17:20:42.066Z"
   },
   {
    "duration": 14,
    "start_time": "2022-05-24T17:20:43.749Z"
   },
   {
    "duration": 27,
    "start_time": "2022-05-24T17:20:43.764Z"
   },
   {
    "duration": 40,
    "start_time": "2022-05-24T17:20:43.793Z"
   },
   {
    "duration": 5,
    "start_time": "2022-05-24T17:20:43.834Z"
   },
   {
    "duration": 57,
    "start_time": "2022-05-24T17:20:43.840Z"
   },
   {
    "duration": 29,
    "start_time": "2022-05-24T17:20:43.899Z"
   },
   {
    "duration": 42,
    "start_time": "2022-05-24T17:20:43.930Z"
   },
   {
    "duration": 35,
    "start_time": "2022-05-24T17:20:43.973Z"
   },
   {
    "duration": 26,
    "start_time": "2022-05-24T17:20:44.011Z"
   },
   {
    "duration": 46,
    "start_time": "2022-05-24T17:20:44.039Z"
   },
   {
    "duration": 21,
    "start_time": "2022-05-24T17:20:44.087Z"
   },
   {
    "duration": 22,
    "start_time": "2022-05-24T17:20:44.111Z"
   },
   {
    "duration": 15,
    "start_time": "2022-05-24T17:20:44.135Z"
   },
   {
    "duration": 32,
    "start_time": "2022-05-24T17:20:44.153Z"
   },
   {
    "duration": 4904,
    "start_time": "2022-05-24T17:20:44.188Z"
   },
   {
    "duration": 18,
    "start_time": "2022-05-24T17:20:49.094Z"
   },
   {
    "duration": 412,
    "start_time": "2022-05-24T17:20:49.114Z"
   },
   {
    "duration": 300,
    "start_time": "2022-05-24T17:20:49.528Z"
   },
   {
    "duration": 6,
    "start_time": "2022-05-24T17:20:49.830Z"
   },
   {
    "duration": 492,
    "start_time": "2022-05-24T17:20:49.838Z"
   },
   {
    "duration": 362,
    "start_time": "2022-05-24T17:20:50.331Z"
   },
   {
    "duration": 251,
    "start_time": "2022-05-24T17:20:50.695Z"
   },
   {
    "duration": 8,
    "start_time": "2022-05-24T17:20:50.947Z"
   },
   {
    "duration": 200,
    "start_time": "2022-05-24T17:20:50.957Z"
   },
   {
    "duration": 8,
    "start_time": "2022-05-24T17:20:51.159Z"
   },
   {
    "duration": 271,
    "start_time": "2022-05-24T17:20:51.169Z"
   },
   {
    "duration": 1447,
    "start_time": "2022-05-24T17:20:51.445Z"
   },
   {
    "duration": 57,
    "start_time": "2022-05-24T17:20:52.894Z"
   },
   {
    "duration": 24,
    "start_time": "2022-05-24T17:20:52.953Z"
   },
   {
    "duration": 237,
    "start_time": "2022-05-24T17:20:52.979Z"
   },
   {
    "duration": 7,
    "start_time": "2022-05-24T17:20:53.218Z"
   },
   {
    "duration": 400,
    "start_time": "2022-05-24T17:20:53.226Z"
   },
   {
    "duration": 374,
    "start_time": "2022-05-24T17:20:53.628Z"
   },
   {
    "duration": 502,
    "start_time": "2022-05-24T17:20:54.003Z"
   },
   {
    "duration": 391,
    "start_time": "2022-05-24T17:20:54.507Z"
   },
   {
    "duration": 418,
    "start_time": "2022-05-24T17:20:54.899Z"
   },
   {
    "duration": 403,
    "start_time": "2022-05-24T17:20:55.318Z"
   },
   {
    "duration": 17,
    "start_time": "2022-05-24T17:20:55.723Z"
   },
   {
    "duration": 27,
    "start_time": "2022-05-24T17:20:55.741Z"
   },
   {
    "duration": 29,
    "start_time": "2022-05-24T17:20:55.770Z"
   },
   {
    "duration": 22,
    "start_time": "2022-05-24T17:20:55.801Z"
   },
   {
    "duration": 32,
    "start_time": "2022-05-24T17:20:55.824Z"
   },
   {
    "duration": 36,
    "start_time": "2022-05-24T18:16:09.883Z"
   },
   {
    "duration": 1324,
    "start_time": "2022-05-24T18:16:31.006Z"
   },
   {
    "duration": 15,
    "start_time": "2022-05-24T18:16:32.331Z"
   },
   {
    "duration": 39,
    "start_time": "2022-05-24T18:16:32.347Z"
   },
   {
    "duration": 41,
    "start_time": "2022-05-24T18:16:32.388Z"
   },
   {
    "duration": 4,
    "start_time": "2022-05-24T18:16:32.431Z"
   },
   {
    "duration": 41,
    "start_time": "2022-05-24T18:16:32.437Z"
   },
   {
    "duration": 20,
    "start_time": "2022-05-24T18:16:32.480Z"
   },
   {
    "duration": 17,
    "start_time": "2022-05-24T18:16:32.501Z"
   },
   {
    "duration": 36,
    "start_time": "2022-05-24T18:16:32.520Z"
   },
   {
    "duration": 8,
    "start_time": "2022-05-24T18:16:32.559Z"
   },
   {
    "duration": 44,
    "start_time": "2022-05-24T18:16:32.569Z"
   },
   {
    "duration": 21,
    "start_time": "2022-05-24T18:16:32.615Z"
   },
   {
    "duration": 19,
    "start_time": "2022-05-24T18:16:32.638Z"
   },
   {
    "duration": 25,
    "start_time": "2022-05-24T18:16:32.658Z"
   },
   {
    "duration": 12,
    "start_time": "2022-05-24T18:16:32.685Z"
   },
   {
    "duration": 4770,
    "start_time": "2022-05-24T18:16:32.698Z"
   },
   {
    "duration": 16,
    "start_time": "2022-05-24T18:16:37.470Z"
   },
   {
    "duration": 449,
    "start_time": "2022-05-24T18:16:37.488Z"
   },
   {
    "duration": 306,
    "start_time": "2022-05-24T18:16:37.939Z"
   },
   {
    "duration": 7,
    "start_time": "2022-05-24T18:16:38.247Z"
   },
   {
    "duration": 505,
    "start_time": "2022-05-24T18:16:38.257Z"
   },
   {
    "duration": 371,
    "start_time": "2022-05-24T18:16:38.763Z"
   },
   {
    "duration": 255,
    "start_time": "2022-05-24T18:16:39.135Z"
   },
   {
    "duration": 7,
    "start_time": "2022-05-24T18:16:39.392Z"
   },
   {
    "duration": 185,
    "start_time": "2022-05-24T18:16:39.401Z"
   },
   {
    "duration": 7,
    "start_time": "2022-05-24T18:16:39.588Z"
   },
   {
    "duration": 257,
    "start_time": "2022-05-24T18:16:39.597Z"
   },
   {
    "duration": 1227,
    "start_time": "2022-05-24T18:16:39.859Z"
   },
   {
    "duration": 51,
    "start_time": "2022-05-24T18:16:41.088Z"
   },
   {
    "duration": 15,
    "start_time": "2022-05-24T18:16:41.140Z"
   },
   {
    "duration": 205,
    "start_time": "2022-05-24T18:16:41.157Z"
   },
   {
    "duration": 8,
    "start_time": "2022-05-24T18:16:41.363Z"
   },
   {
    "duration": 482,
    "start_time": "2022-05-24T18:16:41.372Z"
   },
   {
    "duration": 395,
    "start_time": "2022-05-24T18:16:41.856Z"
   },
   {
    "duration": 497,
    "start_time": "2022-05-24T18:16:42.253Z"
   },
   {
    "duration": 376,
    "start_time": "2022-05-24T18:16:42.751Z"
   },
   {
    "duration": 388,
    "start_time": "2022-05-24T18:16:43.128Z"
   },
   {
    "duration": 375,
    "start_time": "2022-05-24T18:16:43.518Z"
   },
   {
    "duration": 24,
    "start_time": "2022-05-24T18:16:43.894Z"
   },
   {
    "duration": 4,
    "start_time": "2022-05-24T18:16:43.919Z"
   },
   {
    "duration": 0,
    "start_time": "2022-05-24T18:16:43.924Z"
   },
   {
    "duration": 0,
    "start_time": "2022-05-24T18:16:43.925Z"
   },
   {
    "duration": 0,
    "start_time": "2022-05-24T18:16:43.926Z"
   },
   {
    "duration": 5,
    "start_time": "2022-05-24T18:17:14.498Z"
   },
   {
    "duration": 34,
    "start_time": "2022-05-24T18:18:04.186Z"
   },
   {
    "duration": 470,
    "start_time": "2022-05-24T18:18:21.496Z"
   },
   {
    "duration": 8,
    "start_time": "2022-05-24T18:18:48.410Z"
   },
   {
    "duration": 1145,
    "start_time": "2022-05-24T18:20:09.792Z"
   },
   {
    "duration": 7,
    "start_time": "2022-05-24T18:20:40.232Z"
   },
   {
    "duration": 9,
    "start_time": "2022-05-24T18:29:11.867Z"
   },
   {
    "duration": 9,
    "start_time": "2022-05-24T18:31:24.338Z"
   },
   {
    "duration": 9,
    "start_time": "2022-05-24T18:39:07.586Z"
   },
   {
    "duration": 10,
    "start_time": "2022-05-24T18:42:40.741Z"
   },
   {
    "duration": 1106,
    "start_time": "2022-05-24T19:37:20.207Z"
   },
   {
    "duration": 12,
    "start_time": "2022-05-24T19:37:21.314Z"
   },
   {
    "duration": 26,
    "start_time": "2022-05-24T19:37:21.328Z"
   },
   {
    "duration": 27,
    "start_time": "2022-05-24T19:37:21.356Z"
   },
   {
    "duration": 4,
    "start_time": "2022-05-24T19:37:21.385Z"
   },
   {
    "duration": 32,
    "start_time": "2022-05-24T19:37:21.412Z"
   },
   {
    "duration": 20,
    "start_time": "2022-05-24T19:37:21.446Z"
   },
   {
    "duration": 14,
    "start_time": "2022-05-24T19:37:21.468Z"
   },
   {
    "duration": 45,
    "start_time": "2022-05-24T19:37:21.484Z"
   },
   {
    "duration": 5,
    "start_time": "2022-05-24T19:37:21.532Z"
   },
   {
    "duration": 23,
    "start_time": "2022-05-24T19:37:21.539Z"
   },
   {
    "duration": 9,
    "start_time": "2022-05-24T19:37:21.564Z"
   },
   {
    "duration": 8,
    "start_time": "2022-05-24T19:37:21.575Z"
   },
   {
    "duration": 35,
    "start_time": "2022-05-24T19:37:21.585Z"
   },
   {
    "duration": 7,
    "start_time": "2022-05-24T19:37:21.622Z"
   },
   {
    "duration": 4406,
    "start_time": "2022-05-24T19:37:21.631Z"
   },
   {
    "duration": 15,
    "start_time": "2022-05-24T19:37:26.039Z"
   },
   {
    "duration": 437,
    "start_time": "2022-05-24T19:37:26.055Z"
   },
   {
    "duration": 294,
    "start_time": "2022-05-24T19:37:26.493Z"
   },
   {
    "duration": 7,
    "start_time": "2022-05-24T19:37:26.788Z"
   },
   {
    "duration": 513,
    "start_time": "2022-05-24T19:37:26.797Z"
   },
   {
    "duration": 354,
    "start_time": "2022-05-24T19:37:27.312Z"
   },
   {
    "duration": 257,
    "start_time": "2022-05-24T19:37:27.667Z"
   },
   {
    "duration": 8,
    "start_time": "2022-05-24T19:37:27.925Z"
   },
   {
    "duration": 151,
    "start_time": "2022-05-24T19:37:27.934Z"
   },
   {
    "duration": 8,
    "start_time": "2022-05-24T19:37:28.087Z"
   },
   {
    "duration": 251,
    "start_time": "2022-05-24T19:37:28.096Z"
   },
   {
    "duration": 1214,
    "start_time": "2022-05-24T19:37:28.350Z"
   },
   {
    "duration": 51,
    "start_time": "2022-05-24T19:37:29.566Z"
   },
   {
    "duration": 15,
    "start_time": "2022-05-24T19:37:29.618Z"
   },
   {
    "duration": 210,
    "start_time": "2022-05-24T19:37:29.635Z"
   },
   {
    "duration": 7,
    "start_time": "2022-05-24T19:37:29.847Z"
   },
   {
    "duration": 379,
    "start_time": "2022-05-24T19:37:29.855Z"
   },
   {
    "duration": 376,
    "start_time": "2022-05-24T19:37:30.236Z"
   },
   {
    "duration": 499,
    "start_time": "2022-05-24T19:37:30.614Z"
   },
   {
    "duration": 382,
    "start_time": "2022-05-24T19:37:31.115Z"
   },
   {
    "duration": 477,
    "start_time": "2022-05-24T19:37:31.499Z"
   },
   {
    "duration": 394,
    "start_time": "2022-05-24T19:37:31.978Z"
   },
   {
    "duration": 16,
    "start_time": "2022-05-24T19:37:32.373Z"
   },
   {
    "duration": 9,
    "start_time": "2022-05-24T19:37:32.391Z"
   },
   {
    "duration": 10,
    "start_time": "2022-05-24T19:37:32.412Z"
   },
   {
    "duration": 1225,
    "start_time": "2022-05-24T19:59:10.537Z"
   },
   {
    "duration": 13,
    "start_time": "2022-05-24T19:59:11.764Z"
   },
   {
    "duration": 28,
    "start_time": "2022-05-24T19:59:11.779Z"
   },
   {
    "duration": 49,
    "start_time": "2022-05-24T19:59:11.809Z"
   },
   {
    "duration": 4,
    "start_time": "2022-05-24T19:59:11.861Z"
   },
   {
    "duration": 22,
    "start_time": "2022-05-24T19:59:11.866Z"
   },
   {
    "duration": 12,
    "start_time": "2022-05-24T19:59:11.890Z"
   },
   {
    "duration": 13,
    "start_time": "2022-05-24T19:59:11.904Z"
   },
   {
    "duration": 47,
    "start_time": "2022-05-24T19:59:11.918Z"
   },
   {
    "duration": 4,
    "start_time": "2022-05-24T19:59:11.967Z"
   },
   {
    "duration": 15,
    "start_time": "2022-05-24T19:59:11.972Z"
   },
   {
    "duration": 6,
    "start_time": "2022-05-24T19:59:11.989Z"
   },
   {
    "duration": 9,
    "start_time": "2022-05-24T19:59:11.996Z"
   },
   {
    "duration": 8,
    "start_time": "2022-05-24T19:59:12.007Z"
   },
   {
    "duration": 5,
    "start_time": "2022-05-24T19:59:12.017Z"
   },
   {
    "duration": 4855,
    "start_time": "2022-05-24T19:59:12.023Z"
   },
   {
    "duration": 15,
    "start_time": "2022-05-24T19:59:16.880Z"
   },
   {
    "duration": 440,
    "start_time": "2022-05-24T19:59:16.897Z"
   },
   {
    "duration": 324,
    "start_time": "2022-05-24T19:59:17.339Z"
   },
   {
    "duration": 8,
    "start_time": "2022-05-24T19:59:17.664Z"
   },
   {
    "duration": 491,
    "start_time": "2022-05-24T19:59:17.673Z"
   },
   {
    "duration": 386,
    "start_time": "2022-05-24T19:59:18.166Z"
   },
   {
    "duration": 262,
    "start_time": "2022-05-24T19:59:18.554Z"
   },
   {
    "duration": 8,
    "start_time": "2022-05-24T19:59:18.817Z"
   },
   {
    "duration": 166,
    "start_time": "2022-05-24T19:59:18.827Z"
   },
   {
    "duration": 7,
    "start_time": "2022-05-24T19:59:18.995Z"
   },
   {
    "duration": 265,
    "start_time": "2022-05-24T19:59:19.004Z"
   },
   {
    "duration": 1272,
    "start_time": "2022-05-24T19:59:19.271Z"
   },
   {
    "duration": 40,
    "start_time": "2022-05-24T19:59:20.552Z"
   },
   {
    "duration": 17,
    "start_time": "2022-05-24T19:59:20.594Z"
   },
   {
    "duration": 217,
    "start_time": "2022-05-24T19:59:20.613Z"
   },
   {
    "duration": 7,
    "start_time": "2022-05-24T19:59:20.832Z"
   },
   {
    "duration": 416,
    "start_time": "2022-05-24T19:59:20.841Z"
   },
   {
    "duration": 412,
    "start_time": "2022-05-24T19:59:21.259Z"
   },
   {
    "duration": 509,
    "start_time": "2022-05-24T19:59:21.673Z"
   },
   {
    "duration": 409,
    "start_time": "2022-05-24T19:59:22.183Z"
   },
   {
    "duration": 420,
    "start_time": "2022-05-24T19:59:22.593Z"
   },
   {
    "duration": 397,
    "start_time": "2022-05-24T19:59:23.015Z"
   },
   {
    "duration": 16,
    "start_time": "2022-05-24T19:59:23.414Z"
   },
   {
    "duration": 23,
    "start_time": "2022-05-24T19:59:23.431Z"
   },
   {
    "duration": 12,
    "start_time": "2022-05-24T19:59:23.457Z"
   },
   {
    "duration": 17,
    "start_time": "2022-05-24T20:03:40.126Z"
   },
   {
    "duration": 23,
    "start_time": "2022-05-24T20:04:01.936Z"
   },
   {
    "duration": 79,
    "start_time": "2022-05-24T20:08:36.831Z"
   },
   {
    "duration": 1247,
    "start_time": "2022-05-24T20:08:57.529Z"
   },
   {
    "duration": 15,
    "start_time": "2022-05-24T20:08:58.778Z"
   },
   {
    "duration": 34,
    "start_time": "2022-05-24T20:08:58.795Z"
   },
   {
    "duration": 60,
    "start_time": "2022-05-24T20:08:58.832Z"
   },
   {
    "duration": 5,
    "start_time": "2022-05-24T20:08:58.895Z"
   },
   {
    "duration": 28,
    "start_time": "2022-05-24T20:08:58.902Z"
   },
   {
    "duration": 32,
    "start_time": "2022-05-24T20:08:58.931Z"
   },
   {
    "duration": 13,
    "start_time": "2022-05-24T20:08:58.965Z"
   },
   {
    "duration": 25,
    "start_time": "2022-05-24T20:08:58.980Z"
   },
   {
    "duration": 6,
    "start_time": "2022-05-24T20:08:59.006Z"
   },
   {
    "duration": 47,
    "start_time": "2022-05-24T20:08:59.013Z"
   },
   {
    "duration": 10,
    "start_time": "2022-05-24T20:08:59.062Z"
   },
   {
    "duration": 8,
    "start_time": "2022-05-24T20:08:59.074Z"
   },
   {
    "duration": 9,
    "start_time": "2022-05-24T20:08:59.086Z"
   },
   {
    "duration": 5,
    "start_time": "2022-05-24T20:08:59.097Z"
   },
   {
    "duration": 5254,
    "start_time": "2022-05-24T20:08:59.104Z"
   },
   {
    "duration": 16,
    "start_time": "2022-05-24T20:09:04.360Z"
   },
   {
    "duration": 111,
    "start_time": "2022-05-24T20:09:04.378Z"
   },
   {
    "duration": 463,
    "start_time": "2022-05-24T20:09:04.491Z"
   },
   {
    "duration": 392,
    "start_time": "2022-05-24T20:09:04.955Z"
   },
   {
    "duration": 13,
    "start_time": "2022-05-24T20:09:05.349Z"
   },
   {
    "duration": 575,
    "start_time": "2022-05-24T20:09:05.365Z"
   },
   {
    "duration": 411,
    "start_time": "2022-05-24T20:09:05.941Z"
   },
   {
    "duration": 271,
    "start_time": "2022-05-24T20:09:06.353Z"
   },
   {
    "duration": 8,
    "start_time": "2022-05-24T20:09:06.625Z"
   },
   {
    "duration": 183,
    "start_time": "2022-05-24T20:09:06.635Z"
   },
   {
    "duration": 8,
    "start_time": "2022-05-24T20:09:06.820Z"
   },
   {
    "duration": 291,
    "start_time": "2022-05-24T20:09:06.829Z"
   },
   {
    "duration": 1350,
    "start_time": "2022-05-24T20:09:07.122Z"
   },
   {
    "duration": 46,
    "start_time": "2022-05-24T20:09:08.473Z"
   },
   {
    "duration": 34,
    "start_time": "2022-05-24T20:09:08.520Z"
   },
   {
    "duration": 222,
    "start_time": "2022-05-24T20:09:08.555Z"
   },
   {
    "duration": 8,
    "start_time": "2022-05-24T20:09:08.778Z"
   },
   {
    "duration": 434,
    "start_time": "2022-05-24T20:09:08.788Z"
   },
   {
    "duration": 421,
    "start_time": "2022-05-24T20:09:09.224Z"
   },
   {
    "duration": 551,
    "start_time": "2022-05-24T20:09:09.652Z"
   },
   {
    "duration": 410,
    "start_time": "2022-05-24T20:09:10.205Z"
   },
   {
    "duration": 430,
    "start_time": "2022-05-24T20:09:10.617Z"
   },
   {
    "duration": 481,
    "start_time": "2022-05-24T20:09:11.048Z"
   },
   {
    "duration": 28,
    "start_time": "2022-05-24T20:09:11.531Z"
   },
   {
    "duration": 10,
    "start_time": "2022-05-24T20:09:11.562Z"
   },
   {
    "duration": 10,
    "start_time": "2022-05-24T20:09:11.574Z"
   },
   {
    "duration": 8,
    "start_time": "2022-05-24T20:29:16.418Z"
   },
   {
    "duration": 44,
    "start_time": "2022-05-25T07:14:40.409Z"
   },
   {
    "duration": 1377,
    "start_time": "2022-05-25T07:25:39.791Z"
   },
   {
    "duration": 110,
    "start_time": "2022-05-25T07:25:41.170Z"
   },
   {
    "duration": 14,
    "start_time": "2022-05-25T07:25:41.282Z"
   },
   {
    "duration": 36,
    "start_time": "2022-05-25T07:25:41.298Z"
   },
   {
    "duration": 31,
    "start_time": "2022-05-25T07:25:41.336Z"
   },
   {
    "duration": 4,
    "start_time": "2022-05-25T07:25:41.369Z"
   },
   {
    "duration": 25,
    "start_time": "2022-05-25T07:25:41.375Z"
   },
   {
    "duration": 33,
    "start_time": "2022-05-25T07:25:41.402Z"
   },
   {
    "duration": 19,
    "start_time": "2022-05-25T07:25:41.437Z"
   },
   {
    "duration": 21,
    "start_time": "2022-05-25T07:25:41.459Z"
   },
   {
    "duration": 4,
    "start_time": "2022-05-25T07:25:41.482Z"
   },
   {
    "duration": 13,
    "start_time": "2022-05-25T07:25:41.488Z"
   },
   {
    "duration": 28,
    "start_time": "2022-05-25T07:25:41.503Z"
   },
   {
    "duration": 10,
    "start_time": "2022-05-25T07:25:41.532Z"
   },
   {
    "duration": 8,
    "start_time": "2022-05-25T07:25:41.544Z"
   },
   {
    "duration": 4764,
    "start_time": "2022-05-25T07:25:41.553Z"
   },
   {
    "duration": 17,
    "start_time": "2022-05-25T07:25:46.318Z"
   },
   {
    "duration": 102,
    "start_time": "2022-05-25T07:25:46.337Z"
   },
   {
    "duration": 475,
    "start_time": "2022-05-25T07:25:46.441Z"
   },
   {
    "duration": 341,
    "start_time": "2022-05-25T07:25:46.918Z"
   },
   {
    "duration": 9,
    "start_time": "2022-05-25T07:25:47.261Z"
   },
   {
    "duration": 537,
    "start_time": "2022-05-25T07:25:47.272Z"
   },
   {
    "duration": 396,
    "start_time": "2022-05-25T07:25:47.812Z"
   },
   {
    "duration": 274,
    "start_time": "2022-05-25T07:25:48.210Z"
   },
   {
    "duration": 7,
    "start_time": "2022-05-25T07:25:48.486Z"
   },
   {
    "duration": 173,
    "start_time": "2022-05-25T07:25:48.495Z"
   },
   {
    "duration": 8,
    "start_time": "2022-05-25T07:25:48.670Z"
   },
   {
    "duration": 285,
    "start_time": "2022-05-25T07:25:48.681Z"
   },
   {
    "duration": 1335,
    "start_time": "2022-05-25T07:25:48.967Z"
   },
   {
    "duration": 56,
    "start_time": "2022-05-25T07:25:50.304Z"
   },
   {
    "duration": 18,
    "start_time": "2022-05-25T07:25:50.361Z"
   },
   {
    "duration": 222,
    "start_time": "2022-05-25T07:25:50.380Z"
   },
   {
    "duration": 7,
    "start_time": "2022-05-25T07:25:50.604Z"
   },
   {
    "duration": 413,
    "start_time": "2022-05-25T07:25:50.613Z"
   },
   {
    "duration": 407,
    "start_time": "2022-05-25T07:25:51.028Z"
   },
   {
    "duration": 540,
    "start_time": "2022-05-25T07:25:51.437Z"
   },
   {
    "duration": 413,
    "start_time": "2022-05-25T07:25:51.979Z"
   },
   {
    "duration": 425,
    "start_time": "2022-05-25T07:25:52.394Z"
   },
   {
    "duration": 440,
    "start_time": "2022-05-25T07:25:52.821Z"
   },
   {
    "duration": 17,
    "start_time": "2022-05-25T07:25:53.263Z"
   },
   {
    "duration": 13,
    "start_time": "2022-05-25T07:25:53.282Z"
   },
   {
    "duration": 32,
    "start_time": "2022-05-25T07:25:53.296Z"
   },
   {
    "duration": 13,
    "start_time": "2022-05-25T07:25:53.330Z"
   },
   {
    "duration": 7,
    "start_time": "2022-05-25T07:30:08.674Z"
   },
   {
    "duration": 8,
    "start_time": "2022-05-25T07:32:11.881Z"
   },
   {
    "duration": 7,
    "start_time": "2022-05-25T07:46:10.203Z"
   },
   {
    "duration": 26,
    "start_time": "2022-05-25T07:47:24.100Z"
   },
   {
    "duration": 59,
    "start_time": "2022-05-25T07:47:24.128Z"
   },
   {
    "duration": 13,
    "start_time": "2022-05-25T07:47:24.189Z"
   },
   {
    "duration": 27,
    "start_time": "2022-05-25T07:47:24.204Z"
   },
   {
    "duration": 30,
    "start_time": "2022-05-25T07:47:24.233Z"
   },
   {
    "duration": 6,
    "start_time": "2022-05-25T07:47:24.265Z"
   },
   {
    "duration": 23,
    "start_time": "2022-05-25T07:47:24.272Z"
   },
   {
    "duration": 36,
    "start_time": "2022-05-25T07:47:24.297Z"
   },
   {
    "duration": 58,
    "start_time": "2022-05-25T07:47:24.334Z"
   },
   {
    "duration": 29,
    "start_time": "2022-05-25T07:47:24.394Z"
   },
   {
    "duration": 9,
    "start_time": "2022-05-25T07:47:24.425Z"
   },
   {
    "duration": 24,
    "start_time": "2022-05-25T07:47:24.436Z"
   },
   {
    "duration": 21,
    "start_time": "2022-05-25T07:47:24.462Z"
   },
   {
    "duration": 23,
    "start_time": "2022-05-25T07:47:24.485Z"
   },
   {
    "duration": 11,
    "start_time": "2022-05-25T07:47:24.510Z"
   },
   {
    "duration": 24,
    "start_time": "2022-05-25T07:47:24.524Z"
   },
   {
    "duration": 4669,
    "start_time": "2022-05-25T07:47:24.550Z"
   },
   {
    "duration": 16,
    "start_time": "2022-05-25T07:47:29.221Z"
   },
   {
    "duration": 118,
    "start_time": "2022-05-25T07:47:29.239Z"
   },
   {
    "duration": 467,
    "start_time": "2022-05-25T07:47:29.359Z"
   },
   {
    "duration": 370,
    "start_time": "2022-05-25T07:47:29.828Z"
   },
   {
    "duration": 7,
    "start_time": "2022-05-25T07:47:30.200Z"
   },
   {
    "duration": 691,
    "start_time": "2022-05-25T07:47:30.209Z"
   },
   {
    "duration": 442,
    "start_time": "2022-05-25T07:47:30.901Z"
   },
   {
    "duration": 288,
    "start_time": "2022-05-25T07:47:31.345Z"
   },
   {
    "duration": 9,
    "start_time": "2022-05-25T07:47:31.635Z"
   },
   {
    "duration": 216,
    "start_time": "2022-05-25T07:47:31.645Z"
   },
   {
    "duration": 9,
    "start_time": "2022-05-25T07:47:31.863Z"
   },
   {
    "duration": 235,
    "start_time": "2022-05-25T07:47:31.874Z"
   },
   {
    "duration": 1833,
    "start_time": "2022-05-25T07:47:32.111Z"
   },
   {
    "duration": 44,
    "start_time": "2022-05-25T07:47:33.946Z"
   },
   {
    "duration": 35,
    "start_time": "2022-05-25T07:47:33.992Z"
   },
   {
    "duration": 251,
    "start_time": "2022-05-25T07:47:34.029Z"
   },
   {
    "duration": 8,
    "start_time": "2022-05-25T07:47:34.282Z"
   },
   {
    "duration": 449,
    "start_time": "2022-05-25T07:47:34.291Z"
   },
   {
    "duration": 424,
    "start_time": "2022-05-25T07:47:34.742Z"
   },
   {
    "duration": 417,
    "start_time": "2022-05-25T07:47:35.171Z"
   },
   {
    "duration": 444,
    "start_time": "2022-05-25T07:47:35.590Z"
   },
   {
    "duration": 580,
    "start_time": "2022-05-25T07:47:36.037Z"
   },
   {
    "duration": 434,
    "start_time": "2022-05-25T07:47:36.618Z"
   },
   {
    "duration": 20,
    "start_time": "2022-05-25T07:47:37.054Z"
   },
   {
    "duration": 10,
    "start_time": "2022-05-25T07:47:37.076Z"
   },
   {
    "duration": 38,
    "start_time": "2022-05-25T07:47:37.088Z"
   },
   {
    "duration": 11,
    "start_time": "2022-05-25T07:47:37.128Z"
   },
   {
    "duration": 260,
    "start_time": "2022-05-25T07:57:12.884Z"
   },
   {
    "duration": 163,
    "start_time": "2022-05-25T07:57:52.380Z"
   },
   {
    "duration": 422,
    "start_time": "2022-05-25T07:58:28.826Z"
   },
   {
    "duration": 375,
    "start_time": "2022-05-25T08:02:33.061Z"
   },
   {
    "duration": 7,
    "start_time": "2022-05-25T08:03:07.609Z"
   },
   {
    "duration": 493,
    "start_time": "2022-05-25T08:09:45.270Z"
   },
   {
    "duration": 490,
    "start_time": "2022-05-25T08:10:42.600Z"
   },
   {
    "duration": 431,
    "start_time": "2022-05-25T08:13:19.453Z"
   },
   {
    "duration": 298,
    "start_time": "2022-05-25T08:13:19.886Z"
   },
   {
    "duration": 185,
    "start_time": "2022-05-25T08:13:37.915Z"
   },
   {
    "duration": 301,
    "start_time": "2022-05-25T08:13:55.805Z"
   },
   {
    "duration": 279,
    "start_time": "2022-05-25T08:14:43.369Z"
   },
   {
    "duration": 297,
    "start_time": "2022-05-25T08:14:49.946Z"
   },
   {
    "duration": 357,
    "start_time": "2022-05-25T08:14:56.035Z"
   },
   {
    "duration": 312,
    "start_time": "2022-05-25T08:14:56.394Z"
   },
   {
    "duration": 665,
    "start_time": "2022-05-25T08:15:11.369Z"
   },
   {
    "duration": 428,
    "start_time": "2022-05-25T08:15:41.979Z"
   },
   {
    "duration": 347,
    "start_time": "2022-05-25T08:16:25.568Z"
   },
   {
    "duration": 293,
    "start_time": "2022-05-25T08:16:25.917Z"
   },
   {
    "duration": 20,
    "start_time": "2022-05-25T08:20:35.921Z"
   },
   {
    "duration": 27,
    "start_time": "2022-05-25T08:21:46.954Z"
   },
   {
    "duration": 296,
    "start_time": "2022-05-25T08:21:48.157Z"
   },
   {
    "duration": 22,
    "start_time": "2022-05-25T08:22:24.532Z"
   },
   {
    "duration": 435,
    "start_time": "2022-05-25T08:23:40.565Z"
   },
   {
    "duration": 343,
    "start_time": "2022-05-25T08:23:57.941Z"
   },
   {
    "duration": 354,
    "start_time": "2022-05-25T08:24:10.483Z"
   },
   {
    "duration": 7,
    "start_time": "2022-05-25T08:45:17.677Z"
   },
   {
    "duration": 236,
    "start_time": "2022-05-25T08:45:58.020Z"
   },
   {
    "duration": 7,
    "start_time": "2022-05-25T08:47:32.323Z"
   },
   {
    "duration": 221,
    "start_time": "2022-05-25T08:47:43.808Z"
   },
   {
    "duration": 1754,
    "start_time": "2022-05-25T08:48:55.045Z"
   },
   {
    "duration": 1600,
    "start_time": "2022-05-25T08:49:51.794Z"
   },
   {
    "duration": 1487,
    "start_time": "2022-05-25T08:53:49.553Z"
   },
   {
    "duration": 348,
    "start_time": "2022-05-25T08:56:52.988Z"
   },
   {
    "duration": 13,
    "start_time": "2022-05-25T08:59:46.360Z"
   },
   {
    "duration": 279,
    "start_time": "2022-05-25T08:59:46.418Z"
   },
   {
    "duration": 7,
    "start_time": "2022-05-25T09:01:23.452Z"
   },
   {
    "duration": 7,
    "start_time": "2022-05-25T09:01:34.581Z"
   },
   {
    "duration": 1679,
    "start_time": "2022-05-25T09:02:27.120Z"
   },
   {
    "duration": 9,
    "start_time": "2022-05-25T09:07:05.519Z"
   },
   {
    "duration": 6,
    "start_time": "2022-05-25T09:07:13.249Z"
   },
   {
    "duration": 10,
    "start_time": "2022-05-25T09:08:58.134Z"
   },
   {
    "duration": 5,
    "start_time": "2022-05-25T09:09:01.860Z"
   },
   {
    "duration": 211,
    "start_time": "2022-05-25T09:09:13.720Z"
   },
   {
    "duration": 1433,
    "start_time": "2022-05-25T09:09:35.893Z"
   },
   {
    "duration": 10,
    "start_time": "2022-05-25T09:13:47.411Z"
   },
   {
    "duration": 242,
    "start_time": "2022-05-25T09:33:59.252Z"
   },
   {
    "duration": 253,
    "start_time": "2022-05-25T09:37:38.326Z"
   },
   {
    "duration": 223,
    "start_time": "2022-05-25T09:37:51.152Z"
   },
   {
    "duration": 227,
    "start_time": "2022-05-25T09:38:18.648Z"
   },
   {
    "duration": 237,
    "start_time": "2022-05-25T09:39:40.524Z"
   },
   {
    "duration": 252,
    "start_time": "2022-05-25T09:41:09.964Z"
   },
   {
    "duration": 236,
    "start_time": "2022-05-25T09:41:26.342Z"
   },
   {
    "duration": 247,
    "start_time": "2022-05-25T09:41:46.370Z"
   },
   {
    "duration": 221,
    "start_time": "2022-05-25T09:42:02.605Z"
   },
   {
    "duration": 219,
    "start_time": "2022-05-25T09:44:10.358Z"
   },
   {
    "duration": 23,
    "start_time": "2022-05-25T09:47:57.409Z"
   },
   {
    "duration": 38,
    "start_time": "2022-05-25T09:48:35.847Z"
   },
   {
    "duration": 23,
    "start_time": "2022-05-25T09:48:41.815Z"
   },
   {
    "duration": 22,
    "start_time": "2022-05-25T09:48:59.534Z"
   },
   {
    "duration": 216,
    "start_time": "2022-05-25T09:49:09.754Z"
   },
   {
    "duration": 218,
    "start_time": "2022-05-25T09:49:29.145Z"
   },
   {
    "duration": 227,
    "start_time": "2022-05-25T09:49:47.191Z"
   },
   {
    "duration": 1126,
    "start_time": "2022-05-25T09:51:03.652Z"
   },
   {
    "duration": 71,
    "start_time": "2022-05-25T09:51:04.780Z"
   },
   {
    "duration": 18,
    "start_time": "2022-05-25T09:51:04.852Z"
   },
   {
    "duration": 61,
    "start_time": "2022-05-25T09:51:04.873Z"
   },
   {
    "duration": 54,
    "start_time": "2022-05-25T09:51:04.937Z"
   },
   {
    "duration": 6,
    "start_time": "2022-05-25T09:51:04.993Z"
   },
   {
    "duration": 46,
    "start_time": "2022-05-25T09:51:05.002Z"
   },
   {
    "duration": 30,
    "start_time": "2022-05-25T09:51:05.050Z"
   },
   {
    "duration": 25,
    "start_time": "2022-05-25T09:51:05.082Z"
   },
   {
    "duration": 23,
    "start_time": "2022-05-25T09:51:05.110Z"
   },
   {
    "duration": 10,
    "start_time": "2022-05-25T09:51:05.134Z"
   },
   {
    "duration": 20,
    "start_time": "2022-05-25T09:51:05.146Z"
   },
   {
    "duration": 7,
    "start_time": "2022-05-25T09:51:05.168Z"
   },
   {
    "duration": 15,
    "start_time": "2022-05-25T09:51:05.177Z"
   },
   {
    "duration": 39,
    "start_time": "2022-05-25T09:51:05.194Z"
   },
   {
    "duration": 10,
    "start_time": "2022-05-25T09:51:05.235Z"
   },
   {
    "duration": 4966,
    "start_time": "2022-05-25T09:51:05.247Z"
   },
   {
    "duration": 28,
    "start_time": "2022-05-25T09:51:10.214Z"
   },
   {
    "duration": 104,
    "start_time": "2022-05-25T09:51:10.244Z"
   },
   {
    "duration": 478,
    "start_time": "2022-05-25T09:51:10.350Z"
   },
   {
    "duration": 347,
    "start_time": "2022-05-25T09:51:10.831Z"
   },
   {
    "duration": 6,
    "start_time": "2022-05-25T09:51:11.180Z"
   },
   {
    "duration": 501,
    "start_time": "2022-05-25T09:51:11.188Z"
   },
   {
    "duration": 410,
    "start_time": "2022-05-25T09:51:11.691Z"
   },
   {
    "duration": 379,
    "start_time": "2022-05-25T09:51:12.103Z"
   },
   {
    "duration": 416,
    "start_time": "2022-05-25T09:51:12.485Z"
   },
   {
    "duration": 227,
    "start_time": "2022-05-25T09:51:12.903Z"
   },
   {
    "duration": 201,
    "start_time": "2022-05-25T09:51:13.133Z"
   },
   {
    "duration": 10,
    "start_time": "2022-05-25T09:51:13.335Z"
   },
   {
    "duration": 1165,
    "start_time": "2022-05-25T09:51:13.347Z"
   },
   {
    "duration": 62,
    "start_time": "2022-05-25T09:51:14.514Z"
   },
   {
    "duration": 17,
    "start_time": "2022-05-25T09:51:14.577Z"
   },
   {
    "duration": 233,
    "start_time": "2022-05-25T09:51:14.595Z"
   },
   {
    "duration": 8,
    "start_time": "2022-05-25T09:51:14.830Z"
   },
   {
    "duration": 441,
    "start_time": "2022-05-25T09:51:14.840Z"
   },
   {
    "duration": 535,
    "start_time": "2022-05-25T09:51:15.282Z"
   },
   {
    "duration": 427,
    "start_time": "2022-05-25T09:51:15.819Z"
   },
   {
    "duration": 436,
    "start_time": "2022-05-25T09:51:16.248Z"
   },
   {
    "duration": 444,
    "start_time": "2022-05-25T09:51:16.685Z"
   },
   {
    "duration": 427,
    "start_time": "2022-05-25T09:51:17.131Z"
   },
   {
    "duration": 20,
    "start_time": "2022-05-25T09:51:17.561Z"
   },
   {
    "duration": 12,
    "start_time": "2022-05-25T09:51:17.583Z"
   },
   {
    "duration": 36,
    "start_time": "2022-05-25T09:51:17.598Z"
   },
   {
    "duration": 14,
    "start_time": "2022-05-25T09:51:17.636Z"
   },
   {
    "duration": 107,
    "start_time": "2022-05-25T09:53:13.186Z"
   },
   {
    "duration": 266,
    "start_time": "2022-05-25T09:53:21.092Z"
   },
   {
    "duration": 7,
    "start_time": "2022-05-25T09:54:58.266Z"
   },
   {
    "duration": 13,
    "start_time": "2022-05-25T09:55:37.923Z"
   },
   {
    "duration": 12,
    "start_time": "2022-05-25T09:56:45.173Z"
   },
   {
    "duration": 6,
    "start_time": "2022-05-25T09:56:54.674Z"
   },
   {
    "duration": 514,
    "start_time": "2022-05-25T09:57:47.613Z"
   },
   {
    "duration": 7,
    "start_time": "2022-05-25T09:58:52.241Z"
   },
   {
    "duration": 13,
    "start_time": "2022-05-25T09:59:04.615Z"
   },
   {
    "duration": 13,
    "start_time": "2022-05-25T10:00:32.840Z"
   },
   {
    "duration": 238,
    "start_time": "2022-05-25T10:02:15.476Z"
   },
   {
    "duration": 253,
    "start_time": "2022-05-25T10:03:14.211Z"
   },
   {
    "duration": 320,
    "start_time": "2022-05-25T10:05:34.463Z"
   },
   {
    "duration": 201,
    "start_time": "2022-05-25T10:09:17.639Z"
   },
   {
    "duration": 229,
    "start_time": "2022-05-25T10:09:26.496Z"
   },
   {
    "duration": 226,
    "start_time": "2022-05-25T10:11:32.700Z"
   },
   {
    "duration": 217,
    "start_time": "2022-05-25T10:13:08.135Z"
   },
   {
    "duration": 251,
    "start_time": "2022-05-25T10:19:42.091Z"
   },
   {
    "duration": 1533,
    "start_time": "2022-05-25T10:23:09.873Z"
   },
   {
    "duration": 43,
    "start_time": "2022-05-25T10:23:51.646Z"
   },
   {
    "duration": 1416,
    "start_time": "2022-05-25T10:25:30.362Z"
   },
   {
    "duration": 1408,
    "start_time": "2022-05-25T10:26:36.973Z"
   },
   {
    "duration": 1536,
    "start_time": "2022-05-25T10:27:24.313Z"
   },
   {
    "duration": 17,
    "start_time": "2022-05-25T10:31:56.283Z"
   },
   {
    "duration": 233,
    "start_time": "2022-05-25T10:32:15.438Z"
   },
   {
    "duration": 166,
    "start_time": "2022-05-25T10:36:28.860Z"
   },
   {
    "duration": 292,
    "start_time": "2022-05-25T10:37:34.639Z"
   },
   {
    "duration": 342,
    "start_time": "2022-05-25T10:38:54.269Z"
   },
   {
    "duration": 306,
    "start_time": "2022-05-25T10:39:39.396Z"
   },
   {
    "duration": 556,
    "start_time": "2022-05-25T10:39:56.084Z"
   },
   {
    "duration": 370,
    "start_time": "2022-05-25T10:40:51.903Z"
   },
   {
    "duration": 310,
    "start_time": "2022-05-25T10:40:59.913Z"
   },
   {
    "duration": 378,
    "start_time": "2022-05-25T10:47:46.483Z"
   },
   {
    "duration": 300,
    "start_time": "2022-05-25T10:47:58.063Z"
   },
   {
    "duration": 8,
    "start_time": "2022-05-25T11:04:06.530Z"
   },
   {
    "duration": 340,
    "start_time": "2022-05-25T11:04:10.133Z"
   },
   {
    "duration": 8,
    "start_time": "2022-05-25T11:05:01.109Z"
   },
   {
    "duration": 411,
    "start_time": "2022-05-25T11:05:04.280Z"
   },
   {
    "duration": 9,
    "start_time": "2022-05-25T11:07:28.438Z"
   },
   {
    "duration": 376,
    "start_time": "2022-05-25T11:07:32.501Z"
   },
   {
    "duration": 8,
    "start_time": "2022-05-25T11:09:01.471Z"
   },
   {
    "duration": 347,
    "start_time": "2022-05-25T11:09:03.844Z"
   },
   {
    "duration": 0,
    "start_time": "2022-05-25T11:09:04.192Z"
   },
   {
    "duration": 178,
    "start_time": "2022-05-25T11:09:53.377Z"
   },
   {
    "duration": 378,
    "start_time": "2022-05-25T11:09:56.283Z"
   },
   {
    "duration": 8,
    "start_time": "2022-05-25T11:11:18.238Z"
   },
   {
    "duration": 357,
    "start_time": "2022-05-25T11:11:21.253Z"
   },
   {
    "duration": 6,
    "start_time": "2022-05-25T11:11:33.566Z"
   },
   {
    "duration": 405,
    "start_time": "2022-05-25T11:11:38.754Z"
   },
   {
    "duration": 6,
    "start_time": "2022-05-25T11:12:01.458Z"
   },
   {
    "duration": 388,
    "start_time": "2022-05-25T11:12:06.098Z"
   },
   {
    "duration": 8,
    "start_time": "2022-05-25T11:20:53.388Z"
   },
   {
    "duration": 7,
    "start_time": "2022-05-25T11:20:58.450Z"
   },
   {
    "duration": 531,
    "start_time": "2022-05-25T11:21:01.559Z"
   },
   {
    "duration": 6,
    "start_time": "2022-05-25T11:21:43.280Z"
   },
   {
    "duration": 381,
    "start_time": "2022-05-25T11:21:45.877Z"
   },
   {
    "duration": 5,
    "start_time": "2022-05-25T11:22:26.796Z"
   },
   {
    "duration": 361,
    "start_time": "2022-05-25T11:22:29.625Z"
   },
   {
    "duration": 1097,
    "start_time": "2022-05-25T11:22:49.377Z"
   },
   {
    "duration": 67,
    "start_time": "2022-05-25T11:22:50.476Z"
   },
   {
    "duration": 14,
    "start_time": "2022-05-25T11:22:50.544Z"
   },
   {
    "duration": 31,
    "start_time": "2022-05-25T11:22:50.560Z"
   },
   {
    "duration": 44,
    "start_time": "2022-05-25T11:22:50.593Z"
   },
   {
    "duration": 5,
    "start_time": "2022-05-25T11:22:50.639Z"
   },
   {
    "duration": 27,
    "start_time": "2022-05-25T11:22:50.645Z"
   },
   {
    "duration": 19,
    "start_time": "2022-05-25T11:22:50.674Z"
   },
   {
    "duration": 9,
    "start_time": "2022-05-25T11:22:50.695Z"
   },
   {
    "duration": 37,
    "start_time": "2022-05-25T11:22:50.705Z"
   },
   {
    "duration": 4,
    "start_time": "2022-05-25T11:22:50.743Z"
   },
   {
    "duration": 14,
    "start_time": "2022-05-25T11:22:50.749Z"
   },
   {
    "duration": 5,
    "start_time": "2022-05-25T11:22:50.764Z"
   },
   {
    "duration": 19,
    "start_time": "2022-05-25T11:22:50.772Z"
   },
   {
    "duration": 9,
    "start_time": "2022-05-25T11:22:50.793Z"
   },
   {
    "duration": 27,
    "start_time": "2022-05-25T11:22:50.804Z"
   },
   {
    "duration": 4625,
    "start_time": "2022-05-25T11:22:50.832Z"
   },
   {
    "duration": 16,
    "start_time": "2022-05-25T11:22:55.459Z"
   },
   {
    "duration": 98,
    "start_time": "2022-05-25T11:22:55.477Z"
   },
   {
    "duration": 480,
    "start_time": "2022-05-25T11:22:55.577Z"
   },
   {
    "duration": 365,
    "start_time": "2022-05-25T11:22:56.059Z"
   },
   {
    "duration": 8,
    "start_time": "2022-05-25T11:22:56.426Z"
   },
   {
    "duration": 546,
    "start_time": "2022-05-25T11:22:56.435Z"
   },
   {
    "duration": 446,
    "start_time": "2022-05-25T11:22:56.983Z"
   },
   {
    "duration": 395,
    "start_time": "2022-05-25T11:22:57.430Z"
   },
   {
    "duration": 388,
    "start_time": "2022-05-25T11:22:57.827Z"
   },
   {
    "duration": 221,
    "start_time": "2022-05-25T11:22:58.216Z"
   },
   {
    "duration": 213,
    "start_time": "2022-05-25T11:22:58.438Z"
   },
   {
    "duration": 194,
    "start_time": "2022-05-25T11:22:58.653Z"
   },
   {
    "duration": 1156,
    "start_time": "2022-05-25T11:22:58.849Z"
   },
   {
    "duration": 52,
    "start_time": "2022-05-25T11:23:00.006Z"
   },
   {
    "duration": 18,
    "start_time": "2022-05-25T11:23:00.060Z"
   },
   {
    "duration": 395,
    "start_time": "2022-05-25T11:23:00.080Z"
   },
   {
    "duration": 412,
    "start_time": "2022-05-25T11:23:00.477Z"
   },
   {
    "duration": 6,
    "start_time": "2022-05-25T11:23:00.890Z"
   },
   {
    "duration": 512,
    "start_time": "2022-05-25T11:23:00.897Z"
   },
   {
    "duration": 0,
    "start_time": "2022-05-25T11:23:01.411Z"
   },
   {
    "duration": 0,
    "start_time": "2022-05-25T11:23:01.412Z"
   },
   {
    "duration": 0,
    "start_time": "2022-05-25T11:23:01.413Z"
   },
   {
    "duration": 0,
    "start_time": "2022-05-25T11:23:01.414Z"
   },
   {
    "duration": 0,
    "start_time": "2022-05-25T11:23:01.415Z"
   },
   {
    "duration": 0,
    "start_time": "2022-05-25T11:23:01.426Z"
   },
   {
    "duration": 0,
    "start_time": "2022-05-25T11:23:01.427Z"
   },
   {
    "duration": 0,
    "start_time": "2022-05-25T11:23:01.428Z"
   },
   {
    "duration": 7,
    "start_time": "2022-05-25T11:24:04.464Z"
   },
   {
    "duration": 503,
    "start_time": "2022-05-25T11:24:06.696Z"
   },
   {
    "duration": 6,
    "start_time": "2022-05-25T11:24:56.228Z"
   },
   {
    "duration": 376,
    "start_time": "2022-05-25T11:24:58.338Z"
   },
   {
    "duration": 8,
    "start_time": "2022-05-25T12:00:43.014Z"
   },
   {
    "duration": 412,
    "start_time": "2022-05-25T12:00:46.757Z"
   },
   {
    "duration": 6,
    "start_time": "2022-05-25T12:01:27.104Z"
   },
   {
    "duration": 772,
    "start_time": "2022-05-25T12:01:27.225Z"
   },
   {
    "duration": 6,
    "start_time": "2022-05-25T12:01:35.461Z"
   },
   {
    "duration": 405,
    "start_time": "2022-05-25T12:01:38.251Z"
   },
   {
    "duration": 6,
    "start_time": "2022-05-25T12:02:27.260Z"
   },
   {
    "duration": 377,
    "start_time": "2022-05-25T12:02:30.407Z"
   },
   {
    "duration": 140,
    "start_time": "2022-05-25T12:03:29.644Z"
   },
   {
    "duration": 391,
    "start_time": "2022-05-25T12:03:31.963Z"
   },
   {
    "duration": 6,
    "start_time": "2022-05-25T12:04:18.965Z"
   },
   {
    "duration": 489,
    "start_time": "2022-05-25T12:04:22.261Z"
   },
   {
    "duration": 466,
    "start_time": "2022-05-25T12:06:08.611Z"
   },
   {
    "duration": 466,
    "start_time": "2022-05-25T12:06:19.910Z"
   },
   {
    "duration": 7,
    "start_time": "2022-05-25T12:07:33.153Z"
   },
   {
    "duration": 439,
    "start_time": "2022-05-25T12:07:36.060Z"
   },
   {
    "duration": 471,
    "start_time": "2022-05-25T12:08:44.216Z"
   },
   {
    "duration": 593,
    "start_time": "2022-05-25T12:08:51.313Z"
   },
   {
    "duration": 79,
    "start_time": "2022-05-25T12:10:53.922Z"
   },
   {
    "duration": 6,
    "start_time": "2022-05-25T12:11:06.097Z"
   },
   {
    "duration": 432,
    "start_time": "2022-05-25T12:11:14.936Z"
   },
   {
    "duration": 446,
    "start_time": "2022-05-25T12:11:29.693Z"
   },
   {
    "duration": 458,
    "start_time": "2022-05-25T12:11:36.968Z"
   },
   {
    "duration": 7,
    "start_time": "2022-05-25T12:13:01.939Z"
   },
   {
    "duration": 451,
    "start_time": "2022-05-25T12:13:14.140Z"
   },
   {
    "duration": 6,
    "start_time": "2022-05-25T12:15:58.409Z"
   },
   {
    "duration": 375,
    "start_time": "2022-05-25T12:16:02.158Z"
   },
   {
    "duration": 6,
    "start_time": "2022-05-25T12:16:11.222Z"
   },
   {
    "duration": 459,
    "start_time": "2022-05-25T12:16:13.574Z"
   },
   {
    "duration": 6,
    "start_time": "2022-05-25T12:17:17.983Z"
   },
   {
    "duration": 730,
    "start_time": "2022-05-25T12:17:18.082Z"
   },
   {
    "duration": 5,
    "start_time": "2022-05-25T12:17:30.833Z"
   },
   {
    "duration": 555,
    "start_time": "2022-05-25T12:17:33.801Z"
   },
   {
    "duration": 7,
    "start_time": "2022-05-25T12:18:34.912Z"
   },
   {
    "duration": 373,
    "start_time": "2022-05-25T12:18:34.937Z"
   },
   {
    "duration": 381,
    "start_time": "2022-05-25T12:18:37.656Z"
   },
   {
    "duration": 6,
    "start_time": "2022-05-25T12:18:59.552Z"
   },
   {
    "duration": 415,
    "start_time": "2022-05-25T12:19:02.177Z"
   },
   {
    "duration": 10,
    "start_time": "2022-05-25T12:19:22.787Z"
   },
   {
    "duration": 7,
    "start_time": "2022-05-25T12:20:08.178Z"
   },
   {
    "duration": 530,
    "start_time": "2022-05-25T12:20:11.053Z"
   },
   {
    "duration": 7,
    "start_time": "2022-05-25T12:21:30.991Z"
   },
   {
    "duration": 566,
    "start_time": "2022-05-25T12:21:31.087Z"
   },
   {
    "duration": 565,
    "start_time": "2022-05-25T12:21:36.586Z"
   },
   {
    "duration": 6,
    "start_time": "2022-05-25T12:24:06.708Z"
   },
   {
    "duration": 692,
    "start_time": "2022-05-25T12:24:09.582Z"
   },
   {
    "duration": 9,
    "start_time": "2022-05-25T12:24:40.932Z"
   },
   {
    "duration": 559,
    "start_time": "2022-05-25T12:24:43.694Z"
   },
   {
    "duration": 7,
    "start_time": "2022-05-25T12:25:40.450Z"
   },
   {
    "duration": 523,
    "start_time": "2022-05-25T12:25:44.077Z"
   },
   {
    "duration": 9,
    "start_time": "2022-05-25T12:25:56.945Z"
   },
   {
    "duration": 650,
    "start_time": "2022-05-25T12:25:56.978Z"
   },
   {
    "duration": 8,
    "start_time": "2022-05-25T12:26:33.484Z"
   },
   {
    "duration": 651,
    "start_time": "2022-05-25T12:26:33.537Z"
   },
   {
    "duration": 10,
    "start_time": "2022-05-25T12:26:42.747Z"
   },
   {
    "duration": 605,
    "start_time": "2022-05-25T12:26:46.216Z"
   },
   {
    "duration": 7,
    "start_time": "2022-05-25T12:27:38.699Z"
   },
   {
    "duration": 629,
    "start_time": "2022-05-25T12:27:38.733Z"
   },
   {
    "duration": 10,
    "start_time": "2022-05-25T12:28:23.619Z"
   },
   {
    "duration": 706,
    "start_time": "2022-05-25T12:28:26.265Z"
   },
   {
    "duration": 184,
    "start_time": "2022-05-25T12:30:21.167Z"
   },
   {
    "duration": 739,
    "start_time": "2022-05-25T12:30:21.353Z"
   },
   {
    "duration": 8,
    "start_time": "2022-05-25T12:30:37.049Z"
   },
   {
    "duration": 953,
    "start_time": "2022-05-25T12:30:39.237Z"
   },
   {
    "duration": 7,
    "start_time": "2022-05-25T12:30:51.658Z"
   },
   {
    "duration": 794,
    "start_time": "2022-05-25T12:30:53.846Z"
   },
   {
    "duration": 7,
    "start_time": "2022-05-25T12:32:26.003Z"
   },
   {
    "duration": 753,
    "start_time": "2022-05-25T12:32:28.050Z"
   },
   {
    "duration": 6,
    "start_time": "2022-05-25T12:32:52.472Z"
   },
   {
    "duration": 748,
    "start_time": "2022-05-25T12:32:52.598Z"
   },
   {
    "duration": 6,
    "start_time": "2022-05-25T12:33:12.472Z"
   },
   {
    "duration": 1185,
    "start_time": "2022-05-25T12:34:01.804Z"
   },
   {
    "duration": 78,
    "start_time": "2022-05-25T12:34:02.991Z"
   },
   {
    "duration": 16,
    "start_time": "2022-05-25T12:34:03.070Z"
   },
   {
    "duration": 39,
    "start_time": "2022-05-25T12:34:03.088Z"
   },
   {
    "duration": 39,
    "start_time": "2022-05-25T12:34:03.129Z"
   },
   {
    "duration": 5,
    "start_time": "2022-05-25T12:34:03.170Z"
   },
   {
    "duration": 26,
    "start_time": "2022-05-25T12:34:03.178Z"
   },
   {
    "duration": 30,
    "start_time": "2022-05-25T12:34:03.207Z"
   },
   {
    "duration": 31,
    "start_time": "2022-05-25T12:34:03.239Z"
   },
   {
    "duration": 21,
    "start_time": "2022-05-25T12:34:03.273Z"
   },
   {
    "duration": 5,
    "start_time": "2022-05-25T12:34:03.296Z"
   },
   {
    "duration": 24,
    "start_time": "2022-05-25T12:34:03.302Z"
   },
   {
    "duration": 5,
    "start_time": "2022-05-25T12:34:03.328Z"
   },
   {
    "duration": 12,
    "start_time": "2022-05-25T12:34:03.334Z"
   },
   {
    "duration": 7,
    "start_time": "2022-05-25T12:34:03.348Z"
   },
   {
    "duration": 9,
    "start_time": "2022-05-25T12:34:03.356Z"
   },
   {
    "duration": 4678,
    "start_time": "2022-05-25T12:34:03.367Z"
   },
   {
    "duration": 16,
    "start_time": "2022-05-25T12:34:08.047Z"
   },
   {
    "duration": 92,
    "start_time": "2022-05-25T12:34:08.065Z"
   },
   {
    "duration": 471,
    "start_time": "2022-05-25T12:34:08.159Z"
   },
   {
    "duration": 357,
    "start_time": "2022-05-25T12:34:08.631Z"
   },
   {
    "duration": 7,
    "start_time": "2022-05-25T12:34:08.990Z"
   },
   {
    "duration": 588,
    "start_time": "2022-05-25T12:34:08.998Z"
   },
   {
    "duration": 407,
    "start_time": "2022-05-25T12:34:09.588Z"
   },
   {
    "duration": 410,
    "start_time": "2022-05-25T12:34:09.996Z"
   },
   {
    "duration": 353,
    "start_time": "2022-05-25T12:34:10.407Z"
   },
   {
    "duration": 216,
    "start_time": "2022-05-25T12:34:10.762Z"
   },
   {
    "duration": 189,
    "start_time": "2022-05-25T12:34:10.981Z"
   },
   {
    "duration": 195,
    "start_time": "2022-05-25T12:34:11.172Z"
   },
   {
    "duration": 1048,
    "start_time": "2022-05-25T12:34:11.369Z"
   },
   {
    "duration": 36,
    "start_time": "2022-05-25T12:34:12.426Z"
   },
   {
    "duration": 15,
    "start_time": "2022-05-25T12:34:12.463Z"
   },
   {
    "duration": 369,
    "start_time": "2022-05-25T12:34:12.480Z"
   },
   {
    "duration": 411,
    "start_time": "2022-05-25T12:34:12.852Z"
   },
   {
    "duration": 7,
    "start_time": "2022-05-25T12:34:13.265Z"
   },
   {
    "duration": 750,
    "start_time": "2022-05-25T12:34:13.274Z"
   },
   {
    "duration": 785,
    "start_time": "2022-05-25T12:34:14.026Z"
   },
   {
    "duration": 750,
    "start_time": "2022-05-25T12:34:14.813Z"
   },
   {
    "duration": 19,
    "start_time": "2022-05-25T12:34:15.565Z"
   },
   {
    "duration": 14,
    "start_time": "2022-05-25T12:34:15.586Z"
   },
   {
    "duration": 33,
    "start_time": "2022-05-25T12:34:15.602Z"
   },
   {
    "duration": 21,
    "start_time": "2022-05-25T12:34:15.637Z"
   },
   {
    "duration": 7,
    "start_time": "2022-05-25T12:34:42.127Z"
   },
   {
    "duration": 723,
    "start_time": "2022-05-25T12:34:44.125Z"
   },
   {
    "duration": 717,
    "start_time": "2022-05-25T12:34:50.704Z"
   },
   {
    "duration": 905,
    "start_time": "2022-05-25T12:34:54.111Z"
   },
   {
    "duration": 19,
    "start_time": "2022-05-25T12:41:10.180Z"
   },
   {
    "duration": 7,
    "start_time": "2022-05-25T12:43:58.044Z"
   },
   {
    "duration": 464,
    "start_time": "2022-05-25T12:44:02.356Z"
   },
   {
    "duration": 6,
    "start_time": "2022-05-25T12:44:10.498Z"
   },
   {
    "duration": 701,
    "start_time": "2022-05-25T12:44:12.809Z"
   },
   {
    "duration": 216,
    "start_time": "2022-05-25T12:50:30.269Z"
   },
   {
    "duration": 31,
    "start_time": "2022-05-25T13:03:52.099Z"
   },
   {
    "duration": 31,
    "start_time": "2022-05-25T13:05:07.196Z"
   },
   {
    "duration": 238,
    "start_time": "2022-05-25T13:05:07.290Z"
   },
   {
    "duration": 38,
    "start_time": "2022-05-25T13:07:50.119Z"
   },
   {
    "duration": 1569,
    "start_time": "2022-05-26T12:56:35.755Z"
   },
   {
    "duration": 182,
    "start_time": "2022-05-26T12:56:37.328Z"
   },
   {
    "duration": 21,
    "start_time": "2022-05-26T12:56:37.513Z"
   },
   {
    "duration": 49,
    "start_time": "2022-05-26T12:56:37.538Z"
   },
   {
    "duration": 41,
    "start_time": "2022-05-26T12:56:37.591Z"
   },
   {
    "duration": 6,
    "start_time": "2022-05-26T12:56:37.634Z"
   },
   {
    "duration": 58,
    "start_time": "2022-05-26T12:56:37.642Z"
   },
   {
    "duration": 20,
    "start_time": "2022-05-26T12:56:37.703Z"
   },
   {
    "duration": 16,
    "start_time": "2022-05-26T12:56:37.725Z"
   },
   {
    "duration": 53,
    "start_time": "2022-05-26T12:56:37.744Z"
   },
   {
    "duration": 5,
    "start_time": "2022-05-26T12:56:37.799Z"
   },
   {
    "duration": 15,
    "start_time": "2022-05-26T12:56:37.805Z"
   },
   {
    "duration": 5,
    "start_time": "2022-05-26T12:56:37.822Z"
   },
   {
    "duration": 49,
    "start_time": "2022-05-26T12:56:37.829Z"
   },
   {
    "duration": 10,
    "start_time": "2022-05-26T12:56:37.881Z"
   },
   {
    "duration": 8,
    "start_time": "2022-05-26T12:56:37.894Z"
   },
   {
    "duration": 7,
    "start_time": "2022-05-26T12:56:37.904Z"
   },
   {
    "duration": 22,
    "start_time": "2022-05-26T12:56:37.913Z"
   },
   {
    "duration": 150,
    "start_time": "2022-05-26T12:56:37.937Z"
   },
   {
    "duration": 623,
    "start_time": "2022-05-26T12:56:38.089Z"
   },
   {
    "duration": 473,
    "start_time": "2022-05-26T12:56:38.715Z"
   },
   {
    "duration": 9,
    "start_time": "2022-05-26T12:56:39.191Z"
   },
   {
    "duration": 621,
    "start_time": "2022-05-26T12:56:39.202Z"
   },
   {
    "duration": 501,
    "start_time": "2022-05-26T12:56:39.826Z"
   },
   {
    "duration": 465,
    "start_time": "2022-05-26T12:56:40.329Z"
   },
   {
    "duration": 424,
    "start_time": "2022-05-26T12:56:40.795Z"
   },
   {
    "duration": 237,
    "start_time": "2022-05-26T12:56:41.221Z"
   },
   {
    "duration": 201,
    "start_time": "2022-05-26T12:56:41.464Z"
   },
   {
    "duration": 245,
    "start_time": "2022-05-26T12:56:41.668Z"
   },
   {
    "duration": 1316,
    "start_time": "2022-05-26T12:56:41.916Z"
   },
   {
    "duration": 52,
    "start_time": "2022-05-26T12:56:43.234Z"
   },
   {
    "duration": 21,
    "start_time": "2022-05-26T12:56:43.287Z"
   },
   {
    "duration": 450,
    "start_time": "2022-05-26T12:56:43.311Z"
   },
   {
    "duration": 465,
    "start_time": "2022-05-26T12:56:43.765Z"
   },
   {
    "duration": 7,
    "start_time": "2022-05-26T12:56:44.232Z"
   },
   {
    "duration": 899,
    "start_time": "2022-05-26T12:56:44.241Z"
   },
   {
    "duration": 883,
    "start_time": "2022-05-26T12:56:45.142Z"
   },
   {
    "duration": 921,
    "start_time": "2022-05-26T12:56:46.027Z"
   },
   {
    "duration": 31,
    "start_time": "2022-05-26T12:56:46.950Z"
   },
   {
    "duration": 12,
    "start_time": "2022-05-26T12:56:46.983Z"
   },
   {
    "duration": 30,
    "start_time": "2022-05-26T12:56:46.997Z"
   },
   {
    "duration": 30,
    "start_time": "2022-05-26T12:56:47.029Z"
   }
  ],
  "kernelspec": {
   "display_name": "Python 3 (ipykernel)",
   "language": "python",
   "name": "python3"
  },
  "language_info": {
   "codemirror_mode": {
    "name": "ipython",
    "version": 3
   },
   "file_extension": ".py",
   "mimetype": "text/x-python",
   "name": "python",
   "nbconvert_exporter": "python",
   "pygments_lexer": "ipython3",
   "version": "3.9.7"
  },
  "toc": {
   "base_numbering": "01",
   "nav_menu": {},
   "number_sections": true,
   "sideBar": true,
   "skip_h1_title": true,
   "title_cell": "Оглавление:",
   "title_sidebar": "Оглавление:",
   "toc_cell": true,
   "toc_position": {
    "height": "calc(100% - 180px)",
    "left": "10px",
    "top": "150px",
    "width": "244.25px"
   },
   "toc_section_display": true,
   "toc_window_display": true
  }
 },
 "nbformat": 4,
 "nbformat_minor": 2
}
