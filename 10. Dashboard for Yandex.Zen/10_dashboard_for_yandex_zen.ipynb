{
 "cells": [
  {
   "cell_type": "markdown",
   "id": "d13234dd",
   "metadata": {},
   "source": [
    "# Дашборд для Яндекс.Дзен."
   ]
  },
  {
   "cell_type": "markdown",
   "id": "e91010f8",
   "metadata": {
    "toc": true
   },
   "source": [
    "<h1>Оглавление:<span class=\"tocSkip\"></span></h1>\n",
    "<div class=\"toc\"><ul class=\"toc-item\"><li><ul class=\"toc-item\"><li><span><a href=\"#Техническое-задание:\" data-toc-modified-id=\"Техническое-задание:-0.1\"><span class=\"toc-item-num\">0.1&nbsp;&nbsp;</span>Техническое задание:</a></span></li><li><span><a href=\"#Вопросы-менеджеров:\" data-toc-modified-id=\"Вопросы-менеджеров:-0.2\"><span class=\"toc-item-num\">0.2&nbsp;&nbsp;</span>Вопросы менеджеров:</a></span></li></ul></li><li><span><a href=\"#Шаг-1.-Импортирую-необходимые-библиотеки,-открываю-файл-с-данными-и-изучаю-общую-информацию.\" data-toc-modified-id=\"Шаг-1.-Импортирую-необходимые-библиотеки,-открываю-файл-с-данными-и-изучаю-общую-информацию.-1\"><span class=\"toc-item-num\">1&nbsp;&nbsp;</span>Шаг 1. Импортирую необходимые библиотеки, открываю файл с данными и изучаю общую информацию.</a></span><ul class=\"toc-item\"><li><span><a href=\"#Подключаюсь-к-базе-данных.\" data-toc-modified-id=\"Подключаюсь-к-базе-данных.-1.1\"><span class=\"toc-item-num\">1.1&nbsp;&nbsp;</span>Подключаюсь к базе данных.</a></span></li><li><span><a href=\"#Пишу-SQL-запрос,-для-получения-всех-данных,-сохраняю-данные-в-dash_visits.\" data-toc-modified-id=\"Пишу-SQL-запрос,-для-получения-всех-данных,-сохраняю-данные-в-dash_visits.-1.2\"><span class=\"toc-item-num\">1.2&nbsp;&nbsp;</span>Пишу SQL-запрос, для получения всех данных, сохраняю данные в <code>dash_visits</code>.</a></span></li><li><span><a href=\"#Изучаю-общую-информацию.\" data-toc-modified-id=\"Изучаю-общую-информацию.-1.3\"><span class=\"toc-item-num\">1.3&nbsp;&nbsp;</span>Изучаю общую информацию.</a></span></li><li><span><a href=\"#Вывод:\" data-toc-modified-id=\"Вывод:-1.4\"><span class=\"toc-item-num\">1.4&nbsp;&nbsp;</span>Вывод:</a></span></li></ul></li><li><span><a href=\"#Шаг-2.-Сохраняю-датасет-в-CSV-файл.\" data-toc-modified-id=\"Шаг-2.-Сохраняю-датасет-в-CSV-файл.-2\"><span class=\"toc-item-num\">2&nbsp;&nbsp;</span>Шаг 2. Сохраняю датасет в CSV файл.</a></span></li><li><span><a href=\"#Общий-вывод:\" data-toc-modified-id=\"Общий-вывод:-3\"><span class=\"toc-item-num\">3&nbsp;&nbsp;</span>Общий вывод:</a></span></li></ul></div>"
   ]
  },
  {
   "cell_type": "markdown",
   "id": "afe8bd0c",
   "metadata": {},
   "source": [
    "### Техническое задание:\n",
    "\n",
    "- Бизнес-задача: анализ взаимодействия пользователей с карточками Яндекс.Дзен;\n",
    "- Насколько часто предполагается пользоваться дашбордом: не реже, чем раз в неделю;\n",
    "- Кто будет основным пользователем дашборда: менеджеры по анализу контента;\n",
    "\n",
    "- Состав данных для дашборда:\n",
    "    - История событий по темам карточек (два графика - абсолютные числа и процентное соотношение);\n",
    "    - Разбивка событий по темам источников;\n",
    "    - Таблица соответствия тем источников темам карточек;\n",
    "    \n",
    "- По каким параметрам данные должны группироваться:\n",
    "    - Дата и время;\n",
    "    - Тема карточки;\n",
    "    - Тема источника;\n",
    "    - Возрастная группа;\n",
    "    \n",
    "- Характер данных:\n",
    "    - История событий по темам карточек - абсолютные величины с разбивкой по минутам;\n",
    "    - Разбивка событий по темам источников - относительные величины (% событий);\n",
    "    - Соответствия тем источников темам карточек - абсолютные величины;\n",
    "    \n",
    "- Важность: все графики имеют равную важность;\n",
    "- Источники данных для дашборда: cырые данные о событиях взаимодействия пользователей с карточками (таблица `log_raw`);\n",
    "- База данных, в которой будут храниться агрегированные данные: дополнительные агрегированные таблицы в БД `zen`;\n",
    "- Частота обновления данных: один раз в сутки, в полночь по UTC;\n",
    "- Какие графики должны отображаться и в каком порядке, какие элементы управления должны быть на дашборде (уточнено при создании макета дашборда)."
   ]
  },
  {
   "cell_type": "markdown",
   "id": "d323a5c9",
   "metadata": {},
   "source": [
    "### Вопросы менеджеров:\n",
    "- Cколько взаимодействий пользователей с карточками происходит в системе с разбивкой по темам карточек?\n",
    "- Как много карточек генерируют источники с разными темами?\n",
    "- Как соотносятся темы карточек и темы источников?"
   ]
  },
  {
   "cell_type": "markdown",
   "id": "e1d1ce22",
   "metadata": {},
   "source": [
    "## Шаг 1. Импортирую необходимые библиотеки, открываю файл с данными и изучаю общую информацию."
   ]
  },
  {
   "cell_type": "code",
   "execution_count": 1,
   "id": "943e38b7",
   "metadata": {},
   "outputs": [],
   "source": [
    "import pandas as pd\n",
    "from sqlalchemy import create_engine\n",
    "import warnings\n",
    "warnings.filterwarnings('ignore')"
   ]
  },
  {
   "cell_type": "markdown",
   "id": "0df72a29",
   "metadata": {},
   "source": [
    "### Подключаюсь к базе данных."
   ]
  },
  {
   "cell_type": "code",
   "execution_count": 2,
   "id": "93ef9aff",
   "metadata": {},
   "outputs": [],
   "source": [
    "db_config = {\n",
    "    'user':'praktikum_student',\n",
    "    'pwd':'Sdf4$2;d-d30pp',\n",
    "    'host':'rc1b-wcoijxj3yxfsf3fs.mdb.yandexcloud.net',\n",
    "    'port':6432,\n",
    "    'db':'data-analyst-zen-project-db'\n",
    "} \n",
    "connection_string = 'postgresql://{}:{}@{}:{}/{}'.format(\n",
    "    db_config['user'],\n",
    "    db_config['pwd'],\n",
    "    db_config['host'],\n",
    "    db_config['port'],\n",
    "    db_config['db']\n",
    ")\n",
    "engine = create_engine(connection_string) "
   ]
  },
  {
   "cell_type": "markdown",
   "id": "adb4063b",
   "metadata": {},
   "source": [
    "### Пишу SQL-запрос, для получения всех данных, сохраняю данные в `dash_visits`."
   ]
  },
  {
   "cell_type": "code",
   "execution_count": 3,
   "id": "cccf5fed",
   "metadata": {},
   "outputs": [],
   "source": [
    "query = '''\n",
    "        SELECT *\n",
    "        FROM dash_visits\n",
    "        '''"
   ]
  },
  {
   "cell_type": "code",
   "execution_count": 4,
   "id": "d6a8c2d6",
   "metadata": {},
   "outputs": [],
   "source": [
    "dash_visits = pd.io.sql.read_sql(query, con = engine)"
   ]
  },
  {
   "cell_type": "markdown",
   "id": "cff10b09",
   "metadata": {},
   "source": [
    "### Изучаю общую информацию."
   ]
  },
  {
   "cell_type": "code",
   "execution_count": 5,
   "id": "eaa0f351",
   "metadata": {},
   "outputs": [],
   "source": [
    "def df_info(df):\n",
    "    display(df.head(3))\n",
    "    print('-' * 50)\n",
    "    df.info()\n",
    "    print('-' * 50)\n",
    "    display(df.describe(include = 'all'))\n",
    "    print('-' * 50)\n",
    "    print('Количество явных дубликатов:', df.duplicated().sum())"
   ]
  },
  {
   "cell_type": "code",
   "execution_count": 6,
   "id": "6d76aff7",
   "metadata": {},
   "outputs": [
    {
     "data": {
      "text/html": [
       "<div>\n",
       "<style scoped>\n",
       "    .dataframe tbody tr th:only-of-type {\n",
       "        vertical-align: middle;\n",
       "    }\n",
       "\n",
       "    .dataframe tbody tr th {\n",
       "        vertical-align: top;\n",
       "    }\n",
       "\n",
       "    .dataframe thead th {\n",
       "        text-align: right;\n",
       "    }\n",
       "</style>\n",
       "<table border=\"1\" class=\"dataframe\">\n",
       "  <thead>\n",
       "    <tr style=\"text-align: right;\">\n",
       "      <th></th>\n",
       "      <th>record_id</th>\n",
       "      <th>item_topic</th>\n",
       "      <th>source_topic</th>\n",
       "      <th>age_segment</th>\n",
       "      <th>dt</th>\n",
       "      <th>visits</th>\n",
       "    </tr>\n",
       "  </thead>\n",
       "  <tbody>\n",
       "    <tr>\n",
       "      <th>0</th>\n",
       "      <td>1040597</td>\n",
       "      <td>Деньги</td>\n",
       "      <td>Авто</td>\n",
       "      <td>18-25</td>\n",
       "      <td>2019-09-24 18:32:00</td>\n",
       "      <td>3</td>\n",
       "    </tr>\n",
       "    <tr>\n",
       "      <th>1</th>\n",
       "      <td>1040598</td>\n",
       "      <td>Деньги</td>\n",
       "      <td>Авто</td>\n",
       "      <td>18-25</td>\n",
       "      <td>2019-09-24 18:35:00</td>\n",
       "      <td>1</td>\n",
       "    </tr>\n",
       "    <tr>\n",
       "      <th>2</th>\n",
       "      <td>1040599</td>\n",
       "      <td>Деньги</td>\n",
       "      <td>Авто</td>\n",
       "      <td>18-25</td>\n",
       "      <td>2019-09-24 18:54:00</td>\n",
       "      <td>4</td>\n",
       "    </tr>\n",
       "  </tbody>\n",
       "</table>\n",
       "</div>"
      ],
      "text/plain": [
       "   record_id item_topic source_topic age_segment                  dt  visits\n",
       "0    1040597     Деньги         Авто       18-25 2019-09-24 18:32:00       3\n",
       "1    1040598     Деньги         Авто       18-25 2019-09-24 18:35:00       1\n",
       "2    1040599     Деньги         Авто       18-25 2019-09-24 18:54:00       4"
      ]
     },
     "metadata": {},
     "output_type": "display_data"
    },
    {
     "name": "stdout",
     "output_type": "stream",
     "text": [
      "--------------------------------------------------\n",
      "<class 'pandas.core.frame.DataFrame'>\n",
      "RangeIndex: 30745 entries, 0 to 30744\n",
      "Data columns (total 6 columns):\n",
      " #   Column        Non-Null Count  Dtype         \n",
      "---  ------        --------------  -----         \n",
      " 0   record_id     30745 non-null  int64         \n",
      " 1   item_topic    30745 non-null  object        \n",
      " 2   source_topic  30745 non-null  object        \n",
      " 3   age_segment   30745 non-null  object        \n",
      " 4   dt            30745 non-null  datetime64[ns]\n",
      " 5   visits        30745 non-null  int64         \n",
      "dtypes: datetime64[ns](1), int64(2), object(3)\n",
      "memory usage: 1.4+ MB\n",
      "--------------------------------------------------\n"
     ]
    },
    {
     "data": {
      "text/html": [
       "<div>\n",
       "<style scoped>\n",
       "    .dataframe tbody tr th:only-of-type {\n",
       "        vertical-align: middle;\n",
       "    }\n",
       "\n",
       "    .dataframe tbody tr th {\n",
       "        vertical-align: top;\n",
       "    }\n",
       "\n",
       "    .dataframe thead th {\n",
       "        text-align: right;\n",
       "    }\n",
       "</style>\n",
       "<table border=\"1\" class=\"dataframe\">\n",
       "  <thead>\n",
       "    <tr style=\"text-align: right;\">\n",
       "      <th></th>\n",
       "      <th>record_id</th>\n",
       "      <th>item_topic</th>\n",
       "      <th>source_topic</th>\n",
       "      <th>age_segment</th>\n",
       "      <th>dt</th>\n",
       "      <th>visits</th>\n",
       "    </tr>\n",
       "  </thead>\n",
       "  <tbody>\n",
       "    <tr>\n",
       "      <th>count</th>\n",
       "      <td>3.074500e+04</td>\n",
       "      <td>30745</td>\n",
       "      <td>30745</td>\n",
       "      <td>30745</td>\n",
       "      <td>30745</td>\n",
       "      <td>30745.000000</td>\n",
       "    </tr>\n",
       "    <tr>\n",
       "      <th>unique</th>\n",
       "      <td>NaN</td>\n",
       "      <td>25</td>\n",
       "      <td>26</td>\n",
       "      <td>6</td>\n",
       "      <td>17</td>\n",
       "      <td>NaN</td>\n",
       "    </tr>\n",
       "    <tr>\n",
       "      <th>top</th>\n",
       "      <td>NaN</td>\n",
       "      <td>Отношения</td>\n",
       "      <td>Семейные отношения</td>\n",
       "      <td>18-25</td>\n",
       "      <td>2019-09-24 18:58:00</td>\n",
       "      <td>NaN</td>\n",
       "    </tr>\n",
       "    <tr>\n",
       "      <th>freq</th>\n",
       "      <td>NaN</td>\n",
       "      <td>1536</td>\n",
       "      <td>1822</td>\n",
       "      <td>7056</td>\n",
       "      <td>3383</td>\n",
       "      <td>NaN</td>\n",
       "    </tr>\n",
       "    <tr>\n",
       "      <th>first</th>\n",
       "      <td>NaN</td>\n",
       "      <td>NaN</td>\n",
       "      <td>NaN</td>\n",
       "      <td>NaN</td>\n",
       "      <td>2019-09-24 18:28:00</td>\n",
       "      <td>NaN</td>\n",
       "    </tr>\n",
       "    <tr>\n",
       "      <th>last</th>\n",
       "      <td>NaN</td>\n",
       "      <td>NaN</td>\n",
       "      <td>NaN</td>\n",
       "      <td>NaN</td>\n",
       "      <td>2019-09-24 19:00:00</td>\n",
       "      <td>NaN</td>\n",
       "    </tr>\n",
       "    <tr>\n",
       "      <th>mean</th>\n",
       "      <td>1.055969e+06</td>\n",
       "      <td>NaN</td>\n",
       "      <td>NaN</td>\n",
       "      <td>NaN</td>\n",
       "      <td>NaN</td>\n",
       "      <td>10.089673</td>\n",
       "    </tr>\n",
       "    <tr>\n",
       "      <th>std</th>\n",
       "      <td>8.875461e+03</td>\n",
       "      <td>NaN</td>\n",
       "      <td>NaN</td>\n",
       "      <td>NaN</td>\n",
       "      <td>NaN</td>\n",
       "      <td>19.727601</td>\n",
       "    </tr>\n",
       "    <tr>\n",
       "      <th>min</th>\n",
       "      <td>1.040597e+06</td>\n",
       "      <td>NaN</td>\n",
       "      <td>NaN</td>\n",
       "      <td>NaN</td>\n",
       "      <td>NaN</td>\n",
       "      <td>1.000000</td>\n",
       "    </tr>\n",
       "    <tr>\n",
       "      <th>25%</th>\n",
       "      <td>1.048283e+06</td>\n",
       "      <td>NaN</td>\n",
       "      <td>NaN</td>\n",
       "      <td>NaN</td>\n",
       "      <td>NaN</td>\n",
       "      <td>1.000000</td>\n",
       "    </tr>\n",
       "    <tr>\n",
       "      <th>50%</th>\n",
       "      <td>1.055969e+06</td>\n",
       "      <td>NaN</td>\n",
       "      <td>NaN</td>\n",
       "      <td>NaN</td>\n",
       "      <td>NaN</td>\n",
       "      <td>3.000000</td>\n",
       "    </tr>\n",
       "    <tr>\n",
       "      <th>75%</th>\n",
       "      <td>1.063655e+06</td>\n",
       "      <td>NaN</td>\n",
       "      <td>NaN</td>\n",
       "      <td>NaN</td>\n",
       "      <td>NaN</td>\n",
       "      <td>10.000000</td>\n",
       "    </tr>\n",
       "    <tr>\n",
       "      <th>max</th>\n",
       "      <td>1.071341e+06</td>\n",
       "      <td>NaN</td>\n",
       "      <td>NaN</td>\n",
       "      <td>NaN</td>\n",
       "      <td>NaN</td>\n",
       "      <td>371.000000</td>\n",
       "    </tr>\n",
       "  </tbody>\n",
       "</table>\n",
       "</div>"
      ],
      "text/plain": [
       "           record_id item_topic        source_topic age_segment  \\\n",
       "count   3.074500e+04      30745               30745       30745   \n",
       "unique           NaN         25                  26           6   \n",
       "top              NaN  Отношения  Семейные отношения       18-25   \n",
       "freq             NaN       1536                1822        7056   \n",
       "first            NaN        NaN                 NaN         NaN   \n",
       "last             NaN        NaN                 NaN         NaN   \n",
       "mean    1.055969e+06        NaN                 NaN         NaN   \n",
       "std     8.875461e+03        NaN                 NaN         NaN   \n",
       "min     1.040597e+06        NaN                 NaN         NaN   \n",
       "25%     1.048283e+06        NaN                 NaN         NaN   \n",
       "50%     1.055969e+06        NaN                 NaN         NaN   \n",
       "75%     1.063655e+06        NaN                 NaN         NaN   \n",
       "max     1.071341e+06        NaN                 NaN         NaN   \n",
       "\n",
       "                         dt        visits  \n",
       "count                 30745  30745.000000  \n",
       "unique                   17           NaN  \n",
       "top     2019-09-24 18:58:00           NaN  \n",
       "freq                   3383           NaN  \n",
       "first   2019-09-24 18:28:00           NaN  \n",
       "last    2019-09-24 19:00:00           NaN  \n",
       "mean                    NaN     10.089673  \n",
       "std                     NaN     19.727601  \n",
       "min                     NaN      1.000000  \n",
       "25%                     NaN      1.000000  \n",
       "50%                     NaN      3.000000  \n",
       "75%                     NaN     10.000000  \n",
       "max                     NaN    371.000000  "
      ]
     },
     "metadata": {},
     "output_type": "display_data"
    },
    {
     "name": "stdout",
     "output_type": "stream",
     "text": [
      "--------------------------------------------------\n",
      "Количество явных дубликатов: 0\n"
     ]
    }
   ],
   "source": [
    "df_info(dash_visits)"
   ]
  },
  {
   "cell_type": "markdown",
   "id": "77f699ad",
   "metadata": {},
   "source": [
    "### Вывод:\n",
    "Данные прекрасны, пропусков и дубликатов нет, типы данных столбцов соответствуют содержимому.\n",
    "## Шаг 2. Сохраняю датасет в CSV файл."
   ]
  },
  {
   "cell_type": "code",
   "execution_count": 7,
   "id": "d4a66daa",
   "metadata": {},
   "outputs": [],
   "source": [
    "dash_visits.to_csv('dash_visits.csv')"
   ]
  },
  {
   "attachments": {},
   "cell_type": "markdown",
   "id": "4aa72f5b",
   "metadata": {},
   "source": [
    "## Общий вывод:\n",
    "Работу над этим проектом я провел на удаленной машине в сервисе Yandex.Cloud. Мной был установлен PostgreSQL и развернута база данных. Затем я написал скрипт пайплайна, который позволил собирать данные за определенный временной период, и настроил его автономную работу через crontab. Для визуализации собранных данных я написал скрипт дашборда с несколькими фильтрами и также запустил его на удаленной машине. По результатам была подготовлена презентация с полученными графиками. \n",
    "***\n",
    "Всего, за изучаемый период, в системе с разбивкой по темам карточек происходит **310207** взаимодействий пользователей с карточками.\n",
    "\n",
    "Больше всего посещений у следующих тем источников:\n",
    "- `Семейные отношения` – **33309**;\n",
    "- `Россия` - **29831**;\n",
    "- `Полезные советы` - **27412**;\n",
    "- `Путешествия` - **24124**;\n",
    "- `Знаменитости` - **23945**;\n",
    "- `Кино` - **20084**;\n",
    "- `Дети` – **15243**.\n",
    "\n",
    "Составить топ тем карточек на каждую конкретную минуту с разбивками по темам и возрастным группам, можно используя необходимые фильтры в самом дашборде:\n",
    "\n",
    "[Дашборд](https://public.tableau.com/app/profile/evgeny.babaevsky/viz/Dashbord_for_Yandeks_Dzen/Dashboard1?publish=yes), [Презентация](https://disk.yandex.ru/i/waZRx9l2AeX0zw)."
   ]
  }
 ],
 "metadata": {
  "kernelspec": {
   "display_name": "Python 3 (ipykernel)",
   "language": "python",
   "name": "python3"
  },
  "language_info": {
   "codemirror_mode": {
    "name": "ipython",
    "version": 3
   },
   "file_extension": ".py",
   "mimetype": "text/x-python",
   "name": "python",
   "nbconvert_exporter": "python",
   "pygments_lexer": "ipython3",
   "version": "3.9.7"
  },
  "toc": {
   "base_numbering": 1,
   "nav_menu": {},
   "number_sections": true,
   "sideBar": true,
   "skip_h1_title": true,
   "title_cell": "Оглавление:",
   "title_sidebar": "Оглавление:",
   "toc_cell": true,
   "toc_position": {},
   "toc_section_display": true,
   "toc_window_display": true
  }
 },
 "nbformat": 4,
 "nbformat_minor": 5
}
