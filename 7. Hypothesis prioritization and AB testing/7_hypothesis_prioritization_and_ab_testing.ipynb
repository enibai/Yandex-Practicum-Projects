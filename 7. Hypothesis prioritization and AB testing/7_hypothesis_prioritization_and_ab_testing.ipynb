{
 "cells": [
  {
   "cell_type": "markdown",
   "id": "fc4dea66",
   "metadata": {},
   "source": [
    "# Приоритизация гипотез и A/B-тестирование."
   ]
  },
  {
   "cell_type": "markdown",
   "id": "f1cefbb6",
   "metadata": {
    "toc": true
   },
   "source": [
    "<h1>Оглавление:<span class=\"tocSkip\"></span></h1>\n",
    "<div class=\"toc\"><ul class=\"toc-item\"><li><ul class=\"toc-item\"><li><span><a href=\"#Описание-проекта:\" data-toc-modified-id=\"Описание-проекта:-0.1\"><span class=\"toc-item-num\">0.1&nbsp;&nbsp;</span>Описание проекта:</a></span></li><li><span><a href=\"#Описание-данных:\" data-toc-modified-id=\"Описание-данных:-0.2\"><span class=\"toc-item-num\">0.2&nbsp;&nbsp;</span>Описание данных:</a></span><ul class=\"toc-item\"><li><span><a href=\"#Данные-для-первой-части:\" data-toc-modified-id=\"Данные-для-первой-части:-0.2.1\"><span class=\"toc-item-num\">0.2.1&nbsp;&nbsp;</span>Данные для первой части:</a></span></li><li><span><a href=\"#Данные-для-второй-части:\" data-toc-modified-id=\"Данные-для-второй-части:-0.2.2\"><span class=\"toc-item-num\">0.2.2&nbsp;&nbsp;</span>Данные для второй части:</a></span></li></ul></li></ul></li><li><span><a href=\"#Шаг-1.-Импортирую-необходимые-библиотеки,-открываю-файлы-с-данными-и-изучаю-общую-информацию.\" data-toc-modified-id=\"Шаг-1.-Импортирую-необходимые-библиотеки,-открываю-файлы-с-данными-и-изучаю-общую-информацию.-1\"><span class=\"toc-item-num\">1&nbsp;&nbsp;</span>Шаг 1. Импортирую необходимые библиотеки, открываю файлы с данными и изучаю общую информацию.</a></span><ul class=\"toc-item\"><li><span><a href=\"#Исправляю-стиль-в-заголовках-столбцов.\" data-toc-modified-id=\"Исправляю-стиль-в-заголовках-столбцов.-1.1\"><span class=\"toc-item-num\">1.1&nbsp;&nbsp;</span>Исправляю стиль в заголовках столбцов.</a></span></li></ul></li><li><span><a href=\"#Шаг-2.-Приоритизация-гипотез.\" data-toc-modified-id=\"Шаг-2.-Приоритизация-гипотез.-2\"><span class=\"toc-item-num\">2&nbsp;&nbsp;</span>Шаг 2. Приоритизация гипотез.</a></span><ul class=\"toc-item\"><li><span><a href=\"#Применяю-фреймворк-ICE-для-приоритизации-гипотез.-Сортирую-их-по-убыванию-приоритета.\" data-toc-modified-id=\"Применяю-фреймворк-ICE-для-приоритизации-гипотез.-Сортирую-их-по-убыванию-приоритета.-2.1\"><span class=\"toc-item-num\">2.1&nbsp;&nbsp;</span>Применяю фреймворк <code>ICE</code> для приоритизации гипотез. Сортирую их по убыванию приоритета.</a></span></li><li><span><a href=\"#Применяю-фреймворк-RICE-для-приоритизации-гипотез.-Cортирую-их-по-убыванию-приоритета.\" data-toc-modified-id=\"Применяю-фреймворк-RICE-для-приоритизации-гипотез.-Cортирую-их-по-убыванию-приоритета.-2.2\"><span class=\"toc-item-num\">2.2&nbsp;&nbsp;</span>Применяю фреймворк <code>RICE</code> для приоритизации гипотез. Cортирую их по убыванию приоритета.</a></span></li></ul></li><li><span><a href=\"#Шаг-3.-Анализ-A/B-теста.\" data-toc-modified-id=\"Шаг-3.-Анализ-A/B-теста.-3\"><span class=\"toc-item-num\">3&nbsp;&nbsp;</span>Шаг 3. Анализ A/B-теста.</a></span><ul class=\"toc-item\"><li><span><a href=\"#Считаю-количество-посещений-в-каждой-группе.\" data-toc-modified-id=\"Считаю-количество-посещений-в-каждой-группе.-3.1\"><span class=\"toc-item-num\">3.1&nbsp;&nbsp;</span>Считаю количество посещений в каждой группе.</a></span></li><li><span><a href=\"#Считаю-количество-заказов-в-каждой-группе.\" data-toc-modified-id=\"Считаю-количество-заказов-в-каждой-группе.-3.2\"><span class=\"toc-item-num\">3.2&nbsp;&nbsp;</span>Считаю количество заказов в каждой группе.</a></span></li><li><span><a href=\"#Проверяю,-есть-ли-пользователи,-которые-попали-в-обе-группы.\" data-toc-modified-id=\"Проверяю,-есть-ли-пользователи,-которые-попали-в-обе-группы.-3.3\"><span class=\"toc-item-num\">3.3&nbsp;&nbsp;</span>Проверяю, есть ли пользователи, которые попали в обе группы.</a></span></li><li><span><a href=\"#Подготавливаю-таблицу-с-куммулятивными-данными-по-выручке-и-посещениям.\" data-toc-modified-id=\"Подготавливаю-таблицу-с-куммулятивными-данными-по-выручке-и-посещениям.-3.4\"><span class=\"toc-item-num\">3.4&nbsp;&nbsp;</span>Подготавливаю таблицу с куммулятивными данными по выручке и посещениям.</a></span></li><li><span><a href=\"#Строю-график-кумулятивной-выручки-по-группам.\" data-toc-modified-id=\"Строю-график-кумулятивной-выручки-по-группам.-3.5\"><span class=\"toc-item-num\">3.5&nbsp;&nbsp;</span>Строю график кумулятивной выручки по группам.</a></span></li><li><span><a href=\"#Строю-график-кумулятивного-среднего-чека-по-группам.\" data-toc-modified-id=\"Строю-график-кумулятивного-среднего-чека-по-группам.-3.6\"><span class=\"toc-item-num\">3.6&nbsp;&nbsp;</span>Строю график кумулятивного среднего чека по группам.</a></span></li><li><span><a href=\"#Подготавливаю-таблицу-для-графика-относительного-изменения-кумулятивного-среднего-чека-группы-B-к-группе-A.\" data-toc-modified-id=\"Подготавливаю-таблицу-для-графика-относительного-изменения-кумулятивного-среднего-чека-группы-B-к-группе-A.-3.7\"><span class=\"toc-item-num\">3.7&nbsp;&nbsp;</span>Подготавливаю таблицу для графика относительного изменения кумулятивного среднего чека группы <code>B</code> к группе <code>A</code>.</a></span></li><li><span><a href=\"#Строю-график-относительного-изменения-кумулятивного-среднего-чека-группы-B-к-группе-A.\" data-toc-modified-id=\"Строю-график-относительного-изменения-кумулятивного-среднего-чека-группы-B-к-группе-A.-3.8\"><span class=\"toc-item-num\">3.8&nbsp;&nbsp;</span>Строю график относительного изменения кумулятивного среднего чека группы <code>B</code> к группе <code>A</code>.</a></span></li><li><span><a href=\"#Строю-график-кумулятивной-конверсии-по-группам.\" data-toc-modified-id=\"Строю-график-кумулятивной-конверсии-по-группам.-3.9\"><span class=\"toc-item-num\">3.9&nbsp;&nbsp;</span>Строю график кумулятивной конверсии по группам.</a></span></li><li><span><a href=\"#Строю-график-относительного-изменения-кумулятивной-конверсии-группы-B-к-группе-A.\" data-toc-modified-id=\"Строю-график-относительного-изменения-кумулятивной-конверсии-группы-B-к-группе-A.-3.10\"><span class=\"toc-item-num\">3.10&nbsp;&nbsp;</span>Строю график относительного изменения кумулятивной конверсии группы <code>B</code> к группе <code>A</code>.</a></span></li><li><span><a href=\"#Строю-точечный-график-количества-заказов-по-пользователям.\" data-toc-modified-id=\"Строю-точечный-график-количества-заказов-по-пользователям.-3.11\"><span class=\"toc-item-num\">3.11&nbsp;&nbsp;</span>Строю точечный график количества заказов по пользователям.</a></span></li><li><span><a href=\"#Считаю-95-й-и-99-й-перцентили-стоимости-заказов.\" data-toc-modified-id=\"Считаю-95-й-и-99-й-перцентили-стоимости-заказов.-3.12\"><span class=\"toc-item-num\">3.12&nbsp;&nbsp;</span>Считаю <code>95-й</code> и <code>99-й</code> перцентили стоимости заказов.</a></span></li><li><span><a href=\"#Строю-точечный-график-количества-заказов-на-пользователя.\" data-toc-modified-id=\"Строю-точечный-график-количества-заказов-на-пользователя.-3.13\"><span class=\"toc-item-num\">3.13&nbsp;&nbsp;</span>Строю точечный график количества заказов на пользователя.</a></span></li><li><span><a href=\"#Считаю-95-й-и-99-й-перцентили-количества-заказов-на-пользователя.\" data-toc-modified-id=\"Считаю-95-й-и-99-й-перцентили-количества-заказов-на-пользователя.-3.14\"><span class=\"toc-item-num\">3.14&nbsp;&nbsp;</span>Считаю <code>95-й</code> и <code>99-й</code> перцентили количества заказов на пользователя.</a></span></li><li><span><a href=\"#Считаю-статистическую-значимость-различий-в-конверсии-между-группами-по-«сырым»-данным.\" data-toc-modified-id=\"Считаю-статистическую-значимость-различий-в-конверсии-между-группами-по-«сырым»-данным.-3.15\"><span class=\"toc-item-num\">3.15&nbsp;&nbsp;</span>Считаю статистическую значимость различий в конверсии между группами по «сырым» данным.</a></span></li><li><span><a href=\"#Считаю-статистическую-значимость-различий-в-среднем-чеке-заказа-между-группами-по-«сырым»-данным.\" data-toc-modified-id=\"Считаю-статистическую-значимость-различий-в-среднем-чеке-заказа-между-группами-по-«сырым»-данным.-3.16\"><span class=\"toc-item-num\">3.16&nbsp;&nbsp;</span>Считаю статистическую значимость различий в среднем чеке заказа между группами по «сырым» данным.</a></span></li><li><span><a href=\"#Считаю-статистическую-значимость-различий-в-конверсии-между-группами-по-«очищенным»-данным.\" data-toc-modified-id=\"Считаю-статистическую-значимость-различий-в-конверсии-между-группами-по-«очищенным»-данным.-3.17\"><span class=\"toc-item-num\">3.17&nbsp;&nbsp;</span>Считаю статистическую значимость различий в конверсии между группами по «очищенным» данным.</a></span></li><li><span><a href=\"#Считаю-статистическую-значимость-различий-в-среднем-чеке-заказа-между-группами-по-«очищенным»-данным.\" data-toc-modified-id=\"Считаю-статистическую-значимость-различий-в-среднем-чеке-заказа-между-группами-по-«очищенным»-данным.-3.18\"><span class=\"toc-item-num\">3.18&nbsp;&nbsp;</span>Считаю статистическую значимость различий в среднем чеке заказа между группами по «очищенным» данным.</a></span></li><li><span><a href=\"#Подготавливаю-таблицу-с-куммулятивными-данными-по-выручке-по-очищенным-данным.\" data-toc-modified-id=\"Подготавливаю-таблицу-с-куммулятивными-данными-по-выручке-по-очищенным-данным.-3.19\"><span class=\"toc-item-num\">3.19&nbsp;&nbsp;</span>Подготавливаю таблицу с куммулятивными данными по выручке по очищенным данным.</a></span></li><li><span><a href=\"#Строю-график-кумулятивной-выручки-по-группам-по-очищенным-данным.\" data-toc-modified-id=\"Строю-график-кумулятивной-выручки-по-группам-по-очищенным-данным.-3.20\"><span class=\"toc-item-num\">3.20&nbsp;&nbsp;</span>Строю график кумулятивной выручки по группам по очищенным данным.</a></span></li></ul></li><li><span><a href=\"#Общий-вывод:\" data-toc-modified-id=\"Общий-вывод:-4\"><span class=\"toc-item-num\">4&nbsp;&nbsp;</span>Общий вывод:</a></span></li></ul></div>"
   ]
  },
  {
   "cell_type": "markdown",
   "id": "cbea61f0",
   "metadata": {},
   "source": [
    "### Описание проекта:\n",
    "Заказчик - крупный интернет-магазина. Вместе с отделом маркетинга необходимо подготовить список гипотез для увеличения выручки.\n",
    "Приоритизировать их, запустить A/B-тест и проанализировать результаты.\n",
    "\n",
    "### Описание данных:\n",
    "#### Данные для первой части:\n",
    "Датасет `hypothesis` содержит:\n",
    "- **`Hypothesis`** - краткое описание гипотезы;\n",
    "- **`Reach`** - охват пользователей по 10-балльной шкале;\n",
    "- **`Impact`** - влияние на пользователей по 10-балльной шкале;\n",
    "- **`Confidence`** - уверенность в гипотезе по 10-балльной шкале;\n",
    "- **`Efforts`** - затраты ресурсов на проверку гипотезы по 10-балльной шкале. Чем больше значение Efforts, тем дороже проверка гипотезы.\n",
    "\n",
    "#### Данные для второй части:\n",
    "Датасет `orders` содержит:\n",
    "- **`transactionId`** - идентификатор заказа;\n",
    "- **`visitorId`** - идентификатор пользователя, совершившего заказ;\n",
    "- **`date`** - дата, когда был совершён заказ;\n",
    "- **`revenue`** - выручка заказа;\n",
    "- **`group`** - группа A/B-теста, в которую попал заказ.\n",
    "\n",
    "Датасет `visitors` содержит:\n",
    "- **`date`** - дата;\n",
    "- **`group`** - группа A/B-теста;\n",
    "- **`visitors`** - количество пользователей в указанную дату в указанной группе A/B-теста"
   ]
  },
  {
   "cell_type": "markdown",
   "id": "14d86141",
   "metadata": {},
   "source": [
    "## Шаг 1. Импортирую необходимые библиотеки, открываю файлы с данными и изучаю общую информацию."
   ]
  },
  {
   "cell_type": "code",
   "execution_count": 1,
   "id": "a93fe3cf",
   "metadata": {},
   "outputs": [],
   "source": [
    "import pandas as pd\n",
    "import matplotlib.pyplot as plt\n",
    "import math as mth\n",
    "import seaborn as sns\n",
    "from scipy import stats as st\n",
    "import numpy as np \n",
    "import datetime as dt\n",
    "import warnings\n",
    "warnings.filterwarnings('ignore')\n",
    "pd.set_option('display.max_columns', None)\n",
    "pd.options.display.max_colwidth = 150  "
   ]
  },
  {
   "cell_type": "code",
   "execution_count": 2,
   "id": "4f8b960f",
   "metadata": {},
   "outputs": [],
   "source": [
    "hypothesis, orders, visitors = (\n",
    "    pd.read_csv('/datasets/hypothesis.csv'),\n",
    "    pd.read_csv('/datasets/orders.csv', parse_dates = ['date']),\n",
    "    pd.read_csv('/datasets/visitors.csv', parse_dates = ['date'])\n",
    ")"
   ]
  },
  {
   "cell_type": "code",
   "execution_count": 3,
   "id": "a3d5b3ad",
   "metadata": {},
   "outputs": [],
   "source": [
    "def df_info(df):\n",
    "    display(df.head(3))\n",
    "    print('-' * 50)\n",
    "    df.info()\n",
    "    print('-' * 50)\n",
    "    display(df.describe(include = 'all'))\n",
    "    print('-' * 50)\n",
    "    print('Количество явных дубликатов:', df.duplicated().sum())"
   ]
  },
  {
   "cell_type": "code",
   "execution_count": 4,
   "id": "530131bc",
   "metadata": {},
   "outputs": [
    {
     "data": {
      "text/html": [
       "<div>\n",
       "<style scoped>\n",
       "    .dataframe tbody tr th:only-of-type {\n",
       "        vertical-align: middle;\n",
       "    }\n",
       "\n",
       "    .dataframe tbody tr th {\n",
       "        vertical-align: top;\n",
       "    }\n",
       "\n",
       "    .dataframe thead th {\n",
       "        text-align: right;\n",
       "    }\n",
       "</style>\n",
       "<table border=\"1\" class=\"dataframe\">\n",
       "  <thead>\n",
       "    <tr style=\"text-align: right;\">\n",
       "      <th></th>\n",
       "      <th>Hypothesis</th>\n",
       "      <th>Reach</th>\n",
       "      <th>Impact</th>\n",
       "      <th>Confidence</th>\n",
       "      <th>Efforts</th>\n",
       "    </tr>\n",
       "  </thead>\n",
       "  <tbody>\n",
       "    <tr>\n",
       "      <th>0</th>\n",
       "      <td>Добавить два новых канала привлечения трафика, что позволит привлекать на 30% больше пользователей</td>\n",
       "      <td>3</td>\n",
       "      <td>10</td>\n",
       "      <td>8</td>\n",
       "      <td>6</td>\n",
       "    </tr>\n",
       "    <tr>\n",
       "      <th>1</th>\n",
       "      <td>Запустить собственную службу доставки, что сократит срок доставки заказов</td>\n",
       "      <td>2</td>\n",
       "      <td>5</td>\n",
       "      <td>4</td>\n",
       "      <td>10</td>\n",
       "    </tr>\n",
       "    <tr>\n",
       "      <th>2</th>\n",
       "      <td>Добавить блоки рекомендаций товаров на сайт интернет магазина, чтобы повысить конверсию и средний чек заказа</td>\n",
       "      <td>8</td>\n",
       "      <td>3</td>\n",
       "      <td>7</td>\n",
       "      <td>3</td>\n",
       "    </tr>\n",
       "  </tbody>\n",
       "</table>\n",
       "</div>"
      ],
      "text/plain": [
       "                                                                                                     Hypothesis  \\\n",
       "0            Добавить два новых канала привлечения трафика, что позволит привлекать на 30% больше пользователей   \n",
       "1                                     Запустить собственную службу доставки, что сократит срок доставки заказов   \n",
       "2  Добавить блоки рекомендаций товаров на сайт интернет магазина, чтобы повысить конверсию и средний чек заказа   \n",
       "\n",
       "   Reach  Impact  Confidence  Efforts  \n",
       "0      3      10           8        6  \n",
       "1      2       5           4       10  \n",
       "2      8       3           7        3  "
      ]
     },
     "metadata": {},
     "output_type": "display_data"
    },
    {
     "name": "stdout",
     "output_type": "stream",
     "text": [
      "--------------------------------------------------\n",
      "<class 'pandas.core.frame.DataFrame'>\n",
      "RangeIndex: 9 entries, 0 to 8\n",
      "Data columns (total 5 columns):\n",
      " #   Column      Non-Null Count  Dtype \n",
      "---  ------      --------------  ----- \n",
      " 0   Hypothesis  9 non-null      object\n",
      " 1   Reach       9 non-null      int64 \n",
      " 2   Impact      9 non-null      int64 \n",
      " 3   Confidence  9 non-null      int64 \n",
      " 4   Efforts     9 non-null      int64 \n",
      "dtypes: int64(4), object(1)\n",
      "memory usage: 488.0+ bytes\n",
      "--------------------------------------------------\n"
     ]
    },
    {
     "data": {
      "text/html": [
       "<div>\n",
       "<style scoped>\n",
       "    .dataframe tbody tr th:only-of-type {\n",
       "        vertical-align: middle;\n",
       "    }\n",
       "\n",
       "    .dataframe tbody tr th {\n",
       "        vertical-align: top;\n",
       "    }\n",
       "\n",
       "    .dataframe thead th {\n",
       "        text-align: right;\n",
       "    }\n",
       "</style>\n",
       "<table border=\"1\" class=\"dataframe\">\n",
       "  <thead>\n",
       "    <tr style=\"text-align: right;\">\n",
       "      <th></th>\n",
       "      <th>Hypothesis</th>\n",
       "      <th>Reach</th>\n",
       "      <th>Impact</th>\n",
       "      <th>Confidence</th>\n",
       "      <th>Efforts</th>\n",
       "    </tr>\n",
       "  </thead>\n",
       "  <tbody>\n",
       "    <tr>\n",
       "      <th>count</th>\n",
       "      <td>9</td>\n",
       "      <td>9.000000</td>\n",
       "      <td>9.000000</td>\n",
       "      <td>9.000000</td>\n",
       "      <td>9.000000</td>\n",
       "    </tr>\n",
       "    <tr>\n",
       "      <th>unique</th>\n",
       "      <td>9</td>\n",
       "      <td>NaN</td>\n",
       "      <td>NaN</td>\n",
       "      <td>NaN</td>\n",
       "      <td>NaN</td>\n",
       "    </tr>\n",
       "    <tr>\n",
       "      <th>top</th>\n",
       "      <td>Добавить два новых канала привлечения трафика, что позволит привлекать на 30% больше пользователей</td>\n",
       "      <td>NaN</td>\n",
       "      <td>NaN</td>\n",
       "      <td>NaN</td>\n",
       "      <td>NaN</td>\n",
       "    </tr>\n",
       "    <tr>\n",
       "      <th>freq</th>\n",
       "      <td>1</td>\n",
       "      <td>NaN</td>\n",
       "      <td>NaN</td>\n",
       "      <td>NaN</td>\n",
       "      <td>NaN</td>\n",
       "    </tr>\n",
       "    <tr>\n",
       "      <th>mean</th>\n",
       "      <td>NaN</td>\n",
       "      <td>4.777778</td>\n",
       "      <td>4.777778</td>\n",
       "      <td>5.555556</td>\n",
       "      <td>4.888889</td>\n",
       "    </tr>\n",
       "    <tr>\n",
       "      <th>std</th>\n",
       "      <td>NaN</td>\n",
       "      <td>3.153481</td>\n",
       "      <td>3.192874</td>\n",
       "      <td>3.045944</td>\n",
       "      <td>2.803767</td>\n",
       "    </tr>\n",
       "    <tr>\n",
       "      <th>min</th>\n",
       "      <td>NaN</td>\n",
       "      <td>1.000000</td>\n",
       "      <td>1.000000</td>\n",
       "      <td>1.000000</td>\n",
       "      <td>1.000000</td>\n",
       "    </tr>\n",
       "    <tr>\n",
       "      <th>25%</th>\n",
       "      <td>NaN</td>\n",
       "      <td>3.000000</td>\n",
       "      <td>3.000000</td>\n",
       "      <td>3.000000</td>\n",
       "      <td>3.000000</td>\n",
       "    </tr>\n",
       "    <tr>\n",
       "      <th>50%</th>\n",
       "      <td>NaN</td>\n",
       "      <td>3.000000</td>\n",
       "      <td>3.000000</td>\n",
       "      <td>7.000000</td>\n",
       "      <td>5.000000</td>\n",
       "    </tr>\n",
       "    <tr>\n",
       "      <th>75%</th>\n",
       "      <td>NaN</td>\n",
       "      <td>8.000000</td>\n",
       "      <td>7.000000</td>\n",
       "      <td>8.000000</td>\n",
       "      <td>6.000000</td>\n",
       "    </tr>\n",
       "    <tr>\n",
       "      <th>max</th>\n",
       "      <td>NaN</td>\n",
       "      <td>10.000000</td>\n",
       "      <td>10.000000</td>\n",
       "      <td>9.000000</td>\n",
       "      <td>10.000000</td>\n",
       "    </tr>\n",
       "  </tbody>\n",
       "</table>\n",
       "</div>"
      ],
      "text/plain": [
       "                                                                                                Hypothesis  \\\n",
       "count                                                                                                    9   \n",
       "unique                                                                                                   9   \n",
       "top     Добавить два новых канала привлечения трафика, что позволит привлекать на 30% больше пользователей   \n",
       "freq                                                                                                     1   \n",
       "mean                                                                                                   NaN   \n",
       "std                                                                                                    NaN   \n",
       "min                                                                                                    NaN   \n",
       "25%                                                                                                    NaN   \n",
       "50%                                                                                                    NaN   \n",
       "75%                                                                                                    NaN   \n",
       "max                                                                                                    NaN   \n",
       "\n",
       "            Reach     Impact  Confidence    Efforts  \n",
       "count    9.000000   9.000000    9.000000   9.000000  \n",
       "unique        NaN        NaN         NaN        NaN  \n",
       "top           NaN        NaN         NaN        NaN  \n",
       "freq          NaN        NaN         NaN        NaN  \n",
       "mean     4.777778   4.777778    5.555556   4.888889  \n",
       "std      3.153481   3.192874    3.045944   2.803767  \n",
       "min      1.000000   1.000000    1.000000   1.000000  \n",
       "25%      3.000000   3.000000    3.000000   3.000000  \n",
       "50%      3.000000   3.000000    7.000000   5.000000  \n",
       "75%      8.000000   7.000000    8.000000   6.000000  \n",
       "max     10.000000  10.000000    9.000000  10.000000  "
      ]
     },
     "metadata": {},
     "output_type": "display_data"
    },
    {
     "name": "stdout",
     "output_type": "stream",
     "text": [
      "--------------------------------------------------\n",
      "Количество явных дубликатов: 0\n"
     ]
    }
   ],
   "source": [
    "df_info(hypothesis)"
   ]
  },
  {
   "cell_type": "code",
   "execution_count": 5,
   "id": "7664ebb4",
   "metadata": {
    "scrolled": false
   },
   "outputs": [
    {
     "data": {
      "text/html": [
       "<div>\n",
       "<style scoped>\n",
       "    .dataframe tbody tr th:only-of-type {\n",
       "        vertical-align: middle;\n",
       "    }\n",
       "\n",
       "    .dataframe tbody tr th {\n",
       "        vertical-align: top;\n",
       "    }\n",
       "\n",
       "    .dataframe thead th {\n",
       "        text-align: right;\n",
       "    }\n",
       "</style>\n",
       "<table border=\"1\" class=\"dataframe\">\n",
       "  <thead>\n",
       "    <tr style=\"text-align: right;\">\n",
       "      <th></th>\n",
       "      <th>transactionId</th>\n",
       "      <th>visitorId</th>\n",
       "      <th>date</th>\n",
       "      <th>revenue</th>\n",
       "      <th>group</th>\n",
       "    </tr>\n",
       "  </thead>\n",
       "  <tbody>\n",
       "    <tr>\n",
       "      <th>0</th>\n",
       "      <td>3667963787</td>\n",
       "      <td>3312258926</td>\n",
       "      <td>2019-08-15</td>\n",
       "      <td>1650</td>\n",
       "      <td>B</td>\n",
       "    </tr>\n",
       "    <tr>\n",
       "      <th>1</th>\n",
       "      <td>2804400009</td>\n",
       "      <td>3642806036</td>\n",
       "      <td>2019-08-15</td>\n",
       "      <td>730</td>\n",
       "      <td>B</td>\n",
       "    </tr>\n",
       "    <tr>\n",
       "      <th>2</th>\n",
       "      <td>2961555356</td>\n",
       "      <td>4069496402</td>\n",
       "      <td>2019-08-15</td>\n",
       "      <td>400</td>\n",
       "      <td>A</td>\n",
       "    </tr>\n",
       "  </tbody>\n",
       "</table>\n",
       "</div>"
      ],
      "text/plain": [
       "   transactionId   visitorId       date  revenue group\n",
       "0     3667963787  3312258926 2019-08-15     1650     B\n",
       "1     2804400009  3642806036 2019-08-15      730     B\n",
       "2     2961555356  4069496402 2019-08-15      400     A"
      ]
     },
     "metadata": {},
     "output_type": "display_data"
    },
    {
     "name": "stdout",
     "output_type": "stream",
     "text": [
      "--------------------------------------------------\n",
      "<class 'pandas.core.frame.DataFrame'>\n",
      "RangeIndex: 1197 entries, 0 to 1196\n",
      "Data columns (total 5 columns):\n",
      " #   Column         Non-Null Count  Dtype         \n",
      "---  ------         --------------  -----         \n",
      " 0   transactionId  1197 non-null   int64         \n",
      " 1   visitorId      1197 non-null   int64         \n",
      " 2   date           1197 non-null   datetime64[ns]\n",
      " 3   revenue        1197 non-null   int64         \n",
      " 4   group          1197 non-null   object        \n",
      "dtypes: datetime64[ns](1), int64(3), object(1)\n",
      "memory usage: 46.9+ KB\n",
      "--------------------------------------------------\n"
     ]
    },
    {
     "data": {
      "text/html": [
       "<div>\n",
       "<style scoped>\n",
       "    .dataframe tbody tr th:only-of-type {\n",
       "        vertical-align: middle;\n",
       "    }\n",
       "\n",
       "    .dataframe tbody tr th {\n",
       "        vertical-align: top;\n",
       "    }\n",
       "\n",
       "    .dataframe thead th {\n",
       "        text-align: right;\n",
       "    }\n",
       "</style>\n",
       "<table border=\"1\" class=\"dataframe\">\n",
       "  <thead>\n",
       "    <tr style=\"text-align: right;\">\n",
       "      <th></th>\n",
       "      <th>transactionId</th>\n",
       "      <th>visitorId</th>\n",
       "      <th>date</th>\n",
       "      <th>revenue</th>\n",
       "      <th>group</th>\n",
       "    </tr>\n",
       "  </thead>\n",
       "  <tbody>\n",
       "    <tr>\n",
       "      <th>count</th>\n",
       "      <td>1.197000e+03</td>\n",
       "      <td>1.197000e+03</td>\n",
       "      <td>1197</td>\n",
       "      <td>1.197000e+03</td>\n",
       "      <td>1197</td>\n",
       "    </tr>\n",
       "    <tr>\n",
       "      <th>unique</th>\n",
       "      <td>NaN</td>\n",
       "      <td>NaN</td>\n",
       "      <td>31</td>\n",
       "      <td>NaN</td>\n",
       "      <td>2</td>\n",
       "    </tr>\n",
       "    <tr>\n",
       "      <th>top</th>\n",
       "      <td>NaN</td>\n",
       "      <td>NaN</td>\n",
       "      <td>2019-08-05 00:00:00</td>\n",
       "      <td>NaN</td>\n",
       "      <td>B</td>\n",
       "    </tr>\n",
       "    <tr>\n",
       "      <th>freq</th>\n",
       "      <td>NaN</td>\n",
       "      <td>NaN</td>\n",
       "      <td>48</td>\n",
       "      <td>NaN</td>\n",
       "      <td>640</td>\n",
       "    </tr>\n",
       "    <tr>\n",
       "      <th>first</th>\n",
       "      <td>NaN</td>\n",
       "      <td>NaN</td>\n",
       "      <td>2019-08-01 00:00:00</td>\n",
       "      <td>NaN</td>\n",
       "      <td>NaN</td>\n",
       "    </tr>\n",
       "    <tr>\n",
       "      <th>last</th>\n",
       "      <td>NaN</td>\n",
       "      <td>NaN</td>\n",
       "      <td>2019-08-31 00:00:00</td>\n",
       "      <td>NaN</td>\n",
       "      <td>NaN</td>\n",
       "    </tr>\n",
       "    <tr>\n",
       "      <th>mean</th>\n",
       "      <td>2.155621e+09</td>\n",
       "      <td>2.165960e+09</td>\n",
       "      <td>NaN</td>\n",
       "      <td>8.348006e+03</td>\n",
       "      <td>NaN</td>\n",
       "    </tr>\n",
       "    <tr>\n",
       "      <th>std</th>\n",
       "      <td>1.229085e+09</td>\n",
       "      <td>1.236014e+09</td>\n",
       "      <td>NaN</td>\n",
       "      <td>3.919113e+04</td>\n",
       "      <td>NaN</td>\n",
       "    </tr>\n",
       "    <tr>\n",
       "      <th>min</th>\n",
       "      <td>1.062393e+06</td>\n",
       "      <td>5.114589e+06</td>\n",
       "      <td>NaN</td>\n",
       "      <td>5.000000e+01</td>\n",
       "      <td>NaN</td>\n",
       "    </tr>\n",
       "    <tr>\n",
       "      <th>25%</th>\n",
       "      <td>1.166776e+09</td>\n",
       "      <td>1.111826e+09</td>\n",
       "      <td>NaN</td>\n",
       "      <td>1.220000e+03</td>\n",
       "      <td>NaN</td>\n",
       "    </tr>\n",
       "    <tr>\n",
       "      <th>50%</th>\n",
       "      <td>2.145194e+09</td>\n",
       "      <td>2.217985e+09</td>\n",
       "      <td>NaN</td>\n",
       "      <td>2.978000e+03</td>\n",
       "      <td>NaN</td>\n",
       "    </tr>\n",
       "    <tr>\n",
       "      <th>75%</th>\n",
       "      <td>3.237740e+09</td>\n",
       "      <td>3.177606e+09</td>\n",
       "      <td>NaN</td>\n",
       "      <td>8.290000e+03</td>\n",
       "      <td>NaN</td>\n",
       "    </tr>\n",
       "    <tr>\n",
       "      <th>max</th>\n",
       "      <td>4.293856e+09</td>\n",
       "      <td>4.283872e+09</td>\n",
       "      <td>NaN</td>\n",
       "      <td>1.294500e+06</td>\n",
       "      <td>NaN</td>\n",
       "    </tr>\n",
       "  </tbody>\n",
       "</table>\n",
       "</div>"
      ],
      "text/plain": [
       "        transactionId     visitorId                 date       revenue group\n",
       "count    1.197000e+03  1.197000e+03                 1197  1.197000e+03  1197\n",
       "unique            NaN           NaN                   31           NaN     2\n",
       "top               NaN           NaN  2019-08-05 00:00:00           NaN     B\n",
       "freq              NaN           NaN                   48           NaN   640\n",
       "first             NaN           NaN  2019-08-01 00:00:00           NaN   NaN\n",
       "last              NaN           NaN  2019-08-31 00:00:00           NaN   NaN\n",
       "mean     2.155621e+09  2.165960e+09                  NaN  8.348006e+03   NaN\n",
       "std      1.229085e+09  1.236014e+09                  NaN  3.919113e+04   NaN\n",
       "min      1.062393e+06  5.114589e+06                  NaN  5.000000e+01   NaN\n",
       "25%      1.166776e+09  1.111826e+09                  NaN  1.220000e+03   NaN\n",
       "50%      2.145194e+09  2.217985e+09                  NaN  2.978000e+03   NaN\n",
       "75%      3.237740e+09  3.177606e+09                  NaN  8.290000e+03   NaN\n",
       "max      4.293856e+09  4.283872e+09                  NaN  1.294500e+06   NaN"
      ]
     },
     "metadata": {},
     "output_type": "display_data"
    },
    {
     "name": "stdout",
     "output_type": "stream",
     "text": [
      "--------------------------------------------------\n",
      "Количество явных дубликатов: 0\n"
     ]
    }
   ],
   "source": [
    "df_info(orders)"
   ]
  },
  {
   "cell_type": "code",
   "execution_count": 6,
   "id": "1add6b5c",
   "metadata": {},
   "outputs": [
    {
     "data": {
      "text/html": [
       "<div>\n",
       "<style scoped>\n",
       "    .dataframe tbody tr th:only-of-type {\n",
       "        vertical-align: middle;\n",
       "    }\n",
       "\n",
       "    .dataframe tbody tr th {\n",
       "        vertical-align: top;\n",
       "    }\n",
       "\n",
       "    .dataframe thead th {\n",
       "        text-align: right;\n",
       "    }\n",
       "</style>\n",
       "<table border=\"1\" class=\"dataframe\">\n",
       "  <thead>\n",
       "    <tr style=\"text-align: right;\">\n",
       "      <th></th>\n",
       "      <th>date</th>\n",
       "      <th>group</th>\n",
       "      <th>visitors</th>\n",
       "    </tr>\n",
       "  </thead>\n",
       "  <tbody>\n",
       "    <tr>\n",
       "      <th>0</th>\n",
       "      <td>2019-08-01</td>\n",
       "      <td>A</td>\n",
       "      <td>719</td>\n",
       "    </tr>\n",
       "    <tr>\n",
       "      <th>1</th>\n",
       "      <td>2019-08-02</td>\n",
       "      <td>A</td>\n",
       "      <td>619</td>\n",
       "    </tr>\n",
       "    <tr>\n",
       "      <th>2</th>\n",
       "      <td>2019-08-03</td>\n",
       "      <td>A</td>\n",
       "      <td>507</td>\n",
       "    </tr>\n",
       "  </tbody>\n",
       "</table>\n",
       "</div>"
      ],
      "text/plain": [
       "        date group  visitors\n",
       "0 2019-08-01     A       719\n",
       "1 2019-08-02     A       619\n",
       "2 2019-08-03     A       507"
      ]
     },
     "metadata": {},
     "output_type": "display_data"
    },
    {
     "name": "stdout",
     "output_type": "stream",
     "text": [
      "--------------------------------------------------\n",
      "<class 'pandas.core.frame.DataFrame'>\n",
      "RangeIndex: 62 entries, 0 to 61\n",
      "Data columns (total 3 columns):\n",
      " #   Column    Non-Null Count  Dtype         \n",
      "---  ------    --------------  -----         \n",
      " 0   date      62 non-null     datetime64[ns]\n",
      " 1   group     62 non-null     object        \n",
      " 2   visitors  62 non-null     int64         \n",
      "dtypes: datetime64[ns](1), int64(1), object(1)\n",
      "memory usage: 1.6+ KB\n",
      "--------------------------------------------------\n"
     ]
    },
    {
     "data": {
      "text/html": [
       "<div>\n",
       "<style scoped>\n",
       "    .dataframe tbody tr th:only-of-type {\n",
       "        vertical-align: middle;\n",
       "    }\n",
       "\n",
       "    .dataframe tbody tr th {\n",
       "        vertical-align: top;\n",
       "    }\n",
       "\n",
       "    .dataframe thead th {\n",
       "        text-align: right;\n",
       "    }\n",
       "</style>\n",
       "<table border=\"1\" class=\"dataframe\">\n",
       "  <thead>\n",
       "    <tr style=\"text-align: right;\">\n",
       "      <th></th>\n",
       "      <th>date</th>\n",
       "      <th>group</th>\n",
       "      <th>visitors</th>\n",
       "    </tr>\n",
       "  </thead>\n",
       "  <tbody>\n",
       "    <tr>\n",
       "      <th>count</th>\n",
       "      <td>62</td>\n",
       "      <td>62</td>\n",
       "      <td>62.000000</td>\n",
       "    </tr>\n",
       "    <tr>\n",
       "      <th>unique</th>\n",
       "      <td>31</td>\n",
       "      <td>2</td>\n",
       "      <td>NaN</td>\n",
       "    </tr>\n",
       "    <tr>\n",
       "      <th>top</th>\n",
       "      <td>2019-08-01 00:00:00</td>\n",
       "      <td>A</td>\n",
       "      <td>NaN</td>\n",
       "    </tr>\n",
       "    <tr>\n",
       "      <th>freq</th>\n",
       "      <td>2</td>\n",
       "      <td>31</td>\n",
       "      <td>NaN</td>\n",
       "    </tr>\n",
       "    <tr>\n",
       "      <th>first</th>\n",
       "      <td>2019-08-01 00:00:00</td>\n",
       "      <td>NaN</td>\n",
       "      <td>NaN</td>\n",
       "    </tr>\n",
       "    <tr>\n",
       "      <th>last</th>\n",
       "      <td>2019-08-31 00:00:00</td>\n",
       "      <td>NaN</td>\n",
       "      <td>NaN</td>\n",
       "    </tr>\n",
       "    <tr>\n",
       "      <th>mean</th>\n",
       "      <td>NaN</td>\n",
       "      <td>NaN</td>\n",
       "      <td>607.290323</td>\n",
       "    </tr>\n",
       "    <tr>\n",
       "      <th>std</th>\n",
       "      <td>NaN</td>\n",
       "      <td>NaN</td>\n",
       "      <td>114.400560</td>\n",
       "    </tr>\n",
       "    <tr>\n",
       "      <th>min</th>\n",
       "      <td>NaN</td>\n",
       "      <td>NaN</td>\n",
       "      <td>361.000000</td>\n",
       "    </tr>\n",
       "    <tr>\n",
       "      <th>25%</th>\n",
       "      <td>NaN</td>\n",
       "      <td>NaN</td>\n",
       "      <td>534.000000</td>\n",
       "    </tr>\n",
       "    <tr>\n",
       "      <th>50%</th>\n",
       "      <td>NaN</td>\n",
       "      <td>NaN</td>\n",
       "      <td>624.500000</td>\n",
       "    </tr>\n",
       "    <tr>\n",
       "      <th>75%</th>\n",
       "      <td>NaN</td>\n",
       "      <td>NaN</td>\n",
       "      <td>710.500000</td>\n",
       "    </tr>\n",
       "    <tr>\n",
       "      <th>max</th>\n",
       "      <td>NaN</td>\n",
       "      <td>NaN</td>\n",
       "      <td>770.000000</td>\n",
       "    </tr>\n",
       "  </tbody>\n",
       "</table>\n",
       "</div>"
      ],
      "text/plain": [
       "                       date group    visitors\n",
       "count                    62    62   62.000000\n",
       "unique                   31     2         NaN\n",
       "top     2019-08-01 00:00:00     A         NaN\n",
       "freq                      2    31         NaN\n",
       "first   2019-08-01 00:00:00   NaN         NaN\n",
       "last    2019-08-31 00:00:00   NaN         NaN\n",
       "mean                    NaN   NaN  607.290323\n",
       "std                     NaN   NaN  114.400560\n",
       "min                     NaN   NaN  361.000000\n",
       "25%                     NaN   NaN  534.000000\n",
       "50%                     NaN   NaN  624.500000\n",
       "75%                     NaN   NaN  710.500000\n",
       "max                     NaN   NaN  770.000000"
      ]
     },
     "metadata": {},
     "output_type": "display_data"
    },
    {
     "name": "stdout",
     "output_type": "stream",
     "text": [
      "--------------------------------------------------\n",
      "Количество явных дубликатов: 0\n"
     ]
    }
   ],
   "source": [
    "df_info(visitors)"
   ]
  },
  {
   "cell_type": "markdown",
   "id": "7015c573",
   "metadata": {},
   "source": [
    "### Исправляю стиль в заголовках столбцов."
   ]
  },
  {
   "cell_type": "code",
   "execution_count": 7,
   "id": "3416e47e",
   "metadata": {},
   "outputs": [],
   "source": [
    "hypothesis.columns = hypothesis.columns.str.lower()\n",
    "orders = orders.rename(columns = {'transactionId':'transaction_id', 'visitorId':'visitor_id'})"
   ]
  },
  {
   "cell_type": "markdown",
   "id": "0dbdac11",
   "metadata": {},
   "source": [
    "Типы данных соответствуют содержимому столбцов. Пропущенных значений и явных дубликатов нет. Единственное, что пришлось исправить - стиль заголовков столбцов. Следует отметить, что данные изначально очень высокого качества.\n",
    "## Шаг 2. Приоритизация гипотез.\n",
    "### Применяю фреймворк `ICE` для приоритизации гипотез. Сортирую их по убыванию приоритета."
   ]
  },
  {
   "cell_type": "code",
   "execution_count": 8,
   "id": "822bef76",
   "metadata": {},
   "outputs": [
    {
     "data": {
      "text/html": [
       "<div>\n",
       "<style scoped>\n",
       "    .dataframe tbody tr th:only-of-type {\n",
       "        vertical-align: middle;\n",
       "    }\n",
       "\n",
       "    .dataframe tbody tr th {\n",
       "        vertical-align: top;\n",
       "    }\n",
       "\n",
       "    .dataframe thead th {\n",
       "        text-align: right;\n",
       "    }\n",
       "</style>\n",
       "<table border=\"1\" class=\"dataframe\">\n",
       "  <thead>\n",
       "    <tr style=\"text-align: right;\">\n",
       "      <th></th>\n",
       "      <th>hypothesis</th>\n",
       "      <th>reach</th>\n",
       "      <th>impact</th>\n",
       "      <th>confidence</th>\n",
       "      <th>efforts</th>\n",
       "      <th>ice</th>\n",
       "    </tr>\n",
       "  </thead>\n",
       "  <tbody>\n",
       "    <tr>\n",
       "      <th>8</th>\n",
       "      <td>Запустить акцию, дающую скидку на товар в день рождения</td>\n",
       "      <td>1</td>\n",
       "      <td>9</td>\n",
       "      <td>9</td>\n",
       "      <td>5</td>\n",
       "      <td>16.20</td>\n",
       "    </tr>\n",
       "    <tr>\n",
       "      <th>0</th>\n",
       "      <td>Добавить два новых канала привлечения трафика, что позволит привлекать на 30% больше пользователей</td>\n",
       "      <td>3</td>\n",
       "      <td>10</td>\n",
       "      <td>8</td>\n",
       "      <td>6</td>\n",
       "      <td>13.33</td>\n",
       "    </tr>\n",
       "    <tr>\n",
       "      <th>7</th>\n",
       "      <td>Добавить форму подписки на все основные страницы, чтобы собрать базу клиентов для email-рассылок</td>\n",
       "      <td>10</td>\n",
       "      <td>7</td>\n",
       "      <td>8</td>\n",
       "      <td>5</td>\n",
       "      <td>11.20</td>\n",
       "    </tr>\n",
       "    <tr>\n",
       "      <th>6</th>\n",
       "      <td>Показать на главной странице баннеры с актуальными акциями и распродажами, чтобы увеличить конверсию</td>\n",
       "      <td>5</td>\n",
       "      <td>3</td>\n",
       "      <td>8</td>\n",
       "      <td>3</td>\n",
       "      <td>8.00</td>\n",
       "    </tr>\n",
       "    <tr>\n",
       "      <th>2</th>\n",
       "      <td>Добавить блоки рекомендаций товаров на сайт интернет магазина, чтобы повысить конверсию и средний чек заказа</td>\n",
       "      <td>8</td>\n",
       "      <td>3</td>\n",
       "      <td>7</td>\n",
       "      <td>3</td>\n",
       "      <td>7.00</td>\n",
       "    </tr>\n",
       "    <tr>\n",
       "      <th>1</th>\n",
       "      <td>Запустить собственную службу доставки, что сократит срок доставки заказов</td>\n",
       "      <td>2</td>\n",
       "      <td>5</td>\n",
       "      <td>4</td>\n",
       "      <td>10</td>\n",
       "      <td>2.00</td>\n",
       "    </tr>\n",
       "    <tr>\n",
       "      <th>5</th>\n",
       "      <td>Добавить страницу отзывов клиентов о магазине, что позволит увеличить количество заказов</td>\n",
       "      <td>3</td>\n",
       "      <td>2</td>\n",
       "      <td>2</td>\n",
       "      <td>3</td>\n",
       "      <td>1.33</td>\n",
       "    </tr>\n",
       "    <tr>\n",
       "      <th>3</th>\n",
       "      <td>Изменить структура категорий, что увеличит конверсию, т.к. пользователи быстрее найдут нужный товар</td>\n",
       "      <td>8</td>\n",
       "      <td>3</td>\n",
       "      <td>3</td>\n",
       "      <td>8</td>\n",
       "      <td>1.12</td>\n",
       "    </tr>\n",
       "    <tr>\n",
       "      <th>4</th>\n",
       "      <td>Изменить цвет фона главной страницы, чтобы увеличить вовлеченность пользователей</td>\n",
       "      <td>3</td>\n",
       "      <td>1</td>\n",
       "      <td>1</td>\n",
       "      <td>1</td>\n",
       "      <td>1.00</td>\n",
       "    </tr>\n",
       "  </tbody>\n",
       "</table>\n",
       "</div>"
      ],
      "text/plain": [
       "                                                                                                     hypothesis  \\\n",
       "8                                                       Запустить акцию, дающую скидку на товар в день рождения   \n",
       "0            Добавить два новых канала привлечения трафика, что позволит привлекать на 30% больше пользователей   \n",
       "7              Добавить форму подписки на все основные страницы, чтобы собрать базу клиентов для email-рассылок   \n",
       "6          Показать на главной странице баннеры с актуальными акциями и распродажами, чтобы увеличить конверсию   \n",
       "2  Добавить блоки рекомендаций товаров на сайт интернет магазина, чтобы повысить конверсию и средний чек заказа   \n",
       "1                                     Запустить собственную службу доставки, что сократит срок доставки заказов   \n",
       "5                      Добавить страницу отзывов клиентов о магазине, что позволит увеличить количество заказов   \n",
       "3           Изменить структура категорий, что увеличит конверсию, т.к. пользователи быстрее найдут нужный товар   \n",
       "4                              Изменить цвет фона главной страницы, чтобы увеличить вовлеченность пользователей   \n",
       "\n",
       "   reach  impact  confidence  efforts    ice  \n",
       "8      1       9           9        5  16.20  \n",
       "0      3      10           8        6  13.33  \n",
       "7     10       7           8        5  11.20  \n",
       "6      5       3           8        3   8.00  \n",
       "2      8       3           7        3   7.00  \n",
       "1      2       5           4       10   2.00  \n",
       "5      3       2           2        3   1.33  \n",
       "3      8       3           3        8   1.12  \n",
       "4      3       1           1        1   1.00  "
      ]
     },
     "execution_count": 8,
     "metadata": {},
     "output_type": "execute_result"
    }
   ],
   "source": [
    "hypothesis['ice'] = round(hypothesis['impact'] *  hypothesis['confidence'] / hypothesis['efforts'], 2)\n",
    "hypothesis.sort_values(by = 'ice', ascending = False, inplace = True)\n",
    "hypothesis"
   ]
  },
  {
   "cell_type": "markdown",
   "id": "70b6bfb2",
   "metadata": {},
   "source": [
    "По `ICE` наибольший приоритет у гипотез:\n",
    "- Запустить акцию, дающую скидку на товар в день рождения;\n",
    "- Добавить два новых канала привлечения трафика, что позволит привлекать на 30% больше пользователей; \n",
    "- Добавить форму подписки на все основные страницы, чтобы собрать базу клиентов для email-рассылок.\n",
    "### Применяю фреймворк `RICE` для приоритизации гипотез. Cортирую их по убыванию приоритета."
   ]
  },
  {
   "cell_type": "code",
   "execution_count": 9,
   "id": "a13bfe47",
   "metadata": {
    "scrolled": true
   },
   "outputs": [
    {
     "data": {
      "text/html": [
       "<div>\n",
       "<style scoped>\n",
       "    .dataframe tbody tr th:only-of-type {\n",
       "        vertical-align: middle;\n",
       "    }\n",
       "\n",
       "    .dataframe tbody tr th {\n",
       "        vertical-align: top;\n",
       "    }\n",
       "\n",
       "    .dataframe thead th {\n",
       "        text-align: right;\n",
       "    }\n",
       "</style>\n",
       "<table border=\"1\" class=\"dataframe\">\n",
       "  <thead>\n",
       "    <tr style=\"text-align: right;\">\n",
       "      <th></th>\n",
       "      <th>hypothesis</th>\n",
       "      <th>reach</th>\n",
       "      <th>impact</th>\n",
       "      <th>confidence</th>\n",
       "      <th>efforts</th>\n",
       "      <th>ice</th>\n",
       "      <th>rice</th>\n",
       "    </tr>\n",
       "  </thead>\n",
       "  <tbody>\n",
       "    <tr>\n",
       "      <th>7</th>\n",
       "      <td>Добавить форму подписки на все основные страницы, чтобы собрать базу клиентов для email-рассылок</td>\n",
       "      <td>10</td>\n",
       "      <td>7</td>\n",
       "      <td>8</td>\n",
       "      <td>5</td>\n",
       "      <td>11.20</td>\n",
       "      <td>112.0</td>\n",
       "    </tr>\n",
       "    <tr>\n",
       "      <th>2</th>\n",
       "      <td>Добавить блоки рекомендаций товаров на сайт интернет магазина, чтобы повысить конверсию и средний чек заказа</td>\n",
       "      <td>8</td>\n",
       "      <td>3</td>\n",
       "      <td>7</td>\n",
       "      <td>3</td>\n",
       "      <td>7.00</td>\n",
       "      <td>56.0</td>\n",
       "    </tr>\n",
       "    <tr>\n",
       "      <th>0</th>\n",
       "      <td>Добавить два новых канала привлечения трафика, что позволит привлекать на 30% больше пользователей</td>\n",
       "      <td>3</td>\n",
       "      <td>10</td>\n",
       "      <td>8</td>\n",
       "      <td>6</td>\n",
       "      <td>13.33</td>\n",
       "      <td>40.0</td>\n",
       "    </tr>\n",
       "    <tr>\n",
       "      <th>6</th>\n",
       "      <td>Показать на главной странице баннеры с актуальными акциями и распродажами, чтобы увеличить конверсию</td>\n",
       "      <td>5</td>\n",
       "      <td>3</td>\n",
       "      <td>8</td>\n",
       "      <td>3</td>\n",
       "      <td>8.00</td>\n",
       "      <td>40.0</td>\n",
       "    </tr>\n",
       "    <tr>\n",
       "      <th>8</th>\n",
       "      <td>Запустить акцию, дающую скидку на товар в день рождения</td>\n",
       "      <td>1</td>\n",
       "      <td>9</td>\n",
       "      <td>9</td>\n",
       "      <td>5</td>\n",
       "      <td>16.20</td>\n",
       "      <td>16.2</td>\n",
       "    </tr>\n",
       "    <tr>\n",
       "      <th>3</th>\n",
       "      <td>Изменить структура категорий, что увеличит конверсию, т.к. пользователи быстрее найдут нужный товар</td>\n",
       "      <td>8</td>\n",
       "      <td>3</td>\n",
       "      <td>3</td>\n",
       "      <td>8</td>\n",
       "      <td>1.12</td>\n",
       "      <td>9.0</td>\n",
       "    </tr>\n",
       "    <tr>\n",
       "      <th>1</th>\n",
       "      <td>Запустить собственную службу доставки, что сократит срок доставки заказов</td>\n",
       "      <td>2</td>\n",
       "      <td>5</td>\n",
       "      <td>4</td>\n",
       "      <td>10</td>\n",
       "      <td>2.00</td>\n",
       "      <td>4.0</td>\n",
       "    </tr>\n",
       "    <tr>\n",
       "      <th>5</th>\n",
       "      <td>Добавить страницу отзывов клиентов о магазине, что позволит увеличить количество заказов</td>\n",
       "      <td>3</td>\n",
       "      <td>2</td>\n",
       "      <td>2</td>\n",
       "      <td>3</td>\n",
       "      <td>1.33</td>\n",
       "      <td>4.0</td>\n",
       "    </tr>\n",
       "    <tr>\n",
       "      <th>4</th>\n",
       "      <td>Изменить цвет фона главной страницы, чтобы увеличить вовлеченность пользователей</td>\n",
       "      <td>3</td>\n",
       "      <td>1</td>\n",
       "      <td>1</td>\n",
       "      <td>1</td>\n",
       "      <td>1.00</td>\n",
       "      <td>3.0</td>\n",
       "    </tr>\n",
       "  </tbody>\n",
       "</table>\n",
       "</div>"
      ],
      "text/plain": [
       "                                                                                                     hypothesis  \\\n",
       "7              Добавить форму подписки на все основные страницы, чтобы собрать базу клиентов для email-рассылок   \n",
       "2  Добавить блоки рекомендаций товаров на сайт интернет магазина, чтобы повысить конверсию и средний чек заказа   \n",
       "0            Добавить два новых канала привлечения трафика, что позволит привлекать на 30% больше пользователей   \n",
       "6          Показать на главной странице баннеры с актуальными акциями и распродажами, чтобы увеличить конверсию   \n",
       "8                                                       Запустить акцию, дающую скидку на товар в день рождения   \n",
       "3           Изменить структура категорий, что увеличит конверсию, т.к. пользователи быстрее найдут нужный товар   \n",
       "1                                     Запустить собственную службу доставки, что сократит срок доставки заказов   \n",
       "5                      Добавить страницу отзывов клиентов о магазине, что позволит увеличить количество заказов   \n",
       "4                              Изменить цвет фона главной страницы, чтобы увеличить вовлеченность пользователей   \n",
       "\n",
       "   reach  impact  confidence  efforts    ice   rice  \n",
       "7     10       7           8        5  11.20  112.0  \n",
       "2      8       3           7        3   7.00   56.0  \n",
       "0      3      10           8        6  13.33   40.0  \n",
       "6      5       3           8        3   8.00   40.0  \n",
       "8      1       9           9        5  16.20   16.2  \n",
       "3      8       3           3        8   1.12    9.0  \n",
       "1      2       5           4       10   2.00    4.0  \n",
       "5      3       2           2        3   1.33    4.0  \n",
       "4      3       1           1        1   1.00    3.0  "
      ]
     },
     "execution_count": 9,
     "metadata": {},
     "output_type": "execute_result"
    }
   ],
   "source": [
    "hypothesis['rice'] = (hypothesis['reach'] * hypothesis['impact'] *  hypothesis['confidence']) / hypothesis['efforts']\n",
    "hypothesis.sort_values(by = 'rice', ascending = False, inplace = True)\n",
    "hypothesis "
   ]
  },
  {
   "cell_type": "markdown",
   "id": "b376df5e",
   "metadata": {},
   "source": [
    "По `RICE` наибольший приоритет у гипотез:\n",
    "- Добавить форму подписки на все основные страницы, чтобы собрать базу клиентов для email-рассылок;\n",
    "- Добавить блоки рекомендаций товаров на сайт интернет магазина, чтобы повысить конверсию и средний чек заказа;\n",
    "- Добавить два новых канала привлечения трафика, что позволит привлекать на 30% больше пользователей.\n",
    "\n",
    "Приоритет гипотезы об акции, дающей скидку в день рождения снизился, ведь её охват всего **1**, а приоритет гипотезы о добавлении двух новых каналов привлечения, вышел на первое место, в силу большого охвата. \n",
    "## Шаг 3. Анализ A/B-теста.\n",
    "### Считаю количество посещений в каждой группе."
   ]
  },
  {
   "cell_type": "code",
   "execution_count": 10,
   "id": "6b6c9e74",
   "metadata": {},
   "outputs": [
    {
     "data": {
      "text/plain": [
       "(18736, 18916)"
      ]
     },
     "execution_count": 10,
     "metadata": {},
     "output_type": "execute_result"
    }
   ],
   "source": [
    "visitors.query('group == \"A\"')['visitors'].sum(), visitors.query('group == \"B\"')['visitors'].sum()"
   ]
  },
  {
   "cell_type": "markdown",
   "id": "60755c88",
   "metadata": {},
   "source": [
    "В группе `B` больше на **180** посещений, чем в `A`.\n",
    "### Считаю количество заказов в каждой группе."
   ]
  },
  {
   "cell_type": "code",
   "execution_count": 11,
   "id": "4a45f4db",
   "metadata": {},
   "outputs": [
    {
     "data": {
      "text/plain": [
       "(557, 640)"
      ]
     },
     "execution_count": 11,
     "metadata": {},
     "output_type": "execute_result"
    }
   ],
   "source": [
    "orders.query('group == \"A\"').shape[0], orders.query('group == \"B\"').shape[0]"
   ]
  },
  {
   "cell_type": "markdown",
   "id": "2860ee6b",
   "metadata": {},
   "source": [
    "В группе `B` больше на **83** заказа, чем в `A`. \n",
    "### Проверяю, есть ли пользователи, которые попали в обе группы."
   ]
  },
  {
   "cell_type": "code",
   "execution_count": 12,
   "id": "061e6449",
   "metadata": {},
   "outputs": [
    {
     "data": {
      "text/plain": [
       "58"
      ]
     },
     "execution_count": 12,
     "metadata": {},
     "output_type": "execute_result"
    }
   ],
   "source": [
    "visitors_a = orders[orders['group'] == 'A']['visitor_id']\n",
    "visitors_b = orders[orders['group'] == 'B']['visitor_id']\n",
    "visitors_ab = orders.loc[orders['visitor_id'].isin(visitors_a) & orders['visitor_id'].isin(visitors_b),'visitor_id'].unique()\n",
    "len(visitors_ab)"
   ]
  },
  {
   "cell_type": "markdown",
   "id": "d2490914",
   "metadata": {},
   "source": [
    "Таких оказалось **58** человек. Их необходимо удалить."
   ]
  },
  {
   "cell_type": "code",
   "execution_count": 13,
   "id": "93bc246e",
   "metadata": {},
   "outputs": [
    {
     "name": "stdout",
     "output_type": "stream",
     "text": [
      "18736 18916\n"
     ]
    },
    {
     "data": {
      "text/plain": [
       "(468, 548)"
      ]
     },
     "execution_count": 13,
     "metadata": {},
     "output_type": "execute_result"
    }
   ],
   "source": [
    "orders = orders.loc[~orders['visitor_id'].isin(visitors_ab)]\n",
    "print(visitors.query('group == \"A\"')['visitors'].sum(), visitors.query('group == \"B\"')['visitors'].sum())\n",
    "orders.query('group == \"A\"').shape[0], orders.query('group == \"B\"').shape[0]"
   ]
  },
  {
   "cell_type": "markdown",
   "id": "06a64b2a",
   "metadata": {},
   "source": [
    "Колличество посещений не изменилось, а вот колличество заказов уменьшилось, и разница сократилась до **80** заказов.\n",
    "### Подготавливаю таблицу с куммулятивными данными по выручке и посещениям."
   ]
  },
  {
   "cell_type": "code",
   "execution_count": 14,
   "id": "db2fa21e",
   "metadata": {},
   "outputs": [
    {
     "data": {
      "text/html": [
       "<div>\n",
       "<style scoped>\n",
       "    .dataframe tbody tr th:only-of-type {\n",
       "        vertical-align: middle;\n",
       "    }\n",
       "\n",
       "    .dataframe tbody tr th {\n",
       "        vertical-align: top;\n",
       "    }\n",
       "\n",
       "    .dataframe thead th {\n",
       "        text-align: right;\n",
       "    }\n",
       "</style>\n",
       "<table border=\"1\" class=\"dataframe\">\n",
       "  <thead>\n",
       "    <tr style=\"text-align: right;\">\n",
       "      <th></th>\n",
       "      <th>date</th>\n",
       "      <th>group</th>\n",
       "      <th>revenue</th>\n",
       "      <th>orders</th>\n",
       "    </tr>\n",
       "  </thead>\n",
       "  <tbody>\n",
       "    <tr>\n",
       "      <th>55</th>\n",
       "      <td>2019-08-01</td>\n",
       "      <td>A</td>\n",
       "      <td>142779</td>\n",
       "      <td>23</td>\n",
       "    </tr>\n",
       "    <tr>\n",
       "      <th>66</th>\n",
       "      <td>2019-08-01</td>\n",
       "      <td>B</td>\n",
       "      <td>59758</td>\n",
       "      <td>17</td>\n",
       "    </tr>\n",
       "    <tr>\n",
       "      <th>175</th>\n",
       "      <td>2019-08-02</td>\n",
       "      <td>A</td>\n",
       "      <td>234381</td>\n",
       "      <td>42</td>\n",
       "    </tr>\n",
       "    <tr>\n",
       "      <th>173</th>\n",
       "      <td>2019-08-02</td>\n",
       "      <td>B</td>\n",
       "      <td>221801</td>\n",
       "      <td>40</td>\n",
       "    </tr>\n",
       "    <tr>\n",
       "      <th>291</th>\n",
       "      <td>2019-08-03</td>\n",
       "      <td>A</td>\n",
       "      <td>346854</td>\n",
       "      <td>66</td>\n",
       "    </tr>\n",
       "  </tbody>\n",
       "</table>\n",
       "</div>"
      ],
      "text/plain": [
       "          date group  revenue  orders\n",
       "55  2019-08-01     A   142779      23\n",
       "66  2019-08-01     B    59758      17\n",
       "175 2019-08-02     A   234381      42\n",
       "173 2019-08-02     B   221801      40\n",
       "291 2019-08-03     A   346854      66"
      ]
     },
     "execution_count": 14,
     "metadata": {},
     "output_type": "execute_result"
    }
   ],
   "source": [
    "dates_groups = orders[['date','group']].drop_duplicates()\n",
    "orders_pivot = (\n",
    "    dates_groups\n",
    "    .apply(lambda x: orders[np.logical_and(orders['date'] <= x['date'], orders['group'] == x['group'])]\n",
    "           .agg({'date':'max', 'group':'max', 'revenue':'sum', 'transaction_id':'nunique'}), axis = 1)\n",
    "    .sort_values(by = ['date','group'])\n",
    ")\n",
    "orders_pivot.rename(columns = {'transaction_id':'orders'}, inplace = True)\n",
    "orders_pivot.head()"
   ]
  },
  {
   "cell_type": "code",
   "execution_count": 15,
   "id": "cdff3dc7",
   "metadata": {},
   "outputs": [
    {
     "data": {
      "text/html": [
       "<div>\n",
       "<style scoped>\n",
       "    .dataframe tbody tr th:only-of-type {\n",
       "        vertical-align: middle;\n",
       "    }\n",
       "\n",
       "    .dataframe tbody tr th {\n",
       "        vertical-align: top;\n",
       "    }\n",
       "\n",
       "    .dataframe thead th {\n",
       "        text-align: right;\n",
       "    }\n",
       "</style>\n",
       "<table border=\"1\" class=\"dataframe\">\n",
       "  <thead>\n",
       "    <tr style=\"text-align: right;\">\n",
       "      <th></th>\n",
       "      <th>date</th>\n",
       "      <th>group</th>\n",
       "      <th>visitors</th>\n",
       "    </tr>\n",
       "  </thead>\n",
       "  <tbody>\n",
       "    <tr>\n",
       "      <th>55</th>\n",
       "      <td>2019-08-01</td>\n",
       "      <td>A</td>\n",
       "      <td>719</td>\n",
       "    </tr>\n",
       "    <tr>\n",
       "      <th>66</th>\n",
       "      <td>2019-08-01</td>\n",
       "      <td>B</td>\n",
       "      <td>713</td>\n",
       "    </tr>\n",
       "    <tr>\n",
       "      <th>175</th>\n",
       "      <td>2019-08-02</td>\n",
       "      <td>A</td>\n",
       "      <td>1338</td>\n",
       "    </tr>\n",
       "    <tr>\n",
       "      <th>173</th>\n",
       "      <td>2019-08-02</td>\n",
       "      <td>B</td>\n",
       "      <td>1294</td>\n",
       "    </tr>\n",
       "    <tr>\n",
       "      <th>291</th>\n",
       "      <td>2019-08-03</td>\n",
       "      <td>A</td>\n",
       "      <td>1845</td>\n",
       "    </tr>\n",
       "  </tbody>\n",
       "</table>\n",
       "</div>"
      ],
      "text/plain": [
       "          date group  visitors\n",
       "55  2019-08-01     A       719\n",
       "66  2019-08-01     B       713\n",
       "175 2019-08-02     A      1338\n",
       "173 2019-08-02     B      1294\n",
       "291 2019-08-03     A      1845"
      ]
     },
     "execution_count": 15,
     "metadata": {},
     "output_type": "execute_result"
    }
   ],
   "source": [
    "visitors_pivot = (\n",
    "    dates_groups\n",
    "    .apply(lambda x: visitors[np.logical_and(visitors['date'] <= x['date'], visitors['group'] == x['group'])]\n",
    "           .agg({'date':'max', 'group':'max', 'visitors':'sum'}), axis = 1)\n",
    "    .sort_values(by = ['date','group'])\n",
    ")\n",
    "visitors_pivot.head()"
   ]
  },
  {
   "cell_type": "code",
   "execution_count": 16,
   "id": "05818332",
   "metadata": {
    "scrolled": true
   },
   "outputs": [
    {
     "data": {
      "text/html": [
       "<div>\n",
       "<style scoped>\n",
       "    .dataframe tbody tr th:only-of-type {\n",
       "        vertical-align: middle;\n",
       "    }\n",
       "\n",
       "    .dataframe tbody tr th {\n",
       "        vertical-align: top;\n",
       "    }\n",
       "\n",
       "    .dataframe thead th {\n",
       "        text-align: right;\n",
       "    }\n",
       "</style>\n",
       "<table border=\"1\" class=\"dataframe\">\n",
       "  <thead>\n",
       "    <tr style=\"text-align: right;\">\n",
       "      <th></th>\n",
       "      <th>date</th>\n",
       "      <th>group</th>\n",
       "      <th>revenue</th>\n",
       "      <th>orders</th>\n",
       "      <th>visitors</th>\n",
       "    </tr>\n",
       "  </thead>\n",
       "  <tbody>\n",
       "    <tr>\n",
       "      <th>0</th>\n",
       "      <td>2019-08-01</td>\n",
       "      <td>A</td>\n",
       "      <td>142779</td>\n",
       "      <td>23</td>\n",
       "      <td>719</td>\n",
       "    </tr>\n",
       "    <tr>\n",
       "      <th>1</th>\n",
       "      <td>2019-08-01</td>\n",
       "      <td>B</td>\n",
       "      <td>59758</td>\n",
       "      <td>17</td>\n",
       "      <td>713</td>\n",
       "    </tr>\n",
       "    <tr>\n",
       "      <th>2</th>\n",
       "      <td>2019-08-02</td>\n",
       "      <td>A</td>\n",
       "      <td>234381</td>\n",
       "      <td>42</td>\n",
       "      <td>1338</td>\n",
       "    </tr>\n",
       "    <tr>\n",
       "      <th>3</th>\n",
       "      <td>2019-08-02</td>\n",
       "      <td>B</td>\n",
       "      <td>221801</td>\n",
       "      <td>40</td>\n",
       "      <td>1294</td>\n",
       "    </tr>\n",
       "    <tr>\n",
       "      <th>4</th>\n",
       "      <td>2019-08-03</td>\n",
       "      <td>A</td>\n",
       "      <td>346854</td>\n",
       "      <td>66</td>\n",
       "      <td>1845</td>\n",
       "    </tr>\n",
       "  </tbody>\n",
       "</table>\n",
       "</div>"
      ],
      "text/plain": [
       "        date group  revenue  orders  visitors\n",
       "0 2019-08-01     A   142779      23       719\n",
       "1 2019-08-01     B    59758      17       713\n",
       "2 2019-08-02     A   234381      42      1338\n",
       "3 2019-08-02     B   221801      40      1294\n",
       "4 2019-08-03     A   346854      66      1845"
      ]
     },
     "execution_count": 16,
     "metadata": {},
     "output_type": "execute_result"
    }
   ],
   "source": [
    "cumulative_pivot = orders_pivot.merge(visitors_pivot, on = ['date','group'])\n",
    "cumulative_pivot.head()"
   ]
  },
  {
   "cell_type": "markdown",
   "id": "91307b25",
   "metadata": {},
   "source": [
    "### Строю график кумулятивной выручки по группам."
   ]
  },
  {
   "cell_type": "code",
   "execution_count": 17,
   "id": "9f039b84",
   "metadata": {
    "scrolled": false
   },
   "outputs": [
    {
     "data": {
      "image/png": "[encoded data removed]",
      "text/plain": [
       "<Figure size 1080x360 with 1 Axes>"
      ]
     },
     "metadata": {
      "needs_background": "light"
     },
     "output_type": "display_data"
    }
   ],
   "source": [
    "cumulative_a = cumulative_pivot.loc[cumulative_pivot['group'] == 'A',['date','revenue','orders','visitors']]\n",
    "cumulative_b = cumulative_pivot.loc[cumulative_pivot['group'] == 'B',['date','revenue','orders','visitors']]\n",
    "\n",
    "plt.figure(figsize = (15, 5))\n",
    "plt.plot(cumulative_a['date'], cumulative_a['revenue'], label = 'A')\n",
    "plt.plot(cumulative_b['date'], cumulative_b['revenue'], label = 'B')\n",
    "plt.annotate('скачок', xy = (dt.datetime(2019, 8, 17), 2800000), xytext = (dt.datetime(2019, 8, 10), 3500000),\n",
    "            arrowprops = dict(facecolor = 'g'))\n",
    "plt.annotate('отрыв', xy = (dt.datetime(2019, 8, 5), 800000), xytext = (dt.datetime(2019, 8, 5), 2000000),\n",
    "            arrowprops = dict(facecolor = 'g'))\n",
    "plt.xticks(rotation = 45)\n",
    "plt.grid()\n",
    "plt.xlabel('Дата')\n",
    "plt.ylabel('Выручка, млн.')\n",
    "plt.title('Кумулятивная выручка по группам')\n",
    "plt.legend()\n",
    "plt.show()"
   ]
  },
  {
   "cell_type": "markdown",
   "id": "2520438b",
   "metadata": {},
   "source": [
    "Группа `А` растет равномерно, а в группе `В` после **17.08** произошел резкий рост. Очевидно, туда попали какие-то крупные покупки.\n",
    "### Строю график кумулятивного среднего чека по группам."
   ]
  },
  {
   "cell_type": "code",
   "execution_count": 18,
   "id": "30628f8b",
   "metadata": {},
   "outputs": [
    {
     "data": {
      "image/png": "[encoded data removed]",
      "text/plain": [
       "<Figure size 1080x360 with 1 Axes>"
      ]
     },
     "metadata": {
      "needs_background": "light"
     },
     "output_type": "display_data"
    }
   ],
   "source": [
    "plt.figure(figsize = (15, 5))\n",
    "plt.plot(cumulative_a['date'], cumulative_a['revenue'] / cumulative_a['orders'], label = 'A')\n",
    "plt.plot(cumulative_b['date'], cumulative_b['revenue'] / cumulative_b['orders'], label = 'B')\n",
    "plt.annotate('скачок', xy = (dt.datetime(2019, 8, 17), 9000), xytext = (dt.datetime(2019, 8, 10), 8000),\n",
    "            arrowprops = dict(facecolor = 'g'))\n",
    "plt.xticks(rotation = 45)\n",
    "plt.grid()\n",
    "plt.xlabel('Дата')\n",
    "plt.ylabel('Выручка')\n",
    "plt.title('Кумулятивный средний чек по группам')\n",
    "plt.legend()\n",
    "plt.show()"
   ]
  },
  {
   "cell_type": "markdown",
   "id": "c563aeeb",
   "metadata": {},
   "source": [
    "Вновь наблюдаю крупные покупки в группе `В` после **17.08**, после чего средний чек начинает снижаться.\n",
    "### Подготавливаю таблицу для графика относительного изменения кумулятивного среднего чека группы `B` к группе `A`. "
   ]
  },
  {
   "cell_type": "code",
   "execution_count": 19,
   "id": "699f63dc",
   "metadata": {},
   "outputs": [
    {
     "data": {
      "text/html": [
       "<div>\n",
       "<style scoped>\n",
       "    .dataframe tbody tr th:only-of-type {\n",
       "        vertical-align: middle;\n",
       "    }\n",
       "\n",
       "    .dataframe tbody tr th {\n",
       "        vertical-align: top;\n",
       "    }\n",
       "\n",
       "    .dataframe thead th {\n",
       "        text-align: right;\n",
       "    }\n",
       "</style>\n",
       "<table border=\"1\" class=\"dataframe\">\n",
       "  <thead>\n",
       "    <tr style=\"text-align: right;\">\n",
       "      <th></th>\n",
       "      <th>date</th>\n",
       "      <th>revenue_a</th>\n",
       "      <th>orders_a</th>\n",
       "      <th>visitors_a</th>\n",
       "      <th>revenue_b</th>\n",
       "      <th>orders_b</th>\n",
       "      <th>visitors_b</th>\n",
       "    </tr>\n",
       "  </thead>\n",
       "  <tbody>\n",
       "    <tr>\n",
       "      <th>0</th>\n",
       "      <td>2019-08-01</td>\n",
       "      <td>142779</td>\n",
       "      <td>23</td>\n",
       "      <td>719</td>\n",
       "      <td>59758</td>\n",
       "      <td>17</td>\n",
       "      <td>713</td>\n",
       "    </tr>\n",
       "    <tr>\n",
       "      <th>1</th>\n",
       "      <td>2019-08-02</td>\n",
       "      <td>234381</td>\n",
       "      <td>42</td>\n",
       "      <td>1338</td>\n",
       "      <td>221801</td>\n",
       "      <td>40</td>\n",
       "      <td>1294</td>\n",
       "    </tr>\n",
       "    <tr>\n",
       "      <th>2</th>\n",
       "      <td>2019-08-03</td>\n",
       "      <td>346854</td>\n",
       "      <td>66</td>\n",
       "      <td>1845</td>\n",
       "      <td>288850</td>\n",
       "      <td>54</td>\n",
       "      <td>1803</td>\n",
       "    </tr>\n",
       "    <tr>\n",
       "      <th>3</th>\n",
       "      <td>2019-08-04</td>\n",
       "      <td>388030</td>\n",
       "      <td>77</td>\n",
       "      <td>2562</td>\n",
       "      <td>385740</td>\n",
       "      <td>68</td>\n",
       "      <td>2573</td>\n",
       "    </tr>\n",
       "    <tr>\n",
       "      <th>4</th>\n",
       "      <td>2019-08-05</td>\n",
       "      <td>474413</td>\n",
       "      <td>99</td>\n",
       "      <td>3318</td>\n",
       "      <td>475648</td>\n",
       "      <td>89</td>\n",
       "      <td>3280</td>\n",
       "    </tr>\n",
       "  </tbody>\n",
       "</table>\n",
       "</div>"
      ],
      "text/plain": [
       "        date  revenue_a  orders_a  visitors_a  revenue_b  orders_b  visitors_b\n",
       "0 2019-08-01     142779        23         719      59758        17         713\n",
       "1 2019-08-02     234381        42        1338     221801        40        1294\n",
       "2 2019-08-03     346854        66        1845     288850        54        1803\n",
       "3 2019-08-04     388030        77        2562     385740        68        2573\n",
       "4 2019-08-05     474413        99        3318     475648        89        3280"
      ]
     },
     "execution_count": 19,
     "metadata": {},
     "output_type": "execute_result"
    }
   ],
   "source": [
    "cumulative_merged = cumulative_a.merge(cumulative_b, on = ['date'], suffixes = ('_a', '_b'))\n",
    "cumulative_merged.head()"
   ]
  },
  {
   "cell_type": "markdown",
   "id": "e41a519f",
   "metadata": {},
   "source": [
    "### Строю график относительного изменения кумулятивного среднего чека группы `B` к группе `A`. "
   ]
  },
  {
   "cell_type": "code",
   "execution_count": 20,
   "id": "2702a79e",
   "metadata": {},
   "outputs": [
    {
     "data": {
      "image/png": "[encoded data removed]",
      "text/plain": [
       "<Figure size 1080x360 with 1 Axes>"
      ]
     },
     "metadata": {
      "needs_background": "light"
     },
     "output_type": "display_data"
    }
   ],
   "source": [
    "plt.figure(figsize = (15, 5))\n",
    "plt.plot(\n",
    "    cumulative_merged['date'],\n",
    "    (cumulative_merged['revenue_b'] / cumulative_merged['orders_b']) / (cumulative_merged['revenue_a'] / cumulative_merged['orders_a']) -1\n",
    ")\n",
    "plt.xticks(rotation = 45)\n",
    "plt.grid()\n",
    "plt.xlabel('Дата')\n",
    "plt.ylabel('Изменения')\n",
    "plt.title('Изменения относительного кумулятивного среднего чека группы B к группе A')\n",
    "plt.axhline(y = 0, color = 'grey', linestyle = '--')\n",
    "plt.show()"
   ]
  },
  {
   "cell_type": "markdown",
   "id": "d88d6d40",
   "metadata": {},
   "source": [
    "На лицо крупные покупки в группе `В`.\n",
    "### Строю график кумулятивной конверсии по группам."
   ]
  },
  {
   "cell_type": "code",
   "execution_count": 21,
   "id": "3f559487",
   "metadata": {},
   "outputs": [
    {
     "data": {
      "image/png": "[encoded data removed]",
      "text/plain": [
       "<Figure size 1080x360 with 1 Axes>"
      ]
     },
     "metadata": {
      "needs_background": "light"
     },
     "output_type": "display_data"
    }
   ],
   "source": [
    "plt.figure(figsize=(15, 5))\n",
    "plt.plot(cumulative_a['date'], cumulative_a['orders'] / cumulative_a['visitors'], label = 'A')\n",
    "plt.plot(cumulative_b['date'], cumulative_b['orders'] / cumulative_b['visitors'], label = 'B')\n",
    "plt.xticks(rotation = 45)\n",
    "plt.grid()\n",
    "plt.xlabel('Дата')\n",
    "plt.ylabel('Конверсия')\n",
    "plt.title('Кумулятивная конверсия по группам')\n",
    "plt.axis(xmin = cumulative_a['date'].min(), xmax = cumulative_a['date'].max(), ymin = .020, ymax = 0.04)\n",
    "plt.legend()\n",
    "plt.show()"
   ]
  },
  {
   "cell_type": "markdown",
   "id": "7bec2914",
   "metadata": {},
   "source": [
    "- В начале конверсия в обеих группах прыгала, но затем выровнялась. \n",
    "- Группа `В` лидирует.\n",
    "- Разница между группами около 0.2%.\n",
    "\n",
    "### Строю график относительного изменения кумулятивной конверсии группы `B` к группе `A`."
   ]
  },
  {
   "cell_type": "code",
   "execution_count": 22,
   "id": "bc197f08",
   "metadata": {
    "scrolled": false
   },
   "outputs": [
    {
     "data": {
      "image/png": "[encoded data removed]",
      "text/plain": [
       "<Figure size 1080x360 with 1 Axes>"
      ]
     },
     "metadata": {
      "needs_background": "light"
     },
     "output_type": "display_data"
    }
   ],
   "source": [
    "plt.figure(figsize = (15, 5))\n",
    "plt.plot(\n",
    "    cumulative_merged['date'],\n",
    "    (cumulative_merged['orders_b'] / cumulative_merged['visitors_b']) / (cumulative_merged['orders_a'] / cumulative_merged['visitors_a']) -1\n",
    ")\n",
    "plt.xticks(rotation = 45)\n",
    "plt.grid()\n",
    "plt.xlabel('Дата')\n",
    "plt.ylabel('Изменения')\n",
    "plt.title('График относительного изменения кумулятивной конверсии группы B к группе A')\n",
    "plt.axis(xmin = cumulative_merged['date'].min(), xmax = cumulative_merged['date'].max(), ymin = -0.30, ymax = 0.3)\n",
    "plt.axhline(y = 0, color = 'grey', linestyle = '--')\n",
    "plt.axhline(y = 0.15, color = 'black', linestyle = '--')\n",
    "plt.show()"
   ]
  },
  {
   "cell_type": "markdown",
   "id": "26e7be68",
   "metadata": {},
   "source": [
    "Конверсия группы `B` росла в начале теста, и стабильно обгоняет группу `А`.\n",
    "\n",
    "### Строю точечный график количества заказов по пользователям."
   ]
  },
  {
   "cell_type": "code",
   "execution_count": 23,
   "id": "0cc0f3b8",
   "metadata": {},
   "outputs": [
    {
     "data": {
      "image/png": "[encoded data removed]",
      "text/plain": [
       "<Figure size 1080x360 with 1 Axes>"
      ]
     },
     "metadata": {
      "needs_background": "light"
     },
     "output_type": "display_data"
    }
   ],
   "source": [
    "x_values = pd.Series(range(0, orders['revenue'].count()))\n",
    "plt.figure(figsize = (15, 5))\n",
    "sns.scatterplot(x = x_values, y = 'revenue', hue = 'group', data = orders)\n",
    "plt.grid()\n",
    "plt.xlabel('Пользователи')\n",
    "plt.ylabel('Заказы')\n",
    "plt.title('Точечный график количества заказов по пользователям')\n",
    "plt.show()"
   ]
  },
  {
   "cell_type": "markdown",
   "id": "9ea6e120",
   "metadata": {},
   "source": [
    "Теперь видно, что средний чек и выручка по группе `В` сильно увеличились за счет всего одного заказа.\n",
    "### Считаю `95-й` и `99-й` перцентили стоимости заказов."
   ]
  },
  {
   "cell_type": "code",
   "execution_count": 24,
   "id": "1bbd952d",
   "metadata": {},
   "outputs": [
    {
     "data": {
      "text/plain": [
       "array([26785., 53904.])"
      ]
     },
     "execution_count": 24,
     "metadata": {},
     "output_type": "execute_result"
    }
   ],
   "source": [
    "np.percentile(orders['revenue'], [95, 99])"
   ]
  },
  {
   "cell_type": "markdown",
   "id": "6e80c9d4",
   "metadata": {},
   "source": [
    "Не более `5%` заказов дороже **26785** и не более `1%` дороже **53904**. Убираю все что выше `99` перцентиля."
   ]
  },
  {
   "cell_type": "code",
   "execution_count": 25,
   "id": "e817ec43",
   "metadata": {
    "scrolled": false
   },
   "outputs": [
    {
     "data": {
      "image/png": "[encoded data removed]",
      "text/plain": [
       "<Figure size 1080x360 with 1 Axes>"
      ]
     },
     "metadata": {
      "needs_background": "light"
     },
     "output_type": "display_data"
    }
   ],
   "source": [
    "per_99 = np.percentile(orders['revenue'], [99])[0]\n",
    "orders_clean = orders.query('revenue <= @per_99')\n",
    "\n",
    "x_values = pd.Series(range(0, orders_clean['revenue'].count()))\n",
    "plt.figure(figsize = (15, 5))\n",
    "sns.scatterplot(x = x_values, y = 'revenue', hue = 'group', data = orders_clean)\n",
    "plt.grid()\n",
    "plt.xlabel('Пользователи')\n",
    "plt.ylabel('Заказы')\n",
    "plt.title('Точечный график количества заказов по пользователям')\n",
    "plt.show()"
   ]
  },
  {
   "cell_type": "markdown",
   "id": "5da7c635",
   "metadata": {},
   "source": [
    "Теперь таблица с заказами очищена от аномально дорогих заказов. Но также следует проверить количество заказов на пользователя.\n",
    "### Строю точечный график количества заказов на пользователя."
   ]
  },
  {
   "cell_type": "code",
   "execution_count": 26,
   "id": "c9ee08ed",
   "metadata": {
    "scrolled": false
   },
   "outputs": [
    {
     "data": {
      "image/png": "[encoded data removed]",
      "text/plain": [
       "<Figure size 1080x360 with 1 Axes>"
      ]
     },
     "metadata": {
      "needs_background": "light"
     },
     "output_type": "display_data"
    }
   ],
   "source": [
    "orders_by_users = (orders.groupby('visitor_id')['revenue'].count()\n",
    "                   .reset_index()\n",
    "                   .rename(columns = {'revenue':'orders'}))\n",
    "\n",
    "x_values = pd.Series(range(0, orders_by_users['orders'].count()))\n",
    "plt.figure(figsize = (15, 5))\n",
    "plt.scatter(data = orders_by_users, x = x_values, y = 'orders') \n",
    "plt.grid()\n",
    "plt.xlabel('Пользователи')\n",
    "plt.ylabel('Заказы')\n",
    "plt.title('Точечный график количества заказов на пользователя')\n",
    "plt.yticks([0, 1, 2, 3, 4])\n",
    "plt.show()"
   ]
  },
  {
   "cell_type": "markdown",
   "id": "c79080e1",
   "metadata": {},
   "source": [
    "### Считаю `95-й` и `99-й` перцентили количества заказов на пользователя."
   ]
  },
  {
   "cell_type": "code",
   "execution_count": 27,
   "id": "155d0b75",
   "metadata": {},
   "outputs": [
    {
     "data": {
      "text/plain": [
       "array([1., 2.])"
      ]
     },
     "execution_count": 27,
     "metadata": {},
     "output_type": "execute_result"
    }
   ],
   "source": [
    "np.percentile(orders_by_users['orders'], [95, 99])"
   ]
  },
  {
   "cell_type": "markdown",
   "id": "13176160",
   "metadata": {},
   "source": [
    "Не более `1%` совершают более **2х** заказов. Убираю все что выше `99` перцентиля и формирую итоговую таблицу, без аномалий."
   ]
  },
  {
   "cell_type": "code",
   "execution_count": 28,
   "id": "8a127aa8",
   "metadata": {},
   "outputs": [],
   "source": [
    "per_99 = np.percentile(orders_by_users['orders'], [99])[0]\n",
    "orders_by_users_clean = orders_by_users.query('orders <= @per_99')\n",
    "orders_clean = orders_clean.loc[orders_clean['visitor_id'].isin(orders_by_users_clean['visitor_id'])]"
   ]
  },
  {
   "cell_type": "markdown",
   "id": "88d39cdb",
   "metadata": {},
   "source": [
    "### Считаю статистическую значимость различий в конверсии между группами по «сырым» данным.\n",
    "Для проверки использую непараметрический критерий `Уилкоксона-Манна-Уитни`, т.к. предыдущие шаги показали что данные распределены ненормально."
   ]
  },
  {
   "cell_type": "code",
   "execution_count": 29,
   "id": "e870259b",
   "metadata": {},
   "outputs": [],
   "source": [
    "orders_by_users_a = orders[orders['group'] == 'A'].groupby('visitor_id')['transaction_id'].nunique().reset_index()\n",
    "orders_by_users_a.columns = ['visitors_id','orders']\n",
    "\n",
    "orders_by_users_b = orders[orders['group'] == 'B'].groupby('visitor_id')['transaction_id'].nunique().reset_index()\n",
    "orders_by_users_b.columns = ['visitors_id','orders']\n",
    "\n",
    "freeloaders_a = pd.Series(0, index = np.arange(visitors[visitors['group'] == 'A']['visitors'].sum() - len(orders_by_users_a['orders'])), name = 'orders')\n",
    "freeloaders_b = pd.Series(0, index = np.arange(visitors[visitors['group'] == 'B']['visitors'].sum() - len(orders_by_users_b['orders'])), name = 'orders')\n",
    "\n",
    "sample_a = pd.concat([orders_by_users_a['orders'], freeloaders_a])\n",
    "sample_b = pd.concat([orders_by_users_b['orders'], freeloaders_b])"
   ]
  },
  {
   "cell_type": "markdown",
   "id": "ab88f482",
   "metadata": {},
   "source": [
    "**H0: Конверсия групп `А` и `В` одинаковая**;\n",
    "\n",
    "**H1: Конверсия групп `А` и `В` разная.**"
   ]
  },
  {
   "cell_type": "code",
   "execution_count": 30,
   "id": "b2a5024a",
   "metadata": {
    "scrolled": true
   },
   "outputs": [
    {
     "name": "stdout",
     "output_type": "stream",
     "text": [
      "p-значение: 0.011\n",
      "Отвергаю нулевую гипотезу.\n",
      "Средняя конверсия группы А: 2.5%\n",
      "Средняя конверсия группы B: 2.9%\n"
     ]
    }
   ],
   "source": [
    "alpha = .05\n",
    "\n",
    "results = st.mannwhitneyu(sample_a, sample_b)\n",
    "print('p-значение: {:.3f}'.format(results.pvalue))\n",
    "\n",
    "if results.pvalue < alpha:\n",
    "    print('Отвергаю нулевую гипотезу.')\n",
    "else:\n",
    "    print('Не получилось отвергнуть нулевую гипотезу.')\n",
    "    \n",
    "print('Средняя конверсия группы А: {:.1%}'.format(sample_a.mean()))\n",
    "print('Средняя конверсия группы B: {:.1%}'.format(sample_b.mean()))"
   ]
  },
  {
   "cell_type": "markdown",
   "id": "23cb4ea4",
   "metadata": {},
   "source": [
    "`p_value` меньше заданного значения `alpha`, значит отвергаем гипотизу о равенстве средних конверсий.\n",
    "### Считаю статистическую значимость различий в среднем чеке заказа между группами по «сырым» данным.\n",
    "**H0: Средний чек групп `А` и `В` одинаковый**;\n",
    "\n",
    "**H1: Средний чек групп `А` и `В` разный.**"
   ]
  },
  {
   "cell_type": "code",
   "execution_count": 31,
   "id": "6cce2493",
   "metadata": {},
   "outputs": [
    {
     "name": "stdout",
     "output_type": "stream",
     "text": [
      "p-значение: 0.829\n",
      "Не получилось отвергнуть нулевую гипотезу.\n",
      "Средний чек группы А: 7189.44\n",
      "Средний чек группы B: 9249.95\n"
     ]
    }
   ],
   "source": [
    "alpha = .05\n",
    "\n",
    "results = st.mannwhitneyu(orders[orders['group'] == 'A']['revenue'], orders[orders['group'] == 'B']['revenue'])\n",
    "print('p-значение: {:.3f}'.format(results.pvalue))\n",
    "\n",
    "if results.pvalue < alpha:\n",
    "    print('Отвергаю нулевую гипотезу.')\n",
    "else:\n",
    "    print('Не получилось отвергнуть нулевую гипотезу.')\n",
    "    \n",
    "print('Средний чек группы А: {:.2f}'.format(orders[orders['group'] == 'A']['revenue'].mean()))\n",
    "print('Средний чек группы B: {:.2f}'.format(orders[orders['group'] == 'B']['revenue'].mean()))"
   ]
  },
  {
   "cell_type": "markdown",
   "id": "31cfacf4",
   "metadata": {},
   "source": [
    "Несмотря на разницу среднего чека более чем в **2000**, тест показывает, что нельзя отвергнуть гипотизу о равенстве средних, такое различие статистически не значимо. \n",
    "### Считаю статистическую значимость различий в конверсии между группами по «очищенным» данным."
   ]
  },
  {
   "cell_type": "code",
   "execution_count": 32,
   "id": "15eb631f",
   "metadata": {},
   "outputs": [],
   "source": [
    "orders_by_users_a = orders_clean[orders_clean['group'] == 'A'].groupby('visitor_id')['transaction_id'].nunique().reset_index()\n",
    "orders_by_users_a.columns = ['visitors_id','orders']\n",
    "\n",
    "orders_by_users_b = orders_clean[orders_clean['group'] == 'B'].groupby('visitor_id')['transaction_id'].nunique().reset_index()\n",
    "orders_by_users_b.columns = ['visitors_id','orders']\n",
    "\n",
    "freeloaders_a = pd.Series(0, index = np.arange(visitors[visitors['group'] == 'A']['visitors'].sum() - len(orders_by_users_a['orders'])), name = 'orders')\n",
    "freeloaders_b = pd.Series(0, index = np.arange(visitors[visitors['group'] == 'B']['visitors'].sum() - len(orders_by_users_b['orders'])), name = 'orders')\n",
    "\n",
    "sample_a = pd.concat([orders_by_users_a['orders'], freeloaders_a])\n",
    "sample_b = pd.concat([orders_by_users_b['orders'], freeloaders_b])"
   ]
  },
  {
   "cell_type": "markdown",
   "id": "133fc795",
   "metadata": {},
   "source": [
    "**H0: Конверсия групп `А` и `В` одинаковая**;\n",
    "\n",
    "**H1: Конверсия групп `А` и `В` разная.**"
   ]
  },
  {
   "cell_type": "code",
   "execution_count": 33,
   "id": "a0f1f081",
   "metadata": {},
   "outputs": [
    {
     "name": "stdout",
     "output_type": "stream",
     "text": [
      "p-значение: 0.007\n",
      "Отвергаю нулевую гипотезу.\n",
      "Средняя конверсия группы А: 2.4%\n",
      "Средняя конверсия группы B: 2.8%\n"
     ]
    }
   ],
   "source": [
    "alpha = .05\n",
    "\n",
    "results = st.mannwhitneyu(sample_a, sample_b)\n",
    "print('p-значение: {:.3f}'.format(results.pvalue))\n",
    "\n",
    "if results.pvalue < alpha:\n",
    "    print('Отвергаю нулевую гипотезу.')\n",
    "else:\n",
    "    print('Не получилось отвергнуть нулевую гипотезу.')\n",
    "    \n",
    "print('Средняя конверсия группы А: {:.1%}'.format(sample_a.mean()))\n",
    "print('Средняя конверсия группы B: {:.1%}'.format(sample_b.mean()))"
   ]
  },
  {
   "cell_type": "markdown",
   "id": "e20faf16",
   "metadata": {},
   "source": [
    "Отвергаю нулевую гипотезу. Ситуация практически не изменилась, только конверсия немного уменьшилась. Группа `В` - лидер по конверсии.\n",
    "### Считаю статистическую значимость различий в среднем чеке заказа между группами по «очищенным» данным.\n",
    "**H0: Средний чек групп `А` и `В` одинаковый**;\n",
    "\n",
    "**H1: Средний чек групп `А` и `В` разный.**"
   ]
  },
  {
   "cell_type": "code",
   "execution_count": 34,
   "id": "fe21e88f",
   "metadata": {},
   "outputs": [
    {
     "name": "stdout",
     "output_type": "stream",
     "text": [
      "p-значение: 0.788\n",
      "Не получилось отвергнуть нулевую гипотезу.\n",
      "Средний чек группы А: 6487.02\n",
      "Средний чек группы B: 6277.27\n"
     ]
    }
   ],
   "source": [
    "alpha = .05\n",
    "\n",
    "results = st.mannwhitneyu(orders_clean[orders_clean['group']=='A']['revenue'], orders_clean[orders_clean['group']=='B']['revenue'])\n",
    "print('p-значение: {:.3f}'.format(results.pvalue))\n",
    "\n",
    "if results.pvalue < alpha:\n",
    "    print('Отвергаем нулевую гипотезу.')\n",
    "else:\n",
    "    print('Не получилось отвергнуть нулевую гипотезу.')\n",
    "    \n",
    "print('Средний чек группы А: {:.2f}'.format(orders_clean[orders_clean['group']=='A']['revenue'].mean()))\n",
    "print('Средний чек группы B: {:.2f}'.format(orders_clean[orders_clean['group']=='B']['revenue'].mean()))"
   ]
  },
  {
   "cell_type": "markdown",
   "id": "27c732f4",
   "metadata": {},
   "source": [
    "Не получилось отвергнуть нулевую гипотезу о равенстве среднего чека. Но, средние чеки значительно выровнялись, такой большой разницы больше нет.\n",
    "\n",
    "### Подготавливаю таблицу с куммулятивными данными по выручке по очищенным данным."
   ]
  },
  {
   "cell_type": "code",
   "execution_count": 35,
   "id": "06e9813e",
   "metadata": {},
   "outputs": [],
   "source": [
    "orders_pivot = (\n",
    "    dates_groups\n",
    "    .apply(lambda x: orders_clean[np.logical_and(orders_clean['date'] <= x['date'], orders_clean['group'] ==  x['group'])]\n",
    "           .agg({'date':'max', 'group':'max', 'revenue':'sum', 'transaction_id':'nunique'}), axis = 1)\n",
    "    .sort_values(by = ['date','group'])\n",
    ")\n",
    "orders_pivot.rename(columns = {'transaction_id':'orders_clean'}, inplace = True)\n",
    "\n",
    "visitors_pivot = (\n",
    "    dates_groups\n",
    "    .apply(lambda x: visitors[np.logical_and(visitors['date'] <= x['date'], visitors['group'] == x['group'])]\n",
    "           .agg({'date':'max', 'group':'max', 'visitors':'sum'}), axis = 1)\n",
    "    .sort_values(by = ['date','group'])\n",
    ")\n",
    "cumulative_pivot = orders_pivot.merge(visitors_pivot, on = ['date','group'])"
   ]
  },
  {
   "cell_type": "markdown",
   "id": "491049f1",
   "metadata": {},
   "source": [
    "### Строю график кумулятивной выручки по группам по очищенным данным."
   ]
  },
  {
   "cell_type": "code",
   "execution_count": 36,
   "id": "0b3a0da2",
   "metadata": {},
   "outputs": [
    {
     "data": {
      "image/png": "[encoded data removed]",
      "text/plain": [
       "<Figure size 1080x360 with 1 Axes>"
      ]
     },
     "metadata": {
      "needs_background": "light"
     },
     "output_type": "display_data"
    }
   ],
   "source": [
    "cumulative_a = cumulative_pivot.loc[cumulative_pivot['group'] == 'A',['date','revenue','orders_clean','visitors']]\n",
    "cumulative_b = cumulative_pivot.loc[cumulative_pivot['group'] == 'B',['date','revenue','orders_clean','visitors']]\n",
    "\n",
    "plt.figure(figsize = (15, 5))\n",
    "plt.plot(cumulative_a['date'], cumulative_a['revenue'], label = 'A')\n",
    "plt.plot(cumulative_b['date'], cumulative_b['revenue'], label = 'B')\n",
    "plt.xticks(rotation = 45)\n",
    "plt.grid()\n",
    "plt.xlabel('Дата')\n",
    "plt.ylabel('Выручка, млн.')\n",
    "plt.title('Кумулятивная выручка по группам по очищенным данным')\n",
    "plt.legend()\n",
    "plt.show()"
   ]
  },
  {
   "cell_type": "markdown",
   "id": "76beae3e",
   "metadata": {},
   "source": [
    "## Общий вывод:\n",
    "Я получил данные, загрузил их, исправил стиль названия столбцов и приступил к анализу. \n",
    "***\n",
    "Начал с приоритизации гипотез. По фреймворку`ICE` наибольший приоритет у гипотез:\n",
    "- Запустить акцию, дающую скидку на товар в день рождения;\n",
    "- Добавить два новых канала привлечения трафика, что позволит привлекать на 30% больше пользователей; \n",
    "- Добавить форму подписки на все основные страницы, чтобы собрать базу клиентов для email-рассылок.\n",
    "\n",
    "А по фреймворку `RICE` наибольший приоритет у гипотез:\n",
    "- Добавить форму подписки на все основные страницы, чтобы собрать базу клиентов для email-рассылок;\n",
    "- Добавить блоки рекомендаций товаров на сайт интернет магазина, чтобы повысить конверсию и средний чек заказа;\n",
    "- Добавить два новых канала привлечения трафика, что позволит привлекать на 30% больше пользователей.\n",
    "***\n",
    "При анализе A/B-теста я обнаружил, что есть **58** человек, попавших в обе группы, так быть не должно, это могло повлиять на результаты теста, удалил их. Кумулятивной выручка группы `А` растет равномерно, а в группе `В` после **17.08** произошел резкий рост. Очевидно, туда попали крупные покупки. Конверсия группы `B` росла в начале теста, и стабильно обгоняет группу `А`. Избавился от всех выбросов.\n",
    "***\n",
    "Посчитал статистическую значимость различий в конверсии и средних чеках заказов между группами по «сырым» данным.\n",
    "Для проверки использовал непараметрический критерий Уилкоксона-Манна-Уитни, т.к. предыдущие шаги показали что данные распределены ненормально. По результатам тестов нужно отвергаем гипотизу о равенстве средних конверсий и нельзя отвергнуть гипотизу о равенстве средних чеков.\n",
    "***\n",
    "Затем посчитал то же самое по очищенным данным. **По результатам проведенного анализа, на чистых данных, была выявлена статистическая значимость в конверсих двух групп, конверсия в группе `В` выше. В среднем чеке групп не было найдено статистически значимых различий. Но у группы `В` средний чек немного меньше. Учитывая что конверсия и размер куммулитивной выручки группы `В` больше чем у группы `А`, принимаю решение остановить тест и зафиксировать победу группы `В`. Так как средний чек не упал, но конверсия выросла, победа группы `B` даст продукту большее количество заказов.**"
   ]
  }
 ],
 "metadata": {
  "kernelspec": {
   "display_name": "Python 3 (ipykernel)",
   "language": "python",
   "name": "python3"
  },
  "language_info": {
   "codemirror_mode": {
    "name": "ipython",
    "version": 3
   },
   "file_extension": ".py",
   "mimetype": "text/x-python",
   "name": "python",
   "nbconvert_exporter": "python",
   "pygments_lexer": "ipython3",
   "version": "3.9.7"
  },
  "toc": {
   "base_numbering": 1,
   "nav_menu": {},
   "number_sections": true,
   "sideBar": true,
   "skip_h1_title": true,
   "title_cell": "Оглавление:",
   "title_sidebar": "Оглавление:",
   "toc_cell": true,
   "toc_position": {
    "height": "calc(100% - 180px)",
    "left": "10px",
    "top": "150px",
    "width": "273.188px"
   },
   "toc_section_display": true,
   "toc_window_display": true
  }
 },
 "nbformat": 4,
 "nbformat_minor": 5
}
