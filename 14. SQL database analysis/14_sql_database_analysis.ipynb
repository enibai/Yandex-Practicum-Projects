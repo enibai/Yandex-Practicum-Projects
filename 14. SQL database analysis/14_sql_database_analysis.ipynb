{
 "cells": [
  {
   "cell_type": "markdown",
   "metadata": {},
   "source": [
    "# Анализ базы данных."
   ]
  },
  {
   "cell_type": "markdown",
   "metadata": {
    "toc": true
   },
   "source": [
    "<h1>Оглавление:<span class=\"tocSkip\"></span></h1>\n",
    "<div class=\"toc\"><ul class=\"toc-item\"><li><ul class=\"toc-item\"><li><span><a href=\"#Описание-проекта:\" data-toc-modified-id=\"Описание-проекта:-0.1\"><span class=\"toc-item-num\">0.1&nbsp;&nbsp;</span>Описание проекта:</a></span></li><li><span><a href=\"#Описание-данных:\" data-toc-modified-id=\"Описание-данных:-0.2\"><span class=\"toc-item-num\">0.2&nbsp;&nbsp;</span>Описание данных:</a></span></li><li><span><a href=\"#Схема-данных:\" data-toc-modified-id=\"Схема-данных:-0.3\"><span class=\"toc-item-num\">0.3&nbsp;&nbsp;</span>Схема данных:</a></span></li><li><span><a href=\"#Задания:\" data-toc-modified-id=\"Задания:-0.4\"><span class=\"toc-item-num\">0.4&nbsp;&nbsp;</span>Задания:</a></span></li></ul></li><li><span><a href=\"#Импортирую-необходимые-библиотеки:\" data-toc-modified-id=\"Импортирую-необходимые-библиотеки:-1\"><span class=\"toc-item-num\">1&nbsp;&nbsp;</span>Импортирую необходимые библиотеки:</a></span></li><li><span><a href=\"#Устанавливаю-параметры:\" data-toc-modified-id=\"Устанавливаю-параметры:-2\"><span class=\"toc-item-num\">2&nbsp;&nbsp;</span>Устанавливаю параметры:</a></span></li><li><span><a href=\"#Изучаю-общую-информацию.\" data-toc-modified-id=\"Изучаю-общую-информацию.-3\"><span class=\"toc-item-num\">3&nbsp;&nbsp;</span>Изучаю общую информацию.</a></span><ul class=\"toc-item\"><li><span><a href=\"#Вывод:\" data-toc-modified-id=\"Вывод:-3.1\"><span class=\"toc-item-num\">3.1&nbsp;&nbsp;</span>Вывод:</a></span></li></ul></li><li><span><a href=\"#Провожу-исследовательский-анализ-данных-(EDA).\" data-toc-modified-id=\"Провожу-исследовательский-анализ-данных-(EDA).-4\"><span class=\"toc-item-num\">4&nbsp;&nbsp;</span>Провожу исследовательский анализ данных (EDA).</a></span><ul class=\"toc-item\"><li><span><a href=\"#Считаю,-сколько-книг-вышло-после-1-января-2000-года.\" data-toc-modified-id=\"Считаю,-сколько-книг-вышло-после-1-января-2000-года.-4.1\"><span class=\"toc-item-num\">4.1&nbsp;&nbsp;</span>Считаю, сколько книг вышло после 1 января 2000 года.</a></span></li><li><span><a href=\"#Для-каждой-книги-считаю-количество-обзоров-и-среднюю-оценку.\" data-toc-modified-id=\"Для-каждой-книги-считаю-количество-обзоров-и-среднюю-оценку.-4.2\"><span class=\"toc-item-num\">4.2&nbsp;&nbsp;</span>Для каждой книги считаю количество обзоров и среднюю оценку.</a></span></li><li><span><a href=\"#Определяю-издательство,-которое-выпустило-наибольшее-число-книг-толще-50-страниц.\" data-toc-modified-id=\"Определяю-издательство,-которое-выпустило-наибольшее-число-книг-толще-50-страниц.-4.3\"><span class=\"toc-item-num\">4.3&nbsp;&nbsp;</span>Определяю издательство, которое выпустило наибольшее число книг толще 50 страниц.</a></span></li><li><span><a href=\"#Определяю-автора-с-самой-высокой-средней-оценкой-книг---учитывая-только-книги-с-50-и-более-оценками.\" data-toc-modified-id=\"Определяю-автора-с-самой-высокой-средней-оценкой-книг---учитывая-только-книги-с-50-и-более-оценками.-4.4\"><span class=\"toc-item-num\">4.4&nbsp;&nbsp;</span>Определяю автора с самой высокой средней оценкой книг - учитывая только книги с 50 и более оценками.</a></span></li><li><span><a href=\"#Считаю-среднее-количество-обзоров-от-пользователей,-которые-поставили-больше-50-оценок.\" data-toc-modified-id=\"Считаю-среднее-количество-обзоров-от-пользователей,-которые-поставили-больше-50-оценок.-4.5\"><span class=\"toc-item-num\">4.5&nbsp;&nbsp;</span>Считаю среднее количество обзоров от пользователей, которые поставили больше 50 оценок.</a></span></li></ul></li><li><span><a href=\"#Вывод:\" data-toc-modified-id=\"Вывод:-5\"><span class=\"toc-item-num\">5&nbsp;&nbsp;</span>Вывод:</a></span></li></ul></div>"
   ]
  },
  {
   "cell_type": "markdown",
   "metadata": {},
   "source": [
    "### Описание проекта:\n",
    "Коронавирус застал мир врасплох, изменив привычный порядок вещей. В свободное время жители городов больше не выходят на улицу, не посещают кафе и торговые центры. Зато стало больше времени для книг. Это заметили стартаперы - и бросились создавать приложения для тех, кто любит читать.\n",
    "Ваша компания решила быть на волне и купила крупный сервис для чтения книг по подписке. Задача - проанализировать базу данных. В ней - информация о книгах, издательствах, авторах, а также пользовательские обзоры книг. Эти данные помогут сформулировать ценностное предложение для нового продукта.\n",
    "### Описание данных:\n",
    "Таблица `books`, содержит данные о книгах:  \n",
    "- **`book_id`** - идентификатор книги;\n",
    "- **`author_id`** - идентификатор автора;\n",
    "- **`title`** - название книги;\n",
    "- **`num_pages`** - количество страниц;\n",
    "- **`publication_date`** - дата публикации книги;\n",
    "- **`publisher_id`** - идентификатор издателя.\n",
    "\n",
    "Таблица `authors`, содержит данные об авторах:   \n",
    "- **`author_id`** - идентификатор автора;\n",
    "- **`author`** - имя автора.\n",
    "\n",
    "Таблица `publishers`, содержит данные об издательствах:\n",
    "- **`publisher_id`** - идентификатор издательства;\n",
    "- **`publisher`** - название издательства.\n",
    "\n",
    "Таблица `ratings`, содержит данные о пользовательских оценках книг:\n",
    "- **`rating_id`** - идентификатор оценки;\n",
    "- **`book_id`** - идентификатор книги;\n",
    "- **`username`** - имя пользователя, оставившего оценку;\n",
    "- **`rating`** - оценка книги.\n",
    "\n",
    "Таблица `reviews`, содержит данные о пользовательских обзорах:\n",
    "- **`review_id`** - идентификатор обзора;\n",
    "- **`book_id`** - идентификатор книги;\n",
    "- **`username`** - имя автора обзора;\n",
    "- **`text`** - текст обзора.\n",
    "\n",
    "### Схема данных:\n",
    "![jupyter](https://pictures.s3.yandex.net/resources/scheme_1589269096.png)\n",
    "\n",
    "### Задания:\n",
    "- Посчитайте, сколько книг вышло после 1 января 2000 года;\n",
    "- Для каждой книги посчитайте количество обзоров и среднюю оценку;\n",
    "- Определите издательство, которое выпустило наибольшее число книг толще 50 страниц - так вы исключите из анализа брошюры;\n",
    "- Определите автора с самой высокой средней оценкой книг - учитывайте только книги с 50 и более оценками;\n",
    "- Посчитайте среднее количество обзоров от пользователей, которые поставили больше 50 оценок."
   ]
  },
  {
   "cell_type": "markdown",
   "metadata": {},
   "source": [
    "## Импортирую необходимые библиотеки:"
   ]
  },
  {
   "cell_type": "code",
   "execution_count": 1,
   "metadata": {},
   "outputs": [],
   "source": [
    "import pandas as pd\n",
    "from sqlalchemy import create_engine"
   ]
  },
  {
   "cell_type": "markdown",
   "metadata": {},
   "source": [
    "## Устанавливаю параметры:"
   ]
  },
  {
   "cell_type": "code",
   "execution_count": 2,
   "metadata": {},
   "outputs": [],
   "source": [
    "db_config = {'user':'praktikum_student', # имя пользователя\n",
    "              'pwd':'Sdf4$2;d-d30pp', # пароль\n",
    "             'host':'rc1b-wcoijxj3yxfsf3fs.mdb.yandexcloud.net',\n",
    "             'port':6432, # порт подключения\n",
    "               'db':'data-analyst-final-project-db'} # название базы данных\n",
    "\n",
    "connection_string = 'postgresql://{}:{}@{}:{}/{}'.format(db_config['user'],\n",
    "                                                         db_config['pwd'],\n",
    "                                                         db_config['host'],\n",
    "                                                         db_config['port'],\n",
    "                                                         db_config['db'])\n",
    "\n",
    "engine = create_engine(connection_string, connect_args = {'sslmode':'require'}) # сохраняю коннектор"
   ]
  },
  {
   "cell_type": "markdown",
   "metadata": {},
   "source": [
    "## Изучаю общую информацию."
   ]
  },
  {
   "cell_type": "code",
   "execution_count": 3,
   "metadata": {},
   "outputs": [],
   "source": [
    "def table_info(table):\n",
    "    display(pd.io.sql.read_sql('''SELECT * FROM {} LIMIT 5;'''.format(table), con = engine))\n",
    "    print('-' * 50)\n",
    "    pd.io.sql.read_sql('''SELECT * FROM {};'''.format(table), con = engine).info()\n",
    "    print('-' * 50)\n",
    "    display(pd.io.sql.read_sql('''SELECT * FROM {};'''.format(table), con = engine).describe(include = 'all'))\n",
    "    print('-' * 50)\n",
    "    print('Количество явных дубликатов:', pd.io.sql.read_sql('''SELECT * FROM {};'''.format(table), con = engine).duplicated().sum())"
   ]
  },
  {
   "cell_type": "code",
   "execution_count": 4,
   "metadata": {},
   "outputs": [
    {
     "data": {
      "text/html": [
       "<div>\n",
       "<style scoped>\n",
       "    .dataframe tbody tr th:only-of-type {\n",
       "        vertical-align: middle;\n",
       "    }\n",
       "\n",
       "    .dataframe tbody tr th {\n",
       "        vertical-align: top;\n",
       "    }\n",
       "\n",
       "    .dataframe thead th {\n",
       "        text-align: right;\n",
       "    }\n",
       "</style>\n",
       "<table border=\"1\" class=\"dataframe\">\n",
       "  <thead>\n",
       "    <tr style=\"text-align: right;\">\n",
       "      <th></th>\n",
       "      <th>book_id</th>\n",
       "      <th>author_id</th>\n",
       "      <th>title</th>\n",
       "      <th>num_pages</th>\n",
       "      <th>publication_date</th>\n",
       "      <th>publisher_id</th>\n",
       "    </tr>\n",
       "  </thead>\n",
       "  <tbody>\n",
       "    <tr>\n",
       "      <th>0</th>\n",
       "      <td>1</td>\n",
       "      <td>546</td>\n",
       "      <td>'Salem's Lot</td>\n",
       "      <td>594</td>\n",
       "      <td>2005-11-01</td>\n",
       "      <td>93</td>\n",
       "    </tr>\n",
       "    <tr>\n",
       "      <th>1</th>\n",
       "      <td>2</td>\n",
       "      <td>465</td>\n",
       "      <td>1 000 Places to See Before You Die</td>\n",
       "      <td>992</td>\n",
       "      <td>2003-05-22</td>\n",
       "      <td>336</td>\n",
       "    </tr>\n",
       "    <tr>\n",
       "      <th>2</th>\n",
       "      <td>3</td>\n",
       "      <td>407</td>\n",
       "      <td>13 Little Blue Envelopes (Little Blue Envelope...</td>\n",
       "      <td>322</td>\n",
       "      <td>2010-12-21</td>\n",
       "      <td>135</td>\n",
       "    </tr>\n",
       "    <tr>\n",
       "      <th>3</th>\n",
       "      <td>4</td>\n",
       "      <td>82</td>\n",
       "      <td>1491: New Revelations of the Americas Before C...</td>\n",
       "      <td>541</td>\n",
       "      <td>2006-10-10</td>\n",
       "      <td>309</td>\n",
       "    </tr>\n",
       "    <tr>\n",
       "      <th>4</th>\n",
       "      <td>5</td>\n",
       "      <td>125</td>\n",
       "      <td>1776</td>\n",
       "      <td>386</td>\n",
       "      <td>2006-07-04</td>\n",
       "      <td>268</td>\n",
       "    </tr>\n",
       "  </tbody>\n",
       "</table>\n",
       "</div>"
      ],
      "text/plain": [
       "   book_id  author_id                                              title  \\\n",
       "0        1        546                                       'Salem's Lot   \n",
       "1        2        465                 1 000 Places to See Before You Die   \n",
       "2        3        407  13 Little Blue Envelopes (Little Blue Envelope...   \n",
       "3        4         82  1491: New Revelations of the Americas Before C...   \n",
       "4        5        125                                               1776   \n",
       "\n",
       "   num_pages publication_date  publisher_id  \n",
       "0        594       2005-11-01            93  \n",
       "1        992       2003-05-22           336  \n",
       "2        322       2010-12-21           135  \n",
       "3        541       2006-10-10           309  \n",
       "4        386       2006-07-04           268  "
      ]
     },
     "metadata": {},
     "output_type": "display_data"
    },
    {
     "name": "stdout",
     "output_type": "stream",
     "text": [
      "--------------------------------------------------\n",
      "<class 'pandas.core.frame.DataFrame'>\n",
      "RangeIndex: 1000 entries, 0 to 999\n",
      "Data columns (total 6 columns):\n",
      " #   Column            Non-Null Count  Dtype \n",
      "---  ------            --------------  ----- \n",
      " 0   book_id           1000 non-null   int64 \n",
      " 1   author_id         1000 non-null   int64 \n",
      " 2   title             1000 non-null   object\n",
      " 3   num_pages         1000 non-null   int64 \n",
      " 4   publication_date  1000 non-null   object\n",
      " 5   publisher_id      1000 non-null   int64 \n",
      "dtypes: int64(4), object(2)\n",
      "memory usage: 47.0+ KB\n",
      "--------------------------------------------------\n"
     ]
    },
    {
     "data": {
      "text/html": [
       "<div>\n",
       "<style scoped>\n",
       "    .dataframe tbody tr th:only-of-type {\n",
       "        vertical-align: middle;\n",
       "    }\n",
       "\n",
       "    .dataframe tbody tr th {\n",
       "        vertical-align: top;\n",
       "    }\n",
       "\n",
       "    .dataframe thead th {\n",
       "        text-align: right;\n",
       "    }\n",
       "</style>\n",
       "<table border=\"1\" class=\"dataframe\">\n",
       "  <thead>\n",
       "    <tr style=\"text-align: right;\">\n",
       "      <th></th>\n",
       "      <th>book_id</th>\n",
       "      <th>author_id</th>\n",
       "      <th>title</th>\n",
       "      <th>num_pages</th>\n",
       "      <th>publication_date</th>\n",
       "      <th>publisher_id</th>\n",
       "    </tr>\n",
       "  </thead>\n",
       "  <tbody>\n",
       "    <tr>\n",
       "      <th>count</th>\n",
       "      <td>1000.000000</td>\n",
       "      <td>1000.000000</td>\n",
       "      <td>1000</td>\n",
       "      <td>1000.00000</td>\n",
       "      <td>1000</td>\n",
       "      <td>1000.000000</td>\n",
       "    </tr>\n",
       "    <tr>\n",
       "      <th>unique</th>\n",
       "      <td>NaN</td>\n",
       "      <td>NaN</td>\n",
       "      <td>999</td>\n",
       "      <td>NaN</td>\n",
       "      <td>618</td>\n",
       "      <td>NaN</td>\n",
       "    </tr>\n",
       "    <tr>\n",
       "      <th>top</th>\n",
       "      <td>NaN</td>\n",
       "      <td>NaN</td>\n",
       "      <td>Memoirs of a Geisha</td>\n",
       "      <td>NaN</td>\n",
       "      <td>2006-08-29</td>\n",
       "      <td>NaN</td>\n",
       "    </tr>\n",
       "    <tr>\n",
       "      <th>freq</th>\n",
       "      <td>NaN</td>\n",
       "      <td>NaN</td>\n",
       "      <td>2</td>\n",
       "      <td>NaN</td>\n",
       "      <td>10</td>\n",
       "      <td>NaN</td>\n",
       "    </tr>\n",
       "    <tr>\n",
       "      <th>mean</th>\n",
       "      <td>500.500000</td>\n",
       "      <td>320.417000</td>\n",
       "      <td>NaN</td>\n",
       "      <td>389.11100</td>\n",
       "      <td>NaN</td>\n",
       "      <td>171.270000</td>\n",
       "    </tr>\n",
       "    <tr>\n",
       "      <th>std</th>\n",
       "      <td>288.819436</td>\n",
       "      <td>181.620172</td>\n",
       "      <td>NaN</td>\n",
       "      <td>229.39014</td>\n",
       "      <td>NaN</td>\n",
       "      <td>99.082685</td>\n",
       "    </tr>\n",
       "    <tr>\n",
       "      <th>min</th>\n",
       "      <td>1.000000</td>\n",
       "      <td>1.000000</td>\n",
       "      <td>NaN</td>\n",
       "      <td>14.00000</td>\n",
       "      <td>NaN</td>\n",
       "      <td>1.000000</td>\n",
       "    </tr>\n",
       "    <tr>\n",
       "      <th>25%</th>\n",
       "      <td>250.750000</td>\n",
       "      <td>162.750000</td>\n",
       "      <td>NaN</td>\n",
       "      <td>249.00000</td>\n",
       "      <td>NaN</td>\n",
       "      <td>83.000000</td>\n",
       "    </tr>\n",
       "    <tr>\n",
       "      <th>50%</th>\n",
       "      <td>500.500000</td>\n",
       "      <td>316.500000</td>\n",
       "      <td>NaN</td>\n",
       "      <td>352.00000</td>\n",
       "      <td>NaN</td>\n",
       "      <td>177.500000</td>\n",
       "    </tr>\n",
       "    <tr>\n",
       "      <th>75%</th>\n",
       "      <td>750.250000</td>\n",
       "      <td>481.000000</td>\n",
       "      <td>NaN</td>\n",
       "      <td>453.00000</td>\n",
       "      <td>NaN</td>\n",
       "      <td>258.000000</td>\n",
       "    </tr>\n",
       "    <tr>\n",
       "      <th>max</th>\n",
       "      <td>1000.000000</td>\n",
       "      <td>636.000000</td>\n",
       "      <td>NaN</td>\n",
       "      <td>2690.00000</td>\n",
       "      <td>NaN</td>\n",
       "      <td>340.000000</td>\n",
       "    </tr>\n",
       "  </tbody>\n",
       "</table>\n",
       "</div>"
      ],
      "text/plain": [
       "            book_id    author_id                title   num_pages  \\\n",
       "count   1000.000000  1000.000000                 1000  1000.00000   \n",
       "unique          NaN          NaN                  999         NaN   \n",
       "top             NaN          NaN  Memoirs of a Geisha         NaN   \n",
       "freq            NaN          NaN                    2         NaN   \n",
       "mean     500.500000   320.417000                  NaN   389.11100   \n",
       "std      288.819436   181.620172                  NaN   229.39014   \n",
       "min        1.000000     1.000000                  NaN    14.00000   \n",
       "25%      250.750000   162.750000                  NaN   249.00000   \n",
       "50%      500.500000   316.500000                  NaN   352.00000   \n",
       "75%      750.250000   481.000000                  NaN   453.00000   \n",
       "max     1000.000000   636.000000                  NaN  2690.00000   \n",
       "\n",
       "       publication_date  publisher_id  \n",
       "count              1000   1000.000000  \n",
       "unique              618           NaN  \n",
       "top          2006-08-29           NaN  \n",
       "freq                 10           NaN  \n",
       "mean                NaN    171.270000  \n",
       "std                 NaN     99.082685  \n",
       "min                 NaN      1.000000  \n",
       "25%                 NaN     83.000000  \n",
       "50%                 NaN    177.500000  \n",
       "75%                 NaN    258.000000  \n",
       "max                 NaN    340.000000  "
      ]
     },
     "metadata": {},
     "output_type": "display_data"
    },
    {
     "name": "stdout",
     "output_type": "stream",
     "text": [
      "--------------------------------------------------\n",
      "Количество явных дубликатов: 0\n"
     ]
    }
   ],
   "source": [
    "table_info('books')"
   ]
  },
  {
   "cell_type": "code",
   "execution_count": 5,
   "metadata": {},
   "outputs": [
    {
     "data": {
      "text/html": [
       "<div>\n",
       "<style scoped>\n",
       "    .dataframe tbody tr th:only-of-type {\n",
       "        vertical-align: middle;\n",
       "    }\n",
       "\n",
       "    .dataframe tbody tr th {\n",
       "        vertical-align: top;\n",
       "    }\n",
       "\n",
       "    .dataframe thead th {\n",
       "        text-align: right;\n",
       "    }\n",
       "</style>\n",
       "<table border=\"1\" class=\"dataframe\">\n",
       "  <thead>\n",
       "    <tr style=\"text-align: right;\">\n",
       "      <th></th>\n",
       "      <th>book_id</th>\n",
       "      <th>author_id</th>\n",
       "      <th>title</th>\n",
       "      <th>num_pages</th>\n",
       "      <th>publication_date</th>\n",
       "      <th>publisher_id</th>\n",
       "    </tr>\n",
       "  </thead>\n",
       "  <tbody>\n",
       "    <tr>\n",
       "      <th>0</th>\n",
       "      <td>426</td>\n",
       "      <td>39</td>\n",
       "      <td>Memoirs of a Geisha</td>\n",
       "      <td>434</td>\n",
       "      <td>2005-11-15</td>\n",
       "      <td>241</td>\n",
       "    </tr>\n",
       "    <tr>\n",
       "      <th>1</th>\n",
       "      <td>427</td>\n",
       "      <td>39</td>\n",
       "      <td>Memoirs of a Geisha</td>\n",
       "      <td>503</td>\n",
       "      <td>2005-11-22</td>\n",
       "      <td>311</td>\n",
       "    </tr>\n",
       "  </tbody>\n",
       "</table>\n",
       "</div>"
      ],
      "text/plain": [
       "   book_id  author_id                title  num_pages publication_date  \\\n",
       "0      426         39  Memoirs of a Geisha        434       2005-11-15   \n",
       "1      427         39  Memoirs of a Geisha        503       2005-11-22   \n",
       "\n",
       "   publisher_id  \n",
       "0           241  \n",
       "1           311  "
      ]
     },
     "execution_count": 5,
     "metadata": {},
     "output_type": "execute_result"
    }
   ],
   "source": [
    "pd.io.sql.read_sql(''' SELECT *\n",
    "                         FROM books\n",
    "                        WHERE title = 'Memoirs of a Geisha';\n",
    "                   ''', con = engine)"
   ]
  },
  {
   "cell_type": "markdown",
   "metadata": {},
   "source": [
    "Таблица `books` содержит **1000** записей по **6** столбцам. Типы данных соответствуют содержимому столбцов. Пропусков и явных дубликатов нет. Данные изначально очень хорошего качества. \n",
    "\n",
    "Одна книга - **Memoirs of a Geisha**, представлена дважды, под разными издательствами, остальные **999** книг уникальны. Количество страниц от **14** до **2690**, в среднем - **352**. Представлено **636** уникальных авторов и **340** уникальных издательств. Самая частая дата публикации книги - **29 августа 2006**, в этот день выпущено **10** книг."
   ]
  },
  {
   "cell_type": "code",
   "execution_count": 6,
   "metadata": {},
   "outputs": [
    {
     "data": {
      "text/html": [
       "<div>\n",
       "<style scoped>\n",
       "    .dataframe tbody tr th:only-of-type {\n",
       "        vertical-align: middle;\n",
       "    }\n",
       "\n",
       "    .dataframe tbody tr th {\n",
       "        vertical-align: top;\n",
       "    }\n",
       "\n",
       "    .dataframe thead th {\n",
       "        text-align: right;\n",
       "    }\n",
       "</style>\n",
       "<table border=\"1\" class=\"dataframe\">\n",
       "  <thead>\n",
       "    <tr style=\"text-align: right;\">\n",
       "      <th></th>\n",
       "      <th>author_id</th>\n",
       "      <th>author</th>\n",
       "    </tr>\n",
       "  </thead>\n",
       "  <tbody>\n",
       "    <tr>\n",
       "      <th>0</th>\n",
       "      <td>1</td>\n",
       "      <td>A.S. Byatt</td>\n",
       "    </tr>\n",
       "    <tr>\n",
       "      <th>1</th>\n",
       "      <td>2</td>\n",
       "      <td>Aesop/Laura Harris/Laura Gibbs</td>\n",
       "    </tr>\n",
       "    <tr>\n",
       "      <th>2</th>\n",
       "      <td>3</td>\n",
       "      <td>Agatha Christie</td>\n",
       "    </tr>\n",
       "    <tr>\n",
       "      <th>3</th>\n",
       "      <td>4</td>\n",
       "      <td>Alan Brennert</td>\n",
       "    </tr>\n",
       "    <tr>\n",
       "      <th>4</th>\n",
       "      <td>5</td>\n",
       "      <td>Alan Moore/David   Lloyd</td>\n",
       "    </tr>\n",
       "  </tbody>\n",
       "</table>\n",
       "</div>"
      ],
      "text/plain": [
       "   author_id                          author\n",
       "0          1                      A.S. Byatt\n",
       "1          2  Aesop/Laura Harris/Laura Gibbs\n",
       "2          3                 Agatha Christie\n",
       "3          4                   Alan Brennert\n",
       "4          5        Alan Moore/David   Lloyd"
      ]
     },
     "metadata": {},
     "output_type": "display_data"
    },
    {
     "name": "stdout",
     "output_type": "stream",
     "text": [
      "--------------------------------------------------\n",
      "<class 'pandas.core.frame.DataFrame'>\n",
      "RangeIndex: 636 entries, 0 to 635\n",
      "Data columns (total 2 columns):\n",
      " #   Column     Non-Null Count  Dtype \n",
      "---  ------     --------------  ----- \n",
      " 0   author_id  636 non-null    int64 \n",
      " 1   author     636 non-null    object\n",
      "dtypes: int64(1), object(1)\n",
      "memory usage: 10.1+ KB\n",
      "--------------------------------------------------\n"
     ]
    },
    {
     "data": {
      "text/html": [
       "<div>\n",
       "<style scoped>\n",
       "    .dataframe tbody tr th:only-of-type {\n",
       "        vertical-align: middle;\n",
       "    }\n",
       "\n",
       "    .dataframe tbody tr th {\n",
       "        vertical-align: top;\n",
       "    }\n",
       "\n",
       "    .dataframe thead th {\n",
       "        text-align: right;\n",
       "    }\n",
       "</style>\n",
       "<table border=\"1\" class=\"dataframe\">\n",
       "  <thead>\n",
       "    <tr style=\"text-align: right;\">\n",
       "      <th></th>\n",
       "      <th>author_id</th>\n",
       "      <th>author</th>\n",
       "    </tr>\n",
       "  </thead>\n",
       "  <tbody>\n",
       "    <tr>\n",
       "      <th>count</th>\n",
       "      <td>636.000000</td>\n",
       "      <td>636</td>\n",
       "    </tr>\n",
       "    <tr>\n",
       "      <th>unique</th>\n",
       "      <td>NaN</td>\n",
       "      <td>636</td>\n",
       "    </tr>\n",
       "    <tr>\n",
       "      <th>top</th>\n",
       "      <td>NaN</td>\n",
       "      <td>A.S. Byatt</td>\n",
       "    </tr>\n",
       "    <tr>\n",
       "      <th>freq</th>\n",
       "      <td>NaN</td>\n",
       "      <td>1</td>\n",
       "    </tr>\n",
       "    <tr>\n",
       "      <th>mean</th>\n",
       "      <td>318.500000</td>\n",
       "      <td>NaN</td>\n",
       "    </tr>\n",
       "    <tr>\n",
       "      <th>std</th>\n",
       "      <td>183.741666</td>\n",
       "      <td>NaN</td>\n",
       "    </tr>\n",
       "    <tr>\n",
       "      <th>min</th>\n",
       "      <td>1.000000</td>\n",
       "      <td>NaN</td>\n",
       "    </tr>\n",
       "    <tr>\n",
       "      <th>25%</th>\n",
       "      <td>159.750000</td>\n",
       "      <td>NaN</td>\n",
       "    </tr>\n",
       "    <tr>\n",
       "      <th>50%</th>\n",
       "      <td>318.500000</td>\n",
       "      <td>NaN</td>\n",
       "    </tr>\n",
       "    <tr>\n",
       "      <th>75%</th>\n",
       "      <td>477.250000</td>\n",
       "      <td>NaN</td>\n",
       "    </tr>\n",
       "    <tr>\n",
       "      <th>max</th>\n",
       "      <td>636.000000</td>\n",
       "      <td>NaN</td>\n",
       "    </tr>\n",
       "  </tbody>\n",
       "</table>\n",
       "</div>"
      ],
      "text/plain": [
       "         author_id      author\n",
       "count   636.000000         636\n",
       "unique         NaN         636\n",
       "top            NaN  A.S. Byatt\n",
       "freq           NaN           1\n",
       "mean    318.500000         NaN\n",
       "std     183.741666         NaN\n",
       "min       1.000000         NaN\n",
       "25%     159.750000         NaN\n",
       "50%     318.500000         NaN\n",
       "75%     477.250000         NaN\n",
       "max     636.000000         NaN"
      ]
     },
     "metadata": {},
     "output_type": "display_data"
    },
    {
     "name": "stdout",
     "output_type": "stream",
     "text": [
      "--------------------------------------------------\n",
      "Количество явных дубликатов: 0\n"
     ]
    }
   ],
   "source": [
    "table_info('authors')"
   ]
  },
  {
   "cell_type": "markdown",
   "metadata": {},
   "source": [
    "Таблица `authors` содержит **636** записей по **2** столбцам. Типы данных соответствуют содержимому столбцов. Пропусков и явных дубликатов нет. Данные изначально очень хорошего качества. \n",
    "\n",
    "Это **636** уникальных авторов и их id."
   ]
  },
  {
   "cell_type": "code",
   "execution_count": 7,
   "metadata": {},
   "outputs": [
    {
     "data": {
      "text/html": [
       "<div>\n",
       "<style scoped>\n",
       "    .dataframe tbody tr th:only-of-type {\n",
       "        vertical-align: middle;\n",
       "    }\n",
       "\n",
       "    .dataframe tbody tr th {\n",
       "        vertical-align: top;\n",
       "    }\n",
       "\n",
       "    .dataframe thead th {\n",
       "        text-align: right;\n",
       "    }\n",
       "</style>\n",
       "<table border=\"1\" class=\"dataframe\">\n",
       "  <thead>\n",
       "    <tr style=\"text-align: right;\">\n",
       "      <th></th>\n",
       "      <th>publisher_id</th>\n",
       "      <th>publisher</th>\n",
       "    </tr>\n",
       "  </thead>\n",
       "  <tbody>\n",
       "    <tr>\n",
       "      <th>0</th>\n",
       "      <td>1</td>\n",
       "      <td>Ace</td>\n",
       "    </tr>\n",
       "    <tr>\n",
       "      <th>1</th>\n",
       "      <td>2</td>\n",
       "      <td>Ace Book</td>\n",
       "    </tr>\n",
       "    <tr>\n",
       "      <th>2</th>\n",
       "      <td>3</td>\n",
       "      <td>Ace Books</td>\n",
       "    </tr>\n",
       "    <tr>\n",
       "      <th>3</th>\n",
       "      <td>4</td>\n",
       "      <td>Ace Hardcover</td>\n",
       "    </tr>\n",
       "    <tr>\n",
       "      <th>4</th>\n",
       "      <td>5</td>\n",
       "      <td>Addison Wesley Publishing Company</td>\n",
       "    </tr>\n",
       "  </tbody>\n",
       "</table>\n",
       "</div>"
      ],
      "text/plain": [
       "   publisher_id                          publisher\n",
       "0             1                                Ace\n",
       "1             2                           Ace Book\n",
       "2             3                          Ace Books\n",
       "3             4                      Ace Hardcover\n",
       "4             5  Addison Wesley Publishing Company"
      ]
     },
     "metadata": {},
     "output_type": "display_data"
    },
    {
     "name": "stdout",
     "output_type": "stream",
     "text": [
      "--------------------------------------------------\n",
      "<class 'pandas.core.frame.DataFrame'>\n",
      "RangeIndex: 340 entries, 0 to 339\n",
      "Data columns (total 2 columns):\n",
      " #   Column        Non-Null Count  Dtype \n",
      "---  ------        --------------  ----- \n",
      " 0   publisher_id  340 non-null    int64 \n",
      " 1   publisher     340 non-null    object\n",
      "dtypes: int64(1), object(1)\n",
      "memory usage: 5.4+ KB\n",
      "--------------------------------------------------\n"
     ]
    },
    {
     "data": {
      "text/html": [
       "<div>\n",
       "<style scoped>\n",
       "    .dataframe tbody tr th:only-of-type {\n",
       "        vertical-align: middle;\n",
       "    }\n",
       "\n",
       "    .dataframe tbody tr th {\n",
       "        vertical-align: top;\n",
       "    }\n",
       "\n",
       "    .dataframe thead th {\n",
       "        text-align: right;\n",
       "    }\n",
       "</style>\n",
       "<table border=\"1\" class=\"dataframe\">\n",
       "  <thead>\n",
       "    <tr style=\"text-align: right;\">\n",
       "      <th></th>\n",
       "      <th>publisher_id</th>\n",
       "      <th>publisher</th>\n",
       "    </tr>\n",
       "  </thead>\n",
       "  <tbody>\n",
       "    <tr>\n",
       "      <th>count</th>\n",
       "      <td>340.000000</td>\n",
       "      <td>340</td>\n",
       "    </tr>\n",
       "    <tr>\n",
       "      <th>unique</th>\n",
       "      <td>NaN</td>\n",
       "      <td>340</td>\n",
       "    </tr>\n",
       "    <tr>\n",
       "      <th>top</th>\n",
       "      <td>NaN</td>\n",
       "      <td>Ace</td>\n",
       "    </tr>\n",
       "    <tr>\n",
       "      <th>freq</th>\n",
       "      <td>NaN</td>\n",
       "      <td>1</td>\n",
       "    </tr>\n",
       "    <tr>\n",
       "      <th>mean</th>\n",
       "      <td>170.500000</td>\n",
       "      <td>NaN</td>\n",
       "    </tr>\n",
       "    <tr>\n",
       "      <th>std</th>\n",
       "      <td>98.293777</td>\n",
       "      <td>NaN</td>\n",
       "    </tr>\n",
       "    <tr>\n",
       "      <th>min</th>\n",
       "      <td>1.000000</td>\n",
       "      <td>NaN</td>\n",
       "    </tr>\n",
       "    <tr>\n",
       "      <th>25%</th>\n",
       "      <td>85.750000</td>\n",
       "      <td>NaN</td>\n",
       "    </tr>\n",
       "    <tr>\n",
       "      <th>50%</th>\n",
       "      <td>170.500000</td>\n",
       "      <td>NaN</td>\n",
       "    </tr>\n",
       "    <tr>\n",
       "      <th>75%</th>\n",
       "      <td>255.250000</td>\n",
       "      <td>NaN</td>\n",
       "    </tr>\n",
       "    <tr>\n",
       "      <th>max</th>\n",
       "      <td>340.000000</td>\n",
       "      <td>NaN</td>\n",
       "    </tr>\n",
       "  </tbody>\n",
       "</table>\n",
       "</div>"
      ],
      "text/plain": [
       "        publisher_id publisher\n",
       "count     340.000000       340\n",
       "unique           NaN       340\n",
       "top              NaN       Ace\n",
       "freq             NaN         1\n",
       "mean      170.500000       NaN\n",
       "std        98.293777       NaN\n",
       "min         1.000000       NaN\n",
       "25%        85.750000       NaN\n",
       "50%       170.500000       NaN\n",
       "75%       255.250000       NaN\n",
       "max       340.000000       NaN"
      ]
     },
     "metadata": {},
     "output_type": "display_data"
    },
    {
     "name": "stdout",
     "output_type": "stream",
     "text": [
      "--------------------------------------------------\n",
      "Количество явных дубликатов: 0\n"
     ]
    }
   ],
   "source": [
    "table_info('publishers')"
   ]
  },
  {
   "cell_type": "markdown",
   "metadata": {},
   "source": [
    "Таблица `publishers` содержит **340** записей по **2** столбцам. Типы данных соответствуют содержимому столбцов. Пропусков и явных дубликатов нет. Данные изначально очень хорошего качества. \n",
    "\n",
    "Это **340** уникальных издательств и их id."
   ]
  },
  {
   "cell_type": "code",
   "execution_count": 8,
   "metadata": {},
   "outputs": [
    {
     "data": {
      "text/html": [
       "<div>\n",
       "<style scoped>\n",
       "    .dataframe tbody tr th:only-of-type {\n",
       "        vertical-align: middle;\n",
       "    }\n",
       "\n",
       "    .dataframe tbody tr th {\n",
       "        vertical-align: top;\n",
       "    }\n",
       "\n",
       "    .dataframe thead th {\n",
       "        text-align: right;\n",
       "    }\n",
       "</style>\n",
       "<table border=\"1\" class=\"dataframe\">\n",
       "  <thead>\n",
       "    <tr style=\"text-align: right;\">\n",
       "      <th></th>\n",
       "      <th>rating_id</th>\n",
       "      <th>book_id</th>\n",
       "      <th>username</th>\n",
       "      <th>rating</th>\n",
       "    </tr>\n",
       "  </thead>\n",
       "  <tbody>\n",
       "    <tr>\n",
       "      <th>0</th>\n",
       "      <td>1</td>\n",
       "      <td>1</td>\n",
       "      <td>ryanfranco</td>\n",
       "      <td>4</td>\n",
       "    </tr>\n",
       "    <tr>\n",
       "      <th>1</th>\n",
       "      <td>2</td>\n",
       "      <td>1</td>\n",
       "      <td>grantpatricia</td>\n",
       "      <td>2</td>\n",
       "    </tr>\n",
       "    <tr>\n",
       "      <th>2</th>\n",
       "      <td>3</td>\n",
       "      <td>1</td>\n",
       "      <td>brandtandrea</td>\n",
       "      <td>5</td>\n",
       "    </tr>\n",
       "    <tr>\n",
       "      <th>3</th>\n",
       "      <td>4</td>\n",
       "      <td>2</td>\n",
       "      <td>lorichen</td>\n",
       "      <td>3</td>\n",
       "    </tr>\n",
       "    <tr>\n",
       "      <th>4</th>\n",
       "      <td>5</td>\n",
       "      <td>2</td>\n",
       "      <td>mariokeller</td>\n",
       "      <td>2</td>\n",
       "    </tr>\n",
       "  </tbody>\n",
       "</table>\n",
       "</div>"
      ],
      "text/plain": [
       "   rating_id  book_id       username  rating\n",
       "0          1        1     ryanfranco       4\n",
       "1          2        1  grantpatricia       2\n",
       "2          3        1   brandtandrea       5\n",
       "3          4        2       lorichen       3\n",
       "4          5        2    mariokeller       2"
      ]
     },
     "metadata": {},
     "output_type": "display_data"
    },
    {
     "name": "stdout",
     "output_type": "stream",
     "text": [
      "--------------------------------------------------\n",
      "<class 'pandas.core.frame.DataFrame'>\n",
      "RangeIndex: 6456 entries, 0 to 6455\n",
      "Data columns (total 4 columns):\n",
      " #   Column     Non-Null Count  Dtype \n",
      "---  ------     --------------  ----- \n",
      " 0   rating_id  6456 non-null   int64 \n",
      " 1   book_id    6456 non-null   int64 \n",
      " 2   username   6456 non-null   object\n",
      " 3   rating     6456 non-null   int64 \n",
      "dtypes: int64(3), object(1)\n",
      "memory usage: 201.9+ KB\n",
      "--------------------------------------------------\n"
     ]
    },
    {
     "data": {
      "text/html": [
       "<div>\n",
       "<style scoped>\n",
       "    .dataframe tbody tr th:only-of-type {\n",
       "        vertical-align: middle;\n",
       "    }\n",
       "\n",
       "    .dataframe tbody tr th {\n",
       "        vertical-align: top;\n",
       "    }\n",
       "\n",
       "    .dataframe thead th {\n",
       "        text-align: right;\n",
       "    }\n",
       "</style>\n",
       "<table border=\"1\" class=\"dataframe\">\n",
       "  <thead>\n",
       "    <tr style=\"text-align: right;\">\n",
       "      <th></th>\n",
       "      <th>rating_id</th>\n",
       "      <th>book_id</th>\n",
       "      <th>username</th>\n",
       "      <th>rating</th>\n",
       "    </tr>\n",
       "  </thead>\n",
       "  <tbody>\n",
       "    <tr>\n",
       "      <th>count</th>\n",
       "      <td>6456.000000</td>\n",
       "      <td>6456.000000</td>\n",
       "      <td>6456</td>\n",
       "      <td>6456.000000</td>\n",
       "    </tr>\n",
       "    <tr>\n",
       "      <th>unique</th>\n",
       "      <td>NaN</td>\n",
       "      <td>NaN</td>\n",
       "      <td>160</td>\n",
       "      <td>NaN</td>\n",
       "    </tr>\n",
       "    <tr>\n",
       "      <th>top</th>\n",
       "      <td>NaN</td>\n",
       "      <td>NaN</td>\n",
       "      <td>martinadam</td>\n",
       "      <td>NaN</td>\n",
       "    </tr>\n",
       "    <tr>\n",
       "      <th>freq</th>\n",
       "      <td>NaN</td>\n",
       "      <td>NaN</td>\n",
       "      <td>56</td>\n",
       "      <td>NaN</td>\n",
       "    </tr>\n",
       "    <tr>\n",
       "      <th>mean</th>\n",
       "      <td>3228.500000</td>\n",
       "      <td>510.574195</td>\n",
       "      <td>NaN</td>\n",
       "      <td>3.928284</td>\n",
       "    </tr>\n",
       "    <tr>\n",
       "      <th>std</th>\n",
       "      <td>1863.831001</td>\n",
       "      <td>284.141636</td>\n",
       "      <td>NaN</td>\n",
       "      <td>0.943303</td>\n",
       "    </tr>\n",
       "    <tr>\n",
       "      <th>min</th>\n",
       "      <td>1.000000</td>\n",
       "      <td>1.000000</td>\n",
       "      <td>NaN</td>\n",
       "      <td>1.000000</td>\n",
       "    </tr>\n",
       "    <tr>\n",
       "      <th>25%</th>\n",
       "      <td>1614.750000</td>\n",
       "      <td>291.000000</td>\n",
       "      <td>NaN</td>\n",
       "      <td>3.000000</td>\n",
       "    </tr>\n",
       "    <tr>\n",
       "      <th>50%</th>\n",
       "      <td>3228.500000</td>\n",
       "      <td>506.000000</td>\n",
       "      <td>NaN</td>\n",
       "      <td>4.000000</td>\n",
       "    </tr>\n",
       "    <tr>\n",
       "      <th>75%</th>\n",
       "      <td>4842.250000</td>\n",
       "      <td>750.000000</td>\n",
       "      <td>NaN</td>\n",
       "      <td>5.000000</td>\n",
       "    </tr>\n",
       "    <tr>\n",
       "      <th>max</th>\n",
       "      <td>6456.000000</td>\n",
       "      <td>1000.000000</td>\n",
       "      <td>NaN</td>\n",
       "      <td>5.000000</td>\n",
       "    </tr>\n",
       "  </tbody>\n",
       "</table>\n",
       "</div>"
      ],
      "text/plain": [
       "          rating_id      book_id    username       rating\n",
       "count   6456.000000  6456.000000        6456  6456.000000\n",
       "unique          NaN          NaN         160          NaN\n",
       "top             NaN          NaN  martinadam          NaN\n",
       "freq            NaN          NaN          56          NaN\n",
       "mean    3228.500000   510.574195         NaN     3.928284\n",
       "std     1863.831001   284.141636         NaN     0.943303\n",
       "min        1.000000     1.000000         NaN     1.000000\n",
       "25%     1614.750000   291.000000         NaN     3.000000\n",
       "50%     3228.500000   506.000000         NaN     4.000000\n",
       "75%     4842.250000   750.000000         NaN     5.000000\n",
       "max     6456.000000  1000.000000         NaN     5.000000"
      ]
     },
     "metadata": {},
     "output_type": "display_data"
    },
    {
     "name": "stdout",
     "output_type": "stream",
     "text": [
      "--------------------------------------------------\n",
      "Количество явных дубликатов: 0\n"
     ]
    }
   ],
   "source": [
    "table_info('ratings')"
   ]
  },
  {
   "cell_type": "markdown",
   "metadata": {},
   "source": [
    "Таблица `ratings` содержит **6456** записей по **4** столбцам. Типы данных соответствуют содержимому столбцов. Пропусков и явных дубликатов нет. Данные изначально очень хорошего качества. \n",
    "\n",
    "Представлена информация о **160** уникальных пользователях, которые оставили **6456** оценок для **1000** книг. Средняя оценка - **4**. Самый активный пользователь - **martinadam**, он оценил **56** книг."
   ]
  },
  {
   "cell_type": "code",
   "execution_count": 9,
   "metadata": {},
   "outputs": [
    {
     "data": {
      "text/html": [
       "<div>\n",
       "<style scoped>\n",
       "    .dataframe tbody tr th:only-of-type {\n",
       "        vertical-align: middle;\n",
       "    }\n",
       "\n",
       "    .dataframe tbody tr th {\n",
       "        vertical-align: top;\n",
       "    }\n",
       "\n",
       "    .dataframe thead th {\n",
       "        text-align: right;\n",
       "    }\n",
       "</style>\n",
       "<table border=\"1\" class=\"dataframe\">\n",
       "  <thead>\n",
       "    <tr style=\"text-align: right;\">\n",
       "      <th></th>\n",
       "      <th>review_id</th>\n",
       "      <th>book_id</th>\n",
       "      <th>username</th>\n",
       "      <th>text</th>\n",
       "    </tr>\n",
       "  </thead>\n",
       "  <tbody>\n",
       "    <tr>\n",
       "      <th>0</th>\n",
       "      <td>1</td>\n",
       "      <td>1</td>\n",
       "      <td>brandtandrea</td>\n",
       "      <td>Mention society tell send professor analysis. ...</td>\n",
       "    </tr>\n",
       "    <tr>\n",
       "      <th>1</th>\n",
       "      <td>2</td>\n",
       "      <td>1</td>\n",
       "      <td>ryanfranco</td>\n",
       "      <td>Foot glass pretty audience hit themselves. Amo...</td>\n",
       "    </tr>\n",
       "    <tr>\n",
       "      <th>2</th>\n",
       "      <td>3</td>\n",
       "      <td>2</td>\n",
       "      <td>lorichen</td>\n",
       "      <td>Listen treat keep worry. Miss husband tax but ...</td>\n",
       "    </tr>\n",
       "    <tr>\n",
       "      <th>3</th>\n",
       "      <td>4</td>\n",
       "      <td>3</td>\n",
       "      <td>johnsonamanda</td>\n",
       "      <td>Finally month interesting blue could nature cu...</td>\n",
       "    </tr>\n",
       "    <tr>\n",
       "      <th>4</th>\n",
       "      <td>5</td>\n",
       "      <td>3</td>\n",
       "      <td>scotttamara</td>\n",
       "      <td>Nation purpose heavy give wait song will. List...</td>\n",
       "    </tr>\n",
       "  </tbody>\n",
       "</table>\n",
       "</div>"
      ],
      "text/plain": [
       "   review_id  book_id       username  \\\n",
       "0          1        1   brandtandrea   \n",
       "1          2        1     ryanfranco   \n",
       "2          3        2       lorichen   \n",
       "3          4        3  johnsonamanda   \n",
       "4          5        3    scotttamara   \n",
       "\n",
       "                                                text  \n",
       "0  Mention society tell send professor analysis. ...  \n",
       "1  Foot glass pretty audience hit themselves. Amo...  \n",
       "2  Listen treat keep worry. Miss husband tax but ...  \n",
       "3  Finally month interesting blue could nature cu...  \n",
       "4  Nation purpose heavy give wait song will. List...  "
      ]
     },
     "metadata": {},
     "output_type": "display_data"
    },
    {
     "name": "stdout",
     "output_type": "stream",
     "text": [
      "--------------------------------------------------\n",
      "<class 'pandas.core.frame.DataFrame'>\n",
      "RangeIndex: 2793 entries, 0 to 2792\n",
      "Data columns (total 4 columns):\n",
      " #   Column     Non-Null Count  Dtype \n",
      "---  ------     --------------  ----- \n",
      " 0   review_id  2793 non-null   int64 \n",
      " 1   book_id    2793 non-null   int64 \n",
      " 2   username   2793 non-null   object\n",
      " 3   text       2793 non-null   object\n",
      "dtypes: int64(2), object(2)\n",
      "memory usage: 87.4+ KB\n",
      "--------------------------------------------------\n"
     ]
    },
    {
     "data": {
      "text/html": [
       "<div>\n",
       "<style scoped>\n",
       "    .dataframe tbody tr th:only-of-type {\n",
       "        vertical-align: middle;\n",
       "    }\n",
       "\n",
       "    .dataframe tbody tr th {\n",
       "        vertical-align: top;\n",
       "    }\n",
       "\n",
       "    .dataframe thead th {\n",
       "        text-align: right;\n",
       "    }\n",
       "</style>\n",
       "<table border=\"1\" class=\"dataframe\">\n",
       "  <thead>\n",
       "    <tr style=\"text-align: right;\">\n",
       "      <th></th>\n",
       "      <th>review_id</th>\n",
       "      <th>book_id</th>\n",
       "      <th>username</th>\n",
       "      <th>text</th>\n",
       "    </tr>\n",
       "  </thead>\n",
       "  <tbody>\n",
       "    <tr>\n",
       "      <th>count</th>\n",
       "      <td>2793.000000</td>\n",
       "      <td>2793.000000</td>\n",
       "      <td>2793</td>\n",
       "      <td>2793</td>\n",
       "    </tr>\n",
       "    <tr>\n",
       "      <th>unique</th>\n",
       "      <td>NaN</td>\n",
       "      <td>NaN</td>\n",
       "      <td>160</td>\n",
       "      <td>2793</td>\n",
       "    </tr>\n",
       "    <tr>\n",
       "      <th>top</th>\n",
       "      <td>NaN</td>\n",
       "      <td>NaN</td>\n",
       "      <td>susan85</td>\n",
       "      <td>Mention society tell send professor analysis. ...</td>\n",
       "    </tr>\n",
       "    <tr>\n",
       "      <th>freq</th>\n",
       "      <td>NaN</td>\n",
       "      <td>NaN</td>\n",
       "      <td>29</td>\n",
       "      <td>1</td>\n",
       "    </tr>\n",
       "    <tr>\n",
       "      <th>mean</th>\n",
       "      <td>1397.000000</td>\n",
       "      <td>504.693161</td>\n",
       "      <td>NaN</td>\n",
       "      <td>NaN</td>\n",
       "    </tr>\n",
       "    <tr>\n",
       "      <th>std</th>\n",
       "      <td>806.413976</td>\n",
       "      <td>288.472931</td>\n",
       "      <td>NaN</td>\n",
       "      <td>NaN</td>\n",
       "    </tr>\n",
       "    <tr>\n",
       "      <th>min</th>\n",
       "      <td>1.000000</td>\n",
       "      <td>1.000000</td>\n",
       "      <td>NaN</td>\n",
       "      <td>NaN</td>\n",
       "    </tr>\n",
       "    <tr>\n",
       "      <th>25%</th>\n",
       "      <td>699.000000</td>\n",
       "      <td>259.000000</td>\n",
       "      <td>NaN</td>\n",
       "      <td>NaN</td>\n",
       "    </tr>\n",
       "    <tr>\n",
       "      <th>50%</th>\n",
       "      <td>1397.000000</td>\n",
       "      <td>505.000000</td>\n",
       "      <td>NaN</td>\n",
       "      <td>NaN</td>\n",
       "    </tr>\n",
       "    <tr>\n",
       "      <th>75%</th>\n",
       "      <td>2095.000000</td>\n",
       "      <td>753.000000</td>\n",
       "      <td>NaN</td>\n",
       "      <td>NaN</td>\n",
       "    </tr>\n",
       "    <tr>\n",
       "      <th>max</th>\n",
       "      <td>2793.000000</td>\n",
       "      <td>1000.000000</td>\n",
       "      <td>NaN</td>\n",
       "      <td>NaN</td>\n",
       "    </tr>\n",
       "  </tbody>\n",
       "</table>\n",
       "</div>"
      ],
      "text/plain": [
       "          review_id      book_id username  \\\n",
       "count   2793.000000  2793.000000     2793   \n",
       "unique          NaN          NaN      160   \n",
       "top             NaN          NaN  susan85   \n",
       "freq            NaN          NaN       29   \n",
       "mean    1397.000000   504.693161      NaN   \n",
       "std      806.413976   288.472931      NaN   \n",
       "min        1.000000     1.000000      NaN   \n",
       "25%      699.000000   259.000000      NaN   \n",
       "50%     1397.000000   505.000000      NaN   \n",
       "75%     2095.000000   753.000000      NaN   \n",
       "max     2793.000000  1000.000000      NaN   \n",
       "\n",
       "                                                     text  \n",
       "count                                                2793  \n",
       "unique                                               2793  \n",
       "top     Mention society tell send professor analysis. ...  \n",
       "freq                                                    1  \n",
       "mean                                                  NaN  \n",
       "std                                                   NaN  \n",
       "min                                                   NaN  \n",
       "25%                                                   NaN  \n",
       "50%                                                   NaN  \n",
       "75%                                                   NaN  \n",
       "max                                                   NaN  "
      ]
     },
     "metadata": {},
     "output_type": "display_data"
    },
    {
     "name": "stdout",
     "output_type": "stream",
     "text": [
      "--------------------------------------------------\n",
      "Количество явных дубликатов: 0\n"
     ]
    }
   ],
   "source": [
    "table_info('reviews')"
   ]
  },
  {
   "cell_type": "markdown",
   "metadata": {},
   "source": [
    "Таблица `reviews` содержит **2793** записи по **4** столбцам. Типы данных соответствуют содержимому столбцов. Пропусков и явных дубликатов нет. Данные изначально очень хорошего качества. \n",
    "\n",
    "Представлена информация о **160** уникальных пользователях, которые оставили **2793** обзора для **1000** книг. Самый активный обозреватель - **susan85**, он оставил **29** обзоров."
   ]
  },
  {
   "cell_type": "markdown",
   "metadata": {},
   "source": [
    "### Вывод:\n",
    "В пяти имеющихся таблицах пропущенных значений и явных дубликатов нет. Типы данных соответствуют содержимому столбцов. Данные изначально очень хорошего качества. Можно приступать к следующему шагу."
   ]
  },
  {
   "cell_type": "markdown",
   "metadata": {},
   "source": [
    "## Провожу исследовательский анализ данных (EDA)."
   ]
  },
  {
   "cell_type": "code",
   "execution_count": 10,
   "metadata": {},
   "outputs": [],
   "source": [
    "def request(query):\n",
    "    display(pd.io.sql.read_sql(query, con = engine))"
   ]
  },
  {
   "cell_type": "markdown",
   "metadata": {},
   "source": [
    "### Считаю, сколько книг вышло после 1 января 2000 года."
   ]
  },
  {
   "cell_type": "code",
   "execution_count": 11,
   "metadata": {},
   "outputs": [
    {
     "data": {
      "text/html": [
       "<div>\n",
       "<style scoped>\n",
       "    .dataframe tbody tr th:only-of-type {\n",
       "        vertical-align: middle;\n",
       "    }\n",
       "\n",
       "    .dataframe tbody tr th {\n",
       "        vertical-align: top;\n",
       "    }\n",
       "\n",
       "    .dataframe thead th {\n",
       "        text-align: right;\n",
       "    }\n",
       "</style>\n",
       "<table border=\"1\" class=\"dataframe\">\n",
       "  <thead>\n",
       "    <tr style=\"text-align: right;\">\n",
       "      <th></th>\n",
       "      <th>count_book</th>\n",
       "    </tr>\n",
       "  </thead>\n",
       "  <tbody>\n",
       "    <tr>\n",
       "      <th>0</th>\n",
       "      <td>821</td>\n",
       "    </tr>\n",
       "  </tbody>\n",
       "</table>\n",
       "</div>"
      ],
      "text/plain": [
       "   count_book\n",
       "0         821"
      ]
     },
     "metadata": {},
     "output_type": "display_data"
    }
   ],
   "source": [
    "query = ''' SELECT COUNT(book_id) count_book\n",
    "              FROM books\n",
    "             WHERE publication_date >= DATE('2000-01-01');\n",
    "        '''\n",
    "request(query)"
   ]
  },
  {
   "cell_type": "markdown",
   "metadata": {},
   "source": [
    "После 1 января 2000 года вышла **821** книга."
   ]
  },
  {
   "cell_type": "markdown",
   "metadata": {},
   "source": [
    "### Для каждой книги считаю количество обзоров и среднюю оценку."
   ]
  },
  {
   "cell_type": "code",
   "execution_count": 12,
   "metadata": {},
   "outputs": [
    {
     "data": {
      "text/html": [
       "<div>\n",
       "<style scoped>\n",
       "    .dataframe tbody tr th:only-of-type {\n",
       "        vertical-align: middle;\n",
       "    }\n",
       "\n",
       "    .dataframe tbody tr th {\n",
       "        vertical-align: top;\n",
       "    }\n",
       "\n",
       "    .dataframe thead th {\n",
       "        text-align: right;\n",
       "    }\n",
       "</style>\n",
       "<table border=\"1\" class=\"dataframe\">\n",
       "  <thead>\n",
       "    <tr style=\"text-align: right;\">\n",
       "      <th></th>\n",
       "      <th>title</th>\n",
       "      <th>count_review</th>\n",
       "      <th>average_raiting</th>\n",
       "    </tr>\n",
       "  </thead>\n",
       "  <tbody>\n",
       "    <tr>\n",
       "      <th>0</th>\n",
       "      <td>Evil Under the Sun (Hercule Poirot  #24)</td>\n",
       "      <td>2.0</td>\n",
       "      <td>5.00</td>\n",
       "    </tr>\n",
       "    <tr>\n",
       "      <th>1</th>\n",
       "      <td>The Demon-Haunted World: Science as a Candle i...</td>\n",
       "      <td>2.0</td>\n",
       "      <td>5.00</td>\n",
       "    </tr>\n",
       "    <tr>\n",
       "      <th>2</th>\n",
       "      <td>The War of Art: Break Through the Blocks &amp; Win...</td>\n",
       "      <td>2.0</td>\n",
       "      <td>5.00</td>\n",
       "    </tr>\n",
       "    <tr>\n",
       "      <th>3</th>\n",
       "      <td>The Woman in Black</td>\n",
       "      <td>2.0</td>\n",
       "      <td>5.00</td>\n",
       "    </tr>\n",
       "    <tr>\n",
       "      <th>4</th>\n",
       "      <td>Emily of New Moon (Emily  #1)</td>\n",
       "      <td>2.0</td>\n",
       "      <td>5.00</td>\n",
       "    </tr>\n",
       "    <tr>\n",
       "      <th>...</th>\n",
       "      <td>...</td>\n",
       "      <td>...</td>\n",
       "      <td>...</td>\n",
       "    </tr>\n",
       "    <tr>\n",
       "      <th>994</th>\n",
       "      <td>The World Is Flat: A Brief History of the Twen...</td>\n",
       "      <td>3.0</td>\n",
       "      <td>2.25</td>\n",
       "    </tr>\n",
       "    <tr>\n",
       "      <th>995</th>\n",
       "      <td>His Excellency: George Washington</td>\n",
       "      <td>2.0</td>\n",
       "      <td>2.00</td>\n",
       "    </tr>\n",
       "    <tr>\n",
       "      <th>996</th>\n",
       "      <td>Drowning Ruth</td>\n",
       "      <td>3.0</td>\n",
       "      <td>2.00</td>\n",
       "    </tr>\n",
       "    <tr>\n",
       "      <th>997</th>\n",
       "      <td>Junky</td>\n",
       "      <td>2.0</td>\n",
       "      <td>2.00</td>\n",
       "    </tr>\n",
       "    <tr>\n",
       "      <th>998</th>\n",
       "      <td>Harvesting the Heart</td>\n",
       "      <td>2.0</td>\n",
       "      <td>1.50</td>\n",
       "    </tr>\n",
       "  </tbody>\n",
       "</table>\n",
       "<p>999 rows × 3 columns</p>\n",
       "</div>"
      ],
      "text/plain": [
       "                                                 title  count_review  \\\n",
       "0             Evil Under the Sun (Hercule Poirot  #24)           2.0   \n",
       "1    The Demon-Haunted World: Science as a Candle i...           2.0   \n",
       "2    The War of Art: Break Through the Blocks & Win...           2.0   \n",
       "3                                   The Woman in Black           2.0   \n",
       "4                        Emily of New Moon (Emily  #1)           2.0   \n",
       "..                                                 ...           ...   \n",
       "994  The World Is Flat: A Brief History of the Twen...           3.0   \n",
       "995                  His Excellency: George Washington           2.0   \n",
       "996                                      Drowning Ruth           3.0   \n",
       "997                                              Junky           2.0   \n",
       "998                               Harvesting the Heart           2.0   \n",
       "\n",
       "     average_raiting  \n",
       "0               5.00  \n",
       "1               5.00  \n",
       "2               5.00  \n",
       "3               5.00  \n",
       "4               5.00  \n",
       "..               ...  \n",
       "994             2.25  \n",
       "995             2.00  \n",
       "996             2.00  \n",
       "997             2.00  \n",
       "998             1.50  \n",
       "\n",
       "[999 rows x 3 columns]"
      ]
     },
     "metadata": {},
     "output_type": "display_data"
    }
   ],
   "source": [
    "query = ''' WITH \n",
    "            request_1 AS (\n",
    "                SELECT book_id, COUNT(review_id) count_review \n",
    "                  FROM reviews\n",
    "              GROUP BY book_id\n",
    "            ),\n",
    "            request_2 AS (\n",
    "                SELECT book_id, AVG(rating) average_raiting\n",
    "                  FROM ratings \n",
    "              GROUP BY book_id\n",
    "            )\n",
    "            SELECT title, SUM(count_review) count_review, ROUND(AVG(average_raiting), 2) average_raiting\n",
    "              FROM books \n",
    "         LEFT JOIN request_1\n",
    "                ON books.book_id = request_1.book_id\n",
    "         LEFT JOIN request_2 \n",
    "                ON books.book_id = request_2.book_id\n",
    "          GROUP BY books.title\n",
    "          ORDER BY average_raiting DESC;\n",
    "        '''\n",
    "request(query)"
   ]
  },
  {
   "cell_type": "markdown",
   "metadata": {},
   "source": [
    "Готово."
   ]
  },
  {
   "cell_type": "markdown",
   "metadata": {},
   "source": [
    "### Определяю издательство, которое выпустило наибольшее число книг толще 50 страниц."
   ]
  },
  {
   "cell_type": "code",
   "execution_count": 13,
   "metadata": {
    "scrolled": true
   },
   "outputs": [
    {
     "data": {
      "text/html": [
       "<div>\n",
       "<style scoped>\n",
       "    .dataframe tbody tr th:only-of-type {\n",
       "        vertical-align: middle;\n",
       "    }\n",
       "\n",
       "    .dataframe tbody tr th {\n",
       "        vertical-align: top;\n",
       "    }\n",
       "\n",
       "    .dataframe thead th {\n",
       "        text-align: right;\n",
       "    }\n",
       "</style>\n",
       "<table border=\"1\" class=\"dataframe\">\n",
       "  <thead>\n",
       "    <tr style=\"text-align: right;\">\n",
       "      <th></th>\n",
       "      <th>publisher</th>\n",
       "      <th>count_book</th>\n",
       "    </tr>\n",
       "  </thead>\n",
       "  <tbody>\n",
       "    <tr>\n",
       "      <th>0</th>\n",
       "      <td>Penguin Books</td>\n",
       "      <td>42</td>\n",
       "    </tr>\n",
       "  </tbody>\n",
       "</table>\n",
       "</div>"
      ],
      "text/plain": [
       "       publisher  count_book\n",
       "0  Penguin Books          42"
      ]
     },
     "metadata": {},
     "output_type": "display_data"
    }
   ],
   "source": [
    "query = ''' SELECT publisher, COUNT(book_id) count_book \n",
    "              FROM books \n",
    "         LEFT JOIN publishers \n",
    "                ON books.publisher_id = publishers.publisher_id\n",
    "             WHERE num_pages > 50\n",
    "          GROUP BY publisher\n",
    "          ORDER BY count_book DESC\n",
    "             LIMIT 1;\n",
    "        '''\n",
    "request(query)"
   ]
  },
  {
   "cell_type": "markdown",
   "metadata": {},
   "source": [
    "Наибольшее число книг толще 50 страниц выпустило издательство **Penguin Books**.\n",
    "\n",
    "Количество книг - **42**."
   ]
  },
  {
   "cell_type": "markdown",
   "metadata": {},
   "source": [
    "### Определяю автора с самой высокой средней оценкой книг - учитывая только книги с 50 и более оценками."
   ]
  },
  {
   "cell_type": "code",
   "execution_count": 14,
   "metadata": {},
   "outputs": [
    {
     "data": {
      "text/html": [
       "<div>\n",
       "<style scoped>\n",
       "    .dataframe tbody tr th:only-of-type {\n",
       "        vertical-align: middle;\n",
       "    }\n",
       "\n",
       "    .dataframe tbody tr th {\n",
       "        vertical-align: top;\n",
       "    }\n",
       "\n",
       "    .dataframe thead th {\n",
       "        text-align: right;\n",
       "    }\n",
       "</style>\n",
       "<table border=\"1\" class=\"dataframe\">\n",
       "  <thead>\n",
       "    <tr style=\"text-align: right;\">\n",
       "      <th></th>\n",
       "      <th>author</th>\n",
       "      <th>average_raiting</th>\n",
       "    </tr>\n",
       "  </thead>\n",
       "  <tbody>\n",
       "    <tr>\n",
       "      <th>0</th>\n",
       "      <td>J.K. Rowling/Mary GrandPré</td>\n",
       "      <td>4.28</td>\n",
       "    </tr>\n",
       "  </tbody>\n",
       "</table>\n",
       "</div>"
      ],
      "text/plain": [
       "                       author  average_raiting\n",
       "0  J.K. Rowling/Mary GrandPré             4.28"
      ]
     },
     "metadata": {},
     "output_type": "display_data"
    }
   ],
   "source": [
    "query = ''' WITH \n",
    "            request AS (\n",
    "                SELECT author_id, title, AVG(rating) average_raiting\n",
    "                  FROM books \n",
    "             LEFT JOIN ratings \n",
    "                    ON books.book_id = ratings.book_id \n",
    "              GROUP BY title, author_id\n",
    "                HAVING COUNT(rating_id) >= 50\n",
    "            )\n",
    "            SELECT author, ROUND(AVG(average_raiting), 2) average_raiting\n",
    "              FROM request\n",
    "         LEFT JOIN authors \n",
    "                ON request.author_id = authors.author_id\n",
    "          GROUP BY author\n",
    "          ORDER BY average_raiting DESC\n",
    "             LIMIT 1;\n",
    "        '''\n",
    "request(query)"
   ]
  },
  {
   "cell_type": "markdown",
   "metadata": {},
   "source": [
    "Автор с самой высокой средней оценкой книг, учитывая только книги с 50 и более оценками - **J.K. Rowling/Mary GrandPré**.\n",
    "\n",
    "Средняя оценка - **4.28**."
   ]
  },
  {
   "cell_type": "markdown",
   "metadata": {},
   "source": [
    "### Считаю среднее количество обзоров от пользователей, которые поставили больше 50 оценок."
   ]
  },
  {
   "cell_type": "code",
   "execution_count": 15,
   "metadata": {},
   "outputs": [
    {
     "data": {
      "text/html": [
       "<div>\n",
       "<style scoped>\n",
       "    .dataframe tbody tr th:only-of-type {\n",
       "        vertical-align: middle;\n",
       "    }\n",
       "\n",
       "    .dataframe tbody tr th {\n",
       "        vertical-align: top;\n",
       "    }\n",
       "\n",
       "    .dataframe thead th {\n",
       "        text-align: right;\n",
       "    }\n",
       "</style>\n",
       "<table border=\"1\" class=\"dataframe\">\n",
       "  <thead>\n",
       "    <tr style=\"text-align: right;\">\n",
       "      <th></th>\n",
       "      <th>average_reviews</th>\n",
       "    </tr>\n",
       "  </thead>\n",
       "  <tbody>\n",
       "    <tr>\n",
       "      <th>0</th>\n",
       "      <td>24.0</td>\n",
       "    </tr>\n",
       "  </tbody>\n",
       "</table>\n",
       "</div>"
      ],
      "text/plain": [
       "   average_reviews\n",
       "0             24.0"
      ]
     },
     "metadata": {},
     "output_type": "display_data"
    }
   ],
   "source": [
    "query = ''' WITH\n",
    "            request_1 AS (\n",
    "                SELECT username \n",
    "                  FROM ratings\n",
    "              GROUP BY username\n",
    "                HAVING COUNT(rating_id) > 50\n",
    "            ),\n",
    "            request_2 AS (\n",
    "                SELECT COUNT(review_id) count_reviews\n",
    "                  FROM request_1\n",
    "             LEFT JOIN reviews \n",
    "                    ON request_1.username = reviews.username\n",
    "              GROUP BY request_1.username\n",
    "            ) \n",
    "            SELECT ROUND(AVG(count_reviews)) average_reviews\n",
    "              FROM request_2;\n",
    "        '''\n",
    "request(query)"
   ]
  },
  {
   "cell_type": "markdown",
   "metadata": {},
   "source": [
    "В среднем количество обзоров от пользователей, которые поставили больше 50 оценок - **24**."
   ]
  },
  {
   "cell_type": "markdown",
   "metadata": {},
   "source": [
    "## Вывод:\n",
    "Я подключился к базе данных PostgreSQL и изучил основную информацию таблиц: `books`, `authors`, `publishers`, `ratings`, `reviews`:\n",
    "\n",
    "В пяти имеющихся таблицах пропущенных значений и явных дубликатов нет. Типы данных соответствуют содержимому столбцов. Данные изначально очень хорошего качества. \n",
    "***\n",
    "Исследовательский анализ данных показал, что:\n",
    "- После 1 января 2000 года вышла **821** книга;\n",
    "- Наибольшее число книг толще 50 страниц выпустило издательство **Penguin Books**. Количество книг - **42**;\n",
    "- Автор с самой высокой средней оценкой книг, учитывая только книги с 50 и более оценками - **J.K. Rowling/Mary GrandPré**. Средняя оценка - **4.28**;\n",
    "- В среднем количество обзоров от пользователей, которые поставили больше 50 оценок - **24**.\n",
    "\n",
    "А также установил для каждой книги количество обзоров и среднюю оценку."
   ]
  }
 ],
 "metadata": {
  "ExecuteTimeLog": [
   {
    "duration": 529,
    "start_time": "2022-10-15T07:15:32.799Z"
   },
   {
    "duration": 5208,
    "start_time": "2022-10-15T07:18:58.895Z"
   },
   {
    "duration": 5,
    "start_time": "2022-10-15T07:37:27.931Z"
   },
   {
    "duration": 516,
    "start_time": "2022-10-15T07:37:58.596Z"
   },
   {
    "duration": 4,
    "start_time": "2022-10-15T07:40:03.096Z"
   },
   {
    "duration": 314,
    "start_time": "2022-10-15T07:40:06.892Z"
   },
   {
    "duration": 4,
    "start_time": "2022-10-15T07:40:32.848Z"
   },
   {
    "duration": 317,
    "start_time": "2022-10-15T07:40:35.241Z"
   },
   {
    "duration": 286,
    "start_time": "2022-10-15T07:45:51.397Z"
   },
   {
    "duration": 273,
    "start_time": "2022-10-15T07:45:56.310Z"
   },
   {
    "duration": 400,
    "start_time": "2022-10-15T07:45:57.488Z"
   },
   {
    "duration": 305,
    "start_time": "2022-10-15T07:45:58.408Z"
   },
   {
    "duration": 4,
    "start_time": "2022-10-15T07:46:33.622Z"
   },
   {
    "duration": 330,
    "start_time": "2022-10-15T07:46:38.206Z"
   },
   {
    "duration": 295,
    "start_time": "2022-10-15T07:47:18.541Z"
   },
   {
    "duration": 274,
    "start_time": "2022-10-15T07:47:29.292Z"
   },
   {
    "duration": 356,
    "start_time": "2022-10-15T07:47:36.331Z"
   },
   {
    "duration": 385,
    "start_time": "2022-10-15T07:47:42.575Z"
   },
   {
    "duration": 3,
    "start_time": "2022-10-15T08:18:34.704Z"
   },
   {
    "duration": 67,
    "start_time": "2022-10-15T08:18:54.877Z"
   },
   {
    "duration": 3,
    "start_time": "2022-10-15T08:19:51.867Z"
   },
   {
    "duration": 77,
    "start_time": "2022-10-15T08:19:54.850Z"
   },
   {
    "duration": 3,
    "start_time": "2022-10-15T08:20:07.935Z"
   },
   {
    "duration": 68,
    "start_time": "2022-10-15T08:20:08.697Z"
   },
   {
    "duration": 71,
    "start_time": "2022-10-15T08:20:50.071Z"
   },
   {
    "duration": 69,
    "start_time": "2022-10-15T08:23:46.275Z"
   },
   {
    "duration": 100,
    "start_time": "2022-10-15T08:31:41.171Z"
   },
   {
    "duration": 99,
    "start_time": "2022-10-15T08:35:42.878Z"
   },
   {
    "duration": 98,
    "start_time": "2022-10-15T08:39:56.789Z"
   },
   {
    "duration": 101,
    "start_time": "2022-10-15T08:43:35.759Z"
   },
   {
    "duration": 115,
    "start_time": "2022-10-15T08:44:48.164Z"
   },
   {
    "duration": 100,
    "start_time": "2022-10-15T08:44:55.882Z"
   },
   {
    "duration": 68,
    "start_time": "2022-10-15T08:48:35.764Z"
   },
   {
    "duration": 2,
    "start_time": "2022-10-15T08:52:07.976Z"
   },
   {
    "duration": 101,
    "start_time": "2022-10-15T08:55:18.684Z"
   },
   {
    "duration": 100,
    "start_time": "2022-10-15T08:55:47.158Z"
   },
   {
    "duration": 99,
    "start_time": "2022-10-15T08:55:58.338Z"
   },
   {
    "duration": 101,
    "start_time": "2022-10-15T08:56:04.033Z"
   },
   {
    "duration": 99,
    "start_time": "2022-10-15T08:57:45.227Z"
   },
   {
    "duration": 101,
    "start_time": "2022-10-15T08:57:55.767Z"
   },
   {
    "duration": 99,
    "start_time": "2022-10-15T08:59:26.602Z"
   },
   {
    "duration": 99,
    "start_time": "2022-10-15T09:00:09.859Z"
   },
   {
    "duration": 99,
    "start_time": "2022-10-15T09:00:59.922Z"
   },
   {
    "duration": 98,
    "start_time": "2022-10-15T09:01:36.541Z"
   },
   {
    "duration": 98,
    "start_time": "2022-10-15T09:01:42.927Z"
   },
   {
    "duration": 98,
    "start_time": "2022-10-15T09:01:49.480Z"
   },
   {
    "duration": 99,
    "start_time": "2022-10-15T09:01:54.688Z"
   },
   {
    "duration": 100,
    "start_time": "2022-10-15T09:02:05.015Z"
   },
   {
    "duration": 100,
    "start_time": "2022-10-15T09:04:53.961Z"
   },
   {
    "duration": 99,
    "start_time": "2022-10-15T09:05:40.677Z"
   },
   {
    "duration": 75,
    "start_time": "2022-10-15T09:06:00.074Z"
   },
   {
    "duration": 496,
    "start_time": "2022-10-16T07:03:47.289Z"
   },
   {
    "duration": 4776,
    "start_time": "2022-10-16T07:03:47.786Z"
   },
   {
    "duration": 5,
    "start_time": "2022-10-16T07:03:52.563Z"
   },
   {
    "duration": 533,
    "start_time": "2022-10-16T07:03:52.570Z"
   },
   {
    "duration": 303,
    "start_time": "2022-10-16T07:03:53.105Z"
   },
   {
    "duration": 300,
    "start_time": "2022-10-16T07:03:53.409Z"
   },
   {
    "duration": 387,
    "start_time": "2022-10-16T07:03:53.711Z"
   },
   {
    "duration": 324,
    "start_time": "2022-10-16T07:03:54.099Z"
   },
   {
    "duration": 3,
    "start_time": "2022-10-16T07:03:54.424Z"
   },
   {
    "duration": 77,
    "start_time": "2022-10-16T07:03:54.429Z"
   },
   {
    "duration": 86,
    "start_time": "2022-10-16T07:03:54.507Z"
   },
   {
    "duration": 76,
    "start_time": "2022-10-16T07:03:54.594Z"
   },
   {
    "duration": 82,
    "start_time": "2022-10-16T07:03:54.672Z"
   },
   {
    "duration": 82,
    "start_time": "2022-10-16T07:10:23.662Z"
   },
   {
    "duration": 208,
    "start_time": "2022-10-16T07:10:48.470Z"
   },
   {
    "duration": 81,
    "start_time": "2022-10-16T07:10:58.375Z"
   },
   {
    "duration": 80,
    "start_time": "2022-10-16T07:14:17.717Z"
   },
   {
    "duration": 79,
    "start_time": "2022-10-16T07:14:45.899Z"
   },
   {
    "duration": 81,
    "start_time": "2022-10-16T07:16:32.098Z"
   },
   {
    "duration": 84,
    "start_time": "2022-10-16T07:17:57.474Z"
   },
   {
    "duration": 169,
    "start_time": "2022-10-16T07:28:12.121Z"
   },
   {
    "duration": 77,
    "start_time": "2022-10-16T07:30:59.951Z"
   },
   {
    "duration": 58,
    "start_time": "2022-10-16T07:35:29.377Z"
   },
   {
    "duration": 79,
    "start_time": "2022-10-16T08:11:49.228Z"
   },
   {
    "duration": 7,
    "start_time": "2022-10-16T08:16:33.864Z"
   },
   {
    "duration": 76,
    "start_time": "2022-10-16T08:17:24.878Z"
   },
   {
    "duration": 78,
    "start_time": "2022-10-16T08:19:05.742Z"
   },
   {
    "duration": 75,
    "start_time": "2022-10-16T08:23:10.738Z"
   },
   {
    "duration": 91,
    "start_time": "2022-10-16T08:23:28.945Z"
   },
   {
    "duration": 58,
    "start_time": "2022-10-16T08:29:33.596Z"
   },
   {
    "duration": 494,
    "start_time": "2022-10-16T09:09:09.544Z"
   },
   {
    "duration": 6124,
    "start_time": "2022-10-16T09:09:10.039Z"
   },
   {
    "duration": 4,
    "start_time": "2022-10-16T09:09:16.164Z"
   },
   {
    "duration": 565,
    "start_time": "2022-10-16T09:09:16.170Z"
   },
   {
    "duration": 77,
    "start_time": "2022-10-16T09:09:16.737Z"
   },
   {
    "duration": 299,
    "start_time": "2022-10-16T09:09:16.816Z"
   },
   {
    "duration": 306,
    "start_time": "2022-10-16T09:09:17.117Z"
   },
   {
    "duration": 404,
    "start_time": "2022-10-16T09:09:17.424Z"
   },
   {
    "duration": 333,
    "start_time": "2022-10-16T09:09:17.830Z"
   },
   {
    "duration": 3,
    "start_time": "2022-10-16T09:09:18.164Z"
   },
   {
    "duration": 79,
    "start_time": "2022-10-16T09:09:18.168Z"
   },
   {
    "duration": 95,
    "start_time": "2022-10-16T09:09:18.249Z"
   },
   {
    "duration": 76,
    "start_time": "2022-10-16T09:09:18.346Z"
   },
   {
    "duration": 80,
    "start_time": "2022-10-16T09:09:18.425Z"
   },
   {
    "duration": 80,
    "start_time": "2022-10-16T09:09:18.507Z"
   }
  ],
  "kernelspec": {
   "display_name": "Python 3 (ipykernel)",
   "language": "python",
   "name": "python3"
  },
  "language_info": {
   "codemirror_mode": {
    "name": "ipython",
    "version": 3
   },
   "file_extension": ".py",
   "mimetype": "text/x-python",
   "name": "python",
   "nbconvert_exporter": "python",
   "pygments_lexer": "ipython3",
   "version": "3.9.7"
  },
  "toc": {
   "base_numbering": 1,
   "nav_menu": {},
   "number_sections": true,
   "sideBar": true,
   "skip_h1_title": true,
   "title_cell": "Оглавление:",
   "title_sidebar": "Оглавление:",
   "toc_cell": true,
   "toc_position": {
    "height": "calc(100% - 180px)",
    "left": "10px",
    "top": "150px",
    "width": "303.542px"
   },
   "toc_section_display": true,
   "toc_window_display": true
  }
 },
 "nbformat": 4,
 "nbformat_minor": 2
}
