{
 "cells": [
  {
   "cell_type": "markdown",
   "metadata": {},
   "source": [
    "# Анализ рекламных источников мобильной игры."
   ]
  },
  {
   "cell_type": "markdown",
   "metadata": {
    "toc": true
   },
   "source": [
    "<h1>Оглавление:<span class=\"tocSkip\"></span></h1>\n",
    "<div class=\"toc\"><ul class=\"toc-item\"><li><ul class=\"toc-item\"><li><span><a href=\"#Описание-проекта:\" data-toc-modified-id=\"Описание-проекта:-0.1\"><span class=\"toc-item-num\">0.1&nbsp;&nbsp;</span>Описание проекта:</a></span></li><li><span><a href=\"#Описание-данных:\" data-toc-modified-id=\"Описание-данных:-0.2\"><span class=\"toc-item-num\">0.2&nbsp;&nbsp;</span>Описание данных:</a></span></li></ul></li><li><span><a href=\"#Шаг-1.-Импортирую-необходимые-библиотеки,-открываю-файлы-с-данными-и-изучаю-общую-информацию.\" data-toc-modified-id=\"Шаг-1.-Импортирую-необходимые-библиотеки,-открываю-файлы-с-данными-и-изучаю-общую-информацию.-1\"><span class=\"toc-item-num\">1&nbsp;&nbsp;</span>Шаг 1. Импортирую необходимые библиотеки, открываю файлы с данными и изучаю общую информацию.</a></span><ul class=\"toc-item\"><li><span><a href=\"#Уточняю-детали-пропущенных-значений-в-столюце-building_type.\" data-toc-modified-id=\"Уточняю-детали-пропущенных-значений-в-столюце-building_type.-1.1\"><span class=\"toc-item-num\">1.1&nbsp;&nbsp;</span>Уточняю детали пропущенных значений в столюце <code>building_type</code>.</a></span></li><li><span><a href=\"#Удаляю-явный-дубликат.-А-также-добавляю-столбец-date.\" data-toc-modified-id=\"Удаляю-явный-дубликат.-А-также-добавляю-столбец-date.-1.2\"><span class=\"toc-item-num\">1.2&nbsp;&nbsp;</span>Удаляю явный дубликат. А также добавляю столбец <code>date</code>.</a></span></li><li><span><a href=\"#Смотрю-уникальные-каналы-привлечения.\" data-toc-modified-id=\"Смотрю-уникальные-каналы-привлечения.-1.3\"><span class=\"toc-item-num\">1.3&nbsp;&nbsp;</span>Смотрю уникальные каналы привлечения.</a></span></li><li><span><a href=\"#Вывод:\" data-toc-modified-id=\"Вывод:-1.4\"><span class=\"toc-item-num\">1.4&nbsp;&nbsp;</span>Вывод:</a></span></li></ul></li><li><span><a href=\"#Шаг-2.-Провожу-исследовательский-анализ-данных-(EDA).\" data-toc-modified-id=\"Шаг-2.-Провожу-исследовательский-анализ-данных-(EDA).-2\"><span class=\"toc-item-num\">2&nbsp;&nbsp;</span>Шаг 2. Провожу исследовательский анализ данных (EDA).</a></span><ul class=\"toc-item\"><li><span><a href=\"#Определяю-минимальную-и-максимальную-дату-привлечения-игроков.\" data-toc-modified-id=\"Определяю-минимальную-и-максимальную-дату-привлечения-игроков.-2.1\"><span class=\"toc-item-num\">2.1&nbsp;&nbsp;</span>Определяю минимальную и максимальную дату привлечения игроков.</a></span></li><li><span><a href=\"#Смотрю-распределение-событий-по-датам.\" data-toc-modified-id=\"Смотрю-распределение-событий-по-датам.-2.2\"><span class=\"toc-item-num\">2.2&nbsp;&nbsp;</span>Смотрю распределение событий по датам.</a></span></li><li><span><a href=\"#Определяю,-какие-объекты-чаще-строят-игроки.\" data-toc-modified-id=\"Определяю,-какие-объекты-чаще-строят-игроки.-2.3\"><span class=\"toc-item-num\">2.3&nbsp;&nbsp;</span>Определяю, какие объекты чаще строят игроки.</a></span></li><li><span><a href=\"#Смотрю-распределение-построек-по-датам.\" data-toc-modified-id=\"Смотрю-распределение-построек-по-датам.-2.4\"><span class=\"toc-item-num\">2.4&nbsp;&nbsp;</span>Смотрю распределение построек по датам.</a></span></li><li><span><a href=\"#Определяю,-какую-стратегию-прохождения-чаще-используют-пользователи.\" data-toc-modified-id=\"Определяю,-какую-стратегию-прохождения-чаще-используют-пользователи.-2.5\"><span class=\"toc-item-num\">2.5&nbsp;&nbsp;</span>Определяю, какую стратегию прохождения чаще используют пользователи.</a></span></li><li><span><a href=\"#Определяю,-какая-стратегия-игрока-потенциально-принесет-больше-средств.\" data-toc-modified-id=\"Определяю,-какая-стратегия-игрока-потенциально-принесет-больше-средств.-2.6\"><span class=\"toc-item-num\">2.6&nbsp;&nbsp;</span>Определяю, какая стратегия игрока потенциально принесет больше средств.</a></span></li><li><span><a href=\"#Определяю-по-каким-рекламным-каналам-шло-привлечение-пользователей.\" data-toc-modified-id=\"Определяю-по-каким-рекламным-каналам-шло-привлечение-пользователей.-2.7\"><span class=\"toc-item-num\">2.7&nbsp;&nbsp;</span>Определяю по каким рекламным каналам шло привлечение пользователей.</a></span></li><li><span><a href=\"#Определяю,-какие-каналы-приносят-больше-игроков,-строящих-больше-всего-объектов.\" data-toc-modified-id=\"Определяю,-какие-каналы-приносят-больше-игроков,-строящих-больше-всего-объектов.-2.8\"><span class=\"toc-item-num\">2.8&nbsp;&nbsp;</span>Определяю, какие каналы приносят больше игроков, строящих больше всего объектов.</a></span></li><li><span><a href=\"#Определяю,-cреднее-количество-объектов,-построенных-одним-игроком-/-одним-игроком-по-источникам.\" data-toc-modified-id=\"Определяю,-cреднее-количество-объектов,-построенных-одним-игроком-/-одним-игроком-по-источникам.-2.9\"><span class=\"toc-item-num\">2.9&nbsp;&nbsp;</span>Определяю, cреднее количество объектов, построенных одним игроком / одним игроком по источникам.</a></span></li><li><span><a href=\"#Определяю,-сколько-денег-потратили-всего-/-на-каждый-источник-/-по-времени.\" data-toc-modified-id=\"Определяю,-сколько-денег-потратили-всего-/-на-каждый-источник-/-по-времени.-2.10\"><span class=\"toc-item-num\">2.10&nbsp;&nbsp;</span>Определяю, сколько денег потратили всего / на каждый источник / по времени.</a></span></li><li><span><a href=\"#Определяю,-сколько-в-среднем-стоило-привлечение-одного-покупателя-/-одного-покупателя-из-каждого-источника.\" data-toc-modified-id=\"Определяю,-сколько-в-среднем-стоило-привлечение-одного-покупателя-/-одного-покупателя-из-каждого-источника.-2.11\"><span class=\"toc-item-num\">2.11&nbsp;&nbsp;</span>Определяю, сколько в среднем стоило привлечение одного покупателя / одного покупателя из каждого источника.</a></span></li><li><span><a href=\"#Получаю-профили-пользователей.\" data-toc-modified-id=\"Получаю-профили-пользователей.-2.12\"><span class=\"toc-item-num\">2.12&nbsp;&nbsp;</span>Получаю профили пользователей.</a></span></li><li><span><a href=\"#Смотрю-распределение-игроков-по-количеству-дней-до-завершения-уровня.\" data-toc-modified-id=\"Смотрю-распределение-игроков-по-количеству-дней-до-завершения-уровня.-2.13\"><span class=\"toc-item-num\">2.13&nbsp;&nbsp;</span>Смотрю распределение игроков по количеству дней до завершения уровня.</a></span></li><li><span><a href=\"#Сравниваю-среднее-время-на-проходжение-уровня-по-источникам.\" data-toc-modified-id=\"Сравниваю-среднее-время-на-проходжение-уровня-по-источникам.-2.14\"><span class=\"toc-item-num\">2.14&nbsp;&nbsp;</span>Сравниваю среднее время на проходжение уровня по источникам.</a></span></li><li><span><a href=\"#Смотрю-распределение-игроков-по-количеству-дней-проведенных-в-игре.\" data-toc-modified-id=\"Смотрю-распределение-игроков-по-количеству-дней-проведенных-в-игре.-2.15\"><span class=\"toc-item-num\">2.15&nbsp;&nbsp;</span>Смотрю распределение игроков по количеству дней проведенных в игре.</a></span></li><li><span><a href=\"#Смотрю-распределение-игроков-по-количеству-дней-проведенных-в-игре-с-разбивкой-по-источникам.\" data-toc-modified-id=\"Смотрю-распределение-игроков-по-количеству-дней-проведенных-в-игре-с-разбивкой-по-источникам.-2.16\"><span class=\"toc-item-num\">2.16&nbsp;&nbsp;</span>Смотрю распределение игроков по количеству дней проведенных в игре с разбивкой по источникам.</a></span></li><li><span><a href=\"#Смотрю,-влияет-ли-источник-перехода-в-игру-на-способ-прохождения-уровня.\" data-toc-modified-id=\"Смотрю,-влияет-ли-источник-перехода-в-игру-на-способ-прохождения-уровня.-2.17\"><span class=\"toc-item-num\">2.17&nbsp;&nbsp;</span>Смотрю, влияет ли источник перехода в игру на способ прохождения уровня.</a></span></li></ul></li><li><span><a href=\"#Шаг-3.-Проверяю-статистические-гипотезы.\" data-toc-modified-id=\"Шаг-3.-Проверяю-статистические-гипотезы.-3\"><span class=\"toc-item-num\">3&nbsp;&nbsp;</span>Шаг 3. Проверяю статистические гипотезы.</a></span><ul class=\"toc-item\"><li><span><a href=\"#Гипотеза-1.-Время-завершения-уровня-различается-в-зависимости-от-способа-прохождения.\" data-toc-modified-id=\"Гипотеза-1.-Время-завершения-уровня-различается-в-зависимости-от-способа-прохождения.-3.1\"><span class=\"toc-item-num\">3.1&nbsp;&nbsp;</span>Гипотеза 1. Время завершения уровня различается в зависимости от способа прохождения.</a></span></li><li><span><a href=\"#Гипотеза-2.-Способ-прохождения-уровня-различается-в-зависимости-от-источника-перехода-в-игру.\" data-toc-modified-id=\"Гипотеза-2.-Способ-прохождения-уровня-различается-в-зависимости-от-источника-перехода-в-игру.-3.2\"><span class=\"toc-item-num\">3.2&nbsp;&nbsp;</span>Гипотеза 2. Способ прохождения уровня различается в зависимости от источника перехода в игру.</a></span></li></ul></li><li><span><a href=\"#Общий-вывод.\" data-toc-modified-id=\"Общий-вывод.-4\"><span class=\"toc-item-num\">4&nbsp;&nbsp;</span>Общий вывод.</a></span><ul class=\"toc-item\"><li><span><a href=\"#Рекомендации.\" data-toc-modified-id=\"Рекомендации.-4.1\"><span class=\"toc-item-num\">4.1&nbsp;&nbsp;</span>Рекомендации.</a></span></li></ul></li></ul></div>"
   ]
  },
  {
   "cell_type": "markdown",
   "metadata": {},
   "source": [
    "### Описание проекта:\n",
    "В мобильной игре «Космические братья» пользователи строят свою космическую программу и пытаются преуспеть в нелёгком деле колонизации галактики. Игра уже пользуется большой популярностью - настало время на ней зарабатывать. Основная монетизация игры - только планируется. Но предполагается, что в приложении будет происходить показ рекламы на экране с выбором типа объекта для постройки. Основная задача: анализ рекламных источников. \n",
    "\n",
    "### Описание данных:\n",
    "Основной датасет содержит данные о событиях, совершенных в мобильной игре «Космические братья». В датасете представлены данные по игре пользователей на первом уровне. Завершение первого уровня требует от игрока выполнения одного из двух условий:\n",
    "- Победа над первым врагом;\n",
    "- Реализация проекта - разработка орбитальной сборки спутников.\n",
    "\n",
    "В датасете содержатся данные первых пользователей приложения - когорты пользователей, которые начали пользоваться приложением в период с 4 по 10 мая включительно. Помимо основного датасета есть два датасета с информацией о рекламных активностях.\n",
    "\n",
    "Датасет `game_actions.csv` содержит:\n",
    "\n",
    "- **`event_datetime`** - время события;\n",
    "- **`event`** - одно из трёх событий:\n",
    "    1. `building` - объект построен,\n",
    "    2. `finished_stage_1` - первый уровень завершён,\n",
    "    3. `project` - проект завершён;\n",
    "- **`building_type`** - один из трёх типов здания:\n",
    "    1. `assembly_shop` - сборочный цех,\n",
    "    2. `spaceport` - космопорт,\n",
    "    3. `research_center` - исследовательский центр;\n",
    "- **`user_id`** - идентификатор пользователя;\n",
    "- **`project_type`** - тип реализованного проекта.\n",
    "\n",
    "Датасет `ad_costs.csv` содержит:\n",
    "- **`day`** - день, в который был совершен клик по объявлению;\n",
    "- **`source`** - источник трафика;\n",
    "- **`cost`** - стоимость кликов.\n",
    "\n",
    "Датасет `user_source.csv` содержит:\n",
    "- **`user_id`** - идентификатор пользователя;\n",
    "- **`source`** - источников, с которого пришёл пользователь, установивший приложение."
   ]
  },
  {
   "cell_type": "markdown",
   "metadata": {},
   "source": [
    "## Шаг 1. Импортирую необходимые библиотеки, открываю файлы с данными и изучаю общую информацию."
   ]
  },
  {
   "cell_type": "code",
   "execution_count": 1,
   "metadata": {},
   "outputs": [],
   "source": [
    "import pandas as pd\n",
    "from datetime import datetime\n",
    "import numpy as np\n",
    "import warnings\n",
    "warnings.filterwarnings('ignore')\n",
    "import matplotlib.pyplot as plt\n",
    "import seaborn as sns\n",
    "from scipy import stats as st"
   ]
  },
  {
   "cell_type": "code",
   "execution_count": 2,
   "metadata": {},
   "outputs": [],
   "source": [
    "game_actions, user_source, costs = (\n",
    "    pd.read_csv('/datasets/game_actions.csv', parse_dates = ['event_datetime']),\n",
    "    pd.read_csv('/datasets/user_source.csv'),\n",
    "    pd.read_csv('/datasets/ad_costs.csv', parse_dates = ['day'])\n",
    ")"
   ]
  },
  {
   "cell_type": "code",
   "execution_count": 3,
   "metadata": {},
   "outputs": [],
   "source": [
    "def df_info(df):\n",
    "    display(df.head(3))\n",
    "    print('-' * 50)\n",
    "    df.info()\n",
    "    print('-' * 50)\n",
    "    display(df.describe(include = 'all'))\n",
    "    print('-' * 50)\n",
    "    print('Количество явных дубликатов:', df.duplicated().sum())"
   ]
  },
  {
   "cell_type": "code",
   "execution_count": 4,
   "metadata": {
    "scrolled": false
   },
   "outputs": [
    {
     "data": {
      "text/html": [
       "<div>\n",
       "<style scoped>\n",
       "    .dataframe tbody tr th:only-of-type {\n",
       "        vertical-align: middle;\n",
       "    }\n",
       "\n",
       "    .dataframe tbody tr th {\n",
       "        vertical-align: top;\n",
       "    }\n",
       "\n",
       "    .dataframe thead th {\n",
       "        text-align: right;\n",
       "    }\n",
       "</style>\n",
       "<table border=\"1\" class=\"dataframe\">\n",
       "  <thead>\n",
       "    <tr style=\"text-align: right;\">\n",
       "      <th></th>\n",
       "      <th>event_datetime</th>\n",
       "      <th>event</th>\n",
       "      <th>building_type</th>\n",
       "      <th>user_id</th>\n",
       "      <th>project_type</th>\n",
       "    </tr>\n",
       "  </thead>\n",
       "  <tbody>\n",
       "    <tr>\n",
       "      <th>0</th>\n",
       "      <td>2020-05-04 00:00:01</td>\n",
       "      <td>building</td>\n",
       "      <td>assembly_shop</td>\n",
       "      <td>55e92310-cb8e-4754-b622-597e124b03de</td>\n",
       "      <td>NaN</td>\n",
       "    </tr>\n",
       "    <tr>\n",
       "      <th>1</th>\n",
       "      <td>2020-05-04 00:00:03</td>\n",
       "      <td>building</td>\n",
       "      <td>assembly_shop</td>\n",
       "      <td>c07b1c10-f477-44dc-81dc-ec82254b1347</td>\n",
       "      <td>NaN</td>\n",
       "    </tr>\n",
       "    <tr>\n",
       "      <th>2</th>\n",
       "      <td>2020-05-04 00:00:16</td>\n",
       "      <td>building</td>\n",
       "      <td>assembly_shop</td>\n",
       "      <td>6edd42cc-e753-4ff6-a947-2107cd560710</td>\n",
       "      <td>NaN</td>\n",
       "    </tr>\n",
       "  </tbody>\n",
       "</table>\n",
       "</div>"
      ],
      "text/plain": [
       "       event_datetime     event  building_type  \\\n",
       "0 2020-05-04 00:00:01  building  assembly_shop   \n",
       "1 2020-05-04 00:00:03  building  assembly_shop   \n",
       "2 2020-05-04 00:00:16  building  assembly_shop   \n",
       "\n",
       "                                user_id project_type  \n",
       "0  55e92310-cb8e-4754-b622-597e124b03de          NaN  \n",
       "1  c07b1c10-f477-44dc-81dc-ec82254b1347          NaN  \n",
       "2  6edd42cc-e753-4ff6-a947-2107cd560710          NaN  "
      ]
     },
     "metadata": {},
     "output_type": "display_data"
    },
    {
     "name": "stdout",
     "output_type": "stream",
     "text": [
      "--------------------------------------------------\n",
      "<class 'pandas.core.frame.DataFrame'>\n",
      "RangeIndex: 135640 entries, 0 to 135639\n",
      "Data columns (total 5 columns):\n",
      " #   Column          Non-Null Count   Dtype         \n",
      "---  ------          --------------   -----         \n",
      " 0   event_datetime  135640 non-null  datetime64[ns]\n",
      " 1   event           135640 non-null  object        \n",
      " 2   building_type   127957 non-null  object        \n",
      " 3   user_id         135640 non-null  object        \n",
      " 4   project_type    1866 non-null    object        \n",
      "dtypes: datetime64[ns](1), object(4)\n",
      "memory usage: 5.2+ MB\n",
      "--------------------------------------------------\n"
     ]
    },
    {
     "data": {
      "text/html": [
       "<div>\n",
       "<style scoped>\n",
       "    .dataframe tbody tr th:only-of-type {\n",
       "        vertical-align: middle;\n",
       "    }\n",
       "\n",
       "    .dataframe tbody tr th {\n",
       "        vertical-align: top;\n",
       "    }\n",
       "\n",
       "    .dataframe thead th {\n",
       "        text-align: right;\n",
       "    }\n",
       "</style>\n",
       "<table border=\"1\" class=\"dataframe\">\n",
       "  <thead>\n",
       "    <tr style=\"text-align: right;\">\n",
       "      <th></th>\n",
       "      <th>event_datetime</th>\n",
       "      <th>event</th>\n",
       "      <th>building_type</th>\n",
       "      <th>user_id</th>\n",
       "      <th>project_type</th>\n",
       "    </tr>\n",
       "  </thead>\n",
       "  <tbody>\n",
       "    <tr>\n",
       "      <th>count</th>\n",
       "      <td>135640</td>\n",
       "      <td>135640</td>\n",
       "      <td>127957</td>\n",
       "      <td>135640</td>\n",
       "      <td>1866</td>\n",
       "    </tr>\n",
       "    <tr>\n",
       "      <th>unique</th>\n",
       "      <td>128790</td>\n",
       "      <td>3</td>\n",
       "      <td>3</td>\n",
       "      <td>13576</td>\n",
       "      <td>1</td>\n",
       "    </tr>\n",
       "    <tr>\n",
       "      <th>top</th>\n",
       "      <td>2020-05-09 12:35:56</td>\n",
       "      <td>building</td>\n",
       "      <td>spaceport</td>\n",
       "      <td>bf542075-e3a2-4e79-82d8-3838e86d2a25</td>\n",
       "      <td>satellite_orbital_assembly</td>\n",
       "    </tr>\n",
       "    <tr>\n",
       "      <th>freq</th>\n",
       "      <td>4</td>\n",
       "      <td>127957</td>\n",
       "      <td>59325</td>\n",
       "      <td>22</td>\n",
       "      <td>1866</td>\n",
       "    </tr>\n",
       "    <tr>\n",
       "      <th>first</th>\n",
       "      <td>2020-05-04 00:00:01</td>\n",
       "      <td>NaN</td>\n",
       "      <td>NaN</td>\n",
       "      <td>NaN</td>\n",
       "      <td>NaN</td>\n",
       "    </tr>\n",
       "    <tr>\n",
       "      <th>last</th>\n",
       "      <td>2020-06-05 12:32:49</td>\n",
       "      <td>NaN</td>\n",
       "      <td>NaN</td>\n",
       "      <td>NaN</td>\n",
       "      <td>NaN</td>\n",
       "    </tr>\n",
       "  </tbody>\n",
       "</table>\n",
       "</div>"
      ],
      "text/plain": [
       "             event_datetime     event building_type  \\\n",
       "count                135640    135640        127957   \n",
       "unique               128790         3             3   \n",
       "top     2020-05-09 12:35:56  building     spaceport   \n",
       "freq                      4    127957         59325   \n",
       "first   2020-05-04 00:00:01       NaN           NaN   \n",
       "last    2020-06-05 12:32:49       NaN           NaN   \n",
       "\n",
       "                                     user_id                project_type  \n",
       "count                                 135640                        1866  \n",
       "unique                                 13576                           1  \n",
       "top     bf542075-e3a2-4e79-82d8-3838e86d2a25  satellite_orbital_assembly  \n",
       "freq                                      22                        1866  \n",
       "first                                    NaN                         NaN  \n",
       "last                                     NaN                         NaN  "
      ]
     },
     "metadata": {},
     "output_type": "display_data"
    },
    {
     "name": "stdout",
     "output_type": "stream",
     "text": [
      "--------------------------------------------------\n",
      "Количество явных дубликатов: 1\n"
     ]
    }
   ],
   "source": [
    "df_info(game_actions)"
   ]
  },
  {
   "cell_type": "markdown",
   "metadata": {},
   "source": [
    "### Уточняю детали пропущенных значений в столюце `building_type`."
   ]
  },
  {
   "cell_type": "code",
   "execution_count": 5,
   "metadata": {},
   "outputs": [
    {
     "data": {
      "text/html": [
       "<div>\n",
       "<style scoped>\n",
       "    .dataframe tbody tr th:only-of-type {\n",
       "        vertical-align: middle;\n",
       "    }\n",
       "\n",
       "    .dataframe tbody tr th {\n",
       "        vertical-align: top;\n",
       "    }\n",
       "\n",
       "    .dataframe thead th {\n",
       "        text-align: right;\n",
       "    }\n",
       "</style>\n",
       "<table border=\"1\" class=\"dataframe\">\n",
       "  <thead>\n",
       "    <tr style=\"text-align: right;\">\n",
       "      <th></th>\n",
       "      <th>event_datetime</th>\n",
       "      <th>event</th>\n",
       "      <th>building_type</th>\n",
       "      <th>user_id</th>\n",
       "      <th>project_type</th>\n",
       "    </tr>\n",
       "  </thead>\n",
       "  <tbody>\n",
       "    <tr>\n",
       "      <th>count</th>\n",
       "      <td>7683</td>\n",
       "      <td>7683</td>\n",
       "      <td>0</td>\n",
       "      <td>7683</td>\n",
       "      <td>1866</td>\n",
       "    </tr>\n",
       "    <tr>\n",
       "      <th>unique</th>\n",
       "      <td>7663</td>\n",
       "      <td>2</td>\n",
       "      <td>0</td>\n",
       "      <td>5817</td>\n",
       "      <td>1</td>\n",
       "    </tr>\n",
       "    <tr>\n",
       "      <th>top</th>\n",
       "      <td>2020-05-16 08:42:42</td>\n",
       "      <td>finished_stage_1</td>\n",
       "      <td>NaN</td>\n",
       "      <td>1669ef5e-8908-410f-b4d9-b29c7fb8ef65</td>\n",
       "      <td>satellite_orbital_assembly</td>\n",
       "    </tr>\n",
       "    <tr>\n",
       "      <th>freq</th>\n",
       "      <td>2</td>\n",
       "      <td>5817</td>\n",
       "      <td>NaN</td>\n",
       "      <td>2</td>\n",
       "      <td>1866</td>\n",
       "    </tr>\n",
       "    <tr>\n",
       "      <th>first</th>\n",
       "      <td>2020-05-04 19:47:29</td>\n",
       "      <td>NaN</td>\n",
       "      <td>NaN</td>\n",
       "      <td>NaN</td>\n",
       "      <td>NaN</td>\n",
       "    </tr>\n",
       "    <tr>\n",
       "      <th>last</th>\n",
       "      <td>2020-06-05 12:32:49</td>\n",
       "      <td>NaN</td>\n",
       "      <td>NaN</td>\n",
       "      <td>NaN</td>\n",
       "      <td>NaN</td>\n",
       "    </tr>\n",
       "  </tbody>\n",
       "</table>\n",
       "</div>"
      ],
      "text/plain": [
       "             event_datetime             event building_type  \\\n",
       "count                  7683              7683             0   \n",
       "unique                 7663                 2             0   \n",
       "top     2020-05-16 08:42:42  finished_stage_1           NaN   \n",
       "freq                      2              5817           NaN   \n",
       "first   2020-05-04 19:47:29               NaN           NaN   \n",
       "last    2020-06-05 12:32:49               NaN           NaN   \n",
       "\n",
       "                                     user_id                project_type  \n",
       "count                                   7683                        1866  \n",
       "unique                                  5817                           1  \n",
       "top     1669ef5e-8908-410f-b4d9-b29c7fb8ef65  satellite_orbital_assembly  \n",
       "freq                                       2                        1866  \n",
       "first                                    NaN                         NaN  \n",
       "last                                     NaN                         NaN  "
      ]
     },
     "execution_count": 5,
     "metadata": {},
     "output_type": "execute_result"
    }
   ],
   "source": [
    "game_actions[game_actions['building_type'].isna()].describe()"
   ]
  },
  {
   "cell_type": "markdown",
   "metadata": {},
   "source": [
    "Я имею датасет с **135640** событиями. Самое популярное событие - **building** (завершение строительства объекта), оно произошло **127957** раз. Самый популярный тип здания для строительства - **spaceport** (космопорт), он был построен **59325** раз. **13576** уникальных игроков. Максимальное количество событий пройденных игроком - **22**. Проект (разработка орбитальной сборки спутников) был реализован **1866** раз. \n",
    "***\n",
    "Имеются **7683** пропущенных значения в столбце **`building_type`**, что составляет почти **6%** от датасета - это события **project** и **finished_stage**, при которых объект не строится, **3951** игрока победили врага, и **1866** победили врага и реализовали проект. И **133774** пропущенных значения в столбце **`project_type`**, что составляет почти **99%** от датасета - это не являющиеся проектом события игроков. Также имеется **1** явный дубликат, его следует удалить. Типы данных соответствуют содержимому столбцов. Следует отметить, что данные изначально очень хорошего качества."
   ]
  },
  {
   "cell_type": "markdown",
   "metadata": {},
   "source": [
    "### Удаляю явный дубликат. А также добавляю столбец `date`."
   ]
  },
  {
   "cell_type": "code",
   "execution_count": 6,
   "metadata": {},
   "outputs": [],
   "source": [
    "game_actions = game_actions.drop_duplicates()\n",
    "game_actions['date'] = game_actions['event_datetime'].dt.date"
   ]
  },
  {
   "cell_type": "markdown",
   "metadata": {},
   "source": [
    "Готово."
   ]
  },
  {
   "cell_type": "code",
   "execution_count": 7,
   "metadata": {
    "scrolled": false
   },
   "outputs": [
    {
     "data": {
      "text/html": [
       "<div>\n",
       "<style scoped>\n",
       "    .dataframe tbody tr th:only-of-type {\n",
       "        vertical-align: middle;\n",
       "    }\n",
       "\n",
       "    .dataframe tbody tr th {\n",
       "        vertical-align: top;\n",
       "    }\n",
       "\n",
       "    .dataframe thead th {\n",
       "        text-align: right;\n",
       "    }\n",
       "</style>\n",
       "<table border=\"1\" class=\"dataframe\">\n",
       "  <thead>\n",
       "    <tr style=\"text-align: right;\">\n",
       "      <th></th>\n",
       "      <th>user_id</th>\n",
       "      <th>source</th>\n",
       "    </tr>\n",
       "  </thead>\n",
       "  <tbody>\n",
       "    <tr>\n",
       "      <th>0</th>\n",
       "      <td>0001f83c-c6ac-4621-b7f0-8a28b283ac30</td>\n",
       "      <td>facebook_ads</td>\n",
       "    </tr>\n",
       "    <tr>\n",
       "      <th>1</th>\n",
       "      <td>00151b4f-ba38-44a8-a650-d7cf130a0105</td>\n",
       "      <td>yandex_direct</td>\n",
       "    </tr>\n",
       "    <tr>\n",
       "      <th>2</th>\n",
       "      <td>001aaea6-3d14-43f1-8ca8-7f48820f17aa</td>\n",
       "      <td>youtube_channel_reklama</td>\n",
       "    </tr>\n",
       "  </tbody>\n",
       "</table>\n",
       "</div>"
      ],
      "text/plain": [
       "                                user_id                   source\n",
       "0  0001f83c-c6ac-4621-b7f0-8a28b283ac30             facebook_ads\n",
       "1  00151b4f-ba38-44a8-a650-d7cf130a0105            yandex_direct\n",
       "2  001aaea6-3d14-43f1-8ca8-7f48820f17aa  youtube_channel_reklama"
      ]
     },
     "metadata": {},
     "output_type": "display_data"
    },
    {
     "name": "stdout",
     "output_type": "stream",
     "text": [
      "--------------------------------------------------\n",
      "<class 'pandas.core.frame.DataFrame'>\n",
      "RangeIndex: 13576 entries, 0 to 13575\n",
      "Data columns (total 2 columns):\n",
      " #   Column   Non-Null Count  Dtype \n",
      "---  ------   --------------  ----- \n",
      " 0   user_id  13576 non-null  object\n",
      " 1   source   13576 non-null  object\n",
      "dtypes: object(2)\n",
      "memory usage: 212.2+ KB\n",
      "--------------------------------------------------\n"
     ]
    },
    {
     "data": {
      "text/html": [
       "<div>\n",
       "<style scoped>\n",
       "    .dataframe tbody tr th:only-of-type {\n",
       "        vertical-align: middle;\n",
       "    }\n",
       "\n",
       "    .dataframe tbody tr th {\n",
       "        vertical-align: top;\n",
       "    }\n",
       "\n",
       "    .dataframe thead th {\n",
       "        text-align: right;\n",
       "    }\n",
       "</style>\n",
       "<table border=\"1\" class=\"dataframe\">\n",
       "  <thead>\n",
       "    <tr style=\"text-align: right;\">\n",
       "      <th></th>\n",
       "      <th>user_id</th>\n",
       "      <th>source</th>\n",
       "    </tr>\n",
       "  </thead>\n",
       "  <tbody>\n",
       "    <tr>\n",
       "      <th>count</th>\n",
       "      <td>13576</td>\n",
       "      <td>13576</td>\n",
       "    </tr>\n",
       "    <tr>\n",
       "      <th>unique</th>\n",
       "      <td>13576</td>\n",
       "      <td>4</td>\n",
       "    </tr>\n",
       "    <tr>\n",
       "      <th>top</th>\n",
       "      <td>0001f83c-c6ac-4621-b7f0-8a28b283ac30</td>\n",
       "      <td>yandex_direct</td>\n",
       "    </tr>\n",
       "    <tr>\n",
       "      <th>freq</th>\n",
       "      <td>1</td>\n",
       "      <td>4817</td>\n",
       "    </tr>\n",
       "  </tbody>\n",
       "</table>\n",
       "</div>"
      ],
      "text/plain": [
       "                                     user_id         source\n",
       "count                                  13576          13576\n",
       "unique                                 13576              4\n",
       "top     0001f83c-c6ac-4621-b7f0-8a28b283ac30  yandex_direct\n",
       "freq                                       1           4817"
      ]
     },
     "metadata": {},
     "output_type": "display_data"
    },
    {
     "name": "stdout",
     "output_type": "stream",
     "text": [
      "--------------------------------------------------\n",
      "Количество явных дубликатов: 0\n"
     ]
    }
   ],
   "source": [
    "df_info(user_source)"
   ]
  },
  {
   "cell_type": "markdown",
   "metadata": {},
   "source": [
    "### Смотрю уникальные каналы привлечения."
   ]
  },
  {
   "cell_type": "code",
   "execution_count": 8,
   "metadata": {},
   "outputs": [
    {
     "data": {
      "text/plain": [
       "array(['facebook_ads', 'instagram_new_adverts', 'yandex_direct',\n",
       "       'youtube_channel_reklama'], dtype=object)"
      ]
     },
     "execution_count": 8,
     "metadata": {},
     "output_type": "execute_result"
    }
   ],
   "source": [
    "user_source['source'].sort_values().unique()"
   ]
  },
  {
   "cell_type": "markdown",
   "metadata": {},
   "source": [
    "Я имею датасет с **13576** уникальными игроками и **4** каналами привлечения - **facebook_ads**, **instagram_new_adverts**, **yandex_direct** и **youtube_channel_reklama**. Ровно столько же уникальных игроков в датасете `game_actions`, значит органических пользователей нет вообще. Самым популярным каналом привлечения является **yandex_direct**, с него пришло **4817** игроков.\n",
    "***\n",
    "Пропущенных значений и явных дубликатов нет, типы данных соответствуют содержимому, данные также очень хорошего качества."
   ]
  },
  {
   "cell_type": "code",
   "execution_count": 9,
   "metadata": {
    "scrolled": false
   },
   "outputs": [
    {
     "data": {
      "text/html": [
       "<div>\n",
       "<style scoped>\n",
       "    .dataframe tbody tr th:only-of-type {\n",
       "        vertical-align: middle;\n",
       "    }\n",
       "\n",
       "    .dataframe tbody tr th {\n",
       "        vertical-align: top;\n",
       "    }\n",
       "\n",
       "    .dataframe thead th {\n",
       "        text-align: right;\n",
       "    }\n",
       "</style>\n",
       "<table border=\"1\" class=\"dataframe\">\n",
       "  <thead>\n",
       "    <tr style=\"text-align: right;\">\n",
       "      <th></th>\n",
       "      <th>source</th>\n",
       "      <th>day</th>\n",
       "      <th>cost</th>\n",
       "    </tr>\n",
       "  </thead>\n",
       "  <tbody>\n",
       "    <tr>\n",
       "      <th>0</th>\n",
       "      <td>facebook_ads</td>\n",
       "      <td>2020-05-03</td>\n",
       "      <td>935.882786</td>\n",
       "    </tr>\n",
       "    <tr>\n",
       "      <th>1</th>\n",
       "      <td>facebook_ads</td>\n",
       "      <td>2020-05-04</td>\n",
       "      <td>548.354480</td>\n",
       "    </tr>\n",
       "    <tr>\n",
       "      <th>2</th>\n",
       "      <td>facebook_ads</td>\n",
       "      <td>2020-05-05</td>\n",
       "      <td>260.185754</td>\n",
       "    </tr>\n",
       "  </tbody>\n",
       "</table>\n",
       "</div>"
      ],
      "text/plain": [
       "         source        day        cost\n",
       "0  facebook_ads 2020-05-03  935.882786\n",
       "1  facebook_ads 2020-05-04  548.354480\n",
       "2  facebook_ads 2020-05-05  260.185754"
      ]
     },
     "metadata": {},
     "output_type": "display_data"
    },
    {
     "name": "stdout",
     "output_type": "stream",
     "text": [
      "--------------------------------------------------\n",
      "<class 'pandas.core.frame.DataFrame'>\n",
      "RangeIndex: 28 entries, 0 to 27\n",
      "Data columns (total 3 columns):\n",
      " #   Column  Non-Null Count  Dtype         \n",
      "---  ------  --------------  -----         \n",
      " 0   source  28 non-null     object        \n",
      " 1   day     28 non-null     datetime64[ns]\n",
      " 2   cost    28 non-null     float64       \n",
      "dtypes: datetime64[ns](1), float64(1), object(1)\n",
      "memory usage: 800.0+ bytes\n",
      "--------------------------------------------------\n"
     ]
    },
    {
     "data": {
      "text/html": [
       "<div>\n",
       "<style scoped>\n",
       "    .dataframe tbody tr th:only-of-type {\n",
       "        vertical-align: middle;\n",
       "    }\n",
       "\n",
       "    .dataframe tbody tr th {\n",
       "        vertical-align: top;\n",
       "    }\n",
       "\n",
       "    .dataframe thead th {\n",
       "        text-align: right;\n",
       "    }\n",
       "</style>\n",
       "<table border=\"1\" class=\"dataframe\">\n",
       "  <thead>\n",
       "    <tr style=\"text-align: right;\">\n",
       "      <th></th>\n",
       "      <th>source</th>\n",
       "      <th>day</th>\n",
       "      <th>cost</th>\n",
       "    </tr>\n",
       "  </thead>\n",
       "  <tbody>\n",
       "    <tr>\n",
       "      <th>count</th>\n",
       "      <td>28</td>\n",
       "      <td>28</td>\n",
       "      <td>28.000000</td>\n",
       "    </tr>\n",
       "    <tr>\n",
       "      <th>unique</th>\n",
       "      <td>4</td>\n",
       "      <td>7</td>\n",
       "      <td>NaN</td>\n",
       "    </tr>\n",
       "    <tr>\n",
       "      <th>top</th>\n",
       "      <td>facebook_ads</td>\n",
       "      <td>2020-05-03 00:00:00</td>\n",
       "      <td>NaN</td>\n",
       "    </tr>\n",
       "    <tr>\n",
       "      <th>freq</th>\n",
       "      <td>7</td>\n",
       "      <td>4</td>\n",
       "      <td>NaN</td>\n",
       "    </tr>\n",
       "    <tr>\n",
       "      <th>first</th>\n",
       "      <td>NaN</td>\n",
       "      <td>2020-05-03 00:00:00</td>\n",
       "      <td>NaN</td>\n",
       "    </tr>\n",
       "    <tr>\n",
       "      <th>last</th>\n",
       "      <td>NaN</td>\n",
       "      <td>2020-05-09 00:00:00</td>\n",
       "      <td>NaN</td>\n",
       "    </tr>\n",
       "    <tr>\n",
       "      <th>mean</th>\n",
       "      <td>NaN</td>\n",
       "      <td>NaN</td>\n",
       "      <td>271.556321</td>\n",
       "    </tr>\n",
       "    <tr>\n",
       "      <th>std</th>\n",
       "      <td>NaN</td>\n",
       "      <td>NaN</td>\n",
       "      <td>286.867650</td>\n",
       "    </tr>\n",
       "    <tr>\n",
       "      <th>min</th>\n",
       "      <td>NaN</td>\n",
       "      <td>NaN</td>\n",
       "      <td>23.314669</td>\n",
       "    </tr>\n",
       "    <tr>\n",
       "      <th>25%</th>\n",
       "      <td>NaN</td>\n",
       "      <td>NaN</td>\n",
       "      <td>66.747365</td>\n",
       "    </tr>\n",
       "    <tr>\n",
       "      <th>50%</th>\n",
       "      <td>NaN</td>\n",
       "      <td>NaN</td>\n",
       "      <td>160.056443</td>\n",
       "    </tr>\n",
       "    <tr>\n",
       "      <th>75%</th>\n",
       "      <td>NaN</td>\n",
       "      <td>NaN</td>\n",
       "      <td>349.034473</td>\n",
       "    </tr>\n",
       "    <tr>\n",
       "      <th>max</th>\n",
       "      <td>NaN</td>\n",
       "      <td>NaN</td>\n",
       "      <td>969.139394</td>\n",
       "    </tr>\n",
       "  </tbody>\n",
       "</table>\n",
       "</div>"
      ],
      "text/plain": [
       "              source                  day        cost\n",
       "count             28                   28   28.000000\n",
       "unique             4                    7         NaN\n",
       "top     facebook_ads  2020-05-03 00:00:00         NaN\n",
       "freq               7                    4         NaN\n",
       "first            NaN  2020-05-03 00:00:00         NaN\n",
       "last             NaN  2020-05-09 00:00:00         NaN\n",
       "mean             NaN                  NaN  271.556321\n",
       "std              NaN                  NaN  286.867650\n",
       "min              NaN                  NaN   23.314669\n",
       "25%              NaN                  NaN   66.747365\n",
       "50%              NaN                  NaN  160.056443\n",
       "75%              NaN                  NaN  349.034473\n",
       "max              NaN                  NaN  969.139394"
      ]
     },
     "metadata": {},
     "output_type": "display_data"
    },
    {
     "name": "stdout",
     "output_type": "stream",
     "text": [
      "--------------------------------------------------\n",
      "Количество явных дубликатов: 0\n"
     ]
    }
   ],
   "source": [
    "df_info(costs)"
   ]
  },
  {
   "cell_type": "markdown",
   "metadata": {},
   "source": [
    "Я имею датасет с **28** записями о кликах по объявлениям за **7** дней. Стоимость кликов колеблется от **23** до **969**, в среднем **272**, а по медиане **160**.\n",
    "***\n",
    "Пропущенных значений и явных дубликатов нет. Типы данных соответствуют содержимому столбцов, данные также очень хорошего качества."
   ]
  },
  {
   "cell_type": "markdown",
   "metadata": {},
   "source": [
    "### Вывод:\n",
    "В трех имеющихся датасетах необоснованно пропущенных значений нет. Был всего 1 явный дубликат. Типы данных соответствуют содержимому столбцов. Данные изначально очень хорошего качества.\n",
    "## Шаг 2. Провожу исследовательский анализ данных (EDA).\n",
    "### Определяю минимальную и максимальную дату привлечения игроков."
   ]
  },
  {
   "cell_type": "code",
   "execution_count": 10,
   "metadata": {},
   "outputs": [
    {
     "data": {
      "text/plain": [
       "(Timestamp('2020-05-04 00:00:01'), Timestamp('2020-06-05 12:32:49'))"
      ]
     },
     "execution_count": 10,
     "metadata": {},
     "output_type": "execute_result"
    }
   ],
   "source": [
    "game_actions['event_datetime'].min(), game_actions['event_datetime'].max()"
   ]
  },
  {
   "cell_type": "markdown",
   "metadata": {},
   "source": [
    "Датасет от **4 мая 2020** до **5 июня 2020**, то есть у меня данные за **33** дня.\n",
    "### Смотрю распределение событий по датам."
   ]
  },
  {
   "cell_type": "code",
   "execution_count": 11,
   "metadata": {
    "scrolled": false
   },
   "outputs": [
    {
     "data": {
      "image/png": "[encoded data removed]",
      "text/plain": [
       "<Figure size 1080x360 with 1 Axes>"
      ]
     },
     "metadata": {
      "needs_background": "light"
     },
     "output_type": "display_data"
    },
    {
     "data": {
      "image/png": "[encoded data removed]",
      "text/plain": [
       "<Figure size 1080x360 with 1 Axes>"
      ]
     },
     "metadata": {
      "needs_background": "light"
     },
     "output_type": "display_data"
    },
    {
     "data": {
      "image/png": "[encoded data removed]",
      "text/plain": [
       "<Figure size 1080x360 with 1 Axes>"
      ]
     },
     "metadata": {
      "needs_background": "light"
     },
     "output_type": "display_data"
    }
   ],
   "source": [
    "for i in game_actions['event'].unique():\n",
    "    fig, axes = plt.subplots(figsize = (15, 5))\n",
    "    game_actions[game_actions['event'] == i].groupby('date')['user_id'].count().plot(kind = 'bar')\n",
    "    plt.xticks(rotation = 45)\n",
    "    plt.title('Распределение события {}'.format(i))\n",
    "    plt.xlabel('Дата')\n",
    "    plt.ylabel('Количество событий')\n",
    "    plt.show()"
   ]
  },
  {
   "cell_type": "markdown",
   "metadata": {},
   "source": [
    "Распределение завершения первого уровня, похоже на нормальное, с пиком **16** мая. Распределение реализации проекта тоже похоже на нормальное с пиком **15** мая. Сложно сказать что-то по распределению строительства объектов, ведь там три разных типа объектов, поэтому смотрю поподробнее.\n",
    "### Определяю, какие объекты чаще строят игроки. "
   ]
  },
  {
   "cell_type": "code",
   "execution_count": 12,
   "metadata": {},
   "outputs": [
    {
     "name": "stdout",
     "output_type": "stream",
     "text": [
      "Объектов всего: 127956\n"
     ]
    },
    {
     "data": {
      "text/plain": [
       "spaceport          59325\n",
       "assembly_shop      54494\n",
       "research_center    14137\n",
       "Name: building_type, dtype: int64"
      ]
     },
     "execution_count": 12,
     "metadata": {},
     "output_type": "execute_result"
    }
   ],
   "source": [
    "print('Объектов всего:', game_actions['building_type'].count())\n",
    "game_actions['building_type'].value_counts()"
   ]
  },
  {
   "cell_type": "markdown",
   "metadata": {},
   "source": [
    "Из **127956** объектов:\n",
    "- **59325** (**46,4%**) - spaceport (космопорт);\n",
    "- **54494** (**42,6%**) - assembly_shop (сборочный цех);\n",
    "- **14137** (**11%**) - research_center (исследовательский центр).\n",
    "### Смотрю распределение построек по датам."
   ]
  },
  {
   "cell_type": "code",
   "execution_count": 13,
   "metadata": {},
   "outputs": [
    {
     "data": {
      "image/png": "[encoded data removed]",
      "text/plain": [
       "<Figure size 1080x360 with 1 Axes>"
      ]
     },
     "metadata": {
      "needs_background": "light"
     },
     "output_type": "display_data"
    }
   ],
   "source": [
    "fig, ax=plt.subplots(figsize = (15, 5))\n",
    "df_plot = (game_actions\n",
    "           .groupby(['building_type', 'date'])\n",
    "           .size()\n",
    "           .reset_index()\n",
    "           .pivot(columns = 'building_type', index = 'date', values = 0))\n",
    "df_plot[['spaceport', 'research_center', 'assembly_shop']].plot(kind = 'bar', stacked = True, ax = ax)\n",
    "plt.xticks(rotation = 45)\n",
    "plt.title('Распределение построек по датам:')\n",
    "plt.xlabel('Дата')\n",
    "plt.ylabel('Количество построенных объектов')\n",
    "plt.show()"
   ]
  },
  {
   "cell_type": "markdown",
   "metadata": {},
   "source": [
    "Можно предположить, что **assembly_shop** - первый объект, который необходимо построить в игре. Такой тип объекта наблюдается только в первую неделю с начала игры, и каждый день количество таких объектов примерно одинаково. \n",
    "\n",
    "Больше всего объектов типа **spaceport** - наблюдаются на протяжении всего периода, пик приходится на **11** мая, распределение похоже на нормальное. \n",
    "\n",
    "И самый редкий тип объектов **research_center**, начинает встречаться на третий день с начала игры, распределение также похоже на нормальное. Можно предположить, что к его строительству можно приступать только после строительства первых двух типов. Вероятно оно не является обязательным."
   ]
  },
  {
   "cell_type": "markdown",
   "metadata": {},
   "source": [
    "### Определяю, какую стратегию прохождения чаще используют пользователи. "
   ]
  },
  {
   "cell_type": "code",
   "execution_count": 14,
   "metadata": {},
   "outputs": [
    {
     "name": "stdout",
     "output_type": "stream",
     "text": [
      "Из 13576 уникальных игроков:\n",
      "1866 игроков ( 13.7 %), реализовавших проект и победивших врага;\n",
      "3951 игрок ( 29.1 %), победивший врага;\n",
      "7759 игроков ( 57.2 %), не завершивших прохождение первого уровня.\n"
     ]
    }
   ],
   "source": [
    "print('Из', len(user_source), 'уникальных игроков:')\n",
    "project = game_actions.query('event == \"project\"')\n",
    "project_list = project['user_id'].unique().tolist()\n",
    "print(len(project_list), 'игроков (', round(len(project_list) / len(user_source) * 100, 1),'%), реализовавших проект и победивших врага;')\n",
    "\n",
    "finished_stage_and_project = game_actions.query('event == \"finished_stage_1\"')\n",
    "finished_stage_and_project_list = finished_stage_and_project['user_id'].unique().tolist()\n",
    "\n",
    "finished_stage_list = []\n",
    "for i in range(len(finished_stage_and_project_list)):\n",
    "    if finished_stage_and_project_list[i] not in project_list:\n",
    "        finished_stage_list.append(finished_stage_and_project_list[i])\n",
    "               \n",
    "print(len(finished_stage_list), 'игрок (', round(len(finished_stage_list) / len(user_source) * 100, 1),'%), победивший врага;')\n",
    "\n",
    "all = game_actions.query('event == \"building\"')\n",
    "all_list = all['user_id'].unique().tolist()\n",
    "\n",
    "building_list = []\n",
    "for i in range(len(all_list)):\n",
    "    if all_list[i] not in project_list and all_list[i] not in finished_stage_list:\n",
    "        building_list.append(all_list[i])\n",
    "        \n",
    "print(len(building_list), 'игроков (', round(len(building_list) / len(user_source) * 100, 1),'%), не завершивших прохождение первого уровня.')"
   ]
  },
  {
   "cell_type": "markdown",
   "metadata": {},
   "source": [
    "Из **13576** уникальных игроков:\n",
    "- **1866** игроков (**13.7%**), реализовавших проект и победивших врага;\n",
    "- **3951** игрок (**29.1%**), победивший врага;\n",
    "- **7759** игроков (**29.1%**), не завершивших прохождение первого уровня.\n",
    "\n",
    "То есть стратегию завершения уровня победой над врагом использует в два раза больше игроков.\n",
    "### Определяю, какая стратегия игрока потенциально принесет больше средств. \n",
    "Так как в приложении будет происходить показ рекламы на экране с выбором типа объекта для постройки, буду оценивать в количестве построек."
   ]
  },
  {
   "cell_type": "code",
   "execution_count": 15,
   "metadata": {
    "scrolled": false
   },
   "outputs": [
    {
     "name": "stdout",
     "output_type": "stream",
     "text": [
      "Для 1866 игроков, реализовавших проект и победивших врага, \n",
      "суммарное значение построенных объектов - 23601, \n",
      "среднее - 12.6, \n",
      "медианное - 12.0.\n",
      "\n",
      "Для 3951 игрока, победивших врага, \n",
      "суммарное значение построенных объектов - 37185, \n",
      "среднее - 9.4, \n",
      "медианное - 10.0.\n",
      "\n",
      "Для 7759 игроков, не завершивших прохождение первого уровня, \n",
      "суммарное значение построенных объектов - 67170, \n",
      "среднее - 8.7, \n",
      "медианное - 8.0.\n"
     ]
    }
   ],
   "source": [
    "project = (\n",
    "    game_actions[game_actions['user_id']\n",
    "    .isin(project_list)]\n",
    "    .query('event == \"building\"')\n",
    "    .groupby(['user_id'])\n",
    "    .agg({'event':'count'})\n",
    "    .rename(columns = {'event':'count_event'})\n",
    "    .reset_index()\n",
    "    .sort_values(by = ['count_event'], ascending = False)\n",
    ")\n",
    "print('Для {} игроков, реализовавших проект и победивших врага, \\nсуммарное значение построенных объектов - {}, \\nсреднее - {}, \\nмедианное - {}.\\n'.format(len(project), sum(project['count_event']), round(project['count_event'].mean(), 1), project['count_event'].median()))\n",
    "\n",
    "finished_stage = (\n",
    "    game_actions[game_actions['user_id']\n",
    "    .isin(finished_stage_list)]\n",
    "    .query('event == \"building\"')\n",
    "    .groupby(['user_id'])\n",
    "    .agg({'event':'count'})\n",
    "    .rename(columns = {'event':'count_event'})\n",
    "    .reset_index()\n",
    "    .sort_values(by = ['count_event'], ascending = False)\n",
    ")\n",
    "print('Для {} игрока, победивших врага, \\nсуммарное значение построенных объектов - {}, \\nсреднее - {}, \\nмедианное - {}.\\n'.format(len(finished_stage), sum(finished_stage['count_event']), round(finished_stage['count_event'].mean(), 1), finished_stage['count_event'].median()))\n",
    "\n",
    "building = (\n",
    "    game_actions[game_actions['user_id']\n",
    "    .isin(building_list)]\n",
    "    .query('event == \"building\"')\n",
    "    .groupby(['user_id'])\n",
    "    .agg({'event':'count'})\n",
    "    .rename(columns = {'event':'count_event'})\n",
    "    .reset_index()\n",
    "    .sort_values(by = ['count_event'], ascending = False)\n",
    ")\n",
    "print('Для {} игроков, не завершивших прохождение первого уровня, \\nсуммарное значение построенных объектов - {}, \\nсреднее - {}, \\nмедианное - {}.'.format(len(building), sum(building['count_event']), round(building['count_event'].mean(), 1), building['count_event'].median()))"
   ]
  },
  {
   "cell_type": "markdown",
   "metadata": {},
   "source": [
    "Игроки, реализовавшие проект и победившие врага, в среднем строят **12** объектов.\n",
    "\n",
    "Игроки, победившие врага, в среднем строят **9** объектов.\n",
    "\n",
    "Игроки, не завершившие прохождение первого уровня, в среднем строят **8** объектов."
   ]
  },
  {
   "cell_type": "markdown",
   "metadata": {},
   "source": [
    "### Определяю по каким рекламным каналам шло привлечение пользователей. "
   ]
  },
  {
   "cell_type": "code",
   "execution_count": 16,
   "metadata": {},
   "outputs": [
    {
     "data": {
      "text/html": [
       "<div>\n",
       "<style scoped>\n",
       "    .dataframe tbody tr th:only-of-type {\n",
       "        vertical-align: middle;\n",
       "    }\n",
       "\n",
       "    .dataframe tbody tr th {\n",
       "        vertical-align: top;\n",
       "    }\n",
       "\n",
       "    .dataframe thead th {\n",
       "        text-align: right;\n",
       "    }\n",
       "</style>\n",
       "<table border=\"1\" class=\"dataframe\">\n",
       "  <thead>\n",
       "    <tr style=\"text-align: right;\">\n",
       "      <th></th>\n",
       "      <th>source</th>\n",
       "      <th>count_of_players</th>\n",
       "    </tr>\n",
       "  </thead>\n",
       "  <tbody>\n",
       "    <tr>\n",
       "      <th>2</th>\n",
       "      <td>yandex_direct</td>\n",
       "      <td>4817</td>\n",
       "    </tr>\n",
       "    <tr>\n",
       "      <th>1</th>\n",
       "      <td>instagram_new_adverts</td>\n",
       "      <td>3347</td>\n",
       "    </tr>\n",
       "    <tr>\n",
       "      <th>0</th>\n",
       "      <td>facebook_ads</td>\n",
       "      <td>2726</td>\n",
       "    </tr>\n",
       "    <tr>\n",
       "      <th>3</th>\n",
       "      <td>youtube_channel_reklama</td>\n",
       "      <td>2686</td>\n",
       "    </tr>\n",
       "  </tbody>\n",
       "</table>\n",
       "</div>"
      ],
      "text/plain": [
       "                    source  count_of_players\n",
       "2            yandex_direct              4817\n",
       "1    instagram_new_adverts              3347\n",
       "0             facebook_ads              2726\n",
       "3  youtube_channel_reklama              2686"
      ]
     },
     "execution_count": 16,
     "metadata": {},
     "output_type": "execute_result"
    }
   ],
   "source": [
    "channels = (user_source\n",
    "    .groupby(['source'])\n",
    "    .agg({'user_id':'count'})\n",
    "    .rename(columns = {'user_id':'count_of_players'})\n",
    "    .reset_index()\n",
    "    .sort_values(by = ['count_of_players'], ascending = False))\n",
    "channels"
   ]
  },
  {
   "cell_type": "markdown",
   "metadata": {},
   "source": [
    "Больше всего игроков - **4817**, пришло с **yandex_direct**. \n",
    "\n",
    "На втором месте, **3347**, **instagram_new_adverts**. \n",
    "\n",
    "Далее, **2726**, **facebook_ads**. \n",
    "\n",
    "И на последнем месте, **2686**, **youtube_channel_reklama**."
   ]
  },
  {
   "cell_type": "markdown",
   "metadata": {},
   "source": [
    "### Определяю, какие каналы приносят больше игроков, строящих больше всего объектов."
   ]
  },
  {
   "cell_type": "code",
   "execution_count": 17,
   "metadata": {},
   "outputs": [
    {
     "data": {
      "text/html": [
       "<div>\n",
       "<style scoped>\n",
       "    .dataframe tbody tr th:only-of-type {\n",
       "        vertical-align: middle;\n",
       "    }\n",
       "\n",
       "    .dataframe tbody tr th {\n",
       "        vertical-align: top;\n",
       "    }\n",
       "\n",
       "    .dataframe thead th {\n",
       "        text-align: right;\n",
       "    }\n",
       "</style>\n",
       "<table border=\"1\" class=\"dataframe\">\n",
       "  <thead>\n",
       "    <tr style=\"text-align: right;\">\n",
       "      <th></th>\n",
       "      <th>source</th>\n",
       "      <th>count_of_objects_built</th>\n",
       "    </tr>\n",
       "  </thead>\n",
       "  <tbody>\n",
       "    <tr>\n",
       "      <th>2</th>\n",
       "      <td>yandex_direct</td>\n",
       "      <td>45032</td>\n",
       "    </tr>\n",
       "    <tr>\n",
       "      <th>1</th>\n",
       "      <td>instagram_new_adverts</td>\n",
       "      <td>31815</td>\n",
       "    </tr>\n",
       "    <tr>\n",
       "      <th>0</th>\n",
       "      <td>facebook_ads</td>\n",
       "      <td>26131</td>\n",
       "    </tr>\n",
       "    <tr>\n",
       "      <th>3</th>\n",
       "      <td>youtube_channel_reklama</td>\n",
       "      <td>24978</td>\n",
       "    </tr>\n",
       "  </tbody>\n",
       "</table>\n",
       "</div>"
      ],
      "text/plain": [
       "                    source  count_of_objects_built\n",
       "2            yandex_direct                   45032\n",
       "1    instagram_new_adverts                   31815\n",
       "0             facebook_ads                   26131\n",
       "3  youtube_channel_reklama                   24978"
      ]
     },
     "execution_count": 17,
     "metadata": {},
     "output_type": "execute_result"
    }
   ],
   "source": [
    "count_of_players_by_channels = (user_source\n",
    "    .merge(game_actions, on = ['user_id'], how = 'left')\n",
    "    .query('event == \"building\"')\n",
    "    .groupby(['source'])\n",
    "    .agg({'event':'count'})\n",
    "    .rename(columns = {'event':'count_of_objects_built'})\n",
    "    .reset_index()\n",
    "    .sort_values(by = ['count_of_objects_built'], ascending = False))\n",
    "count_of_players_by_channels"
   ]
  },
  {
   "cell_type": "markdown",
   "metadata": {},
   "source": [
    "Топ по количеству построенных объектов, предсказуемо, точно такой же:\n",
    "- **yandex_direct**, **45032** шт;\n",
    "- **instagram_new_adverts**, **31815** шт;\n",
    "- **facebook_ads**, **26131** шт;\n",
    "- **youtube_channel_reklama**, **24978** шт.\n",
    "\n",
    "Яндекс лидирует со значительным перевесом."
   ]
  },
  {
   "cell_type": "markdown",
   "metadata": {},
   "source": [
    "### Определяю, cреднее количество объектов, построенных одним игроком / одним игроком по источникам."
   ]
  },
  {
   "cell_type": "code",
   "execution_count": 18,
   "metadata": {},
   "outputs": [
    {
     "name": "stdout",
     "output_type": "stream",
     "text": [
      "Среднее количество объектов, построенное одним игроком: 9.4\n",
      "\n",
      "Среднее количество объектов по источникам:\n"
     ]
    },
    {
     "data": {
      "text/html": [
       "<div>\n",
       "<style scoped>\n",
       "    .dataframe tbody tr th:only-of-type {\n",
       "        vertical-align: middle;\n",
       "    }\n",
       "\n",
       "    .dataframe tbody tr th {\n",
       "        vertical-align: top;\n",
       "    }\n",
       "\n",
       "    .dataframe thead th {\n",
       "        text-align: right;\n",
       "    }\n",
       "</style>\n",
       "<table border=\"1\" class=\"dataframe\">\n",
       "  <thead>\n",
       "    <tr style=\"text-align: right;\">\n",
       "      <th></th>\n",
       "      <th>source</th>\n",
       "      <th>count_of_objects_per_player</th>\n",
       "    </tr>\n",
       "  </thead>\n",
       "  <tbody>\n",
       "    <tr>\n",
       "      <th>2</th>\n",
       "      <td>facebook_ads</td>\n",
       "      <td>9.6</td>\n",
       "    </tr>\n",
       "    <tr>\n",
       "      <th>1</th>\n",
       "      <td>instagram_new_adverts</td>\n",
       "      <td>9.5</td>\n",
       "    </tr>\n",
       "    <tr>\n",
       "      <th>0</th>\n",
       "      <td>yandex_direct</td>\n",
       "      <td>9.3</td>\n",
       "    </tr>\n",
       "    <tr>\n",
       "      <th>3</th>\n",
       "      <td>youtube_channel_reklama</td>\n",
       "      <td>9.3</td>\n",
       "    </tr>\n",
       "  </tbody>\n",
       "</table>\n",
       "</div>"
      ],
      "text/plain": [
       "                    source  count_of_objects_per_player\n",
       "2             facebook_ads                          9.6\n",
       "1    instagram_new_adverts                          9.5\n",
       "0            yandex_direct                          9.3\n",
       "3  youtube_channel_reklama                          9.3"
      ]
     },
     "execution_count": 18,
     "metadata": {},
     "output_type": "execute_result"
    }
   ],
   "source": [
    "count_of_objects_per_player = channels.merge(count_of_players_by_channels, on = ['source'], how = 'left')\n",
    "count_of_objects_per_player['count_of_objects_per_player'] = round(count_of_objects_per_player['count_of_objects_built'] / count_of_objects_per_player['count_of_players'], 1)\n",
    "\n",
    "print('Среднее количество объектов, построенное одним игроком:', round(count_of_objects_per_player['count_of_objects_per_player'].mean(), 1))\n",
    "print('')\n",
    "print('Среднее количество объектов по источникам:')\n",
    "count_of_objects_per_player[['source', 'count_of_objects_per_player']].sort_values('count_of_objects_per_player', ascending = False)"
   ]
  },
  {
   "cell_type": "markdown",
   "metadata": {},
   "source": [
    "Можно сказать, что в среднем количество объектов, построенных одним игроком, что в общем, что по каналам привлечения примерно одиниково - **9**. Но из **facebook_ads** результат чуть выше остальных."
   ]
  },
  {
   "cell_type": "markdown",
   "metadata": {},
   "source": [
    "### Определяю, сколько денег потратили всего / на каждый источник / по времени."
   ]
  },
  {
   "cell_type": "code",
   "execution_count": 19,
   "metadata": {},
   "outputs": [
    {
     "name": "stdout",
     "output_type": "stream",
     "text": [
      "Всего на привлечение потрачено: 7603.58\n",
      "\n",
      "На привлечение по каждому источнику потрачено:\n"
     ]
    },
    {
     "data": {
      "text/html": [
       "<div>\n",
       "<style scoped>\n",
       "    .dataframe tbody tr th:only-of-type {\n",
       "        vertical-align: middle;\n",
       "    }\n",
       "\n",
       "    .dataframe tbody tr th {\n",
       "        vertical-align: top;\n",
       "    }\n",
       "\n",
       "    .dataframe thead th {\n",
       "        text-align: right;\n",
       "    }\n",
       "</style>\n",
       "<table border=\"1\" class=\"dataframe\">\n",
       "  <thead>\n",
       "    <tr style=\"text-align: right;\">\n",
       "      <th>source</th>\n",
       "      <th>yandex_direct</th>\n",
       "      <th>instagram_new_adverts</th>\n",
       "      <th>facebook_ads</th>\n",
       "      <th>youtube_channel_reklama</th>\n",
       "    </tr>\n",
       "  </thead>\n",
       "  <tbody>\n",
       "    <tr>\n",
       "      <th>cost</th>\n",
       "      <td>2233.111449</td>\n",
       "      <td>2161.441691</td>\n",
       "      <td>2140.904643</td>\n",
       "      <td>1068.119204</td>\n",
       "    </tr>\n",
       "  </tbody>\n",
       "</table>\n",
       "</div>"
      ],
      "text/plain": [
       "source  yandex_direct  instagram_new_adverts  facebook_ads  \\\n",
       "cost      2233.111449            2161.441691   2140.904643   \n",
       "\n",
       "source  youtube_channel_reklama  \n",
       "cost                1068.119204  "
      ]
     },
     "metadata": {},
     "output_type": "display_data"
    },
    {
     "data": {
      "image/png": "[encoded data removed]",
      "text/plain": [
       "<Figure size 720x720 with 1 Axes>"
      ]
     },
     "metadata": {},
     "output_type": "display_data"
    },
    {
     "data": {
      "text/html": [
       "<div>\n",
       "<style scoped>\n",
       "    .dataframe tbody tr th:only-of-type {\n",
       "        vertical-align: middle;\n",
       "    }\n",
       "\n",
       "    .dataframe tbody tr th {\n",
       "        vertical-align: top;\n",
       "    }\n",
       "\n",
       "    .dataframe thead th {\n",
       "        text-align: right;\n",
       "    }\n",
       "</style>\n",
       "<table border=\"1\" class=\"dataframe\">\n",
       "  <thead>\n",
       "    <tr style=\"text-align: right;\">\n",
       "      <th>day</th>\n",
       "      <th>2020-05-03</th>\n",
       "      <th>2020-05-04</th>\n",
       "      <th>2020-05-05</th>\n",
       "      <th>2020-05-06</th>\n",
       "      <th>2020-05-07</th>\n",
       "      <th>2020-05-08</th>\n",
       "      <th>2020-05-09</th>\n",
       "    </tr>\n",
       "    <tr>\n",
       "      <th>source</th>\n",
       "      <th></th>\n",
       "      <th></th>\n",
       "      <th></th>\n",
       "      <th></th>\n",
       "      <th></th>\n",
       "      <th></th>\n",
       "      <th></th>\n",
       "    </tr>\n",
       "  </thead>\n",
       "  <tbody>\n",
       "    <tr>\n",
       "      <th>facebook_ads</th>\n",
       "      <td>935.882786</td>\n",
       "      <td>548.354480</td>\n",
       "      <td>260.185754</td>\n",
       "      <td>177.982200</td>\n",
       "      <td>111.766796</td>\n",
       "      <td>68.009276</td>\n",
       "      <td>38.723350</td>\n",
       "    </tr>\n",
       "    <tr>\n",
       "      <th>instagram_new_adverts</th>\n",
       "      <td>943.204717</td>\n",
       "      <td>502.925451</td>\n",
       "      <td>313.970984</td>\n",
       "      <td>173.071145</td>\n",
       "      <td>109.915254</td>\n",
       "      <td>71.578739</td>\n",
       "      <td>46.775400</td>\n",
       "    </tr>\n",
       "    <tr>\n",
       "      <th>yandex_direct</th>\n",
       "      <td>969.139394</td>\n",
       "      <td>554.651494</td>\n",
       "      <td>308.232990</td>\n",
       "      <td>180.917099</td>\n",
       "      <td>114.429338</td>\n",
       "      <td>62.961630</td>\n",
       "      <td>42.779505</td>\n",
       "    </tr>\n",
       "    <tr>\n",
       "      <th>youtube_channel_reklama</th>\n",
       "      <td>454.224943</td>\n",
       "      <td>259.073224</td>\n",
       "      <td>147.041741</td>\n",
       "      <td>88.506074</td>\n",
       "      <td>55.740645</td>\n",
       "      <td>40.217907</td>\n",
       "      <td>23.314669</td>\n",
       "    </tr>\n",
       "  </tbody>\n",
       "</table>\n",
       "</div>"
      ],
      "text/plain": [
       "day                      2020-05-03  2020-05-04  2020-05-05  2020-05-06  \\\n",
       "source                                                                    \n",
       "facebook_ads             935.882786  548.354480  260.185754  177.982200   \n",
       "instagram_new_adverts    943.204717  502.925451  313.970984  173.071145   \n",
       "yandex_direct            969.139394  554.651494  308.232990  180.917099   \n",
       "youtube_channel_reklama  454.224943  259.073224  147.041741   88.506074   \n",
       "\n",
       "day                      2020-05-07  2020-05-08  2020-05-09  \n",
       "source                                                       \n",
       "facebook_ads             111.766796   68.009276   38.723350  \n",
       "instagram_new_adverts    109.915254   71.578739   46.775400  \n",
       "yandex_direct            114.429338   62.961630   42.779505  \n",
       "youtube_channel_reklama   55.740645   40.217907   23.314669  "
      ]
     },
     "metadata": {},
     "output_type": "display_data"
    },
    {
     "data": {
      "image/png": "[encoded data removed]",
      "text/plain": [
       "<Figure size 1080x360 with 1 Axes>"
      ]
     },
     "metadata": {
      "needs_background": "light"
     },
     "output_type": "display_data"
    }
   ],
   "source": [
    "print('Всего на привлечение потрачено:', round(sum(costs['cost']), 2))\n",
    "print()\n",
    "\n",
    "total_channel_costs = (\n",
    "    costs\n",
    "    .groupby('source')\n",
    "    .agg({'cost':'sum'})\n",
    "    .sort_values('cost', ascending = False)\n",
    ")\n",
    "print('На привлечение по каждому источнику потрачено:')\n",
    "display(total_channel_costs.T)\n",
    "\n",
    "total_channel_costs.plot(kind = 'pie', figsize = (10, 10), y = 'cost', autopct = '%1.0f%%', subplots = True)\n",
    "plt.xlabel('Источники привлечения')\n",
    "plt.ylabel('Колличество потраченных средств, %')\n",
    "plt.title('Потрачено от общей суммы на привлечение по каждому источнику:')\n",
    "plt.tight_layout()\n",
    "plt.show()\n",
    "\n",
    "total_day_costs = (\n",
    "    costs.pivot_table(\n",
    "    index = 'source',\n",
    "    columns = 'day',\n",
    "    values = 'cost',\n",
    "    aggfunc = 'sum'\n",
    "    )\n",
    ")\n",
    "display(total_day_costs)\n",
    "total_day_costs.T.plot(figsize = (15, 5), grid = True)\n",
    "plt.xlabel('День')\n",
    "plt.ylabel('Колличество потраченных средств')\n",
    "plt.title('Потрачено на привлечение по каждому источнику по дням:')\n",
    "plt.tight_layout()\n",
    "plt.show()"
   ]
  },
  {
   "cell_type": "markdown",
   "metadata": {},
   "source": [
    "Всего на привлечение потрачено: **7603.58**.\n",
    "\n",
    "На привлечение по каждому источнику потрачено:\n",
    "- **youtube_channel_reklama** - **1068.12(14%)**;\n",
    "- **facebook_ads** - **2140.90 (28%)**;\n",
    "- **instagram_new_adverts** - **2161.44 (28%)**;\n",
    "- **yandex_direct** - **2233.11 (29%)**.\n",
    "\n",
    "Наибольшие затраты по всем источникам наблюдаются перед стартом игры, после чего, каждый следующий день, происходит постепенное снижение затрат. Затраты на **facebook_ads**, **instagram_new_adverts** и **yandex_direct** практически идентичны, затраты на **youtube_channel_reklama** значительно ниже."
   ]
  },
  {
   "cell_type": "markdown",
   "metadata": {},
   "source": [
    "### Определяю, сколько в среднем стоило привлечение одного покупателя / одного покупателя из каждого источника."
   ]
  },
  {
   "cell_type": "code",
   "execution_count": 20,
   "metadata": {},
   "outputs": [
    {
     "name": "stdout",
     "output_type": "stream",
     "text": [
      "Средняя стоимость привлечения одного покупателя: 0.573\n",
      "\n",
      "Средняя стоимость привлечения одного покупателя по источникам:\n"
     ]
    },
    {
     "data": {
      "text/html": [
       "<div>\n",
       "<style scoped>\n",
       "    .dataframe tbody tr th:only-of-type {\n",
       "        vertical-align: middle;\n",
       "    }\n",
       "\n",
       "    .dataframe tbody tr th {\n",
       "        vertical-align: top;\n",
       "    }\n",
       "\n",
       "    .dataframe thead th {\n",
       "        text-align: right;\n",
       "    }\n",
       "</style>\n",
       "<table border=\"1\" class=\"dataframe\">\n",
       "  <thead>\n",
       "    <tr style=\"text-align: right;\">\n",
       "      <th></th>\n",
       "      <th>source</th>\n",
       "      <th>mean_cost_one_player</th>\n",
       "    </tr>\n",
       "  </thead>\n",
       "  <tbody>\n",
       "    <tr>\n",
       "      <th>3</th>\n",
       "      <td>youtube_channel_reklama</td>\n",
       "      <td>0.398</td>\n",
       "    </tr>\n",
       "    <tr>\n",
       "      <th>0</th>\n",
       "      <td>yandex_direct</td>\n",
       "      <td>0.464</td>\n",
       "    </tr>\n",
       "    <tr>\n",
       "      <th>1</th>\n",
       "      <td>instagram_new_adverts</td>\n",
       "      <td>0.646</td>\n",
       "    </tr>\n",
       "    <tr>\n",
       "      <th>2</th>\n",
       "      <td>facebook_ads</td>\n",
       "      <td>0.785</td>\n",
       "    </tr>\n",
       "  </tbody>\n",
       "</table>\n",
       "</div>"
      ],
      "text/plain": [
       "                    source  mean_cost_one_player\n",
       "3  youtube_channel_reklama                 0.398\n",
       "0            yandex_direct                 0.464\n",
       "1    instagram_new_adverts                 0.646\n",
       "2             facebook_ads                 0.785"
      ]
     },
     "execution_count": 20,
     "metadata": {},
     "output_type": "execute_result"
    }
   ],
   "source": [
    "cost_of_attraction = count_of_objects_per_player.merge((\n",
    "    total_channel_costs\n",
    "    .rename(columns = {'cost':'count_of_funds_spent'})\n",
    "    .reset_index()), on = ['source'], how = 'left')\n",
    "\n",
    "cost_of_attraction['count_of_funds_spent'] = round(cost_of_attraction['count_of_funds_spent'], 3)\n",
    "cost_of_attraction['mean_cost_one_player'] = round(cost_of_attraction['count_of_funds_spent'] / cost_of_attraction['count_of_players'], 3)\n",
    "\n",
    "print('Средняя стоимость привлечения одного покупателя:', round(cost_of_attraction['mean_cost_one_player'].mean(), 3))\n",
    "print('')\n",
    "print('Средняя стоимость привлечения одного покупателя по источникам:')\n",
    "cost_of_attraction[['source', 'mean_cost_one_player']].sort_values('mean_cost_one_player')"
   ]
  },
  {
   "cell_type": "markdown",
   "metadata": {},
   "source": [
    "Средняя стоимость привлечения одного покупателя: **0.573**.\n",
    "\n",
    "Средняя стоимость привлечения одного покупателя по источникам:\n",
    "- **youtube_channel_reklama** - **0.398**;\n",
    "- **yandex_direct** - **0.464**;\n",
    "- **instagram_new_adverts** - **0.646**;\n",
    "- **facebook_ads** - **0.785**."
   ]
  },
  {
   "cell_type": "markdown",
   "metadata": {},
   "source": [
    "### Получаю профили пользователей."
   ]
  },
  {
   "cell_type": "code",
   "execution_count": 21,
   "metadata": {
    "scrolled": false
   },
   "outputs": [
    {
     "data": {
      "text/html": [
       "<div>\n",
       "<style scoped>\n",
       "    .dataframe tbody tr th:only-of-type {\n",
       "        vertical-align: middle;\n",
       "    }\n",
       "\n",
       "    .dataframe tbody tr th {\n",
       "        vertical-align: top;\n",
       "    }\n",
       "\n",
       "    .dataframe thead th {\n",
       "        text-align: right;\n",
       "    }\n",
       "</style>\n",
       "<table border=\"1\" class=\"dataframe\">\n",
       "  <thead>\n",
       "    <tr style=\"text-align: right;\">\n",
       "      <th></th>\n",
       "      <th>user_id</th>\n",
       "      <th>source</th>\n",
       "      <th>first_date</th>\n",
       "      <th>end_date</th>\n",
       "      <th>date_project</th>\n",
       "      <th>date_finished_stage_1</th>\n",
       "      <th>days_to_complete</th>\n",
       "      <th>complete_stage</th>\n",
       "      <th>days_in_game</th>\n",
       "      <th>count_buildings</th>\n",
       "      <th>complete_project</th>\n",
       "    </tr>\n",
       "  </thead>\n",
       "  <tbody>\n",
       "    <tr>\n",
       "      <th>0</th>\n",
       "      <td>0001f83c-c6ac-4621-b7f0-8a28b283ac30</td>\n",
       "      <td>facebook_ads</td>\n",
       "      <td>2020-05-06</td>\n",
       "      <td>2020-05-20</td>\n",
       "      <td>NaN</td>\n",
       "      <td>NaN</td>\n",
       "      <td>NaN</td>\n",
       "      <td>0</td>\n",
       "      <td>15</td>\n",
       "      <td>13</td>\n",
       "      <td>0</td>\n",
       "    </tr>\n",
       "    <tr>\n",
       "      <th>1</th>\n",
       "      <td>00151b4f-ba38-44a8-a650-d7cf130a0105</td>\n",
       "      <td>yandex_direct</td>\n",
       "      <td>2020-05-06</td>\n",
       "      <td>2020-05-18</td>\n",
       "      <td>NaN</td>\n",
       "      <td>NaN</td>\n",
       "      <td>NaN</td>\n",
       "      <td>0</td>\n",
       "      <td>13</td>\n",
       "      <td>9</td>\n",
       "      <td>0</td>\n",
       "    </tr>\n",
       "    <tr>\n",
       "      <th>2</th>\n",
       "      <td>001aaea6-3d14-43f1-8ca8-7f48820f17aa</td>\n",
       "      <td>youtube_channel_reklama</td>\n",
       "      <td>2020-05-05</td>\n",
       "      <td>2020-05-14</td>\n",
       "      <td>NaN</td>\n",
       "      <td>NaN</td>\n",
       "      <td>NaN</td>\n",
       "      <td>0</td>\n",
       "      <td>10</td>\n",
       "      <td>4</td>\n",
       "      <td>0</td>\n",
       "    </tr>\n",
       "    <tr>\n",
       "      <th>3</th>\n",
       "      <td>001d39dc-366c-4021-9604-6a3b9ff01e25</td>\n",
       "      <td>instagram_new_adverts</td>\n",
       "      <td>2020-05-05</td>\n",
       "      <td>2020-05-12</td>\n",
       "      <td>NaN</td>\n",
       "      <td>2020-05-12</td>\n",
       "      <td>8.0</td>\n",
       "      <td>1</td>\n",
       "      <td>8</td>\n",
       "      <td>8</td>\n",
       "      <td>0</td>\n",
       "    </tr>\n",
       "    <tr>\n",
       "      <th>4</th>\n",
       "      <td>002f508f-67b6-479f-814b-b05f00d4e995</td>\n",
       "      <td>facebook_ads</td>\n",
       "      <td>2020-05-05</td>\n",
       "      <td>2020-05-22</td>\n",
       "      <td>NaN</td>\n",
       "      <td>NaN</td>\n",
       "      <td>NaN</td>\n",
       "      <td>0</td>\n",
       "      <td>18</td>\n",
       "      <td>12</td>\n",
       "      <td>0</td>\n",
       "    </tr>\n",
       "  </tbody>\n",
       "</table>\n",
       "</div>"
      ],
      "text/plain": [
       "                                user_id                   source  first_date  \\\n",
       "0  0001f83c-c6ac-4621-b7f0-8a28b283ac30             facebook_ads  2020-05-06   \n",
       "1  00151b4f-ba38-44a8-a650-d7cf130a0105            yandex_direct  2020-05-06   \n",
       "2  001aaea6-3d14-43f1-8ca8-7f48820f17aa  youtube_channel_reklama  2020-05-05   \n",
       "3  001d39dc-366c-4021-9604-6a3b9ff01e25    instagram_new_adverts  2020-05-05   \n",
       "4  002f508f-67b6-479f-814b-b05f00d4e995             facebook_ads  2020-05-05   \n",
       "\n",
       "     end_date date_project date_finished_stage_1  days_to_complete  \\\n",
       "0  2020-05-20          NaN                   NaN               NaN   \n",
       "1  2020-05-18          NaN                   NaN               NaN   \n",
       "2  2020-05-14          NaN                   NaN               NaN   \n",
       "3  2020-05-12          NaN            2020-05-12               8.0   \n",
       "4  2020-05-22          NaN                   NaN               NaN   \n",
       "\n",
       "   complete_stage  days_in_game  count_buildings  complete_project  \n",
       "0               0            15               13                 0  \n",
       "1               0            13                9                 0  \n",
       "2               0            10                4                 0  \n",
       "3               1             8                8                 0  \n",
       "4               0            18               12                 0  "
      ]
     },
     "execution_count": 21,
     "metadata": {},
     "output_type": "execute_result"
    }
   ],
   "source": [
    "users_events = user_source.merge(game_actions.sort_values(by = ['user_id', 'date']).groupby('user_id')['date'].first(), on = 'user_id', how = 'left').rename(columns = {'date':'first_date'})\n",
    "users_events = users_events.merge(game_actions.sort_values(by = ['user_id', 'date']).groupby('user_id')['date'].last(), on = 'user_id', how = 'left').rename(columns = {'date':'end_date'})\n",
    "users_events = users_events.merge(game_actions[game_actions['event'] == 'project'].sort_values(by = ['user_id', 'date']).groupby('user_id')['date'].first(), on = 'user_id', how = 'left').rename(columns = {'date':'date_project'})\n",
    "users_events = users_events.merge(game_actions[game_actions['event'] == 'finished_stage_1'].sort_values(by = ['user_id', 'date']).groupby('user_id')['date'].first(), on = 'user_id', how = 'left').rename(columns = {'date':'date_finished_stage_1'})\n",
    "users_events['days_to_complete'] = (users_events['date_finished_stage_1'] - users_events['first_date']).dt.days + 1\n",
    "users_events['complete_stage'] = users_events['date_finished_stage_1'].notna() * 1\n",
    "users_events['days_in_game'] = (users_events['end_date'] - users_events['first_date']).dt.days + 1\n",
    "users_events = users_events.merge(game_actions[game_actions['event'] == 'building'].groupby('user_id')['event'].count(), how = 'left', on = 'user_id')\n",
    "users_events = users_events.rename({'event': 'count_buildings'}, axis = 1)\n",
    "users_events['complete_project'] = users_events['date_project'].notna() * 1\n",
    "users_events.head()"
   ]
  },
  {
   "cell_type": "markdown",
   "metadata": {},
   "source": [
    "Туда вошла следующая информация:\n",
    "- **`user_id`** - уникальный id игрока;\n",
    "- **`source`** - канал привлечения;\n",
    "- **`first_date`** - дата первого события;\n",
    "- **`end_date`** - дата последнего события;\n",
    "- **`date_project`** - дата завершения проекта;\n",
    "- **`date_finished_stage_1`** - дата завершения уровня;\n",
    "- **`complete_stage`** - флаг завершения уровня (0 - Не завершил, 1 - завершил);\n",
    "- **`days_to_complete`** - количество дней на завершение уровня;\n",
    "- **`days_in_game`** - количество дней в игре;\n",
    "- **`count_buildings`** - количество построек;\n",
    "- **`complete_project`** - флаг реализации проекта (0 - Не завершил, 1 - завершил).\n",
    "\n",
    "### Смотрю распределение игроков по количеству дней до завершения уровня."
   ]
  },
  {
   "cell_type": "code",
   "execution_count": 22,
   "metadata": {},
   "outputs": [
    {
     "data": {
      "image/png": "[encoded data removed]",
      "text/plain": [
       "<Figure size 1080x360 with 1 Axes>"
      ]
     },
     "metadata": {
      "needs_background": "light"
     },
     "output_type": "display_data"
    }
   ],
   "source": [
    "users_events.groupby('days_to_complete')['user_id'].count().plot(kind = 'bar', figsize = (15, 5))\n",
    "plt.xticks(rotation = 0)\n",
    "plt.title('Распределение игроков по количеству дней до завершения уровня')\n",
    "plt.xlabel('Количество дней до завершения уровня')\n",
    "plt.ylabel('Количество игроков')\n",
    "plt.show()"
   ]
  },
  {
   "cell_type": "markdown",
   "metadata": {},
   "source": [
    "Распределение похоже на нормальное с разбросом от 1 до 32 дей, с пиком в 12 дней.\n",
    "### Сравниваю среднее время на проходжение уровня по источникам."
   ]
  },
  {
   "cell_type": "code",
   "execution_count": 23,
   "metadata": {},
   "outputs": [
    {
     "data": {
      "text/plain": [
       "source\n",
       "yandex_direct              12.757101\n",
       "facebook_ads               12.794783\n",
       "instagram_new_adverts      12.847885\n",
       "youtube_channel_reklama    12.862813\n",
       "Name: days_to_complete, dtype: float64"
      ]
     },
     "execution_count": 23,
     "metadata": {},
     "output_type": "execute_result"
    }
   ],
   "source": [
    "users_events.query('complete_stage == 1').groupby('source')['days_to_complete'].mean().sort_values()"
   ]
  },
  {
   "cell_type": "markdown",
   "metadata": {},
   "source": [
    "По всем источникам время примерно одинаково - **12** дней.\n",
    "### Смотрю распределение игроков по количеству дней проведенных в игре."
   ]
  },
  {
   "cell_type": "code",
   "execution_count": 24,
   "metadata": {},
   "outputs": [
    {
     "data": {
      "image/png": "[encoded data removed]",
      "text/plain": [
       "<Figure size 1080x360 with 1 Axes>"
      ]
     },
     "metadata": {
      "needs_background": "light"
     },
     "output_type": "display_data"
    }
   ],
   "source": [
    "users_events.query('complete_stage == 1').groupby('days_in_game')['user_id'].count().plot(kind = 'bar', figsize = (15, 5), color = 'navy', label = 'completed')\n",
    "users_events.query('complete_stage == 0').groupby('days_in_game')['user_id'].count().plot(kind = 'bar', figsize = (15, 5), alpha = 0.5, label = 'not completed')\n",
    "plt.legend()\n",
    "plt.xticks(rotation = 0)\n",
    "plt.title('Распределение игроков по количеству дней проведенных в игре')\n",
    "plt.xlabel('Количество дней в игре')\n",
    "plt.ylabel('Количество игроков')\n",
    "plt.show()"
   ]
  },
  {
   "cell_type": "markdown",
   "metadata": {},
   "source": [
    "<div class=\"alert alert-warning\">\n",
    "<b>Комментарий ревьюера:</b>⛅️ \n",
    "\n",
    "По цветам не очень наглядная визуализация, сложно отделить стратегии друг от друга\n",
    "</div>"
   ]
  },
  {
   "cell_type": "markdown",
   "metadata": {},
   "source": [
    "Количество игроков покинувших игру растет каждый день до пика на 12 день, после чего постепенно идет на спад. Если распределение среди завершивших уровень похоже на нормальное, то среди незавершивших наблюдаются всплески. \n",
    "### Смотрю распределение игроков по количеству дней проведенных в игре с разбивкой по источникам."
   ]
  },
  {
   "cell_type": "code",
   "execution_count": 25,
   "metadata": {},
   "outputs": [
    {
     "data": {
      "image/png": "[encoded data removed]",
      "text/plain": [
       "<Figure size 1080x360 with 1 Axes>"
      ]
     },
     "metadata": {
      "needs_background": "light"
     },
     "output_type": "display_data"
    },
    {
     "data": {
      "image/png": "[encoded data removed]",
      "text/plain": [
       "<Figure size 1080x360 with 1 Axes>"
      ]
     },
     "metadata": {
      "needs_background": "light"
     },
     "output_type": "display_data"
    },
    {
     "data": {
      "image/png": "[encoded data removed]",
      "text/plain": [
       "<Figure size 1080x360 with 1 Axes>"
      ]
     },
     "metadata": {
      "needs_background": "light"
     },
     "output_type": "display_data"
    },
    {
     "data": {
      "image/png": "[encoded data removed]",
      "text/plain": [
       "<Figure size 1080x360 with 1 Axes>"
      ]
     },
     "metadata": {
      "needs_background": "light"
     },
     "output_type": "display_data"
    }
   ],
   "source": [
    "for i in user_source['source'].unique():\n",
    "    \n",
    "    (users_events[(users_events['complete_stage'] == 1) & (users_events['source'] == i)].\n",
    "     groupby('days_in_game')['user_id'].count().\n",
    "     plot(kind = 'bar', figsize = (15, 5), color = 'navy', label = 'completed'))\n",
    "    \n",
    "    (users_events[(users_events['complete_stage'] == 0) & (users_events['source'] == i)].\n",
    "     groupby('days_in_game')['user_id'].count().\n",
    "     plot(kind = 'bar', figsize = (15, 5), alpha = 0.3, label = 'not completed'))\n",
    "    \n",
    "    plt.legend()\n",
    "    plt.xticks(rotation = 0)\n",
    "    plt.title('Источник ' + i)\n",
    "    plt.xlabel('Количество дней в игре')\n",
    "    plt.ylabel('Количество игроков')\n",
    "    plt.show()"
   ]
  },
  {
   "cell_type": "markdown",
   "metadata": {},
   "source": [
    "Наблюдаются всплески. Количество игроков покинувших игру растет каждый день до пика на 10-11 день, после чего постепенно идет на спад. У **facebook_ads**, **yandex_direct** и **youtube_channel_reklama** на протяжении всего периода, больше покидают игру игроки незавершившие уровень. У **instagram_new_adverts** с 13 дня, больше покидают игру игроки завершившие уровень. "
   ]
  },
  {
   "cell_type": "markdown",
   "metadata": {},
   "source": [
    "### Смотрю, влияет ли источник перехода в игру на способ прохождения уровня.\n",
    "Так как количество игроков от источников разное, буду сравнивать доли."
   ]
  },
  {
   "cell_type": "code",
   "execution_count": 26,
   "metadata": {},
   "outputs": [
    {
     "data": {
      "text/html": [
       "<div>\n",
       "<style scoped>\n",
       "    .dataframe tbody tr th:only-of-type {\n",
       "        vertical-align: middle;\n",
       "    }\n",
       "\n",
       "    .dataframe tbody tr th {\n",
       "        vertical-align: top;\n",
       "    }\n",
       "\n",
       "    .dataframe thead th {\n",
       "        text-align: right;\n",
       "    }\n",
       "</style>\n",
       "<table border=\"1\" class=\"dataframe\">\n",
       "  <thead>\n",
       "    <tr style=\"text-align: right;\">\n",
       "      <th></th>\n",
       "      <th>source</th>\n",
       "      <th>all</th>\n",
       "      <th>not_completed</th>\n",
       "      <th>finished_stage</th>\n",
       "      <th>project</th>\n",
       "      <th>%_of_finished_stage</th>\n",
       "      <th>%_of_project</th>\n",
       "      <th>%_of_not_completed</th>\n",
       "    </tr>\n",
       "  </thead>\n",
       "  <tbody>\n",
       "    <tr>\n",
       "      <th>2</th>\n",
       "      <td>yandex_direct</td>\n",
       "      <td>4817</td>\n",
       "      <td>2775</td>\n",
       "      <td>1422</td>\n",
       "      <td>620</td>\n",
       "      <td>0.295</td>\n",
       "      <td>0.129</td>\n",
       "      <td>0.576</td>\n",
       "    </tr>\n",
       "    <tr>\n",
       "      <th>1</th>\n",
       "      <td>instagram_new_adverts</td>\n",
       "      <td>3347</td>\n",
       "      <td>1881</td>\n",
       "      <td>990</td>\n",
       "      <td>476</td>\n",
       "      <td>0.296</td>\n",
       "      <td>0.142</td>\n",
       "      <td>0.562</td>\n",
       "    </tr>\n",
       "    <tr>\n",
       "      <th>0</th>\n",
       "      <td>facebook_ads</td>\n",
       "      <td>2726</td>\n",
       "      <td>1576</td>\n",
       "      <td>759</td>\n",
       "      <td>391</td>\n",
       "      <td>0.278</td>\n",
       "      <td>0.143</td>\n",
       "      <td>0.578</td>\n",
       "    </tr>\n",
       "    <tr>\n",
       "      <th>3</th>\n",
       "      <td>youtube_channel_reklama</td>\n",
       "      <td>2686</td>\n",
       "      <td>1527</td>\n",
       "      <td>780</td>\n",
       "      <td>379</td>\n",
       "      <td>0.290</td>\n",
       "      <td>0.141</td>\n",
       "      <td>0.569</td>\n",
       "    </tr>\n",
       "  </tbody>\n",
       "</table>\n",
       "</div>"
      ],
      "text/plain": [
       "                    source   all  not_completed  finished_stage  project  \\\n",
       "2            yandex_direct  4817           2775            1422      620   \n",
       "1    instagram_new_adverts  3347           1881             990      476   \n",
       "0             facebook_ads  2726           1576             759      391   \n",
       "3  youtube_channel_reklama  2686           1527             780      379   \n",
       "\n",
       "   %_of_finished_stage  %_of_project  %_of_not_completed  \n",
       "2                0.295         0.129               0.576  \n",
       "1                0.296         0.142               0.562  \n",
       "0                0.278         0.143               0.578  \n",
       "3                0.290         0.141               0.569  "
      ]
     },
     "execution_count": 26,
     "metadata": {},
     "output_type": "execute_result"
    }
   ],
   "source": [
    "complete_stage = (users_events[users_events['user_id'].isin(project_list)].groupby('source')['user_id'].count()).reset_index().rename(columns = {'user_id':'project'})\n",
    "complete_stage = (users_events[users_events['user_id'].isin(finished_stage_list)].groupby('source')['user_id'].count().reset_index().rename(columns = {'user_id':'finished_stage'})).merge(complete_stage, on = 'source', how = 'left')\n",
    "complete_stage = (users_events[users_events['user_id'].isin(building_list)].groupby('source')['user_id'].count().reset_index().rename(columns = {'user_id':'not_completed'})).merge(complete_stage, on = 'source', how = 'left')\n",
    "complete_stage = (users_events.groupby('source')['user_id'].count().reset_index().rename(columns = {'user_id':'all'})).merge(complete_stage, on = 'source', how = 'left')\n",
    "complete_stage['%_of_finished_stage'] = round(complete_stage['finished_stage'] / complete_stage['all'], 3)\n",
    "complete_stage['%_of_project'] = round(complete_stage['project'] / complete_stage['all'], 3)\n",
    "complete_stage['%_of_not_completed'] = round(complete_stage['not_completed'] / complete_stage['all'], 3)\n",
    "complete_stage.sort_values(by = 'all', ascending = False)"
   ]
  },
  {
   "cell_type": "markdown",
   "metadata": {},
   "source": [
    "Как видно, доли практически равны. Можно отметить, что в **facebook_ads** доля завершивших проект победой чуть ниже, чем в остальных источниках - **27.8%**, а доли реализовавших проект и не завершивших уровень выше - **14.3%** и **57.8%** соответственно. А также в **yandex_direct** доля реализовавших проект значительно ниже, чем в остальных источниках - **12.9%**, а доля не завершивших уровень чуть выше - **57.6%**."
   ]
  },
  {
   "cell_type": "markdown",
   "metadata": {},
   "source": [
    "## Шаг 3. Проверяю статистические гипотезы.\n",
    "### Гипотеза 1. Время завершения уровня различается в зависимости от способа прохождения.\n",
    "**H0**: Среднее время завершения уровня через проект и через победу равны.\n",
    "\n",
    "**H1**: Среднее время завершения уровня через проект больше среднего времени завершение уровня через победу.\n",
    "\n",
    "Так как дисперсии заметно отличаются, при проведении **t-теста** применяю параметр **equal_var = False**. Применяю односторонний тест с уровнем значимости **alpha = 0.05**."
   ]
  },
  {
   "cell_type": "code",
   "execution_count": 27,
   "metadata": {},
   "outputs": [
    {
     "name": "stdout",
     "output_type": "stream",
     "text": [
      "Дисперсия времени на завершение уровня через проект:  12.402\n",
      "Дисперсия времени на завершение уровня через победу:  16.846\n",
      "\n",
      "Среднее время на завершение уровня через проект:  14.397\n",
      "Среднее время на завершение уровня через победу:  12.058\n",
      "\n",
      "p-значение:  3.285233377821818e-105\n",
      "Отвергаю нулевую гипотезу, среднее время на завершение уровня через проект больше.\n"
     ]
    }
   ],
   "source": [
    "print('Дисперсия времени на завершение уровня через проект: ', (round(np.var(users_events[users_events['user_id'].isin(project_list)]['days_to_complete']), 3)))\n",
    "print('Дисперсия времени на завершение уровня через победу: ', (round(np.var(users_events[users_events['user_id'].isin(finished_stage_list)]['days_to_complete']), 3)))\n",
    "print()\n",
    "print('Среднее время на завершение уровня через проект: ', (round(users_events[users_events['user_id'].isin(project_list)]['days_to_complete'].mean(), 3)))\n",
    "print('Среднее время на завершение уровня через победу: ', (round(users_events[users_events['user_id'].isin(finished_stage_list)]['days_to_complete'].mean(), 3)))\n",
    "print()\n",
    "\n",
    "results = st.ttest_ind(\n",
    "    users_events[users_events['user_id'].isin(project_list)]['days_to_complete'],\n",
    "    users_events[users_events['user_id'].isin(finished_stage_list)]['days_to_complete'], \n",
    "    equal_var = False\n",
    ")\n",
    "print('p-значение: ', results.pvalue / 2)\n",
    "alpha = .05\n",
    "if (results.pvalue / 2 < alpha):\n",
    "    print('Отвергаю нулевую гипотезу, среднее время на завершение уровня через проект больше.')\n",
    "else:\n",
    "    print('Не получилось отвергнуть нулевую гипотезу.')"
   ]
  },
  {
   "cell_type": "markdown",
   "metadata": {},
   "source": [
    "Отвергаю нулевую гипотезу, среднее время на завершение уровня через проект больше."
   ]
  },
  {
   "cell_type": "markdown",
   "metadata": {},
   "source": [
    "### Гипотеза 2. Способ прохождения уровня различается в зависимости от источника перехода в игру.\n",
    "Для проверки гипотезы, обозначу задачу проще - различается ли по источникам средние завершающих уровень через проект."
   ]
  },
  {
   "cell_type": "code",
   "execution_count": 28,
   "metadata": {},
   "outputs": [
    {
     "data": {
      "text/plain": [
       "source\n",
       "yandex_direct              0.303624\n",
       "instagram_new_adverts      0.324693\n",
       "youtube_channel_reklama    0.327006\n",
       "facebook_ads               0.340000\n",
       "Name: complete_project, dtype: float64"
      ]
     },
     "execution_count": 28,
     "metadata": {},
     "output_type": "execute_result"
    }
   ],
   "source": [
    "users_events[users_events['complete_stage'] == 1].groupby('source')['complete_project'].mean().sort_values()"
   ]
  },
  {
   "cell_type": "markdown",
   "metadata": {},
   "source": [
    "Для попарного сранения между собой 3 групп, пишу функцию **t_testing**, устанавливаю уровень значимости **alpha = 0.05 / 3**."
   ]
  },
  {
   "cell_type": "code",
   "execution_count": 29,
   "metadata": {},
   "outputs": [],
   "source": [
    "def t_testing(dt, argument, values, alpha):\n",
    "    print('H0: Средняя доля завершающих уровень через проект по источникам {} и {} не различается.'.format(values[0], values[1]))\n",
    "    print('H1: Средняя доля завершающих уровень через проект в источнике {} больше, чем в {}.'.format(values[0], values[1]))\n",
    "    print('')\n",
    "    results = st.ttest_1samp(\n",
    "        dt[(dt['complete_stage'] == 1) & (dt['complete_project'] == 1) & (dt[argument] == values[0])]['days_to_complete'],\n",
    "        dt[(dt['complete_stage'] == 1) & (dt['complete_project'] == 0) & (dt[argument] == values[1])]['days_to_complete'].mean()\n",
    "    )\n",
    "    print('p-значение: ', results.pvalue)\n",
    "    \n",
    "    if (results.pvalue < alpha) and (dt[(dt['complete_stage'] == 1) \n",
    "        & (dt['complete_project'] == 1) \n",
    "        & (dt[argument] == values[0])]['days_to_complete'].mean() > dt[(dt['complete_stage'] == 1) \n",
    "        & (dt['complete_project'] == 0) \n",
    "        & (dt[argument] == values[1])]['days_to_complete'].mean()):\n",
    "        \n",
    "        print('Отвергаю нулевую гипотезу.')  \n",
    "    else:\n",
    "        print('Не получилось отвергнуть нулевую гипотезу.')"
   ]
  },
  {
   "cell_type": "code",
   "execution_count": 30,
   "metadata": {},
   "outputs": [
    {
     "name": "stdout",
     "output_type": "stream",
     "text": [
      "H0: Средняя доля завершающих уровень через проект по источникам facebook_ads и yandex_direct не различается.\n",
      "H1: Средняя доля завершающих уровень через проект в источнике facebook_ads больше, чем в yandex_direct.\n",
      "\n",
      "p-значение:  6.314144284683304e-31\n",
      "Отвергаю нулевую гипотезу.\n"
     ]
    }
   ],
   "source": [
    "t_testing(users_events, 'source', ['facebook_ads', 'yandex_direct'], .05 / 3)"
   ]
  },
  {
   "cell_type": "code",
   "execution_count": 31,
   "metadata": {},
   "outputs": [
    {
     "name": "stdout",
     "output_type": "stream",
     "text": [
      "H0: Средняя доля завершающих уровень через проект по источникам youtube_channel_reklama и yandex_direct не различается.\n",
      "H1: Средняя доля завершающих уровень через проект в источнике youtube_channel_reklama больше, чем в yandex_direct.\n",
      "\n",
      "p-значение:  1.0798271389206527e-35\n",
      "Отвергаю нулевую гипотезу.\n"
     ]
    }
   ],
   "source": [
    "t_testing(users_events, 'source', ['youtube_channel_reklama', 'yandex_direct'], .05 / 3)"
   ]
  },
  {
   "cell_type": "code",
   "execution_count": 32,
   "metadata": {},
   "outputs": [
    {
     "name": "stdout",
     "output_type": "stream",
     "text": [
      "H0: Средняя доля завершающих уровень через проект по источникам instagram_new_adverts и yandex_direct не различается.\n",
      "H1: Средняя доля завершающих уровень через проект в источнике instagram_new_adverts больше, чем в yandex_direct.\n",
      "\n",
      "p-значение:  4.95204431041357e-43\n",
      "Отвергаю нулевую гипотезу.\n"
     ]
    }
   ],
   "source": [
    "t_testing(users_events, 'source', ['instagram_new_adverts', 'yandex_direct'], .05 / 3)"
   ]
  },
  {
   "cell_type": "markdown",
   "metadata": {},
   "source": [
    "Таким образом, средние доли завершающих уровень через проект различаются для всех источников, что не противоречит утверждению, что способ прохождения уровня различается в зависимости от источника перехода в игру."
   ]
  },
  {
   "cell_type": "markdown",
   "metadata": {},
   "source": [
    "## Общий вывод."
   ]
  },
  {
   "cell_type": "markdown",
   "metadata": {},
   "source": [
    "В трех имеющихся датасетах необоснованно пропущенных значений нет. Был всего 1 явный дубликат. Типы данных соответствуют содержимому столбцов. Данные изначально очень хорошего качества.\n",
    "***\n",
    "В ходе исследовательского анализа удалось выяснить, что:\n",
    "\n",
    "Датасет от **4 мая 2020** до **5 июня 2020**, то есть данные за **33** дня.\n",
    "\n",
    "Всего в игре произошло **135640** событий. Максимальное количество событий пройденных игроком - **22**. Самое популярное событие - **building** (завершение строительства объекта), оно произошло **127956** раз. Это\n",
    "\n",
    "- **spaceport (космопорт)** - **59325** событий (**46,4%**). Наблюдаются на протяжении всего периода, пик приходится на 11 мая;\n",
    "- **assembly_shop (сборочный цех)** - **54494** события (**42,6%**). Можно предположить, что это первый объект, который необходимо построить в игре. Такой тип объекта наблюдается только в первую неделю с начала игры, и каждый день количество таких объектов примерно одинаково;\n",
    "- **research_center (исследовательский центр)** - **14137** событий (**11%**). Начинает встречаться на третий день с начала игры. Можно предположить, что к его строительству можно приступать только после строительства первых двух типов. Вероятно оно не является обязательным.\n",
    "***\n",
    "В игре **13576** уникальных игроков. Это\n",
    "\n",
    "- **1866** игроков (**13.7%**), реализовавших проект и победивших врага. Суммарное значение построенных ими объектов - **23601**, среднее - **12.6**, медианное - **12**, пик завершивших уровень 15 мая;\n",
    "- **3951** игрок (**29.1%**), победивший врага. Суммарное значение построенных ими объектов - **37185**, среднее - **9.4**, медианное - **10**, пик завершивших уровень 16 мая;\n",
    "- **7759** игроков (**29.1%**), не завершивших прохождение первого уровня. Суммарное значение построенных ими объектов - **67170**, среднее - **8.7**, медианное - **8**. \n",
    "\n",
    "То есть стратегию завершения уровня победой над врагом использует в два раза больше игроков.\n",
    "***\n",
    "Есть 4 канала привлечения:\n",
    "\n",
    "- **yandex_direct** - **4817** игроков (**35.5%**), из них **1422** (**29.5%**) победили врага, **620** (**12.9%**) реализовали проект, а **2775** (**57.6%**) не завершили уровень. Количество построенных ими объектов - **45032**;\n",
    "- **instagram_new_adverts** - **3347** игроков (**24.7%**), из них **990** (**29.6%**) победили врага, **476** (**14.2%**) реализовали проект, а **1881** (**56.2%**) не завершили уровень. Количество построенных ими объектов - **31815**;\n",
    "- **facebook_ads** - **2726** игроков (**20.1%**), из них **759** (**27.8%**) победили врага, **391** (**14.3%**) реализовали проект, а **1576** (**57.8%**) не завершили уровень. Количество построенных ими объектов - **26131**;\n",
    "- **youtube_channel_reklama** - **2686** игроков (**19.8%**), из них **780** (**29%**) победили врага, **379** (**14.1%**) реализовали проект, а **1527** (**56.9%**) не завершили уровень. Количество построенных ими объектов - **24978**.\n",
    "\n",
    "Можно отметить, что в **facebook_ads** доля завершивших проект победой чуть ниже, чем в остальных источниках, а доли реализовавших проект и не завершивших уровень выше. А также в **yandex_direct** доля реализовавших проект значительно ниже, чем в остальных источниках, а доля не завершивших уровень чуть выше. \n",
    "\n",
    "Можно сказать, что в среднем количество объектов, построенных одним игроком, что в общем, что по каналам привлечения примерно одиниково - **9**. Но из **facebook_ads** результат чуть выше остальных. В среднем как по всем источникам, так и в общем, время в игре примерно одинаково - 12 дней. В общем, количество игроков покинувших игру растет каждый день до пика на 12 день, после чего постепенно идет на спад. Если распределение среди завершивших уровень похоже на нормальное, то среди незавершивших наблюдаются всплески. По каналам наблюдаются всплески. Количество игроков покинувших игру растет каждый день до пика на 10-11 день, после чего постепенно идет на спад. У **facebook_ads**, **yandex_direct** и **youtube_channel_reklama** на протяжении всего периода, больше покидают игру игроки незавершившие уровень. У **instagram_new_adverts** с 13 дня, больше покидают игру игроки завершившие уровень.\n",
    "\n",
    "Органических пользователей нет вообще. Самым эффективным каналом привлечения является **yandex_direct**.\n",
    "***\n",
    "Всего на привлечение потрачено - **7603.58**. Средняя стоимость привлечения одного покупателя -**0.573**.\n",
    "\n",
    "- **youtube_channel_reklama** - **1068.12** (**14%**). Средняя стоимость привлечения одного покупателя - **0.398**;\n",
    "- **facebook_ads** - **2140.90** (**28%**). Средняя стоимость привлечения одного покупателя - **0.785**;\n",
    "- **instagram_new_adverts** - **2161.44** (**28%**). Средняя стоимость привлечения одного покупателя - **0.646**;\n",
    "- **yandex_direct** - **2233.11** (**29%**). Средняя стоимость привлечения одного покупателя - **0.464**.\n",
    "\n",
    "Стоимость кликов колеблется от **23** до **969**, в среднем **272**, а по медиане **160**. Наибольшие затраты по всем источникам наблюдаются перед стартом игры, после чего, каждый следующий день, происходит постепенное снижение затрат. Затраты на **facebook_ads**, **instagram_new_adverts** и **yandex_direct** практически идентичны, затраты на **youtube_channel_reklama** значительно ниже.\n",
    "***\n",
    "Затем я проверил две статистические гипотезы, в ходе чего выяснил что:\n",
    "- Среднее время завершения уровня через проект и через победу не равны, среднее время на завершение уровня через проект больше.\n",
    "- Способ прохождения уровня различается в зависимости от источника перехода в игру.\n",
    "***\n",
    "### Рекомендации.\n",
    "Следует перераспределить рекламный бюджет от слишком дорогого **facebook_ads** к самому эффективному **yandex_direct** и самому дешевому **youtube_channel_reklama**. \n",
    "\n",
    "Также следует поработать над удержанием игроков в игре. Возможно разнообразить геймплей. \n",
    "***\n",
    "[Дашборд](https://public.tableau.com/app/profile/evgeny.babaevsky/viz/space_brothers_16638757878190/Dashboard1), [Презентация](https://disk.yandex.ru/i/ybGHlZU06ka4RA)"
   ]
  }
 ],
 "metadata": {
  "ExecuteTimeLog": [
   {
    "duration": 399,
    "start_time": "2022-09-13T20:30:09.108Z"
   },
   {
    "duration": 4,
    "start_time": "2022-09-13T20:30:16.231Z"
   },
   {
    "duration": 111,
    "start_time": "2022-09-13T20:30:26.959Z"
   },
   {
    "duration": 750,
    "start_time": "2022-09-13T20:32:27.538Z"
   },
   {
    "duration": 3,
    "start_time": "2022-09-13T20:32:58.383Z"
   },
   {
    "duration": 330,
    "start_time": "2022-09-13T20:33:04.838Z"
   },
   {
    "duration": 32,
    "start_time": "2022-09-13T20:33:31.495Z"
   },
   {
    "duration": 61,
    "start_time": "2022-09-13T20:33:41.654Z"
   },
   {
    "duration": 174,
    "start_time": "2022-09-13T20:34:01.902Z"
   },
   {
    "duration": 38,
    "start_time": "2022-09-13T20:34:16.094Z"
   },
   {
    "duration": 11,
    "start_time": "2022-09-13T20:34:33.822Z"
   },
   {
    "duration": 29,
    "start_time": "2022-09-13T20:34:50.686Z"
   },
   {
    "duration": 5,
    "start_time": "2022-09-13T20:35:25.125Z"
   },
   {
    "duration": 4,
    "start_time": "2022-09-13T20:35:37.589Z"
   },
   {
    "duration": 449,
    "start_time": "2022-09-15T19:30:19.124Z"
   },
   {
    "duration": 1910,
    "start_time": "2022-09-15T19:30:19.575Z"
   },
   {
    "duration": 4,
    "start_time": "2022-09-15T19:30:21.486Z"
   },
   {
    "duration": 439,
    "start_time": "2022-09-15T19:30:21.491Z"
   },
   {
    "duration": 38,
    "start_time": "2022-09-15T19:30:21.934Z"
   },
   {
    "duration": 220,
    "start_time": "2022-09-15T19:30:21.974Z"
   },
   {
    "duration": 61,
    "start_time": "2022-09-15T19:30:22.206Z"
   },
   {
    "duration": 10,
    "start_time": "2022-09-15T19:30:22.268Z"
   },
   {
    "duration": 72,
    "start_time": "2022-09-15T19:30:22.279Z"
   },
   {
    "duration": 3,
    "start_time": "2022-09-15T19:30:22.353Z"
   },
   {
    "duration": 17,
    "start_time": "2022-09-15T19:30:22.358Z"
   },
   {
    "duration": 56,
    "start_time": "2022-09-15T19:30:22.377Z"
   },
   {
    "duration": 1410,
    "start_time": "2022-09-15T19:30:22.435Z"
   },
   {
    "duration": 133,
    "start_time": "2022-09-15T19:30:23.848Z"
   },
   {
    "duration": 12,
    "start_time": "2022-09-15T20:30:52.366Z"
   },
   {
    "duration": 445,
    "start_time": "2022-09-16T18:13:10.572Z"
   },
   {
    "duration": 898,
    "start_time": "2022-09-16T18:13:11.018Z"
   },
   {
    "duration": 5,
    "start_time": "2022-09-16T18:13:11.918Z"
   },
   {
    "duration": 339,
    "start_time": "2022-09-16T18:13:11.925Z"
   },
   {
    "duration": 50,
    "start_time": "2022-09-16T18:13:12.266Z"
   },
   {
    "duration": 188,
    "start_time": "2022-09-16T18:13:12.317Z"
   },
   {
    "duration": 38,
    "start_time": "2022-09-16T18:13:12.507Z"
   },
   {
    "duration": 11,
    "start_time": "2022-09-16T18:13:12.547Z"
   },
   {
    "duration": 55,
    "start_time": "2022-09-16T18:13:12.559Z"
   },
   {
    "duration": 4,
    "start_time": "2022-09-16T18:13:12.616Z"
   },
   {
    "duration": 7,
    "start_time": "2022-09-16T18:13:12.621Z"
   },
   {
    "duration": 15,
    "start_time": "2022-09-16T18:13:12.629Z"
   },
   {
    "duration": 1109,
    "start_time": "2022-09-16T18:13:12.645Z"
   },
   {
    "duration": 107,
    "start_time": "2022-09-16T18:13:13.755Z"
   },
   {
    "duration": 11,
    "start_time": "2022-09-16T18:13:13.864Z"
   },
   {
    "duration": 133,
    "start_time": "2022-09-16T18:13:13.876Z"
   },
   {
    "duration": 689,
    "start_time": "2022-09-16T18:13:14.011Z"
   },
   {
    "duration": 542,
    "start_time": "2022-09-16T18:13:42.274Z"
   },
   {
    "duration": 902,
    "start_time": "2022-09-16T18:13:49.875Z"
   },
   {
    "duration": 857,
    "start_time": "2022-09-16T18:54:39.117Z"
   },
   {
    "duration": 39,
    "start_time": "2022-09-16T18:54:45.117Z"
   },
   {
    "duration": 133,
    "start_time": "2022-09-16T18:55:23.268Z"
   },
   {
    "duration": 12,
    "start_time": "2022-09-16T18:55:35.469Z"
   },
   {
    "duration": 19,
    "start_time": "2022-09-16T18:55:43.803Z"
   },
   {
    "duration": 18,
    "start_time": "2022-09-16T18:57:17.019Z"
   },
   {
    "duration": 16,
    "start_time": "2022-09-16T19:01:55.731Z"
   },
   {
    "duration": 15,
    "start_time": "2022-09-16T19:23:53.704Z"
   },
   {
    "duration": 16,
    "start_time": "2022-09-16T19:28:05.607Z"
   },
   {
    "duration": 16,
    "start_time": "2022-09-16T19:28:38.343Z"
   },
   {
    "duration": 1132,
    "start_time": "2022-09-16T19:28:46.673Z"
   },
   {
    "duration": 249,
    "start_time": "2022-09-16T19:28:47.806Z"
   },
   {
    "duration": 4,
    "start_time": "2022-09-16T19:28:48.056Z"
   },
   {
    "duration": 358,
    "start_time": "2022-09-16T19:28:48.062Z"
   },
   {
    "duration": 36,
    "start_time": "2022-09-16T19:28:48.421Z"
   },
   {
    "duration": 194,
    "start_time": "2022-09-16T19:28:48.459Z"
   },
   {
    "duration": 46,
    "start_time": "2022-09-16T19:28:48.654Z"
   },
   {
    "duration": 10,
    "start_time": "2022-09-16T19:28:48.702Z"
   },
   {
    "duration": 30,
    "start_time": "2022-09-16T19:28:48.714Z"
   },
   {
    "duration": 3,
    "start_time": "2022-09-16T19:28:48.746Z"
   },
   {
    "duration": 8,
    "start_time": "2022-09-16T19:28:48.751Z"
   },
   {
    "duration": 6,
    "start_time": "2022-09-16T19:28:48.788Z"
   },
   {
    "duration": 1096,
    "start_time": "2022-09-16T19:28:48.795Z"
   },
   {
    "duration": 110,
    "start_time": "2022-09-16T19:28:49.893Z"
   },
   {
    "duration": 12,
    "start_time": "2022-09-16T19:28:50.005Z"
   },
   {
    "duration": 147,
    "start_time": "2022-09-16T19:28:50.018Z"
   },
   {
    "duration": 25,
    "start_time": "2022-09-16T19:28:50.167Z"
   },
   {
    "duration": 911,
    "start_time": "2022-09-16T19:28:50.194Z"
   },
   {
    "duration": 18,
    "start_time": "2022-09-16T19:28:51.106Z"
   },
   {
    "duration": 52,
    "start_time": "2022-09-18T08:57:45.532Z"
   },
   {
    "duration": 1295,
    "start_time": "2022-09-18T08:58:24.135Z"
   },
   {
    "duration": 872,
    "start_time": "2022-09-18T08:58:25.432Z"
   },
   {
    "duration": 4,
    "start_time": "2022-09-18T08:58:26.308Z"
   },
   {
    "duration": 358,
    "start_time": "2022-09-18T08:58:26.313Z"
   },
   {
    "duration": 52,
    "start_time": "2022-09-18T08:58:26.673Z"
   },
   {
    "duration": 136,
    "start_time": "2022-09-18T08:58:26.728Z"
   },
   {
    "duration": 51,
    "start_time": "2022-09-18T08:58:26.866Z"
   },
   {
    "duration": 10,
    "start_time": "2022-09-18T08:58:26.919Z"
   },
   {
    "duration": 34,
    "start_time": "2022-09-18T08:58:26.931Z"
   },
   {
    "duration": 4,
    "start_time": "2022-09-18T08:58:26.994Z"
   },
   {
    "duration": 11,
    "start_time": "2022-09-18T08:58:27.000Z"
   },
   {
    "duration": 11,
    "start_time": "2022-09-18T08:58:27.012Z"
   },
   {
    "duration": 1052,
    "start_time": "2022-09-18T08:58:27.024Z"
   },
   {
    "duration": 118,
    "start_time": "2022-09-18T08:58:28.078Z"
   },
   {
    "duration": 12,
    "start_time": "2022-09-18T08:58:28.197Z"
   },
   {
    "duration": 105,
    "start_time": "2022-09-18T08:58:28.211Z"
   },
   {
    "duration": 16,
    "start_time": "2022-09-18T08:58:28.318Z"
   },
   {
    "duration": 945,
    "start_time": "2022-09-18T08:58:28.336Z"
   },
   {
    "duration": 18,
    "start_time": "2022-09-18T08:58:29.283Z"
   },
   {
    "duration": 1302,
    "start_time": "2022-09-19T07:23:10.327Z"
   },
   {
    "duration": 626,
    "start_time": "2022-09-19T07:23:11.631Z"
   },
   {
    "duration": 3,
    "start_time": "2022-09-19T07:23:12.259Z"
   },
   {
    "duration": 273,
    "start_time": "2022-09-19T07:23:12.264Z"
   },
   {
    "duration": 29,
    "start_time": "2022-09-19T07:23:12.539Z"
   },
   {
    "duration": 119,
    "start_time": "2022-09-19T07:23:12.569Z"
   },
   {
    "duration": 44,
    "start_time": "2022-09-19T07:23:12.690Z"
   },
   {
    "duration": 10,
    "start_time": "2022-09-19T07:23:12.736Z"
   },
   {
    "duration": 61,
    "start_time": "2022-09-19T07:23:12.748Z"
   },
   {
    "duration": 5,
    "start_time": "2022-09-19T07:23:12.811Z"
   },
   {
    "duration": 9,
    "start_time": "2022-09-19T07:23:12.818Z"
   },
   {
    "duration": 11,
    "start_time": "2022-09-19T07:23:12.829Z"
   },
   {
    "duration": 272,
    "start_time": "2022-09-19T07:23:12.841Z"
   },
   {
    "duration": 0,
    "start_time": "2022-09-19T07:23:13.114Z"
   },
   {
    "duration": 0,
    "start_time": "2022-09-19T07:23:13.115Z"
   },
   {
    "duration": 0,
    "start_time": "2022-09-19T07:23:13.117Z"
   },
   {
    "duration": 0,
    "start_time": "2022-09-19T07:23:13.118Z"
   },
   {
    "duration": 0,
    "start_time": "2022-09-19T07:23:13.119Z"
   },
   {
    "duration": 0,
    "start_time": "2022-09-19T07:23:13.120Z"
   },
   {
    "duration": 0,
    "start_time": "2022-09-19T07:23:13.121Z"
   },
   {
    "duration": 0,
    "start_time": "2022-09-19T07:23:13.122Z"
   },
   {
    "duration": 0,
    "start_time": "2022-09-19T07:23:13.122Z"
   },
   {
    "duration": 158,
    "start_time": "2022-09-19T07:24:22.298Z"
   },
   {
    "duration": 146,
    "start_time": "2022-09-19T07:25:22.330Z"
   },
   {
    "duration": 23,
    "start_time": "2022-09-19T07:25:48.219Z"
   },
   {
    "duration": 133,
    "start_time": "2022-09-19T07:25:49.868Z"
   },
   {
    "duration": 964,
    "start_time": "2022-09-19T07:25:50.517Z"
   },
   {
    "duration": 100,
    "start_time": "2022-09-19T07:25:51.482Z"
   },
   {
    "duration": 12,
    "start_time": "2022-09-19T07:25:51.913Z"
   },
   {
    "duration": 86,
    "start_time": "2022-09-19T07:25:52.571Z"
   },
   {
    "duration": 13,
    "start_time": "2022-09-19T07:25:53.212Z"
   },
   {
    "duration": 900,
    "start_time": "2022-09-19T07:25:53.868Z"
   },
   {
    "duration": 17,
    "start_time": "2022-09-19T07:25:54.770Z"
   },
   {
    "duration": 141,
    "start_time": "2022-09-19T07:26:19.572Z"
   },
   {
    "duration": 1124,
    "start_time": "2022-09-19T07:26:25.577Z"
   },
   {
    "duration": 240,
    "start_time": "2022-09-19T07:26:26.703Z"
   },
   {
    "duration": 4,
    "start_time": "2022-09-19T07:26:26.945Z"
   },
   {
    "duration": 284,
    "start_time": "2022-09-19T07:26:26.951Z"
   },
   {
    "duration": 29,
    "start_time": "2022-09-19T07:26:27.237Z"
   },
   {
    "duration": 145,
    "start_time": "2022-09-19T07:26:27.268Z"
   },
   {
    "duration": 38,
    "start_time": "2022-09-19T07:26:27.415Z"
   },
   {
    "duration": 11,
    "start_time": "2022-09-19T07:26:27.454Z"
   },
   {
    "duration": 59,
    "start_time": "2022-09-19T07:26:27.467Z"
   },
   {
    "duration": 3,
    "start_time": "2022-09-19T07:26:27.529Z"
   },
   {
    "duration": 23,
    "start_time": "2022-09-19T07:26:27.534Z"
   },
   {
    "duration": 21,
    "start_time": "2022-09-19T07:26:27.559Z"
   },
   {
    "duration": 938,
    "start_time": "2022-09-19T07:26:27.582Z"
   },
   {
    "duration": 18,
    "start_time": "2022-09-19T07:26:28.522Z"
   },
   {
    "duration": 445,
    "start_time": "2022-09-19T07:26:28.541Z"
   },
   {
    "duration": 1001,
    "start_time": "2022-09-19T07:26:28.988Z"
   },
   {
    "duration": 104,
    "start_time": "2022-09-19T07:26:29.991Z"
   },
   {
    "duration": 20,
    "start_time": "2022-09-19T07:26:30.097Z"
   },
   {
    "duration": 137,
    "start_time": "2022-09-19T07:26:30.119Z"
   },
   {
    "duration": 13,
    "start_time": "2022-09-19T07:26:30.257Z"
   },
   {
    "duration": 908,
    "start_time": "2022-09-19T07:26:30.272Z"
   },
   {
    "duration": 18,
    "start_time": "2022-09-19T07:26:31.182Z"
   },
   {
    "duration": 55,
    "start_time": "2022-09-19T20:57:06.105Z"
   },
   {
    "duration": 1314,
    "start_time": "2022-09-19T20:58:03.326Z"
   },
   {
    "duration": 604,
    "start_time": "2022-09-19T20:58:04.642Z"
   },
   {
    "duration": 5,
    "start_time": "2022-09-19T20:58:05.247Z"
   },
   {
    "duration": 278,
    "start_time": "2022-09-19T20:58:05.253Z"
   },
   {
    "duration": 28,
    "start_time": "2022-09-19T20:58:05.532Z"
   },
   {
    "duration": 142,
    "start_time": "2022-09-19T20:58:05.561Z"
   },
   {
    "duration": 35,
    "start_time": "2022-09-19T20:58:05.704Z"
   },
   {
    "duration": 9,
    "start_time": "2022-09-19T20:58:05.740Z"
   },
   {
    "duration": 33,
    "start_time": "2022-09-19T20:58:05.750Z"
   },
   {
    "duration": 3,
    "start_time": "2022-09-19T20:58:05.810Z"
   },
   {
    "duration": 12,
    "start_time": "2022-09-19T20:58:05.815Z"
   },
   {
    "duration": 15,
    "start_time": "2022-09-19T20:58:05.828Z"
   },
   {
    "duration": 937,
    "start_time": "2022-09-19T20:58:05.844Z"
   },
   {
    "duration": 28,
    "start_time": "2022-09-19T20:58:06.784Z"
   },
   {
    "duration": 443,
    "start_time": "2022-09-19T20:58:06.815Z"
   },
   {
    "duration": 939,
    "start_time": "2022-09-19T20:58:07.260Z"
   },
   {
    "duration": 100,
    "start_time": "2022-09-19T20:58:08.201Z"
   },
   {
    "duration": 10,
    "start_time": "2022-09-19T20:58:08.308Z"
   },
   {
    "duration": 147,
    "start_time": "2022-09-19T20:58:08.320Z"
   },
   {
    "duration": 14,
    "start_time": "2022-09-19T20:58:08.468Z"
   },
   {
    "duration": 917,
    "start_time": "2022-09-19T20:58:08.483Z"
   },
   {
    "duration": 15,
    "start_time": "2022-09-19T20:58:09.402Z"
   },
   {
    "duration": 101,
    "start_time": "2022-09-19T20:58:09.418Z"
   },
   {
    "duration": 115,
    "start_time": "2022-09-19T20:58:09.520Z"
   },
   {
    "duration": 0,
    "start_time": "2022-09-19T20:58:09.636Z"
   },
   {
    "duration": 0,
    "start_time": "2022-09-19T20:58:09.637Z"
   },
   {
    "duration": 1216,
    "start_time": "2022-09-20T17:07:02.562Z"
   },
   {
    "duration": 912,
    "start_time": "2022-09-20T17:07:03.780Z"
   },
   {
    "duration": 4,
    "start_time": "2022-09-20T17:07:04.694Z"
   },
   {
    "duration": 283,
    "start_time": "2022-09-20T17:07:04.701Z"
   },
   {
    "duration": 48,
    "start_time": "2022-09-20T17:07:04.985Z"
   },
   {
    "duration": 135,
    "start_time": "2022-09-20T17:07:05.035Z"
   },
   {
    "duration": 34,
    "start_time": "2022-09-20T17:07:05.172Z"
   },
   {
    "duration": 8,
    "start_time": "2022-09-20T17:07:05.221Z"
   },
   {
    "duration": 29,
    "start_time": "2022-09-20T17:07:05.231Z"
   },
   {
    "duration": 4,
    "start_time": "2022-09-20T17:07:05.262Z"
   },
   {
    "duration": 6,
    "start_time": "2022-09-20T17:07:05.267Z"
   },
   {
    "duration": 10,
    "start_time": "2022-09-20T17:07:05.275Z"
   },
   {
    "duration": 991,
    "start_time": "2022-09-20T17:07:05.286Z"
   },
   {
    "duration": 17,
    "start_time": "2022-09-20T17:07:06.278Z"
   },
   {
    "duration": 440,
    "start_time": "2022-09-20T17:07:06.296Z"
   },
   {
    "duration": 973,
    "start_time": "2022-09-20T17:07:06.737Z"
   },
   {
    "duration": 93,
    "start_time": "2022-09-20T17:07:07.711Z"
   },
   {
    "duration": 20,
    "start_time": "2022-09-20T17:07:07.808Z"
   },
   {
    "duration": 112,
    "start_time": "2022-09-20T17:07:07.829Z"
   },
   {
    "duration": 13,
    "start_time": "2022-09-20T17:07:07.943Z"
   },
   {
    "duration": 914,
    "start_time": "2022-09-20T17:07:07.958Z"
   },
   {
    "duration": 16,
    "start_time": "2022-09-20T17:07:08.874Z"
   },
   {
    "duration": 92,
    "start_time": "2022-09-20T17:07:08.892Z"
   },
   {
    "duration": 99,
    "start_time": "2022-09-20T17:07:08.986Z"
   },
   {
    "duration": 0,
    "start_time": "2022-09-20T17:07:09.087Z"
   },
   {
    "duration": 0,
    "start_time": "2022-09-20T17:07:09.088Z"
   },
   {
    "duration": 1040,
    "start_time": "2022-09-20T18:50:37.742Z"
   },
   {
    "duration": 265,
    "start_time": "2022-09-20T18:50:38.783Z"
   },
   {
    "duration": 3,
    "start_time": "2022-09-20T18:50:39.050Z"
   },
   {
    "duration": 260,
    "start_time": "2022-09-20T18:50:39.055Z"
   },
   {
    "duration": 35,
    "start_time": "2022-09-20T18:50:39.326Z"
   },
   {
    "duration": 140,
    "start_time": "2022-09-20T18:50:39.363Z"
   },
   {
    "duration": 48,
    "start_time": "2022-09-20T18:50:39.504Z"
   },
   {
    "duration": 8,
    "start_time": "2022-09-20T18:50:39.554Z"
   },
   {
    "duration": 28,
    "start_time": "2022-09-20T18:50:39.563Z"
   },
   {
    "duration": 2,
    "start_time": "2022-09-20T18:50:39.593Z"
   },
   {
    "duration": 37,
    "start_time": "2022-09-20T18:50:39.597Z"
   },
   {
    "duration": 8,
    "start_time": "2022-09-20T18:50:39.636Z"
   },
   {
    "duration": 922,
    "start_time": "2022-09-20T18:50:39.645Z"
   },
   {
    "duration": 15,
    "start_time": "2022-09-20T18:50:40.569Z"
   },
   {
    "duration": 455,
    "start_time": "2022-09-20T18:50:40.586Z"
   },
   {
    "duration": 1125,
    "start_time": "2022-09-20T18:50:41.043Z"
   },
   {
    "duration": 104,
    "start_time": "2022-09-20T18:50:42.170Z"
   },
   {
    "duration": 11,
    "start_time": "2022-09-20T18:50:42.275Z"
   },
   {
    "duration": 124,
    "start_time": "2022-09-20T18:50:42.287Z"
   },
   {
    "duration": 26,
    "start_time": "2022-09-20T18:50:42.412Z"
   },
   {
    "duration": 904,
    "start_time": "2022-09-20T18:50:42.440Z"
   },
   {
    "duration": 20,
    "start_time": "2022-09-20T18:50:43.346Z"
   },
   {
    "duration": 416,
    "start_time": "2022-09-20T18:50:43.367Z"
   },
   {
    "duration": 291,
    "start_time": "2022-09-20T18:50:43.785Z"
   },
   {
    "duration": 398,
    "start_time": "2022-09-20T18:50:44.078Z"
   },
   {
    "duration": 11,
    "start_time": "2022-09-20T19:04:18.145Z"
   },
   {
    "duration": 55,
    "start_time": "2022-09-20T19:42:26.015Z"
   },
   {
    "duration": 1397,
    "start_time": "2022-09-20T19:52:09.354Z"
   },
   {
    "duration": 3,
    "start_time": "2022-09-20T20:39:43.172Z"
   },
   {
    "duration": 25,
    "start_time": "2022-09-20T20:39:50.085Z"
   },
   {
    "duration": 1296,
    "start_time": "2022-09-21T08:20:39.120Z"
   },
   {
    "duration": 895,
    "start_time": "2022-09-21T08:20:40.418Z"
   },
   {
    "duration": 4,
    "start_time": "2022-09-21T08:20:41.315Z"
   },
   {
    "duration": 312,
    "start_time": "2022-09-21T08:20:41.321Z"
   },
   {
    "duration": 32,
    "start_time": "2022-09-21T08:20:41.635Z"
   },
   {
    "duration": 176,
    "start_time": "2022-09-21T08:20:41.668Z"
   },
   {
    "duration": 52,
    "start_time": "2022-09-21T08:20:41.846Z"
   },
   {
    "duration": 10,
    "start_time": "2022-09-21T08:20:41.900Z"
   },
   {
    "duration": 32,
    "start_time": "2022-09-21T08:20:41.911Z"
   },
   {
    "duration": 3,
    "start_time": "2022-09-21T08:20:41.946Z"
   },
   {
    "duration": 8,
    "start_time": "2022-09-21T08:20:41.950Z"
   },
   {
    "duration": 43,
    "start_time": "2022-09-21T08:20:41.959Z"
   },
   {
    "duration": 1019,
    "start_time": "2022-09-21T08:20:42.004Z"
   },
   {
    "duration": 18,
    "start_time": "2022-09-21T08:20:43.025Z"
   },
   {
    "duration": 501,
    "start_time": "2022-09-21T08:20:43.044Z"
   },
   {
    "duration": 978,
    "start_time": "2022-09-21T08:20:43.547Z"
   },
   {
    "duration": 110,
    "start_time": "2022-09-21T08:20:44.526Z"
   },
   {
    "duration": 11,
    "start_time": "2022-09-21T08:20:44.637Z"
   },
   {
    "duration": 127,
    "start_time": "2022-09-21T08:20:44.650Z"
   },
   {
    "duration": 22,
    "start_time": "2022-09-21T08:20:44.779Z"
   },
   {
    "duration": 997,
    "start_time": "2022-09-21T08:20:44.803Z"
   },
   {
    "duration": 21,
    "start_time": "2022-09-21T08:20:45.802Z"
   },
   {
    "duration": 435,
    "start_time": "2022-09-21T08:20:45.825Z"
   },
   {
    "duration": 333,
    "start_time": "2022-09-21T08:20:46.262Z"
   },
   {
    "duration": 24,
    "start_time": "2022-09-21T08:20:46.597Z"
   },
   {
    "duration": 440,
    "start_time": "2022-09-21T08:20:46.623Z"
   },
   {
    "duration": 1482,
    "start_time": "2022-09-21T08:20:47.064Z"
   },
   {
    "duration": 51,
    "start_time": "2022-09-21T08:20:48.549Z"
   },
   {
    "duration": 27,
    "start_time": "2022-09-21T08:20:48.602Z"
   },
   {
    "duration": 52,
    "start_time": "2022-09-21T18:01:22.322Z"
   },
   {
    "duration": 1424,
    "start_time": "2022-09-21T18:05:32.784Z"
   },
   {
    "duration": 810,
    "start_time": "2022-09-21T18:05:34.210Z"
   },
   {
    "duration": 5,
    "start_time": "2022-09-21T18:05:35.022Z"
   },
   {
    "duration": 358,
    "start_time": "2022-09-21T18:05:35.029Z"
   },
   {
    "duration": 35,
    "start_time": "2022-09-21T18:05:35.389Z"
   },
   {
    "duration": 212,
    "start_time": "2022-09-21T18:05:35.427Z"
   },
   {
    "duration": 52,
    "start_time": "2022-09-21T18:05:35.641Z"
   },
   {
    "duration": 11,
    "start_time": "2022-09-21T18:05:35.695Z"
   },
   {
    "duration": 63,
    "start_time": "2022-09-21T18:05:35.708Z"
   },
   {
    "duration": 4,
    "start_time": "2022-09-21T18:05:35.774Z"
   },
   {
    "duration": 7,
    "start_time": "2022-09-21T18:05:35.780Z"
   },
   {
    "duration": 10,
    "start_time": "2022-09-21T18:05:35.790Z"
   },
   {
    "duration": 1206,
    "start_time": "2022-09-21T18:05:35.802Z"
   },
   {
    "duration": 21,
    "start_time": "2022-09-21T18:05:37.010Z"
   },
   {
    "duration": 552,
    "start_time": "2022-09-21T18:05:37.032Z"
   },
   {
    "duration": 1078,
    "start_time": "2022-09-21T18:05:37.586Z"
   },
   {
    "duration": 124,
    "start_time": "2022-09-21T18:05:38.666Z"
   },
   {
    "duration": 13,
    "start_time": "2022-09-21T18:05:38.792Z"
   },
   {
    "duration": 159,
    "start_time": "2022-09-21T18:05:38.806Z"
   },
   {
    "duration": 17,
    "start_time": "2022-09-21T18:05:38.966Z"
   },
   {
    "duration": 1049,
    "start_time": "2022-09-21T18:05:38.984Z"
   },
   {
    "duration": 20,
    "start_time": "2022-09-21T18:05:40.035Z"
   },
   {
    "duration": 482,
    "start_time": "2022-09-21T18:05:40.057Z"
   },
   {
    "duration": 320,
    "start_time": "2022-09-21T18:05:40.541Z"
   },
   {
    "duration": 16,
    "start_time": "2022-09-21T18:05:40.863Z"
   },
   {
    "duration": 437,
    "start_time": "2022-09-21T18:05:40.881Z"
   },
   {
    "duration": 1766,
    "start_time": "2022-09-21T18:05:41.320Z"
   },
   {
    "duration": 47,
    "start_time": "2022-09-21T18:05:43.089Z"
   },
   {
    "duration": 38,
    "start_time": "2022-09-21T18:05:43.138Z"
   },
   {
    "duration": 11,
    "start_time": "2022-09-21T18:05:43.178Z"
   },
   {
    "duration": 21,
    "start_time": "2022-09-21T18:05:43.191Z"
   },
   {
    "duration": 5,
    "start_time": "2022-09-21T18:24:55.746Z"
   },
   {
    "duration": 6,
    "start_time": "2022-09-21T18:26:25.894Z"
   },
   {
    "duration": 101,
    "start_time": "2022-09-21T18:26:26.421Z"
   },
   {
    "duration": 10,
    "start_time": "2022-09-21T18:26:26.857Z"
   },
   {
    "duration": 15,
    "start_time": "2022-09-21T18:27:00.318Z"
   },
   {
    "duration": 16,
    "start_time": "2022-09-21T18:27:01.190Z"
   },
   {
    "duration": 17,
    "start_time": "2022-09-21T18:27:01.863Z"
   },
   {
    "duration": 1222,
    "start_time": "2022-09-21T19:25:33.140Z"
   },
   {
    "duration": 272,
    "start_time": "2022-09-21T19:25:34.364Z"
   },
   {
    "duration": 4,
    "start_time": "2022-09-21T19:25:34.638Z"
   },
   {
    "duration": 329,
    "start_time": "2022-09-21T19:25:34.645Z"
   },
   {
    "duration": 33,
    "start_time": "2022-09-21T19:25:34.975Z"
   },
   {
    "duration": 175,
    "start_time": "2022-09-21T19:25:35.010Z"
   },
   {
    "duration": 41,
    "start_time": "2022-09-21T19:25:35.187Z"
   },
   {
    "duration": 29,
    "start_time": "2022-09-21T19:25:35.230Z"
   },
   {
    "duration": 32,
    "start_time": "2022-09-21T19:25:35.260Z"
   },
   {
    "duration": 4,
    "start_time": "2022-09-21T19:25:35.294Z"
   },
   {
    "duration": 7,
    "start_time": "2022-09-21T19:25:35.300Z"
   },
   {
    "duration": 9,
    "start_time": "2022-09-21T19:25:35.308Z"
   },
   {
    "duration": 1173,
    "start_time": "2022-09-21T19:25:35.319Z"
   },
   {
    "duration": 23,
    "start_time": "2022-09-21T19:25:36.495Z"
   },
   {
    "duration": 523,
    "start_time": "2022-09-21T19:25:36.553Z"
   },
   {
    "duration": 1072,
    "start_time": "2022-09-21T19:25:37.077Z"
   },
   {
    "duration": 113,
    "start_time": "2022-09-21T19:25:38.154Z"
   },
   {
    "duration": 12,
    "start_time": "2022-09-21T19:25:38.268Z"
   },
   {
    "duration": 147,
    "start_time": "2022-09-21T19:25:38.282Z"
   },
   {
    "duration": 24,
    "start_time": "2022-09-21T19:25:38.431Z"
   },
   {
    "duration": 899,
    "start_time": "2022-09-21T19:25:38.457Z"
   },
   {
    "duration": 19,
    "start_time": "2022-09-21T19:25:39.358Z"
   },
   {
    "duration": 419,
    "start_time": "2022-09-21T19:25:39.379Z"
   },
   {
    "duration": 296,
    "start_time": "2022-09-21T19:25:39.800Z"
   },
   {
    "duration": 14,
    "start_time": "2022-09-21T19:25:40.098Z"
   },
   {
    "duration": 406,
    "start_time": "2022-09-21T19:25:40.113Z"
   },
   {
    "duration": 1713,
    "start_time": "2022-09-21T19:25:40.521Z"
   },
   {
    "duration": 51,
    "start_time": "2022-09-21T19:25:42.237Z"
   },
   {
    "duration": 26,
    "start_time": "2022-09-21T19:25:42.290Z"
   },
   {
    "duration": 9,
    "start_time": "2022-09-21T19:25:42.317Z"
   },
   {
    "duration": 28,
    "start_time": "2022-09-21T19:25:42.328Z"
   },
   {
    "duration": 18,
    "start_time": "2022-09-21T19:25:42.358Z"
   },
   {
    "duration": 14,
    "start_time": "2022-09-21T19:25:42.378Z"
   },
   {
    "duration": 16,
    "start_time": "2022-09-21T19:25:42.393Z"
   },
   {
    "duration": 1333,
    "start_time": "2022-09-21T19:50:03.348Z"
   },
   {
    "duration": 266,
    "start_time": "2022-09-21T19:50:04.684Z"
   },
   {
    "duration": 4,
    "start_time": "2022-09-21T19:50:04.952Z"
   },
   {
    "duration": 341,
    "start_time": "2022-09-21T19:50:04.958Z"
   },
   {
    "duration": 31,
    "start_time": "2022-09-21T19:50:05.301Z"
   },
   {
    "duration": 186,
    "start_time": "2022-09-21T19:50:05.334Z"
   },
   {
    "duration": 60,
    "start_time": "2022-09-21T19:50:05.522Z"
   },
   {
    "duration": 17,
    "start_time": "2022-09-21T19:50:05.584Z"
   },
   {
    "duration": 70,
    "start_time": "2022-09-21T19:50:05.603Z"
   },
   {
    "duration": 3,
    "start_time": "2022-09-21T19:50:05.676Z"
   },
   {
    "duration": 28,
    "start_time": "2022-09-21T19:50:05.681Z"
   },
   {
    "duration": 1067,
    "start_time": "2022-09-21T19:50:05.711Z"
   },
   {
    "duration": 19,
    "start_time": "2022-09-21T19:50:06.780Z"
   },
   {
    "duration": 529,
    "start_time": "2022-09-21T19:50:06.801Z"
   },
   {
    "duration": 1051,
    "start_time": "2022-09-21T19:50:07.333Z"
   },
   {
    "duration": 118,
    "start_time": "2022-09-21T19:50:08.386Z"
   },
   {
    "duration": 13,
    "start_time": "2022-09-21T19:50:08.506Z"
   },
   {
    "duration": 155,
    "start_time": "2022-09-21T19:50:08.521Z"
   },
   {
    "duration": 15,
    "start_time": "2022-09-21T19:50:08.678Z"
   },
   {
    "duration": 966,
    "start_time": "2022-09-21T19:50:08.695Z"
   },
   {
    "duration": 19,
    "start_time": "2022-09-21T19:50:09.663Z"
   },
   {
    "duration": 497,
    "start_time": "2022-09-21T19:50:09.684Z"
   },
   {
    "duration": 309,
    "start_time": "2022-09-21T19:50:10.183Z"
   },
   {
    "duration": 15,
    "start_time": "2022-09-21T19:50:10.493Z"
   },
   {
    "duration": 420,
    "start_time": "2022-09-21T19:50:10.509Z"
   },
   {
    "duration": 1692,
    "start_time": "2022-09-21T19:50:10.931Z"
   },
   {
    "duration": 59,
    "start_time": "2022-09-21T19:50:12.624Z"
   },
   {
    "duration": 29,
    "start_time": "2022-09-21T19:50:12.686Z"
   },
   {
    "duration": 10,
    "start_time": "2022-09-21T19:50:12.717Z"
   },
   {
    "duration": 7,
    "start_time": "2022-09-21T19:50:12.753Z"
   },
   {
    "duration": 22,
    "start_time": "2022-09-21T19:50:12.762Z"
   },
   {
    "duration": 14,
    "start_time": "2022-09-21T19:50:12.785Z"
   },
   {
    "duration": 14,
    "start_time": "2022-09-21T19:50:12.800Z"
   }
  ],
  "kernelspec": {
   "display_name": "Python 3 (ipykernel)",
   "language": "python",
   "name": "python3"
  },
  "language_info": {
   "codemirror_mode": {
    "name": "ipython",
    "version": 3
   },
   "file_extension": ".py",
   "mimetype": "text/x-python",
   "name": "python",
   "nbconvert_exporter": "python",
   "pygments_lexer": "ipython3",
   "version": "3.9.7"
  },
  "toc": {
   "base_numbering": 1,
   "nav_menu": {},
   "number_sections": true,
   "sideBar": true,
   "skip_h1_title": true,
   "title_cell": "Оглавление:",
   "title_sidebar": "Оглавление:",
   "toc_cell": true,
   "toc_position": {
    "height": "calc(100% - 180px)",
    "left": "10px",
    "top": "150px",
    "width": "289.438px"
   },
   "toc_section_display": true,
   "toc_window_display": true
  }
 },
 "nbformat": 4,
 "nbformat_minor": 2
}
